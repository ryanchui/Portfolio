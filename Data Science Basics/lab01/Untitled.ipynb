{
 "cells": [
  {
   "cell_type": "code",
   "execution_count": 1,
   "metadata": {
    "collapsed": true
   },
   "outputs": [],
   "source": [
    "from fractions import Fraction\n",
    "from __future__ import division\n",
    "\n",
    "def P(event, space): \n",
    "    \"The probability of an event, given a sample space of equiprobable outcomes.\"\n",
    "    return Fraction(len(event & space), len(space))"
   ]
  },
  {
   "cell_type": "code",
   "execution_count": 2,
   "metadata": {
    "collapsed": true
   },
   "outputs": [],
   "source": [
    "D = {1, 2, 3, 4, 5, 6}"
   ]
  },
  {
   "cell_type": "code",
   "execution_count": 10,
   "metadata": {
    "collapsed": false
   },
   "outputs": [
    {
     "data": {
      "text/plain": [
       "Fraction(1, 3)"
      ]
     },
     "execution_count": 10,
     "metadata": {},
     "output_type": "execute_result"
    }
   ],
   "source": [
    "even = {2, 4, 6}\n",
    "\n",
    "P(even, D)"
   ]
  },
  {
   "cell_type": "code",
   "execution_count": 18,
   "metadata": {
    "collapsed": false
   },
   "outputs": [
    {
     "data": {
      "text/plain": [
       "{'B1',\n",
       " 'B2',\n",
       " 'B3',\n",
       " 'B4',\n",
       " 'B5',\n",
       " 'B6',\n",
       " 'R1',\n",
       " 'R2',\n",
       " 'R3',\n",
       " 'R4',\n",
       " 'R5',\n",
       " 'R6',\n",
       " 'R7',\n",
       " 'R8',\n",
       " 'R9',\n",
       " 'W1',\n",
       " 'W2',\n",
       " 'W3',\n",
       " 'W4',\n",
       " 'W5',\n",
       " 'W6',\n",
       " 'W7',\n",
       " 'W8'}"
      ]
     },
     "execution_count": 18,
     "metadata": {},
     "output_type": "execute_result"
    }
   ],
   "source": [
    "def cross(A, B):\n",
    "    \"The set of all ways of concatenating one item from the iterable 'A' with one from 'B'.\"\n",
    "    return {a + b \n",
    "            for a in A for b in B}\n",
    "\n",
    "urn = cross('W', '12345678') | cross('B', '123456') | cross('R', '123456789') \n",
    "\n",
    "urn"
   ]
  },
  {
   "cell_type": "code",
   "execution_count": 16,
   "metadata": {
    "collapsed": false
   },
   "outputs": [
    {
     "data": {
      "text/plain": [
       "17"
      ]
     },
     "execution_count": 16,
     "metadata": {},
     "output_type": "execute_result"
    }
   ],
   "source": [
    "len(urn)"
   ]
  },
  {
   "cell_type": "code",
   "execution_count": 19,
   "metadata": {
    "collapsed": false
   },
   "outputs": [
    {
     "data": {
      "text/plain": [
       "100947"
      ]
     },
     "execution_count": 19,
     "metadata": {},
     "output_type": "execute_result"
    }
   ],
   "source": [
    "import itertools\n",
    "\n",
    "U6 = {' '.join(combo)\n",
    "      for combo in itertools.combinations(urn, 6)}\n",
    "\n",
    "len(U6)"
   ]
  },
  {
   "cell_type": "code",
   "execution_count": 22,
   "metadata": {
    "collapsed": false
   },
   "outputs": [
    {
     "data": {
      "text/plain": [
       "['R1 R7 R3 B3 B4 W8',\n",
       " 'B6 R5 W5 B4 W6 B1',\n",
       " 'R2 W4 R1 R3 B1 R8',\n",
       " 'W2 B5 R3 B4 W6 W8',\n",
       " 'W7 R7 W1 B2 R9 R8',\n",
       " 'W7 R1 W5 B3 B2 R8',\n",
       " 'R2 B6 W2 R7 B3 B2',\n",
       " 'R2 R4 W3 B6 R7 B1',\n",
       " 'W2 R3 R6 B2 B1 R9',\n",
       " 'W7 W4 B5 W5 W6 W8']"
      ]
     },
     "execution_count": 22,
     "metadata": {},
     "output_type": "execute_result"
    }
   ],
   "source": [
    "import random\n",
    "\n",
    "random.sample(U6, 10)"
   ]
  },
  {
   "cell_type": "code",
   "execution_count": 23,
   "metadata": {
    "collapsed": true
   },
   "outputs": [],
   "source": [
    "from math import factorial\n",
    "\n",
    "def choose(n, c):\n",
    "    \"Number of ways to choose c items from a list of n items.\"\n",
    "    return factorial(n) // (factorial(n - c) * factorial(c))"
   ]
  },
  {
   "cell_type": "code",
   "execution_count": 24,
   "metadata": {
    "collapsed": false
   },
   "outputs": [
    {
     "data": {
      "text/plain": [
       "100947"
      ]
     },
     "execution_count": 24,
     "metadata": {},
     "output_type": "execute_result"
    }
   ],
   "source": [
    "choose(23, 6)"
   ]
  },
  {
   "cell_type": "code",
   "execution_count": 27,
   "metadata": {
    "collapsed": false
   },
   "outputs": [
    {
     "data": {
      "text/plain": [
       "{'R1 R7 R3 R6 R9 R8',\n",
       " 'R2 R1 R3 R6 R9 R8',\n",
       " 'R2 R1 R7 R3 R6 R8',\n",
       " 'R2 R1 R7 R3 R6 R9',\n",
       " 'R2 R1 R7 R3 R9 R8',\n",
       " 'R2 R1 R7 R6 R9 R8',\n",
       " 'R2 R4 R1 R3 R6 R8',\n",
       " 'R2 R4 R1 R3 R6 R9',\n",
       " 'R2 R4 R1 R3 R9 R8',\n",
       " 'R2 R4 R1 R6 R9 R8',\n",
       " 'R2 R4 R1 R7 R3 R6',\n",
       " 'R2 R4 R1 R7 R3 R8',\n",
       " 'R2 R4 R1 R7 R3 R9',\n",
       " 'R2 R4 R1 R7 R6 R8',\n",
       " 'R2 R4 R1 R7 R6 R9',\n",
       " 'R2 R4 R1 R7 R9 R8',\n",
       " 'R2 R4 R3 R6 R9 R8',\n",
       " 'R2 R4 R5 R1 R3 R6',\n",
       " 'R2 R4 R5 R1 R3 R8',\n",
       " 'R2 R4 R5 R1 R3 R9',\n",
       " 'R2 R4 R5 R1 R6 R8',\n",
       " 'R2 R4 R5 R1 R6 R9',\n",
       " 'R2 R4 R5 R1 R7 R3',\n",
       " 'R2 R4 R5 R1 R7 R6',\n",
       " 'R2 R4 R5 R1 R7 R8',\n",
       " 'R2 R4 R5 R1 R7 R9',\n",
       " 'R2 R4 R5 R1 R9 R8',\n",
       " 'R2 R4 R5 R3 R6 R8',\n",
       " 'R2 R4 R5 R3 R6 R9',\n",
       " 'R2 R4 R5 R3 R9 R8',\n",
       " 'R2 R4 R5 R6 R9 R8',\n",
       " 'R2 R4 R5 R7 R3 R6',\n",
       " 'R2 R4 R5 R7 R3 R8',\n",
       " 'R2 R4 R5 R7 R3 R9',\n",
       " 'R2 R4 R5 R7 R6 R8',\n",
       " 'R2 R4 R5 R7 R6 R9',\n",
       " 'R2 R4 R5 R7 R9 R8',\n",
       " 'R2 R4 R7 R3 R6 R8',\n",
       " 'R2 R4 R7 R3 R6 R9',\n",
       " 'R2 R4 R7 R3 R9 R8',\n",
       " 'R2 R4 R7 R6 R9 R8',\n",
       " 'R2 R5 R1 R3 R6 R8',\n",
       " 'R2 R5 R1 R3 R6 R9',\n",
       " 'R2 R5 R1 R3 R9 R8',\n",
       " 'R2 R5 R1 R6 R9 R8',\n",
       " 'R2 R5 R1 R7 R3 R6',\n",
       " 'R2 R5 R1 R7 R3 R8',\n",
       " 'R2 R5 R1 R7 R3 R9',\n",
       " 'R2 R5 R1 R7 R6 R8',\n",
       " 'R2 R5 R1 R7 R6 R9',\n",
       " 'R2 R5 R1 R7 R9 R8',\n",
       " 'R2 R5 R3 R6 R9 R8',\n",
       " 'R2 R5 R7 R3 R6 R8',\n",
       " 'R2 R5 R7 R3 R6 R9',\n",
       " 'R2 R5 R7 R3 R9 R8',\n",
       " 'R2 R5 R7 R6 R9 R8',\n",
       " 'R2 R7 R3 R6 R9 R8',\n",
       " 'R4 R1 R3 R6 R9 R8',\n",
       " 'R4 R1 R7 R3 R6 R8',\n",
       " 'R4 R1 R7 R3 R6 R9',\n",
       " 'R4 R1 R7 R3 R9 R8',\n",
       " 'R4 R1 R7 R6 R9 R8',\n",
       " 'R4 R5 R1 R3 R6 R8',\n",
       " 'R4 R5 R1 R3 R6 R9',\n",
       " 'R4 R5 R1 R3 R9 R8',\n",
       " 'R4 R5 R1 R6 R9 R8',\n",
       " 'R4 R5 R1 R7 R3 R6',\n",
       " 'R4 R5 R1 R7 R3 R8',\n",
       " 'R4 R5 R1 R7 R3 R9',\n",
       " 'R4 R5 R1 R7 R6 R8',\n",
       " 'R4 R5 R1 R7 R6 R9',\n",
       " 'R4 R5 R1 R7 R9 R8',\n",
       " 'R4 R5 R3 R6 R9 R8',\n",
       " 'R4 R5 R7 R3 R6 R8',\n",
       " 'R4 R5 R7 R3 R6 R9',\n",
       " 'R4 R5 R7 R3 R9 R8',\n",
       " 'R4 R5 R7 R6 R9 R8',\n",
       " 'R4 R7 R3 R6 R9 R8',\n",
       " 'R5 R1 R3 R6 R9 R8',\n",
       " 'R5 R1 R7 R3 R6 R8',\n",
       " 'R5 R1 R7 R3 R6 R9',\n",
       " 'R5 R1 R7 R3 R9 R8',\n",
       " 'R5 R1 R7 R6 R9 R8',\n",
       " 'R5 R7 R3 R6 R9 R8'}"
      ]
     },
     "execution_count": 27,
     "metadata": {},
     "output_type": "execute_result"
    }
   ],
   "source": [
    "red6 = {s for s in U6 if s.count('R') == 6}\n",
    "\n",
    "red6"
   ]
  },
  {
   "cell_type": "code",
   "execution_count": null,
   "metadata": {
    "collapsed": true
   },
   "outputs": [],
   "source": []
  }
 ],
 "metadata": {
  "kernelspec": {
   "display_name": "Python 3",
   "language": "python",
   "name": "python3"
  },
  "language_info": {
   "codemirror_mode": {
    "name": "ipython",
    "version": 3
   },
   "file_extension": ".py",
   "mimetype": "text/x-python",
   "name": "python",
   "nbconvert_exporter": "python",
   "pygments_lexer": "ipython3",
   "version": "3.5.1"
  }
 },
 "nbformat": 4,
 "nbformat_minor": 0
}
