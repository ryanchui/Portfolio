{
 "cells": [
  {
   "cell_type": "markdown",
   "metadata": {},
   "source": [
    "# Homework 5\n",
    "\n",
    "Welcome to homework 5!  This week's homework is about sampling and estimating statistics from samples, plus some review of earlier material on expressions and tables.  You'll do the assignment by completing this notebook, filling in the cells provided. When you’re done:\n",
    "\n",
    "1. Select `Run All` from the `Cell` menu to ensure that you have executed all cells, including the test cells.  Make sure that the visualizations you create are actually displayed.\n",
    "2. Select `Download as PDF via LaTeX (.pdf)` from the `File` menu.  (Sometimes that seems to fail.  If it does, you can download as HTML, open the .html file in your browser, and print it to a PDF.)\n",
    "3. Read that file! If any of your lines are too long and get cut off, we won't be able to see them,\n",
    "   so break them up into multiple lines and download again.\n",
    "4. Submit that downloaded file (called `hw05.pdf`) to Gradescope.\n",
    "\n",
    "If you cannot submit online, come to office hours for assistance. The office hours\n",
    "schedule appears on [data8.org/weekly](http://data8.org/weekly).\n",
    "\n",
    "This assignment is due 5pm Tuesday, March 1. You will receive an early submission bonus point if you turn it in by 5pm Thursday, February 25. Directly sharing answers is not okay, but discussing problems with anyone is encouraged."
   ]
  },
  {
   "cell_type": "markdown",
   "metadata": {},
   "source": [
    "# 0. Preliminaries\n",
    "\n",
    "As usual, **run the cell below** to prepare the lab and the automatic tests. **Passing the automatic tests does not guarantee full credit on any question.** The tests are provided to help catch some common errors, but it is *your* responsibility to answer the questions correctly."
   ]
  },
  {
   "cell_type": "code",
   "execution_count": 1,
   "metadata": {
    "collapsed": false
   },
   "outputs": [
    {
     "name": "stdout",
     "output_type": "stream",
     "text": [
      "=====================================================================\n",
      "Assignment: HW 05\n",
      "OK, version v1.5.1\n",
      "=====================================================================\n",
      "\n"
     ]
    }
   ],
   "source": [
    "# Run this cell, but please don't change it.\n",
    "\n",
    "# These lines import the NumPy and datascience modules.\n",
    "import numpy as np\n",
    "# This way of importing the datascience module lets you write \"Table\" instead\n",
    "# of \"datascience.Table\".  The \"*\" means \"import everything in the module.\"\n",
    "from datascience import *\n",
    "\n",
    "# This line imports a very special module we made for this assignment.\n",
    "from cats_and_boxes import *\n",
    "\n",
    "# These lines set up visualizations.\n",
    "import matplotlib\n",
    "%matplotlib inline\n",
    "import matplotlib.pyplot as plots\n",
    "plots.style.use('fivethirtyeight')\n",
    "import warnings\n",
    "warnings.simplefilter('ignore', FutureWarning)\n",
    "\n",
    "# These lines load the tests.\n",
    "from client.api.assignment import load_assignment \n",
    "hw05 = load_assignment('hw05.ok')"
   ]
  },
  {
   "cell_type": "markdown",
   "metadata": {},
   "source": [
    "# 1. Climate and water\n",
    "To get more practice analyzing data with tables, you'll work with a dataset about climate.  Theory says that land masses near large bodies of water have more moderate temperatures, since the water cools the land when it's hot and warms it when it's cold.  You'll be investigating whether that means places near coastlines have smaller daily temperature fluctuations than places far away from coastlines.\n",
    "\n",
    "The US National Oceanic and Atmospheric Administration (NOAA) operates thousands of weather stations (mostly in the US) that collect information about local climate.  Among other things, each station records the highest and lowest observed temperature each day.  These data, called \"Quality Controlled Local Climatological Data,\" are publicly available [here](http://www.ncdc.noaa.gov/orders/qclcd/) and described [here](https://www.ncdc.noaa.gov/data-access/land-based-station-data/land-based-datasets/quality-controlled-local-climatological-data-qclcd).\n",
    "\n",
    "The dataset consists of 3 tables:\n",
    "* The main dataset is a sample of all the daily readings from 2015.  (There were half a million total readings in the original dataset, but that takes some time to process, so we've sampled it for you.)  These are in a table called `daily_temp.csv`.  Each row corresponds to one day at one station, and includes the maximum and minimum temperature (in degrees Fahrenheit) for that day, the day (in MonthDay format), and an identifier, called a WBAN (Weather Bureau Army Navy) ID, for the station that made the reading.  When you read this into a Table, call it `daily_temp`.\n",
    "* A separate table, called `stations.csv`, contains information about each station.  In particular, it gives the global coordinates (latitude and longitude) of each station, identified by WBAN ID.  Call this Table `stations`.  **Note:** `stations.csv` actually uses the pipe character (\"`|`\") to separate values, rather than commas.  To read it, use `Table.read_table(\"stations.csv\", sep=\"|\")` .\n",
    "* A third table, called `coast_distance.csv`, tells us roughly how far away every place on Earth (to a precision of half a degree latitude/longitude) is from a coastline.  The data come from [a NASA project](http://oceancolor.gsfc.nasa.gov/DOCS/DistFromCoast/).  Call this table `coast_distance`.\n",
    "\n",
    "You will notice that some values are `nan`, which stands for *not a number*. These are values that are missing from the table for some reason. We will not use the columns that have missing values.\n",
    "\n",
    "**Question 1.1.** Use the next cell to load the tables."
   ]
  },
  {
   "cell_type": "code",
   "execution_count": 2,
   "metadata": {
    "collapsed": false
   },
   "outputs": [
    {
     "data": {
      "text/html": [
       "<table border=\"1\" class=\"dataframe\">\n",
       "    <thead>\n",
       "        <tr>\n",
       "            <th>WBAN</th> <th>Tmax</th> <th>Tmin</th> <th>MonthDay</th>\n",
       "        </tr>\n",
       "    </thead>\n",
       "    <tbody>\n",
       "        <tr>\n",
       "            <td>93997</td> <td>25  </td> <td>13  </td> <td>222     </td>\n",
       "        </tr>\n",
       "    </tbody>\n",
       "        <tr>\n",
       "            <td>14938</td> <td>87  </td> <td>69  </td> <td>902     </td>\n",
       "        </tr>\n",
       "    </tbody>\n",
       "        <tr>\n",
       "            <td>3953 </td> <td>89  </td> <td>67  </td> <td>818     </td>\n",
       "        </tr>\n",
       "    </tbody>\n",
       "</table>\n",
       "<p>... (64997 rows omitted)</p"
      ],
      "text/plain": [
       "<IPython.core.display.HTML object>"
      ]
     },
     "metadata": {},
     "output_type": "display_data"
    },
    {
     "data": {
      "text/html": [
       "<table border=\"1\" class=\"dataframe\">\n",
       "    <thead>\n",
       "        <tr>\n",
       "            <th>WBAN</th> <th>WMO</th> <th>CallSign</th> <th>ClimateDivisionCode</th> <th>ClimateDivisionStateCode</th> <th>ClimateDivisionStationCode</th> <th>Name</th> <th>State</th> <th>Location</th> <th>Latitude</th> <th>Longitude</th> <th>GroundHeight</th> <th>StationHeight</th> <th>Barometer</th> <th>TimeZone</th>\n",
       "        </tr>\n",
       "    </thead>\n",
       "    <tbody>\n",
       "        <tr>\n",
       "            <td>100 </td> <td>nan </td> <td>M89     </td> <td>nan                </td> <td>3                       </td> <td>nan                       </td> <td>ARKADELPHIA</td> <td>AR   </td> <td>DEXTER B FLORENCE MEM FLD AP</td> <td>34.0997 </td> <td>-93.0658 </td> <td>182         </td> <td>nan          </td> <td>nan      </td> <td>-6      </td>\n",
       "        </tr>\n",
       "    </tbody>\n",
       "        <tr>\n",
       "            <td>101 </td> <td>nan </td> <td>KQHT    </td> <td>nan                </td> <td>nan                     </td> <td>nan                       </td> <td>BISHKEK    </td> <td>nan  </td> <td>MANAS INTERNATIONAL AIRPORT </td> <td>43.067  </td> <td>74.483   </td> <td>2090        </td> <td>nan          </td> <td>nan      </td> <td>6       </td>\n",
       "        </tr>\n",
       "    </tbody>\n",
       "        <tr>\n",
       "            <td>102 </td> <td>nan </td> <td>IAN     </td> <td>nan                </td> <td>50                      </td> <td>nan                       </td> <td>KIANA      </td> <td>AK   </td> <td>BOB BARKER MEMORIAL AIRPORT </td> <td>66.983  </td> <td>-160.433 </td> <td>168         </td> <td>nan          </td> <td>nan      </td> <td>-9      </td>\n",
       "        </tr>\n",
       "    </tbody>\n",
       "</table>\n",
       "<p>... (2584 rows omitted)</p"
      ],
      "text/plain": [
       "<IPython.core.display.HTML object>"
      ]
     },
     "metadata": {},
     "output_type": "display_data"
    },
    {
     "data": {
      "text/html": [
       "<table border=\"1\" class=\"dataframe\">\n",
       "    <thead>\n",
       "        <tr>\n",
       "            <th>longitude</th> <th>latitude</th> <th>distance to coast (km)</th>\n",
       "        </tr>\n",
       "    </thead>\n",
       "    <tbody>\n",
       "        <tr>\n",
       "            <td>-180     </td> <td>89.5    </td> <td>758.044               </td>\n",
       "        </tr>\n",
       "    </tbody>\n",
       "        <tr>\n",
       "            <td>-179.5   </td> <td>89.5    </td> <td>757.797               </td>\n",
       "        </tr>\n",
       "    </tbody>\n",
       "        <tr>\n",
       "            <td>-179     </td> <td>89.5    </td> <td>757.526               </td>\n",
       "        </tr>\n",
       "    </tbody>\n",
       "</table>\n",
       "<p>... (259197 rows omitted)</p"
      ],
      "text/plain": [
       "<IPython.core.display.HTML object>"
      ]
     },
     "metadata": {},
     "output_type": "display_data"
    }
   ],
   "source": [
    "# Load the 3 tables described above.  Read the note about the special\n",
    "# format of stations.csv.\n",
    "daily_temp = Table.read_table(\"daily_temp.csv\") #SOLUTION\n",
    "stations = Table.read_table(\"stations.csv\", sep=\"|\") #SOLUTION\n",
    "coast_distance = Table.read_table(\"coast_distance.csv\") #SOLUTION\n",
    "daily_temp.show(3)\n",
    "stations.show(3)\n",
    "coast_distance.show(3)"
   ]
  },
  {
   "cell_type": "code",
   "execution_count": 3,
   "metadata": {
    "collapsed": false
   },
   "outputs": [
    {
     "name": "stdout",
     "output_type": "stream",
     "text": [
      "~~~~~~~~~~~~~~~~~~~~~~~~~~~~~~~~~~~~~~~~~~~~~~~~~~~~~~~~~~~~~~~~~~~~~\n",
      "Running tests\n",
      "\n",
      "---------------------------------------------------------------------\n",
      "Test summary\n",
      "    Passed: 4\n",
      "    Failed: 0\n",
      "[ooooooooook] 100.0% passed\n",
      "\n"
     ]
    }
   ],
   "source": [
    "_ = hw05.grade('q11')"
   ]
  },
  {
   "cell_type": "markdown",
   "metadata": {},
   "source": [
    "**Question 1.2.** Choose an appropriate visualization to display the distribution of maximum temperatures across all the daily readings *and* the distribution of minimum temperatures across all the daily readings.  Write code that displays both in the same graph.\n",
    "\n",
    "*Hint:* The visualization methods you've seen allow you to display two columns in one chart by passing a list of labels as the data argument. For example, if `t` is a table and `\"a\"` and `\"b\"` are two of its columns, then `t.hist([\"a\", \"b\"])` makes histograms of both columns in one graph.  Similarly, if `t` is a table, `\"c\"` is a column of categories, and `\"d\"` and `\"e\"` are columns of counts, then `t.barh(\"c\", [\"d\", \"e\"])` makes bar charts of the counts of `\"d\"` and `\"e\"`."
   ]
  },
  {
   "cell_type": "code",
   "execution_count": 21,
   "metadata": {
    "collapsed": false
   },
   "outputs": [
    {
     "data": {
      "text/html": [
       "<table border=\"1\" class=\"dataframe\">\n",
       "    <thead>\n",
       "        <tr>\n",
       "            <th>WBAN</th> <th>Tmax</th> <th>Tmin</th> <th>MonthDay</th>\n",
       "        </tr>\n",
       "    </thead>\n",
       "    <tbody>\n",
       "        <tr>\n",
       "            <td>93997</td> <td>25  </td> <td>13  </td> <td>222     </td>\n",
       "        </tr>\n",
       "    </tbody>\n",
       "        <tr>\n",
       "            <td>14938</td> <td>87  </td> <td>69  </td> <td>902     </td>\n",
       "        </tr>\n",
       "    </tbody>\n",
       "        <tr>\n",
       "            <td>3953 </td> <td>89  </td> <td>67  </td> <td>818     </td>\n",
       "        </tr>\n",
       "    </tbody>\n",
       "        <tr>\n",
       "            <td>93919</td> <td>96  </td> <td>72  </td> <td>814     </td>\n",
       "        </tr>\n",
       "    </tbody>\n",
       "        <tr>\n",
       "            <td>61705</td> <td>79  </td> <td>75  </td> <td>909     </td>\n",
       "        </tr>\n",
       "    </tbody>\n",
       "        <tr>\n",
       "            <td>11640</td> <td>91  </td> <td>81  </td> <td>706     </td>\n",
       "        </tr>\n",
       "    </tbody>\n",
       "        <tr>\n",
       "            <td>93817</td> <td>75  </td> <td>45  </td> <td>522     </td>\n",
       "        </tr>\n",
       "    </tbody>\n",
       "        <tr>\n",
       "            <td>53802</td> <td>84  </td> <td>68  </td> <td>720     </td>\n",
       "        </tr>\n",
       "    </tbody>\n",
       "        <tr>\n",
       "            <td>13996</td> <td>70  </td> <td>39  </td> <td>410     </td>\n",
       "        </tr>\n",
       "    </tbody>\n",
       "        <tr>\n",
       "            <td>14914</td> <td>7   </td> <td>-7  </td> <td>304     </td>\n",
       "        </tr>\n",
       "    </tbody>\n",
       "</table>\n",
       "<p>... (64990 rows omitted)</p"
      ],
      "text/plain": [
       "WBAN  | Tmax | Tmin | MonthDay\n",
       "93997 | 25   | 13   | 222\n",
       "14938 | 87   | 69   | 902\n",
       "3953  | 89   | 67   | 818\n",
       "93919 | 96   | 72   | 814\n",
       "61705 | 79   | 75   | 909\n",
       "11640 | 91   | 81   | 706\n",
       "93817 | 75   | 45   | 522\n",
       "53802 | 84   | 68   | 720\n",
       "13996 | 70   | 39   | 410\n",
       "14914 | 7    | -7   | 304\n",
       "... (64990 rows omitted)"
      ]
     },
     "execution_count": 21,
     "metadata": {},
     "output_type": "execute_result"
    },
    {
     "data": {
      "image/png": "[encoded data removed]",
      "text/plain": [
       "<matplotlib.figure.Figure at 0x7f7a71930860>"
      ]
     },
     "metadata": {},
     "output_type": "display_data"
    }
   ],
   "source": [
    "# Display the distributions of maximum and minimum temperatures.\n",
    "# Use just one graph.\n",
    "daily_temp.hist([\"Tmax\", \"Tmin\"], unit='degree') #SOLUTION\n",
    "daily_temp"
   ]
  },
  {
   "cell_type": "markdown",
   "metadata": {},
   "source": [
    "**Question 1.3.** The temperature spread for a day at a station is the difference between the maximum temperature and minimum temperature at that station for that day.  Make a visualization to display the distribution of temperature spreads for each day.\n",
    "\n",
    "*Hint:* First construct a new column called `spread`, then visualize it."
   ]
  },
  {
   "cell_type": "code",
   "execution_count": 5,
   "metadata": {
    "collapsed": false
   },
   "outputs": [
    {
     "data": {
      "image/png": "[encoded data removed]",
      "text/plain": [
       "<matplotlib.figure.Figure at 0x7f7b17f16cf8>"
      ]
     },
     "metadata": {},
     "output_type": "display_data"
    }
   ],
   "source": [
    "# Display the distribution of daily temperature spreads.\n",
    "daily_temp.with_column(\"spread\", daily_temp.column(1) - daily_temp.column(2)).hist(\"spread\", unit='degree') #SOLUTION"
   ]
  },
  {
   "cell_type": "markdown",
   "metadata": {},
   "source": [
    "Below is another cell to help you visualize the data in the `stations` table.  For each station, it plots a single point, which is that station's latitude/longitude coordinates.  Just run it.  What does it look like?  Can you tell where most of the NOAA stations are located in the world?"
   ]
  },
  {
   "cell_type": "code",
   "execution_count": 6,
   "metadata": {
    "collapsed": false
   },
   "outputs": [
    {
     "data": {
      "image/png": "[encoded data removed]",
      "text/plain": [
       "<matplotlib.figure.Figure at 0x7f7b460b0e10>"
      ]
     },
     "metadata": {},
     "output_type": "display_data"
    }
   ],
   "source": [
    "# Run this cell and try to interpret the scatter diagram it generates.\n",
    "stations.scatter(\"Longitude\", \"Latitude\")"
   ]
  },
  {
   "cell_type": "markdown",
   "metadata": {},
   "source": [
    "Now we're going to see how temperature spread relates to distance from the coast.  `daily_temp` tells us which station each reading came from, but not the distance of that station from a coastline.   `stations` tells us where each station is in the world, but not how far it is from a coastline.  `coast_distance` tells us how far each place in the world is from a coastline.  So this analysis will involve all 3 tables, and it will involve `join`ing them together.  We'll guide you through the steps.\n",
    "\n",
    "First, we want to build a table called `stations_with_distances` that has the WBAN and distance-to-coast for each station in the `stations` table.  We'll do that over the course of the next few questions."
   ]
  },
  {
   "cell_type": "markdown",
   "metadata": {},
   "source": [
    "**Question 1.4.** Look at the first row of the `stations` table, which describes the station at Dexter B. Florence Memorial Field Airport, in the US state of Arkansas.  If you [look it up on a map](http://www.mapdevelopers.com/distance_finder.php?&points=%5B%5B29.80251790576448%2C-93.22998046875%5D%2C%5B34.09865686549439%2C-93.06673049926758%5D%5D), you'll see that this station is about 480 kilometers from the nearest coastline to the South in Louisiana.\n",
    "\n",
    "Find the (approximate) distance-to-coast for this station, looking at the `coast_distance` table manually.  (Instead of looking through the whole table, you might want to use Python code to narrow your search.)  What is that distance?  *More importantly,* how did you find it?"
   ]
  },
  {
   "cell_type": "markdown",
   "metadata": {},
   "source": [
    "*Write your answer here, replacing this text.*"
   ]
  },
  {
   "cell_type": "code",
   "execution_count": 7,
   "metadata": {
    "collapsed": false
   },
   "outputs": [
    {
     "data": {
      "text/html": [
       "<table border=\"1\" class=\"dataframe\">\n",
       "    <thead>\n",
       "        <tr>\n",
       "            <th>longitude</th> <th>latitude</th> <th>distance to coast (km)</th>\n",
       "        </tr>\n",
       "    </thead>\n",
       "    <tbody>\n",
       "        <tr>\n",
       "            <td>-93      </td> <td>34      </td> <td>452.515               </td>\n",
       "        </tr>\n",
       "    </tbody>\n",
       "</table>"
      ],
      "text/plain": [
       "longitude | latitude | distance to coast (km)\n",
       "-93       | 34       | 452.515"
      ]
     },
     "execution_count": 7,
     "metadata": {},
     "output_type": "execute_result"
    }
   ],
   "source": [
    "# Here's a cell for working on Question 1.4, but only the answer above will be scored.\n",
    "coast_distance.where(np.logical_and(coast_distance.column('latitude') == 34, coast_distance.column('longitude') == -93))"
   ]
  },
  {
   "cell_type": "markdown",
   "metadata": {},
   "source": [
    "We're going to use `join` to get Python to perform that process for every station.  Here are two observations that pose obstacles to using `join`:\n",
    "1. The latitudes and longitudes in `coast_distance` are only given to half a degree of precision.  For example, that means there is an entry for (-20, 45.5) (that is, -20 degrees latitude and 45.5 degrees longitude), but not for (-20, 45.6) or (-19.9, 45.5).  By contrast, the latitudes and longitudes in `stations` are given to a precision of ten-thousandths of a degree.  For example, Dexter B. Florence Memorial Field Airport is at (34.0997, -93.0658).\n",
    "2. We have to match each station in `stations` to a row in `coast_distance` that matches both its latitude *and* its longitude.\n",
    "\n",
    "**Question 1.5.** Why is the first observation an obstacle for `join`ing `stations` with `coast_distance`?"
   ]
  },
  {
   "cell_type": "markdown",
   "metadata": {},
   "source": [
    "*Write your answer here, replacing this text.*"
   ]
  },
  {
   "cell_type": "markdown",
   "metadata": {},
   "source": [
    "**Question 1.6.** Why is the second observation an obstacle for `join`ing `stations` with `coast_distance`?"
   ]
  },
  {
   "cell_type": "markdown",
   "metadata": {},
   "source": [
    "*Write your answer here, replacing this text.*"
   ]
  },
  {
   "cell_type": "markdown",
   "metadata": {},
   "source": [
    "Here is how we'll fix these problems:\n",
    "1. We'll round off the coordinates in `stations` to the nearest half-degree.  That way, each station's rounded-off location will exactly match a location in `coast_distance`.  For example, we'll round Dexter B. Florence Memorial Field Airport's coordinates to (34, -93), which exactly matches the coordinates of row 80094 in `coast_distance`.  Hopefully that's the row you matched it to manually in question 1.4!\n",
    "2. Then we'll make a single column called `\"lat,long\"` in both `stations` and `coast_distance` that combines each row's latitude and longitude into a single string.  We'll write functions to do these steps for one entry in our tables, and then we'll use `apply` to fix all the data at once.\n",
    "\n",
    "(*Note:* You might worry that rounding the stations' coordinates will change their distance-to-coast.  They will be off by a little bit, but that's okay.  For an extra challenge, try to figure out how much error we might be introducing.)"
   ]
  },
  {
   "cell_type": "markdown",
   "metadata": {},
   "source": [
    "**Question 1.7.** The following function is useful for one of the two steps.  Its argument is a single number, and it returns a number.  Describe what it does. If you're not sure, try calling it on various numbers such as 3, 3.1415, and 0.31415.\n",
    "\n",
    "*Hint:* Remember that `round` rounds a number to the nearest integer."
   ]
  },
  {
   "cell_type": "code",
   "execution_count": 8,
   "metadata": {
    "collapsed": true
   },
   "outputs": [],
   "source": [
    "def mysterious_function(num):\n",
    "    return round(2 * num) / 2"
   ]
  },
  {
   "cell_type": "markdown",
   "metadata": {
    "collapsed": true
   },
   "source": [
    "*Describe what `mysterious_function` does, replacing this text.*"
   ]
  },
  {
   "cell_type": "markdown",
   "metadata": {},
   "source": [
    "**Question 1.8.** Write a function called `append_numbers` that takes two numbers as its arguments and returns the string `\"<first number>,<second number>\"`.  For example, the value of `append_numbers(1.5, -2.0)` should be the string `\"1.5,-2.0\"`.  (We're just using double-quotes to delimit the string; the return value of `append_numbers` shouldn't include any actual quote characters.  Also, note the comma in between the numbers.)\n",
    "\n",
    "*Hint 1:* Remember the `str` function, which converts a number to a string that looks like that number.\n",
    "\n",
    "*Hint 2:* Adding two or more strings together with `+` appends them together.  For example, `\"port\" + \"able\"` is `\"portable\"`."
   ]
  },
  {
   "cell_type": "code",
   "execution_count": 9,
   "metadata": {
    "collapsed": true
   },
   "outputs": [],
   "source": [
    "def append_numbers(num1, num2):\n",
    "    return str(num1) + \",\" + str(num2) # SOLUTION"
   ]
  },
  {
   "cell_type": "code",
   "execution_count": 10,
   "metadata": {
    "collapsed": false
   },
   "outputs": [
    {
     "name": "stdout",
     "output_type": "stream",
     "text": [
      "~~~~~~~~~~~~~~~~~~~~~~~~~~~~~~~~~~~~~~~~~~~~~~~~~~~~~~~~~~~~~~~~~~~~~\n",
      "Running tests\n",
      "\n",
      "---------------------------------------------------------------------\n",
      "Test summary\n",
      "    Passed: 2\n",
      "    Failed: 0\n",
      "[ooooooooook] 100.0% passed\n",
      "\n"
     ]
    }
   ],
   "source": [
    "_ = hw05.grade('q18')"
   ]
  },
  {
   "cell_type": "markdown",
   "metadata": {},
   "source": [
    "**Question 1.9.** Create two new columns from `stations` called `Rounded Latitude` and `Rounded Longitude`, the result of rounding each latitude and longitude in `stations`, respectively.  Extend `stations` with these columns, calling the resulting table `stations_rounded`."
   ]
  },
  {
   "cell_type": "code",
   "execution_count": 11,
   "metadata": {
    "collapsed": false
   },
   "outputs": [
    {
     "data": {
      "text/html": [
       "<table border=\"1\" class=\"dataframe\">\n",
       "    <thead>\n",
       "        <tr>\n",
       "            <th>WBAN</th> <th>WMO</th> <th>CallSign</th> <th>ClimateDivisionCode</th> <th>ClimateDivisionStateCode</th> <th>ClimateDivisionStationCode</th> <th>Name</th> <th>State</th> <th>Location</th> <th>Latitude</th> <th>Longitude</th> <th>GroundHeight</th> <th>StationHeight</th> <th>Barometer</th> <th>TimeZone</th> <th>Rounded Latitude</th> <th>Rounded Longitude</th>\n",
       "        </tr>\n",
       "    </thead>\n",
       "    <tbody>\n",
       "        <tr>\n",
       "            <td>100 </td> <td>nan </td> <td>M89     </td> <td>nan                </td> <td>3                       </td> <td>nan                       </td> <td>ARKADELPHIA </td> <td>AR   </td> <td>DEXTER B FLORENCE MEM FLD AP  </td> <td>34.0997 </td> <td>-93.0658 </td> <td>182         </td> <td>nan          </td> <td>nan      </td> <td>-6      </td> <td>34              </td> <td>-93              </td>\n",
       "        </tr>\n",
       "    </tbody>\n",
       "        <tr>\n",
       "            <td>101 </td> <td>nan </td> <td>KQHT    </td> <td>nan                </td> <td>nan                     </td> <td>nan                       </td> <td>BISHKEK     </td> <td>nan  </td> <td>MANAS INTERNATIONAL AIRPORT   </td> <td>43.067  </td> <td>74.483   </td> <td>2090        </td> <td>nan          </td> <td>nan      </td> <td>6       </td> <td>43              </td> <td>74.5             </td>\n",
       "        </tr>\n",
       "    </tbody>\n",
       "        <tr>\n",
       "            <td>102 </td> <td>nan </td> <td>IAN     </td> <td>nan                </td> <td>50                      </td> <td>nan                       </td> <td>KIANA       </td> <td>AK   </td> <td>BOB BARKER MEMORIAL AIRPORT   </td> <td>66.983  </td> <td>-160.433 </td> <td>168         </td> <td>nan          </td> <td>nan      </td> <td>-9      </td> <td>67              </td> <td>-160.5           </td>\n",
       "        </tr>\n",
       "    </tbody>\n",
       "        <tr>\n",
       "            <td>103 </td> <td>nan </td> <td>IWK     </td> <td>nan                </td> <td>50                      </td> <td>nan                       </td> <td>WALES       </td> <td>AK   </td> <td>WALES AIRPORT                 </td> <td>65.617  </td> <td>-168.1   </td> <td>23          </td> <td>nan          </td> <td>nan      </td> <td>-9      </td> <td>65.5            </td> <td>-168             </td>\n",
       "        </tr>\n",
       "    </tbody>\n",
       "        <tr>\n",
       "            <td>104 </td> <td>nan </td> <td>FSP     </td> <td>nan                </td> <td>50                      </td> <td>nan                       </td> <td>NIKOLAI     </td> <td>AK   </td> <td>NIKOLAI AIRPORT               </td> <td>63.017  </td> <td>-154.367 </td> <td>414         </td> <td>nan          </td> <td>nan      </td> <td>-9      </td> <td>63              </td> <td>-154.5           </td>\n",
       "        </tr>\n",
       "    </tbody>\n",
       "        <tr>\n",
       "            <td>105 </td> <td>nan </td> <td>MDM     </td> <td>nan                </td> <td>50                      </td> <td>nan                       </td> <td>MARSHALL    </td> <td>AK   </td> <td>MARSHALL DON HUNTER SR AIRPORT</td> <td>61.867  </td> <td>-162.033 </td> <td>102         </td> <td>nan          </td> <td>nan      </td> <td>-9      </td> <td>62              </td> <td>-162             </td>\n",
       "        </tr>\n",
       "    </tbody>\n",
       "        <tr>\n",
       "            <td>106 </td> <td>nan </td> <td>IIK     </td> <td>nan                </td> <td>50                      </td> <td>nan                       </td> <td>AKIAK       </td> <td>AK   </td> <td>KIPNUK AIRPORT                </td> <td>60.9    </td> <td>-161.233 </td> <td>30          </td> <td>nan          </td> <td>nan      </td> <td>-9      </td> <td>61              </td> <td>-161             </td>\n",
       "        </tr>\n",
       "    </tbody>\n",
       "        <tr>\n",
       "            <td>107 </td> <td>nan </td> <td>KNW     </td> <td>nan                </td> <td>50                      </td> <td>nan                       </td> <td>NEW STUYAHOK</td> <td>AK   </td> <td>NEW STUYAHOK AIRPORT          </td> <td>59.45   </td> <td>-157.333 </td> <td>302         </td> <td>nan          </td> <td>nan      </td> <td>-9      </td> <td>59.5            </td> <td>-157.5           </td>\n",
       "        </tr>\n",
       "    </tbody>\n",
       "        <tr>\n",
       "            <td>108 </td> <td>nan </td> <td>SCM     </td> <td>nan                </td> <td>50                      </td> <td>nan                       </td> <td>SCAMMON BAY </td> <td>AK   </td> <td>SCAMMON BAY AIRPORT           </td> <td>61.85   </td> <td>-165.567 </td> <td>14          </td> <td>nan          </td> <td>nan      </td> <td>-9      </td> <td>62              </td> <td>-165.5           </td>\n",
       "        </tr>\n",
       "    </tbody>\n",
       "        <tr>\n",
       "            <td>109 </td> <td>nan </td> <td>MBA     </td> <td>nan                </td> <td>50                      </td> <td>nan                       </td> <td>MANOKOTAK   </td> <td>AK   </td> <td>MANOKOTAK AIRPORT             </td> <td>58.983  </td> <td>-159.05  </td> <td>52          </td> <td>nan          </td> <td>nan      </td> <td>-9      </td> <td>59              </td> <td>-159             </td>\n",
       "        </tr>\n",
       "    </tbody>\n",
       "</table>\n",
       "<p>... (2577 rows omitted)</p"
      ],
      "text/plain": [
       "WBAN | WMO  | CallSign | ClimateDivisionCode | ClimateDivisionStateCode | ClimateDivisionStationCode | Name         | State | Location                       | Latitude | Longitude | GroundHeight | StationHeight | Barometer | TimeZone | Rounded Latitude | Rounded Longitude\n",
       "100  | nan  | M89      | nan                 | 3                        | nan                        | ARKADELPHIA  | AR    | DEXTER B FLORENCE MEM FLD AP   | 34.0997  | -93.0658  | 182          | nan           | nan       | -6       | 34               | -93\n",
       "101  | nan  | KQHT     | nan                 | nan                      | nan                        | BISHKEK      | nan   | MANAS INTERNATIONAL AIRPORT    | 43.067   | 74.483    | 2090         | nan           | nan       | 6        | 43               | 74.5\n",
       "102  | nan  | IAN      | nan                 | 50                       | nan                        | KIANA        | AK    | BOB BARKER MEMORIAL AIRPORT    | 66.983   | -160.433  | 168          | nan           | nan       | -9       | 67               | -160.5\n",
       "103  | nan  | IWK      | nan                 | 50                       | nan                        | WALES        | AK    | WALES AIRPORT                  | 65.617   | -168.1    | 23           | nan           | nan       | -9       | 65.5             | -168\n",
       "104  | nan  | FSP      | nan                 | 50                       | nan                        | NIKOLAI      | AK    | NIKOLAI AIRPORT                | 63.017   | -154.367  | 414          | nan           | nan       | -9       | 63               | -154.5\n",
       "105  | nan  | MDM      | nan                 | 50                       | nan                        | MARSHALL     | AK    | MARSHALL DON HUNTER SR AIRPORT | 61.867   | -162.033  | 102          | nan           | nan       | -9       | 62               | -162\n",
       "106  | nan  | IIK      | nan                 | 50                       | nan                        | AKIAK        | AK    | KIPNUK AIRPORT                 | 60.9     | -161.233  | 30           | nan           | nan       | -9       | 61               | -161\n",
       "107  | nan  | KNW      | nan                 | 50                       | nan                        | NEW STUYAHOK | AK    | NEW STUYAHOK AIRPORT           | 59.45    | -157.333  | 302          | nan           | nan       | -9       | 59.5             | -157.5\n",
       "108  | nan  | SCM      | nan                 | 50                       | nan                        | SCAMMON BAY  | AK    | SCAMMON BAY AIRPORT            | 61.85    | -165.567  | 14           | nan           | nan       | -9       | 62               | -165.5\n",
       "109  | nan  | MBA      | nan                 | 50                       | nan                        | MANOKOTAK    | AK    | MANOKOTAK AIRPORT              | 58.983   | -159.05   | 52           | nan           | nan       | -9       | 59               | -159\n",
       "... (2577 rows omitted)"
      ]
     },
     "execution_count": 11,
     "metadata": {},
     "output_type": "execute_result"
    }
   ],
   "source": [
    "stations_rounded = stations.with_columns([\n",
    "        \"Rounded Latitude\", \n",
    "        stations.apply(mysterious_function, \"Latitude\"), # SOLUTION\n",
    "        \"Rounded Longitude\", \n",
    "        stations.apply(mysterious_function, \"Longitude\") # SOLUTION\n",
    "    ])\n",
    "stations_rounded"
   ]
  },
  {
   "cell_type": "code",
   "execution_count": 12,
   "metadata": {
    "collapsed": false
   },
   "outputs": [
    {
     "name": "stdout",
     "output_type": "stream",
     "text": [
      "~~~~~~~~~~~~~~~~~~~~~~~~~~~~~~~~~~~~~~~~~~~~~~~~~~~~~~~~~~~~~~~~~~~~~\n",
      "Running tests\n",
      "\n",
      "---------------------------------------------------------------------\n",
      "Test summary\n",
      "    Passed: 2\n",
      "    Failed: 0\n",
      "[ooooooooook] 100.0% passed\n",
      "\n"
     ]
    }
   ],
   "source": [
    "_ = hw05.grade('q19')"
   ]
  },
  {
   "cell_type": "markdown",
   "metadata": {},
   "source": [
    "**Question 1.10.** Create a new column from `stations_rounded` called `lat,long` that is the result of appending the rounded latitudes and longitudes with `append_numbers`.  Extend `stations_rounded` with this column.  Do the same for the latitudes and longitudes in `coast_distance`.\n",
    "\n",
    "*Hint:* `apply` can combine two or more columns by saying, for example, `my_table.apply(two_arg_function, [\"a_column\", \"another_column\"])`.  That will return a single array, which is the result of applying `two_arg_function` to each pair of elements in the columns `\"a_column\"` and `\"another_column\"`.\n",
    "\n",
    "*Hint 2:* Be careful about capitalization of labels. The labels `\"Latitude\"` and `\"latitude\"` both appear in different tables."
   ]
  },
  {
   "cell_type": "code",
   "execution_count": 13,
   "metadata": {
    "collapsed": false
   },
   "outputs": [
    {
     "data": {
      "text/html": [
       "<table border=\"1\" class=\"dataframe\">\n",
       "    <thead>\n",
       "        <tr>\n",
       "            <th>WBAN</th> <th>WMO</th> <th>CallSign</th> <th>ClimateDivisionCode</th> <th>ClimateDivisionStateCode</th> <th>ClimateDivisionStationCode</th> <th>Name</th> <th>State</th> <th>Location</th> <th>Latitude</th> <th>Longitude</th> <th>GroundHeight</th> <th>StationHeight</th> <th>Barometer</th> <th>TimeZone</th> <th>Rounded Latitude</th> <th>Rounded Longitude</th>\n",
       "        </tr>\n",
       "    </thead>\n",
       "    <tbody>\n",
       "        <tr>\n",
       "            <td>100 </td> <td>nan </td> <td>M89     </td> <td>nan                </td> <td>3                       </td> <td>nan                       </td> <td>ARKADELPHIA </td> <td>AR   </td> <td>DEXTER B FLORENCE MEM FLD AP  </td> <td>34.0997 </td> <td>-93.0658 </td> <td>182         </td> <td>nan          </td> <td>nan      </td> <td>-6      </td> <td>34              </td> <td>-93              </td>\n",
       "        </tr>\n",
       "    </tbody>\n",
       "        <tr>\n",
       "            <td>101 </td> <td>nan </td> <td>KQHT    </td> <td>nan                </td> <td>nan                     </td> <td>nan                       </td> <td>BISHKEK     </td> <td>nan  </td> <td>MANAS INTERNATIONAL AIRPORT   </td> <td>43.067  </td> <td>74.483   </td> <td>2090        </td> <td>nan          </td> <td>nan      </td> <td>6       </td> <td>43              </td> <td>74.5             </td>\n",
       "        </tr>\n",
       "    </tbody>\n",
       "        <tr>\n",
       "            <td>102 </td> <td>nan </td> <td>IAN     </td> <td>nan                </td> <td>50                      </td> <td>nan                       </td> <td>KIANA       </td> <td>AK   </td> <td>BOB BARKER MEMORIAL AIRPORT   </td> <td>66.983  </td> <td>-160.433 </td> <td>168         </td> <td>nan          </td> <td>nan      </td> <td>-9      </td> <td>67              </td> <td>-160.5           </td>\n",
       "        </tr>\n",
       "    </tbody>\n",
       "        <tr>\n",
       "            <td>103 </td> <td>nan </td> <td>IWK     </td> <td>nan                </td> <td>50                      </td> <td>nan                       </td> <td>WALES       </td> <td>AK   </td> <td>WALES AIRPORT                 </td> <td>65.617  </td> <td>-168.1   </td> <td>23          </td> <td>nan          </td> <td>nan      </td> <td>-9      </td> <td>65.5            </td> <td>-168             </td>\n",
       "        </tr>\n",
       "    </tbody>\n",
       "        <tr>\n",
       "            <td>104 </td> <td>nan </td> <td>FSP     </td> <td>nan                </td> <td>50                      </td> <td>nan                       </td> <td>NIKOLAI     </td> <td>AK   </td> <td>NIKOLAI AIRPORT               </td> <td>63.017  </td> <td>-154.367 </td> <td>414         </td> <td>nan          </td> <td>nan      </td> <td>-9      </td> <td>63              </td> <td>-154.5           </td>\n",
       "        </tr>\n",
       "    </tbody>\n",
       "        <tr>\n",
       "            <td>105 </td> <td>nan </td> <td>MDM     </td> <td>nan                </td> <td>50                      </td> <td>nan                       </td> <td>MARSHALL    </td> <td>AK   </td> <td>MARSHALL DON HUNTER SR AIRPORT</td> <td>61.867  </td> <td>-162.033 </td> <td>102         </td> <td>nan          </td> <td>nan      </td> <td>-9      </td> <td>62              </td> <td>-162             </td>\n",
       "        </tr>\n",
       "    </tbody>\n",
       "        <tr>\n",
       "            <td>106 </td> <td>nan </td> <td>IIK     </td> <td>nan                </td> <td>50                      </td> <td>nan                       </td> <td>AKIAK       </td> <td>AK   </td> <td>KIPNUK AIRPORT                </td> <td>60.9    </td> <td>-161.233 </td> <td>30          </td> <td>nan          </td> <td>nan      </td> <td>-9      </td> <td>61              </td> <td>-161             </td>\n",
       "        </tr>\n",
       "    </tbody>\n",
       "        <tr>\n",
       "            <td>107 </td> <td>nan </td> <td>KNW     </td> <td>nan                </td> <td>50                      </td> <td>nan                       </td> <td>NEW STUYAHOK</td> <td>AK   </td> <td>NEW STUYAHOK AIRPORT          </td> <td>59.45   </td> <td>-157.333 </td> <td>302         </td> <td>nan          </td> <td>nan      </td> <td>-9      </td> <td>59.5            </td> <td>-157.5           </td>\n",
       "        </tr>\n",
       "    </tbody>\n",
       "        <tr>\n",
       "            <td>108 </td> <td>nan </td> <td>SCM     </td> <td>nan                </td> <td>50                      </td> <td>nan                       </td> <td>SCAMMON BAY </td> <td>AK   </td> <td>SCAMMON BAY AIRPORT           </td> <td>61.85   </td> <td>-165.567 </td> <td>14          </td> <td>nan          </td> <td>nan      </td> <td>-9      </td> <td>62              </td> <td>-165.5           </td>\n",
       "        </tr>\n",
       "    </tbody>\n",
       "        <tr>\n",
       "            <td>109 </td> <td>nan </td> <td>MBA     </td> <td>nan                </td> <td>50                      </td> <td>nan                       </td> <td>MANOKOTAK   </td> <td>AK   </td> <td>MANOKOTAK AIRPORT             </td> <td>58.983  </td> <td>-159.05  </td> <td>52          </td> <td>nan          </td> <td>nan      </td> <td>-9      </td> <td>59              </td> <td>-159             </td>\n",
       "        </tr>\n",
       "    </tbody>\n",
       "</table>\n",
       "<p>... (2577 rows omitted)</p"
      ],
      "text/plain": [
       "WBAN | WMO  | CallSign | ClimateDivisionCode | ClimateDivisionStateCode | ClimateDivisionStationCode | Name         | State | Location                       | Latitude | Longitude | GroundHeight | StationHeight | Barometer | TimeZone | Rounded Latitude | Rounded Longitude\n",
       "100  | nan  | M89      | nan                 | 3                        | nan                        | ARKADELPHIA  | AR    | DEXTER B FLORENCE MEM FLD AP   | 34.0997  | -93.0658  | 182          | nan           | nan       | -6       | 34               | -93\n",
       "101  | nan  | KQHT     | nan                 | nan                      | nan                        | BISHKEK      | nan   | MANAS INTERNATIONAL AIRPORT    | 43.067   | 74.483    | 2090         | nan           | nan       | 6        | 43               | 74.5\n",
       "102  | nan  | IAN      | nan                 | 50                       | nan                        | KIANA        | AK    | BOB BARKER MEMORIAL AIRPORT    | 66.983   | -160.433  | 168          | nan           | nan       | -9       | 67               | -160.5\n",
       "103  | nan  | IWK      | nan                 | 50                       | nan                        | WALES        | AK    | WALES AIRPORT                  | 65.617   | -168.1    | 23           | nan           | nan       | -9       | 65.5             | -168\n",
       "104  | nan  | FSP      | nan                 | 50                       | nan                        | NIKOLAI      | AK    | NIKOLAI AIRPORT                | 63.017   | -154.367  | 414          | nan           | nan       | -9       | 63               | -154.5\n",
       "105  | nan  | MDM      | nan                 | 50                       | nan                        | MARSHALL     | AK    | MARSHALL DON HUNTER SR AIRPORT | 61.867   | -162.033  | 102          | nan           | nan       | -9       | 62               | -162\n",
       "106  | nan  | IIK      | nan                 | 50                       | nan                        | AKIAK        | AK    | KIPNUK AIRPORT                 | 60.9     | -161.233  | 30           | nan           | nan       | -9       | 61               | -161\n",
       "107  | nan  | KNW      | nan                 | 50                       | nan                        | NEW STUYAHOK | AK    | NEW STUYAHOK AIRPORT           | 59.45    | -157.333  | 302          | nan           | nan       | -9       | 59.5             | -157.5\n",
       "108  | nan  | SCM      | nan                 | 50                       | nan                        | SCAMMON BAY  | AK    | SCAMMON BAY AIRPORT            | 61.85    | -165.567  | 14           | nan           | nan       | -9       | 62               | -165.5\n",
       "109  | nan  | MBA      | nan                 | 50                       | nan                        | MANOKOTAK    | AK    | MANOKOTAK AIRPORT              | 58.983   | -159.05   | 52           | nan           | nan       | -9       | 59               | -159\n",
       "... (2577 rows omitted)"
      ]
     },
     "execution_count": 13,
     "metadata": {},
     "output_type": "execute_result"
    }
   ],
   "source": [
    "# stations_rounded_lat_long = stations_rounded.apply(append_numbers,[\"Rounded Latitude\",\"Rounded Longitude\"])\n",
    "# stations_rounded.append_column(\"lat,long\", stations_rounded_lat_long) # Adds a column to stations_rounded\n",
    "# # # Make this the column you want to add to coast_distance (that is,\n",
    "# # # an array of \"<latitude>,<longitude>\" strings. The line of code\n",
    "# # # after this one will add it to coast_distance for you.\n",
    "# # coast_distance_lat_long = coast_distance.apply(append_numbers,\n",
    "# # [\"latitude\",\"longitude\"])\n",
    "# # coast_distance.append_column(\"lat,long\", coast_distance_lat_long) # Adds a column to coast_distance\n",
    "\n",
    "stations_rounded"
   ]
  },
  {
   "cell_type": "code",
   "execution_count": 14,
   "metadata": {
    "collapsed": false
   },
   "outputs": [
    {
     "name": "stdout",
     "output_type": "stream",
     "text": [
      "~~~~~~~~~~~~~~~~~~~~~~~~~~~~~~~~~~~~~~~~~~~~~~~~~~~~~~~~~~~~~~~~~~~~~\n",
      "Running tests\n",
      "\n",
      "---------------------------------------------------------------------\n",
      "Question > Suite 1 > Case 1\n",
      "\n",
      ">>> stations_rounded.column('lat,long').item(1) == append_numbers(stations_rounded.column('Rounded Latitude').item(1), stations_rounded.column('Rounded Longitude').item(1))\n",
      "Traceback (most recent call last):\n",
      "  File \"/opt/conda/lib/python3.4/site-packages/datascience/tables.py\", line 267, in column\n",
      "    return self._columns[self._as_label(index_or_label)]\n",
      "KeyError: 'lat,long'\n",
      "\n",
      "# Error: expected\n",
      "#     True\n",
      "# but got\n",
      "#     KeyError\n",
      "\n",
      "---------------------------------------------------------------------\n",
      "Test summary\n",
      "    Passed: 0\n",
      "    Failed: 1\n",
      "[k..........] 0.0% passed\n",
      "\n"
     ]
    }
   ],
   "source": [
    "_ = hw05.grade('q110')"
   ]
  },
  {
   "cell_type": "markdown",
   "metadata": {},
   "source": [
    "**Question 1.11.** Now we're ready to join!  Create a new table called `stations_with_distances` that extends `stations_rounded` with a column of distances to the nearest coastline.  That column should be called `\"distance to coast (km)\"`.  Use `join`. The result will take a minute to compute."
   ]
  },
  {
   "cell_type": "code",
   "execution_count": 15,
   "metadata": {
    "collapsed": false
   },
   "outputs": [
    {
     "ename": "ValueError",
     "evalue": "label \"lat,long\" not in labels ('WBAN', 'WMO', 'CallSign', 'ClimateDivisionCode', 'ClimateDivisionStateCode', 'ClimateDivisionStationCode', 'Name', 'State', 'Location', 'Latitude', 'Longitude', 'GroundHeight', 'StationHeight', 'Barometer', 'TimeZone', 'Rounded Latitude', 'Rounded Longitude')",
     "output_type": "error",
     "traceback": [
      "\u001b[1;31m---------------------------------------------------------------------------\u001b[0m",
      "\u001b[1;31mValueError\u001b[0m                                Traceback (most recent call last)",
      "\u001b[1;32m<ipython-input-15-2259ee8b47c5>\u001b[0m in \u001b[0;36m<module>\u001b[1;34m()\u001b[0m\n\u001b[1;32m----> 1\u001b[1;33m \u001b[0mstations_with_distances\u001b[0m \u001b[1;33m=\u001b[0m \u001b[0mstations_rounded\u001b[0m\u001b[1;33m.\u001b[0m\u001b[0mjoin\u001b[0m\u001b[1;33m(\u001b[0m\u001b[1;34m\"lat,long\"\u001b[0m\u001b[1;33m,\u001b[0m \u001b[0mcoast_distance\u001b[0m\u001b[1;33m)\u001b[0m \u001b[1;31m# SOLUTION\u001b[0m\u001b[1;33m\u001b[0m\u001b[0m\n\u001b[0m\u001b[0;32m      2\u001b[0m \u001b[0mstations_with_distances\u001b[0m\u001b[1;33m\u001b[0m\u001b[0m\n",
      "\u001b[1;32m/opt/conda/lib/python3.4/site-packages/datascience/tables.py\u001b[0m in \u001b[0;36mjoin\u001b[1;34m(self, column_label, other, other_label)\u001b[0m\n\u001b[0;32m   1027\u001b[0m             \u001b[0mother_label\u001b[0m \u001b[1;33m=\u001b[0m \u001b[0mcolumn_label\u001b[0m\u001b[1;33m\u001b[0m\u001b[0m\n\u001b[0;32m   1028\u001b[0m \u001b[1;33m\u001b[0m\u001b[0m\n\u001b[1;32m-> 1029\u001b[1;33m         \u001b[0mself_rows\u001b[0m \u001b[1;33m=\u001b[0m \u001b[0mself\u001b[0m\u001b[1;33m.\u001b[0m\u001b[0mindex_by\u001b[0m\u001b[1;33m(\u001b[0m\u001b[0mcolumn_label\u001b[0m\u001b[1;33m)\u001b[0m\u001b[1;33m\u001b[0m\u001b[0m\n\u001b[0m\u001b[0;32m   1030\u001b[0m         \u001b[0mother_rows\u001b[0m \u001b[1;33m=\u001b[0m \u001b[0mother\u001b[0m\u001b[1;33m.\u001b[0m\u001b[0mindex_by\u001b[0m\u001b[1;33m(\u001b[0m\u001b[0mother_label\u001b[0m\u001b[1;33m)\u001b[0m\u001b[1;33m\u001b[0m\u001b[0m\n\u001b[0;32m   1031\u001b[0m \u001b[1;33m\u001b[0m\u001b[0m\n",
      "\u001b[1;32m/opt/conda/lib/python3.4/site-packages/datascience/tables.py\u001b[0m in \u001b[0;36mindex_by\u001b[1;34m(self, column_or_label)\u001b[0m\n\u001b[0;32m   1517\u001b[0m         \u001b[0mrows\u001b[0m \u001b[0mcorresponding\u001b[0m \u001b[0mto\u001b[0m \u001b[0meach\u001b[0m \u001b[0mvalue\u001b[0m\u001b[1;33m.\u001b[0m\u001b[1;33m\u001b[0m\u001b[0m\n\u001b[0;32m   1518\u001b[0m         \"\"\"\n\u001b[1;32m-> 1519\u001b[1;33m         \u001b[0mcolumn\u001b[0m \u001b[1;33m=\u001b[0m \u001b[0mself\u001b[0m\u001b[1;33m.\u001b[0m\u001b[0m_get_column\u001b[0m\u001b[1;33m(\u001b[0m\u001b[0mcolumn_or_label\u001b[0m\u001b[1;33m)\u001b[0m\u001b[1;33m\u001b[0m\u001b[0m\n\u001b[0m\u001b[0;32m   1520\u001b[0m         \u001b[0mindex\u001b[0m \u001b[1;33m=\u001b[0m \u001b[1;33m{\u001b[0m\u001b[1;33m}\u001b[0m\u001b[1;33m\u001b[0m\u001b[0m\n\u001b[0;32m   1521\u001b[0m         \u001b[1;32mfor\u001b[0m \u001b[0mkey\u001b[0m\u001b[1;33m,\u001b[0m \u001b[0mrow\u001b[0m \u001b[1;32min\u001b[0m \u001b[0mzip\u001b[0m\u001b[1;33m(\u001b[0m\u001b[0mcolumn\u001b[0m\u001b[1;33m,\u001b[0m \u001b[0mself\u001b[0m\u001b[1;33m.\u001b[0m\u001b[0mrows\u001b[0m\u001b[1;33m)\u001b[0m\u001b[1;33m:\u001b[0m\u001b[1;33m\u001b[0m\u001b[0m\n",
      "\u001b[1;32m/opt/conda/lib/python3.4/site-packages/datascience/tables.py\u001b[0m in \u001b[0;36m_get_column\u001b[1;34m(self, column_or_label)\u001b[0m\n\u001b[0;32m   1087\u001b[0m             \u001b[1;32mreturn\u001b[0m \u001b[0mself\u001b[0m\u001b[1;33m[\u001b[0m\u001b[0mc\u001b[0m\u001b[1;33m]\u001b[0m\u001b[1;33m\u001b[0m\u001b[0m\n\u001b[0;32m   1088\u001b[0m         \u001b[1;32melif\u001b[0m \u001b[0misinstance\u001b[0m\u001b[1;33m(\u001b[0m\u001b[0mc\u001b[0m\u001b[1;33m,\u001b[0m \u001b[0mstr\u001b[0m\u001b[1;33m)\u001b[0m\u001b[1;33m:\u001b[0m\u001b[1;33m\u001b[0m\u001b[0m\n\u001b[1;32m-> 1089\u001b[1;33m             \u001b[1;32mraise\u001b[0m \u001b[0mValueError\u001b[0m\u001b[1;33m(\u001b[0m\u001b[1;34m'label \"{}\" not in labels {}'\u001b[0m\u001b[1;33m.\u001b[0m\u001b[0mformat\u001b[0m\u001b[1;33m(\u001b[0m\u001b[0mc\u001b[0m\u001b[1;33m,\u001b[0m \u001b[0mself\u001b[0m\u001b[1;33m.\u001b[0m\u001b[0mlabels\u001b[0m\u001b[1;33m)\u001b[0m\u001b[1;33m)\u001b[0m\u001b[1;33m\u001b[0m\u001b[0m\n\u001b[0m\u001b[0;32m   1090\u001b[0m         \u001b[1;32melse\u001b[0m\u001b[1;33m:\u001b[0m\u001b[1;33m\u001b[0m\u001b[0m\n\u001b[0;32m   1091\u001b[0m             \u001b[1;32massert\u001b[0m \u001b[0mlen\u001b[0m\u001b[1;33m(\u001b[0m\u001b[0mc\u001b[0m\u001b[1;33m)\u001b[0m \u001b[1;33m==\u001b[0m \u001b[0mself\u001b[0m\u001b[1;33m.\u001b[0m\u001b[0mnum_rows\u001b[0m\u001b[1;33m,\u001b[0m \u001b[1;34m'column length mismatch'\u001b[0m\u001b[1;33m\u001b[0m\u001b[0m\n",
      "\u001b[1;31mValueError\u001b[0m: label \"lat,long\" not in labels ('WBAN', 'WMO', 'CallSign', 'ClimateDivisionCode', 'ClimateDivisionStateCode', 'ClimateDivisionStationCode', 'Name', 'State', 'Location', 'Latitude', 'Longitude', 'GroundHeight', 'StationHeight', 'Barometer', 'TimeZone', 'Rounded Latitude', 'Rounded Longitude')"
     ]
    }
   ],
   "source": [
    "stations_with_distances = stations_rounded.join(\"lat,long\", coast_distance) # SOLUTION\n",
    "stations_with_distances"
   ]
  },
  {
   "cell_type": "code",
   "execution_count": null,
   "metadata": {
    "collapsed": false
   },
   "outputs": [],
   "source": [
    "_ = hw05.grade('q111')"
   ]
  },
  {
   "cell_type": "markdown",
   "metadata": {
    "collapsed": false
   },
   "source": [
    "**Question 1.12.** Now we're going to join again to get the station information for each daily reading.  This time it's much easier!  Create a new table called `daily_temp_with_distances` that extends `daily_temp` with a column of distances to the nearest coastline, called `\"distance to coast (km)\"`.  Use `join` again.\n",
    "\n",
    "*Hint:* What column of identifiers do `daily_temp` and `stations_with_distances` share?"
   ]
  },
  {
   "cell_type": "code",
   "execution_count": 16,
   "metadata": {
    "collapsed": false
   },
   "outputs": [
    {
     "ename": "NameError",
     "evalue": "name 'stations_with_distances' is not defined",
     "output_type": "error",
     "traceback": [
      "\u001b[1;31m---------------------------------------------------------------------------\u001b[0m",
      "\u001b[1;31mNameError\u001b[0m                                 Traceback (most recent call last)",
      "\u001b[1;32m<ipython-input-16-b1141b23be61>\u001b[0m in \u001b[0;36m<module>\u001b[1;34m()\u001b[0m\n\u001b[1;32m----> 1\u001b[1;33m \u001b[0mdaily_temp_with_distances\u001b[0m \u001b[1;33m=\u001b[0m \u001b[0mdaily_temp\u001b[0m\u001b[1;33m.\u001b[0m\u001b[0mjoin\u001b[0m\u001b[1;33m(\u001b[0m\u001b[1;34m\"WBAN\"\u001b[0m\u001b[1;33m,\u001b[0m \u001b[0mstations_with_distances\u001b[0m\u001b[1;33m)\u001b[0m \u001b[1;31m# SOLUTION\u001b[0m\u001b[1;33m\u001b[0m\u001b[0m\n\u001b[0m\u001b[0;32m      2\u001b[0m \u001b[0mdaily_temp_with_distances\u001b[0m\u001b[1;33m\u001b[0m\u001b[0m\n",
      "\u001b[1;31mNameError\u001b[0m: name 'stations_with_distances' is not defined"
     ]
    }
   ],
   "source": [
    "daily_temp_with_distances = daily_temp.join(\"WBAN\", stations_with_distances) # SOLUTION\n",
    "daily_temp_with_distances"
   ]
  },
  {
   "cell_type": "code",
   "execution_count": null,
   "metadata": {
    "collapsed": false
   },
   "outputs": [],
   "source": [
    "_ = hw05.grade('q112')"
   ]
  },
  {
   "cell_type": "markdown",
   "metadata": {},
   "source": [
    "**Question 1.13.** Whew!  Now let's do the actual analysis we set out to do.  Compute the average temperature spread for stations that are more than 50 kilometers from a coastline and for those closer to a coastline.  Do this by computing a table called `spread_for_coastal_and_noncoastal` that looks like this **(except that these aren't the right numbers)**:\n",
    "\n",
    "    >50km from coast | spread (°F) average\n",
    "    False            | 0.1234\n",
    "    True             | 5.6789\n",
    "\n",
    "*Hint:* First, for each daily reading, compute two new columns: (1) the temperature spread, and (2) a boolean value that's True if that reading comes from a station that's more than 50km from the coast.  Elementwise arithmetic and comparison operators will be useful.  Then use `group` to produce the table we've asked for."
   ]
  },
  {
   "cell_type": "code",
   "execution_count": 17,
   "metadata": {
    "collapsed": false
   },
   "outputs": [
    {
     "ename": "NameError",
     "evalue": "name 'daily_temp_with_distances' is not defined",
     "output_type": "error",
     "traceback": [
      "\u001b[1;31m---------------------------------------------------------------------------\u001b[0m",
      "\u001b[1;31mNameError\u001b[0m                                 Traceback (most recent call last)",
      "\u001b[1;32m<ipython-input-17-86807772bdc8>\u001b[0m in \u001b[0;36m<module>\u001b[1;34m()\u001b[0m\n\u001b[0;32m      4\u001b[0m spread_for_coastal_and_noncoastal = Table().with_columns([\n\u001b[0;32m      5\u001b[0m         \u001b[1;34m\"spread (°F)\"\u001b[0m\u001b[1;33m,\u001b[0m\u001b[1;33m\u001b[0m\u001b[0m\n\u001b[1;32m----> 6\u001b[1;33m         \u001b[0mdaily_temp_with_distances\u001b[0m\u001b[1;33m.\u001b[0m\u001b[0mcolumn\u001b[0m\u001b[1;33m(\u001b[0m\u001b[1;34m\"Tmax\"\u001b[0m\u001b[1;33m)\u001b[0m \u001b[1;33m-\u001b[0m \u001b[0mdaily_temp_with_distances\u001b[0m\u001b[1;33m.\u001b[0m\u001b[0mcolumn\u001b[0m\u001b[1;33m(\u001b[0m\u001b[1;34m\"Tmin\"\u001b[0m\u001b[1;33m)\u001b[0m\u001b[1;33m,\u001b[0m \u001b[1;31m# SOLUTION\u001b[0m\u001b[1;33m\u001b[0m\u001b[0m\n\u001b[0m\u001b[0;32m      7\u001b[0m         \u001b[1;34m\">50km from coast\"\u001b[0m\u001b[1;33m,\u001b[0m\u001b[1;33m\u001b[0m\u001b[0m\n\u001b[0;32m      8\u001b[0m         \u001b[0mdaily_temp_with_distances\u001b[0m\u001b[1;33m.\u001b[0m\u001b[0mcolumn\u001b[0m\u001b[1;33m(\u001b[0m\u001b[1;34m\"distance to coast (km)\"\u001b[0m\u001b[1;33m)\u001b[0m \u001b[1;33m>\u001b[0m \u001b[1;36m50\u001b[0m \u001b[1;31m# SOLUTION\u001b[0m\u001b[1;33m\u001b[0m\u001b[0m\n",
      "\u001b[1;31mNameError\u001b[0m: name 'daily_temp_with_distances' is not defined"
     ]
    }
   ],
   "source": [
    "# Compute the table spread_for_coastal_and_noncoastal as described above.\n",
    "# Our solution uses a single statement spread across a few lines, but\n",
    "# feel free to compute the table however you like.\n",
    "spread_for_coastal_and_noncoastal = Table().with_columns([\n",
    "        \"spread (°F)\", \n",
    "        daily_temp_with_distances.column(\"Tmax\") - daily_temp_with_distances.column(\"Tmin\"), # SOLUTION\n",
    "        \">50km from coast\", \n",
    "        daily_temp_with_distances.column(\"distance to coast (km)\") > 50 # SOLUTION\n",
    "    ]).group(\">50km from coast\", np.average)\n",
    "spread_for_coastal_and_noncoastal"
   ]
  },
  {
   "cell_type": "code",
   "execution_count": null,
   "metadata": {
    "collapsed": false
   },
   "outputs": [],
   "source": [
    "_ = hw05.grade('q113')"
   ]
  },
  {
   "cell_type": "markdown",
   "metadata": {},
   "source": [
    "If you're curious, you can run the following cell to see a scatter plot of temperature spreads versus distance to coast.  We've grouped the data by station to make the graph clearer."
   ]
  },
  {
   "cell_type": "code",
   "execution_count": null,
   "metadata": {
    "collapsed": false
   },
   "outputs": [],
   "source": [
    "# Just run this cell to see a plot of the temperature spreads.\n",
    "daily_temp_with_distances.with_column(\"spread\", daily_temp_with_distances.column(\"Tmax\") - daily_temp_with_distances.column(\"Tmin\")) \\\n",
    "                         .group(\"WBAN\", np.average) \\\n",
    "                         .select([\"distance to coast (km) average\", \"spread average\"]) \\\n",
    "                         .relabeled(\"distance to coast (km) average\", \"distance to coast (km)\") \\\n",
    "                         .relabeled(\"spread average\", \"yearly average temperature spread (°F)\") \\\n",
    "                         .scatter(\"distance to coast (km)\")"
   ]
  },
  {
   "cell_type": "markdown",
   "metadata": {},
   "source": [
    "# 2. Cats and boxes\n",
    "Suppose we introduce two new types of Python objects: Boxes and Cats.  These are types of things in the same way that integers, strings, and functions are types of things.\n",
    "* A Box is like a list -- it can contain any number of other objects, including other Boxes.  The things in a box are ordered from left to right.  To create a Box of things, call the function `Box` with each thing as an argument.  For example, `Box(1, 5, \"some text\")` is a Box containing, in order from left to right, the numbers 1 and 5 and the string \"some text\".\n",
    "* A Cat is fluffy and devious and contains nothing.  To create a Cat, call the function `Cat` with no arguments.  The value of `Cat()` is a Cat object.\n",
    "\n",
    "For each of the following pictures, create a Python representation of the box displayed in the picture, along with its contents (if any).  **For example**, the Python representation of a picture of an empty box is `Box()`.  Ignore any amusing (or unamusing) captions.\n",
    "\n",
    "**Question 2.1.** <img src=\"cat01.jpg\">"
   ]
  },
  {
   "cell_type": "code",
   "execution_count": null,
   "metadata": {
    "collapsed": false
   },
   "outputs": [],
   "source": [
    "# Set box_21 to the representation of the image above.\n",
    "box_21 = Box(Cat()) #SOLUTION\n",
    "box_21"
   ]
  },
  {
   "cell_type": "code",
   "execution_count": null,
   "metadata": {
    "collapsed": false
   },
   "outputs": [],
   "source": [
    "_ = hw05.grade(\"q21\")"
   ]
  },
  {
   "cell_type": "markdown",
   "metadata": {},
   "source": [
    "**Question 2.2.** <img src=\"cat02.jpg\">"
   ]
  },
  {
   "cell_type": "code",
   "execution_count": null,
   "metadata": {
    "collapsed": false
   },
   "outputs": [],
   "source": [
    "# Set box_22 to the representation of the image above.\n",
    "box_22 = Box(Cat(), Cat(), Cat(), Cat()) #SOLUTION\n",
    "box_22"
   ]
  },
  {
   "cell_type": "code",
   "execution_count": null,
   "metadata": {
    "collapsed": false
   },
   "outputs": [],
   "source": [
    "_ = hw05.grade(\"q22\")"
   ]
  },
  {
   "cell_type": "markdown",
   "metadata": {},
   "source": [
    "**Question 2.3.** <img src=\"cat03.jpg\">"
   ]
  },
  {
   "cell_type": "code",
   "execution_count": null,
   "metadata": {
    "collapsed": false
   },
   "outputs": [],
   "source": [
    "# Set box_23 to the representation of the image above.\n",
    "box_23 = Box(Box(Box(Cat()))) #SOLUTION\n",
    "box_23"
   ]
  },
  {
   "cell_type": "code",
   "execution_count": null,
   "metadata": {
    "collapsed": false
   },
   "outputs": [],
   "source": [
    "_ = hw05.grade(\"q23\")"
   ]
  },
  {
   "cell_type": "markdown",
   "metadata": {},
   "source": [
    "**Question 2.4.** <img src=\"cat04.jpg\">"
   ]
  },
  {
   "cell_type": "code",
   "execution_count": null,
   "metadata": {
    "collapsed": false
   },
   "outputs": [],
   "source": [
    "# Set box_24 to the representation of the image above.\n",
    "box_24 = Box(Cat(), Box(Cat())) #SOLUTION\n",
    "box_24"
   ]
  },
  {
   "cell_type": "code",
   "execution_count": null,
   "metadata": {
    "collapsed": false
   },
   "outputs": [],
   "source": [
    "_ = hw05.grade(\"q24\")"
   ]
  },
  {
   "cell_type": "markdown",
   "metadata": {
    "collapsed": true
   },
   "source": [
    "# 3. Warplanes"
   ]
  },
  {
   "cell_type": "markdown",
   "metadata": {},
   "source": [
    "In this problem, we'll work through the number-of-warplanes estimation problem you saw in lecture.\n",
    "\n",
    "Recall the setup: The British Royal Air Force (RAF) want to know how many warplanes the Germans have.  They hypothesize that the Germans label their planes with serial numbers, starting from 1 for the first plane, and increasing by 1 for each new plane built.  That means that the number of planes the Germans have is equal to the largest serial number among their planes.  Let's call that number `N`.\n",
    "\n",
    "The RAF make the further assumption that each time the Germans send a plane into combat, they send one of their planes chosen uniformly at random, and an RAF observer always reports its serial number.  (That's not really true, and it's not exactly what the RAF assumed, but it makes the math simpler for this example.)  Some planes might be observed several times, or not at all.  So if the Germans have 5 planes and send planes into combat 3 times, the RAF might observe the serial numbers 4, 1, and 4.\n",
    "\n",
    "Given a bunch of these random observations of serial numbers, the RAF want to estimate `N`.\n",
    "\n",
    "We're going to simulate that sampling process and try out a few methods for estimating `N`.  Then we'll check how well each method typically does at estimating `N`.\n",
    "\n",
    "**Question 3.1.** Suppose that `N` is actually 120 (though the RAF don't know that) and we observe serial numbers 14 times.\n",
    "1. Write a function called `simulate_observations` to simulate that by making an array of 14 random serial numbers.  Your function should take no arguments and return the random array it generates.  Follow the random observation process described above.\n",
    "2. **Then**, set `observations` to the result of one call to `simulate_observations`.\n",
    "\n",
    "*Hint:* Remember the function `np.random.randint`.  The documentation is [here](http://docs.scipy.org/doc/numpy-1.10.1/reference/generated/numpy.random.randint.html); again, the examples at the end of the documentation are probably more useful than the other text.  If you prefer, you can use the `sample` method of an appropriately-constructed Table instead."
   ]
  },
  {
   "cell_type": "code",
   "execution_count": null,
   "metadata": {
    "collapsed": false
   },
   "outputs": [],
   "source": [
    "# The biggest serial number.\n",
    "N = 120\n",
    "# The number of observations.\n",
    "num_observations = 14\n",
    "\n",
    "def simulate_observations():\n",
    "    # Fill in this function.  It should return an array of 14 random\n",
    "    # serial numbers, generated according to the random process\n",
    "    # described above.\n",
    "    return np.random.randint(1, N+1, num_observations) #SOLUTION\n",
    "\n",
    "# Set observations to a random sample of 14 serial numbers\n",
    "# by calling your function once.\n",
    "observations = simulate_observations() #SOLUTION\n",
    "observations"
   ]
  },
  {
   "cell_type": "code",
   "execution_count": null,
   "metadata": {
    "collapsed": false
   },
   "outputs": [],
   "source": [
    "_ = hw05.grade(\"q31\")"
   ]
  },
  {
   "cell_type": "markdown",
   "metadata": {},
   "source": [
    "**Question 3.2.** Draw a probability histogram to display the *distribution* of serial numbers from which each single serial number is sampled. \n",
    "\n",
    "*Hint 1:* You'll need to construct an appropriate table.\n",
    "\n",
    "*Hint 2:* There is nothing random in the answer to this question."
   ]
  },
  {
   "cell_type": "code",
   "execution_count": null,
   "metadata": {
    "collapsed": false
   },
   "outputs": [],
   "source": [
    "# Make your visualization here.\n",
    "Table().with_column(\"serial number\", np.arange(1, N+1)).hist(bins=np.arange(1, N+2)) #SOLUTION"
   ]
  },
  {
   "cell_type": "markdown",
   "metadata": {},
   "source": [
    "**Question 3.3.** A straightforward way to estimate the biggest serial number is to find the biggest serial number among the serial numbers we observe.  Use that method to estimate `N` from `observations`.  Give your estimate the name `max_estimate`."
   ]
  },
  {
   "cell_type": "code",
   "execution_count": null,
   "metadata": {
    "collapsed": false
   },
   "outputs": [],
   "source": [
    "# Set max_estimate to the biggest serial number among the\n",
    "# observed serial numbers that you simulated in question 3.1.\n",
    "max_estimate = max(observations)\n",
    "max_estimate"
   ]
  },
  {
   "cell_type": "code",
   "execution_count": null,
   "metadata": {
    "collapsed": false
   },
   "outputs": [],
   "source": [
    "_ = hw05.grade('q33')"
   ]
  },
  {
   "cell_type": "markdown",
   "metadata": {},
   "source": [
    "Here's another idea that comes from looking at the histogram in question 3.2.  If we observe a bunch of numbers uniformly distributed between 1 and `N`, then the average of those observations is likely to be the middle of the numbers, which is roughly $\\frac{\\texttt{N}}{2}$.  So if we multiply the average of our observations by 2, we might get something close to `N`.  If you prefer symbols, here's another way to say that:\n",
    "\n",
    "$$\\texttt{average}(\\texttt{observations}) \\approx \\frac{\\texttt{N}}{2} \\\\\n",
    "  \\implies 2 \\times \\texttt{average}(\\texttt{observations}) \\approx \\texttt{N}$$\n",
    "\n",
    "**Question 3.4.** Write a function called `mean_based_estimator` that takes a single argument, an array of observed serial numbers.  It should return the *mean* (a.k.a. the average) of the numbers in that array, times two.\n",
    "\n",
    "*Remember*, the big-picture idea is that calling this function on an array of serial number observations (such as the array `observations`, but possibly other arrays) gives us an estimate of `N` based on those observations.  Your function should be just as happy to compute twice the mean of *any* array of numbers, though."
   ]
  },
  {
   "cell_type": "code",
   "execution_count": null,
   "metadata": {
    "collapsed": false
   },
   "outputs": [],
   "source": [
    "def mean_based_estimator(nums):\n",
    "    # Fill in this function as described above.\n",
    "    return 2*np.average(nums) #SOLUTION\n",
    "mean_based_estimator(np.array([4, 1, 4, 2])) # Should be (4+1+4+2)/4*2 = 5.5"
   ]
  },
  {
   "cell_type": "code",
   "execution_count": null,
   "metadata": {
    "collapsed": false
   },
   "outputs": [],
   "source": [
    "_ = hw05.grade('q34')"
   ]
  },
  {
   "cell_type": "markdown",
   "metadata": {},
   "source": [
    "**Question 3.5.** Is the way of estimating `N` in question 3.4 actually different from the one in question 3.3?  Or does it always produce the same result?"
   ]
  },
  {
   "cell_type": "markdown",
   "metadata": {},
   "source": [
    "*Write your answer in here, replacing this text.*"
   ]
  },
  {
   "cell_type": "markdown",
   "metadata": {},
   "source": [
    "**Question 3.6.** Use `mean_based_estimator` to estimate `N` from `observations`.  Call the result `mean_based_estimate`."
   ]
  },
  {
   "cell_type": "code",
   "execution_count": null,
   "metadata": {
    "collapsed": false
   },
   "outputs": [],
   "source": [
    "# Compute mean_based_estimate using your simulated observations\n",
    "# from question 3.1 and the function you just defined in question 3.4.\n",
    "mean_based_estimate = mean_based_estimator(observations) #SOLUTION\n",
    "mean_based_estimate"
   ]
  },
  {
   "cell_type": "code",
   "execution_count": null,
   "metadata": {
    "collapsed": false
   },
   "outputs": [],
   "source": [
    "_ = hw05.grade('q36')"
   ]
  },
  {
   "cell_type": "markdown",
   "metadata": {},
   "source": [
    "Either `max_estimate` or `mean_based_estimate` could be closer to the actual value of `N`, depending on how your observations turned out.  Rather than comparing them, it's more interesting to compare what would happen if we reproduced our 14 observations many times.\n",
    "\n",
    "**Question 3.7.** Create a table called `estimates` with two columns named `\"max_estimate\"` and `\"mean_based_estimate\"`.  Using a `for` loop (or some other way, if you prefer), simulate the following process **1,000** times:\n",
    "1. Generate a new set of 14 observations, in the same way you did for question 3.1.  (Can you reuse the `simulate_observations` function?)\n",
    "2. Estimate `N` using the maximum of the observations.\n",
    "3. Estimate `N` using your `mean_based_estimator` function.\n",
    "4. Append the two estimates to your `estimates` table.\n",
    "\n",
    "*Hint:* If you use a `for` loop, use the `with_row` method of `estimates` (which is documented [here](http://datascience.readthedocs.org/en/master/_autosummary/datascience.tables.Table.with_row.html#datascience.tables.Table.with_row)) in step 4.  You'll have to start out with a version of `estimates` with the two columns `\"max_estimate\"` and `\"mean_based_estimate\"`."
   ]
  },
  {
   "cell_type": "code",
   "execution_count": null,
   "metadata": {
    "collapsed": false
   },
   "outputs": [],
   "source": [
    "# Make estimates a table of estimates of N based on 1000 simulated\n",
    "# datasets of 14 observations.  You can use the code we've outlined\n",
    "# here, or scrap it if you prefer.\n",
    "estimates = Table([\"max_estimate\", \"mean_based_estimate\"])\n",
    "for simulation_idx in range(1000): #SOLUTION\n",
    "    new_observations = simulate_observations() #SOLUTION\n",
    "    estimates.append([max(new_observations), mean_based_estimator(new_observations)]) #SOLUTION\n",
    "estimates"
   ]
  },
  {
   "cell_type": "code",
   "execution_count": null,
   "metadata": {
    "collapsed": false
   },
   "outputs": [],
   "source": [
    "_ = hw05.grade(\"q37\")"
   ]
  },
  {
   "cell_type": "markdown",
   "metadata": {},
   "source": [
    "Consider the following visualization, which is based on the estimates of `N` you just generated:"
   ]
  },
  {
   "cell_type": "code",
   "execution_count": null,
   "metadata": {
    "collapsed": false
   },
   "outputs": [],
   "source": [
    "# Just run this cell.\n",
    "estimates.hist(bins=np.arange(0, 160, 1))"
   ]
  },
  {
   "cell_type": "markdown",
   "metadata": {},
   "source": [
    "**Question 3.8.** What do the blue and yellow histograms represent?  Your answer should look something like this: \n",
    "\n",
    "**\"The blue histogram is the `___________` histogram of `_________`. The yellow histogram is the `____________` histogram of `__________`.\"**\n",
    "\n",
    "*Hint*: You've learned a very specific term for these histograms."
   ]
  },
  {
   "cell_type": "markdown",
   "metadata": {},
   "source": [
    "*Write your answer here, replacing this text.*"
   ]
  },
  {
   "cell_type": "markdown",
   "metadata": {},
   "source": [
    "**Question 3.9.** Why do the `max`-based estimates top out at 120, while some of the `mean`-based estimates are bigger than that?"
   ]
  },
  {
   "cell_type": "markdown",
   "metadata": {},
   "source": [
    "*Write your answer here, replacing this text.*"
   ]
  },
  {
   "cell_type": "markdown",
   "metadata": {},
   "source": [
    "**Question 3.10 [Optional].** The max and twice-the-mean estimators are two ways to estimate `N`, but there are other good ones.  Can you find something cleverer?  Come up with your own and investigate it.  Recreate the steps we went through for the other estimators:\n",
    "1. Write a function (in the style of `max` and `mean_based_estimator`) to compute your estimate on a sample.\n",
    "2. Compute your estimate on `observations`.\n",
    "3. Compute a table of estimates using the max, twice-the-mean, and your own estimator, as in question 3.7.\n",
    "4. Make a visualization like the histogram above, now displaying all 3 kinds of estimates in one graph.\n",
    "5. Write up your conclusions, briefly.  Does it look like your estimator produces less-biased or less-variable estimates for this problem than the other 2?\n",
    "\n",
    "This question *won't be graded*, but working on it will help you learn about estimators."
   ]
  },
  {
   "cell_type": "code",
   "execution_count": null,
   "metadata": {
    "collapsed": true
   },
   "outputs": [],
   "source": [
    "# Use this cell for your analysis."
   ]
  },
  {
   "cell_type": "markdown",
   "metadata": {},
   "source": [
    "*Write your conclusions here, replacing this text.*"
   ]
  },
  {
   "cell_type": "code",
   "execution_count": null,
   "metadata": {
    "collapsed": false
   },
   "outputs": [],
   "source": [
    "# For your convenience, you can run this cell to run all the tests at once!\n",
    "import os\n",
    "_ = [hw05.grade(q[:-3]) for q in os.listdir(\"tests\") if q.startswith('q')]"
   ]
  }
 ],
 "metadata": {
  "kernelspec": {
   "display_name": "Python 3",
   "language": "python",
   "name": "python3"
  },
  "language_info": {
   "codemirror_mode": {
    "name": "ipython",
    "version": 3
   },
   "file_extension": ".py",
   "mimetype": "text/x-python",
   "name": "python",
   "nbconvert_exporter": "python",
   "pygments_lexer": "ipython3",
   "version": "3.4.4"
  }
 },
 "nbformat": 4,
 "nbformat_minor": 0
}
