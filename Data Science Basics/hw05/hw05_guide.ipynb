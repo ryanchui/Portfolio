{
 "cells": [
  {
   "cell_type": "markdown",
   "metadata": {},
   "source": [
    "# A Guide to Homework 5\n",
    "\n",
    "This is a guide to some of the questions in Homework 5.  If you're having a hard time with the assignment, you can check this guide for help.\n",
    "\n",
    "For some questions we give hints, and for others we give fully-worked examples that are very similar to the original problems.\n",
    "\n",
    "We recommend that you not consult this guide until after you struggle a bit with a problem, because you'll learn less.  Frustration isn't helpful, but challenge is."
   ]
  },
  {
   "cell_type": "markdown",
   "metadata": {},
   "source": [
    "# 0. Preliminaries\n",
    "\n",
    "Run the next cell to set up the guide."
   ]
  },
  {
   "cell_type": "code",
   "execution_count": 1,
   "metadata": {
    "collapsed": false
   },
   "outputs": [],
   "source": [
    "# Run this cell, but please don't change it.\n",
    "\n",
    "# These lines import the NumPy and datascience modules.\n",
    "import numpy as np\n",
    "# This way of importing the datascience module lets you write \"Table\" instead\n",
    "# of \"datascience.Table\".  The \"*\" means \"import everything in the module.\"\n",
    "from datascience import *\n",
    "\n",
    "# This line imports a very special module we made for this assignment.\n",
    "from cats_and_boxes import *\n",
    "from guide_types import *\n",
    "\n",
    "# These lines set up visualizations.\n",
    "import matplotlib\n",
    "%matplotlib inline\n",
    "import matplotlib.pyplot as plots\n",
    "plots.style.use('fivethirtyeight')\n",
    "import warnings\n",
    "warnings.simplefilter('ignore', FutureWarning)"
   ]
  },
  {
   "cell_type": "markdown",
   "metadata": {},
   "source": [
    "# 1. Climate and water\n",
    "If you skip ahead to question 1.13, you'll see that in the end we just want to take the `daily_temp` table and compare the readings from stations that are less than 50km from a coastline with the readings from stations that are more than 50km from a coastline.  To do that, we need to add a column to `daily_temp` with the distance-to-nearest-coast for each reading.  Everything before 1.13 is about putting together our three datasets so we can do that.\n",
    "\n",
    "The general flow of this question is:\n",
    "\n",
    "<img src=\"guide_q1_overview.jpg\">\n",
    "\n",
    "(We've rearranged and omitted some columns and sorted the rows to make the diagram more clear, so your tables might not look exactly like ours.)\n",
    "\n",
    "**Question 1.2.** \"Displaying the distribution\" of a numerical array of data (or a numerical column of a table) just means displaying its histogram.  We did something very similar in [lecture](https://youtu.be/wU6eH4d-G_s?t=870).  The only difference is that the name of the table is `daily_temp` and the names of the columns are `\"Tmax\"` and `\"Tmin\"`.  Also, you should use the right units for the histogram by passing the *named argument* `unit=\"<whatever you want to call the units>\"` to the `hist` method."
   ]
  },
  {
   "cell_type": "markdown",
   "metadata": {},
   "source": [
    "**Question 1.3 [Min/Max Average].** Break this down into three steps.\n",
    "\n",
    "First, compute a new column (an array of numbers, one for each row in `daily_temp`) of the temperature spreads for each reading day.  Elementwise arithmetic operations (introduced in lab 3) are useful for this.\n",
    "\n",
    "Suppose that you wanted, rather than the spread, the average of the min and max temperature for each day.  To average two numbers, you add them together and then divide that by two.  So you could say:\n",
    "\n",
    "    min_max_average = (daily_temp.column(\"Tmin\") + daily_temp.column(\"Tmax\")) / 2\n",
    "Here's a picture:\n",
    "\n",
    "<img src=\"guide_maxminavg_apply.jpg\">\n",
    "\n",
    "The temperature spread for each day is just computed in a slightly different way.\n",
    "\n",
    "Now, add that column to `daily_temp`, making a new table with that extra column, and give that new table a name.  We'll continue with our min-max average instead of spread.\n",
    "\n",
    "    daily_temp_with_minmaxave = daily_temp.with_column(\"minmaxave\", min_max_average)\n",
    "\n",
    "Make a new code cell, write `daily_temp_with_minmaxave` (or whatever you called your table with the `\"spread\"` column), and run that cell.  You should see the new table with the extra column.  For your table, you can verify that the spread for each row is the max temperature for that row minus the min temperature.\n",
    "\n",
    "Finally, use that table to make a histogram of that column.\n",
    "\n",
    "    daily_temp_with_minmaxave.hist(\"minmaxave\", unit = \"degree Fahrenheit\")"
   ]
  },
  {
   "cell_type": "markdown",
   "metadata": {},
   "source": [
    "**Question 1.4.** This question is about using Python to assist you in answering a question.  So you'll write some code to display some data, and you'll also look through that data yourself.\n",
    "\n",
    "To look at the first row of a table, you can just write the table's name in the last line of a code cell, run the cell, and look at the first row.  You could also write `stations.show(1)` to show just the first row.  Find the values in the `\"Latitude\"` and `\"Longitude\"` columns for that row.\n",
    "\n",
    "Now, we want to look through the `coast_distance` table to find the row that roughly matches that latitude and longitude.  In the `coast_distance` table, each row is a place on Earth with a latitude (in the `\"latitude\"` column) and a longitude (in the `\"longitude\"` column).  They form an even grid over the entire planet.\n",
    "\n",
    "Say we wanted to find the point at 37.87 degrees latitude and 122.27 degrees longitude.  (That's where Berkeley is; the actual point you want is different.)  You could write `coast_distance.show()` to show the entire `coast_distance` table and search it manually, but that would be very tedious.  Instead, try narrowing your search.\n",
    "\n",
    "If we call `coast_distance.where(x)`, and `x` is an array of boolean values (with length equal to the number of rows in `coast_distance`), then we'll get only the rows where the corresponding element of `x` is True.  So to narrow our search, let's construct an array of boolean values that are True if the corresponding row in `coast_distance` is close (in latitude and longitude) to what we want.  First we'll put down some conditions that (roughly) define a square on the Earth's surface:\n",
    "\n",
    "    similar_or_higher_latitude = coast_distance.column(\"latitude\") >= 36\n",
    "    similar_or_lower_latitude = coast_distance.column(\"latitude\") <= 40\n",
    "    similar_or_higher_longitude = coast_distance.column(\"latitude\") >= 120\n",
    "    similar_or_lower_longitude = coast_distance.column(\"latitude\") >= 124\n",
    "    \n",
    "Now we'll combine these conditions together.  First we'll make an array of boolean values that are True whereever the longitude arrays both have a True value (defining a narrow vertical slice of the Earth) and similarly for the latitude arrays (defining a narrow belt around the Earth):\n",
    "\n",
    "    similar_latitude = np.logical_and(similar_or_higher_latitude, similar_or_lower_latitude)\n",
    "    similar_longitude = np.logical_and(similar_or_higher_longitude, similar_or_lower_longitude)\n",
    "\n",
    "Now we'll combine those again to get an array of boolean values that are True wherever the corresponding array of `coast_distance` is inside the small square of Earth that we wanted:\n",
    "\n",
    "    similar_coordinates = np.logical_and(similar_latitude, similar_longitude)\n",
    "\n",
    "Now we just call `where` to look at those rows:\n",
    "\n",
    "    nearby_places = coast_distance.where(similar_coordinates)\n",
    "    nearby_places.show()"
   ]
  },
  {
   "cell_type": "markdown",
   "metadata": {},
   "source": [
    "**Questions 1.5-1.11 [Shoe store example #1].** This example will illustrate one limitation of `join`: It matches values exactly, without any wiggle room.  We'll also see how to get around that.\n",
    "\n",
    "Suppose we are an online shoe retailer, and we want to suggest shoe sizes to customers based on their height.  (People are more likely to know their height than their shoe size, and there's a pretty strong correlation between height and shoe size.)  We have the following two tables:"
   ]
  },
  {
   "cell_type": "code",
   "execution_count": 2,
   "metadata": {
    "collapsed": false
   },
   "outputs": [
    {
     "data": {
      "text/html": [
       "<table border=\"1\" class=\"dataframe\">\n",
       "    <thead>\n",
       "        <tr>\n",
       "            <th>Name</th> <th>Height (cm)</th>\n",
       "        </tr>\n",
       "    </thead>\n",
       "    <tbody>\n",
       "        <tr>\n",
       "            <td>Sue   </td> <td>160        </td>\n",
       "        </tr>\n",
       "    </tbody>\n",
       "        <tr>\n",
       "            <td>Aditya</td> <td>152        </td>\n",
       "        </tr>\n",
       "    </tbody>\n",
       "        <tr>\n",
       "            <td>Maxime</td> <td>164        </td>\n",
       "        </tr>\n",
       "    </tbody>\n",
       "</table>"
      ],
      "text/plain": [
       "<IPython.core.display.HTML object>"
      ]
     },
     "metadata": {},
     "output_type": "display_data"
    },
    {
     "data": {
      "text/html": [
       "<table border=\"1\" class=\"dataframe\">\n",
       "    <thead>\n",
       "        <tr>\n",
       "            <th>Height (cm)</th> <th>Suggested shoe size</th>\n",
       "        </tr>\n",
       "    </thead>\n",
       "    <tbody>\n",
       "        <tr>\n",
       "            <td>150        </td> <td>8                  </td>\n",
       "        </tr>\n",
       "    </tbody>\n",
       "        <tr>\n",
       "            <td>160        </td> <td>9                  </td>\n",
       "        </tr>\n",
       "    </tbody>\n",
       "        <tr>\n",
       "            <td>170        </td> <td>10                 </td>\n",
       "        </tr>\n",
       "    </tbody>\n",
       "        <tr>\n",
       "            <td>180        </td> <td>11                 </td>\n",
       "        </tr>\n",
       "    </tbody>\n",
       "        <tr>\n",
       "            <td>190        </td> <td>12                 </td>\n",
       "        </tr>\n",
       "    </tbody>\n",
       "</table>"
      ],
      "text/plain": [
       "<IPython.core.display.HTML object>"
      ]
     },
     "metadata": {},
     "output_type": "display_data"
    }
   ],
   "source": [
    "# We ask each customer his/her height and weight, and record them in this table:\n",
    "customers = Table().with_columns([\n",
    "        \"Name\", [\"Sue\", \"Aditya\", \"Maxime\"],\n",
    "        \"Height (cm)\", [160, 152, 164]\n",
    "    ])\n",
    "\n",
    "# We figure out the typical shoe size for several heights.\n",
    "suggested_shoe_size = Table().with_columns([\n",
    "        \"Height (cm)\", [150, 160, 170, 180, 190],\n",
    "        \"Suggested shoe size\", [8, 9, 10, 11, 12]\n",
    "    ])\n",
    "customers.show()\n",
    "suggested_shoe_size.show()"
   ]
  },
  {
   "cell_type": "markdown",
   "metadata": {},
   "source": [
    "Now we want to make a table with suggested shoe sizes for each customer.  That involves combining information from both of our tables, so we should probably use `join`.  We're trying to annotate the `customers` table with some extra information from `suggested_shoe_size`, so the call to `join` should look like `customers.join...` rather than `suggested_shoe_size.join`.\n",
    "\n",
    "What we try is this:"
   ]
  },
  {
   "cell_type": "code",
   "execution_count": 3,
   "metadata": {
    "collapsed": false
   },
   "outputs": [
    {
     "data": {
      "text/html": [
       "<table border=\"1\" class=\"dataframe\">\n",
       "    <thead>\n",
       "        <tr>\n",
       "            <th>Height (cm)</th> <th>Name</th> <th>Suggested shoe size</th>\n",
       "        </tr>\n",
       "    </thead>\n",
       "    <tbody>\n",
       "        <tr>\n",
       "            <td>160        </td> <td>Sue </td> <td>9                  </td>\n",
       "        </tr>\n",
       "    </tbody>\n",
       "</table>"
      ],
      "text/plain": [
       "Height (cm) | Name | Suggested shoe size\n",
       "160         | Sue  | 9"
      ]
     },
     "execution_count": 3,
     "metadata": {},
     "output_type": "execute_result"
    }
   ],
   "source": [
    "# Trying to make a table with suggested shoe sizes for Sue,\n",
    "# Aditya, and Maxime:\n",
    "recommendations = customers.join(\"Height (cm)\", suggested_shoe_size)\n",
    "# Note that we didn't write:\n",
    "#  recommendation = suggested_shoe_size.join(\"Height (cm)\", customers)\n",
    "# That's what we'd do if we wanted to annotate each suggested shoe\n",
    "# size with one customer who has that suggested shoe size.\n",
    "recommendations"
   ]
  },
  {
   "cell_type": "markdown",
   "metadata": {},
   "source": [
    "But we only get a recommendation for Sue, not for Aditya or Maxime!  What went wrong?\n",
    "\n",
    "When we say `customers.join(\"Height (cm)\", suggested_shoe_size)`, Python builds the resulting joined table (which we named `recommendations`) one row at a time.\n",
    "\n",
    "First, it looks at the first row of `customers`, which is Sue.  It finds that her height (the value of `\"Height (cm)\"`) is 160.  Then it looks through `suggested_shoe_sizes` for a row where `\"Height (cm)\"` is 160.  It finds that in the 2nd row, which has suggested shoe size 9, so it makes a row in the joined table for Sue with `\"Suggested shoe size\"` 9.  So far, so good.\n",
    "\n",
    "<img src=\"guide_customer_join_1.jpg\">\n",
    "\n",
    "Now, it looks at the second row of `customers`, which is Aditya.  His height is 152.  Looking through `suggested_shoe_size`, there's no row where the `\"Height (cm)\"` column is equal to 152!  So there's no match for Aditya.  His row gets discarded, and we move on to the next row in `customers`.  The same thing happens to Maxime -- no exact matching height.  So we only end up with a recommendation for Sue.\n",
    "\n",
    "<img src=\"guide_customer_join_2.jpg\">\n",
    "\n",
    "What we probably wanted was to find a *reasonable* match for each customer, not an exact match.  We'd probably want to recommend a shoe size of 8 for Aditya and 9 for Maxime.  That wouldn't be perfect, but it's much better than nothing.  But the `join` method doesn't know how to do that without our help, because it always requires exact matches.\n",
    "\n",
    "Analogously, in the homework problem, many stations have latitudes like 1.234, but the `coast_distance` table only has latitudes like 1 or 1.5.  So there wouldn't be very many *exact* matches if we said something like\n",
    "\n",
    "    stations.join(\"Latitude\", coast_distance, \"latitude\")\n",
    "You can try that for yourself and see what happens.\n",
    "\n",
    "How do we fix this?  \n",
    "\n",
    "We would get the behavior we wanted if the *customers'* heights were rounded in the same way as the heights in the suggested shoe size table.  Those are rounded to the nearest 10, so we'll have to do the same for the customers' heights.  Here's how we'd do that:"
   ]
  },
  {
   "cell_type": "code",
   "execution_count": 4,
   "metadata": {
    "collapsed": false
   },
   "outputs": [
    {
     "data": {
      "text/html": [
       "<table border=\"1\" class=\"dataframe\">\n",
       "    <thead>\n",
       "        <tr>\n",
       "            <th>Name</th> <th>Height (cm)</th> <th>Rounded Height (cm)</th>\n",
       "        </tr>\n",
       "    </thead>\n",
       "    <tbody>\n",
       "        <tr>\n",
       "            <td>Sue   </td> <td>160        </td> <td>160                </td>\n",
       "        </tr>\n",
       "    </tbody>\n",
       "        <tr>\n",
       "            <td>Aditya</td> <td>152        </td> <td>150                </td>\n",
       "        </tr>\n",
       "    </tbody>\n",
       "        <tr>\n",
       "            <td>Maxime</td> <td>164        </td> <td>160                </td>\n",
       "        </tr>\n",
       "    </tbody>\n",
       "</table>"
      ],
      "text/plain": [
       "Name   | Height (cm) | Rounded Height (cm)\n",
       "Sue    | 160         | 160\n",
       "Aditya | 152         | 150\n",
       "Maxime | 164         | 160"
      ]
     },
     "execution_count": 4,
     "metadata": {},
     "output_type": "execute_result"
    }
   ],
   "source": [
    "def round_height(height):\n",
    "    # This rounds a number to the nearest 10.\n",
    "    return round(height / 10) * 10\n",
    "\n",
    "customers_rounded = customers.with_columns([\n",
    "        \"Rounded Height (cm)\",\n",
    "        customers.apply(round_height, \"Height (cm)\")\n",
    "    ])\n",
    "customers_rounded"
   ]
  },
  {
   "cell_type": "markdown",
   "metadata": {},
   "source": [
    "Now, we can join our two tables and get the answers we wanted!"
   ]
  },
  {
   "cell_type": "code",
   "execution_count": 5,
   "metadata": {
    "collapsed": false
   },
   "outputs": [
    {
     "data": {
      "text/html": [
       "<table border=\"1\" class=\"dataframe\">\n",
       "    <thead>\n",
       "        <tr>\n",
       "            <th>Rounded Height (cm)</th> <th>Name</th> <th>Height (cm)</th> <th>Suggested shoe size</th>\n",
       "        </tr>\n",
       "    </thead>\n",
       "    <tbody>\n",
       "        <tr>\n",
       "            <td>150                </td> <td>Aditya</td> <td>152        </td> <td>8                  </td>\n",
       "        </tr>\n",
       "    </tbody>\n",
       "        <tr>\n",
       "            <td>160                </td> <td>Sue   </td> <td>160        </td> <td>9                  </td>\n",
       "        </tr>\n",
       "    </tbody>\n",
       "        <tr>\n",
       "            <td>160                </td> <td>Maxime</td> <td>164        </td> <td>9                  </td>\n",
       "        </tr>\n",
       "    </tbody>\n",
       "</table>"
      ],
      "text/plain": [
       "Rounded Height (cm) | Name   | Height (cm) | Suggested shoe size\n",
       "150                 | Aditya | 152         | 8\n",
       "160                 | Sue    | 160         | 9\n",
       "160                 | Maxime | 164         | 9"
      ]
     },
     "execution_count": 5,
     "metadata": {},
     "output_type": "execute_result"
    }
   ],
   "source": [
    "# The arguments to join() here say: join with the suggested_shoe_size table,\n",
    "# matching the rounded heights of rows in customers_rounded to the\n",
    "# heights of rows in suggested_shoe_size.\n",
    "fixed_recommendations = customers_rounded.join(\"Rounded Height (cm)\", suggested_shoe_size, \"Height (cm)\")\n",
    "fixed_recommendations"
   ]
  },
  {
   "cell_type": "markdown",
   "metadata": {},
   "source": [
    "**Question 1.6-1.11 [Shoe store example #2].** This example will illustrate a second limitation of `join`: When we want to match things, we can only match on 1 column.  In the homework, we run into this problem when we want to match stations to locations with similar latitude *and* similar longitude.\n",
    "\n",
    "Going back to our shoe store, suppose that we discover that people who weigh more tend to have larger feet.  We want to give different recommendations for people with different weights.  So we extend both our `customers` table and our `suggested_shoe_size` table with a new column for weight.  (We've modified the data a bit to eliminate the problem we were thinking about in example #1.  Everyone has a clear match.)"
   ]
  },
  {
   "cell_type": "code",
   "execution_count": 6,
   "metadata": {
    "collapsed": false
   },
   "outputs": [
    {
     "data": {
      "text/html": [
       "<table border=\"1\" class=\"dataframe\">\n",
       "    <thead>\n",
       "        <tr>\n",
       "            <th>Name</th> <th>Height (cm)</th> <th>Weight (kg)</th>\n",
       "        </tr>\n",
       "    </thead>\n",
       "    <tbody>\n",
       "        <tr>\n",
       "            <td>Sue   </td> <td>160        </td> <td>55         </td>\n",
       "        </tr>\n",
       "    </tbody>\n",
       "        <tr>\n",
       "            <td>Aditya</td> <td>150        </td> <td>55         </td>\n",
       "        </tr>\n",
       "    </tbody>\n",
       "        <tr>\n",
       "            <td>Maxime</td> <td>160        </td> <td>70         </td>\n",
       "        </tr>\n",
       "    </tbody>\n",
       "</table>"
      ],
      "text/plain": [
       "<IPython.core.display.HTML object>"
      ]
     },
     "metadata": {},
     "output_type": "display_data"
    },
    {
     "data": {
      "text/html": [
       "<table border=\"1\" class=\"dataframe\">\n",
       "    <thead>\n",
       "        <tr>\n",
       "            <th>Height (cm)</th> <th>Weight (kg)</th> <th>Suggested shoe size</th>\n",
       "        </tr>\n",
       "    </thead>\n",
       "    <tbody>\n",
       "        <tr>\n",
       "            <td>150        </td> <td>55         </td> <td>8                  </td>\n",
       "        </tr>\n",
       "    </tbody>\n",
       "        <tr>\n",
       "            <td>160        </td> <td>55         </td> <td>9                  </td>\n",
       "        </tr>\n",
       "    </tbody>\n",
       "        <tr>\n",
       "            <td>170        </td> <td>55         </td> <td>10                 </td>\n",
       "        </tr>\n",
       "    </tbody>\n",
       "        <tr>\n",
       "            <td>180        </td> <td>55         </td> <td>11                 </td>\n",
       "        </tr>\n",
       "    </tbody>\n",
       "        <tr>\n",
       "            <td>190        </td> <td>55         </td> <td>12                 </td>\n",
       "        </tr>\n",
       "    </tbody>\n",
       "        <tr>\n",
       "            <td>150        </td> <td>70         </td> <td>9                  </td>\n",
       "        </tr>\n",
       "    </tbody>\n",
       "        <tr>\n",
       "            <td>160        </td> <td>70         </td> <td>10                 </td>\n",
       "        </tr>\n",
       "    </tbody>\n",
       "        <tr>\n",
       "            <td>170        </td> <td>70         </td> <td>11                 </td>\n",
       "        </tr>\n",
       "    </tbody>\n",
       "        <tr>\n",
       "            <td>180        </td> <td>70         </td> <td>12                 </td>\n",
       "        </tr>\n",
       "    </tbody>\n",
       "        <tr>\n",
       "            <td>190        </td> <td>70         </td> <td>13                 </td>\n",
       "        </tr>\n",
       "    </tbody>\n",
       "</table>"
      ],
      "text/plain": [
       "<IPython.core.display.HTML object>"
      ]
     },
     "metadata": {},
     "output_type": "display_data"
    }
   ],
   "source": [
    "# We ask each customer his/her height and weight, and record\n",
    "# them in this table:\n",
    "customers_2 = Table().with_columns([\n",
    "        \"Name\", [\"Sue\", \"Aditya\", \"Maxime\"],\n",
    "        \"Height (cm)\", [160, 150, 160],\n",
    "        \"Weight (kg)\", [55, 55, 70]\n",
    "    ])\n",
    "\n",
    "# We figure out the typical shoe size for several heights.\n",
    "suggested_shoe_size_2 = Table().with_columns([\n",
    "        \"Height (cm)\", [150, 160, 170, 180, 190, 150, 160, 170, 180, 190],\n",
    "        \"Weight (kg)\", [55, 55, 55, 55, 55, 70, 70, 70, 70, 70],\n",
    "        \"Suggested shoe size\", [8, 9, 10, 11, 12, 9, 10, 11, 12, 13]\n",
    "    ])\n",
    "customers_2.show()\n",
    "suggested_shoe_size_2.show()"
   ]
  },
  {
   "cell_type": "markdown",
   "metadata": {},
   "source": [
    "We'd like to match Sue to shoe size 9, Aditya to shoe size 8, and Maxime to shoe size 10.  But `join` simply doesn't let us match on two columns at once like that!"
   ]
  },
  {
   "cell_type": "code",
   "execution_count": 7,
   "metadata": {
    "collapsed": true
   },
   "outputs": [],
   "source": [
    "# We want to do something like this...\n",
    "# customers_2.join([\"Height (cm)\", \"Weight (kg)\"], suggested_shoe_size_2)\n",
    "# ...but join just doesn't support that. :-("
   ]
  },
  {
   "cell_type": "markdown",
   "metadata": {},
   "source": [
    "If we just decide to just join on height, we don't get what we wanted.  Maxime gets matched to the suggestion for people who weigh 55 kilograms, but he weighs 70 kilograms."
   ]
  },
  {
   "cell_type": "code",
   "execution_count": 8,
   "metadata": {
    "collapsed": false
   },
   "outputs": [
    {
     "data": {
      "text/html": [
       "<table border=\"1\" class=\"dataframe\">\n",
       "    <thead>\n",
       "        <tr>\n",
       "            <th>Height (cm)</th> <th>Name</th> <th>Weight (kg)</th> <th>Weight (kg)_2</th> <th>Suggested shoe size</th>\n",
       "        </tr>\n",
       "    </thead>\n",
       "    <tbody>\n",
       "        <tr>\n",
       "            <td>150        </td> <td>Aditya</td> <td>55         </td> <td>55           </td> <td>8                  </td>\n",
       "        </tr>\n",
       "    </tbody>\n",
       "        <tr>\n",
       "            <td>160        </td> <td>Sue   </td> <td>55         </td> <td>55           </td> <td>9                  </td>\n",
       "        </tr>\n",
       "    </tbody>\n",
       "        <tr>\n",
       "            <td>160        </td> <td>Maxime</td> <td>70         </td> <td>55           </td> <td>9                  </td>\n",
       "        </tr>\n",
       "    </tbody>\n",
       "</table>"
      ],
      "text/plain": [
       "Height (cm) | Name   | Weight (kg) | Weight (kg)_2 | Suggested shoe size\n",
       "150         | Aditya | 55          | 55            | 8\n",
       "160         | Sue    | 55          | 55            | 9\n",
       "160         | Maxime | 70          | 55            | 9"
      ]
     },
     "execution_count": 8,
     "metadata": {},
     "output_type": "execute_result"
    }
   ],
   "source": [
    "customers_2.join(\"Height (cm)\", suggested_shoe_size_2)"
   ]
  },
  {
   "cell_type": "markdown",
   "metadata": {},
   "source": [
    "Okay, let's fix that.  The idea is to combine the data in the two columns (height and weight) into a single column.  We'll do that for both `customers_2` and `suggested_shoe_size_2`, and then use that new column to join.\n",
    "\n",
    "First, we'll write a function that takes two numbers and puts them together into a single *string*.  (Sound familiar?)  Then we'll apply that function to the height/weight columns in both tables."
   ]
  },
  {
   "cell_type": "code",
   "execution_count": 9,
   "metadata": {
    "collapsed": false
   },
   "outputs": [
    {
     "data": {
      "text/html": [
       "<table border=\"1\" class=\"dataframe\">\n",
       "    <thead>\n",
       "        <tr>\n",
       "            <th>Name</th> <th>Height (cm)</th> <th>Weight (kg)</th> <th>height and weight</th>\n",
       "        </tr>\n",
       "    </thead>\n",
       "    <tbody>\n",
       "        <tr>\n",
       "            <td>Sue   </td> <td>160        </td> <td>55         </td> <td>160 and 55       </td>\n",
       "        </tr>\n",
       "    </tbody>\n",
       "        <tr>\n",
       "            <td>Aditya</td> <td>150        </td> <td>55         </td> <td>150 and 55       </td>\n",
       "        </tr>\n",
       "    </tbody>\n",
       "        <tr>\n",
       "            <td>Maxime</td> <td>160        </td> <td>70         </td> <td>160 and 70       </td>\n",
       "        </tr>\n",
       "    </tbody>\n",
       "</table>"
      ],
      "text/plain": [
       "Name   | Height (cm) | Weight (kg) | height and weight\n",
       "Sue    | 160         | 55          | 160 and 55\n",
       "Aditya | 150         | 55          | 150 and 55\n",
       "Maxime | 160         | 70          | 160 and 70"
      ]
     },
     "execution_count": 9,
     "metadata": {},
     "output_type": "execute_result"
    }
   ],
   "source": [
    "def shoes_append_numbers(num1, num2):\n",
    "    # This function takes two arguments, both numbers, and returns\n",
    "    # the string \"<num1> and <num2>\".\n",
    "    # So we'd like to create a string that puts \" and \" in\n",
    "    # between the two given numbers.  Recall that adding two strings\n",
    "    # with + makes a new string with both strings smashed\n",
    "    # together.  But we can't add a string and a number, or\n",
    "    # Python will raise an error.  Instead, we first make string\n",
    "    # versions of our numbers.\n",
    "    string_num1 = str(num1)\n",
    "    string_num2 = str(num2)\n",
    "    return string_num1 + \" and \" + string_num2\n",
    "\n",
    "customers_heights_and_weights = customers_2.apply(shoes_append_numbers, [\"Height (cm)\", \"Weight (kg)\"])\n",
    "customers_2.append_column(\"height and weight\", customers_heights_and_weights)\n",
    "customers_2"
   ]
  },
  {
   "cell_type": "markdown",
   "metadata": {},
   "source": [
    "Here's a picture of how `customers_2.apply(shoes_append_numbers, [\"Height (cm)\", \"Weight (kg)\"])` works:\n",
    "\n",
    "<img src=\"guide_shoes_append_numbers.jpg\">"
   ]
  },
  {
   "cell_type": "code",
   "execution_count": 10,
   "metadata": {
    "collapsed": false
   },
   "outputs": [
    {
     "data": {
      "text/html": [
       "<table border=\"1\" class=\"dataframe\">\n",
       "    <thead>\n",
       "        <tr>\n",
       "            <th>Height (cm)</th> <th>Weight (kg)</th> <th>Suggested shoe size</th> <th>height and weight</th>\n",
       "        </tr>\n",
       "    </thead>\n",
       "    <tbody>\n",
       "        <tr>\n",
       "            <td>150        </td> <td>55         </td> <td>8                  </td> <td>150 and 55       </td>\n",
       "        </tr>\n",
       "    </tbody>\n",
       "        <tr>\n",
       "            <td>160        </td> <td>55         </td> <td>9                  </td> <td>160 and 55       </td>\n",
       "        </tr>\n",
       "    </tbody>\n",
       "        <tr>\n",
       "            <td>170        </td> <td>55         </td> <td>10                 </td> <td>170 and 55       </td>\n",
       "        </tr>\n",
       "    </tbody>\n",
       "        <tr>\n",
       "            <td>180        </td> <td>55         </td> <td>11                 </td> <td>180 and 55       </td>\n",
       "        </tr>\n",
       "    </tbody>\n",
       "        <tr>\n",
       "            <td>190        </td> <td>55         </td> <td>12                 </td> <td>190 and 55       </td>\n",
       "        </tr>\n",
       "    </tbody>\n",
       "        <tr>\n",
       "            <td>150        </td> <td>70         </td> <td>9                  </td> <td>150 and 70       </td>\n",
       "        </tr>\n",
       "    </tbody>\n",
       "        <tr>\n",
       "            <td>160        </td> <td>70         </td> <td>10                 </td> <td>160 and 70       </td>\n",
       "        </tr>\n",
       "    </tbody>\n",
       "        <tr>\n",
       "            <td>170        </td> <td>70         </td> <td>11                 </td> <td>170 and 70       </td>\n",
       "        </tr>\n",
       "    </tbody>\n",
       "        <tr>\n",
       "            <td>180        </td> <td>70         </td> <td>12                 </td> <td>180 and 70       </td>\n",
       "        </tr>\n",
       "    </tbody>\n",
       "        <tr>\n",
       "            <td>190        </td> <td>70         </td> <td>13                 </td> <td>190 and 70       </td>\n",
       "        </tr>\n",
       "    </tbody>\n",
       "</table>"
      ],
      "text/plain": [
       "Height (cm) | Weight (kg) | Suggested shoe size | height and weight\n",
       "150         | 55          | 8                   | 150 and 55\n",
       "160         | 55          | 9                   | 160 and 55\n",
       "170         | 55          | 10                  | 170 and 55\n",
       "180         | 55          | 11                  | 180 and 55\n",
       "190         | 55          | 12                  | 190 and 55\n",
       "150         | 70          | 9                   | 150 and 70\n",
       "160         | 70          | 10                  | 160 and 70\n",
       "170         | 70          | 11                  | 170 and 70\n",
       "180         | 70          | 12                  | 180 and 70\n",
       "190         | 70          | 13                  | 190 and 70"
      ]
     },
     "execution_count": 10,
     "metadata": {},
     "output_type": "execute_result"
    }
   ],
   "source": [
    "# Now we're just doing the same thing for suggested_shoe_size_2:\n",
    "suggestions_heights_and_weights = suggested_shoe_size_2.apply(shoes_append_numbers, [\"Height (cm)\", \"Weight (kg)\"])\n",
    "suggested_shoe_size_2.append_column(\"height and weight\", suggestions_heights_and_weights)\n",
    "suggested_shoe_size_2"
   ]
  },
  {
   "cell_type": "markdown",
   "metadata": {},
   "source": [
    "Now we can join using this new amalgamated column we've created.  Notice that Maxime's \"height and weight\" is \"160 and 70\", which matches the value of \"height and weight\" in the row of `suggested_shoe_size_2` with suggested shoe size 10.  That's what we wanted."
   ]
  },
  {
   "cell_type": "code",
   "execution_count": 11,
   "metadata": {
    "collapsed": false
   },
   "outputs": [
    {
     "data": {
      "text/html": [
       "<table border=\"1\" class=\"dataframe\">\n",
       "    <thead>\n",
       "        <tr>\n",
       "            <th>height and weight</th> <th>Name</th> <th>Height (cm)</th> <th>Weight (kg)</th> <th>Suggested shoe size</th>\n",
       "        </tr>\n",
       "    </thead>\n",
       "    <tbody>\n",
       "        <tr>\n",
       "            <td>150 and 55       </td> <td>Aditya</td> <td>150        </td> <td>55         </td> <td>8                  </td>\n",
       "        </tr>\n",
       "    </tbody>\n",
       "        <tr>\n",
       "            <td>160 and 55       </td> <td>Sue   </td> <td>160        </td> <td>55         </td> <td>9                  </td>\n",
       "        </tr>\n",
       "    </tbody>\n",
       "        <tr>\n",
       "            <td>160 and 70       </td> <td>Maxime</td> <td>160        </td> <td>70         </td> <td>10                 </td>\n",
       "        </tr>\n",
       "    </tbody>\n",
       "</table>"
      ],
      "text/plain": [
       "height and weight | Name   | Height (cm) | Weight (kg) | Suggested shoe size\n",
       "150 and 55        | Aditya | 150         | 55          | 8\n",
       "160 and 55        | Sue    | 160         | 55          | 9\n",
       "160 and 70        | Maxime | 160         | 70          | 10"
      ]
     },
     "execution_count": 11,
     "metadata": {},
     "output_type": "execute_result"
    }
   ],
   "source": [
    "# Now we can join using this new amalgamated column we created.\n",
    "# We can omit the third argument to join, which would ordinarily\n",
    "# be the name of the column in suggested_shoe_size_2 to match on,\n",
    "# because it's just \"height and weight\" again.\n",
    "recommendations_2 = customers_2.join(\"height and weight\", suggested_shoe_size_2)\n",
    "# Get rid of some redundant columns to help you see what's going on...\n",
    "recommendations_2 = recommendations_2.select([0, 1, 2, 3, 6])\n",
    "recommendations_2"
   ]
  },
  {
   "cell_type": "markdown",
   "metadata": {},
   "source": [
    "Now Maxime gets the right suggested shoe size for her height and weight (10), and our online shoe store will thrive."
   ]
  },
  {
   "cell_type": "markdown",
   "metadata": {},
   "source": [
    "**Question 1.7.** Follow the suggestion in the problem and try examples:"
   ]
  },
  {
   "cell_type": "code",
   "execution_count": 12,
   "metadata": {
    "collapsed": false
   },
   "outputs": [
    {
     "name": "stdout",
     "output_type": "stream",
     "text": [
      "3.0\n",
      "4.0\n",
      "3.5\n",
      "3.5\n",
      "3.0\n",
      "3.5\n"
     ]
    }
   ],
   "source": [
    "def mysterious_function(num):\n",
    "    return round(2 * num) / 2\n",
    "\n",
    "# Add some lines like this to see what mysterious_function returns for various inputs:\n",
    "print(mysterious_function(3.01))\n",
    "print(mysterious_function(3.99))\n",
    "# So far it looks like mysterious_function just rounds to the nearest integer.  Let's see...\n",
    "print(mysterious_function(3.49))\n",
    "print(mysterious_function(3.51))\n",
    "print(mysterious_function(3.24))\n",
    "print(mysterious_function(3.26))"
   ]
  },
  {
   "cell_type": "markdown",
   "metadata": {
    "collapsed": false
   },
   "source": [
    "**Question 1.13.** Let's look at a similar task.  We're going to put stations into three groups: close to coast (less than 50 km from a coast), sort of near a coast (50 to 250 km from a coast), and very far inland (\\>250 km from a coast).  And we'll compute the average max temperature instead of the average spread.  This will let us see if coastal areas have lower average temperatures, in addition to smaller variation in temperature.\n",
    "\n",
    "First, we'll define a function that takes a single number (intended to be a distance from coast, in kilometers) and returns a different string depending on how big the distance is:\n",
    "\n",
    "    def coast_category(distance):\n",
    "        if distance < 50:\n",
    "            return \"close to coast\"\n",
    "        elif 50 <= distance < 250:\n",
    "            return \"sort of near coast\"\n",
    "        else:\n",
    "            return \"very far from coast\"\n",
    "\n",
    "To answer question 1.13, you'd make a slightly different categorization function.  Instead of the strings `\"close to coast\"`, `\"sort of near coast\"`, and `\"very far from coast\"`, you'd want to return the boolean value `True` if the distance is bigger than 50 and `False` otherwise.\n",
    "\n",
    "Now we'll use `apply` and our categorization function to categorize each reading in `daily_temp_with_distances`.  We'll also grab the max temperature for each day.\n",
    "\n",
    "    max_temp_and_category = Table().with_columns([\n",
    "            \"max temp (°F)\",\n",
    "            daily_temp_with_distances.column(\"Tmax\"),\n",
    "            \"coast category\", \n",
    "            daily_temp_with_distances.apply(coast_category, \"distance to coast (km)\")\n",
    "        ])\n",
    "\n",
    "Finally, we'll group by the categories we created:\n",
    "\n",
    "    max_by_category = max_temp_and_category.group(\"coast category\", np.average)\n",
    "    print(max_by_category)\n",
    "    \n",
    "...which results in:\n",
    "\n",
    "    coast category      | max temp (°F) average\n",
    "    close to coast      | 68.9502\n",
    "    sort of near coast  | 71.6054\n",
    "    very far from coast | 65.3718\n",
    "    \n",
    "It looks like maximum temperature is lowest on average for places very far from the coast.  That probably reflects the large inland landmasses in North America and Asia, which are generally very cold.  But the relationship isn't simple -- the highest average temperature is in the middle category.\n",
    "\n",
    "**Discussion question**: Does our analysis suggest that being very far from a coast is associated with low temperatures?  Does it suggest that being very far from a coast *causes* low temperatures?"
   ]
  },
  {
   "cell_type": "markdown",
   "metadata": {},
   "source": [
    "# 2. Cats and boxes\n",
    "This question is intended to help you think about abstract representations of real-world objects.  Rather than go through the questions, we'll work some other examples.\n",
    "\n",
    "**Example Question 2.5.**\n",
    "\n",
    "<img src=\"guide_box01.jpg\">\n",
    "\n",
    "The only thing in this scene is a box, and there's nothing inside it.  So the right representation for this one is just `Box()`.  If we had to assign that the name `box_25`, as in the homework problems, we might write:"
   ]
  },
  {
   "cell_type": "code",
   "execution_count": 13,
   "metadata": {
    "collapsed": false
   },
   "outputs": [
    {
     "data": {
      "text/plain": [
       "Box()"
      ]
     },
     "execution_count": 13,
     "metadata": {},
     "output_type": "execute_result"
    }
   ],
   "source": [
    "box_25 = Box()\n",
    "box_25"
   ]
  },
  {
   "cell_type": "markdown",
   "metadata": {},
   "source": [
    "**Example Question 2.6.**\n",
    "\n",
    "<img src=\"guide_cat01.jpg\">\n",
    "\n",
    "In this scene, there is one box, so we know that our expression should look something like `Box(...)`, except with the contents of the box instead of the `...`.\n",
    "\n",
    "Inside that box, there are 5 cats.  (Count heads.)  Each cat should be represented by a Cat object inside the Box.  To make a Cat object, we just write `Cat()`.  So the right representation is:"
   ]
  },
  {
   "cell_type": "code",
   "execution_count": 14,
   "metadata": {
    "collapsed": false
   },
   "outputs": [
    {
     "data": {
      "text/plain": [
       "Box(Cat(), Cat(), Cat(), Cat(), Cat())"
      ]
     },
     "execution_count": 14,
     "metadata": {},
     "output_type": "execute_result"
    }
   ],
   "source": [
    "box_26 = Box(Cat(), Cat(), Cat(), Cat(), Cat())\n",
    "box_26"
   ]
  },
  {
   "cell_type": "markdown",
   "metadata": {},
   "source": [
    "It's worth noting that we're supposed to pass arguments to `Box` in the order in which things appear in the box, *left to right*.  In this case, since all the cats are represented in the same way (they're all just `Cat()`), the order doesn't matter, and we don't actually have to figure out how the cats are arranged, which isn't all that well-defined for this scene."
   ]
  },
  {
   "cell_type": "markdown",
   "metadata": {},
   "source": [
    "**Example Question 2.7.**\n",
    "\n",
    "We were surprised to learn after designing this homework assignment that some pictures on the Internet could not be represented with our `Box` and `Cat` types alone.  To fix this (and to give you more examples without just answering the homework questions), we have introduced two new types for this guide:\n",
    "* Kitten: A Kitten object represents a kitten.  As with Cat objects, we can construct a Kitten by calling the `Kitten` function with no arguments.  That is, the value of `Kitten()` is a Kitten object.\n",
    "* Dog: A Dog is similar to a Cat, but unlike Cats and Kittens, it has a specific breed.  So the function `Dog` takes a single argument, a *string* that is the breed of the Dog to be created, and returns a Dog with that breed.\n",
    "\n",
    "For example,"
   ]
  },
  {
   "cell_type": "code",
   "execution_count": 15,
   "metadata": {
    "collapsed": false
   },
   "outputs": [
    {
     "data": {
      "text/plain": [
       "Dog(\"Shiba Inu\")"
      ]
     },
     "execution_count": 15,
     "metadata": {},
     "output_type": "execute_result"
    }
   ],
   "source": [
    "Dog(\"Shiba Inu\")"
   ]
  },
  {
   "cell_type": "markdown",
   "metadata": {},
   "source": [
    "is a Dog object that represents a Shiba Inu (a breed of dog)."
   ]
  },
  {
   "cell_type": "code",
   "execution_count": 16,
   "metadata": {
    "collapsed": false
   },
   "outputs": [
    {
     "data": {
      "text/plain": [
       "[Kitten(), Kitten()]"
      ]
     },
     "execution_count": 16,
     "metadata": {},
     "output_type": "execute_result"
    }
   ],
   "source": [
    "[Kitten(), Kitten()]"
   ]
  },
  {
   "cell_type": "markdown",
   "metadata": {},
   "source": [
    "is a list of two Kittens."
   ]
  },
  {
   "cell_type": "code",
   "execution_count": 17,
   "metadata": {
    "collapsed": false
   },
   "outputs": [
    {
     "data": {
      "text/html": [
       "<table border=\"1\" class=\"dataframe\">\n",
       "    <thead>\n",
       "        <tr>\n",
       "            <th>animal</th> <th>name</th>\n",
       "        </tr>\n",
       "    </thead>\n",
       "    <tbody>\n",
       "        <tr>\n",
       "            <td>Kitten()</td> <td>Susy  </td>\n",
       "        </tr>\n",
       "    </tbody>\n",
       "        <tr>\n",
       "            <td>Cat()   </td> <td>Quincy</td>\n",
       "        </tr>\n",
       "    </tbody>\n",
       "</table>"
      ],
      "text/plain": [
       "animal   | name\n",
       "Kitten() | Susy\n",
       "Cat()    | Quincy"
      ]
     },
     "execution_count": 17,
     "metadata": {},
     "output_type": "execute_result"
    }
   ],
   "source": [
    "Table().with_columns([\n",
    "        \"animal\", [Kitten(), Cat()],\n",
    "        \"name\",   [\"Susy\",   \"Quincy\"]\n",
    "    ])"
   ]
  },
  {
   "cell_type": "markdown",
   "metadata": {},
   "source": [
    "is a table representing two animals, the first a kitten named Susy, and the second a cat named Quincy.  Note that the animals' names are not part of the Kitten or Cat objects; we've just used a two-column table to associate a name with each animal.\n",
    "\n",
    "Now, let's think about how to represent the following picture:\n",
    "\n",
    "<img src=\"guide_dogcat01.jpg\">\n",
    "\n",
    "In the picture, everything is inside one box.  So our expression for the scene should look like `Box(...)`, with some stuff instead of `...`.\n",
    "\n",
    "There's a dog to the far left, and it appears to be a Border Collie.  So the first argument to `Box` should be `Dog(\"Border Collie\")`.  To the right of that is a mother cat, so the second argument to `Box` should be `Cat()`.  To the right of that is 4 kittens, so the last 4 arguments to `Box` should all be `Kitten()`.  So we get the expression:"
   ]
  },
  {
   "cell_type": "code",
   "execution_count": 18,
   "metadata": {
    "collapsed": false
   },
   "outputs": [
    {
     "data": {
      "text/plain": [
       "Box(Dog(\"Border Collie\"), Cat(), Kitten(), Kitten(), Kitten(), Kitten())"
      ]
     },
     "execution_count": 18,
     "metadata": {},
     "output_type": "execute_result"
    }
   ],
   "source": [
    "box_27 = Box(Dog(\"Border Collie\"), Cat(), Kitten(), Kitten(), Kitten(), Kitten())\n",
    "box_27"
   ]
  },
  {
   "cell_type": "markdown",
   "metadata": {
    "collapsed": true
   },
   "source": [
    "# 3. Warplanes"
   ]
  },
  {
   "cell_type": "markdown",
   "metadata": {},
   "source": [
    "This problem is very similar to the example from [lecture on 2/19](https://data-8.appspot.com/sp16/unit?unit=4&lesson=32).  However, we're asking you to write the code in slightly different ways than you saw in lecture.  There's often more than one way to write code to do something, and it's good to see many different approaches.\n",
    "\n",
    "For the guide, we're going to go through a very similar problem.  *Please understand: The statistical setup behind this problem is different from the setup of the Warplane problem, but the code is almost identical.*  So pay attention to the differences.\n",
    "\n",
    "In the fantasy role-playing game Dungeons & Dragons, a player performs actions by rolling a 20-sided die, adding a \"modifier\" number to the roll that depends on her character's competency with that action, and comparing the total to a threshold for success.  For example, suppose Alice's character, a barbarian warrior named Roga, is trying to knock down a heavy door.  She rolls a 20-sided die, adds a modifier of 11 to the result (because her character is good at knocking down doors), and succeeds if the total is greater than 15.\n",
    "\n",
    "Suppose we don't know that Roga has a modifier of 11 for this action.  Instead, we observe the total (that is, the die roll plus the modifier of 11) from each of 7 of her attempts to knock down doors.  We do know that she rolls 20-sided dice and adds her modifier to produce each of these totals.  We would like to estimate her modifier from these 7 numbers.\n",
    "\n",
    "**Question 3.1 [D&D version].** Let's simulate a dataset of observations that we might see.  A roll of a 20-sided die is a number chosen uniformly from {1, 2, 3, 4, ..., 20}.  So a roll of a 20-sided die *plus 11* is a number chosen uniformly from {12, 13, 14, 15, ..., 31}.  So our `simulate_observations` function will return an array of 7 numbers chosen according to that distribution."
   ]
  },
  {
   "cell_type": "code",
   "execution_count": 19,
   "metadata": {
    "collapsed": false
   },
   "outputs": [
    {
     "data": {
      "text/plain": [
       "array([13, 28, 31, 19, 30, 30, 20])"
      ]
     },
     "execution_count": 19,
     "metadata": {},
     "output_type": "execute_result"
    }
   ],
   "source": [
    "# Roga's true modifier\n",
    "MODIFIER = 11\n",
    "# The number of attempts we observe, from which we want to guess\n",
    "# the value of MODIFIER.\n",
    "num_observations = 7\n",
    "\n",
    "def simulate_observations():\n",
    "    # If we call np.random.randint(x, y, z), we get an array of z\n",
    "    # elements, each a random number chosen uniformly from\n",
    "    # {x, x+1, x+2, ..., y-1}.  So all we have to do is:\n",
    "    return np.random.randint(1 + MODIFIER, 20 + MODIFIER + 1, num_observations)\n",
    "\n",
    "# Now we just call our function once to generate observations.\n",
    "observations = simulate_observations()\n",
    "observations"
   ]
  },
  {
   "cell_type": "markdown",
   "metadata": {},
   "source": [
    "**Question 3.2 [D&D version].** Now we're going to draw a histogram to display the distribution of rolls we might see.  The steps are explained in comments in the code."
   ]
  },
  {
   "cell_type": "code",
   "execution_count": 20,
   "metadata": {
    "collapsed": false
   },
   "outputs": [
    {
     "data": {
      "image/png": "[encoded data removed]",
      "text/plain": [
       "<matplotlib.figure.Figure at 0x10a9f9630>"
      ]
     },
     "metadata": {},
     "output_type": "display_data"
    }
   ],
   "source": [
    "# First we'll make a table of the rolls.  Each roll is\n",
    "# equally likely, so a histogram of this table is the same\n",
    "# as a histogram of the roll distribution.\n",
    "total_rolls = Table().with_column(\"total roll\", np.arange(1+MODIFIER, 20 + MODIFIER + 1))\n",
    "# To capture all the data and have one roll per bin, the bins for\n",
    "# the histogram need to be at least 12-13, 13-14, 14-15, ..., 31-32.\n",
    "# To show that the rolls 1, 2, 3, ..., 11 are impossible, we're\n",
    "# choosing to start the bins at 1 rather than 12.\n",
    "# That means we want np.arange(1, 33, 1).  You can verify that\n",
    "# that's the same as np.arange(1, 20+MODIFIER+2, 1).\n",
    "roll_bins = np.arange(1, 20+MODIFIER+2, 1)\n",
    "# Now we just make the histogram:\n",
    "total_rolls.hist(bins=roll_bins)"
   ]
  },
  {
   "cell_type": "markdown",
   "metadata": {},
   "source": [
    "**Questions 3.3 [D&D version].** Now let's try to estimate the modifier.  One straightforward (but clearly suboptimal) way to do that is to find the *smallest* total roll, since the smallest roll on a 20-sided die is 1, which is roughly 0.  Using that method, we'll estimate `MODIFIER` from `observations`.\n",
    "\n",
    "Again, note that the problem we're going over in this guide is different from that in the homework.  In the homework, it made more sense to use just the maximum observation.  In this setup, the minimum is a kinda-reasonable estimator."
   ]
  },
  {
   "cell_type": "code",
   "execution_count": 21,
   "metadata": {
    "collapsed": false
   },
   "outputs": [
    {
     "data": {
      "text/plain": [
       "13"
      ]
     },
     "execution_count": 21,
     "metadata": {},
     "output_type": "execute_result"
    }
   ],
   "source": [
    "min_estimate = min(observations)\n",
    "min_estimate"
   ]
  },
  {
   "cell_type": "markdown",
   "metadata": {},
   "source": [
    "**Question 3.4 [D&D version].** Now we'll write a function that computes a different, more complicated estimate of the modifier.  We'll take the average total roll and subtract 10, since that's roughly the average roll of a 20-sided die.  We'll call it `mean_based_modifier_estimator`."
   ]
  },
  {
   "cell_type": "code",
   "execution_count": 22,
   "metadata": {
    "collapsed": false
   },
   "outputs": [
    {
     "data": {
      "text/plain": [
       "5.0"
      ]
     },
     "execution_count": 22,
     "metadata": {},
     "output_type": "execute_result"
    }
   ],
   "source": [
    "def mean_based_modifier_estimator(nums):\n",
    "    return np.average(nums) - 10\n",
    "mean_based_modifier_estimator(np.array([11, 13, 14, 22])) # Should be (11+13+14+22)/4 - 10 = 5"
   ]
  },
  {
   "cell_type": "markdown",
   "metadata": {},
   "source": [
    "Notice that this estimator is also based on the mean of the sample, like the mean-based estimator in the homework.  But in the Warplanes problem, it made sense to multiply the mean by 2.  In this case, it makes sense to subtract 10."
   ]
  },
  {
   "cell_type": "markdown",
   "metadata": {},
   "source": [
    "**Question 3.5 [D&D version].** Let's see whether these two estimation strategies are different.  They are in fact different, so hopefully the code below will display a difference:"
   ]
  },
  {
   "cell_type": "code",
   "execution_count": 23,
   "metadata": {
    "collapsed": false
   },
   "outputs": [
    {
     "name": "stdout",
     "output_type": "stream",
     "text": [
      "min(observations) is 13\n",
      "mean_based_modifier_estimator(observations) is 14.4285714286\n"
     ]
    }
   ],
   "source": [
    "print(\"min(observations) is \" + str(min(observations)))\n",
    "print(\"mean_based_modifier_estimator(observations) is \" + str(mean_based_modifier_estimator(observations)))"
   ]
  },
  {
   "cell_type": "markdown",
   "metadata": {},
   "source": [
    "The fact that they're different on this one example is enough to show that they're different.  We could also observe that if the lowest total roll we observe is 11, the min estimate will always be 11, but the mean-based estimate will depend on the values of the other rolls we observe."
   ]
  },
  {
   "cell_type": "markdown",
   "metadata": {},
   "source": [
    "**Question 3.6 [D&D version].** We pretty much did this above, but let's compute the mean-based estimator on `observations`."
   ]
  },
  {
   "cell_type": "code",
   "execution_count": 24,
   "metadata": {
    "collapsed": false
   },
   "outputs": [
    {
     "data": {
      "text/plain": [
       "14.428571428571427"
      ]
     },
     "execution_count": 24,
     "metadata": {},
     "output_type": "execute_result"
    }
   ],
   "source": [
    "mean_based_estimate = mean_based_modifier_estimator(observations)\n",
    "mean_based_estimate"
   ]
  },
  {
   "cell_type": "markdown",
   "metadata": {},
   "source": [
    "**Question 3.7 [D&D version].** Now we want to know how well our two estimators work.  To do that, we'll imagine what *could have happened* when we got our observations.  Concretely, that means we'll generate new sets of observations 1000 times (that is, 1000 times, we'll simulate 7 total rolls).  Each time, we'll use both estimators to compute estimates of the modifier for each simulated observation set.  In the next question, we'll display the distribution of those estimates.  That will show us how often each estimator does how well.  \n",
    "\n",
    "Now, how does the code work?  Well, let's start by making an empty table of estimates.  There should be two columns, one for the min estimates and one for the mean-based estimates.\n",
    "\n",
    "    estimates = Table([\"min_estimate\", \"mean_based_modifier_estimate\"])\n",
    "\n",
    "Now, we know we want to repeat something 1000 times.  That's a job for a `for` loop.  To do something 1000 times, use an array of 1000 things, like `np.arange(0, 1000, 1)`.  `range(1000)` is basically shorthand for that.\n",
    "\n",
    "    estimates = Table([\"min_estimate\", \"mean_based_modifier_estimate\"])\n",
    "    for i in range(1000):\n",
    "        ...\n",
    "\n",
    "The lines under the `for` loop (and there can be as many as we want) will be done 1000 times.  Each time `i` will have a new value from `range(1000)`, but we don't really care about that in this case.\n",
    "\n",
    "Each of the 1000 times, we first want to generate a new observation set.  We can use our function `simulate_observations` to do that.  We'll save the observation set by giving it the name `new_observations`.  Each time through the loop, `new_observations` will get assigned to a new observation set, and the previous one will be lost in the ether.\n",
    "\n",
    "    estimates = Table([\"min_estimate\", \"mean_based_modifier_estimate\"])\n",
    "    for i in range(1000):\n",
    "        new_observations = simulate_observations()\n",
    "        ...\n",
    "\n",
    "For each observation set, we want to compute the min estimate and the mean-based estimate.  We can do that just like before, calling the built-in function `min` and the function we defined, `mean_based_modifier_estimator`.\n",
    "\n",
    "    estimates = Table([\"min_estimate\", \"mean_based_modifier_estimate\"])\n",
    "    for i in range(1000):\n",
    "        new_observations = simulate_observations()\n",
    "        new_min_estimate = min(new_observations)\n",
    "        new_mean_based_modifier_estimate = mean_based_modifier_estimator(new_observations)\n",
    "        ...\n",
    "\n",
    "Finally, we want to add a new row with these two estimates to our table `estimates`.  One way to do that is with the Table method `append`, which takes a row (a list of values, one for each column in the table) and adds it to the table."
   ]
  },
  {
   "cell_type": "code",
   "execution_count": 25,
   "metadata": {
    "collapsed": false
   },
   "outputs": [
    {
     "data": {
      "text/html": [
       "<table border=\"1\" class=\"dataframe\">\n",
       "    <thead>\n",
       "        <tr>\n",
       "            <th>min_estimate</th> <th>mean_based_modifier_estimate</th>\n",
       "        </tr>\n",
       "    </thead>\n",
       "    <tbody>\n",
       "        <tr>\n",
       "            <td>15          </td> <td>11.2857                     </td>\n",
       "        </tr>\n",
       "    </tbody>\n",
       "        <tr>\n",
       "            <td>13          </td> <td>10                          </td>\n",
       "        </tr>\n",
       "    </tbody>\n",
       "        <tr>\n",
       "            <td>12          </td> <td>8.57143                     </td>\n",
       "        </tr>\n",
       "    </tbody>\n",
       "        <tr>\n",
       "            <td>13          </td> <td>11.5714                     </td>\n",
       "        </tr>\n",
       "    </tbody>\n",
       "        <tr>\n",
       "            <td>12          </td> <td>10.1429                     </td>\n",
       "        </tr>\n",
       "    </tbody>\n",
       "        <tr>\n",
       "            <td>14          </td> <td>12                          </td>\n",
       "        </tr>\n",
       "    </tbody>\n",
       "        <tr>\n",
       "            <td>15          </td> <td>8.85714                     </td>\n",
       "        </tr>\n",
       "    </tbody>\n",
       "        <tr>\n",
       "            <td>12          </td> <td>11.5714                     </td>\n",
       "        </tr>\n",
       "    </tbody>\n",
       "        <tr>\n",
       "            <td>12          </td> <td>10.2857                     </td>\n",
       "        </tr>\n",
       "    </tbody>\n",
       "        <tr>\n",
       "            <td>13          </td> <td>9.57143                     </td>\n",
       "        </tr>\n",
       "    </tbody>\n",
       "</table>\n",
       "<p>... (990 rows omitted)</p"
      ],
      "text/plain": [
       "min_estimate | mean_based_modifier_estimate\n",
       "15           | 11.2857\n",
       "13           | 10\n",
       "12           | 8.57143\n",
       "13           | 11.5714\n",
       "12           | 10.1429\n",
       "14           | 12\n",
       "15           | 8.85714\n",
       "12           | 11.5714\n",
       "12           | 10.2857\n",
       "13           | 9.57143\n",
       "... (990 rows omitted)"
      ]
     },
     "execution_count": 25,
     "metadata": {},
     "output_type": "execute_result"
    }
   ],
   "source": [
    "estimates = Table([\"min_estimate\", \"mean_based_modifier_estimate\"])\n",
    "for i in range(1000):\n",
    "    new_observations = simulate_observations()\n",
    "    new_min_estimate = min(new_observations)\n",
    "    new_mean_based_modifier_estimate = mean_based_modifier_estimator(new_observations)\n",
    "    new_row = [new_min_estimate, new_mean_based_modifier_estimate]\n",
    "    estimates.append(new_row)\n",
    "\n",
    "estimates"
   ]
  },
  {
   "cell_type": "markdown",
   "metadata": {},
   "source": [
    "Here's a histogram of those estimates:"
   ]
  },
  {
   "cell_type": "code",
   "execution_count": 26,
   "metadata": {
    "collapsed": false
   },
   "outputs": [
    {
     "data": {
      "image/png": "[encoded data removed]",
      "text/plain": [
       "<matplotlib.figure.Figure at 0x10aa82a20>"
      ]
     },
     "metadata": {},
     "output_type": "display_data"
    }
   ],
   "source": [
    "# Just run this cell.\n",
    "estimates.hist(bins=np.arange(0, 35, 1))"
   ]
  },
  {
   "cell_type": "markdown",
   "metadata": {},
   "source": [
    "**Question 3.8 [D&D version].** What do the blue and yellow histograms represent?\n",
    "\n",
    "The blue histogram is the *empirical distribution* of estimates of the modifier using our min-based estimator.  The yellow histogram is the empirical distribution of estimates of the modifier using our mean-based estimator."
   ]
  },
  {
   "cell_type": "markdown",
   "metadata": {},
   "source": [
    "**Question 3.9 [D&D version].** Why do the `min`-based estimates bottom out at 12, while some of the `mean`-based estimates are smaller than that?\n",
    "\n",
    "The smallest roll we can get on a 20-sided die is 1, so the smallest total roll is `1 + MODIFIER`, or 12.  It's impossible for the `min` to be smaller than that.\n",
    "\n",
    "On the other hand, if the mean of the 7 roll totals is less than 22, then the mean-based estimate will be less than 12.  It's totally possible for the mean of 7 roll totals to be less than 22.  Our 7 rolls could be, for example, 11, 1, 4, 7, 7, 15, and 2.  That would give us total rolls of 22, 12, 15, 18, 18, 26, and 13, an average total roll of ~17.71, and a mean-based estimate of ~7.71."
   ]
  }
 ],
 "metadata": {
  "kernelspec": {
   "display_name": "Python 3",
   "language": "python",
   "name": "python3"
  },
  "language_info": {
   "codemirror_mode": {
    "name": "ipython",
    "version": 3
   },
   "file_extension": ".py",
   "mimetype": "text/x-python",
   "name": "python",
   "nbconvert_exporter": "python",
   "pygments_lexer": "ipython3",
   "version": "3.4.4"
  }
 },
 "nbformat": 4,
 "nbformat_minor": 0
}
