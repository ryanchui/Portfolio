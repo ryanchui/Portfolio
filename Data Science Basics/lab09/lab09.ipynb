{
 "cells": [
  {
   "cell_type": "markdown",
   "metadata": {},
   "source": [
    "# Lab 9\n",
    "\n",
    "# 0. Intro\n",
    "Welcome to Lab 9!\n",
    "\n",
    "You're probably exhausted from midterm season, so it's a great time to let a machine learn for you!  This lab covers an important machine learning topic: multiple linear regression, or in less fancy terminology, \"how to predict a number using multiple sources of information that are numbers.\"  We'll see how to predict the selling price of a house, which might come in handy if you ever sell your own house.\n",
    "\n",
    "#### Administrative details\n",
    "Lab submissions are due by **Friday, March 18 at 7:00 PM**.\n",
    "\n",
    "As usual, if you attend lab section and make a good effort but don't finish during the 2 hours, let your TA know, and you'll get full credit for the lab.  If you do that, please finish the lab on your own time (or in office hours, of course)."
   ]
  },
  {
   "cell_type": "code",
   "execution_count": 1,
   "metadata": {
    "collapsed": false
   },
   "outputs": [
    {
     "name": "stdout",
     "output_type": "stream",
     "text": [
      "=====================================================================\n",
      "Assignment: Lab 9\n",
      "OK, version v1.5.1\n",
      "=====================================================================\n",
      "\n"
     ]
    }
   ],
   "source": [
    "# Run this cell, but please don't change it.\n",
    "\n",
    "# These lines import the Numpy and Datascience modules.\n",
    "import numpy as np\n",
    "from datascience import *\n",
    "\n",
    "# These lines do some fancy plotting magic.\n",
    "import matplotlib\n",
    "%matplotlib inline\n",
    "import matplotlib.pyplot as plt\n",
    "plt.style.use('fivethirtyeight')\n",
    "import warnings\n",
    "warnings.simplefilter('ignore', FutureWarning)\n",
    "\n",
    "# This line loads a small addition to the minimize function for this lab.\n",
    "from lab09_minimize import *\n",
    "\n",
    "# These lines load the tests.\n",
    "from client.api.assignment import load_assignment \n",
    "lab09 = load_assignment('lab09.ok')"
   ]
  },
  {
   "cell_type": "markdown",
   "metadata": {},
   "source": [
    "# 1. Predicting House Prices\n",
    "For many people, their house is their most valuable asset, so selling a house is an important event.  When deciding on a price to sell at, an owner wants to ask for the highest price at which she can sell the house in a reasonable amount of time.  Owners often ask real-estate agents to set the price, and these agents use their knowledge of the house and the local housing market to guess at the right price.\n",
    "\n",
    "Let's see if we can do that with a computer instead, by mimicking prices other owners set for *similar* houses.  Since we're predicting a price, which is a number, this is a *regression* task.  And we want to use multiple pieces of information about a house to predict its price, so it's a *multiple* regression task.  Since we've learned about linear regression in this class, we'll do multiple *linear* regression.\n",
    "\n",
    "The table `house_prices.csv` contains the listed prices of 566 houses sold in Southern California in 2009.    For each house, it also records several of the house's attributes:\n",
    "* how big it is (in square feet),\n",
    "* the number of bedrooms and bathrooms it has, and\n",
    "* the house's location.\n",
    "\n",
    "The locations are represented in a peculiar way that helps us use them in linear regression: There is a column for each potential location, and each house has a 1 in the column for its location and a 0 for the other location columns.  That's a common trick; some people call these kinds of columns \"dummy variables\".\n",
    "\n",
    "The data come from researchers at Cal Poly; the original dataset can be found [here](https://wiki.csc.calpoly.edu/datasets/wiki/Houses).\n",
    "\n",
    "Run the next cell to load and view the table."
   ]
  },
  {
   "cell_type": "code",
   "execution_count": 2,
   "metadata": {
    "collapsed": false
   },
   "outputs": [
    {
     "data": {
      "text/html": [
       "<table border=\"1\" class=\"dataframe\">\n",
       "    <thead>\n",
       "        <tr>\n",
       "            <th>Price</th> <th>Bedrooms</th> <th>Bathrooms</th> <th>Size</th> <th>Santa Maria-Orcutt (0/1)</th> <th>Paso Robles (0/1)</th> <th>Atascadero (0/1)</th> <th>Nipomo (0/1)</th> <th>Arroyo Grande (0/1)</th> <th>Lompoc (0/1)</th> <th>Los Osos (0/1)</th> <th>Grover Beach (0/1)</th> <th> Paso Robles (0/1)</th> <th>San Miguel (0/1)</th>\n",
       "        </tr>\n",
       "    </thead>\n",
       "    <tbody>\n",
       "        <tr>\n",
       "            <td>232600</td> <td>3       </td> <td>3        </td> <td>1582</td> <td>1                       </td> <td>0                </td> <td>0               </td> <td>0           </td> <td>0                  </td> <td>0           </td> <td>0             </td> <td>0                 </td> <td>0                 </td> <td>0               </td>\n",
       "        </tr>\n",
       "    </tbody>\n",
       "        <tr>\n",
       "            <td>119000</td> <td>1       </td> <td>1        </td> <td>900 </td> <td>1                       </td> <td>0                </td> <td>0               </td> <td>0           </td> <td>0                  </td> <td>0           </td> <td>0             </td> <td>0                 </td> <td>0                 </td> <td>0               </td>\n",
       "        </tr>\n",
       "    </tbody>\n",
       "        <tr>\n",
       "            <td>220000</td> <td>3       </td> <td>2        </td> <td>1112</td> <td>0                       </td> <td>0                </td> <td>0               </td> <td>1           </td> <td>0                  </td> <td>0           </td> <td>0             </td> <td>0                 </td> <td>0                 </td> <td>0               </td>\n",
       "        </tr>\n",
       "    </tbody>\n",
       "        <tr>\n",
       "            <td>169900</td> <td>4       </td> <td>2        </td> <td>1500</td> <td>1                       </td> <td>0                </td> <td>0               </td> <td>0           </td> <td>0                  </td> <td>0           </td> <td>0             </td> <td>0                 </td> <td>0                 </td> <td>0               </td>\n",
       "        </tr>\n",
       "    </tbody>\n",
       "        <tr>\n",
       "            <td>186900</td> <td>3       </td> <td>1        </td> <td>912 </td> <td>0                       </td> <td>0                </td> <td>0               </td> <td>0           </td> <td>0                  </td> <td>1           </td> <td>0             </td> <td>0                 </td> <td>0                 </td> <td>0               </td>\n",
       "        </tr>\n",
       "    </tbody>\n",
       "        <tr>\n",
       "            <td>240000</td> <td>4       </td> <td>2        </td> <td>1460</td> <td>1                       </td> <td>0                </td> <td>0               </td> <td>0           </td> <td>0                  </td> <td>0           </td> <td>0             </td> <td>0                 </td> <td>0                 </td> <td>0               </td>\n",
       "        </tr>\n",
       "    </tbody>\n",
       "        <tr>\n",
       "            <td>225000</td> <td>3       </td> <td>2        </td> <td>1144</td> <td>1                       </td> <td>0                </td> <td>0               </td> <td>0           </td> <td>0                  </td> <td>0           </td> <td>0             </td> <td>0                 </td> <td>0                 </td> <td>0               </td>\n",
       "        </tr>\n",
       "    </tbody>\n",
       "        <tr>\n",
       "            <td>469000</td> <td>3       </td> <td>2        </td> <td>1827</td> <td>0                       </td> <td>0                </td> <td>0               </td> <td>0           </td> <td>0                  </td> <td>0           </td> <td>0             </td> <td>1                 </td> <td>0                 </td> <td>0               </td>\n",
       "        </tr>\n",
       "    </tbody>\n",
       "        <tr>\n",
       "            <td>179000</td> <td>3       </td> <td>2        </td> <td>1398</td> <td>1                       </td> <td>0                </td> <td>0               </td> <td>0           </td> <td>0                  </td> <td>0           </td> <td>0             </td> <td>0                 </td> <td>0                 </td> <td>0               </td>\n",
       "        </tr>\n",
       "    </tbody>\n",
       "        <tr>\n",
       "            <td>205000</td> <td>3       </td> <td>2        </td> <td>1146</td> <td>1                       </td> <td>0                </td> <td>0               </td> <td>0           </td> <td>0                  </td> <td>0           </td> <td>0             </td> <td>0                 </td> <td>0                 </td> <td>0               </td>\n",
       "        </tr>\n",
       "    </tbody>\n",
       "</table>\n",
       "<p>... (556 rows omitted)</p"
      ],
      "text/plain": [
       "<IPython.core.display.HTML object>"
      ]
     },
     "metadata": {},
     "output_type": "display_data"
    }
   ],
   "source": [
    "house_prices = Table.read_table(\"house_prices.csv\")\n",
    "house_prices.show(10)"
   ]
  },
  {
   "cell_type": "markdown",
   "metadata": {},
   "source": [
    "The idea is to use the attributes of each house to predict its price.  We'll take our training data, which has both attributes and actual prices, and find a model that produces good predictions for that data.  Then, if we wanted to list a house ourselves, we could predict our own house's price and use our prediction as our price instead of consulting an expert.  Of course, that wouldn't be a good idea if the model weren't very accurate, so we'll need to measure that, too.\n",
    "\n",
    "Before we run any regressions, we need to think about how we'll evaluate the models we produce.  That means checking how accurate its predictions are -- something like the mean squared error or R-squared.\n",
    "\n",
    "As we've seen in lecture, you don't get an accurate estimate of a model's predictive performance if you test it on the data you use to train it.  It's easy for a model to predict well on its training data -- remember linear regression with 2 data points, or 1-nearest-neighbor classification -- even if it doesn't make any sense.  The real test is how the model performs on other data from the population for which we're interested in making predictions.\n",
    "\n",
    "So we need to hold out a *test set* that we'll only use to *test* the accuracy of the models we make, not to *train* them."
   ]
  },
  {
   "cell_type": "markdown",
   "metadata": {},
   "source": [
    "**Question 1.1.** Split `house_prices` into two separate tables called `train` and `test`.  `train` should include the first 300 rows from `house_prices`.  `test` should contain all the other rows of `house_prices`.  `house_prices` is currently in random order, so `train` and `test` will end up being two disjoint random samples from `house_prices`.\n",
    "\n",
    "*Hint:* If `t` is a table, then `t.take(np.arange(300))` is a table consisting of the first 300 rows of `t`.  `t.exclude(np.arange(300))` is a table consisting of all the rows of `t` *except* the first 300."
   ]
  },
  {
   "cell_type": "code",
   "execution_count": 4,
   "metadata": {
    "collapsed": false
   },
   "outputs": [
    {
     "data": {
      "text/html": [
       "<table border=\"1\" class=\"dataframe\">\n",
       "    <thead>\n",
       "        <tr>\n",
       "            <th>Price</th> <th>Bedrooms</th> <th>Bathrooms</th> <th>Size</th> <th>Santa Maria-Orcutt (0/1)</th> <th>Paso Robles (0/1)</th> <th>Atascadero (0/1)</th> <th>Nipomo (0/1)</th> <th>Arroyo Grande (0/1)</th> <th>Lompoc (0/1)</th> <th>Los Osos (0/1)</th> <th>Grover Beach (0/1)</th> <th> Paso Robles (0/1)</th> <th>San Miguel (0/1)</th>\n",
       "        </tr>\n",
       "    </thead>\n",
       "    <tbody>\n",
       "        <tr>\n",
       "            <td>232600</td> <td>3       </td> <td>3        </td> <td>1582</td> <td>1                       </td> <td>0                </td> <td>0               </td> <td>0           </td> <td>0                  </td> <td>0           </td> <td>0             </td> <td>0                 </td> <td>0                 </td> <td>0               </td>\n",
       "        </tr>\n",
       "    </tbody>\n",
       "        <tr>\n",
       "            <td>119000</td> <td>1       </td> <td>1        </td> <td>900 </td> <td>1                       </td> <td>0                </td> <td>0               </td> <td>0           </td> <td>0                  </td> <td>0           </td> <td>0             </td> <td>0                 </td> <td>0                 </td> <td>0               </td>\n",
       "        </tr>\n",
       "    </tbody>\n",
       "        <tr>\n",
       "            <td>220000</td> <td>3       </td> <td>2        </td> <td>1112</td> <td>0                       </td> <td>0                </td> <td>0               </td> <td>1           </td> <td>0                  </td> <td>0           </td> <td>0             </td> <td>0                 </td> <td>0                 </td> <td>0               </td>\n",
       "        </tr>\n",
       "    </tbody>\n",
       "</table>\n",
       "<p>... (297 rows omitted)</p"
      ],
      "text/plain": [
       "<IPython.core.display.HTML object>"
      ]
     },
     "metadata": {},
     "output_type": "display_data"
    },
    {
     "data": {
      "text/html": [
       "<table border=\"1\" class=\"dataframe\">\n",
       "    <thead>\n",
       "        <tr>\n",
       "            <th>Price</th> <th>Bedrooms</th> <th>Bathrooms</th> <th>Size</th> <th>Santa Maria-Orcutt (0/1)</th> <th>Paso Robles (0/1)</th> <th>Atascadero (0/1)</th> <th>Nipomo (0/1)</th> <th>Arroyo Grande (0/1)</th> <th>Lompoc (0/1)</th> <th>Los Osos (0/1)</th> <th>Grover Beach (0/1)</th> <th> Paso Robles (0/1)</th> <th>San Miguel (0/1)</th>\n",
       "        </tr>\n",
       "    </thead>\n",
       "    <tbody>\n",
       "        <tr>\n",
       "            <td>129900</td> <td>3       </td> <td>1        </td> <td>1042</td> <td>1                       </td> <td>0                </td> <td>0               </td> <td>0           </td> <td>0                  </td> <td>0           </td> <td>0             </td> <td>0                 </td> <td>0                 </td> <td>0               </td>\n",
       "        </tr>\n",
       "    </tbody>\n",
       "        <tr>\n",
       "            <td>199900</td> <td>4       </td> <td>2        </td> <td>1338</td> <td>0                       </td> <td>0                </td> <td>0               </td> <td>0           </td> <td>0                  </td> <td>1           </td> <td>0             </td> <td>0                 </td> <td>0                 </td> <td>0               </td>\n",
       "        </tr>\n",
       "    </tbody>\n",
       "        <tr>\n",
       "            <td>449900</td> <td>4       </td> <td>3        </td> <td>3035</td> <td>0                       </td> <td>0                </td> <td>0               </td> <td>0           </td> <td>0                  </td> <td>1           </td> <td>0             </td> <td>0                 </td> <td>0                 </td> <td>0               </td>\n",
       "        </tr>\n",
       "    </tbody>\n",
       "</table>\n",
       "<p>... (263 rows omitted)</p"
      ],
      "text/plain": [
       "<IPython.core.display.HTML object>"
      ]
     },
     "metadata": {},
     "output_type": "display_data"
    }
   ],
   "source": [
    "# Divide up house_prices into train and test tables as described above.\n",
    "train = house_prices.take(np.arange(300))\n",
    "test = house_prices.exclude(np.arange(300))\n",
    "train.show(3)\n",
    "test.show(3)"
   ]
  },
  {
   "cell_type": "code",
   "execution_count": 5,
   "metadata": {
    "collapsed": false
   },
   "outputs": [
    {
     "name": "stdout",
     "output_type": "stream",
     "text": [
      "~~~~~~~~~~~~~~~~~~~~~~~~~~~~~~~~~~~~~~~~~~~~~~~~~~~~~~~~~~~~~~~~~~~~~\n",
      "Running tests\n",
      "\n",
      "---------------------------------------------------------------------\n",
      "Test summary\n",
      "    Passed: 4\n",
      "    Failed: 0\n",
      "[ooooooooook] 100.0% passed\n",
      "\n"
     ]
    }
   ],
   "source": [
    "_ = lab09.grade(\"q11\")"
   ]
  },
  {
   "cell_type": "markdown",
   "metadata": {},
   "source": [
    "Okay, on to regression.\n",
    "\n",
    "We're going to focus on using and interpreting multiple regression rather than computing models.  So we've written code below that will compute least-squares coefficients for you.  Peruse the code below, but the only thing you'll need to do with it is *calling* the functions it defines.  That means you should read the *documentation* (the stuff in triple-double quotes) but you don't need to read the *implementations* (the actual code in the body of each function).\n",
    "\n",
    "Run the next cell to load that code:"
   ]
  },
  {
   "cell_type": "code",
   "execution_count": 7,
   "metadata": {
    "collapsed": false
   },
   "outputs": [],
   "source": [
    "# Just run this cell.  You should also at least read the\n",
    "# documentation for the functions (the stuff inside the\n",
    "# triple-double-quotes that describes what each function\n",
    "# does), since you'll need to call them soon.\n",
    "\n",
    "def predict_all(features_table, coefficients):\n",
    "    \"\"\"\n",
    "    Given a table of features called features_table and some coefficients,\n",
    "    produces linear predictions for each row of features_table.\n",
    "    \n",
    "    features_table should be a table with one column for each feature\n",
    "    being used to predict.  Each row represents a house in the task\n",
    "    we're doing in this lab.\n",
    "    \n",
    "    coefficients should be an array with one element for each column in\n",
    "    features_table, like the coefficients computed by the function\n",
    "    least_squares_coefficients.\n",
    "    \n",
    "    Returns an array of predictions, one for each row of features_table.\n",
    "    \n",
    "    For example, in the house price prediction task we're working on in\n",
    "    this lab, each row of data is the features of one house sale, like\n",
    "    the number of bedrooms or the size of the house.  To make a\n",
    "    prediction for the price of a house, we multiply each of these\n",
    "    features by the corresponding coefficient in the coefficients\n",
    "    array, then sum the results.\n",
    "    \n",
    "    An even more detailed example: Suppose we have just one house whose\n",
    "    price we want to predict, and two features, Bedrooms and Size.\n",
    "    Then features_table will have 1 row and 2 columns, Bedrooms and Size.\n",
    "    Say their values are 2 and 1500.  The coefficients array will have 2\n",
    "    numbers in it, say -1000 and 200.  Our prediction for this house is:\n",
    "\n",
    "        features_table.column(0).item(0)*coefficients.item(0) + \\\n",
    "        data.column(1).item(0)*coefficients.item(1)\n",
    "    \n",
    "    or\n",
    "    \n",
    "        2*-1000 + 1500*200\n",
    "    \n",
    "    which is $298,000.  So we will return an array with just one number\n",
    "    in it, and it will look like:\n",
    "    \n",
    "        np.array([298000])\n",
    "    \n",
    "    If there were 3 rows in features_table, we would return a 3-element\n",
    "    array instead, containing the predicted prices for each row.\n",
    "    \"\"\"\n",
    "    assert features_table.num_columns == len(coefficients), \\\n",
    "           \"\"\"\n",
    "           The first argument to predict_all should be a table with one\n",
    "           column for each feature.  That means it should have the same\n",
    "           number of columns as the coefficients array (the second\n",
    "           argument) has elements.\n",
    "           \"\"\"\n",
    "    def predict(features):\n",
    "        # Given an array of features, produce one prediction.\n",
    "        return sum(features * coefficients)\n",
    "    predictions = Table().with_column('features', features_table.rows).apply(predict, 'features')\n",
    "    return predictions\n",
    "\n",
    "def compute_errors(features_table, coefficients, true_values):\n",
    "    \"\"\"\n",
    "    Computes the prediction errors for a linear model with the given\n",
    "    coefficients when predicting the true values for the given\n",
    "    examples.\n",
    "    \n",
    "    features_table should be a table with one column for each feature\n",
    "    being used to predict.  Each row represents a house in the task\n",
    "    we're doing in this lab.\n",
    "    \n",
    "    coefficients should be an array of numbers, one for each feature.\n",
    "    \n",
    "    true_values should be an array of numbers, one for each row in\n",
    "    features_table.  It records the true prices of each house.\n",
    "    \"\"\"\n",
    "    return predict_all(features_table, coefficients) - true_values\n",
    "\n",
    "def rmse(errors):\n",
    "    \"\"\"\n",
    "    Computes the root mean squared error when a regression model makes\n",
    "    the given errors.  So errors should be an array of numbers, one for\n",
    "    each row in some data table for which we're computing predictions\n",
    "    (that is, each house).  Each number is the prediction error of some\n",
    "    regression model (when predicting the price of a house).\n",
    "    \"\"\"\n",
    "    return np.mean(errors**2)**0.5\n",
    "\n",
    "def make_least_squares_objective_function(features_table, true_values):\n",
    "    \"\"\"\n",
    "    Makes an objective function for training data in the features_table\n",
    "    table, where the true values we're trying to predict are true_values.\n",
    "    \n",
    "    features_table should be a table with one column for each feature\n",
    "    being used to predict.  Each row represents a house in the task\n",
    "    we're doing in this lab.\n",
    "    \n",
    "    true_values should be an array of numbers, one for each row in\n",
    "    features_table.  It records the true prices of each house.\n",
    "    \n",
    "    The returned value is a function.  That function takes an array of\n",
    "    coefficients and returns a number.  Larger values of that number\n",
    "    mean that those coefficients produce worse prediction errors.\n",
    "    \"\"\"\n",
    "    def objective_function(coefficients):\n",
    "        errors = compute_errors(features_table, np.array(coefficients), true_values)\n",
    "        return rmse(errors)\n",
    "    return objective_function\n",
    "\n",
    "def least_squares_coefficients(training_data, predicted_column_name):\n",
    "    \"\"\"\n",
    "    Performs multiple linear regression predicting predicted_column_name\n",
    "    using the other columns of training_data as features.\n",
    "    \n",
    "    training_data should be a table with one column for each feature\n",
    "    being used to predict, plus one column for the value we're trying\n",
    "    to predict.  That column's name should equal predicted_column_name.\n",
    "    Each row represents a house in the task we're doing in this lab.\n",
    "    \n",
    "    predicted_column_name should be a string, the name of the column in\n",
    "    training_data that we're trying to predict.\n",
    "    \n",
    "    Returns an array of coefficients, one for each feature (that is, one\n",
    "    for each column in training_data other than predicted_column_name).\n",
    "    \n",
    "    For example, if training_data has 3 columns, Bedroom, Size, and Price,\n",
    "    and predicted_column_name is \"Price\", then we will use Bedroom and\n",
    "    Size to predict Price.  This function will return an array of 2\n",
    "    numbers, a regression coefficient for Bedroom (like -1000) and a\n",
    "    regression coefficient for Size (like 200).\n",
    "    \"\"\"\n",
    "    features_table = training_data.drop(predicted_column_name)\n",
    "    true_values = training_data.column(predicted_column_name)\n",
    "    objective_function = make_least_squares_objective_function(features_table, true_values)\n",
    "    \n",
    "    # Now we find the coefficients that produce the smallest\n",
    "    # error.\n",
    "    initial_coefficient_guess = np.zeros(features_table.num_columns)\n",
    "    best_coefficients = minimize(objective_function, start=initial_coefficient_guess)\n",
    "    if features_table.num_columns == 1:\n",
    "        return np.array([best_coefficients])\n",
    "    else:\n",
    "        return best_coefficients"
   ]
  },
  {
   "cell_type": "markdown",
   "metadata": {},
   "source": [
    "The most important factor in a house's price is its size.  To start, we'll run a regression using only that feature.  Here's a plot of the root-mean-squared error for many different values of the slope.  (The slope multiplies the size, so we call it the \"coefficient\" for Size.)"
   ]
  },
  {
   "cell_type": "code",
   "execution_count": 9,
   "metadata": {
    "collapsed": false
   },
   "outputs": [
    {
     "data": {
      "image/png": "[encoded data removed]",
      "text/plain": [
       "<matplotlib.figure.Figure at 0x7f4fbf5c47f0>"
      ]
     },
     "metadata": {},
     "output_type": "display_data"
    }
   ],
   "source": [
    "# Just run this cell.  It computes a bunch of slopes for potential\n",
    "# lines, then computes the root-mean-squared error for each one.\n",
    "# The best line for this dataset, a.k.a. the least-squares\n",
    "# regression line, is the one where the RMSE is smallest.\n",
    "slopes = Table().with_column(\"coefficient on Size\", np.arange(-1000, 1000, 10))\n",
    "objective_function = make_least_squares_objective_function(train.select(\"Size\"), train.column(\"Price\"))\n",
    "def objective_value_for_slope(slope):\n",
    "    return objective_function(np.array([slope]))\n",
    "errors = slopes.with_column(\"RMSE\", slopes.apply(objective_value_for_slope, \"coefficient on Size\"))\n",
    "errors.scatter(\"coefficient on Size\", \"RMSE\")"
   ]
  },
  {
   "cell_type": "markdown",
   "metadata": {},
   "source": [
    "**Question 1.2.** Using the plot, what do you think the optimal coefficient is for Size in this regression, roughly?  Round to the nearest 100."
   ]
  },
  {
   "cell_type": "code",
   "execution_count": 12,
   "metadata": {
    "collapsed": false
   },
   "outputs": [],
   "source": [
    "optimal_size_coefficient =  200"
   ]
  },
  {
   "cell_type": "code",
   "execution_count": 13,
   "metadata": {
    "collapsed": false
   },
   "outputs": [
    {
     "name": "stdout",
     "output_type": "stream",
     "text": [
      "~~~~~~~~~~~~~~~~~~~~~~~~~~~~~~~~~~~~~~~~~~~~~~~~~~~~~~~~~~~~~~~~~~~~~\n",
      "Running tests\n",
      "\n",
      "---------------------------------------------------------------------\n",
      "Test summary\n",
      "    Passed: 1\n",
      "    Failed: 0\n",
      "[ooooooooook] 100.0% passed\n",
      "\n"
     ]
    }
   ],
   "source": [
    "_ = lab09.grade(\"q12\")"
   ]
  },
  {
   "cell_type": "markdown",
   "metadata": {},
   "source": [
    "The next cell shows how to compute an array containing the slope of a regression of house price on house size.  There's no intercept, so our predictions using this very simple model are:\n",
    "\n",
    "    predicted price = house size * just_size_coefficients.item(0)\n",
    "\n",
    "If we see a new house that's 1000 square feet in size, and our coefficient is 200 (actually, it's technically 200 dollars per square foot), then we'd predict it costs \\$200,000.  That's just a prediction, of course.  If it actually costs \\$160,000, then our prediction error was \\$40,000 for that house."
   ]
  },
  {
   "cell_type": "code",
   "execution_count": 14,
   "metadata": {
    "collapsed": true
   },
   "outputs": [],
   "source": [
    "# Just run this cell.\n",
    "# Here we compute the slope for a simple linear regression of price on\n",
    "# size, with no intercept.\n",
    "just_size = train.select([\"Price\", \"Size\"])\n",
    "just_size_coefficients = least_squares_coefficients(just_size, \"Price\")"
   ]
  },
  {
   "cell_type": "markdown",
   "metadata": {},
   "source": [
    "We saw in class that it's not a good idea to test how well a model does on the data we used to train it.  The line will work artificially well on the training data (`just_size`), compared to other similar houses whose prices we might be interested in predicting.\n",
    "\n",
    "**Question 1.3.** In the next cell, to compute the *predicted prices* and *prediction errors* for each house in `test`.\n",
    "\n",
    "*Hint:* If you read and understand `predict_all`, your answer could be very short."
   ]
  },
  {
   "cell_type": "code",
   "execution_count": 15,
   "metadata": {
    "collapsed": false
   },
   "outputs": [
    {
     "ename": "SyntaxError",
     "evalue": "invalid syntax (<ipython-input-15-b2dac6b0eb18>, line 5)",
     "output_type": "error",
     "traceback": [
      "\u001b[1;36m  File \u001b[1;32m\"<ipython-input-15-b2dac6b0eb18>\"\u001b[1;36m, line \u001b[1;32m5\u001b[0m\n\u001b[1;33m    just_size_test =\u001b[0m\n\u001b[1;37m                     ^\u001b[0m\n\u001b[1;31mSyntaxError\u001b[0m\u001b[1;31m:\u001b[0m invalid syntax\n"
     ]
    }
   ],
   "source": [
    "# You can fill in this variable if you want.  It should be\n",
    "# a table of the feature values (not the prices) for all\n",
    "# the houses in the test set.  This will be useful in the\n",
    "# next two lines.\n",
    "just_size_test = \n",
    "\n",
    "# Compute the predictions for every house in the test table.\n",
    "# FILL THIS PART IN.  You can add more lines if you want.\n",
    "just_size_test_predictions = \n",
    "\n",
    "# Compute the errors for every house in the test table.\n",
    "# FILL THIS PART IN.  You can add more lines if you want.\n",
    "just_size_test_errors = "
   ]
  },
  {
   "cell_type": "code",
   "execution_count": 16,
   "metadata": {
    "collapsed": false
   },
   "outputs": [
    {
     "name": "stdout",
     "output_type": "stream",
     "text": [
      "~~~~~~~~~~~~~~~~~~~~~~~~~~~~~~~~~~~~~~~~~~~~~~~~~~~~~~~~~~~~~~~~~~~~~\n",
      "Running tests\n",
      "\n",
      "---------------------------------------------------------------------\n",
      "Question > Suite 1 > Case 1\n",
      "\n",
      ">>> # It looks like you're computing predictions of the prices of\n",
      ">>> # houses in the training set.  Instead, we wanted to compute\n",
      ">>> # predictions of the prices of houses in the *test* set.\n",
      ">>> # Make a table similar to just_size, but based on the table\n",
      ">>> # called test.\n",
      ">>> len(just_size_test_predictions) != 300\n",
      "NameError: name 'just_size_test_predictions' is not defined\n",
      "\n",
      "# Error: expected\n",
      "#     True\n",
      "# but got\n",
      "#     NameError\n",
      "\n",
      "---------------------------------------------------------------------\n",
      "Test summary\n",
      "    Passed: 0\n",
      "    Failed: 1\n",
      "[k..........] 0.0% passed\n",
      "\n"
     ]
    }
   ],
   "source": [
    "_ = lab09.grade(\"q13\")"
   ]
  },
  {
   "cell_type": "markdown",
   "metadata": {},
   "source": [
    "Run the next cell to see a plot of the errors our model makes on the test set, which you just computed."
   ]
  },
  {
   "cell_type": "code",
   "execution_count": 204,
   "metadata": {
    "collapsed": false
   },
   "outputs": [],
   "source": [
    "# Just run this cell.\n",
    "# Here's a plot of the test errors.\n",
    "Table().with_columns([\"Size\", test.column(\"Size\"), \"Predicted price\", just_size_test_predictions]).scatter(0, 1, color=\"blue\", label=\"Predicted prices\")\n",
    "plt.scatter(test.column(\"Size\"), test.column(\"Price\"), color=\"red\", zorder=0, label=\"Actual prices\")\n",
    "plt.legend()\n",
    "plt.title(\"Predicted and actual prices\")\n",
    "\n",
    "# And here's a plot of the errors.\n",
    "Table().with_columns([\n",
    "        \"Size\", test.column(\"Size\"),\n",
    "        \"Error\", just_size_test_errors\n",
    "    ]).scatter(0, 1, color=\"red\")\n",
    "plt.title(\"Errors on test set\")"
   ]
  },
  {
   "cell_type": "markdown",
   "metadata": {},
   "source": [
    "A plot like the one above is useful, but there are other things we'd like to know about a regression.  The cell below defines a function called `display_errors` that displays some information about the errors made by a regression model.  Read the documentation for `display_errors` and run the cell:"
   ]
  },
  {
   "cell_type": "code",
   "execution_count": 205,
   "metadata": {
    "collapsed": true
   },
   "outputs": [],
   "source": [
    "def r_squared(errors, true_values):\n",
    "    \"\"\"\n",
    "    Computes the R-squared value (the correlation, but for multiple\n",
    "    regression, and squared) for a regression model when it produces\n",
    "    certain errors.  So errors should be an array of numbers, one for\n",
    "    each row in some data table for which we're computing predictions\n",
    "    (that is, each house).  Each number is the prediction error of a\n",
    "    regression model (when predicting the price of a house).  true_values\n",
    "    should also be an array of numbers (the true price of each house).\n",
    "    \"\"\"\n",
    "    return 1 - np.var(errors)/np.var(true_values)\n",
    "\n",
    "def display_errors(data, predicted_column_name, coefficients):\n",
    "    \"\"\"\n",
    "    After computing regression coefficients, we often want to investigate\n",
    "    various aspects of the regression.  This function displays some\n",
    "    information about the errors made by a regression model on the dataset\n",
    "    in the data table:\n",
    "    * A histogram of the errors.\n",
    "    * The root mean squared error of the regression.\n",
    "    * The R-squared value of the regression.  (That's like the square of\n",
    "      the correlation, so it's between 0 and 1, and larger values mean\n",
    "      the model made better predictions for these data.)\n",
    "    \n",
    "    The arguments are:\n",
    "    1. The dataset on which we want to examine errors, like a training\n",
    "       set to examine training residuals, or a test set to examine\n",
    "       errors on the population.  It should contain one column for each\n",
    "       feature, plus a column for the values we're trying to predict.\n",
    "       Each row should represent one house.\n",
    "    2. The name of the column in that table with the values we're trying\n",
    "       to predict (e.g. \"Price\").\n",
    "    3. An array of the coefficients produced by a linear regression,\n",
    "       one for each column in the data table other than\n",
    "       predicted_column_name.\n",
    "    \"\"\"\n",
    "    features_table = data.drop(predicted_column_name)\n",
    "    true_values = data.column(predicted_column_name)\n",
    "    errors = compute_errors(features_table, coefficients, true_values)\n",
    "    print(\"RMSE: \", rmse(errors))\n",
    "    print(\"R-squared: \", r_squared(errors, true_values))\n",
    "    \n",
    "    # Make a histogram of the errors:\n",
    "    biggest_error = max(errors)\n",
    "    smallest_error = min(errors)\n",
    "    num_ticks = int(len(errors) / 10)\n",
    "    bin_width = (biggest_error - smallest_error) / num_ticks\n",
    "    Table().with_column(\"error\", errors).hist(bins=np.arange(smallest_error, biggest_error + bin_width, bin_width))"
   ]
  },
  {
   "cell_type": "markdown",
   "metadata": {},
   "source": [
    "**Question 1.4.** In the next cell, use `display_errors` to display information about the *training-set residuals* of the regression of price on size.\n",
    "\n",
    "*Hint:* The training-set residuals are different from the errors you computed in question 1.3.  Training-set residuals are the errors on the training data."
   ]
  },
  {
   "cell_type": "code",
   "execution_count": 206,
   "metadata": {
    "collapsed": false
   },
   "outputs": [],
   "source": [
    "..."
   ]
  },
  {
   "cell_type": "markdown",
   "metadata": {},
   "source": [
    "**Question 1.5.** Now use `display_errors` to display information about the *test-set errors* of the regression of price on size.  (You computed those errors in question 1.3.)  Note whether the R-squared is smaller or larger than the R-squared on the training set.  Like correlation, a larger R-squared means that the model fits the data better.  How can you explain what you see?"
   ]
  },
  {
   "cell_type": "code",
   "execution_count": 207,
   "metadata": {
    "collapsed": false
   },
   "outputs": [],
   "source": [
    "..."
   ]
  },
  {
   "cell_type": "markdown",
   "metadata": {},
   "source": [
    "**Question 1.6.** If the data were generated from the simple regression model we saw in class, the errors would be roughly bell-shaped and symmetric about 0.  Is that the case here, or are the errors skewed in one direction?"
   ]
  },
  {
   "cell_type": "markdown",
   "metadata": {},
   "source": [
    "*Write your answer here, replacing this text.*"
   ]
  },
  {
   "cell_type": "markdown",
   "metadata": {},
   "source": [
    "**Question 1.7.** Now let's do a multiple regression.  Use `least_squares_coefficients` to compute the coefficients for a linear regression of price on *all* the columns of `train`.  This will take about a minute to run."
   ]
  },
  {
   "cell_type": "code",
   "execution_count": 208,
   "metadata": {
    "collapsed": false
   },
   "outputs": [],
   "source": [
    "# Set coefficients to the coefficients of a least-squares linear\n",
    "# regression of price on all the columns of the train table.\n",
    "coefficients = ...\n",
    "coefficients"
   ]
  },
  {
   "cell_type": "code",
   "execution_count": 209,
   "metadata": {
    "collapsed": false
   },
   "outputs": [],
   "source": [
    "_ = lab09.grade(\"q16\") # Apologies for the incorrect numbering."
   ]
  },
  {
   "cell_type": "markdown",
   "metadata": {},
   "source": [
    "**Question 1.8.** Using `display_errors`, display the residuals (the errors of the model on the data in `train`) and the test errors (the errors of the model on the data in `train`).  "
   ]
  },
  {
   "cell_type": "code",
   "execution_count": 210,
   "metadata": {
    "collapsed": false
   },
   "outputs": [],
   "source": [
    "...\n",
    "..."
   ]
  },
  {
   "cell_type": "markdown",
   "metadata": {},
   "source": [
    "**Question 1.9.** Are the errors smaller or larger for this model than for the model that used only size to predict prices?"
   ]
  },
  {
   "cell_type": "markdown",
   "metadata": {},
   "source": [
    "*Write your answer here, replacing this text.*"
   ]
  },
  {
   "cell_type": "markdown",
   "metadata": {},
   "source": [
    "**Question 1.10.** Is the error smaller for the training set or for the test set?"
   ]
  },
  {
   "cell_type": "markdown",
   "metadata": {},
   "source": [
    "*Write your answer here, replacing this text.*"
   ]
  },
  {
   "cell_type": "markdown",
   "metadata": {},
   "source": [
    "**Question 1.11.**  When we have a lot of coefficients, we have to do a bit of work to visualize them properly.  In the next cell, we've outlined a function called `display_coefficients` that displays some information about the coefficients produced by a regression.  Fill it in with code that matches the documentation."
   ]
  },
  {
   "cell_type": "code",
   "execution_count": 211,
   "metadata": {
    "collapsed": false
   },
   "outputs": [],
   "source": [
    "# Fill in the body of this function:\n",
    "def display_coefficients(coefficient_labels, coefficients):\n",
    "    \"\"\"\n",
    "    After computing regression coefficients, we often want to investigate\n",
    "    various aspects of the regression.  This function displays information\n",
    "    about the coefficients we found for each feature:\n",
    "    * A table of coefficients (using show()), with a column for the\n",
    "      labels of the coefficients (e.g. \"Bedrooms\") and a column for the\n",
    "      coefficient values.\n",
    "    * A bar chart of the coefficients, with one bar for each coefficient,\n",
    "      labeled with its label (e.g. \"Bedrooms\").\n",
    "    \n",
    "    coefficient_labels is an array of strings, a name for each element\n",
    "    of the coefficients array.\n",
    "    \n",
    "    coefficients is an array of numbers, one for each feature in some\n",
    "    regression we've done.\n",
    "    \"\"\"\n",
    "    # Our solution makes a table called coefficient_table, but you\n",
    "    # don't have to do that.\n",
    "    coefficient_table = ...\n",
    "    ...\n",
    "    ...\n",
    "\n",
    "# This will call your function on the coefficients you just learned.\n",
    "display_coefficients(train.drop(\"Price\").labels, coefficients)"
   ]
  },
  {
   "cell_type": "markdown",
   "metadata": {},
   "source": [
    "A house sold in Arroyo Grande has a 0 for all the location columns other than \"Arroyo Grande (0/1)\" and a 1 for that column.  So the prediction for that house's price looks like:\n",
    "    \n",
    "    bedroom coefficient * # of bedrooms +\n",
    "    bathroom coefficient * # of bathrooms + \n",
    "    size coefficient * size +\n",
    "    Santa Maria-Orcutt coefficient * 0 + \n",
    "    Paso Robles coefficient * 0 + \n",
    "    ...\n",
    "    Arroyo Grande coefficient * 1 + \n",
    "    Lompoc coefficient * 0 + \n",
    "    ...\n",
    "    San Miguel coefficient * 0\n",
    "    \n",
    "This gives a nice interpretation for the Arroyo Grande coefficient.  We just add it to the predicted price of houses in Arroyo Grande, and for those houses we don't add the other location coefficients.\n",
    "\n",
    "**Question 1.12.** What is the difference between the predicted price of a house in Arroyo Grande and the predicted price of a house with the same physical characteristics in Santa Maria-Orcutt, using the coefficients we've found?"
   ]
  },
  {
   "cell_type": "code",
   "execution_count": 212,
   "metadata": {
    "collapsed": false
   },
   "outputs": [],
   "source": [
    "predicted_price_difference = ...\n",
    "predicted_price_difference"
   ]
  },
  {
   "cell_type": "code",
   "execution_count": 213,
   "metadata": {
    "collapsed": false
   },
   "outputs": [],
   "source": [
    "_ = lab09.grade(\"q111\") # Apologies for the incorrect numbering."
   ]
  },
  {
   "cell_type": "markdown",
   "metadata": {},
   "source": [
    "After seeing this data, would you now be surprised to learn that Arroyo Grande is much more affluent than Santa Maria?"
   ]
  },
  {
   "cell_type": "code",
   "execution_count": 214,
   "metadata": {
    "collapsed": false
   },
   "outputs": [],
   "source": [
    "# For your convenience, you can run this cell to run all the tests at once!\n",
    "import os\n",
    "print(\"Running all tests...\")\n",
    "_ = [lab09.grade(q[:-3]) for q in os.listdir(\"tests\") if q.startswith('q')]\n",
    "print(\"Finished running all tests.\")"
   ]
  },
  {
   "cell_type": "code",
   "execution_count": 215,
   "metadata": {
    "collapsed": false
   },
   "outputs": [],
   "source": [
    "# Run this cell to submit your work *after* you have passed all of the test cells.\n",
    "# It's ok to run this cell multiple times. Only your final submission will be scored.\n",
    "\n",
    "!TZ=America/Los_Angeles ipython nbconvert --output=\".lab09_$(date +%m%d_%H%M)_submission.html\" lab09.ipynb && echo \"Submitted successfully.\""
   ]
  }
 ],
 "metadata": {
  "kernelspec": {
   "display_name": "Python 3",
   "language": "python",
   "name": "python3"
  },
  "language_info": {
   "codemirror_mode": {
    "name": "ipython",
    "version": 3
   },
   "file_extension": ".py",
   "mimetype": "text/x-python",
   "name": "python",
   "nbconvert_exporter": "python",
   "pygments_lexer": "ipython3",
   "version": "3.4.4"
  }
 },
 "nbformat": 4,
 "nbformat_minor": 0
}
