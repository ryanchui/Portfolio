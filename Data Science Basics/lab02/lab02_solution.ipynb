{
 "cells": [
  {
   "cell_type": "markdown",
   "metadata": {},
   "source": [
    "# Lab 2\n",
    "# 0. Intro\n",
    "Welcome to lab 2!  Last time, we had our first look at Python and Jupyter notebooks.  It's important to see these things more than once, so today will be a combination of review and some new topics.  We'll review:\n",
    "\n",
    "* Pieces of code that have values (called *expressions*), including function call expressions\n",
    "* Lines of code that do things (called *statements*)\n",
    "\n",
    "You'll also learn about:\n",
    "* How different kinds of values are represented\n",
    "* How to work with text (called *strings* in Python)\n",
    "* How to invoke *methods*\n",
    "* How to access existing functions by *importing modules*\n",
    "* How to reference those functions using *dot notation*\n",
    "* How to compare values\n",
    "* How to make and use *arrays*, which are objects that hold onto many values in order"
   ]
  },
  {
   "cell_type": "markdown",
   "metadata": {},
   "source": [
    "First, execute the following cell to set up the automatic tests for this lab."
   ]
  },
  {
   "cell_type": "code",
   "execution_count": 16,
   "metadata": {
    "collapsed": false,
    "scrolled": true
   },
   "outputs": [
    {
     "name": "stdout",
     "output_type": "stream",
     "text": [
      "=====================================================================\n",
      "Assignment: Lab 2\n",
      "OK, version v1.5.1\n",
      "=====================================================================\n",
      "\n"
     ]
    }
   ],
   "source": [
    "# Test cell; please do not change!\n",
    "from client.api.assignment import load_assignment \n",
    "lab02 = load_assignment('lab02.ok')"
   ]
  },
  {
   "cell_type": "markdown",
   "metadata": {},
   "source": [
    "# 1. Review: The building blocks of Python code\n",
    "The two building blocks of Python code are *expressions* and *statements*.  An expression is a piece of code that is self-contained and (usually) *has a value*.  Here are some expressions:\n",
    "\n",
    "    3\n",
    "    2 - 3\n",
    "    abs(2 - 3)\n",
    "    max(3, pow(2, abs(2 - 3) + pow(2, 2)))\n",
    "\n",
    "All these expressions but the first are *compound expressions*, meaning that they are themselves combinations of several smaller expressions.  `2 + 3` combines the expressions `2` and `3` by addition.\n",
    "\n",
    "A *statement* is a whole line of code.  Some statements are just expressions.  Others *make something happen* rather than *having a value*.  After they are run, something in the world has changed.  For example, an assignment statement assigns a value to a value.  Here are some statements:\n",
    "    \n",
    "    height = 1.3\n",
    "    the_number_five = abs(-5)\n",
    "    absolute_height_difference = abs(height - 1.688)\n",
    "\n",
    "A key idea in programming is that large, interesting things can be built by combining many simple, uninteresting things.  The key to understanding a complicated piece of code is breaking it down into its simple components.\n",
    "\n",
    "For example, a lot is going on in the last statement above, but it's really just a combination of a few things.  This picture describes what's going on.\n",
    "\n",
    "<img src=\"statement.jpg\">"
   ]
  },
  {
   "cell_type": "markdown",
   "metadata": {},
   "source": [
    "**Question 1.0.** In the next cell, assign the name `new_year` to the larger number among the following two numbers: $|2^{5} - 2^{11}|$ and $5 \\times 13 \\times 31$.  Try to use just one statement (one line of code)."
   ]
  },
  {
   "cell_type": "code",
   "execution_count": 17,
   "metadata": {
    "collapsed": false
   },
   "outputs": [
    {
     "data": {
      "text/plain": [
       "2016"
      ]
     },
     "execution_count": 17,
     "metadata": {},
     "output_type": "execute_result"
    }
   ],
   "source": [
    "new_year = max(abs(2**5 - 2**11), 5*13*31) #SOLUTION\n",
    "new_year"
   ]
  },
  {
   "cell_type": "markdown",
   "metadata": {},
   "source": [
    "Check your work by executing the next cell."
   ]
  },
  {
   "cell_type": "code",
   "execution_count": 18,
   "metadata": {
    "collapsed": false
   },
   "outputs": [
    {
     "name": "stdout",
     "output_type": "stream",
     "text": [
      "~~~~~~~~~~~~~~~~~~~~~~~~~~~~~~~~~~~~~~~~~~~~~~~~~~~~~~~~~~~~~~~~~~~~~\n",
      "Running tests\n",
      "\n",
      "---------------------------------------------------------------------\n",
      "Test summary\n",
      "    Passed: 1\n",
      "    Failed: 0\n",
      "[ooooooooook] 100.0% passed\n",
      "\n"
     ]
    }
   ],
   "source": [
    "_ = lab02.grade('q10')"
   ]
  },
  {
   "cell_type": "markdown",
   "metadata": {},
   "source": [
    "# 2. Text\n",
    "Programming doesn't just concern numbers. Text is one of the most common types of values used in programs. \n",
    "\n",
    "A snippet of text is represented by a *string value* in Python. The word \"*string*\" is a computer science term for a sequence of characters. A string might contain a single character, a word, a sentence, or a whole book. Strings have quotation marks around them. Single quotes (apostrophes) and double quotes are both valid. The contents can be any sequence of characters, including numbers and symbols. \n",
    "\n",
    "Below, two different strings are passed as arguments to the `print` function. "
   ]
  },
  {
   "cell_type": "code",
   "execution_count": 19,
   "metadata": {
    "collapsed": false
   },
   "outputs": [
    {
     "name": "stdout",
     "output_type": "stream",
     "text": [
      "I <3 Data Science\n"
     ]
    }
   ],
   "source": [
    "print(\"I <3\", 'Data Science')"
   ]
  },
  {
   "cell_type": "markdown",
   "metadata": {},
   "source": [
    "Names can be given to string values, and the names and strings aren't required to be similar. Any name can be given to any string."
   ]
  },
  {
   "cell_type": "markdown",
   "metadata": {},
   "source": [
    "**Question 2.0.** Replace each `...` with a single-word string literal below so that the final expression prints its punchline."
   ]
  },
  {
   "cell_type": "code",
   "execution_count": 20,
   "metadata": {
    "collapsed": false
   },
   "outputs": [
    {
     "name": "stdout",
     "output_type": "stream",
     "text": [
      "Because seven eight nine\n"
     ]
    }
   ],
   "source": [
    "why_was = \"Because\"\n",
    "six = \"seven\" # SOLUTION\n",
    "afraid_of = \"eight\"\n",
    "seven = \"nine\" # SOLUTION\n",
    "print(why_was, six, afraid_of, seven)"
   ]
  },
  {
   "cell_type": "code",
   "execution_count": 21,
   "metadata": {
    "collapsed": false
   },
   "outputs": [
    {
     "name": "stdout",
     "output_type": "stream",
     "text": [
      "~~~~~~~~~~~~~~~~~~~~~~~~~~~~~~~~~~~~~~~~~~~~~~~~~~~~~~~~~~~~~~~~~~~~~\n",
      "Running tests\n",
      "\n",
      "---------------------------------------------------------------------\n",
      "Test summary\n",
      "    Passed: 1\n",
      "    Failed: 0\n",
      "[ooooooooook] 100.0% passed\n",
      "\n"
     ]
    }
   ],
   "source": [
    "_ = lab02.grade('q20')"
   ]
  },
  {
   "cell_type": "markdown",
   "metadata": {},
   "source": [
    "## 2.0. String Methods"
   ]
  },
  {
   "cell_type": "markdown",
   "metadata": {},
   "source": [
    "Strings can be transformed using *methods*, which are functions that involve an existing string and some other arguments. For example, the `replace` method replaces all instances of some part of a string with some replacement. A method is invoked on a string by placing a `.` after the string value, then the name of the method, and finally parentheses containing the arguments. \n",
    "\n",
    "    <string>.<method name>(<argument>, <argument>, ...)\n",
    "    \n",
    "Try to predict the output of these examples, then execute them."
   ]
  },
  {
   "cell_type": "code",
   "execution_count": 22,
   "metadata": {
    "collapsed": false
   },
   "outputs": [
    {
     "data": {
      "text/plain": [
       "'Hella'"
      ]
     },
     "execution_count": 22,
     "metadata": {},
     "output_type": "execute_result"
    }
   ],
   "source": [
    "# Replace one letter\n",
    "'Hello'.replace('o', 'a')"
   ]
  },
  {
   "cell_type": "code",
   "execution_count": 23,
   "metadata": {
    "collapsed": false
   },
   "outputs": [
    {
     "data": {
      "text/plain": [
       "'matchmaker'"
      ]
     },
     "execution_count": 23,
     "metadata": {},
     "output_type": "execute_result"
    }
   ],
   "source": [
    "# Replace a sequence of letters, twice\n",
    "'hitchhiker'.replace('hi', 'ma')"
   ]
  },
  {
   "cell_type": "code",
   "execution_count": 24,
   "metadata": {
    "collapsed": false
   },
   "outputs": [
    {
     "data": {
      "text/plain": [
       "'degrade'"
      ]
     },
     "execution_count": 24,
     "metadata": {},
     "output_type": "execute_result"
    }
   ],
   "source": [
    "# Two calls to replace\n",
    "'train'.replace('t', 'ing').replace('in', 'de')"
   ]
  },
  {
   "cell_type": "markdown",
   "metadata": {},
   "source": [
    "Once a name is bound to a string value, methods can be invoked on that name as well. The name doesn't change in this case; and so a new name is needed to capture the result. "
   ]
  },
  {
   "cell_type": "code",
   "execution_count": 25,
   "metadata": {
    "collapsed": false
   },
   "outputs": [
    {
     "name": "stdout",
     "output_type": "stream",
     "text": [
      "sharp = edged\n",
      "hot = magma\n"
     ]
    }
   ],
   "source": [
    "sharp = 'edged'\n",
    "hot = sharp.replace('ed', 'ma')\n",
    "print('sharp =', sharp)\n",
    "print('hot =', hot)"
   ]
  },
  {
   "cell_type": "markdown",
   "metadata": {},
   "source": [
    "**Question 2.0.0** Assign strings to the names `you` and `this` so that the final expression evaluates to a 10-letter English word with three double letters in a row. *Hint*: Ask your neighbors (or Google) if you can't think of a word that has three double letters in a row."
   ]
  },
  {
   "cell_type": "code",
   "execution_count": 26,
   "metadata": {
    "collapsed": false
   },
   "outputs": [
    {
     "data": {
      "text/plain": [
       "'bookkeeper'"
      ]
     },
     "execution_count": 26,
     "metadata": {},
     "output_type": "execute_result"
    }
   ],
   "source": [
    "you = 'keep' # SOLUTION\n",
    "this = 'book' # SOLUTION\n",
    "a = 'beeper'\n",
    "the = a.replace('p', you) \n",
    "the.replace('bee', this)"
   ]
  },
  {
   "cell_type": "code",
   "execution_count": 27,
   "metadata": {
    "collapsed": false
   },
   "outputs": [
    {
     "name": "stdout",
     "output_type": "stream",
     "text": [
      "~~~~~~~~~~~~~~~~~~~~~~~~~~~~~~~~~~~~~~~~~~~~~~~~~~~~~~~~~~~~~~~~~~~~~\n",
      "Running tests\n",
      "\n",
      "---------------------------------------------------------------------\n",
      "Test summary\n",
      "    Passed: 1\n",
      "    Failed: 0\n",
      "[ooooooooook] 100.0% passed\n",
      "\n"
     ]
    }
   ],
   "source": [
    "_ = lab02.grade('q200')"
   ]
  },
  {
   "cell_type": "markdown",
   "metadata": {},
   "source": [
    "Other string methods do not take any arguments at all, because the original string is all that's needed to compute the result. In this case, parentheses are still needed, but there's nothing in between the parentheses. For example, \n",
    "\n",
    "    lower:      return a lowercased version of the string\n",
    "    upper:      return a lowercased version of the string\n",
    "    capitalize: return a version with the first letter capitalized\n",
    "    title:      return a version with the first letter of every word capitalized"
   ]
  },
  {
   "cell_type": "code",
   "execution_count": 28,
   "metadata": {
    "collapsed": false
   },
   "outputs": [
    {
     "data": {
      "text/plain": [
       "'University Of California'"
      ]
     },
     "execution_count": 28,
     "metadata": {},
     "output_type": "execute_result"
    }
   ],
   "source": [
    "'unIverSITy of caliFORnia'.title()"
   ]
  },
  {
   "cell_type": "markdown",
   "metadata": {},
   "source": [
    "Strings also have a method called `zfill` that \"pads\" them with the character `0` so that they reach a certain length.  That length is an argument to the method, just like functions take arguments.  This can be useful for displaying numbers in a uniform format:"
   ]
  },
  {
   "cell_type": "code",
   "execution_count": 29,
   "metadata": {
    "collapsed": false
   },
   "outputs": [
    {
     "name": "stdout",
     "output_type": "stream",
     "text": [
      "005.12\n",
      "010.50\n"
     ]
    }
   ],
   "source": [
    "print(\"5.12\".zfill(6))\n",
    "print(\"10.50\".zfill(6))"
   ]
  },
  {
   "cell_type": "markdown",
   "metadata": {},
   "source": [
    "## 2.1. Converting to and from Strings"
   ]
  },
  {
   "cell_type": "markdown",
   "metadata": {},
   "source": [
    "Strings and numbers are different *types* of values, even when a string contains the digits of a number. For example, evaluating the following cell causes an error because an integer cannot be added to a string."
   ]
  },
  {
   "cell_type": "code",
   "execution_count": 30,
   "metadata": {
    "collapsed": false
   },
   "outputs": [
    {
     "ename": "TypeError",
     "evalue": "unsupported operand type(s) for +: 'int' and 'str'",
     "output_type": "error",
     "traceback": [
      "\u001b[0;31m---------------------------------------------------------------------------\u001b[0m",
      "\u001b[0;31mTypeError\u001b[0m                                 Traceback (most recent call last)",
      "\u001b[0;32m<ipython-input-30-037faa474493>\u001b[0m in \u001b[0;36m<module>\u001b[0;34m()\u001b[0m\n\u001b[0;32m----> 1\u001b[0;31m \u001b[0;36m8\u001b[0m \u001b[0;34m+\u001b[0m \u001b[0;34m\"8\"\u001b[0m\u001b[0;34m\u001b[0m\u001b[0m\n\u001b[0m",
      "\u001b[0;31mTypeError\u001b[0m: unsupported operand type(s) for +: 'int' and 'str'"
     ]
    }
   ],
   "source": [
    "8 + \"8\""
   ]
  },
  {
   "cell_type": "markdown",
   "metadata": {},
   "source": [
    "However, there are built-in functions to convert numbers to strings and strings to numbers. \n",
    "\n",
    "    int:   Converts a string of digits to an int value\n",
    "    float: Converts a string of digits, perhaps with a decimal point, to a float value\n",
    "    str:   Converts any value to a string"
   ]
  },
  {
   "cell_type": "markdown",
   "metadata": {},
   "source": [
    "Try to predict what the following cell will evaluate to, then evaluate it."
   ]
  },
  {
   "cell_type": "code",
   "execution_count": 31,
   "metadata": {
    "collapsed": false
   },
   "outputs": [
    {
     "data": {
      "text/plain": [
       "2016"
      ]
     },
     "execution_count": 31,
     "metadata": {},
     "output_type": "execute_result"
    }
   ],
   "source": [
    "int(\"20\" + str(8 + int(\"8\")))"
   ]
  },
  {
   "cell_type": "markdown",
   "metadata": {},
   "source": [
    "**Question 2.1.0.** Assign `good` to a string that makes the final expression below evaluate to the integer 99."
   ]
  },
  {
   "cell_type": "code",
   "execution_count": 32,
   "metadata": {
    "collapsed": false
   },
   "outputs": [
    {
     "data": {
      "text/plain": [
       "99"
      ]
     },
     "execution_count": 32,
     "metadata": {},
     "output_type": "execute_result"
    }
   ],
   "source": [
    "good = \"1\" # SOLUTION\n",
    "lol = \"L\" + str(0) + \"L\"\n",
    "int(lol.replace(\"L\", good)) - 2 "
   ]
  },
  {
   "cell_type": "code",
   "execution_count": 33,
   "metadata": {
    "collapsed": false
   },
   "outputs": [
    {
     "name": "stdout",
     "output_type": "stream",
     "text": [
      "~~~~~~~~~~~~~~~~~~~~~~~~~~~~~~~~~~~~~~~~~~~~~~~~~~~~~~~~~~~~~~~~~~~~~\n",
      "Running tests\n",
      "\n",
      "---------------------------------------------------------------------\n",
      "Test summary\n",
      "    Passed: 1\n",
      "    Failed: 0\n",
      "[ooooooooook] 100.0% passed\n",
      "\n"
     ]
    }
   ],
   "source": [
    "_ = lab02.grade('q210')"
   ]
  },
  {
   "cell_type": "markdown",
   "metadata": {},
   "source": [
    "## 2.2. String Arguments\n",
    "String values, like numbers, can be arguments to functions and can be returned by functions.  The function `len` takes a single string as its argument and returns the number of characters in the string: its **len**gth.\n",
    "\n",
    "**Question 2.2.0.**  Use `len` to find out the length of the very long string in the next cell.  (It's the first sentence of the English translation of the French [Declaration of the Rights of Man](http://avalon.law.yale.edu/18th_century/rightsof.asp).)  The length of a string is the total number of characters in it, including things like spaces and punctuation.  Assign `sentence_length` to that number."
   ]
  },
  {
   "cell_type": "code",
   "execution_count": 34,
   "metadata": {
    "collapsed": false
   },
   "outputs": [
    {
     "data": {
      "text/plain": [
       "896"
      ]
     },
     "execution_count": 34,
     "metadata": {},
     "output_type": "execute_result"
    }
   ],
   "source": [
    "a_very_long_sentence = \"The representatives of the French people, organized as a National Assembly, believing that the ignorance, neglect, or contempt of the rights of man are the sole cause of public calamities and of the corruption of governments, have determined to set forth in a solemn declaration the natural, unalienable, and sacred rights of man, in order that this declaration, being constantly before all the members of the Social body, shall remind them continually of their rights and duties; in order that the acts of the legislative power, as well as those of the executive power, may be compared at any moment with the objects and purposes of all political institutions and may thus be more respected, and, lastly, in order that the grievances of the citizens, based hereafter upon simple and incontestable principles, shall tend to the maintenance of the constitution and redound to the happiness of all.\"\n",
    "sentence_length = len(a_very_long_sentence) #SOLUTION\n",
    "sentence_length"
   ]
  },
  {
   "cell_type": "code",
   "execution_count": 35,
   "metadata": {
    "collapsed": false
   },
   "outputs": [
    {
     "name": "stdout",
     "output_type": "stream",
     "text": [
      "~~~~~~~~~~~~~~~~~~~~~~~~~~~~~~~~~~~~~~~~~~~~~~~~~~~~~~~~~~~~~~~~~~~~~\n",
      "Running tests\n",
      "\n",
      "---------------------------------------------------------------------\n",
      "Test summary\n",
      "    Passed: 1\n",
      "    Failed: 0\n",
      "[ooooooooook] 100.0% passed\n",
      "\n"
     ]
    }
   ],
   "source": [
    "_ = lab02.grade('q220')"
   ]
  },
  {
   "cell_type": "markdown",
   "metadata": {},
   "source": [
    "## 2.3. What *is* a string?\n",
    "Strings are our third example of a type of value.  The first values we saw were numbers.  Every value (that is, everything that can be named) in Python has a type.  Python has many types, and we'll see several more in this lab alone. \n",
    "\n",
    "If you're writing complicated code and you're confused about what kind of thing something is, the `type` function is helpful.  It takes a single argument and returns that argument's type.  For example, `type(2)` is `int`, which is short for integer.  `type(2.5)` is `float`, which is Python's name for any number that it thinks might have a fractional part."
   ]
  },
  {
   "cell_type": "markdown",
   "metadata": {},
   "source": [
    "**Question 2.3.0.**  Using `type`, assign `sentence_type` to the type of `a_very_long_sentence`.  "
   ]
  },
  {
   "cell_type": "code",
   "execution_count": 36,
   "metadata": {
    "collapsed": false
   },
   "outputs": [
    {
     "data": {
      "text/plain": [
       "str"
      ]
     },
     "execution_count": 36,
     "metadata": {},
     "output_type": "execute_result"
    }
   ],
   "source": [
    "sentence_type = type(a_very_long_sentence) #SOLUTION\n",
    "sentence_type"
   ]
  },
  {
   "cell_type": "code",
   "execution_count": 37,
   "metadata": {
    "collapsed": false
   },
   "outputs": [
    {
     "name": "stdout",
     "output_type": "stream",
     "text": [
      "~~~~~~~~~~~~~~~~~~~~~~~~~~~~~~~~~~~~~~~~~~~~~~~~~~~~~~~~~~~~~~~~~~~~~\n",
      "Running tests\n",
      "\n",
      "---------------------------------------------------------------------\n",
      "Test summary\n",
      "    Passed: 1\n",
      "    Failed: 0\n",
      "[ooooooooook] 100.0% passed\n",
      "\n"
     ]
    }
   ],
   "source": [
    "_ = lab02.grade('q230')"
   ]
  },
  {
   "cell_type": "markdown",
   "metadata": {},
   "source": [
    "# 3. Importing code\n",
    "\n",
    "> What has been will be again,  \n",
    "> what has been done will be done again;  \n",
    "> there is nothing new under the sun.\n",
    "\n",
    "Most programming involves work that is very similar to work that has been done before.  Since writing code is time-consuming, it's good to rely on others' published code when you can.  Rather than copy-pasting, Python allows us to *import* other code, creating a *module* that contains all of the names created by that code.  Python includes many useful modules that are just an `import` away.  We'll look at the `math` module as a first example.\n",
    "\n",
    "Suppose we want to very accurately compute the area of a circle with radius 5 meters.  For that, we need the constant $\\pi$, which is roughly 3.14.  Conveniently, the `math` module defines `pi` for us:"
   ]
  },
  {
   "cell_type": "code",
   "execution_count": 38,
   "metadata": {
    "collapsed": false
   },
   "outputs": [
    {
     "data": {
      "text/plain": [
       "78.53981633974483"
      ]
     },
     "execution_count": 38,
     "metadata": {},
     "output_type": "execute_result"
    }
   ],
   "source": [
    "import math\n",
    "radius = 5\n",
    "area_of_circle = radius**2 * math.pi\n",
    "area_of_circle"
   ]
  },
  {
   "cell_type": "markdown",
   "metadata": {},
   "source": [
    "`pi` is defined inside `math`, and the way that we access names that are inside modules is by writing the module's name, then a dot, then the name of the thing we want:\n",
    "\n",
    "    <module name>.<name>\n",
    "    \n",
    "In order to use a module at all, we must first write the statement `import <module name>`.  That statement creates a module object with things like `pi` in it and then assigns the name `math` to that module.  Above we have done that for `math`."
   ]
  },
  {
   "cell_type": "markdown",
   "metadata": {},
   "source": [
    "**Question 3.0.** `math` also provides the name `e` for the base of the natural logarithm, which is roughly 2.71.  Compute $e^{\\pi}-\\pi$, giving it the name `near_twenty`."
   ]
  },
  {
   "cell_type": "code",
   "execution_count": 39,
   "metadata": {
    "collapsed": false
   },
   "outputs": [
    {
     "data": {
      "text/plain": [
       "19.99909997918947"
      ]
     },
     "execution_count": 39,
     "metadata": {},
     "output_type": "execute_result"
    }
   ],
   "source": [
    "near_twenty = math.e ** math.pi - math.pi # SOLUTION\n",
    "near_twenty"
   ]
  },
  {
   "cell_type": "code",
   "execution_count": 40,
   "metadata": {
    "collapsed": false
   },
   "outputs": [
    {
     "name": "stdout",
     "output_type": "stream",
     "text": [
      "~~~~~~~~~~~~~~~~~~~~~~~~~~~~~~~~~~~~~~~~~~~~~~~~~~~~~~~~~~~~~~~~~~~~~\n",
      "Running tests\n",
      "\n",
      "---------------------------------------------------------------------\n",
      "Test summary\n",
      "    Passed: 1\n",
      "    Failed: 0\n",
      "[ooooooooook] 100.0% passed\n",
      "\n"
     ]
    }
   ],
   "source": [
    "_ = lab02.grade('q30')"
   ]
  },
  {
   "cell_type": "markdown",
   "metadata": {},
   "source": [
    "![XKCD](http://imgs.xkcd.com/comics/e_to_the_pi_minus_pi.png)"
   ]
  },
  {
   "cell_type": "markdown",
   "metadata": {},
   "source": [
    "## 3.0. Importing functions\n",
    "Modules can provide other named things, including functions.  For example, `math` provides the name `sin` for the sine function.  Having imported `math` already, we can write `math.sin(3)` to compute the sine of 3.  (Note that this sine function considers its argument to be in [radians](https://en.wikipedia.org/wiki/Radian), not degrees.  180 degrees are equivalent to $\\pi$ radians.)\n",
    "\n",
    "**Question 3.0.0.** Compute the sine of $\\frac{\\pi}{4}$ using `sin` and `pi` from the `math` module.  Give the result the name `sine_of_pi_over_four`.\n",
    "\n",
    "<img src=\"http://mathworld.wolfram.com/images/eps-gif/TrigonometryAnglesPi4_1000.gif\">\n",
    "(Source: [Wolfram MathWorld](http://mathworld.wolfram.com/images/eps-gif/TrigonometryAnglesPi4_1000.gif))"
   ]
  },
  {
   "cell_type": "code",
   "execution_count": 41,
   "metadata": {
    "collapsed": false
   },
   "outputs": [
    {
     "data": {
      "text/plain": [
       "0.7071067811865475"
      ]
     },
     "execution_count": 41,
     "metadata": {},
     "output_type": "execute_result"
    }
   ],
   "source": [
    "sine_of_pi_over_four = math.sin(math.pi / 4) #SOLUTION\n",
    "sine_of_pi_over_four"
   ]
  },
  {
   "cell_type": "code",
   "execution_count": 42,
   "metadata": {
    "collapsed": false
   },
   "outputs": [
    {
     "name": "stdout",
     "output_type": "stream",
     "text": [
      "~~~~~~~~~~~~~~~~~~~~~~~~~~~~~~~~~~~~~~~~~~~~~~~~~~~~~~~~~~~~~~~~~~~~~\n",
      "Running tests\n",
      "\n",
      "---------------------------------------------------------------------\n",
      "Test summary\n",
      "    Passed: 1\n",
      "    Failed: 0\n",
      "[ooooooooook] 100.0% passed\n",
      "\n"
     ]
    }
   ],
   "source": [
    "_ = lab02.grade('q300')"
   ]
  },
  {
   "cell_type": "markdown",
   "metadata": {},
   "source": [
    "For your reference, here are some more examples of functions from the `math` module:"
   ]
  },
  {
   "cell_type": "code",
   "execution_count": 43,
   "metadata": {
    "collapsed": false
   },
   "outputs": [
    {
     "data": {
      "text/plain": [
       "120"
      ]
     },
     "execution_count": 43,
     "metadata": {},
     "output_type": "execute_result"
    }
   ],
   "source": [
    "# Calculating factorials.\n",
    "math.factorial(5)"
   ]
  },
  {
   "cell_type": "code",
   "execution_count": 44,
   "metadata": {
    "collapsed": false
   },
   "outputs": [
    {
     "data": {
      "text/plain": [
       "3.0"
      ]
     },
     "execution_count": 44,
     "metadata": {},
     "output_type": "execute_result"
    }
   ],
   "source": [
    "# Calculating logarithms (the logarithm of 8 in base 2).\n",
    "math.log(8, 2)"
   ]
  },
  {
   "cell_type": "code",
   "execution_count": 45,
   "metadata": {
    "collapsed": false
   },
   "outputs": [
    {
     "data": {
      "text/plain": [
       "2.23606797749979"
      ]
     },
     "execution_count": 45,
     "metadata": {},
     "output_type": "execute_result"
    }
   ],
   "source": [
    "# Calculating square roots.\n",
    "math.sqrt(5)"
   ]
  },
  {
   "cell_type": "code",
   "execution_count": 46,
   "metadata": {
    "collapsed": false
   },
   "outputs": [
    {
     "data": {
      "text/plain": [
       "-1.0"
      ]
     },
     "execution_count": 46,
     "metadata": {},
     "output_type": "execute_result"
    }
   ],
   "source": [
    "# Calculating cosines.\n",
    "math.cos(math.pi)"
   ]
  },
  {
   "cell_type": "markdown",
   "metadata": {},
   "source": [
    "People have written Python functions that do very cool and complicated things, like crawling web pages for data, transforming videos, or doing machine learning with lots of data.  Now that you can import things, when you want to do something with code, first check to see if someone else has done it for you.  Let's see an example of a function that's used for downloading and displaying pictures.\n",
    "\n",
    "The module `IPython.display` provides a function called `Image`.  `Image` takes a single argument, a string that is the URL of the image on the web.  It returns an *image* value that this Jupyter notebook understands how to display.  To display an image, make it the value of the last expression in a cell, just like you'd display a number or a string.\n",
    "\n",
    "**Question 3.0.1.** In the next cell, import the module `IPython.display` and use its `Image` function to display the image at this URL:\n",
    "\n",
    "    https://upload.wikimedia.org/wikipedia/commons/thumb/8/8c/David_-_The_Death_of_Socrates.jpg/1024px-David_-_The_Death_of_Socrates.jpg\n",
    "\n",
    "Give the name `art` to the output of the function call, then make the last line of the cell `art` to see the image.  (It might take a few seconds to load the image.  It's a painting called *The Death of Socrates* by Jacques-Louis David, depicting events from a philosophical text by Plato.)"
   ]
  },
  {
   "cell_type": "code",
   "execution_count": 47,
   "metadata": {
    "collapsed": false
   },
   "outputs": [
    {
     "data": {
      "image/jpeg": "[encoded data removed]",
      "text/plain": [
       "<IPython.core.display.Image object>"
      ]
     },
     "execution_count": 47,
     "metadata": {},
     "output_type": "execute_result"
    }
   ],
   "source": [
    "import IPython.display\n",
    "art = IPython.display.Image('https://upload.wikimedia.org/wikipedia/commons/thumb/8/8c/David_-_The_Death_of_Socrates.jpg/1024px-David_-_The_Death_of_Socrates.jpg') # SOLUTION\n",
    "art"
   ]
  },
  {
   "cell_type": "code",
   "execution_count": 48,
   "metadata": {
    "collapsed": false
   },
   "outputs": [
    {
     "name": "stdout",
     "output_type": "stream",
     "text": [
      "~~~~~~~~~~~~~~~~~~~~~~~~~~~~~~~~~~~~~~~~~~~~~~~~~~~~~~~~~~~~~~~~~~~~~\n",
      "Running tests\n",
      "\n",
      "---------------------------------------------------------------------\n",
      "Test summary\n",
      "    Passed: 2\n",
      "    Failed: 0\n",
      "[ooooooooook] 100.0% passed\n",
      "\n"
     ]
    }
   ],
   "source": [
    "_ = lab02.grade('q301')"
   ]
  },
  {
   "cell_type": "markdown",
   "metadata": {},
   "source": [
    "# 4. Comparison\n",
    "Suppose you want to use Python to see whether two things are related in some way.  For example, you might want to know whether one chapter of a book has more words than another, whether one event occurred before another, or whether two cities (identified by name) are actually the same city.  For these cases, we use *comparisons*.  They produce new kinds of values called `True` or `False`.  Those values are called *boolean* values, after the logician George Boole.\n",
    "\n",
    "For the most part, comparisons look familiar.  They're just expressions.  Run this one to see what its value is:"
   ]
  },
  {
   "cell_type": "code",
   "execution_count": 49,
   "metadata": {
    "collapsed": false
   },
   "outputs": [
    {
     "data": {
      "text/plain": [
       "False"
      ]
     },
     "execution_count": 49,
     "metadata": {},
     "output_type": "execute_result"
    }
   ],
   "source": [
    "2 > 3"
   ]
  },
  {
   "cell_type": "markdown",
   "metadata": {},
   "source": [
    "Since comparisons are expressions that have values, you can give their values names:"
   ]
  },
  {
   "cell_type": "code",
   "execution_count": 50,
   "metadata": {
    "collapsed": true
   },
   "outputs": [],
   "source": [
    "is_two_bigger_than_three = 2 > 3"
   ]
  },
  {
   "cell_type": "markdown",
   "metadata": {},
   "source": [
    "(You can put parentheses around the `2 > 3` part if it makes you more comfortable, but it's not necessary.)\n",
    "\n",
    "For comparing one number to another, Python provides the operators `>` (greater than), `<` (less than), `>=` (greater than or equal to), and `<=` (less than or equal to).  To check whether two numbers are equal, we use `==` rather than `=`, since `=` is already used for assigning names.  Like arithmetic operators, comparison operators can involve any expressions, not just bare numbers."
   ]
  },
  {
   "cell_type": "markdown",
   "metadata": {},
   "source": [
    "**Question 4.0.** Check whether $3^{10}$ is larger than $4^9$.  (Count it as larger than $4^9$ if they're both equal.)  Give the result of the comparison (a `True` or `False` value) the name `three_to_the_tenth_is_larger`."
   ]
  },
  {
   "cell_type": "code",
   "execution_count": 51,
   "metadata": {
    "collapsed": false
   },
   "outputs": [
    {
     "data": {
      "text/plain": [
       "False"
      ]
     },
     "execution_count": 51,
     "metadata": {},
     "output_type": "execute_result"
    }
   ],
   "source": [
    "three_to_the_tenth_is_larger = 3**10 > 4**9 #SOLUTION\n",
    "three_to_the_tenth_is_larger"
   ]
  },
  {
   "cell_type": "code",
   "execution_count": 52,
   "metadata": {
    "collapsed": false
   },
   "outputs": [
    {
     "name": "stdout",
     "output_type": "stream",
     "text": [
      "~~~~~~~~~~~~~~~~~~~~~~~~~~~~~~~~~~~~~~~~~~~~~~~~~~~~~~~~~~~~~~~~~~~~~\n",
      "Running tests\n",
      "\n",
      "---------------------------------------------------------------------\n",
      "Test summary\n",
      "    Passed: 1\n",
      "    Failed: 0\n",
      "[ooooooooook] 100.0% passed\n",
      "\n"
     ]
    }
   ],
   "source": [
    "_ = lab02.grade('q40')"
   ]
  },
  {
   "cell_type": "markdown",
   "metadata": {},
   "source": [
    "**Question 4.1.** Check whether $2 + 2$ equals $4$.  Give the result of the comparison the name `two_plus_two_is_four`."
   ]
  },
  {
   "cell_type": "code",
   "execution_count": 53,
   "metadata": {
    "collapsed": false
   },
   "outputs": [
    {
     "data": {
      "text/plain": [
       "True"
      ]
     },
     "execution_count": 53,
     "metadata": {},
     "output_type": "execute_result"
    }
   ],
   "source": [
    "two_plus_two_is_four = 2 + 2 == 4 #SOLUTION\n",
    "two_plus_two_is_four"
   ]
  },
  {
   "cell_type": "code",
   "execution_count": 54,
   "metadata": {
    "collapsed": false
   },
   "outputs": [
    {
     "name": "stdout",
     "output_type": "stream",
     "text": [
      "~~~~~~~~~~~~~~~~~~~~~~~~~~~~~~~~~~~~~~~~~~~~~~~~~~~~~~~~~~~~~~~~~~~~~\n",
      "Running tests\n",
      "\n",
      "---------------------------------------------------------------------\n",
      "Test summary\n",
      "    Passed: 1\n",
      "    Failed: 0\n",
      "[ooooooooook] 100.0% passed\n",
      "\n"
     ]
    }
   ],
   "source": [
    "_ = lab02.grade('q41')"
   ]
  },
  {
   "cell_type": "markdown",
   "metadata": {},
   "source": [
    "**Question 4.2.** The `==` operator works on many values, including strings.  The next cell has two quotes from a famous computer scientist, Donald Knuth.  Use it to check whether the two quotes are the same.  Assign the result the name `quotes_are_the_same`."
   ]
  },
  {
   "cell_type": "code",
   "execution_count": 55,
   "metadata": {
    "collapsed": false
   },
   "outputs": [
    {
     "data": {
      "text/plain": [
       "False"
      ]
     },
     "execution_count": 55,
     "metadata": {},
     "output_type": "execute_result"
    }
   ],
   "source": [
    "a_quote = \"Let us change our traditional attitude to the construction of programs. Instead of imagining that our main task is to instruct a computer what to do, let us concentrate rather on explaining to human beings what we want a computer to do.\"\n",
    "another_quote = \"let us change oUr Traditional attitude to the Construction of programs. Instead of Imagining that our main task is to instruct A coMPuter what to do, let us concentrate rather on explaining to human beings what we want a COmputer to do.\"\n",
    "quotes_are_the_same = a_quote == another_quote #SOLUTION\n",
    "quotes_are_the_same"
   ]
  },
  {
   "cell_type": "code",
   "execution_count": 56,
   "metadata": {
    "collapsed": false
   },
   "outputs": [
    {
     "name": "stdout",
     "output_type": "stream",
     "text": [
      "~~~~~~~~~~~~~~~~~~~~~~~~~~~~~~~~~~~~~~~~~~~~~~~~~~~~~~~~~~~~~~~~~~~~~\n",
      "Running tests\n",
      "\n",
      "---------------------------------------------------------------------\n",
      "Test summary\n",
      "    Passed: 1\n",
      "    Failed: 0\n",
      "[ooooooooook] 100.0% passed\n",
      "\n"
     ]
    }
   ],
   "source": [
    "_ = lab02.grade('q42')"
   ]
  },
  {
   "cell_type": "markdown",
   "metadata": {},
   "source": [
    "**Question 4.3.**  The passages look the same, and in fact they *are* the same, except that the capitalization of `another_quote` has been mangled.  Python considers two strings with the same letters and different capitalization to be different.  Use the string method `lower` to check whether the two strings are the same *after they've both been lowercased*.  (This is a way to check whether two strings are the same without counting capitalization differences.) Assign the result the name `quotes_have_the_same_letters`."
   ]
  },
  {
   "cell_type": "code",
   "execution_count": 57,
   "metadata": {
    "collapsed": false
   },
   "outputs": [
    {
     "data": {
      "text/plain": [
       "True"
      ]
     },
     "execution_count": 57,
     "metadata": {},
     "output_type": "execute_result"
    }
   ],
   "source": [
    "quotes_have_the_same_letters = a_quote.lower() == another_quote.lower() #SOLUTION\n",
    "quotes_have_the_same_letters"
   ]
  },
  {
   "cell_type": "code",
   "execution_count": 58,
   "metadata": {
    "collapsed": false
   },
   "outputs": [
    {
     "name": "stdout",
     "output_type": "stream",
     "text": [
      "~~~~~~~~~~~~~~~~~~~~~~~~~~~~~~~~~~~~~~~~~~~~~~~~~~~~~~~~~~~~~~~~~~~~~\n",
      "Running tests\n",
      "\n",
      "---------------------------------------------------------------------\n",
      "Test summary\n",
      "    Passed: 1\n",
      "    Failed: 0\n",
      "[ooooooooook] 100.0% passed\n",
      "\n"
     ]
    }
   ],
   "source": [
    "_ = lab02.grade('q43')"
   ]
  },
  {
   "cell_type": "markdown",
   "metadata": {},
   "source": [
    "# 5. Arrays\n",
    "We finish this lab with a very important new type: arrays.  Up to now, we haven't done much that you couldn't do yourself by hand, without going through the trouble of learning Python.  Computers are most useful when you can use a small amount of code to *do the same action* to *many different things*.  For example, in the time it takes you to calculate the 18% tip on a restaurant bill, a laptop can calculate 18% tips for every restaurant bill paid by every human on Earth that day.\n",
    "\n",
    "Arrays are how we put many values in one place so that we can operate on them as a group.  For example, if `billions_of_numbers` is an array of numbers, the expression `.18 * billions_of_numbers` gives a new array of numbers that's the result of multiplying each number in `billions_of_numbers` by .18 (18%).  Arrays are not limited to numbers; we can also put all the words in a book into an array of strings.\n",
    "\n",
    "Arrays are provided by a package called [NumPy](http://www.numpy.org/) (pronounced \"NUM-pie\" or, if you prefer to pronounce things incorrectly, \"NUM-pee\").  The package is called `numpy`, but it's standard to rename it `np` for brevity.  You can do that with:\n",
    "\n",
    "    import numpy as np"
   ]
  },
  {
   "cell_type": "markdown",
   "metadata": {},
   "source": [
    "## 5.0. Lists\n",
    "While arrays are part of the NumPy package, Python has built-in support for a similar thing called a *list*.  Lists are less useful for data science, so we'll mostly use arrays in this class.  But many built-in functions take lists as arguments (including the functions for making arrays!) so you have to know how to create them.\n",
    "\n",
    "Python has a special expression just for making lists: you enclose a comma-separated sequence of expressions in `[`square brackets`]`.  Here is a list expression whose value is a list with 4 numbers in it:"
   ]
  },
  {
   "cell_type": "code",
   "execution_count": 59,
   "metadata": {
    "collapsed": false
   },
   "outputs": [
    {
     "data": {
      "text/plain": [
       "[1, 2, 4, 8]"
      ]
     },
     "execution_count": 59,
     "metadata": {},
     "output_type": "execute_result"
    }
   ],
   "source": [
    "[1, 2, 4, 8]"
   ]
  },
  {
   "cell_type": "markdown",
   "metadata": {},
   "source": [
    "Like other values, we can assign names to lists.  Here are some more examples:"
   ]
  },
  {
   "cell_type": "code",
   "execution_count": 60,
   "metadata": {
    "collapsed": true
   },
   "outputs": [],
   "source": [
    "powers_of_two = [1, 2, 4, 8]\n",
    "list_with_one_number = [5.5]\n",
    "empty_list = []\n",
    "list_of_strings = [\"Hello\", \"world\", \"!\"]\n",
    "list_of_booleans = [True, True, False]\n",
    "another_list_of_booleans = [3 > 2, 4 == 5]"
   ]
  },
  {
   "cell_type": "markdown",
   "metadata": {},
   "source": [
    "**Question 5.0.0.** Make a list of lists containing `list_of_strings` and `another_list_of_booleans`. The output should look like: \n",
    "\n",
    "    [['Hello', 'world', '!'], [True, False]]"
   ]
  },
  {
   "cell_type": "code",
   "execution_count": 61,
   "metadata": {
    "collapsed": false
   },
   "outputs": [
    {
     "data": {
      "text/plain": [
       "[['Hello', 'world', '!'], [True, False]]"
      ]
     },
     "execution_count": 61,
     "metadata": {},
     "output_type": "execute_result"
    }
   ],
   "source": [
    "list_of_lists = [list_of_strings, another_list_of_booleans] #SOLUTION\n",
    "list_of_lists"
   ]
  },
  {
   "cell_type": "code",
   "execution_count": 62,
   "metadata": {
    "collapsed": false
   },
   "outputs": [
    {
     "name": "stdout",
     "output_type": "stream",
     "text": [
      "~~~~~~~~~~~~~~~~~~~~~~~~~~~~~~~~~~~~~~~~~~~~~~~~~~~~~~~~~~~~~~~~~~~~~\n",
      "Running tests\n",
      "\n",
      "---------------------------------------------------------------------\n",
      "Test summary\n",
      "    Passed: 3\n",
      "    Failed: 0\n",
      "[ooooooooook] 100.0% passed\n",
      "\n"
     ]
    }
   ],
   "source": [
    "_ = lab02.grade('q500')"
   ]
  },
  {
   "cell_type": "markdown",
   "metadata": {},
   "source": [
    "## 5.1. Making arrays\n",
    "To create an array, call the function `np.array` on a list.  This function takes a list as its argument and returns an array containing the same things as the list (in the same order).  Run this cell to see an example:"
   ]
  },
  {
   "cell_type": "code",
   "execution_count": 63,
   "metadata": {
    "collapsed": false
   },
   "outputs": [
    {
     "data": {
      "text/plain": [
       "array([ 0.125,  4.75 , -1.3  ])"
      ]
     },
     "execution_count": 63,
     "metadata": {},
     "output_type": "execute_result"
    }
   ],
   "source": [
    "import numpy as np\n",
    "np.array([0.125, 4.75, -1.3])"
   ]
  },
  {
   "cell_type": "markdown",
   "metadata": {},
   "source": [
    "Seeing square brackets inside parentheses is sometimes confusing; make sure you understand how this works.  We are just calling a function (`np.array`) with a single argument, which happens to be a list created using square brackets.  The cell above is a more concise way of saying:"
   ]
  },
  {
   "cell_type": "code",
   "execution_count": 64,
   "metadata": {
    "collapsed": false
   },
   "outputs": [
    {
     "data": {
      "text/plain": [
       "array([ 0.125,  4.75 , -1.3  ])"
      ]
     },
     "execution_count": 64,
     "metadata": {},
     "output_type": "execute_result"
    }
   ],
   "source": [
    "some_numbers = [0.125, 4.75, -1.3]\n",
    "np.array(some_numbers)"
   ]
  },
  {
   "cell_type": "markdown",
   "metadata": {},
   "source": [
    "**Question 5.1.0.** Make an array containing the numbers 1, 2, and 3, in that order.  Name it `small_numbers`."
   ]
  },
  {
   "cell_type": "code",
   "execution_count": 65,
   "metadata": {
    "collapsed": false
   },
   "outputs": [
    {
     "data": {
      "text/plain": [
       "array([1, 2, 3])"
      ]
     },
     "execution_count": 65,
     "metadata": {},
     "output_type": "execute_result"
    }
   ],
   "source": [
    "small_numbers = np.array([1, 2, 3]) #SOLUTION\n",
    "small_numbers"
   ]
  },
  {
   "cell_type": "code",
   "execution_count": 66,
   "metadata": {
    "collapsed": false
   },
   "outputs": [
    {
     "name": "stdout",
     "output_type": "stream",
     "text": [
      "~~~~~~~~~~~~~~~~~~~~~~~~~~~~~~~~~~~~~~~~~~~~~~~~~~~~~~~~~~~~~~~~~~~~~\n",
      "Running tests\n",
      "\n",
      "---------------------------------------------------------------------\n",
      "Test summary\n",
      "    Passed: 3\n",
      "    Failed: 0\n",
      "[ooooooooook] 100.0% passed\n",
      "\n"
     ]
    }
   ],
   "source": [
    "_ = lab02.grade('q510')"
   ]
  },
  {
   "cell_type": "markdown",
   "metadata": {},
   "source": [
    "**Question 5.1.1.** Make an array containing the numbers 0, 1, -1, $\\pi$, and $e$, in that order.  Name it `interesting_numbers`.  *Hint:* How did you get the values $\\pi$ and $e$ earlier?  You can refer to them in exactly the same way here."
   ]
  },
  {
   "cell_type": "code",
   "execution_count": 67,
   "metadata": {
    "collapsed": false
   },
   "outputs": [
    {
     "data": {
      "text/plain": [
       "array([ 0.        ,  1.        , -1.        ,  3.14159265,  2.71828183])"
      ]
     },
     "execution_count": 67,
     "metadata": {},
     "output_type": "execute_result"
    }
   ],
   "source": [
    "interesting_numbers = np.array([0, 1, -1, math.pi, math.e]) #SOLUTION\n",
    "interesting_numbers"
   ]
  },
  {
   "cell_type": "code",
   "execution_count": 68,
   "metadata": {
    "collapsed": false
   },
   "outputs": [
    {
     "name": "stdout",
     "output_type": "stream",
     "text": [
      "~~~~~~~~~~~~~~~~~~~~~~~~~~~~~~~~~~~~~~~~~~~~~~~~~~~~~~~~~~~~~~~~~~~~~\n",
      "Running tests\n",
      "\n",
      "---------------------------------------------------------------------\n",
      "Test summary\n",
      "    Passed: 3\n",
      "    Failed: 0\n",
      "[ooooooooook] 100.0% passed\n",
      "\n"
     ]
    }
   ],
   "source": [
    "_ = lab02.grade('q511')"
   ]
  },
  {
   "cell_type": "markdown",
   "metadata": {},
   "source": [
    "**Question 5.1.2.** Make an array containing the five strings `\"Hello\"`, `\",\"`, `\" \"` (that's just a single space inside quotes), `\"world\"`, and `\"!\"`.  Name it `hello_world_components`.\n",
    "\n",
    "*Note:* If you print `hello_world_components`, you'll notice some extra information in addition to its contents: `dtype='<U5'`.  That's just NumPy's extremely cryptic way of saying that the things in the array are strings."
   ]
  },
  {
   "cell_type": "code",
   "execution_count": 69,
   "metadata": {
    "collapsed": false
   },
   "outputs": [
    {
     "data": {
      "text/plain": [
       "array(['Hello', ',', ' ', 'world', '!'], \n",
       "      dtype='<U5')"
      ]
     },
     "execution_count": 69,
     "metadata": {},
     "output_type": "execute_result"
    }
   ],
   "source": [
    "hello_world_components = np.array([\"Hello\", \",\", \" \", \"world\", \"!\"]) #SOLUTION\n",
    "hello_world_components"
   ]
  },
  {
   "cell_type": "code",
   "execution_count": 70,
   "metadata": {
    "collapsed": false
   },
   "outputs": [
    {
     "name": "stdout",
     "output_type": "stream",
     "text": [
      "~~~~~~~~~~~~~~~~~~~~~~~~~~~~~~~~~~~~~~~~~~~~~~~~~~~~~~~~~~~~~~~~~~~~~\n",
      "Running tests\n",
      "\n",
      "---------------------------------------------------------------------\n",
      "Test summary\n",
      "    Passed: 3\n",
      "    Failed: 0\n",
      "[ooooooooook] 100.0% passed\n",
      "\n"
     ]
    }
   ],
   "source": [
    "_ = lab02.grade('q512')"
   ]
  },
  {
   "cell_type": "markdown",
   "metadata": {},
   "source": [
    "### 5.1.0. `np.arange`\n",
    "Very often in data science, we want to work with many numbers that are evenly spaced.  NumPy provides a special function for this called `arange`.  `arange(start, stop, space)` produces an array with all the numbers starting at `start` and counting up by `space`, stopping before `stop` is reached.\n",
    "\n",
    "For example, the value of `np.arange(1, 6, 2)` is an array with elements 1, 3, and 5 -- it starts at 1 and counts up by 2, then stops before 6.  In other words, it's equivalent to `np.array([1, 3, 5])`.  `np.arange(4, 9, 1)` is an array with elements 4, 5, 6, 7, and 8.  (It doesn't contain 9 because `arange` stops *before* the stop value is reached.)"
   ]
  },
  {
   "cell_type": "markdown",
   "metadata": {},
   "source": [
    "**Question 5.1.0.0.**  NOAA (the US National Oceanic and Atmospheric Administration) operates weather stations that measure surface temperatures at different sites around the United States.  The hourly readings are [publicly available](http://www.ncdc.noaa.gov/qclcd/QCLCD?prior=N).  Suppose we download all the hourly data from the Oakland, California site for the month of December 2015, and we find that the data don't include the timestamps of the readings (the time at which each one was taken).  We'll assume the first reading was taken at the first instant of December 2015 (midnight on December 1st) and each subsequent reading was taken exactly 1 hour after the last.\n",
    "\n",
    "Create an array of the *time, in seconds, since the start of the month* at which each hourly reading was taken.  Name it `collection_times`.\n",
    "\n",
    "*Hint:* There were 31 days in December, which is equivalent to $31 \\times 24$ hours or $31 \\times 24 \\times 60 \\times 60$ seconds.  So your array should have $31 \\times 24$ elements in it.\n",
    "\n",
    "*Hint 2:* The `len` function works on arrays, too.  Check the length of `collection_times` and make sure it has $31 \\times 24$ elements."
   ]
  },
  {
   "cell_type": "code",
   "execution_count": 71,
   "metadata": {
    "collapsed": false
   },
   "outputs": [
    {
     "data": {
      "text/plain": [
       "array([      0,    3600,    7200,   10800,   14400,   18000,   21600,\n",
       "         25200,   28800,   32400,   36000,   39600,   43200,   46800,\n",
       "         50400,   54000,   57600,   61200,   64800,   68400,   72000,\n",
       "         75600,   79200,   82800,   86400,   90000,   93600,   97200,\n",
       "        100800,  104400,  108000,  111600,  115200,  118800,  122400,\n",
       "        126000,  129600,  133200,  136800,  140400,  144000,  147600,\n",
       "        151200,  154800,  158400,  162000,  165600,  169200,  172800,\n",
       "        176400,  180000,  183600,  187200,  190800,  194400,  198000,\n",
       "        201600,  205200,  208800,  212400,  216000,  219600,  223200,\n",
       "        226800,  230400,  234000,  237600,  241200,  244800,  248400,\n",
       "        252000,  255600,  259200,  262800,  266400,  270000,  273600,\n",
       "        277200,  280800,  284400,  288000,  291600,  295200,  298800,\n",
       "        302400,  306000,  309600,  313200,  316800,  320400,  324000,\n",
       "        327600,  331200,  334800,  338400,  342000,  345600,  349200,\n",
       "        352800,  356400,  360000,  363600,  367200,  370800,  374400,\n",
       "        378000,  381600,  385200,  388800,  392400,  396000,  399600,\n",
       "        403200,  406800,  410400,  414000,  417600,  421200,  424800,\n",
       "        428400,  432000,  435600,  439200,  442800,  446400,  450000,\n",
       "        453600,  457200,  460800,  464400,  468000,  471600,  475200,\n",
       "        478800,  482400,  486000,  489600,  493200,  496800,  500400,\n",
       "        504000,  507600,  511200,  514800,  518400,  522000,  525600,\n",
       "        529200,  532800,  536400,  540000,  543600,  547200,  550800,\n",
       "        554400,  558000,  561600,  565200,  568800,  572400,  576000,\n",
       "        579600,  583200,  586800,  590400,  594000,  597600,  601200,\n",
       "        604800,  608400,  612000,  615600,  619200,  622800,  626400,\n",
       "        630000,  633600,  637200,  640800,  644400,  648000,  651600,\n",
       "        655200,  658800,  662400,  666000,  669600,  673200,  676800,\n",
       "        680400,  684000,  687600,  691200,  694800,  698400,  702000,\n",
       "        705600,  709200,  712800,  716400,  720000,  723600,  727200,\n",
       "        730800,  734400,  738000,  741600,  745200,  748800,  752400,\n",
       "        756000,  759600,  763200,  766800,  770400,  774000,  777600,\n",
       "        781200,  784800,  788400,  792000,  795600,  799200,  802800,\n",
       "        806400,  810000,  813600,  817200,  820800,  824400,  828000,\n",
       "        831600,  835200,  838800,  842400,  846000,  849600,  853200,\n",
       "        856800,  860400,  864000,  867600,  871200,  874800,  878400,\n",
       "        882000,  885600,  889200,  892800,  896400,  900000,  903600,\n",
       "        907200,  910800,  914400,  918000,  921600,  925200,  928800,\n",
       "        932400,  936000,  939600,  943200,  946800,  950400,  954000,\n",
       "        957600,  961200,  964800,  968400,  972000,  975600,  979200,\n",
       "        982800,  986400,  990000,  993600,  997200, 1000800, 1004400,\n",
       "       1008000, 1011600, 1015200, 1018800, 1022400, 1026000, 1029600,\n",
       "       1033200, 1036800, 1040400, 1044000, 1047600, 1051200, 1054800,\n",
       "       1058400, 1062000, 1065600, 1069200, 1072800, 1076400, 1080000,\n",
       "       1083600, 1087200, 1090800, 1094400, 1098000, 1101600, 1105200,\n",
       "       1108800, 1112400, 1116000, 1119600, 1123200, 1126800, 1130400,\n",
       "       1134000, 1137600, 1141200, 1144800, 1148400, 1152000, 1155600,\n",
       "       1159200, 1162800, 1166400, 1170000, 1173600, 1177200, 1180800,\n",
       "       1184400, 1188000, 1191600, 1195200, 1198800, 1202400, 1206000,\n",
       "       1209600, 1213200, 1216800, 1220400, 1224000, 1227600, 1231200,\n",
       "       1234800, 1238400, 1242000, 1245600, 1249200, 1252800, 1256400,\n",
       "       1260000, 1263600, 1267200, 1270800, 1274400, 1278000, 1281600,\n",
       "       1285200, 1288800, 1292400, 1296000, 1299600, 1303200, 1306800,\n",
       "       1310400, 1314000, 1317600, 1321200, 1324800, 1328400, 1332000,\n",
       "       1335600, 1339200, 1342800, 1346400, 1350000, 1353600, 1357200,\n",
       "       1360800, 1364400, 1368000, 1371600, 1375200, 1378800, 1382400,\n",
       "       1386000, 1389600, 1393200, 1396800, 1400400, 1404000, 1407600,\n",
       "       1411200, 1414800, 1418400, 1422000, 1425600, 1429200, 1432800,\n",
       "       1436400, 1440000, 1443600, 1447200, 1450800, 1454400, 1458000,\n",
       "       1461600, 1465200, 1468800, 1472400, 1476000, 1479600, 1483200,\n",
       "       1486800, 1490400, 1494000, 1497600, 1501200, 1504800, 1508400,\n",
       "       1512000, 1515600, 1519200, 1522800, 1526400, 1530000, 1533600,\n",
       "       1537200, 1540800, 1544400, 1548000, 1551600, 1555200, 1558800,\n",
       "       1562400, 1566000, 1569600, 1573200, 1576800, 1580400, 1584000,\n",
       "       1587600, 1591200, 1594800, 1598400, 1602000, 1605600, 1609200,\n",
       "       1612800, 1616400, 1620000, 1623600, 1627200, 1630800, 1634400,\n",
       "       1638000, 1641600, 1645200, 1648800, 1652400, 1656000, 1659600,\n",
       "       1663200, 1666800, 1670400, 1674000, 1677600, 1681200, 1684800,\n",
       "       1688400, 1692000, 1695600, 1699200, 1702800, 1706400, 1710000,\n",
       "       1713600, 1717200, 1720800, 1724400, 1728000, 1731600, 1735200,\n",
       "       1738800, 1742400, 1746000, 1749600, 1753200, 1756800, 1760400,\n",
       "       1764000, 1767600, 1771200, 1774800, 1778400, 1782000, 1785600,\n",
       "       1789200, 1792800, 1796400, 1800000, 1803600, 1807200, 1810800,\n",
       "       1814400, 1818000, 1821600, 1825200, 1828800, 1832400, 1836000,\n",
       "       1839600, 1843200, 1846800, 1850400, 1854000, 1857600, 1861200,\n",
       "       1864800, 1868400, 1872000, 1875600, 1879200, 1882800, 1886400,\n",
       "       1890000, 1893600, 1897200, 1900800, 1904400, 1908000, 1911600,\n",
       "       1915200, 1918800, 1922400, 1926000, 1929600, 1933200, 1936800,\n",
       "       1940400, 1944000, 1947600, 1951200, 1954800, 1958400, 1962000,\n",
       "       1965600, 1969200, 1972800, 1976400, 1980000, 1983600, 1987200,\n",
       "       1990800, 1994400, 1998000, 2001600, 2005200, 2008800, 2012400,\n",
       "       2016000, 2019600, 2023200, 2026800, 2030400, 2034000, 2037600,\n",
       "       2041200, 2044800, 2048400, 2052000, 2055600, 2059200, 2062800,\n",
       "       2066400, 2070000, 2073600, 2077200, 2080800, 2084400, 2088000,\n",
       "       2091600, 2095200, 2098800, 2102400, 2106000, 2109600, 2113200,\n",
       "       2116800, 2120400, 2124000, 2127600, 2131200, 2134800, 2138400,\n",
       "       2142000, 2145600, 2149200, 2152800, 2156400, 2160000, 2163600,\n",
       "       2167200, 2170800, 2174400, 2178000, 2181600, 2185200, 2188800,\n",
       "       2192400, 2196000, 2199600, 2203200, 2206800, 2210400, 2214000,\n",
       "       2217600, 2221200, 2224800, 2228400, 2232000, 2235600, 2239200,\n",
       "       2242800, 2246400, 2250000, 2253600, 2257200, 2260800, 2264400,\n",
       "       2268000, 2271600, 2275200, 2278800, 2282400, 2286000, 2289600,\n",
       "       2293200, 2296800, 2300400, 2304000, 2307600, 2311200, 2314800,\n",
       "       2318400, 2322000, 2325600, 2329200, 2332800, 2336400, 2340000,\n",
       "       2343600, 2347200, 2350800, 2354400, 2358000, 2361600, 2365200,\n",
       "       2368800, 2372400, 2376000, 2379600, 2383200, 2386800, 2390400,\n",
       "       2394000, 2397600, 2401200, 2404800, 2408400, 2412000, 2415600,\n",
       "       2419200, 2422800, 2426400, 2430000, 2433600, 2437200, 2440800,\n",
       "       2444400, 2448000, 2451600, 2455200, 2458800, 2462400, 2466000,\n",
       "       2469600, 2473200, 2476800, 2480400, 2484000, 2487600, 2491200,\n",
       "       2494800, 2498400, 2502000, 2505600, 2509200, 2512800, 2516400,\n",
       "       2520000, 2523600, 2527200, 2530800, 2534400, 2538000, 2541600,\n",
       "       2545200, 2548800, 2552400, 2556000, 2559600, 2563200, 2566800,\n",
       "       2570400, 2574000, 2577600, 2581200, 2584800, 2588400, 2592000,\n",
       "       2595600, 2599200, 2602800, 2606400, 2610000, 2613600, 2617200,\n",
       "       2620800, 2624400, 2628000, 2631600, 2635200, 2638800, 2642400,\n",
       "       2646000, 2649600, 2653200, 2656800, 2660400, 2664000, 2667600,\n",
       "       2671200, 2674800])"
      ]
     },
     "execution_count": 71,
     "metadata": {},
     "output_type": "execute_result"
    }
   ],
   "source": [
    "collection_times = np.arange(0, 31*24*60*60, 60*60) #SOLUTION\n",
    "collection_times"
   ]
  },
  {
   "cell_type": "code",
   "execution_count": 72,
   "metadata": {
    "collapsed": false
   },
   "outputs": [
    {
     "name": "stdout",
     "output_type": "stream",
     "text": [
      "~~~~~~~~~~~~~~~~~~~~~~~~~~~~~~~~~~~~~~~~~~~~~~~~~~~~~~~~~~~~~~~~~~~~~\n",
      "Running tests\n",
      "\n",
      "---------------------------------------------------------------------\n",
      "Test summary\n",
      "    Passed: 3\n",
      "    Failed: 0\n",
      "[ooooooooook] 100.0% passed\n",
      "\n"
     ]
    }
   ],
   "source": [
    "_ = lab02.grade('q5100')"
   ]
  },
  {
   "cell_type": "markdown",
   "metadata": {},
   "source": [
    "## 5.2. Working with single elements of arrays (\"indexing\")\n",
    "Here's how we get single things out of arrays:"
   ]
  },
  {
   "cell_type": "code",
   "execution_count": 73,
   "metadata": {
    "collapsed": false
   },
   "outputs": [
    {
     "data": {
      "text/plain": [
       "-1.0"
      ]
     },
     "execution_count": 73,
     "metadata": {},
     "output_type": "execute_result"
    }
   ],
   "source": [
    "interesting_numbers.item(2)"
   ]
  },
  {
   "cell_type": "markdown",
   "metadata": {},
   "source": [
    "Run that cell.  The value of that expression is the number -1, because that's the 2nd thing after the first in the array `interesting_numbers`.\n",
    "\n",
    "The things in an array are called its *elements*.  For example, in the array you created called `hello_world_components`, `\"Hello\"` was the first element, `\",\"` was the second element, and so on.  We refer to individual elements by where they show up in the array.  More precisely, we refer to an element by the number of elements that appear *before* that element.  That's called the element's *index* in the array.  In `hello_world_components`, `\"Hello\"` had index 0, `\",\"` had index 1, `\" \"` had index 2, etc."
   ]
  },
  {
   "cell_type": "markdown",
   "metadata": {},
   "source": [
    "**Question 5.2.0.** What is the index of the first element of `interesting_numbers`?  Set `index_of_first_element` to that index (a number)."
   ]
  },
  {
   "cell_type": "code",
   "execution_count": 74,
   "metadata": {
    "collapsed": true
   },
   "outputs": [],
   "source": [
    "index_of_first_element = 0 #SOLUTION"
   ]
  },
  {
   "cell_type": "code",
   "execution_count": 75,
   "metadata": {
    "collapsed": false
   },
   "outputs": [
    {
     "name": "stdout",
     "output_type": "stream",
     "text": [
      "~~~~~~~~~~~~~~~~~~~~~~~~~~~~~~~~~~~~~~~~~~~~~~~~~~~~~~~~~~~~~~~~~~~~~\n",
      "Running tests\n",
      "\n",
      "---------------------------------------------------------------------\n",
      "Test summary\n",
      "    Passed: 1\n",
      "    Failed: 0\n",
      "[ooooooooook] 100.0% passed\n",
      "\n"
     ]
    }
   ],
   "source": [
    "_ = lab02.grade('q520')"
   ]
  },
  {
   "cell_type": "markdown",
   "metadata": {},
   "source": [
    "Arrays provide the method `item` for retrieving their elements.  Its argument is the index of the element you want.  `some_array.item(index)` returns the element of `some_array` at index `index`.  Here are some examples.  Run each cell to see what happens:"
   ]
  },
  {
   "cell_type": "code",
   "execution_count": 76,
   "metadata": {
    "collapsed": true
   },
   "outputs": [],
   "source": [
    "more_numbers = np.array([0.125, 4.75, -1.3])"
   ]
  },
  {
   "cell_type": "code",
   "execution_count": 77,
   "metadata": {
    "collapsed": false
   },
   "outputs": [
    {
     "data": {
      "text/plain": [
       "0.125"
      ]
     },
     "execution_count": 77,
     "metadata": {},
     "output_type": "execute_result"
    }
   ],
   "source": [
    "more_numbers.item(0)"
   ]
  },
  {
   "cell_type": "code",
   "execution_count": 78,
   "metadata": {
    "collapsed": false
   },
   "outputs": [
    {
     "data": {
      "text/plain": [
       "4.75"
      ]
     },
     "execution_count": 78,
     "metadata": {},
     "output_type": "execute_result"
    }
   ],
   "source": [
    "more_numbers.item(1)"
   ]
  },
  {
   "cell_type": "code",
   "execution_count": 79,
   "metadata": {
    "collapsed": false
   },
   "outputs": [
    {
     "data": {
      "text/plain": [
       "-1.3"
      ]
     },
     "execution_count": 79,
     "metadata": {},
     "output_type": "execute_result"
    }
   ],
   "source": [
    "more_numbers.item(2)"
   ]
  },
  {
   "cell_type": "code",
   "execution_count": 80,
   "metadata": {
    "collapsed": false
   },
   "outputs": [
    {
     "ename": "IndexError",
     "evalue": "index 3 is out of bounds for axis 0 with size 3",
     "output_type": "error",
     "traceback": [
      "\u001b[0;31m---------------------------------------------------------------------------\u001b[0m",
      "\u001b[0;31mIndexError\u001b[0m                                Traceback (most recent call last)",
      "\u001b[0;32m<ipython-input-80-e04894b4e4f1>\u001b[0m in \u001b[0;36m<module>\u001b[0;34m()\u001b[0m\n\u001b[0;32m----> 1\u001b[0;31m \u001b[0mmore_numbers\u001b[0m\u001b[0;34m.\u001b[0m\u001b[0mitem\u001b[0m\u001b[0;34m(\u001b[0m\u001b[0;36m3\u001b[0m\u001b[0;34m)\u001b[0m\u001b[0;34m\u001b[0m\u001b[0m\n\u001b[0m",
      "\u001b[0;31mIndexError\u001b[0m: index 3 is out of bounds for axis 0 with size 3"
     ]
    }
   ],
   "source": [
    "more_numbers.item(3)"
   ]
  },
  {
   "cell_type": "code",
   "execution_count": 81,
   "metadata": {
    "collapsed": false
   },
   "outputs": [
    {
     "data": {
      "text/plain": [
       "-2"
      ]
     },
     "execution_count": 81,
     "metadata": {},
     "output_type": "execute_result"
    }
   ],
   "source": [
    "np.array([-1, -3, 4, -2]).item(3)"
   ]
  },
  {
   "cell_type": "markdown",
   "metadata": {},
   "source": [
    "**Question 5.2.1.** Set `last_interesting_number` to the last element of `interesting_numbers`, using `item`."
   ]
  },
  {
   "cell_type": "code",
   "execution_count": 82,
   "metadata": {
    "collapsed": false
   },
   "outputs": [
    {
     "data": {
      "text/plain": [
       "2.718281828459045"
      ]
     },
     "execution_count": 82,
     "metadata": {},
     "output_type": "execute_result"
    }
   ],
   "source": [
    "last_interesting_number = interesting_numbers.item(4) #SOLUTION\n",
    "last_interesting_number"
   ]
  },
  {
   "cell_type": "code",
   "execution_count": 83,
   "metadata": {
    "collapsed": false
   },
   "outputs": [
    {
     "name": "stdout",
     "output_type": "stream",
     "text": [
      "~~~~~~~~~~~~~~~~~~~~~~~~~~~~~~~~~~~~~~~~~~~~~~~~~~~~~~~~~~~~~~~~~~~~~\n",
      "Running tests\n",
      "\n",
      "---------------------------------------------------------------------\n",
      "Test summary\n",
      "    Passed: 1\n",
      "    Failed: 0\n",
      "[ooooooooook] 100.0% passed\n",
      "\n"
     ]
    }
   ],
   "source": [
    "_ = lab02.grade('q521')"
   ]
  },
  {
   "cell_type": "markdown",
   "metadata": {},
   "source": [
    "Indexing is often tremendously confusing to people when they first see it.  It's of course more natural to think of `more_numbers.item(1)` as the *first* element of `more_numbers`, but it's actually the second element!  So-called \"0-based indexing\" actually makes other things less confusing, though, and you might come to appreciate it later.  A good way to remember the way indexing works is: the index of an element is the number of elements *before* it."
   ]
  },
  {
   "cell_type": "markdown",
   "metadata": {},
   "source": [
    "## 5.3. Doing something to every element of an array\n",
    "NumPy provides many functions for working with every element of an array at once.  Here is an example.  Below we have created an array called `world_population` that includes estimated world populations in every year from 1950 to roughly the present.  (The estimates come from the [US Census Bureau website](http://www.census.gov/population/international/data/worldpop/table_population.php).)"
   ]
  },
  {
   "cell_type": "code",
   "execution_count": 84,
   "metadata": {
    "collapsed": true
   },
   "outputs": [],
   "source": [
    "world_population = np.array([2557628654, 2594939877, 2636772306, 2682053389, 2730228104, 2782098943,\n",
    "2835299673, 2891349717, 2948137248, 3000716593, 3043001508, 3083966929,\n",
    "3140093217, 3209827882, 3281201306, 3350425793, 3420677923, 3490333715,\n",
    "3562313822, 3637159050, 3712697742, 3790326948, 3866568653, 3942096442,\n",
    "4016608813, 4089083233, 4160185010, 4232084578, 4304105753, 4379013942,\n",
    "4451362735, 4534410125, 4614566561, 4695736743, 4774569391, 4856462699,\n",
    "4940571232, 5027200492, 5114557167, 5201440110, 5288955934, 5371585922,\n",
    "5456136278, 5538268316, 5618682132, 5699202985, 5779440593, 5857972543,\n",
    "5935213248, 6012074922, 6088571383, 6165219247, 6242016348, 6318590956,\n",
    "6395699509, 6473044732, 6551263534, 6629913759, 6709049780, 6788214394,\n",
    "6866332358, 6944055583, 7022349283, 7101027895, 7178722893, 7256490011])"
   ]
  },
  {
   "cell_type": "markdown",
   "metadata": {},
   "source": [
    "Here is one simple question we might ask about world population: How big is it *in orders of magnitude*?  The logarithm function is one way of measuring how big a number is.  The logarithm (base 10) of a number increases by 1 every time we multiply the number by 10.  It's like a measure of how many digits the number has.\n",
    "\n",
    "NumPy provides a function called `log10` that takes the logarithm of each element of an array.  It takes a single array of numbers as its argument and returns an array of the same length, where the first element of the result is the logarithm of the first element of the argument, and so on.\n",
    "\n",
    "**Question 5.3.0.** Set `log_world_population` to an array whose first element is the logarithm of the population in 1950, whose second element is the logarithm of the population in 1951, and so on.  This would take quite awhile to do by hand.  Your code should be very short."
   ]
  },
  {
   "cell_type": "code",
   "execution_count": 85,
   "metadata": {
    "collapsed": false
   },
   "outputs": [
    {
     "data": {
      "text/plain": [
       "array([ 9.40783749,  9.4141273 ,  9.42107263,  9.42846742,  9.43619893,\n",
       "        9.44437257,  9.45259897,  9.46110062,  9.4695477 ,  9.47722498,\n",
       "        9.48330217,  9.48910971,  9.49694254,  9.50648175,  9.51603288,\n",
       "        9.5251    ,  9.53411218,  9.54286695,  9.55173218,  9.56076229,\n",
       "        9.56968959,  9.57867667,  9.58732573,  9.59572724,  9.60385954,\n",
       "        9.61162595,  9.61911264,  9.62655434,  9.63388293,  9.64137633,\n",
       "        9.64849299,  9.6565208 ,  9.66413091,  9.67170374,  9.67893421,\n",
       "        9.68632006,  9.69377717,  9.70132621,  9.70880804,  9.7161236 ,\n",
       "        9.72336995,  9.73010253,  9.73688521,  9.74337399,  9.74963446,\n",
       "        9.75581413,  9.7618858 ,  9.76774733,  9.77343633,  9.77902438,\n",
       "        9.7845154 ,  9.78994853,  9.7953249 ,  9.80062024,  9.80588805,\n",
       "        9.81110861,  9.81632507,  9.82150788,  9.82666101,  9.83175555,\n",
       "        9.83672482,  9.84161319,  9.84648243,  9.85132122,  9.85604719,\n",
       "        9.8607266 ])"
      ]
     },
     "execution_count": 85,
     "metadata": {},
     "output_type": "execute_result"
    }
   ],
   "source": [
    "log_world_population = np.log10(world_population) #SOLUTION\n",
    "log_world_population"
   ]
  },
  {
   "cell_type": "code",
   "execution_count": 86,
   "metadata": {
    "collapsed": false
   },
   "outputs": [
    {
     "name": "stdout",
     "output_type": "stream",
     "text": [
      "~~~~~~~~~~~~~~~~~~~~~~~~~~~~~~~~~~~~~~~~~~~~~~~~~~~~~~~~~~~~~~~~~~~~~\n",
      "Running tests\n",
      "\n",
      "---------------------------------------------------------------------\n",
      "Test summary\n",
      "    Passed: 1\n",
      "    Failed: 0\n",
      "[ooooooooook] 100.0% passed\n",
      "\n"
     ]
    }
   ],
   "source": [
    "_ = lab02.grade('q530')"
   ]
  },
  {
   "cell_type": "markdown",
   "metadata": {},
   "source": [
    "# 6. Wrap-up\n",
    "Today you learned about strings, boolean (True/False) values, and arrays.  You also learned how to import code and how to use dots to access names inside modules (or methods inside other values).\n",
    "\n",
    "Here are some questions to bring together these pieces."
   ]
  },
  {
   "cell_type": "markdown",
   "metadata": {},
   "source": [
    "**Question 6.0.** The Greek philosopher Plato wrote many works called *dialogues*.  His thinking evolved over the years in which he wrote, and Plato scholars divide his dialogues into Early, Middle, and Late periods.\n",
    "\n",
    "The following cell creates two arrays of strings.  `early_dialogues` is an array of the titles of the Early dialogues, and `middle_dialogues` is an array of the titles of the Middle dialogues.  (The data are from the [Internet Sacred Text Archive](http://www.sacred-texts.com/cla/plato/).)  Set `more_early_dialogues` to a boolean value that is `True` if there are more Early dialogues than Middle dialogues, and `False` otherwise.  (If there is a tie, set it to `False`.)\n",
    "\n",
    "*Hint:* Remember the `len` function?  It works on arrays, too."
   ]
  },
  {
   "cell_type": "code",
   "execution_count": 87,
   "metadata": {
    "collapsed": false
   },
   "outputs": [
    {
     "data": {
      "text/plain": [
       "False"
      ]
     },
     "execution_count": 87,
     "metadata": {},
     "output_type": "execute_result"
    }
   ],
   "source": [
    "early_dialogues = np.array([\"Apology\", \"Crito\", \"Charmides\", \"Laches\", \"Lysis\", \"Euthyphro\", \"Ion\"])\n",
    "middle_dialogues = np.array([\"Gorgias\", \"Protagoras\", \"Meno\", \"Euthydemus\", \"Cratylus\", \"Phaedo\", \"Phaedrus\", \"Symposium\", \"The Republic\", \"Theaetetus\", \"Parmenides\"])\n",
    "more_early_dialogues = len(early_dialogues) > len(middle_dialogues) #SOLUTION\n",
    "more_early_dialogues"
   ]
  },
  {
   "cell_type": "code",
   "execution_count": 88,
   "metadata": {
    "collapsed": false
   },
   "outputs": [
    {
     "name": "stdout",
     "output_type": "stream",
     "text": [
      "~~~~~~~~~~~~~~~~~~~~~~~~~~~~~~~~~~~~~~~~~~~~~~~~~~~~~~~~~~~~~~~~~~~~~\n",
      "Running tests\n",
      "\n",
      "---------------------------------------------------------------------\n",
      "Test summary\n",
      "    Passed: 1\n",
      "    Failed: 0\n",
      "[ooooooooook] 100.0% passed\n",
      "\n"
     ]
    }
   ],
   "source": [
    "_ = lab02.grade('q60')"
   ]
  },
  {
   "cell_type": "markdown",
   "metadata": {},
   "source": [
    "**Question 6.1.** The US Census Bureau estimates (to which, recall, we gave the name `world_population`) are not the only estimates of world population.  The United Nations Department of Economic and Social Affairs also produces [estimates](http://esa.un.org/unpd/wpp/Download/Standard/Population/), and they are slightly different.  `un_world_population` in the next cell contains all the estimates since 1950.\n",
    "\n",
    "Next time you'll learn how to write code to compare all the estimates.  But the first thing we should check when investigating the two datasets is whether we have data from the same number of years in both!  Set `same_number_of_years` to `True` if we do, and `False` otherwise."
   ]
  },
  {
   "cell_type": "code",
   "execution_count": 89,
   "metadata": {
    "collapsed": false
   },
   "outputs": [
    {
     "data": {
      "text/plain": [
       "True"
      ]
     },
     "execution_count": 89,
     "metadata": {},
     "output_type": "execute_result"
    }
   ],
   "source": [
    "un_world_population = np.array([2525149312, 2571867515, 2617940399, 2664029010, 2710677773, 2758314525, 2807246148, 2857662910, 2909651396, 2963216053, 3018343828, 3075073173, 3133554362, 3194075347, 3256988501, 3322495121, 3390685523, 3461343172, 3533966901, 3607865513, 3682487691, 3757734668, 3833594894, 3909722120, 3985733775, 4061399228, 4136542070, 4211322427, 4286282447, 4362189531, 4439632465, 4518602042, 4599003374, 4681210508, 4765657562, 4852540569, 4942056118, 5033804944, 5126632694, 5218978019, 5309667699, 5398328753, 5485115276, 5570045380, 5653315893, 5735123084, 5815392305, 5894155105, 5971882825, 6049205203, 6126622121, 6204310739, 6282301767, 6360764684, 6439842408, 6519635850, 6600220247, 6681607320, 6763732879, 6846479521, 6929725043, 7013427052, 7097500453, 7181715139, 7265785946, 7349472099])\n",
    "same_number_of_years = len(un_world_population) == len(world_population) #SOLUTION\n",
    "same_number_of_years"
   ]
  },
  {
   "cell_type": "code",
   "execution_count": 90,
   "metadata": {
    "collapsed": false
   },
   "outputs": [
    {
     "name": "stdout",
     "output_type": "stream",
     "text": [
      "~~~~~~~~~~~~~~~~~~~~~~~~~~~~~~~~~~~~~~~~~~~~~~~~~~~~~~~~~~~~~~~~~~~~~\n",
      "Running tests\n",
      "\n",
      "---------------------------------------------------------------------\n",
      "Test summary\n",
      "    Passed: 1\n",
      "    Failed: 0\n",
      "[ooooooooook] 100.0% passed\n",
      "\n"
     ]
    }
   ],
   "source": [
    "_ = lab02.grade('q61')"
   ]
  },
  {
   "cell_type": "markdown",
   "metadata": {},
   "source": [
    "You're done with Lab 2!  Be sure to run the tests and verify that they all pass, then choose **Save and Checkpoint** from the **File** menu, then run this final cell:"
   ]
  },
  {
   "cell_type": "code",
   "execution_count": 91,
   "metadata": {
    "collapsed": false
   },
   "outputs": [
    {
     "name": "stdout",
     "output_type": "stream",
     "text": [
      "[NbConvertApp] WARNING | pattern 'lab02.ipynb' matched no files\n",
      "This application is used to convert notebook files (*.ipynb) to various other\n",
      "formats.\n",
      "\n",
      "WARNING: THE COMMANDLINE INTERFACE MAY CHANGE IN FUTURE RELEASES.\n",
      "\n",
      "Options\n",
      "-------\n",
      "\n",
      "Arguments that take values are actually convenience aliases to full\n",
      "Configurables, whose aliases are listed on the help line. For more information\n",
      "on full configurables, see '--help-all'.\n",
      "\n",
      "--generate-config\n",
      "    generate default config file\n",
      "--inplace\n",
      "    Run nbconvert in place, overwriting the existing notebook (only \n",
      "    relevant when converting to notebook format)\n",
      "--allow-errors\n",
      "    Continue notebook execution even if one of the cells throws an error and include the error message in the cell output (the default behaviour is to abort conversion). This flag is only relevant if '--execute' was specified, too.\n",
      "--execute\n",
      "    Execute the notebook prior to export.\n",
      "--stdout\n",
      "    Write notebook output to stdout instead of files.\n",
      "--debug\n",
      "    set log level to logging.DEBUG (maximize logging output)\n",
      "-y\n",
      "    Answer yes to any questions instead of prompting.\n",
      "--log-level=<Enum> (Application.log_level)\n",
      "    Default: 30\n",
      "    Choices: (0, 10, 20, 30, 40, 50, 'DEBUG', 'INFO', 'WARN', 'ERROR', 'CRITICAL')\n",
      "    Set the log level by value or name.\n",
      "--template=<Unicode> (TemplateExporter.template_file)\n",
      "    Default: ''\n",
      "    Name of the template file to use\n",
      "--output=<Unicode> (NbConvertApp.output_base)\n",
      "    Default: ''\n",
      "    overwrite base name use for output files. can only be used when converting\n",
      "    one notebook at a time.\n",
      "--nbformat=<Enum> (NotebookExporter.nbformat_version)\n",
      "    Default: 4\n",
      "    Choices: [1, 2, 3, 4]\n",
      "    The nbformat version to write. Use this to downgrade notebooks.\n",
      "--to=<CaselessStrEnum> (NbConvertApp.export_format)\n",
      "    Default: 'html'\n",
      "    Choices: ['custom', 'html', 'latex', 'markdown', 'notebook', 'pdf', 'python', 'rst', 'script', 'slides']\n",
      "    The export format to be used.\n",
      "--writer=<DottedObjectName> (NbConvertApp.writer_class)\n",
      "    Default: 'FilesWriter'\n",
      "    Writer class used to write the  results of the conversion\n",
      "--config=<Unicode> (JupyterApp.config_file)\n",
      "    Default: ''\n",
      "    Full path of a config file.\n",
      "--post=<DottedOrNone> (NbConvertApp.postprocessor_class)\n",
      "    Default: ''\n",
      "    PostProcessor class used to write the  results of the conversion\n",
      "--reveal-prefix=<Unicode> (RevealHelpPreprocessor.url_prefix)\n",
      "    Default: 'reveal.js'\n",
      "    The URL prefix for reveal.js. This can be a a relative URL for a local copy\n",
      "    of reveal.js, or point to a CDN.\n",
      "    For speaker notes to work, a local reveal.js prefix must be used.\n",
      "\n",
      "To see all available configurables, use `--help-all`\n",
      "\n",
      "Examples\n",
      "--------\n",
      "\n",
      "    The simplest way to use nbconvert is\n",
      "    \n",
      "    > jupyter nbconvert mynotebook.ipynb\n",
      "    \n",
      "    which will convert mynotebook.ipynb to the default format (probably HTML).\n",
      "    \n",
      "    You can specify the export format with `--to`.\n",
      "    Options include ['custom', 'html', 'latex', 'markdown', 'notebook', 'pdf', 'python', 'rst', 'script', 'slides']\n",
      "    \n",
      "    > jupyter nbconvert --to latex mynotebook.ipynb\n",
      "    \n",
      "    Both HTML and LaTeX support multiple output templates. LaTeX includes\n",
      "    'base', 'article' and 'report'.  HTML includes 'basic' and 'full'. You\n",
      "    can specify the flavor of the format used.\n",
      "    \n",
      "    > jupyter nbconvert --to html --template basic mynotebook.ipynb\n",
      "    \n",
      "    You can also pipe the output to stdout, rather than a file\n",
      "    \n",
      "    > jupyter nbconvert mynotebook.ipynb --stdout\n",
      "    \n",
      "    PDF is generated via latex\n",
      "    \n",
      "    > jupyter nbconvert mynotebook.ipynb --to pdf\n",
      "    \n",
      "    You can get (and serve) a Reveal.js-powered slideshow\n",
      "    \n",
      "    > jupyter nbconvert myslides.ipynb --to slides --post serve\n",
      "    \n",
      "    Multiple notebooks can be given at the command line in a couple of \n",
      "    different ways:\n",
      "    \n",
      "    > jupyter nbconvert notebook*.ipynb\n",
      "    > jupyter nbconvert notebook1.ipynb notebook2.ipynb\n",
      "    \n",
      "    or you can specify the notebooks list in a config file, containing::\n",
      "    \n",
      "        c.NbConvertApp.notebooks = [\"my_notebook.ipynb\"]\n",
      "    \n",
      "    > jupyter nbconvert --config mycfg.py\n",
      "\n"
     ]
    }
   ],
   "source": [
    "# Run this cell to submit your work *after* you have passed all of the test cells.\n",
    "# It's ok to run this cell multiple times. Only your final submission will be scored.\n",
    "\n",
    "!TZ=America/Los_Angeles ipython nbconvert --output=\".lab02_$(date +%m%d_%H%M)_submission.html\" lab02.ipynb && echo \"Submitted Successfully\""
   ]
  },
  {
   "cell_type": "code",
   "execution_count": null,
   "metadata": {
    "collapsed": true
   },
   "outputs": [],
   "source": []
  }
 ],
 "metadata": {
  "kernelspec": {
   "display_name": "Python 2",
   "language": "python",
   "name": "python2"
  },
  "language_info": {
   "codemirror_mode": {
    "name": "ipython",
    "version": 2
   },
   "file_extension": ".py",
   "mimetype": "text/x-python",
   "name": "python",
   "nbconvert_exporter": "python",
   "pygments_lexer": "ipython2",
   "version": "2.7.6"
  }
 },
 "nbformat": 4,
 "nbformat_minor": 0
}
