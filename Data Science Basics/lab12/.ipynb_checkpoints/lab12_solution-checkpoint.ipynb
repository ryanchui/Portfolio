{
 "cells": [
  {
   "cell_type": "markdown",
   "metadata": {},
   "source": [
    "# Lab 12: Hypothesis Testing\n",
    "\n",
    "# 0. Intro\n",
    "Welcome to Lab 12!\n",
    "\n",
    "Today's lab will review the idea of hypothesis testing using random permutations. This technique is described in the [Permutation chapter of the textbook](http://www.inferentialthinking.com/chapter5/permutation.html) and is used often in practice.\n",
    "\n",
    "#### Administrative details\n",
    "Lab submissions are due by **Friday, April 15 at 7:00 PM**.\n",
    "\n",
    "As usual, if you attend lab section and make a good effort but don't finish during the 2 hours, let your TA know, and you'll get full credit for the lab.  If you do that, please finish the lab on your own time (or in office hours, of course)."
   ]
  },
  {
   "cell_type": "code",
   "execution_count": 1,
   "metadata": {
    "collapsed": false
   },
   "outputs": [
    {
     "name": "stdout",
     "output_type": "stream",
     "text": [
      "=====================================================================\n",
      "Assignment: Lab 12\n",
      "OK, version v1.5.1\n",
      "=====================================================================\n",
      "\n"
     ]
    }
   ],
   "source": [
    "# Run this cell, but please don't change it.\n",
    "\n",
    "# These lines import the Numpy and Datascience modules.\n",
    "import numpy as np\n",
    "from datascience import *\n",
    "\n",
    "# These lines do some fancy plotting magic.\n",
    "import matplotlib\n",
    "%matplotlib inline\n",
    "import matplotlib.pyplot as plt\n",
    "plt.style.use('fivethirtyeight')\n",
    "import warnings\n",
    "warnings.simplefilter('ignore', FutureWarning)\n",
    "\n",
    "# These lines load the tests.\n",
    "from client.api.assignment import load_assignment \n",
    "lab12 = load_assignment('lab12.ok')"
   ]
  },
  {
   "cell_type": "markdown",
   "metadata": {},
   "source": [
    "# 1. Comparing Samples\n",
    "\n",
    "Many studies generate a table that describes multiple attributes for each element in a sample of a population. One important step in studying some aspect of the world via such a sample is to identify associations. An association between a *treatment* attribute and an *outcome* attribute in a population is any relation between them: the outcome varies in some way with the treatment. \n",
    "\n",
    "In a random sample, the outcome may appear associated with the treatment because there is in fact an association in the population, or simply because the sample happened to come out that way. The purpose of statistical hypothesis testing is to account quantitatively for the possibility that two attributes may appear related in a sample even though they are not related in the population.\n",
    "\n",
    "In this lab, we will review the *permutation test* techique from lecture and further investigate the dataset of married couples and unmarried partners to identify associations. The data are based on a study conducted in 2010 under the auspices of the National Center for Family and Marriage Research. \n",
    "\n",
    "The rows describe individual people who all participate in a two-person heterosexual relationship. The columns describe:\n",
    "- **ID**: An identifier for each couple\n",
    "- **Gender**: The self-reported sex of each individual\n",
    "- **Marital Status**: Whether the person is married to the individual with the same ID\n",
    "- **Relationship Rating**: How satisfied is the person with her/his relationship? 1 is most satisfied; 5 is least satisfied\n",
    "- **Age**: Age in years\n",
    "- **Education**: Self-reported highest level of education achieved\n",
    "- **Household Income**: Self-reported household income in a range of dollars\n",
    "- **Employment Status**: Employment situation at the time the survey was collected"
   ]
  },
  {
   "cell_type": "code",
   "execution_count": 2,
   "metadata": {
    "collapsed": false
   },
   "outputs": [
    {
     "data": {
      "text/html": [
       "<table border=\"1\" class=\"dataframe\">\n",
       "    <thead>\n",
       "        <tr>\n",
       "            <th>ID</th> <th>Gender</th> <th>Marital Status</th> <th>Relationship Rating</th> <th>Age</th> <th>Education</th> <th>Household Income</th> <th>Employment Status</th>\n",
       "        </tr>\n",
       "    </thead>\n",
       "    <tbody>\n",
       "        <tr>\n",
       "            <td>0   </td> <td>male  </td> <td>married       </td> <td>1                  </td> <td>51  </td> <td>Bachelor's degree                                     </td> <td>75,000 to 84,999  </td> <td>working as paid employee</td>\n",
       "        </tr>\n",
       "    </tbody>\n",
       "        <tr>\n",
       "            <td>0   </td> <td>female</td> <td>married       </td> <td>1                  </td> <td>53  </td> <td>High school graduate - diploma or the equivalent (GED)</td> <td>75,000 to 84,999  </td> <td>working as paid employee</td>\n",
       "        </tr>\n",
       "    </tbody>\n",
       "        <tr>\n",
       "            <td>1   </td> <td>male  </td> <td>married       </td> <td>1                  </td> <td>57  </td> <td>Associate degree                                      </td> <td>85,000 to 99,999  </td> <td>working as paid employee</td>\n",
       "        </tr>\n",
       "    </tbody>\n",
       "        <tr>\n",
       "            <td>1   </td> <td>female</td> <td>married       </td> <td>1                  </td> <td>57  </td> <td>High school graduate - diploma or the equivalent (GED)</td> <td>85,000 to 99,999  </td> <td>working as paid employee</td>\n",
       "        </tr>\n",
       "    </tbody>\n",
       "        <tr>\n",
       "            <td>2   </td> <td>male  </td> <td>married       </td> <td>1                  </td> <td>60  </td> <td>Bachelor's degree                                     </td> <td>75,000 to 84,999  </td> <td>working as paid employee</td>\n",
       "        </tr>\n",
       "    </tbody>\n",
       "        <tr>\n",
       "            <td>2   </td> <td>female</td> <td>married       </td> <td>1                  </td> <td>57  </td> <td>Some college, no degree                               </td> <td>75,000 to 84,999  </td> <td>working as paid employee</td>\n",
       "        </tr>\n",
       "    </tbody>\n",
       "        <tr>\n",
       "            <td>3   </td> <td>male  </td> <td>married       </td> <td>1                  </td> <td>62  </td> <td>High school graduate - diploma or the equivalent (GED)</td> <td>35,000 to 39,999  </td> <td>working, self-employed  </td>\n",
       "        </tr>\n",
       "    </tbody>\n",
       "        <tr>\n",
       "            <td>3   </td> <td>female</td> <td>married       </td> <td>1                  </td> <td>59  </td> <td>High school graduate - diploma or the equivalent (GED)</td> <td>35,000 to 39,999  </td> <td>working as paid employee</td>\n",
       "        </tr>\n",
       "    </tbody>\n",
       "        <tr>\n",
       "            <td>4   </td> <td>male  </td> <td>married       </td> <td>2                  </td> <td>53  </td> <td>Some college, no degree                               </td> <td>125,000 to 149,999</td> <td>not working - other     </td>\n",
       "        </tr>\n",
       "    </tbody>\n",
       "        <tr>\n",
       "            <td>4   </td> <td>female</td> <td>married       </td> <td>2                  </td> <td>61  </td> <td>Some college, no degree                               </td> <td>125,000 to 149,999</td> <td>not working - retired   </td>\n",
       "        </tr>\n",
       "    </tbody>\n",
       "</table>\n",
       "<p>... (2056 rows omitted)</p"
      ],
      "text/plain": [
       "ID   | Gender | Marital Status | Relationship Rating | Age  | Education                                              | Household Income   | Employment Status\n",
       "0    | male   | married        | 1                   | 51   | Bachelor's degree                                      | 75,000 to 84,999   | working as paid employee\n",
       "0    | female | married        | 1                   | 53   | High school graduate - diploma or the equivalent (GED) | 75,000 to 84,999   | working as paid employee\n",
       "1    | male   | married        | 1                   | 57   | Associate degree                                       | 85,000 to 99,999   | working as paid employee\n",
       "1    | female | married        | 1                   | 57   | High school graduate - diploma or the equivalent (GED) | 85,000 to 99,999   | working as paid employee\n",
       "2    | male   | married        | 1                   | 60   | Bachelor's degree                                      | 75,000 to 84,999   | working as paid employee\n",
       "2    | female | married        | 1                   | 57   | Some college, no degree                                | 75,000 to 84,999   | working as paid employee\n",
       "3    | male   | married        | 1                   | 62   | High school graduate - diploma or the equivalent (GED) | 35,000 to 39,999   | working, self-employed\n",
       "3    | female | married        | 1                   | 59   | High school graduate - diploma or the equivalent (GED) | 35,000 to 39,999   | working as paid employee\n",
       "4    | male   | married        | 2                   | 53   | Some college, no degree                                | 125,000 to 149,999 | not working - other\n",
       "4    | female | married        | 2                   | 61   | Some college, no degree                                | 125,000 to 149,999 | not working - retired\n",
       "... (2056 rows omitted)"
      ]
     },
     "execution_count": 2,
     "metadata": {},
     "output_type": "execute_result"
    }
   ],
   "source": [
    "couples = Table.read_table('couples.csv')\n",
    "couples"
   ]
  },
  {
   "cell_type": "markdown",
   "metadata": {},
   "source": [
    "Here are some statistics about this data set."
   ]
  },
  {
   "cell_type": "code",
   "execution_count": 3,
   "metadata": {
    "collapsed": false
   },
   "outputs": [
    {
     "name": "stdout",
     "output_type": "stream",
     "text": [
      "Number of individuals: 2066\n",
      "Number of unique ID values: 1033\n",
      "Number of unique Gender values: 2\n",
      "Number of unique Marital Status values: 2\n",
      "Number of unique Relationship Rating values: 5\n",
      "Number of unique Age values: 47\n",
      "Number of unique Education values: 13\n",
      "Number of unique Household Income values: 20\n",
      "Number of unique Employment Status values: 7\n"
     ]
    }
   ],
   "source": [
    "print('Number of individuals:', couples.num_rows)\n",
    "for label in couples.labels:\n",
    "    print('Number of unique', label, 'values:', couples.group(label).num_rows)"
   ]
  },
  {
   "cell_type": "markdown",
   "metadata": {},
   "source": [
    "## 1.1. Contingency Tables\n",
    "\n",
    "Before conducting a statistical test for whether a sample association is likely to be due to chance (as opposed to an association in the population), we can use visualization to identify some possible associations."
   ]
  },
  {
   "cell_type": "markdown",
   "metadata": {},
   "source": [
    "**Question 1.1.1.** Assign `ratings_by_gender` to a 5-row table that has the following three columns.\n",
    "- **Relationship Rating**: The rating of an individual\n",
    "- **female**: The count of all females who gave that rating\n",
    "- **male**: The count of all males who gave that rating\n",
    "\n",
    "*Hint:* The final table should look like this:\n",
    "\n",
    "| Relationship Rating | female | male |\n",
    "|---------------------|--------|------|\n",
    "| 1                   |        |      |\n",
    "| 2                   |        |      |\n",
    "| 3                   |        |      |\n",
    "| 4                   |        |      |\n",
    "| 5                   |        |      ||\n",
    "\n",
    "\n",
    "*Hint 2:* The Permutation chapter of the textbook describes a method for making contingency tables like this one."
   ]
  },
  {
   "cell_type": "code",
   "execution_count": 4,
   "metadata": {
    "collapsed": false
   },
   "outputs": [
    {
     "data": {
      "text/html": [
       "<table border=\"1\" class=\"dataframe\">\n",
       "    <thead>\n",
       "        <tr>\n",
       "            <th>Relationship Rating</th> <th>female</th> <th>male</th>\n",
       "        </tr>\n",
       "    </thead>\n",
       "    <tbody>\n",
       "        <tr>\n",
       "            <td>1                  </td> <td>633   </td> <td>680 </td>\n",
       "        </tr>\n",
       "    </tbody>\n",
       "        <tr>\n",
       "            <td>2                  </td> <td>318   </td> <td>284 </td>\n",
       "        </tr>\n",
       "    </tbody>\n",
       "        <tr>\n",
       "            <td>3                  </td> <td>34    </td> <td>31  </td>\n",
       "        </tr>\n",
       "    </tbody>\n",
       "        <tr>\n",
       "            <td>4                  </td> <td>32    </td> <td>33  </td>\n",
       "        </tr>\n",
       "    </tbody>\n",
       "        <tr>\n",
       "            <td>5                  </td> <td>16    </td> <td>5   </td>\n",
       "        </tr>\n",
       "    </tbody>\n",
       "</table>"
      ],
      "text/plain": [
       "Relationship Rating | female | male\n",
       "1                   | 633    | 680\n",
       "2                   | 318    | 284\n",
       "3                   | 34     | 31\n",
       "4                   | 32     | 33\n",
       "5                   | 16     | 5"
      ]
     },
     "execution_count": 4,
     "metadata": {},
     "output_type": "execute_result"
    }
   ],
   "source": [
    "ratings_by_gender = couples.pivot('Gender', 'Relationship Rating') # SOLUTION\n",
    "ratings_by_gender"
   ]
  },
  {
   "cell_type": "code",
   "execution_count": 5,
   "metadata": {
    "collapsed": false
   },
   "outputs": [
    {
     "name": "stdout",
     "output_type": "stream",
     "text": [
      "~~~~~~~~~~~~~~~~~~~~~~~~~~~~~~~~~~~~~~~~~~~~~~~~~~~~~~~~~~~~~~~~~~~~~\n",
      "Running tests\n",
      "\n",
      "---------------------------------------------------------------------\n",
      "Test summary\n",
      "    Passed: 2\n",
      "    Failed: 0\n",
      "[ooooooooook] 100.0% passed\n",
      "\n"
     ]
    }
   ],
   "source": [
    "_ = lab12.grade(\"q111\")"
   ]
  },
  {
   "cell_type": "markdown",
   "metadata": {},
   "source": [
    "Now run the next cell to see the two distributions of relationship ratings for females and males.  (Remember that 1 is the best rating and 5 is the worst.)"
   ]
  },
  {
   "cell_type": "code",
   "execution_count": 6,
   "metadata": {
    "collapsed": false
   },
   "outputs": [
    {
     "data": {
      "image/png": "[encoded data removed]",
      "text/plain": [
       "<matplotlib.figure.Figure at 0x7f8ddd25f3c8>"
      ]
     },
     "metadata": {},
     "output_type": "display_data"
    }
   ],
   "source": [
    "ratings_by_gender.barh(0)"
   ]
  },
  {
   "cell_type": "markdown",
   "metadata": {},
   "source": [
    "**Question 1.1.2.** Assign `rating_difference` to a 4-row table that has the following three columns.\n",
    "\n",
    "- **Rating Difference**: The difference between the relationship ratings given by the two members of the same couple\n",
    "- **married**: The number of *married couples* who reported that rating difference\n",
    "- **partner**: The number of *unmarried couples* (partners) who reported that rating difference\n",
    "\n",
    "The `diffs` table defined for you provides part of the solution, but you must figure out how to use it.\n",
    "\n",
    "*Hint*: The `np.ptp` function takes a list of values and returns the maximum minus the minimum. The acronym \"ptp\" stands for *peak to peak*. The final table should look like this:\n",
    "\n",
    "| Rating Difference | married | partner |\n",
    "|-------------------|---------|---------|\n",
    "| 0                 |         |         |\n",
    "| 1                 |         |         |\n",
    "| 2                 |         |         |\n",
    "| 3                 |         |         |"
   ]
  },
  {
   "cell_type": "code",
   "execution_count": 7,
   "metadata": {
    "collapsed": false
   },
   "outputs": [
    {
     "data": {
      "text/html": [
       "<table border=\"1\" class=\"dataframe\">\n",
       "    <thead>\n",
       "        <tr>\n",
       "            <th>Rating Difference</th> <th>married</th> <th>partner</th>\n",
       "        </tr>\n",
       "    </thead>\n",
       "    <tbody>\n",
       "        <tr>\n",
       "            <td>0                </td> <td>518    </td> <td>186    </td>\n",
       "        </tr>\n",
       "    </tbody>\n",
       "        <tr>\n",
       "            <td>1                </td> <td>194    </td> <td>79     </td>\n",
       "        </tr>\n",
       "    </tbody>\n",
       "        <tr>\n",
       "            <td>2                </td> <td>18     </td> <td>20     </td>\n",
       "        </tr>\n",
       "    </tbody>\n",
       "        <tr>\n",
       "            <td>3                </td> <td>12     </td> <td>6      </td>\n",
       "        </tr>\n",
       "    </tbody>\n",
       "</table>"
      ],
      "text/plain": [
       "Rating Difference | married | partner\n",
       "0                 | 518     | 186\n",
       "1                 | 194     | 79\n",
       "2                 | 18      | 20\n",
       "3                 | 12      | 6"
      ]
     },
     "execution_count": 7,
     "metadata": {},
     "output_type": "execute_result"
    }
   ],
   "source": [
    "# The following table should be helpful.  Either read the code\n",
    "# or print out part of the table to see what it is.\n",
    "diffs = couples.select(['ID', 'Marital Status', 'Relationship Rating']).groups(['ID', 'Marital Status'], np.ptp)\n",
    "\n",
    "# You fill in this part:\n",
    "rating_difference = diffs.relabeled(2, 'Rating Difference').pivot('Marital Status', 'Rating Difference') # SOLUTION\n",
    "rating_difference"
   ]
  },
  {
   "cell_type": "code",
   "execution_count": 8,
   "metadata": {
    "collapsed": false
   },
   "outputs": [
    {
     "name": "stdout",
     "output_type": "stream",
     "text": [
      "~~~~~~~~~~~~~~~~~~~~~~~~~~~~~~~~~~~~~~~~~~~~~~~~~~~~~~~~~~~~~~~~~~~~~\n",
      "Running tests\n",
      "\n",
      "---------------------------------------------------------------------\n",
      "Test summary\n",
      "    Passed: 1\n",
      "    Failed: 0\n",
      "[ooooooooook] 100.0% passed\n",
      "\n"
     ]
    }
   ],
   "source": [
    "_ = lab12.grade(\"q112\")"
   ]
  },
  {
   "cell_type": "markdown",
   "metadata": {},
   "source": [
    "**Question 1.1.3.** Complete the function `proportions` that takes a table and a list of labels for columns containing counts. It returns a table with the same number of columns and rows, but with counts replaced by proportions and formatted as percentages for each `count_label`. \n",
    "\n",
    "*Hint*: Use `table = table.with_column(label, ...)` with an existing label to create a new table with one of the columns replaced.\n",
    "\n",
    "*Hint 2*: Recall that `table.set_format(<column name>, PercentFormatter(0))` will set the format of a column to percentages (with 0 decimal places)."
   ]
  },
  {
   "cell_type": "code",
   "execution_count": 9,
   "metadata": {
    "collapsed": false
   },
   "outputs": [
    {
     "data": {
      "text/html": [
       "<table border=\"1\" class=\"dataframe\">\n",
       "    <thead>\n",
       "        <tr>\n",
       "            <th>Rating Difference</th> <th>married</th> <th>partner</th>\n",
       "        </tr>\n",
       "    </thead>\n",
       "    <tbody>\n",
       "        <tr>\n",
       "            <td>0                </td> <td>70%    </td> <td>64%    </td>\n",
       "        </tr>\n",
       "    </tbody>\n",
       "        <tr>\n",
       "            <td>1                </td> <td>26%    </td> <td>27%    </td>\n",
       "        </tr>\n",
       "    </tbody>\n",
       "        <tr>\n",
       "            <td>2                </td> <td>2%     </td> <td>7%     </td>\n",
       "        </tr>\n",
       "    </tbody>\n",
       "        <tr>\n",
       "            <td>3                </td> <td>2%     </td> <td>2%     </td>\n",
       "        </tr>\n",
       "    </tbody>\n",
       "</table>"
      ],
      "text/plain": [
       "Rating Difference | married | partner\n",
       "0                 | 70%     | 64%\n",
       "1                 | 26%     | 27%\n",
       "2                 | 2%      | 7%\n",
       "3                 | 2%      | 2%"
      ]
     },
     "execution_count": 9,
     "metadata": {},
     "output_type": "execute_result"
    }
   ],
   "source": [
    "def proportions(table, count_labels):\n",
    "    for label in count_labels:\n",
    "        column = table.column(label) # SOLUTION\n",
    "        table = table.with_column(label, column / sum(column)) # SOLUTION\n",
    "        table.set_format(label, PercentFormatter(0))\n",
    "    return table\n",
    "\n",
    "proportions(rating_difference, ['married', 'partner'])"
   ]
  },
  {
   "cell_type": "code",
   "execution_count": 10,
   "metadata": {
    "collapsed": false
   },
   "outputs": [
    {
     "name": "stdout",
     "output_type": "stream",
     "text": [
      "~~~~~~~~~~~~~~~~~~~~~~~~~~~~~~~~~~~~~~~~~~~~~~~~~~~~~~~~~~~~~~~~~~~~~\n",
      "Running tests\n",
      "\n",
      "---------------------------------------------------------------------\n",
      "Test summary\n",
      "    Passed: 1\n",
      "    Failed: 0\n",
      "[ooooooooook] 100.0% passed\n",
      "\n"
     ]
    }
   ],
   "source": [
    "_ = lab12.grade(\"q113\")"
   ]
  },
  {
   "cell_type": "code",
   "execution_count": 11,
   "metadata": {
    "collapsed": false,
    "scrolled": true
   },
   "outputs": [
    {
     "data": {
      "image/png": "[encoded data removed]",
      "text/plain": [
       "<matplotlib.figure.Figure at 0x7f8ddb0fdeb8>"
      ]
     },
     "metadata": {},
     "output_type": "display_data"
    }
   ],
   "source": [
    "proportions(rating_difference, ['married', 'partner']).barh(0)"
   ]
  },
  {
   "cell_type": "markdown",
   "metadata": {},
   "source": [
    "**Question 1.1.4.** Do married couples in our sample rate their relationship higher than unmarried partners? Draw a bar chart to compare the **proportion** of different relationship ratings given by people in these two types of relationships.\n",
    "\n",
    "*Hint*: The proportion in the `partner` column for relationship rating of 2 should be 39%"
   ]
  },
  {
   "cell_type": "code",
   "execution_count": 12,
   "metadata": {
    "collapsed": false
   },
   "outputs": [
    {
     "data": {
      "image/png": "[encoded data removed]",
      "text/plain": [
       "<matplotlib.figure.Figure at 0x7f8ddd248320>"
      ]
     },
     "metadata": {},
     "output_type": "display_data"
    }
   ],
   "source": [
    "proportions(couples.pivot('Marital Status', 'Relationship Rating'), ['married', 'partner']).barh(0) # SOLUTION"
   ]
  },
  {
   "cell_type": "markdown",
   "metadata": {},
   "source": [
    "**Question 1.1.5.** Do **females** in the highest income category rate their relationship higher than females in other income categories? Draw a bar chart to compare the **proportion** of different relationship ratings given by females in the highest income category and females in all other brackets.\n",
    "\n",
    "*Hint*: The proportion in the highest income column for relationship rating 2 should be 29%."
   ]
  },
  {
   "cell_type": "code",
   "execution_count": 13,
   "metadata": {
    "collapsed": false
   },
   "outputs": [
    {
     "data": {
      "image/png": "[encoded data removed]",
      "text/plain": [
       "<matplotlib.figure.Figure at 0x7f8ddaf08b00>"
      ]
     },
     "metadata": {},
     "output_type": "display_data"
    }
   ],
   "source": [
    "# In our solution, we found it useful to first make a table of the females...\n",
    "females = couples.where('Gender', 'female') # SOLUTION\n",
    "# ...then a copy of that table with a column saying whether they were in the\n",
    "# highest income category.\n",
    "high_income_females = females.with_column('Rich', females.column('Household Income') == '175,000 or more') # SOLUTION\n",
    "# Then we made the bar chart here.\n",
    "proportions(high_income_females.pivot('Rich', 'Relationship Rating'), ['True', 'False']).barh(0) # SOLUTION"
   ]
  },
  {
   "cell_type": "markdown",
   "metadata": {},
   "source": [
    "## 1.2. Comparing distributions\n",
    "\n",
    "A comparison between two bar charts can be summarized by a single number in various ways. The two we have considered in lecture are the *total variation distance* and the *chi-squared statistic*, both described in [the textbook chapter on Distance Between Distributions](http://www.inferentialthinking.com/chapter5/distance.html).\n",
    "\n",
    "The `tvd` function (from the textbook) below computes the total variation distance between the distributions of two conditions."
   ]
  },
  {
   "cell_type": "code",
   "execution_count": 14,
   "metadata": {
    "collapsed": false
   },
   "outputs": [
    {
     "data": {
      "text/plain": [
       "0.046466602129719287"
      ]
     },
     "execution_count": 14,
     "metadata": {},
     "output_type": "execute_result"
    }
   ],
   "source": [
    "# Just run this cell.\n",
    "\n",
    "def tvd(t, conditions, values):\n",
    "    \"\"\"Compute the total variation distance \n",
    "    between proportions of values under two conditions.\n",
    "    \n",
    "    t          (Table) -- a table\n",
    "    conditions (str)   -- a column label in t; should have only two categories\n",
    "    values     (str)   -- a column label in t\n",
    "    \"\"\"\n",
    "    counts = t.pivot(conditions, values)\n",
    "    categoryA = np.array(counts.labels).item(1)\n",
    "    categoryB = np.array(counts.labels).item(2)\n",
    "    props = proportions(counts, [categoryA, categoryB])\n",
    "    a = props.column(1)\n",
    "    b = props.column(2)\n",
    "    return 0.5*sum(abs(a - b))\n",
    "\n",
    "tvd(couples, 'Gender', 'Relationship Rating')"
   ]
  },
  {
   "cell_type": "markdown",
   "metadata": {
    "collapsed": false
   },
   "source": [
    "**Question 1.2.1.** Assign `diff_tvd` to the total variation distance between the distributions of rating differences for married couples and unmarried partners.\n",
    "\n",
    "*Hint:* You can use the `diffs` table from question 1.1.2."
   ]
  },
  {
   "cell_type": "code",
   "execution_count": 15,
   "metadata": {
    "collapsed": false
   },
   "outputs": [
    {
     "data": {
      "text/plain": [
       "0.058937949815211041"
      ]
     },
     "execution_count": 15,
     "metadata": {},
     "output_type": "execute_result"
    }
   ],
   "source": [
    "diff_tvd = tvd(diffs, 'Marital Status', 'Relationship Rating ptp') #SOLUTION\n",
    "diff_tvd"
   ]
  },
  {
   "cell_type": "code",
   "execution_count": 16,
   "metadata": {
    "collapsed": false
   },
   "outputs": [
    {
     "name": "stdout",
     "output_type": "stream",
     "text": [
      "~~~~~~~~~~~~~~~~~~~~~~~~~~~~~~~~~~~~~~~~~~~~~~~~~~~~~~~~~~~~~~~~~~~~~\n",
      "Running tests\n",
      "\n",
      "---------------------------------------------------------------------\n",
      "Test summary\n",
      "    Passed: 1\n",
      "    Failed: 0\n",
      "[ooooooooook] 100.0% passed\n",
      "\n"
     ]
    }
   ],
   "source": [
    "_ = lab12.grade(\"q121\")"
   ]
  },
  {
   "cell_type": "markdown",
   "metadata": {},
   "source": [
    "For practice, let's consider a third notion of the difference between two distributions: the maximum deviation.  This is just the *biggest* difference (in absolute value) between any two of the bars when we make bar charts of the two distributions.  (Note that we don't divide by 2 like we do when we compute the total variation distance.)\n",
    "\n",
    "**Question 1.2.2.** Define the `max_deviation` function, which takes the same inputs as `tvd` but computes the maximum deviation between the two distributions, instead of the total variation."
   ]
  },
  {
   "cell_type": "code",
   "execution_count": 17,
   "metadata": {
    "collapsed": false
   },
   "outputs": [
    {
     "data": {
      "text/plain": [
       "0.045498547918683463"
      ]
     },
     "execution_count": 17,
     "metadata": {},
     "output_type": "execute_result"
    }
   ],
   "source": [
    "def max_deviation(t, conditions, values):\n",
    "    \"\"\"Compute the maximum difference for any value\n",
    "    between proportions of values under two conditions.\n",
    "    \n",
    "    t          (Table) -- a table\n",
    "    conditions (str)   -- a column label in t; should have only two categories\n",
    "    values     (str)   -- a column label in t\n",
    "    \"\"\"\n",
    "    counts = t.pivot(conditions, values) #SOLUTION\n",
    "    categoryA = np.array(counts.labels).item(1) #SOLUTION\n",
    "    categoryB = np.array(counts.labels).item(2) #SOLUTION\n",
    "    props = proportions(counts, [categoryA, categoryB]) #SOLUTION\n",
    "    a = props.column(1) #SOLUTION\n",
    "    b = props.column(2) #SOLUTION\n",
    "    return max(abs(a - b)) #SOLUTION\n",
    "\n",
    "max_deviation(couples, 'Gender', 'Relationship Rating')"
   ]
  },
  {
   "cell_type": "code",
   "execution_count": 18,
   "metadata": {
    "collapsed": false
   },
   "outputs": [
    {
     "name": "stdout",
     "output_type": "stream",
     "text": [
      "~~~~~~~~~~~~~~~~~~~~~~~~~~~~~~~~~~~~~~~~~~~~~~~~~~~~~~~~~~~~~~~~~~~~~\n",
      "Running tests\n",
      "\n",
      "---------------------------------------------------------------------\n",
      "Test summary\n",
      "    Passed: 1\n",
      "    Failed: 0\n",
      "[ooooooooook] 100.0% passed\n",
      "\n"
     ]
    }
   ],
   "source": [
    "_ = lab12.grade(\"q122\")"
   ]
  },
  {
   "cell_type": "markdown",
   "metadata": {},
   "source": [
    "# 2. Random Permutations\n",
    "\n",
    "There is no single threshold for a high (or low) total variation distance. Instead, we compare the observed test statistic to a distribution that is generated empirically by randomly permuting the values in the data. \n",
    "\n",
    "The purpose of this comparison is to help us choose between two hypotheses:\n",
    "\n",
    "*Null hypothesis*: The observed difference between distributions for two conditions is due to chance because we sampled at random to collect the data.\n",
    "\n",
    "*Alternative hypothesis*: The observed difference is not due to chance, but instead due to an association in the population.\n",
    "\n",
    "Both hypotheses assume that the data was in fact sampled at random from the population.  A permutation test generates samples that look like the samples we'd see if the null hypothesis were true.\n",
    "\n",
    "The online textbook provides [an implementation of a permutation test using total variation distance as the test statistic](http://www.inferentialthinking.com/chapter5/permutation.html#Generalizing-Our-Hypothesis-Test). Below, you will extend it to other test statistics."
   ]
  },
  {
   "cell_type": "markdown",
   "metadata": {},
   "source": [
    "**Question 2.1.** Complete the implementation of `permutation_test`, which is a generalization of `permutation_tvd` from the textbook, but takes an additional argument `f`, a distance function of three arguments such as `tvd` or `chi2`. Some of the lines left blank below do not need to be changed from the original implementation, but some do."
   ]
  },
  {
   "cell_type": "code",
   "execution_count": 19,
   "metadata": {
    "collapsed": false
   },
   "outputs": [],
   "source": [
    "def permutation_test(original, conditions, values, f):\n",
    "    \"\"\"\n",
    "    Perform a permutation test of whether \n",
    "    the distribution of values for two conditions \n",
    "    is the same in the population,\n",
    "    using the function f to compute the test statistic.\n",
    "    \n",
    "    original is a Table with two columns.  The value of the argument\n",
    "    conditions is the name of one column, and the value of the argument\n",
    "    values is the name of the other column.  The conditions table should\n",
    "    have only 2 possible values corresponding to 2 categories in the\n",
    "    data.\n",
    "    \n",
    "    The values column is shuffled many times, and the data are grouped\n",
    "    according to the conditions column.  The test statistic\n",
    "    between the proportions values in the 2 categories is computed.  \n",
    "    \n",
    "    Then we draw a histogram of all those statistics.  This shows us \n",
    "    how the statistic between the two distributions would vary from\n",
    "    chance, regardless of the conditions.\n",
    "    \"\"\"\n",
    "    # Note: 200 repetitions is a little low.  We've used that number\n",
    "    # so you don't have to wait too long when you run your code, but\n",
    "    # if you're concerned about the accuracy of the resulting P-value,\n",
    "    # feel free to increase it.\n",
    "    repetitions = 200\n",
    "    stats = []\n",
    "\n",
    "    for i in np.arange(repetitions):\n",
    "        shuffled = original.sample() # SOLUTION\n",
    "        combined = Table().with_columns([\n",
    "                conditions, original.column(conditions),\n",
    "                values,     shuffled.column(values)\n",
    "            ])\n",
    "        stats.append(f(combined, conditions, values)) # SOLUTION    \n",
    "\n",
    "    observation = f(original, conditions, values) # SOLUTION\n",
    "    p_value = np.count_nonzero(stats >= observation) / repetitions # SOLUTION\n",
    "    \n",
    "    print(\"Observation:\", observation)\n",
    "    print(\"Empirical P-value:\", p_value)\n",
    "    Table([stats], ['Empirical distribution']).hist()"
   ]
  },
  {
   "cell_type": "code",
   "execution_count": 20,
   "metadata": {
    "collapsed": false
   },
   "outputs": [
    {
     "name": "stdout",
     "output_type": "stream",
     "text": [
      "~~~~~~~~~~~~~~~~~~~~~~~~~~~~~~~~~~~~~~~~~~~~~~~~~~~~~~~~~~~~~~~~~~~~~\n",
      "Running tests\n",
      "\n",
      "---------------------------------------------------------------------\n",
      "Test summary\n",
      "    Passed: 1\n",
      "    Failed: 0\n",
      "[ooooooooook] 100.0% passed\n",
      "\n"
     ]
    },
    {
     "data": {
      "image/png": "[encoded data removed]",
      "text/plain": [
       "<matplotlib.figure.Figure at 0x7f8ddada3e10>"
      ]
     },
     "metadata": {},
     "output_type": "display_data"
    },
    {
     "data": {
      "image/png": "[encoded data removed]",
      "text/plain": [
       "<matplotlib.figure.Figure at 0x7f8ddae27400>"
      ]
     },
     "metadata": {},
     "output_type": "display_data"
    }
   ],
   "source": [
    "_ = lab12.grade(\"q21\")"
   ]
  },
  {
   "cell_type": "markdown",
   "metadata": {},
   "source": [
    "## 2.1. Hypothesis Tests\n",
    "\n",
    "Each hypothesis test has four steps. \n",
    "\n",
    "**Step 1** is to state the null and alternative hypotheses. For example, if we are intereted in whether married and unmarried couples rate their relationships differently, we would state the following:\n",
    "\n",
    "*Null hypothesis:* The difference between how married and unmarried couples rate their relationships is due to the randomness introduced by sampling the data from the population\n",
    "\n",
    "The alternative is an explanation that is exclusive of the null hypothesis: something is going on more than just random chance from sampling.\n",
    "\n",
    "*Alternative hypothesis:* The difference between how married and unmarried couples rate their relationships is not due to chance, but instead due to an association in the population.\n",
    "\n",
    "**Step 2** is to select a test statistic for evaluating the null hypothesis and compute it on our observed data.  The test statistic should be something that generally looks one way if the null hypothesis is true and another way if the alternative hypothesis is true. \n",
    "\n",
    "*Test statistic:* The total variation distance between the distributions of relationship ratings for two conditions: married and unmarried couples."
   ]
  },
  {
   "cell_type": "code",
   "execution_count": 21,
   "metadata": {
    "collapsed": false
   },
   "outputs": [
    {
     "data": {
      "text/plain": [
       "0.19107131278887746"
      ]
     },
     "execution_count": 21,
     "metadata": {},
     "output_type": "execute_result"
    }
   ],
   "source": [
    "tvd(couples, 'Marital Status', 'Relationship Rating')"
   ]
  },
  {
   "cell_type": "markdown",
   "metadata": {},
   "source": [
    "**Step 3** is to estimate the probability distribution of this statistic under the null hypothesis. Given only a sample, we can't draw new samples directly from the population. Instead, we randomly permute the pairings of conditions and values to see how the test statistic would vary for a sample of the given size, the split between conditions, and the observed proportions of values."
   ]
  },
  {
   "cell_type": "code",
   "execution_count": 22,
   "metadata": {
    "collapsed": false
   },
   "outputs": [
    {
     "name": "stdout",
     "output_type": "stream",
     "text": [
      "Observation: 0.191071312789\n",
      "Empirical P-value: 0.0\n"
     ]
    },
    {
     "data": {
      "image/png": "[encoded data removed]",
      "text/plain": [
       "<matplotlib.figure.Figure at 0x7f8ddadf64a8>"
      ]
     },
     "metadata": {},
     "output_type": "display_data"
    }
   ],
   "source": [
    "permutation_test(couples, 'Marital Status', 'Relationship Rating', tvd)"
   ]
  },
  {
   "cell_type": "markdown",
   "metadata": {},
   "source": [
    "**Step 4** is to interpret the result and draw a conclusion. A P-value of 0.05 or below is conventionally called \"statistically significant\" and a P-value of 0.01 or below is conventionally called \"highly statistically significant\", although these thresholds are arbitrary."
   ]
  },
  {
   "cell_type": "markdown",
   "metadata": {},
   "source": [
    "**Question 2.1.1.** Assign `married_couples_reject_null` to either `True` or `False` to express whether we should reject the null hypothesis that the difference between how married and unmarried couples rate their relationships is due to the randomness introduced by sampling the data from the population, using a maximum p-value of 0.01."
   ]
  },
  {
   "cell_type": "code",
   "execution_count": 23,
   "metadata": {
    "collapsed": true
   },
   "outputs": [],
   "source": [
    "# Fill this in manually, using the result of the permutation test\n",
    "# in the previous cell.\n",
    "married_couples_reject_null = True # SOLUTION"
   ]
  },
  {
   "cell_type": "code",
   "execution_count": null,
   "metadata": {
    "collapsed": false
   },
   "outputs": [
    {
     "name": "stdout",
     "output_type": "stream",
     "text": [
      "~~~~~~~~~~~~~~~~~~~~~~~~~~~~~~~~~~~~~~~~~~~~~~~~~~~~~~~~~~~~~~~~~~~~~\n",
      "Running tests\n",
      "\n",
      "---------------------------------------------------------------------\n",
      "Test summary\n",
      "    Passed: 1\n",
      "    Failed: 0\n",
      "[ooooooooook] 100.0% passed\n",
      "\n"
     ]
    }
   ],
   "source": [
    "_ = lab12.grade(\"q211\")"
   ]
  },
  {
   "cell_type": "markdown",
   "metadata": {},
   "source": [
    "**Question 2.1.2.** Assign `high_income_females_reject_null` to the result of an expression that determines whether we should reject the null hypothesis that the difference between how females in the highest income category and females in all other categories rate their relationship is due to the randomness introduced by sampling the data from the population. Use a maximum p-value of 0.01. Does it matter whether you use `tvd` or `max_deviation` as your test statistic?"
   ]
  },
  {
   "cell_type": "code",
   "execution_count": null,
   "metadata": {
    "collapsed": false
   },
   "outputs": [
    {
     "name": "stdout",
     "output_type": "stream",
     "text": [
      "Observation: 0.0204707749273\n",
      "Empirical P-value: 0.96\n",
      "Observation: 0.0399894207882\n",
      "Empirical P-value: 0.9\n"
     ]
    }
   ],
   "source": [
    "permutation_test(high_income_females, 'Rich', 'Relationship Rating', max_deviation) # SOLUTION\n",
    "permutation_test(high_income_females, 'Rich', 'Relationship Rating', tvd) # SOLUTION\n",
    "high_income_females_reject_null = False # SOLUTION"
   ]
  },
  {
   "cell_type": "code",
   "execution_count": null,
   "metadata": {
    "collapsed": false
   },
   "outputs": [],
   "source": [
    "_ = lab12.grade(\"q212\")"
   ]
  },
  {
   "cell_type": "markdown",
   "metadata": {},
   "source": [
    "You're done!"
   ]
  },
  {
   "cell_type": "code",
   "execution_count": null,
   "metadata": {
    "collapsed": false
   },
   "outputs": [],
   "source": [
    "# For your convenience, you can run this cell to run all the tests at once!\n",
    "import os\n",
    "print(\"Running all tests...\")\n",
    "_ = [lab12.grade(q[:-3]) for q in os.listdir(\"tests\") if q.startswith('q')]\n",
    "print(\"Finished running all tests.\")"
   ]
  },
  {
   "cell_type": "code",
   "execution_count": null,
   "metadata": {
    "collapsed": false
   },
   "outputs": [],
   "source": [
    "# Run this cell to submit your work *after* you have passed all of the test cells.\n",
    "# It's ok to run this cell multiple times. Only your final submission will be scored.\n",
    "\n",
    "!TZ=America/Los_Angeles ipython nbconvert --output=\".lab12_$(date +%m%d_%H%M)_submission.html\" lab12.ipynb && echo \"Submitted successfully.\""
   ]
  }
 ],
 "metadata": {
  "kernelspec": {
   "display_name": "Python 3",
   "language": "python",
   "name": "python3"
  },
  "language_info": {
   "codemirror_mode": {
    "name": "ipython",
    "version": 3
   },
   "file_extension": ".py",
   "mimetype": "text/x-python",
   "name": "python",
   "nbconvert_exporter": "python",
   "pygments_lexer": "ipython3",
   "version": "3.4.4"
  }
 },
 "nbformat": 4,
 "nbformat_minor": 0
}
