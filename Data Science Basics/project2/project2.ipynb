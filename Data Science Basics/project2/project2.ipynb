{
 "cells": [
  {
   "cell_type": "markdown",
   "metadata": {},
   "source": [
    "# Project 2 - Classification\n",
    "Welcome to the second project in Data 8!  You will build a classifier that guesses whether a song is hip-hop or country, using only the numbers of times words appear in the song's lyrics.  By the end of the project, you should know how to:\n",
    "\n",
    "1. Build a k-nearest-neighbors classifier.\n",
    "2. Test a classifier on data.\n",
    "3. Evaluate different sets of features.\n",
    "\n",
    "**Run the cell below** to prepare the automatic tests. **Passing the automatic tests does not guarantee full credit on any question.** The tests are provided to help catch some common errors, but it is your responsibility to answer the questions correctly."
   ]
  },
  {
   "cell_type": "code",
   "execution_count": 1,
   "metadata": {
    "collapsed": false
   },
   "outputs": [
    {
     "name": "stdout",
     "output_type": "stream",
     "text": [
      "=====================================================================\n",
      "Assignment: Project 2\n",
      "OK, version v1.5.1\n",
      "=====================================================================\n",
      "\n"
     ]
    }
   ],
   "source": [
    "# Run this cell, but please don't change it.\n",
    "\n",
    "import numpy as np\n",
    "import math\n",
    "from datascience import *\n",
    "\n",
    "# These lines set up the plotting functionality and formatting.\n",
    "import matplotlib\n",
    "matplotlib.use('Agg', warn=False)\n",
    "%matplotlib inline\n",
    "import matplotlib.pyplot as plt\n",
    "plt.style.use('fivethirtyeight')\n",
    "\n",
    "# These lines load the tests.\n",
    "from client.api.assignment import load_assignment \n",
    "project2 = load_assignment('project2.ok')"
   ]
  },
  {
   "cell_type": "markdown",
   "metadata": {},
   "source": [
    "# 1. The Dataset\n",
    "\n",
    "Our dataset is a table of songs, each with a name, an artist, and a genre.  For each song, we also know how frequently certain words occur in that song.  More precisely, we have a list of approximately 5000 words.  For each of these words, for each song, each item in the table describes the proportion of the song's lyrics that are the particular word.\n",
    "\n",
    "For example, the lyrics of \"In Your Eyes\" is 168 words long. The word \"like\" appears twice:  $\\frac{2}{168} \\approx 0.0119$ of the words in the song. Similarly, the word \"love\" appears 10 times: $\\frac{10}{168} \\approx 0.0595$ of the words. Therefore, `lyrics.where(\"Title\", \"In Your Eyes\").column(\"like\").item(0)` is about $0.0119$, and `lyrics.where(\"Title\", \"In Your Eyes\").column(\"love\").item(0)` is about $0.0595$.\n",
    "\n",
    "Our dataset doesn't contain all information about a song.  For example, it doesn't include the total number of words in each song, or information about the order of words in the song, let alone the melody, instruments, or rhythm. Nonetheless, you may find that word counts alone are sufficient to build an accurate genre classifier.\n",
    "\n",
    "Run the cell below to read the `lyrics` table. **It may take up to a minute to load.**"
   ]
  },
  {
   "cell_type": "code",
   "execution_count": 2,
   "metadata": {
    "collapsed": false
   },
   "outputs": [
    {
     "data": {
      "text/html": [
       "<table border=\"1\" class=\"dataframe\">\n",
       "    <thead>\n",
       "        <tr>\n",
       "            <th>Title</th> <th>Artist</th> <th>Genre</th> <th>i</th> <th>the</th> <th>you</th> <th>to</th> <th>and</th>\n",
       "        </tr>\n",
       "    </thead>\n",
       "    <tbody>\n",
       "        <tr>\n",
       "            <td>Slicker Than Your Average  </td> <td>Craig David                </td> <td>Hip-hop</td> <td>0.0495356</td> <td>0.0170279</td> <td>0.0356037</td> <td>0.0201238</td> <td>0.00773994</td>\n",
       "        </tr>\n",
       "    </tbody>\n",
       "        <tr>\n",
       "            <td>Right There                </td> <td>MF Grimm                   </td> <td>Hip-hop</td> <td>0.0378251</td> <td>0.0543735</td> <td>0.0236407</td> <td>0.0496454</td> <td>0.00945627</td>\n",
       "        </tr>\n",
       "    </tbody>\n",
       "        <tr>\n",
       "            <td>Talkin' All That           </td> <td>Cashis                     </td> <td>Hip-hop</td> <td>0.0567376</td> <td>0.0496454</td> <td>0.0514184</td> <td>0.0106383</td> <td>0.0265957 </td>\n",
       "        </tr>\n",
       "    </tbody>\n",
       "        <tr>\n",
       "            <td>It Only Hurts Me When I Cry</td> <td>Raul Malo                  </td> <td>Country</td> <td>0.0964912</td> <td>0.0745614</td> <td>0.0307017</td> <td>0.0175439</td> <td>0.0263158 </td>\n",
       "        </tr>\n",
       "    </tbody>\n",
       "        <tr>\n",
       "            <td>Is It Too Late Now         </td> <td>Lester Flatt & Earl Scruggs</td> <td>Country</td> <td>0.0439024</td> <td>0        </td> <td>0.0731707</td> <td>0.0195122</td> <td>0         </td>\n",
       "        </tr>\n",
       "    </tbody>\n",
       "</table>\n",
       "<p>... (1716 rows omitted)</p"
      ],
      "text/plain": [
       "<IPython.core.display.HTML object>"
      ]
     },
     "metadata": {},
     "output_type": "display_data"
    }
   ],
   "source": [
    "# Just run this cell.\n",
    "lyrics = Table.read_table('data/lyrics_clean.csv')\n",
    "\n",
    "# The first 5 rows and 8 columns of the table\n",
    "lyrics.select(np.arange(8)).show(5)"
   ]
  },
  {
   "cell_type": "markdown",
   "metadata": {},
   "source": [
    "All titles are unique. The `row_for_title` function provides fast access to the one row for each title. "
   ]
  },
  {
   "cell_type": "code",
   "execution_count": 3,
   "metadata": {
    "collapsed": false
   },
   "outputs": [],
   "source": [
    "title_index = lyrics.index_by('Title')\n",
    "def row_for_title(title):\n",
    "    return title_index.get(title)[0]\n"
   ]
  },
  {
   "cell_type": "markdown",
   "metadata": {},
   "source": [
    "**Question 1.1:** Set `expected_row_sum` to the number that you expect will result from summing all proportions in each row, excluding the first three columns. "
   ]
  },
  {
   "cell_type": "code",
   "execution_count": 4,
   "metadata": {
    "collapsed": false
   },
   "outputs": [
    {
     "data": {
      "text/plain": [
       "1.0"
      ]
     },
     "execution_count": 4,
     "metadata": {},
     "output_type": "execute_result"
    }
   ],
   "source": [
    "# Set row_sum to a number that's the (approximate) sum of each row of word proportions.\n",
    "expected_row_sum = np.count_nonzero(lyrics.column(\"Genre\").take(range(3,1721))) / 1718\n",
    "expected_row_sum"
   ]
  },
  {
   "cell_type": "code",
   "execution_count": 5,
   "metadata": {
    "collapsed": false
   },
   "outputs": [
    {
     "name": "stdout",
     "output_type": "stream",
     "text": [
      "~~~~~~~~~~~~~~~~~~~~~~~~~~~~~~~~~~~~~~~~~~~~~~~~~~~~~~~~~~~~~~~~~~~~~\n",
      "Running tests\n",
      "\n",
      "---------------------------------------------------------------------\n",
      "Test summary\n",
      "    Passed: 1\n",
      "    Failed: 0\n",
      "[ooooooooook] 100.0% passed\n",
      "\n"
     ]
    }
   ],
   "source": [
    "_ = project2.grade('q11')"
   ]
  },
  {
   "cell_type": "markdown",
   "metadata": {},
   "source": [
    "**Sanity check (optional & ungraded):** To check that the actual row sums are close to what you expect, draw the histogram below."
   ]
  },
  {
   "cell_type": "code",
   "execution_count": 6,
   "metadata": {
    "collapsed": false
   },
   "outputs": [
    {
     "data": {
      "image/png": "[encoded data removed]",
      "text/plain": [
       "<matplotlib.figure.Figure at 0x7fdf5a4a4978>"
      ]
     },
     "metadata": {},
     "output_type": "display_data"
    }
   ],
   "source": [
    "# Run this cell to display a histogram of the sums of proportions in each row.\n",
    "# This computation might take up to a minute; you can skip it if it's too slow.\n",
    "Table().with_column('sums', lyrics.drop([0, 1, 2]).apply(sum)).hist(0)"
   ]
  },
  {
   "cell_type": "markdown",
   "metadata": {
    "collapsed": false
   },
   "source": [
    "This dataset was extracted from the Million Song Dataset (http://labrosa.ee.columbia.edu/millionsong/). Specifically, we are using the complementary datasets from musiXmatch (http://labrosa.ee.columbia.edu/millionsong/musixmatch) and Last.fm (http://labrosa.ee.columbia.edu/millionsong/lastfm).\n",
    "\n",
    "The counts of common words in the lyrics for all of these songs are provided by the musiXmatch dataset (called a bag-of-words format). Only the top 5000 most common words are represented. For each song, we divided the number of occurrences of each word by the total number of word occurrences in the lyrics of that song.\n",
    "\n",
    "The Last.fm dataset contains multiple tags for each song in the Million Song Dataset. Some of the tags are genre-related, such as \"pop\", \"rock\", \"classic\", etc.  To obtain our dataset, we first extracted songs with Last.fm tags that included the words \"country\", or \"hip\" and \"hop\". These songs were then cross-referenced with the musiXmatch dataset, and only songs with musixMatch lyrics were placed into our dataset. Finally, inappropriate words and songs with naughty titles were removed, leaving us with 4976 words in the vocabulary and 1726 songs."
   ]
  },
  {
   "cell_type": "markdown",
   "metadata": {},
   "source": [
    "## 1.1. Word Stemming\n",
    "The columns other than Title, Artist, and Genre in the `lyrics` table are all words that appear in some of the songs in our dataset.  Some of those names have been *stemmed*, or abbreviated heuristically, in an attempt to make different [inflected](https://en.wikipedia.org/wiki/Inflection) forms of the same base word into the same string.  For example, the column \"manag\" is the sum of proportions of the words \"manage\", \"manager\", \"managed\", and \"managerial\" (and perhaps others) in each song.  \n",
    "\n",
    "Stemming makes it a little tricky to search for the words you want to use, so we have provided another table that will let you see examples of unstemmed versions of each stemmed word.  Run the code below to load it."
   ]
  },
  {
   "cell_type": "code",
   "execution_count": 7,
   "metadata": {
    "collapsed": false,
    "scrolled": true
   },
   "outputs": [
    {
     "data": {
      "text/html": [
       "<table border=\"1\" class=\"dataframe\">\n",
       "    <thead>\n",
       "        <tr>\n",
       "            <th>Stem</th> <th>Word</th>\n",
       "        </tr>\n",
       "    </thead>\n",
       "    <tbody>\n",
       "        <tr>\n",
       "            <td>coup  </td> <td>coup   </td>\n",
       "        </tr>\n",
       "    </tbody>\n",
       "        <tr>\n",
       "            <td>coupl </td> <td>couple </td>\n",
       "        </tr>\n",
       "    </tbody>\n",
       "        <tr>\n",
       "            <td>courag</td> <td>courage</td>\n",
       "        </tr>\n",
       "    </tbody>\n",
       "        <tr>\n",
       "            <td>cours </td> <td>course </td>\n",
       "        </tr>\n",
       "    </tbody>\n",
       "        <tr>\n",
       "            <td>court </td> <td>court  </td>\n",
       "        </tr>\n",
       "    </tbody>\n",
       "        <tr>\n",
       "            <td>cousin</td> <td>cousin </td>\n",
       "        </tr>\n",
       "    </tbody>\n",
       "        <tr>\n",
       "            <td>cover </td> <td>cover  </td>\n",
       "        </tr>\n",
       "    </tbody>\n",
       "        <tr>\n",
       "            <td>cow   </td> <td>cow    </td>\n",
       "        </tr>\n",
       "    </tbody>\n",
       "        <tr>\n",
       "            <td>coward</td> <td>coward </td>\n",
       "        </tr>\n",
       "    </tbody>\n",
       "        <tr>\n",
       "            <td>cowboy</td> <td>cowboy </td>\n",
       "        </tr>\n",
       "    </tbody>\n",
       "</table>"
      ],
      "text/plain": [
       "Stem   | Word\n",
       "coup   | coup\n",
       "coupl  | couple\n",
       "courag | courage\n",
       "cours  | course\n",
       "court  | court\n",
       "cousin | cousin\n",
       "cover  | cover\n",
       "cow    | cow\n",
       "coward | coward\n",
       "cowboy | cowboy"
      ]
     },
     "execution_count": 7,
     "metadata": {},
     "output_type": "execute_result"
    }
   ],
   "source": [
    "# Just run this cell.\n",
    "vocab_mapping = Table.read_table('data/mxm_reverse_mapping_safe.csv')\n",
    "stemmed = np.take(lyrics.labels, np.arange(3, len(lyrics.labels)))\n",
    "vocab_table = Table().with_column('Stem', stemmed).join('Stem', vocab_mapping)\n",
    "vocab_table.take(range(900, 910))\n",
    "\n"
   ]
  },
  {
   "cell_type": "markdown",
   "metadata": {},
   "source": [
    "**Question 1.1.1:** Assign `unchanged` to the **percentage** of words in `vocab_table` that are the same as their stemmed form (such as \"coup\" above). "
   ]
  },
  {
   "cell_type": "code",
   "execution_count": 8,
   "metadata": {
    "collapsed": false
   },
   "outputs": [
    {
     "name": "stdout",
     "output_type": "stream",
     "text": [
      "72%\n"
     ]
    }
   ],
   "source": [
    "unchanged = np.count_nonzero(vocab_table.column(0) == vocab_table.column(1))/vocab_table.num_rows*100\n",
    "print(str(round(unchanged)) + '%')"
   ]
  },
  {
   "cell_type": "markdown",
   "metadata": {},
   "source": [
    "**Question 1.1.2:** Assign `stemmed_message` to the stemmed version of the word \"message\"."
   ]
  },
  {
   "cell_type": "code",
   "execution_count": 9,
   "metadata": {
    "collapsed": false
   },
   "outputs": [
    {
     "data": {
      "text/plain": [
       "'messag'"
      ]
     },
     "execution_count": 9,
     "metadata": {},
     "output_type": "execute_result"
    }
   ],
   "source": [
    "# Set stemmed_message to the stemmed version of \"message\" (which\n",
    "# should be a string).  Use vocab_table.\n",
    "stemmed_message = ''.join(vocab_table.where(\"Stem\", \"messag\").column(0))\n",
    "stemmed_message"
   ]
  },
  {
   "cell_type": "code",
   "execution_count": 10,
   "metadata": {
    "collapsed": false
   },
   "outputs": [
    {
     "name": "stdout",
     "output_type": "stream",
     "text": [
      "~~~~~~~~~~~~~~~~~~~~~~~~~~~~~~~~~~~~~~~~~~~~~~~~~~~~~~~~~~~~~~~~~~~~~\n",
      "Running tests\n",
      "\n",
      "---------------------------------------------------------------------\n",
      "Test summary\n",
      "    Passed: 1\n",
      "    Failed: 0\n",
      "[ooooooooook] 100.0% passed\n",
      "\n"
     ]
    }
   ],
   "source": [
    "_ = project2.grade(\"q112\")"
   ]
  },
  {
   "cell_type": "markdown",
   "metadata": {},
   "source": [
    "**Question 1.1.3:** Assign `unstemmed_singl` to the word in `vocab_table` that has \"singl\" as its stemmed form. (*Note that multiple English words may stem to \"singl\", but only one example appears in `vocab_table`.*)"
   ]
  },
  {
   "cell_type": "code",
   "execution_count": 11,
   "metadata": {
    "collapsed": false
   },
   "outputs": [
    {
     "data": {
      "text/plain": [
       "'single'"
      ]
     },
     "execution_count": 11,
     "metadata": {},
     "output_type": "execute_result"
    }
   ],
   "source": [
    "# Set unstemmed_singl to the unstemmed version of \"single\" (which\n",
    "# should be a string).\n",
    "unstemmed_singl = ''.join(vocab_table.where(\"Stem\", \"singl\").column(1))\n",
    "unstemmed_singl"
   ]
  },
  {
   "cell_type": "code",
   "execution_count": 12,
   "metadata": {
    "collapsed": false
   },
   "outputs": [
    {
     "name": "stdout",
     "output_type": "stream",
     "text": [
      "~~~~~~~~~~~~~~~~~~~~~~~~~~~~~~~~~~~~~~~~~~~~~~~~~~~~~~~~~~~~~~~~~~~~~\n",
      "Running tests\n",
      "\n",
      "---------------------------------------------------------------------\n",
      "Test summary\n",
      "    Passed: 1\n",
      "    Failed: 0\n",
      "[ooooooooook] 100.0% passed\n",
      "\n"
     ]
    }
   ],
   "source": [
    "_ = project2.grade(\"q113\")"
   ]
  },
  {
   "cell_type": "markdown",
   "metadata": {},
   "source": [
    "**Question 1.1.4:** What word in `vocab_table` was shortened the most by this stemming process? Assign `most_shortened` to the word. It's an example of how heuristic stemming can collapse two unrelated words into the same stem (which is bad, but happens a lot in practice anyway)."
   ]
  },
  {
   "cell_type": "code",
   "execution_count": 13,
   "metadata": {
    "collapsed": false
   },
   "outputs": [
    {
     "data": {
      "text/html": [
       "<table border=\"1\" class=\"dataframe\">\n",
       "    <thead>\n",
       "        <tr>\n",
       "            <th>Stem</th> <th>Word</th>\n",
       "        </tr>\n",
       "    </thead>\n",
       "    <tbody>\n",
       "        <tr>\n",
       "            <td>intern</td> <td>international</td>\n",
       "        </tr>\n",
       "    </tbody>\n",
       "</table>"
      ],
      "text/plain": [
       "Stem   | Word\n",
       "intern | international"
      ]
     },
     "execution_count": 13,
     "metadata": {},
     "output_type": "execute_result"
    }
   ],
   "source": [
    "# In our solution, we found it useful to first make an array\n",
    "# called shortened containing the number of characters that was\n",
    "# chopped off of each word in vocab_table, but you don't have\n",
    "# to do that.\n",
    "a = vocab_table.apply(len, \"Word\")\n",
    "\n",
    "b = vocab_table.apply(len, \"Stem\")\n",
    "\n",
    "most_shortened = vocab_table.with_column(\"diff\", (abs(b - a))).sort(\"diff\",descending= True).column(1).item(0)\n",
    "vocab_table.where('Word',most_shortened)\n"
   ]
  },
  {
   "cell_type": "code",
   "execution_count": 14,
   "metadata": {
    "collapsed": false
   },
   "outputs": [
    {
     "name": "stdout",
     "output_type": "stream",
     "text": [
      "~~~~~~~~~~~~~~~~~~~~~~~~~~~~~~~~~~~~~~~~~~~~~~~~~~~~~~~~~~~~~~~~~~~~~\n",
      "Running tests\n",
      "\n",
      "---------------------------------------------------------------------\n",
      "Test summary\n",
      "    Passed: 1\n",
      "    Failed: 0\n",
      "[ooooooooook] 100.0% passed\n",
      "\n"
     ]
    }
   ],
   "source": [
    "_ = project2.grade(\"q114\")"
   ]
  },
  {
   "cell_type": "markdown",
   "metadata": {},
   "source": [
    "## 1.2. Splitting the dataset\n",
    "We're going to use our `lyrics` dataset for three purposes.  First, we want to *train* various song genre classifiers.  Second, we want to *validate* which classifier is most effective. Finally, we want to *test* the performance of our final classifier. Hence, we need three different datasets: *training*, *validation*, and *test*.\n",
    "\n",
    "The purpose of a classifier is to generalize to unseen data that is similar to the training data. Therefore, we must ensure that there are no songs that appear in two different sets. We do so by splitting the dataset randomly. The dataset has already been permuted randomly, so it's easy to split.  We just take the top for training, the next part for validation, and the last for test. \n",
    "\n",
    "Run the code below (without changing it) to separate the three datasets into tables."
   ]
  },
  {
   "cell_type": "code",
   "execution_count": 15,
   "metadata": {
    "collapsed": false
   },
   "outputs": [
    {
     "name": "stdout",
     "output_type": "stream",
     "text": [
      "Training:  1183 ; Validation:  215 ; Test:  323\n"
     ]
    }
   ],
   "source": [
    "# Here we have defined the proportion of our data\n",
    "# that we want to designate for training as 11/16ths\n",
    "# of our total dataset.  2/16ths of the data is\n",
    "# reserved for validation.  The remaining 3/16ths\n",
    "# will be used for testing.\n",
    "\n",
    "training_proportion = 11/16\n",
    "validation_proportion = 2/16\n",
    "num_songs = lyrics.num_rows\n",
    "\n",
    "num_train = int(num_songs * training_proportion)\n",
    "num_valid = int(num_songs * validation_proportion)\n",
    "num_test = num_songs - num_train - num_valid\n",
    "\n",
    "train_lyrics = lyrics.take(range(num_train))\n",
    "valid_lyrics = lyrics.take(range(num_train, num_train + num_valid))\n",
    "test_lyrics = lyrics.take(range(num_train + num_valid, num_songs))\n",
    "\n",
    "print(\"Training: \",   train_lyrics.num_rows, \";\",\n",
    "      \"Validation: \", valid_lyrics.num_rows, \";\",\n",
    "      \"Test: \",       test_lyrics.num_rows)"
   ]
  },
  {
   "cell_type": "markdown",
   "metadata": {},
   "source": [
    "**Question 1.2.1.** Draw a horizontal bar chart with three bars that shows the proportion of Country songs in each of the three datasets."
   ]
  },
  {
   "cell_type": "code",
   "execution_count": 16,
   "metadata": {
    "collapsed": false
   },
   "outputs": [
    {
     "data": {
      "image/png": "[encoded data removed]",
      "text/plain": [
       "<matplotlib.figure.Figure at 0x7fdea1031860>"
      ]
     },
     "metadata": {},
     "output_type": "display_data"
    }
   ],
   "source": [
    "def country_proportion(table):\n",
    "    \"\"\"Return the proportion of songs in a table that have the Country genre.\"\"\"\n",
    "    return table.where('Genre','Country').num_rows/table.num_rows\n",
    "\n",
    "Table(['Dataset', 'Proportion of Country']).with_rows([\n",
    "        ['Training', country_proportion(train_lyrics)],\n",
    "        ['Validation',country_proportion(valid_lyrics)],\n",
    "        ['Test', country_proportion(test_lyrics)]\n",
    "        ]).barh('Dataset')"
   ]
  },
  {
   "cell_type": "markdown",
   "metadata": {},
   "source": [
    "# 2. K-Nearest Neighbors - a Guided Example\n",
    "\n",
    "K-Nearest Neighbors (k-NN) is a classification algorithm.  Given some *features* of an unseen example, it decides whether that example belongs to one or the other of two categories based on its similarity to previously seen examples.  \n",
    "\n",
    "A feature we have about each song is *the proportion of times a particular word appears in the lyrics*, and the categories are two music genres: hip-hop and country.  The algorithm requires many previously seen examples for which both the features and categories are known: that's the `train_lyrics` table.\n",
    "\n",
    "We're going to visualize the algorithm, instead of just describing it. To get started, let's pick colors for the genres."
   ]
  },
  {
   "cell_type": "code",
   "execution_count": 17,
   "metadata": {
    "collapsed": true
   },
   "outputs": [],
   "source": [
    "# Just run this cell to define genre_color.\n",
    "\n",
    "def genre_color(genre):\n",
    "    \"\"\"Assign a color to each genre.\"\"\"\n",
    "    if genre == 'Country':\n",
    "        return 'gold'\n",
    "    elif genre == 'Hip-hop':\n",
    "        return 'blue'\n",
    "    else:\n",
    "        return 'green'"
   ]
  },
  {
   "cell_type": "markdown",
   "metadata": {},
   "source": [
    "## 2.1. Classifying a  song\n",
    "\n",
    "In k-NN, we classify a song by finding the `k` songs in the *training set* that are most similar according to the features we choose. We call those songs with similar features the \"neighbors\".  The k-NN algorithm assigns the song to the most common category among its `k` neighbors.\n",
    "\n",
    "Let's limit ourselves to just 2 features for now, so we can plot each song.  The features we will use are the proportions of the words \"like\" and \"love\" in the lyrics.  Taking the song \"In Your Eyes\" (in the test set), 0.0119 of its words are \"like\" and 0.0595 are \"love\". This song appears in the test set, so let's imagine that we don't yet know its genre.\n",
    "\n",
    "First, we need to make our notion of similarity more precise.  We will say that the *dissimilarity*, or *distance* between two songs is the straight-line distance between them when we plot their features in a scatter diagram. This distance is called the Euclidean (\"yoo-KLID-ee-un\") distance.  \n",
    "\n",
    "For example, in the song *Insane in the Brain* (in the training set), 0.0203 of all the words in the song are \"like\" and 0 are \"love\".  Its distance from *In Your Eyes* on this 2-word feature set is $\\sqrt{(0.0119 - 0.0203)^2 + (0.0595 - 0)^2} \\approx 0.06$.  (If we included more or different features, the distance could be different.)\n",
    "\n",
    "A third song, *Sangria Wine* (in the training set), is 0.0044 \"like\" and 0.0925 \"love\".\n",
    "\n",
    "The function below creates a plot to display a test song and some training songs in a two-dimensional space defined by two features. As you can see in the result, *In Your Eyes* is more similar to *Sangria Wine* than to *Insane in the Brain*."
   ]
  },
  {
   "cell_type": "code",
   "execution_count": 18,
   "metadata": {
    "collapsed": false
   },
   "outputs": [
    {
     "data": {
      "image/png": "[encoded data removed]",
      "text/plain": [
       "<matplotlib.figure.Figure at 0x7fdea1098cc0>"
      ]
     },
     "metadata": {},
     "output_type": "display_data"
    },
    {
     "data": {
      "image/png": "[encoded data removed]",
      "text/plain": [
       "<matplotlib.figure.Figure at 0x7fdea0af92e8>"
      ]
     },
     "metadata": {},
     "output_type": "display_data"
    }
   ],
   "source": [
    "# Just run this cell.\n",
    "\n",
    "def plot_with_two_features(test_song, training_songs, x_feature, y_feature):\n",
    "    \"\"\"Plot a test song and training songs using two features.\"\"\"\n",
    "    test_row = row_for_title(test_song)\n",
    "    distances = Table().with_columns([\n",
    "            x_feature, [test_row.item(x_feature)],\n",
    "            y_feature, [test_row.item(y_feature)],\n",
    "            'Color',   [genre_color('Unknown')],\n",
    "            'Title',   [test_song]\n",
    "        ])\n",
    "    for song in training_songs:\n",
    "        row = row_for_title(song)\n",
    "        color = genre_color(row.item('Genre'))\n",
    "        distances.append([row.item(x_feature), row.item(y_feature), color, song])\n",
    "        distances.scatter(x_feature, y_feature, colors='Color', labels='Title', s=200)\n",
    "        \n",
    "training = [\"Sangria Wine\", \"Insane In The Brain\"]\n",
    "plot_with_two_features(\"In Your Eyes\", training, \"like\", \"love\")"
   ]
  },
  {
   "cell_type": "markdown",
   "metadata": {},
   "source": [
    "**Question 2.1.1.** Compute the Euclidean distance between the two country songs, *In Your Eyes* and *Sangria Wine* on the `['like', 'love']` feature set, and assign it to `country_distance`. "
   ]
  },
  {
   "cell_type": "code",
   "execution_count": 19,
   "metadata": {
    "collapsed": false
   },
   "outputs": [
    {
     "data": {
      "text/plain": [
       "0.033828944324596891"
      ]
     },
     "execution_count": 19,
     "metadata": {},
     "output_type": "execute_result"
    }
   ],
   "source": [
    "in_your_eyes = row_for_title(\"In Your Eyes\")\n",
    "\n",
    "sangria_wine = row_for_title(\"Sangria Wine\")\n",
    "\n",
    "#like=0.01190476 , 0.0044052859999999996 # love= 0.059523810000000003 ,  0.092511010000000005\n",
    "country_distance = ((row_for_title(\"In Your Eyes\")[38] - row_for_title(\"Sangria Wine\")[38])**2 +\\\n",
    "                    (row_for_title(\"In Your Eyes\")[29] - row_for_title(\"Sangria Wine\")[29])**2 ) ** (0.5)\n",
    "\n",
    "country_distance"
   ]
  },
  {
   "cell_type": "code",
   "execution_count": 20,
   "metadata": {
    "collapsed": false
   },
   "outputs": [
    {
     "name": "stdout",
     "output_type": "stream",
     "text": [
      "~~~~~~~~~~~~~~~~~~~~~~~~~~~~~~~~~~~~~~~~~~~~~~~~~~~~~~~~~~~~~~~~~~~~~\n",
      "Running tests\n",
      "\n",
      "---------------------------------------------------------------------\n",
      "Test summary\n",
      "    Passed: 1\n",
      "    Failed: 0\n",
      "[ooooooooook] 100.0% passed\n",
      "\n"
     ]
    }
   ],
   "source": [
    "_ = project2.grade(\"q211\")"
   ]
  },
  {
   "cell_type": "markdown",
   "metadata": {},
   "source": [
    "The `plot_with_two_features` function can show the positions of several training songs. Below, we've added one that's even closer to *In Your Eyes*."
   ]
  },
  {
   "cell_type": "code",
   "execution_count": 21,
   "metadata": {
    "collapsed": false
   },
   "outputs": [
    {
     "data": {
      "image/png": "[encoded data removed]",
      "text/plain": [
       "<matplotlib.figure.Figure at 0x7fdea0a0c588>"
      ]
     },
     "metadata": {},
     "output_type": "display_data"
    },
    {
     "data": {
      "image/png": "[encoded data removed]",
      "text/plain": [
       "<matplotlib.figure.Figure at 0x7fdea12d7e48>"
      ]
     },
     "metadata": {},
     "output_type": "display_data"
    },
    {
     "data": {
      "image/png": "[encoded data removed]",
      "text/plain": [
       "<matplotlib.figure.Figure at 0x7fdea09b1b70>"
      ]
     },
     "metadata": {},
     "output_type": "display_data"
    }
   ],
   "source": [
    "training = [\"Sangria Wine\", \"Lookin' for Love\", \"Insane In The Brain\"]\n",
    "plot_with_two_features(\"In Your Eyes\", training, \"like\", \"love\")"
   ]
  },
  {
   "cell_type": "markdown",
   "metadata": {},
   "source": [
    "**Question 2.1.2.** Complete the function `distance_two_features` that computes the Euclidean distance between any two songs, using two features. The last two lines call the `distance_two_features` function  to show that *Lookin' for Love* is closer to *In Your Eyes* than *Insane In The Brain*. "
   ]
  },
  {
   "cell_type": "code",
   "execution_count": 22,
   "metadata": {
    "collapsed": false
   },
   "outputs": [
    {
     "name": "stdout",
     "output_type": "stream",
     "text": [
      "Lookin' for Love distance:\t 0.017854025951587398\n",
      "Insane In The Brain distance:\t 0.060108782340654685\n"
     ]
    }
   ],
   "source": [
    "def distance_two_features(title0, title1, x_feature, y_feature):\n",
    "    \"\"\"Compute the distance between two songs, represented as rows.\"\"\"\n",
    "    row0 = (row_for_title(title0).item(x_feature) - row_for_title(title1).item(x_feature)) **2\n",
    "    row1 = (row_for_title(title0).item(y_feature) - row_for_title(title1).item(y_feature)) **2\n",
    "    return math.sqrt(row0 + row1)\n",
    "\n",
    "for song in [\"Lookin' for Love\", \"Insane In The Brain\"]:\n",
    "    song_distance = distance_two_features(song, \"In Your Eyes\", \"like\", \"love\")\n",
    "    print(song, 'distance:\\t', song_distance)\n",
    "\n"
   ]
  },
  {
   "cell_type": "code",
   "execution_count": 23,
   "metadata": {
    "collapsed": false
   },
   "outputs": [
    {
     "name": "stdout",
     "output_type": "stream",
     "text": [
      "~~~~~~~~~~~~~~~~~~~~~~~~~~~~~~~~~~~~~~~~~~~~~~~~~~~~~~~~~~~~~~~~~~~~~\n",
      "Running tests\n",
      "\n",
      "---------------------------------------------------------------------\n",
      "Test summary\n",
      "    Passed: 2\n",
      "    Failed: 0\n",
      "[ooooooooook] 100.0% passed\n",
      "\n"
     ]
    }
   ],
   "source": [
    "_ = project2.grade(\"q212\")"
   ]
  },
  {
   "cell_type": "markdown",
   "metadata": {},
   "source": [
    "The nearest neighbor to a song is the example in the training set that has the smallest distance from that song."
   ]
  },
  {
   "cell_type": "markdown",
   "metadata": {},
   "source": [
    "**Question 2.1.3.** Define the higher-order function `distance_from` that takes a single song title and two features. It returns a function `for_song` that takes a second song title and computes the distance between the first and second songs.\n",
    "\n",
    "*Hint: Call `distance_two_features` in your solution rather than re-implementing its computation.*"
   ]
  },
  {
   "cell_type": "code",
   "execution_count": 24,
   "metadata": {
    "collapsed": false
   },
   "outputs": [
    {
     "data": {
      "text/plain": [
       "0.017854025951587398"
      ]
     },
     "execution_count": 24,
     "metadata": {},
     "output_type": "execute_result"
    }
   ],
   "source": [
    "def distance_from(title0, x_feature, y_feature):\n",
    "    def for_song(title1):\n",
    "        return distance_two_features(title0, title1,x_feature, y_feature)\n",
    "    return for_song\n",
    "\n",
    "distance_from_in_your_eyes = distance_from(\"In Your Eyes\", \"like\", \"love\")\n",
    "distance_from_in_your_eyes(\"Lookin' for Love\")\n",
    "\n",
    "#distance_two_features(title0, title1,x_feature, y_feature)"
   ]
  },
  {
   "cell_type": "code",
   "execution_count": 25,
   "metadata": {
    "collapsed": false
   },
   "outputs": [
    {
     "name": "stdout",
     "output_type": "stream",
     "text": [
      "~~~~~~~~~~~~~~~~~~~~~~~~~~~~~~~~~~~~~~~~~~~~~~~~~~~~~~~~~~~~~~~~~~~~~\n",
      "Running tests\n",
      "\n",
      "---------------------------------------------------------------------\n",
      "Test summary\n",
      "    Passed: 1\n",
      "    Failed: 0\n",
      "[ooooooooook] 100.0% passed\n",
      "\n"
     ]
    }
   ],
   "source": [
    "_ = project2.grade(\"q213\")"
   ]
  },
  {
   "cell_type": "markdown",
   "metadata": {},
   "source": [
    "**Question 2.1.4.**  What are the names and genres of the 7 closest songs to \"In Your Eyes\" in  `train_lyrics`, by Euclidean distance for the 2 features \"like\" and \"love\"?  To answer this question, make a table named `close_songs` containing those 7 songs with columns \"Title\", \"Artist\", \"Genre\", \"like\", and \"love\" from the `lyrics` table, as well as a column called `distance` that contains the distance from \"In Your Eyes\" **sorted in ascending order**."
   ]
  },
  {
   "cell_type": "code",
   "execution_count": 26,
   "metadata": {
    "collapsed": false
   },
   "outputs": [
    {
     "data": {
      "text/html": [
       "<table border=\"1\" class=\"dataframe\">\n",
       "    <thead>\n",
       "        <tr>\n",
       "            <th>Title</th> <th>Artist</th> <th>Genre</th> <th>like</th> <th>love</th> <th>distance</th>\n",
       "        </tr>\n",
       "    </thead>\n",
       "    <tbody>\n",
       "        <tr>\n",
       "            <td>If This Isn't Love          </td> <td>Jennifer Hudson          </td> <td>Hip-hop</td> <td>0.00886918</td> <td>0.0532151</td> <td>0.00700106</td>\n",
       "        </tr>\n",
       "    </tbody>\n",
       "        <tr>\n",
       "            <td>Big Red Rocket Of Love      </td> <td>Reverend Horton Heat     </td> <td>Hip-hop</td> <td>0         </td> <td>0.0576923</td> <td>0.0120448 </td>\n",
       "        </tr>\n",
       "    </tbody>\n",
       "        <tr>\n",
       "            <td>In the Middle of a Heartache</td> <td>Wanda Jackson            </td> <td>Country</td> <td>0         </td> <td>0.0639535</td> <td>0.0127022 </td>\n",
       "        </tr>\n",
       "    </tbody>\n",
       "        <tr>\n",
       "            <td>The Hardest Part            </td> <td>Allison Moorer           </td> <td>Country</td> <td>0         </td> <td>0.0642857</td> <td>0.0128218 </td>\n",
       "        </tr>\n",
       "    </tbody>\n",
       "        <tr>\n",
       "            <td>One Time                    </td> <td>Justin Bieber            </td> <td>Hip-hop</td> <td>0         </td> <td>0.0530303</td> <td>0.0135606 </td>\n",
       "        </tr>\n",
       "    </tbody>\n",
       "        <tr>\n",
       "            <td>This Tornado Loves You      </td> <td>Neko Case                </td> <td>Country</td> <td>0         </td> <td>0.0528455</td> <td>0.01365   </td>\n",
       "        </tr>\n",
       "    </tbody>\n",
       "        <tr>\n",
       "            <td>You Can Have Her            </td> <td>Jim Ed Brown & The Browns</td> <td>Country</td> <td>0         </td> <td>0.0521327</td> <td>0.0140126 </td>\n",
       "        </tr>\n",
       "    </tbody>\n",
       "</table>"
      ],
      "text/plain": [
       "Title                        | Artist                    | Genre   | like       | love      | distance\n",
       "If This Isn't Love           | Jennifer Hudson           | Hip-hop | 0.00886918 | 0.0532151 | 0.00700106\n",
       "Big Red Rocket Of Love       | Reverend Horton Heat      | Hip-hop | 0          | 0.0576923 | 0.0120448\n",
       "In the Middle of a Heartache | Wanda Jackson             | Country | 0          | 0.0639535 | 0.0127022\n",
       "The Hardest Part             | Allison Moorer            | Country | 0          | 0.0642857 | 0.0128218\n",
       "One Time                     | Justin Bieber             | Hip-hop | 0          | 0.0530303 | 0.0135606\n",
       "This Tornado Loves You       | Neko Case                 | Country | 0          | 0.0528455 | 0.01365\n",
       "You Can Have Her             | Jim Ed Brown & The Browns | Country | 0          | 0.0521327 | 0.0140126"
      ]
     },
     "execution_count": 26,
     "metadata": {},
     "output_type": "execute_result"
    }
   ],
   "source": [
    "like_love = train_lyrics.select([\"Title\", \"Artist\", \"Genre\", \"like\", \"love\"])\n",
    "close_songs = like_love.with_column('distance', like_love.apply(distance_from_in_your_eyes, 'Title')).\\\n",
    "                sort('distance').take(np.arange(0,7))\n",
    "close_songs"
   ]
  },
  {
   "cell_type": "code",
   "execution_count": 27,
   "metadata": {
    "collapsed": false
   },
   "outputs": [
    {
     "name": "stdout",
     "output_type": "stream",
     "text": [
      "~~~~~~~~~~~~~~~~~~~~~~~~~~~~~~~~~~~~~~~~~~~~~~~~~~~~~~~~~~~~~~~~~~~~~\n",
      "Running tests\n",
      "\n",
      "---------------------------------------------------------------------\n",
      "Test summary\n",
      "    Passed: 2\n",
      "    Failed: 0\n",
      "[ooooooooook] 100.0% passed\n",
      "\n"
     ]
    }
   ],
   "source": [
    "_ = project2.grade(\"q214\")"
   ]
  },
  {
   "cell_type": "markdown",
   "metadata": {},
   "source": [
    "**Question 2.1.5 .** Write a function `most_common` that takes a `column_label` and a `table`. It returns the most common value in that column of that table. In case of a tie, it can return any of the most common values."
   ]
  },
  {
   "cell_type": "code",
   "execution_count": 28,
   "metadata": {
    "collapsed": false
   },
   "outputs": [
    {
     "data": {
      "text/plain": [
       "'Country'"
      ]
     },
     "execution_count": 28,
     "metadata": {},
     "output_type": "execute_result"
    }
   ],
   "source": [
    "def most_common(column_label, table):\n",
    "    return table.group(column_label).sort('count', descending=True).column(column_label).item(0)\n",
    "\n",
    "# Calling most_common classifies In Your Eyes as a country song, 4 votes to 3.\n",
    "most_common('Genre', close_songs)"
   ]
  },
  {
   "cell_type": "code",
   "execution_count": 29,
   "metadata": {
    "collapsed": false
   },
   "outputs": [
    {
     "name": "stdout",
     "output_type": "stream",
     "text": [
      "~~~~~~~~~~~~~~~~~~~~~~~~~~~~~~~~~~~~~~~~~~~~~~~~~~~~~~~~~~~~~~~~~~~~~\n",
      "Running tests\n",
      "\n",
      "---------------------------------------------------------------------\n",
      "Test summary\n",
      "    Passed: 1\n",
      "    Failed: 0\n",
      "[ooooooooook] 100.0% passed\n",
      "\n"
     ]
    }
   ],
   "source": [
    "_ = project2.grade(\"q215\")"
   ]
  },
  {
   "cell_type": "markdown",
   "metadata": {},
   "source": [
    "Congratulations are in order -- you've classified your first song!"
   ]
  },
  {
   "cell_type": "markdown",
   "metadata": {},
   "source": [
    "# 3. Features"
   ]
  },
  {
   "cell_type": "markdown",
   "metadata": {},
   "source": [
    "Now, we're going to extend our classifier to consider more than two features at a time.\n",
    "\n",
    "Euclidean distance still makes sense with more than two features. For `n` different features, we compute the difference between corresponding feature values for two songs, square each of the `n`  differences, sum up the resulting numbers, and take the square root of the sum."
   ]
  },
  {
   "cell_type": "markdown",
   "metadata": {},
   "source": [
    "**Question 3.1.** Write a function to compute the Euclidean distance between two *arrays* of features of *arbitrary* (but equal) length.  Use it to compute the distance between the first song in the training set and the first song in the test set, *using all of the features*.  (Remember that the title, artist, and genre of the songs are not features.)"
   ]
  },
  {
   "cell_type": "code",
   "execution_count": 30,
   "metadata": {
    "collapsed": false
   },
   "outputs": [
    {
     "data": {
      "text/plain": [
       "0.21646718922539046"
      ]
     },
     "execution_count": 30,
     "metadata": {},
     "output_type": "execute_result"
    }
   ],
   "source": [
    "def distance(features1, features2):\n",
    "    \"\"\"The Euclidian distance between two arrays of feature values.\"\"\"\n",
    "    return math.sqrt(sum((features1 - features2)**2))\n",
    "\n",
    "distance_first_to_first = distance(np.array(train_lyrics.drop([0,1,2]).row(0)), np.array(test_lyrics.drop([0,1,2]).row(0)))\n",
    "distance_first_to_first"
   ]
  },
  {
   "cell_type": "code",
   "execution_count": 31,
   "metadata": {
    "collapsed": false
   },
   "outputs": [
    {
     "name": "stdout",
     "output_type": "stream",
     "text": [
      "~~~~~~~~~~~~~~~~~~~~~~~~~~~~~~~~~~~~~~~~~~~~~~~~~~~~~~~~~~~~~~~~~~~~~\n",
      "Running tests\n",
      "\n",
      "---------------------------------------------------------------------\n",
      "Test summary\n",
      "    Passed: 2\n",
      "    Failed: 0\n",
      "[ooooooooook] 100.0% passed\n",
      "\n"
     ]
    }
   ],
   "source": [
    "_ = project2.grade(\"q31\")"
   ]
  },
  {
   "cell_type": "markdown",
   "metadata": {},
   "source": [
    "## 3.1. Creating your own feature set\n",
    "\n",
    "Unfortunately, using all of the features has some downsides.  We'll explore that more later, but one clear downside is *computational* -- computing Euclidean distances just takes a long time when we have lots of features.  So we're going to select just 20 for now.  We'd like to choose features that are very *discriminative*, that is, which lead us to correctly classify as much of the test set as possible.  This process of choosing features that will make a classifier work well is sometimes called *feature selection*, or more broadly *feature engineering*.\n",
    "\n",
    "**Question 3.1.1.** Look through the list of features (the labels of the `lyrics` table after the first three).  Choose 20 that you think will let you distinguish pretty well between country and hip-hop songs.  You might want to come back to this question later to improve your list, once you've seen how to evaluate your classifier.  The first time you do this question, spend some time looking through the features, but not more than 15 minutes."
   ]
  },
  {
   "cell_type": "code",
   "execution_count": 32,
   "metadata": {
    "collapsed": false
   },
   "outputs": [
    {
     "data": {
      "text/html": [
       "<table border=\"1\" class=\"dataframe\">\n",
       "    <thead>\n",
       "        <tr>\n",
       "            <th>are</th> <th>we</th> <th>am</th> <th>will</th> <th>all</th> <th>for</th> <th>no</th> <th>be</th> <th>have</th> <th>love</th> <th>so</th> <th>know</th> <th>this</th> <th>but</th> <th>with</th> <th>what</th> <th>just</th> <th>when</th> <th>like</th> <th>now</th>\n",
       "        </tr>\n",
       "    </thead>\n",
       "    <tbody>\n",
       "        <tr>\n",
       "            <td>0.0308642 </td> <td>0         </td> <td>0         </td> <td>0.00617284</td> <td>0.00617284</td> <td>0.0185185 </td> <td>0         </td> <td>0         </td> <td>0         </td> <td>0.0123457 </td> <td>0         </td> <td>0         </td> <td>0         </td> <td>0         </td> <td>0         </td> <td>0         </td> <td>0.0555556 </td> <td>0.0123457 </td> <td>0         </td> <td>0         </td>\n",
       "        </tr>\n",
       "    </tbody>\n",
       "        <tr>\n",
       "            <td>0.00404858</td> <td>0.00404858</td> <td>0.0202429 </td> <td>0         </td> <td>0         </td> <td>0.00809717</td> <td>0.00404858</td> <td>0         </td> <td>0.00404858</td> <td>0.00404858</td> <td>0         </td> <td>0.00404858</td> <td>0.00404858</td> <td>0.00809717</td> <td>0.0161943 </td> <td>0         </td> <td>0.00809717</td> <td>0.00404858</td> <td>0         </td> <td>0.00404858</td>\n",
       "        </tr>\n",
       "    </tbody>\n",
       "        <tr>\n",
       "            <td>0.0107527 </td> <td>0         </td> <td>0.0501792 </td> <td>0         </td> <td>0.00716846</td> <td>0.00716846</td> <td>0         </td> <td>0         </td> <td>0         </td> <td>0.00358423</td> <td>0         </td> <td>0         </td> <td>0.00716846</td> <td>0         </td> <td>0.0107527 </td> <td>0         </td> <td>0.00716846</td> <td>0.00716846</td> <td>0         </td> <td>0         </td>\n",
       "        </tr>\n",
       "    </tbody>\n",
       "        <tr>\n",
       "            <td>0.0201149 </td> <td>0.00287356</td> <td>0.00287356</td> <td>0.00287356</td> <td>0.00574713</td> <td>0.0143678 </td> <td>0.0114942 </td> <td>0.00574713</td> <td>0.00862069</td> <td>0.00287356</td> <td>0.00287356</td> <td>0         </td> <td>0.0114942 </td> <td>0.00574713</td> <td>0.00574713</td> <td>0.00287356</td> <td>0.00287356</td> <td>0.00862069</td> <td>0.00574713</td> <td>0         </td>\n",
       "        </tr>\n",
       "    </tbody>\n",
       "        <tr>\n",
       "            <td>0         </td> <td>0         </td> <td>0         </td> <td>0         </td> <td>0         </td> <td>0         </td> <td>0         </td> <td>0         </td> <td>0         </td> <td>0         </td> <td>0         </td> <td>0         </td> <td>0         </td> <td>0         </td> <td>0         </td> <td>0         </td> <td>0         </td> <td>0         </td> <td>0         </td> <td>0         </td>\n",
       "        </tr>\n",
       "    </tbody>\n",
       "        <tr>\n",
       "            <td>0.0138122 </td> <td>0.00828729</td> <td>0.00828729</td> <td>0.00276243</td> <td>0.00276243</td> <td>0.00552486</td> <td>0.00828729</td> <td>0.00276243</td> <td>0.00552486</td> <td>0         </td> <td>0.00276243</td> <td>0.00828729</td> <td>0.00828729</td> <td>0.00276243</td> <td>0.0248619 </td> <td>0.00276243</td> <td>0.00552486</td> <td>0.00276243</td> <td>0         </td> <td>0.00828729</td>\n",
       "        </tr>\n",
       "    </tbody>\n",
       "        <tr>\n",
       "            <td>0.00515464</td> <td>0         </td> <td>0.0189003 </td> <td>0.00343643</td> <td>0.0103093 </td> <td>0.00515464</td> <td>0.00859107</td> <td>0.00343643</td> <td>0.00343643</td> <td>0         </td> <td>0.00343643</td> <td>0.00171821</td> <td>0.00343643</td> <td>0.0103093 </td> <td>0.00515464</td> <td>0.00515464</td> <td>0.00171821</td> <td>0.00171821</td> <td>0.00515464</td> <td>0.0412371 </td>\n",
       "        </tr>\n",
       "    </tbody>\n",
       "        <tr>\n",
       "            <td>0         </td> <td>0.00253165</td> <td>0.0253165 </td> <td>0.00253165</td> <td>0.00253165</td> <td>0.00253165</td> <td>0.00253165</td> <td>0.00253165</td> <td>0         </td> <td>0         </td> <td>0.00506329</td> <td>0.00253165</td> <td>0.00759494</td> <td>0.00506329</td> <td>0.0177215 </td> <td>0         </td> <td>0         </td> <td>0         </td> <td>0.0202532 </td> <td>0.00253165</td>\n",
       "        </tr>\n",
       "    </tbody>\n",
       "        <tr>\n",
       "            <td>0         </td> <td>0         </td> <td>0.00471698</td> <td>0.0188679 </td> <td>0.0235849 </td> <td>0         </td> <td>0         </td> <td>0         </td> <td>0.00471698</td> <td>0.0188679 </td> <td>0.00471698</td> <td>0.00471698</td> <td>0.00471698</td> <td>0         </td> <td>0         </td> <td>0         </td> <td>0.00471698</td> <td>0         </td> <td>0         </td> <td>0.0377359 </td>\n",
       "        </tr>\n",
       "    </tbody>\n",
       "        <tr>\n",
       "            <td>0         </td> <td>0         </td> <td>0         </td> <td>0.0169491 </td> <td>0.0112994 </td> <td>0         </td> <td>0.00564972</td> <td>0         </td> <td>0         </td> <td>0.0564972 </td> <td>0         </td> <td>0.00564972</td> <td>0         </td> <td>0         </td> <td>0.00564972</td> <td>0.00564972</td> <td>0         </td> <td>0.0508475 </td> <td>0         </td> <td>0         </td>\n",
       "        </tr>\n",
       "    </tbody>\n",
       "</table>\n",
       "<p>... (313 rows omitted)</p"
      ],
      "text/plain": [
       "are        | we         | am         | will       | all        | for        | no         | be         | have       | love       | so         | know       | this       | but        | with       | what       | just       | when       | like       | now\n",
       "0.0308642  | 0          | 0          | 0.00617284 | 0.00617284 | 0.0185185  | 0          | 0          | 0          | 0.0123457  | 0          | 0          | 0          | 0          | 0          | 0          | 0.0555556  | 0.0123457  | 0          | 0\n",
       "0.00404858 | 0.00404858 | 0.0202429  | 0          | 0          | 0.00809717 | 0.00404858 | 0          | 0.00404858 | 0.00404858 | 0          | 0.00404858 | 0.00404858 | 0.00809717 | 0.0161943  | 0          | 0.00809717 | 0.00404858 | 0          | 0.00404858\n",
       "0.0107527  | 0          | 0.0501792  | 0          | 0.00716846 | 0.00716846 | 0          | 0          | 0          | 0.00358423 | 0          | 0          | 0.00716846 | 0          | 0.0107527  | 0          | 0.00716846 | 0.00716846 | 0          | 0\n",
       "0.0201149  | 0.00287356 | 0.00287356 | 0.00287356 | 0.00574713 | 0.0143678  | 0.0114942  | 0.00574713 | 0.00862069 | 0.00287356 | 0.00287356 | 0          | 0.0114942  | 0.00574713 | 0.00574713 | 0.00287356 | 0.00287356 | 0.00862069 | 0.00574713 | 0\n",
       "0          | 0          | 0          | 0          | 0          | 0          | 0          | 0          | 0          | 0          | 0          | 0          | 0          | 0          | 0          | 0          | 0          | 0          | 0          | 0\n",
       "0.0138122  | 0.00828729 | 0.00828729 | 0.00276243 | 0.00276243 | 0.00552486 | 0.00828729 | 0.00276243 | 0.00552486 | 0          | 0.00276243 | 0.00828729 | 0.00828729 | 0.00276243 | 0.0248619  | 0.00276243 | 0.00552486 | 0.00276243 | 0          | 0.00828729\n",
       "0.00515464 | 0          | 0.0189003  | 0.00343643 | 0.0103093  | 0.00515464 | 0.00859107 | 0.00343643 | 0.00343643 | 0          | 0.00343643 | 0.00171821 | 0.00343643 | 0.0103093  | 0.00515464 | 0.00515464 | 0.00171821 | 0.00171821 | 0.00515464 | 0.0412371\n",
       "0          | 0.00253165 | 0.0253165  | 0.00253165 | 0.00253165 | 0.00253165 | 0.00253165 | 0.00253165 | 0          | 0          | 0.00506329 | 0.00253165 | 0.00759494 | 0.00506329 | 0.0177215  | 0          | 0          | 0          | 0.0202532  | 0.00253165\n",
       "0          | 0          | 0.00471698 | 0.0188679  | 0.0235849  | 0          | 0          | 0          | 0.00471698 | 0.0188679  | 0.00471698 | 0.00471698 | 0.00471698 | 0          | 0          | 0          | 0.00471698 | 0          | 0          | 0.0377359\n",
       "0          | 0          | 0          | 0.0169491  | 0.0112994  | 0          | 0.00564972 | 0          | 0          | 0.0564972  | 0          | 0.00564972 | 0          | 0          | 0.00564972 | 0.00564972 | 0          | 0.0508475  | 0          | 0\n",
       "... (313 rows omitted)"
      ]
     },
     "execution_count": 32,
     "metadata": {},
     "output_type": "execute_result"
    }
   ],
   "source": [
    "# Set my_20_features to a list of 20 features (strings that are column labels)\n",
    "my_20_features = lyrics.select(np.arange(20,40))\n",
    "\n",
    "train_20 = train_lyrics.select(my_20_features)\n",
    "test_20 = test_lyrics.select(my_20_features)\n",
    "test_20\n"
   ]
  },
  {
   "cell_type": "code",
   "execution_count": 33,
   "metadata": {
    "collapsed": false
   },
   "outputs": [
    {
     "name": "stdout",
     "output_type": "stream",
     "text": [
      "~~~~~~~~~~~~~~~~~~~~~~~~~~~~~~~~~~~~~~~~~~~~~~~~~~~~~~~~~~~~~~~~~~~~~\n",
      "Running tests\n",
      "\n",
      "---------------------------------------------------------------------\n",
      "Test summary\n",
      "    Passed: 1\n",
      "    Failed: 0\n",
      "[ooooooooook] 100.0% passed\n",
      "\n"
     ]
    }
   ],
   "source": [
    "_ = project2.grade(\"q311\")"
   ]
  },
  {
   "cell_type": "markdown",
   "metadata": {},
   "source": [
    "**Question 3.1.2** In a few sentences, describe how you selected your features. "
   ]
  },
  {
   "cell_type": "markdown",
   "metadata": {},
   "source": [
    "I selected my features by showing the table and scrolling through choosing words manually."
   ]
  },
  {
   "cell_type": "markdown",
   "metadata": {},
   "source": [
    "Next, let's classify the first song from our test set using these features.  You can examine the song by running the cells below. Do you think it will be classified correctly?"
   ]
  },
  {
   "cell_type": "code",
   "execution_count": 34,
   "metadata": {
    "collapsed": false
   },
   "outputs": [
    {
     "data": {
      "text/html": [
       "<table border=\"1\" class=\"dataframe\">\n",
       "    <thead>\n",
       "        <tr>\n",
       "            <th>Title</th> <th>Artist</th> <th>Genre</th>\n",
       "        </tr>\n",
       "    </thead>\n",
       "    <tbody>\n",
       "        <tr>\n",
       "            <td>Just To Satisfy You</td> <td>Waylon Jennings & Willie Nelson</td> <td>Country</td>\n",
       "        </tr>\n",
       "    </tbody>\n",
       "</table>"
      ],
      "text/plain": [
       "Title               | Artist                          | Genre\n",
       "Just To Satisfy You | Waylon Jennings & Willie Nelson | Country"
      ]
     },
     "execution_count": 34,
     "metadata": {},
     "output_type": "execute_result"
    }
   ],
   "source": [
    "test_lyrics.take(0).select(['Title', 'Artist', 'Genre'])"
   ]
  },
  {
   "cell_type": "code",
   "execution_count": 35,
   "metadata": {
    "collapsed": false,
    "scrolled": false
   },
   "outputs": [
    {
     "data": {
      "text/html": [
       "<table border=\"1\" class=\"dataframe\">\n",
       "    <thead>\n",
       "        <tr>\n",
       "            <th>are</th> <th>we</th> <th>am</th> <th>will</th> <th>all</th> <th>for</th> <th>no</th> <th>be</th> <th>have</th> <th>love</th> <th>so</th> <th>know</th> <th>this</th> <th>but</th> <th>with</th> <th>what</th> <th>just</th> <th>when</th> <th>like</th> <th>now</th>\n",
       "        </tr>\n",
       "    </thead>\n",
       "    <tbody>\n",
       "        <tr>\n",
       "            <td>0.0308642</td> <td>0   </td> <td>0   </td> <td>0.00617284</td> <td>0.00617284</td> <td>0.0185185</td> <td>0   </td> <td>0   </td> <td>0   </td> <td>0.0123457</td> <td>0   </td> <td>0   </td> <td>0   </td> <td>0   </td> <td>0   </td> <td>0   </td> <td>0.0555556</td> <td>0.0123457</td> <td>0   </td> <td>0   </td>\n",
       "        </tr>\n",
       "    </tbody>\n",
       "</table>"
      ],
      "text/plain": [
       "are       | we   | am   | will       | all        | for       | no   | be   | have | love      | so   | know | this | but  | with | what | just      | when      | like | now\n",
       "0.0308642 | 0    | 0    | 0.00617284 | 0.00617284 | 0.0185185 | 0    | 0    | 0    | 0.0123457 | 0    | 0    | 0    | 0    | 0    | 0    | 0.0555556 | 0.0123457 | 0    | 0"
      ]
     },
     "execution_count": 35,
     "metadata": {},
     "output_type": "execute_result"
    }
   ],
   "source": [
    "test_20.take(0)"
   ]
  },
  {
   "cell_type": "markdown",
   "metadata": {},
   "source": [
    "As before, we want to look for the songs in the training set that are most alike our test song.  We will calculate the Euclidean distances from the test song (using the 20 selected features) to all songs in the training set.  You could do this with `apply` or a `for` loop, but to make it computationally faster, we have provided a function, `fast_distances`, to do this for you."
   ]
  },
  {
   "cell_type": "code",
   "execution_count": 36,
   "metadata": {
    "collapsed": false
   },
   "outputs": [],
   "source": [
    "# Just run this cell to define fast_distances.\n",
    "\n",
    "# Takes 2 arguments: a table with a single row containing\n",
    "# features of one test song (e.g., test_20.row(0)),\n",
    "# and another table of features (for example, the whole\n",
    "# table train_20).  Returns an array of distances,\n",
    "# where the ith element is the distance from test_row to\n",
    "# the ith row in counts_table.  \n",
    "#\n",
    "# This function is equivalent to using apply, but faster.\n",
    "# It uses several techniques not covered in the course.\n",
    "def fast_distances(test_row, train_rows):\n",
    "    counts_matrix = np.asmatrix(train_rows.columns).transpose()\n",
    "    diff = np.tile(np.array(test_row), [counts_matrix.shape[0], 1]) - counts_matrix\n",
    "    distances = np.squeeze(np.asarray(np.sqrt(np.square(diff).sum(1))))\n",
    "    return distances"
   ]
  },
  {
   "cell_type": "markdown",
   "metadata": {},
   "source": [
    "**Question 3.1.3.** Use the `fast_distances` function provided above to compute the distance of the first song in the test set to all the songs in the training set.  Make a new table called `genre_and_distances` with one row for each song in the training set and two columns:\n",
    "* The `\"Genre\"` of the training song\n",
    "* The `\"Distance\"` from the first song in the test set \n",
    "\n",
    "Ensure that `genre_and_distances` is **sorted by increasing distance to the first test song**."
   ]
  },
  {
   "cell_type": "code",
   "execution_count": 37,
   "metadata": {
    "collapsed": false
   },
   "outputs": [
    {
     "data": {
      "text/html": [
       "<table border=\"1\" class=\"dataframe\">\n",
       "    <thead>\n",
       "        <tr>\n",
       "            <th>Genre</th> <th>Distance</th>\n",
       "        </tr>\n",
       "    </thead>\n",
       "    <tbody>\n",
       "        <tr>\n",
       "            <td>Hip-hop</td> <td>0.0419866</td>\n",
       "        </tr>\n",
       "    </tbody>\n",
       "        <tr>\n",
       "            <td>Hip-hop</td> <td>0.0451261</td>\n",
       "        </tr>\n",
       "    </tbody>\n",
       "        <tr>\n",
       "            <td>Hip-hop</td> <td>0.0451803</td>\n",
       "        </tr>\n",
       "    </tbody>\n",
       "        <tr>\n",
       "            <td>Hip-hop</td> <td>0.0454902</td>\n",
       "        </tr>\n",
       "    </tbody>\n",
       "        <tr>\n",
       "            <td>Hip-hop</td> <td>0.0460745</td>\n",
       "        </tr>\n",
       "    </tbody>\n",
       "        <tr>\n",
       "            <td>Country</td> <td>0.046755 </td>\n",
       "        </tr>\n",
       "    </tbody>\n",
       "        <tr>\n",
       "            <td>Hip-hop</td> <td>0.0474468</td>\n",
       "        </tr>\n",
       "    </tbody>\n",
       "        <tr>\n",
       "            <td>Country</td> <td>0.0479973</td>\n",
       "        </tr>\n",
       "    </tbody>\n",
       "        <tr>\n",
       "            <td>Country</td> <td>0.0488113</td>\n",
       "        </tr>\n",
       "    </tbody>\n",
       "        <tr>\n",
       "            <td>Hip-hop</td> <td>0.0490866</td>\n",
       "        </tr>\n",
       "    </tbody>\n",
       "</table>\n",
       "<p>... (1173 rows omitted)</p"
      ],
      "text/plain": [
       "Genre   | Distance\n",
       "Hip-hop | 0.0419866\n",
       "Hip-hop | 0.0451261\n",
       "Hip-hop | 0.0451803\n",
       "Hip-hop | 0.0454902\n",
       "Hip-hop | 0.0460745\n",
       "Country | 0.046755\n",
       "Hip-hop | 0.0474468\n",
       "Country | 0.0479973\n",
       "Country | 0.0488113\n",
       "Hip-hop | 0.0490866\n",
       "... (1173 rows omitted)"
      ]
     },
     "execution_count": 37,
     "metadata": {},
     "output_type": "execute_result"
    }
   ],
   "source": [
    "distances = fast_distances(test_20.row(0), train_20)\n",
    "\n",
    "genre_and_distances = Table().with_columns([\n",
    "            'Genre', train_lyrics.sort(\"Title\",descending = True).column(\"Genre\"),\n",
    "            'Distance', np.sort(distances)])\n",
    "\n",
    "genre_and_distances\n"
   ]
  },
  {
   "cell_type": "code",
   "execution_count": 38,
   "metadata": {
    "collapsed": false
   },
   "outputs": [
    {
     "name": "stdout",
     "output_type": "stream",
     "text": [
      "~~~~~~~~~~~~~~~~~~~~~~~~~~~~~~~~~~~~~~~~~~~~~~~~~~~~~~~~~~~~~~~~~~~~~\n",
      "Running tests\n",
      "\n",
      "---------------------------------------------------------------------\n",
      "Test summary\n",
      "    Passed: 1\n",
      "    Failed: 0\n",
      "[ooooooooook] 100.0% passed\n",
      "\n"
     ]
    }
   ],
   "source": [
    "_ = project2.grade(\"q313\")"
   ]
  },
  {
   "cell_type": "markdown",
   "metadata": {},
   "source": [
    "**Question 3.1.4.**  Now compute the 5-nearest neighbors classification of the first song in the test set.  That is, decide on its genre by finding the most common genre among its 5 nearest neighbors, according to the distances you've calculated.  Then check whether your classifier chose the right genre.  (Depending on the features you chose, your classifier might not get this song right, and that's okay.)"
   ]
  },
  {
   "cell_type": "code",
   "execution_count": 39,
   "metadata": {
    "collapsed": false
   },
   "outputs": [
    {
     "name": "stdout",
     "output_type": "stream",
     "text": [
      "The assigned genre Hip-hop was correct... False\n"
     ]
    }
   ],
   "source": [
    "# Set my_assigned_genre to the most common genre among these.\n",
    "my_assigned_genre = genre_and_distances.take(np.arange(5))\n",
    "my_assigned_genre = my_assigned_genre.group(\"Genre\",len).sort('Distance len', descending=True)\\\n",
    "                    .column(0).item(0)\n",
    "# Set my_assigned_genre_was_correct to True if my_assigned_genre\n",
    "# matches the actual genre of the first song in the test set.\n",
    "my_assigned_genre_was_correct = test_lyrics.take(0).column('Genre').item(0) == my_assigned_genre\n",
    "my_assigned_genre_was_correct\n",
    "print(\"The assigned genre\", my_assigned_genre, \"was correct...\", my_assigned_genre_was_correct)"
   ]
  },
  {
   "cell_type": "code",
   "execution_count": 40,
   "metadata": {
    "collapsed": false
   },
   "outputs": [
    {
     "name": "stdout",
     "output_type": "stream",
     "text": [
      "~~~~~~~~~~~~~~~~~~~~~~~~~~~~~~~~~~~~~~~~~~~~~~~~~~~~~~~~~~~~~~~~~~~~~\n",
      "Running tests\n",
      "\n",
      "---------------------------------------------------------------------\n",
      "Test summary\n",
      "    Passed: 1\n",
      "    Failed: 0\n",
      "[ooooooooook] 100.0% passed\n",
      "\n"
     ]
    }
   ],
   "source": [
    "_ = project2.grade(\"q314\")"
   ]
  },
  {
   "cell_type": "markdown",
   "metadata": {},
   "source": [
    "## 3.2. A classifier function"
   ]
  },
  {
   "cell_type": "markdown",
   "metadata": {},
   "source": [
    "Now it's time to write a single function that encapsulates this whole process of classification.\n",
    "\n",
    "**Question 3.2.1.** Write a function called `classify`.  It should take the following arguments:\n",
    "* An array of features for a song to classify (e.g., `test_20.row(0)`),\n",
    "* A table with a column for each feature (for example, `train_20`)\n",
    "* An array of classes that has as many items as the previous table has rows, and in the same order, and\n",
    "* `k`, the number of neighbors to use in classification.\n",
    "\n",
    "It should return the class your classifier picks for the given row of features (e.g., `'Country'` or `'Hip-hop'`). "
   ]
  },
  {
   "cell_type": "code",
   "execution_count": 41,
   "metadata": {
    "collapsed": false
   },
   "outputs": [],
   "source": [
    "def classify(test_row, train_rows, train_classes, k):\n",
    "    \"\"\"Return the most common class among k nearest neigbors to test_row.\"\"\"\n",
    "    distances = fast_distances(test_row, train_rows)\n",
    "    genre_and_distances = Table().with_columns([\n",
    "    'Genre', train_classes,\n",
    "    'Distance', distances]).sort(\"Distance\")\n",
    "    return genre_and_distances.take(np.arange(k)).group('Genre',len).sort('Distance len', descending=True).column(0).item(0)"
   ]
  },
  {
   "cell_type": "code",
   "execution_count": 42,
   "metadata": {
    "collapsed": false
   },
   "outputs": [
    {
     "name": "stdout",
     "output_type": "stream",
     "text": [
      "~~~~~~~~~~~~~~~~~~~~~~~~~~~~~~~~~~~~~~~~~~~~~~~~~~~~~~~~~~~~~~~~~~~~~\n",
      "Running tests\n",
      "\n",
      "---------------------------------------------------------------------\n",
      "Test summary\n",
      "    Passed: 1\n",
      "    Failed: 0\n",
      "[ooooooooook] 100.0% passed\n",
      "\n"
     ]
    }
   ],
   "source": [
    "_ = project2.grade(\"q321\")"
   ]
  },
  {
   "cell_type": "markdown",
   "metadata": {},
   "source": [
    "**Question 3.2.2.** Assign `grandpa_genre` to the genre predicted by your classifier for the song  \"Grandpa Got Runned Over By A John Deere\" in the test set, using 9 neigbors."
   ]
  },
  {
   "cell_type": "code",
   "execution_count": 43,
   "metadata": {
    "collapsed": false
   },
   "outputs": [
    {
     "data": {
      "text/plain": [
       "'Hip-hop'"
      ]
     },
     "execution_count": 43,
     "metadata": {},
     "output_type": "execute_result"
    }
   ],
   "source": [
    "grandpa_features = test_lyrics.where('Title',\"Grandpa Got Runned Over By A John Deere\").select(my_20_features).row(0)\n",
    "grandpa_genre = classify(grandpa_features, train_20, train_lyrics.column('Genre'), 9)\n",
    "grandpa_genre"
   ]
  },
  {
   "cell_type": "code",
   "execution_count": 44,
   "metadata": {
    "collapsed": false
   },
   "outputs": [
    {
     "name": "stdout",
     "output_type": "stream",
     "text": [
      "~~~~~~~~~~~~~~~~~~~~~~~~~~~~~~~~~~~~~~~~~~~~~~~~~~~~~~~~~~~~~~~~~~~~~\n",
      "Running tests\n",
      "\n",
      "---------------------------------------------------------------------\n",
      "Test summary\n",
      "    Passed: 1\n",
      "    Failed: 0\n",
      "[ooooooooook] 100.0% passed\n",
      "\n"
     ]
    }
   ],
   "source": [
    "_ = project2.grade(\"q322\")"
   ]
  },
  {
   "cell_type": "markdown",
   "metadata": {},
   "source": [
    "**Question 3.2.3** To simplify things further, use the higher-order function `classify_using` that takes `train_rows`, `train_classes`, and `k` to define a function `simple_classify`. The `simple_classify` function should take just one argument, a test row, and return the predicted genre of a song using `train_20` and five neighbors (`k` of 5).  This way, when we classify a song, we just have to pass in the song's features, not the whole training set.  "
   ]
  },
  {
   "cell_type": "code",
   "execution_count": 45,
   "metadata": {
    "collapsed": false
   },
   "outputs": [
    {
     "data": {
      "text/plain": [
       "'Country'"
      ]
     },
     "execution_count": 45,
     "metadata": {},
     "output_type": "execute_result"
    }
   ],
   "source": [
    "def classify_using(train_rows, train_classes, k):\n",
    "    def for_row(test_row):\n",
    "        return classify(test_row, train_rows, train_classes, k)\n",
    "    return for_row\n",
    "\n",
    "simple_classify = classify_using(train_20,train_lyrics.column('Genre'), 5)\n",
    "simple_classify(test_20.row(0))\n",
    "\n"
   ]
  },
  {
   "cell_type": "code",
   "execution_count": 46,
   "metadata": {
    "collapsed": false
   },
   "outputs": [
    {
     "name": "stdout",
     "output_type": "stream",
     "text": [
      "~~~~~~~~~~~~~~~~~~~~~~~~~~~~~~~~~~~~~~~~~~~~~~~~~~~~~~~~~~~~~~~~~~~~~\n",
      "Running tests\n",
      "\n",
      "---------------------------------------------------------------------\n",
      "Test summary\n",
      "    Passed: 1\n",
      "    Failed: 0\n",
      "[ooooooooook] 100.0% passed\n",
      "\n"
     ]
    }
   ],
   "source": [
    "_ = project2.grade(\"q323\")"
   ]
  },
  {
   "cell_type": "markdown",
   "metadata": {},
   "source": [
    "## 3.3. Evaluating your classifier"
   ]
  },
  {
   "cell_type": "markdown",
   "metadata": {},
   "source": [
    "Now that it's easy to use the classifier, let's see how accurate it is on the whole test set.\n",
    "\n",
    "**Question 3.3.1.** Classify every song in the test set (provided), then compute the proportion of correct classifications. "
   ]
  },
  {
   "cell_type": "code",
   "execution_count": 47,
   "metadata": {
    "collapsed": false
   },
   "outputs": [
    {
     "data": {
      "text/plain": [
       "0.6904024767801857"
      ]
     },
     "execution_count": 47,
     "metadata": {},
     "output_type": "execute_result"
    }
   ],
   "source": [
    "test_guesses = test_20.apply(simple_classify)\n",
    "proportion_correct = np.count_nonzero(test_guesses == test_lyrics.column('Genre'))/ test_lyrics.num_rows\n",
    "proportion_correct"
   ]
  },
  {
   "cell_type": "code",
   "execution_count": 48,
   "metadata": {
    "collapsed": false
   },
   "outputs": [
    {
     "name": "stdout",
     "output_type": "stream",
     "text": [
      "~~~~~~~~~~~~~~~~~~~~~~~~~~~~~~~~~~~~~~~~~~~~~~~~~~~~~~~~~~~~~~~~~~~~~\n",
      "Running tests\n",
      "\n",
      "---------------------------------------------------------------------\n",
      "Test summary\n",
      "    Passed: 1\n",
      "    Failed: 0\n",
      "[ooooooooook] 100.0% passed\n",
      "\n"
     ]
    }
   ],
   "source": [
    "_ = project2.grade(\"q331\")"
   ]
  },
  {
   "cell_type": "markdown",
   "metadata": {},
   "source": [
    "At this point, you've gone through one cycle of classifier design.  Let's summarize the steps:\n",
    "1. From available data, select test and training sets.\n",
    "2. Choose an algorithm you're going to use for classification.\n",
    "3. Identify some features.\n",
    "4. Define a classifier function using your features and the training set.\n",
    "5. Evaluate its performance (the proportion of correct classifications) on the test set.\n",
    "\n",
    "In practice, if the performance is good enough for your application, you might be done. In this case, we might be able to do better by focusing on step 3."
   ]
  },
  {
   "cell_type": "markdown",
   "metadata": {},
   "source": [
    "# 4. Feature design\n",
    "\n",
    "One way to interpret the accuracy of a classifier is to compare it to another classifier."
   ]
  },
  {
   "cell_type": "markdown",
   "metadata": {},
   "source": [
    "**Question 4.1.** Below we've provided 10 features selected by the staff.  Build a 5-nearest-neighbor classifier using these features and compute its accuracy on the test set. (You can write any code you want, as long as `proportion_correct_staff` is computed correctly; the other names are only suggestions.)"
   ]
  },
  {
   "cell_type": "code",
   "execution_count": 49,
   "metadata": {
    "collapsed": false
   },
   "outputs": [
    {
     "data": {
      "text/plain": [
       "0.7058823529411765"
      ]
     },
     "execution_count": 49,
     "metadata": {},
     "output_type": "execute_result"
    }
   ],
   "source": [
    "features_staff = [\"come\", \"do\", \"have\", \"heart\", \"make\", \"never\", \"now\", \"wanna\", \"with\", \"yo\"]\n",
    "train_staff =  train_lyrics.select(features_staff)\n",
    "test_staff = test_lyrics.select(features_staff)\n",
    "classify_staff = classify(test_lyrics.where('Title',\"Grandpa Got Runned Over By A John Deere\").select(features_staff)\\\n",
    "                          .row(0), train_staff,train_lyrics.column('Genre'), 5)\n",
    "guesses_staff = test_staff.apply(classify_using(train_staff,train_lyrics.column('Genre'), 5))\n",
    "proportion_correct_staff = np.count_nonzero(guesses_staff ==  test_lyrics.column('Genre'))/ test_staff.num_rows\n",
    "proportion_correct_staff\n"
   ]
  },
  {
   "cell_type": "code",
   "execution_count": 50,
   "metadata": {
    "collapsed": false
   },
   "outputs": [
    {
     "name": "stdout",
     "output_type": "stream",
     "text": [
      "~~~~~~~~~~~~~~~~~~~~~~~~~~~~~~~~~~~~~~~~~~~~~~~~~~~~~~~~~~~~~~~~~~~~~\n",
      "Running tests\n",
      "\n",
      "---------------------------------------------------------------------\n",
      "Test summary\n",
      "    Passed: 1\n",
      "    Failed: 0\n",
      "[ooooooooook] 100.0% passed\n",
      "\n"
     ]
    }
   ],
   "source": [
    "_ = project2.grade(\"q41\")"
   ]
  },
  {
   "cell_type": "markdown",
   "metadata": {},
   "source": [
    "**Question 4.2.** Are the features you chose better or worse than the staff features at classifying the test set? Why do you think this is so?"
   ]
  },
  {
   "cell_type": "markdown",
   "metadata": {},
   "source": [
    "The features I chose are worse than the staff features at classifying the test test since 0.690 is less than 0.706. Since all of these numbers for the classifier are built with two seperate features, choosing different subset of features will end up slightly different accuracy because of random sampling effect. "
   ]
  },
  {
   "cell_type": "markdown",
   "metadata": {},
   "source": [
    "**Question 4.3.** Is there anything random about a classifier's accuracy measured in this way?  Is it possible that the difference in classifier performance is due to chance?  If so, describe (in 2-3 sentences) how you would investigate that."
   ]
  },
  {
   "cell_type": "markdown",
   "metadata": {},
   "source": [
    "Yes, I can resample a test set many times with different features and this single subset will always change the accuracy. One way to investigate is to split the data into 3 samples (The validation set, training set , and test set) Once I picked a single subset (one that looks like the best), I know how well this test set would perform in this entire unknown population by this test set and this seperate test set can tell whether I'm fooling myself or not."
   ]
  },
  {
   "cell_type": "markdown",
   "metadata": {},
   "source": [
    "## 4.1. Feature selection"
   ]
  },
  {
   "cell_type": "markdown",
   "metadata": {},
   "source": [
    "What happens if we use only use a subset of the staff features? Is there a single feature that's better than the rest? Can removing features improve our classifier? Does removing features always hurt? If so, does removing different features degrade accuracy by different amounts?\n",
    "\n",
    "As soon as you begin comparing the performance of many different classifiers, searching for the best one, it is important to conduct that search on the *validation set* rather than the *test set*. Conventionally, the test set is used for evaluation of methods. The validation set is used to select exactly how a method is applied, such as choosing a set of features or a value for `k`.  The validation set is called `valid_lyrics`."
   ]
  },
  {
   "cell_type": "markdown",
   "metadata": {},
   "source": [
    "**Question 4.1.1.** Define a higher-order function `accuracy_on` that takes an evaluation set, either `valid_lyrics` or `test_lyrics`. It returns a function that takes a feature list and a value for `k`, and returns the accuracy (proprotion correct) of a `k`-NN classifier on the evaluation set using those features."
   ]
  },
  {
   "cell_type": "code",
   "execution_count": 51,
   "metadata": {
    "collapsed": false
   },
   "outputs": [
    {
     "data": {
      "text/plain": [
       "0.7953488372093023"
      ]
     },
     "execution_count": 51,
     "metadata": {},
     "output_type": "execute_result"
    }
   ],
   "source": [
    "def accuracy_on(evaluation_set):\n",
    "    def accuracy(features, k):\n",
    "        train = train_lyrics.select(features)\n",
    "        validation = evaluation_set.select(features)\n",
    "        guesses = validation.apply(classify_using(train,train_lyrics.column('Genre'), k))\n",
    "        proportion = np.count_nonzero(guesses ==  evaluation_set.column('Genre'))/ \\\n",
    "                                      len(guesses)\n",
    "        return proportion\n",
    "    return accuracy\n",
    "\n",
    "valid_accuracy = accuracy_on(valid_lyrics)\n",
    "\n",
    "valid_accuracy(features_staff, 5)\n",
    "\n"
   ]
  },
  {
   "cell_type": "code",
   "execution_count": 52,
   "metadata": {
    "collapsed": false
   },
   "outputs": [
    {
     "name": "stdout",
     "output_type": "stream",
     "text": [
      "~~~~~~~~~~~~~~~~~~~~~~~~~~~~~~~~~~~~~~~~~~~~~~~~~~~~~~~~~~~~~~~~~~~~~\n",
      "Running tests\n",
      "\n",
      "---------------------------------------------------------------------\n",
      "Test summary\n",
      "    Passed: 1\n",
      "    Failed: 0\n",
      "[ooooooooook] 100.0% passed\n",
      "\n"
     ]
    }
   ],
   "source": [
    "_ = project2.grade(\"q411\")"
   ]
  },
  {
   "cell_type": "markdown",
   "metadata": {},
   "source": [
    "**Question 4.1.2.** Create a two-column table `solo_accuracies` that shows the accuracy on the validation set using 5 neighbors and only a single feature. Include a row for every feature in `staff_features`."
   ]
  },
  {
   "cell_type": "code",
   "execution_count": 53,
   "metadata": {
    "collapsed": false
   },
   "outputs": [
    {
     "data": {
      "text/html": [
       "<table border=\"1\" class=\"dataframe\">\n",
       "    <thead>\n",
       "        <tr>\n",
       "            <th>Feature</th> <th>Solo Accuracy</th>\n",
       "        </tr>\n",
       "    </thead>\n",
       "    <tbody>\n",
       "        <tr>\n",
       "            <td>yo     </td> <td>0.674419     </td>\n",
       "        </tr>\n",
       "    </tbody>\n",
       "        <tr>\n",
       "            <td>make   </td> <td>0.674419     </td>\n",
       "        </tr>\n",
       "    </tbody>\n",
       "        <tr>\n",
       "            <td>wanna  </td> <td>0.660465     </td>\n",
       "        </tr>\n",
       "    </tbody>\n",
       "        <tr>\n",
       "            <td>now    </td> <td>0.632558     </td>\n",
       "        </tr>\n",
       "    </tbody>\n",
       "        <tr>\n",
       "            <td>heart  </td> <td>0.627907     </td>\n",
       "        </tr>\n",
       "    </tbody>\n",
       "        <tr>\n",
       "            <td>never  </td> <td>0.623256     </td>\n",
       "        </tr>\n",
       "    </tbody>\n",
       "        <tr>\n",
       "            <td>with   </td> <td>0.618605     </td>\n",
       "        </tr>\n",
       "    </tbody>\n",
       "        <tr>\n",
       "            <td>have   </td> <td>0.590698     </td>\n",
       "        </tr>\n",
       "    </tbody>\n",
       "        <tr>\n",
       "            <td>do     </td> <td>0.586047     </td>\n",
       "        </tr>\n",
       "    </tbody>\n",
       "        <tr>\n",
       "            <td>come   </td> <td>0.55814      </td>\n",
       "        </tr>\n",
       "    </tbody>\n",
       "</table>"
      ],
      "text/plain": [
       "Feature | Solo Accuracy\n",
       "yo      | 0.674419\n",
       "make    | 0.674419\n",
       "wanna   | 0.660465\n",
       "now     | 0.632558\n",
       "heart   | 0.627907\n",
       "never   | 0.623256\n",
       "with    | 0.618605\n",
       "have    | 0.590698\n",
       "do      | 0.586047\n",
       "come    | 0.55814"
      ]
     },
     "execution_count": 53,
     "metadata": {},
     "output_type": "execute_result"
    }
   ],
   "source": [
    "solo_accuracies = Table(['Feature', 'Solo Accuracy'])\n",
    "for f in features_staff:\n",
    "    acc = valid_accuracy(f, 5)\n",
    "    solo_accuracies.append((f, acc))\n",
    "\n",
    "solo_accuracies.sort(1, descending=True)\n"
   ]
  },
  {
   "cell_type": "code",
   "execution_count": 54,
   "metadata": {
    "collapsed": false
   },
   "outputs": [
    {
     "name": "stdout",
     "output_type": "stream",
     "text": [
      "~~~~~~~~~~~~~~~~~~~~~~~~~~~~~~~~~~~~~~~~~~~~~~~~~~~~~~~~~~~~~~~~~~~~~\n",
      "Running tests\n",
      "\n",
      "---------------------------------------------------------------------\n",
      "Test summary\n",
      "    Passed: 1\n",
      "    Failed: 0\n",
      "[ooooooooook] 100.0% passed\n",
      "\n"
     ]
    }
   ],
   "source": [
    "_ = project2.grade(\"q412\")"
   ]
  },
  {
   "cell_type": "markdown",
   "metadata": {},
   "source": [
    "An *ablation* study involves attempting to determine which features matter most for classification accuracy by removing (\"ablating\") each of them individually.\n",
    "\n",
    "**Question 4.1.3.** Create a two-column table `ablation_accuracies` that shows the accuracy on the validation set of a 5-NN classifier that has all `staff_features` except one. Include a row for every feature in `staff_features` that you leave out. (*Hint*: Lists have a `.remove` method that takes the element to be removed.)"
   ]
  },
  {
   "cell_type": "code",
   "execution_count": 55,
   "metadata": {
    "collapsed": false
   },
   "outputs": [
    {
     "data": {
      "text/html": [
       "<table border=\"1\" class=\"dataframe\">\n",
       "    <thead>\n",
       "        <tr>\n",
       "            <th>Feature</th> <th>All-Except-One Accuracy</th>\n",
       "        </tr>\n",
       "    </thead>\n",
       "    <tbody>\n",
       "        <tr>\n",
       "            <td>with   </td> <td>0.734884               </td>\n",
       "        </tr>\n",
       "    </tbody>\n",
       "        <tr>\n",
       "            <td>yo     </td> <td>0.739535               </td>\n",
       "        </tr>\n",
       "    </tbody>\n",
       "        <tr>\n",
       "            <td>have   </td> <td>0.744186               </td>\n",
       "        </tr>\n",
       "    </tbody>\n",
       "        <tr>\n",
       "            <td>do     </td> <td>0.75814                </td>\n",
       "        </tr>\n",
       "    </tbody>\n",
       "        <tr>\n",
       "            <td>heart  </td> <td>0.75814                </td>\n",
       "        </tr>\n",
       "    </tbody>\n",
       "        <tr>\n",
       "            <td>never  </td> <td>0.776744               </td>\n",
       "        </tr>\n",
       "    </tbody>\n",
       "        <tr>\n",
       "            <td>now    </td> <td>0.776744               </td>\n",
       "        </tr>\n",
       "    </tbody>\n",
       "        <tr>\n",
       "            <td>come   </td> <td>0.781395               </td>\n",
       "        </tr>\n",
       "    </tbody>\n",
       "        <tr>\n",
       "            <td>wanna  </td> <td>0.790698               </td>\n",
       "        </tr>\n",
       "    </tbody>\n",
       "        <tr>\n",
       "            <td>make   </td> <td>0.795349               </td>\n",
       "        </tr>\n",
       "    </tbody>\n",
       "</table>"
      ],
      "text/plain": [
       "Feature | All-Except-One Accuracy\n",
       "with    | 0.734884\n",
       "yo      | 0.739535\n",
       "have    | 0.744186\n",
       "do      | 0.75814\n",
       "heart   | 0.75814\n",
       "never   | 0.776744\n",
       "now     | 0.776744\n",
       "come    | 0.781395\n",
       "wanna   | 0.790698\n",
       "make    | 0.795349"
      ]
     },
     "execution_count": 55,
     "metadata": {},
     "output_type": "execute_result"
    }
   ],
   "source": [
    "ablation_accuracies = Table(['Feature', 'All-Except-One Accuracy'])\n",
    "for f in features_staff:\n",
    "    features = list(features_staff) # Make a copy of the staff features\n",
    "    features.remove(f)              # Remove one feature from the copy\n",
    "    acc = valid_accuracy(features, 5)\n",
    "    ablation_accuracies.append((f, acc))\n",
    "    \n",
    "ablation_accuracies.sort(1)\n",
    "\n"
   ]
  },
  {
   "cell_type": "code",
   "execution_count": 56,
   "metadata": {
    "collapsed": false
   },
   "outputs": [
    {
     "name": "stdout",
     "output_type": "stream",
     "text": [
      "~~~~~~~~~~~~~~~~~~~~~~~~~~~~~~~~~~~~~~~~~~~~~~~~~~~~~~~~~~~~~~~~~~~~~\n",
      "Running tests\n",
      "\n",
      "---------------------------------------------------------------------\n",
      "Test summary\n",
      "    Passed: 1\n",
      "    Failed: 0\n",
      "[ooooooooook] 100.0% passed\n",
      "\n"
     ]
    }
   ],
   "source": [
    "_ = project2.grade(\"q413\")"
   ]
  },
  {
   "cell_type": "markdown",
   "metadata": {},
   "source": [
    "**Question 4.1.4.** You should have found that both \"make\" and \"yo\" have a high solo accuracy, but they have very different effects on the classifier when removed. Which feature appears to be more important to the final classifier?"
   ]
  },
  {
   "cell_type": "markdown",
   "metadata": {},
   "source": [
    "\"Yo\" may appear to be more important to the final classifier."
   ]
  },
  {
   "cell_type": "markdown",
   "metadata": {},
   "source": [
    "**Question 4.1.5.** Draw a scatter diagram with one dot for every **odd** value of `k` from 1 to 15 (inclusive) that plots the accuracy on the validation set on the horizontal axis and accuracy on the test set on the vertical axis. Use `features_staff` as the features for all points."
   ]
  },
  {
   "cell_type": "code",
   "execution_count": 57,
   "metadata": {
    "collapsed": false
   },
   "outputs": [
    {
     "data": {
      "image/png": "[encoded data removed]",
      "text/plain": [
       "<matplotlib.figure.Figure at 0x7fdea0d95128>"
      ]
     },
     "metadata": {},
     "output_type": "display_data"
    }
   ],
   "source": [
    "k_accuracies = Table(['k', 'Validation Accuracy', 'Test Accuracy'])\n",
    "test_accuracy = np.arange(1,16,2)\n",
    "testacc =  accuracy_on(test_lyrics)\n",
    "\n",
    "for f in test_accuracy:\n",
    "    acc = valid_accuracy(features_staff, f)\n",
    "    testacc_k = testacc(features_staff, f)\n",
    "    k_accuracies.append([f, acc, testacc_k])\n",
    "    \n",
    "k_accuracies.scatter(1, 2, labels=0, s=200)\n"
   ]
  },
  {
   "cell_type": "markdown",
   "metadata": {},
   "source": [
    "**Question 4.1.6.** Does validation accuracy appear to be useful in selecting `k`, if what you care about most is classification accuracy on other unseen data (such as the test set)? Does the choice of `k` appear to matter at all? Explain your answer in 1 or 2 sentences."
   ]
  },
  {
   "cell_type": "markdown",
   "metadata": {},
   "source": [
    "The true accuracy may or may not be useful in selecting k, because it is a random sample that is an estimate that causes random noise that implies the features may be relevant or irrelevant to each other. In general, We want to use the validation set to rank and then use the validation set to compute accuracy and compare which looks like better than all the other. Notice that there is always random variation and always 1 or more than other but this doesn't mean that's more relevant. "
   ]
  },
  {
   "cell_type": "markdown",
   "metadata": {},
   "source": [
    "Congratulations! You're done with the required portion of the project."
   ]
  },
  {
   "cell_type": "markdown",
   "metadata": {},
   "source": [
    "## 4.2. Extra Credit\n",
    "\n",
    "Now that you know how to evaluate different feature sets, it's time to build the best classifier you can.\n",
    "\n",
    "**Question 4.2.1.** Find a set of features that gives at least 85% accuracy on the validation set. "
   ]
  },
  {
   "cell_type": "code",
   "execution_count": 58,
   "metadata": {
    "collapsed": false
   },
   "outputs": [
    {
     "name": "stdout",
     "output_type": "stream",
     "text": [
      "Validation: 0.8558139534883721 Test: 0.7120743034055728\n"
     ]
    }
   ],
   "source": [
    "better_features = [\"come\", \"do\", \"have\", \"heart\", \"make\", \"never\", \"now\", \"wanna\", \"with\", \"yo\", \"how\", \"right\",\\\n",
    "                  \"whi\", \"still\",\"day\",\"more\",\"un\",\"wo\",\"fall\",\"e\",\"head\",\"everyth\",\"ya\",\"stay\",\"lo\",\"slow\"]\n",
    "\n",
    "test_accuracy =  accuracy_on(test_lyrics)\n",
    "\n",
    "print('Validation:', valid_accuracy(better_features, 5), 'Test:', \\\n",
    "      test_accuracy(better_features, 5))\n"
   ]
  },
  {
   "cell_type": "markdown",
   "metadata": {},
   "source": [
    "**Question 4.2.2.** Are these features any better on the test set than the staff features? If not, explain why that might be the case."
   ]
  },
  {
   "cell_type": "markdown",
   "metadata": {},
   "source": [
    "Yes, the independent subset of features (ie: better_features1 = [\"how\", \"right\",\"whi\", \"still\",\"day\",\"more\",\"un\",\"wo\",\"fall\",\"e\",\"head\",\"everyth\",\"ya\",\"stay\",\"lo\",\"slow\"]) gives me a higher validation, which is 0.7674418604651163"
   ]
  },
  {
   "cell_type": "markdown",
   "metadata": {},
   "source": [
    "**Ungraded.** Feel free to create an even better classifier. You're not restricted to using only word proportions as features. For example, given the data, you could compute various notions of vocabulary size or estimated song length. If you think you built a classifier that works well, post on Piazza and let us know."
   ]
  },
  {
   "cell_type": "code",
   "execution_count": 59,
   "metadata": {
    "collapsed": false
   },
   "outputs": [],
   "source": [
    "#####################\n",
    "# Custom Classifier #\n",
    "#####################\n"
   ]
  }
 ],
 "metadata": {
  "kernelspec": {
   "display_name": "Python 3",
   "language": "python",
   "name": "python3"
  },
  "language_info": {
   "codemirror_mode": {
    "name": "ipython",
    "version": 3
   },
   "file_extension": ".py",
   "mimetype": "text/x-python",
   "name": "python",
   "nbconvert_exporter": "python",
   "pygments_lexer": "ipython3",
   "version": "3.4.4"
  }
 },
 "nbformat": 4,
 "nbformat_minor": 0
}
