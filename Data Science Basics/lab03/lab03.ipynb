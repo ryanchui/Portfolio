{
 "cells": [
  {
   "cell_type": "markdown",
   "metadata": {},
   "source": [
    "# Lab 3\n",
    "\n",
    "# 0. Intro\n",
    "Previous labs introduced you to the basics of programming in Python.  Today, you'll see how to combine the ideas you've learned so far to perform data analysis.  You'll learn about:\n",
    "\n",
    "* Including text notes (*comments*) in code you write;\n",
    "* Performing logical operations on `True`/`False` (*Boolean*) values;\n",
    "* Using arrays to operate on many values at once;\n",
    "* Using tables to work with different kinds of data that describe aspects of many different individuals.\n",
    "\n",
    "**Run the next cell first** to set up the lab:"
   ]
  },
  {
   "cell_type": "code",
   "execution_count": null,
   "metadata": {
    "collapsed": false
   },
   "outputs": [],
   "source": [
    "# Run this cell, but please don't change it.\n",
    "\n",
    "# These lines import the Numpy and Datascience modules.\n",
    "import numpy as np\n",
    "from datascience import *\n",
    "\n",
    "# These lines load the tests.\n",
    "from client.api.assignment import load_assignment \n",
    "lab03 = load_assignment('lab03.ok')"
   ]
  },
  {
   "cell_type": "markdown",
   "metadata": {},
   "source": [
    "# 1. Comments\n",
    "Comments are a useful bit of Python syntax we haven't had a chance to talk about yet.  The following cell has a line of code whose meaning is unclear, and above it a comment clarifying what it does:"
   ]
  },
  {
   "cell_type": "code",
   "execution_count": null,
   "metadata": {
    "collapsed": true
   },
   "outputs": [],
   "source": [
    "# The speed of light, in meters per second:\n",
    "c = 299792458"
   ]
  },
  {
   "cell_type": "markdown",
   "metadata": {},
   "source": [
    "Comments can also go at the ends of lines:"
   ]
  },
  {
   "cell_type": "code",
   "execution_count": null,
   "metadata": {
    "collapsed": true
   },
   "outputs": [],
   "source": [
    "elementary_charge = 1.602 * 10**-19 # The electrical charge of an electron"
   ]
  },
  {
   "cell_type": "markdown",
   "metadata": {},
   "source": [
    "The way comments work is pretty simple: anything after a `#` character in a line is ignored.  There's one exception: inside a string, `#` just means `#`.  Call it the \"hashtag rule.\""
   ]
  },
  {
   "cell_type": "code",
   "execution_count": null,
   "metadata": {
    "collapsed": true
   },
   "outputs": [],
   "source": [
    "tweet = \"17th of all I wish I was a data scientist blessings blessings #worldpeace\""
   ]
  },
  {
   "cell_type": "markdown",
   "metadata": {},
   "source": [
    "Most programmers spend more time changing, fixing, or understanding existing code than they do writing new code.  That won't happen so often in labs, but you'll probably find it's the case when you work on the projects for this course.  Spending a bit of extra time up front writing clear code will often save you much more time later, and writing good comments is part of that.  Get in the habit of commenting tricky code now and you'll thank yourself later.\n",
    "\n",
    "<img src=\"http://imgs.xkcd.com/comics/future_self.png\">"
   ]
  },
  {
   "cell_type": "markdown",
   "metadata": {},
   "source": [
    "## 1.0. Comments, strings and code\n",
    "Sometimes, comments, strings, and names are easy to confuse.  Here are some review exercises to make sure you understand the differences.\n",
    "\n",
    "**Question 1.0.0.** The following cell is trying to compute the number of characters in this sentence:\n",
    "\n",
    "    All work and no play makes Jack a dull boy.\n",
    "\n",
    "Run it, and you'll see that it fails with an error.  Fix it so that it works."
   ]
  },
  {
   "cell_type": "code",
   "execution_count": null,
   "metadata": {
    "collapsed": false
   },
   "outputs": [],
   "source": [
    "sentence_length = len(All work and no play makes Jack a dull boy.)"
   ]
  },
  {
   "cell_type": "code",
   "execution_count": null,
   "metadata": {
    "collapsed": false
   },
   "outputs": [],
   "source": [
    "_ = lab03.grade(\"q100\")"
   ]
  },
  {
   "cell_type": "markdown",
   "metadata": {},
   "source": [
    "**Question 1.0.1.** In the next cell, we're trying to define Avogadro's number.  After the definition, we have attempted to write a comment to explain what the number is, but something went wrong.  Fix it so that the line works."
   ]
  },
  {
   "cell_type": "code",
   "execution_count": null,
   "metadata": {
    "collapsed": false
   },
   "outputs": [],
   "source": [
    "avogadros_number = 6.022 * 10**23 \"# The number of atoms in 1 gram of atomic hydrogen\""
   ]
  },
  {
   "cell_type": "code",
   "execution_count": null,
   "metadata": {
    "collapsed": false
   },
   "outputs": [],
   "source": [
    "_ = lab03.grade(\"q101\")"
   ]
  },
  {
   "cell_type": "markdown",
   "metadata": {},
   "source": [
    "# 2. Comparing Values\n",
    "## 2.0 Review: Comparisons and boolean values\n",
    "The *comparison operators* like `<`, `>=`, `==`, and `!=` are used to compare two values, producing `True` if the comparison is true (as in `2 + 2 == 4`) and `False` if it isn't (as in `3 > 4` or `2 + 2 != 4`).\n",
    "\n",
    "Suppose we have two study groups, one composed of 3 humans from Earth, and the other composed of 5 martians from Mars.  Recall from lecture that the probability that 3 humans don't share a birthday is:\n",
    "$$\\frac{365}{365} \\times \\frac{364}{365} \\times \\frac{363}{365}$$\n",
    "\n",
    "That's because the first person you pick can have any birthday at all; the second person's birthday can't overlap the first person's, so 364 of the 365 days are okay birthdays; and the third person's birthday can't overlap either of the first two, so 363 days are okay.  (This computation assumes that every birthday is equally likely, years have 365 days, and the birthdays of people in the same study group aren't related.)\n",
    "\n",
    "**Question 2.0.0.** Set `prob_no_shared_human_birthdays` to that probability.  Use Python code to compute it!  Try using `np.arange` and `np.prod` as in lecture, but you don't have to."
   ]
  },
  {
   "cell_type": "code",
   "execution_count": null,
   "metadata": {
    "collapsed": false
   },
   "outputs": [],
   "source": [
    "# Set prob_no_shared_human_birthdays.\n",
    "prob_no_shared_human_birthdays = ...\n",
    "prob_no_shared_human_birthdays"
   ]
  },
  {
   "cell_type": "code",
   "execution_count": null,
   "metadata": {
    "collapsed": false
   },
   "outputs": [],
   "source": [
    "_ = lab03.grade(\"q200\")"
   ]
  },
  {
   "cell_type": "markdown",
   "metadata": {},
   "source": [
    "**Question 2.0.1.** On Mars, there are 687 days in a year, not 365, so martians have 687 possible birthdays.  Figure out how to compute the probability that none of the 5 martians share a birthday.  Set `prob_no_shared_martian_birthdays` to that number."
   ]
  },
  {
   "cell_type": "code",
   "execution_count": null,
   "metadata": {
    "collapsed": false
   },
   "outputs": [],
   "source": [
    "# Set prob_no_shared_martian_birthdays.\n",
    "prob_no_shared_martian_birthdays = ...\n",
    "prob_no_shared_martian_birthdays"
   ]
  },
  {
   "cell_type": "code",
   "execution_count": null,
   "metadata": {
    "collapsed": false
   },
   "outputs": [],
   "source": [
    "_ = lab03.grade(\"q201\")"
   ]
  },
  {
   "cell_type": "markdown",
   "metadata": {},
   "source": [
    "** Question 2.0.2.** Determine whether it's more likely that none of the 3 humans share a birthday than that none of the 5 martians share a birthday.  Using a comparison operator, set `humans_less_likely_to_share_birthdays` to `True` if it's less likely that the humans share a birthday.  Don't just set `humans_less_likely_to_share_birthdays` to `True` or `False` directly -- use a comparison operator!"
   ]
  },
  {
   "cell_type": "code",
   "execution_count": null,
   "metadata": {
    "collapsed": false
   },
   "outputs": [],
   "source": [
    "# Set humans_less_likely_to_share_birthdays.\n",
    "humans_less_likely_to_share_birthdays = ...\n",
    "humans_less_likely_to_share_birthdays"
   ]
  },
  {
   "cell_type": "code",
   "execution_count": null,
   "metadata": {
    "collapsed": false
   },
   "outputs": [],
   "source": [
    "_ = lab03.grade(\"q202\")"
   ]
  },
  {
   "cell_type": "markdown",
   "metadata": {},
   "source": [
    "**Question 2.0.3.** Suppose we want to check whether a sentence is a *palindrome*, meaning that it's the same forwards and backwards, ignoring spaces, punctuation, and capitalization.  For example, a famous palindrome is \"A man, a plan, a canal: Panama!\"\n",
    "\n",
    "In the next cell, we have written a sentence that might be a palindrome, and we have done some of the work involved in checking whether it's a palindrome.  Starting where we left off (described in comments), use the `==` operator to check whether the sentence is really a palindrome.  Name the resulting boolean value `is_palindrome`."
   ]
  },
  {
   "cell_type": "code",
   "execution_count": null,
   "metadata": {
    "collapsed": false
   },
   "outputs": [],
   "source": [
    "# The sentence we want to check:\n",
    "sentence = \"Doc, note. I dissent. A fast never prevents a fatness. I diet on cod.\"\n",
    "# The same sentence, but in lower case and without spaces or punctuation:\n",
    "simplified = sentence.lower().replace(\" \", \"\").replace(\",\", \"\").replace(\".\", \"\")\n",
    "simplified"
   ]
  },
  {
   "cell_type": "code",
   "execution_count": null,
   "metadata": {
    "collapsed": false
   },
   "outputs": [],
   "source": [
    "# The same as the simplified sentence, but in reverse order:\n",
    "reverse = ''.join(reversed(simplified))\n",
    "\n",
    "# Finish the work; set is_palindrome to True if the sentence is\n",
    "# a palindrome, and otherwise False.  Use a comparison operator.  \n",
    "# For a clue about which one, check the value of reverse.\n",
    "is_palindrome = ...\n",
    "is_palindrome"
   ]
  },
  {
   "cell_type": "code",
   "execution_count": null,
   "metadata": {
    "collapsed": false
   },
   "outputs": [],
   "source": [
    "_ = lab03.grade(\"q203\")"
   ]
  },
  {
   "cell_type": "markdown",
   "metadata": {},
   "source": [
    "## 2.1. Logical operators\n",
    "\n",
    "Sometimes you want to check whether two things are both true.  To do that in Python, we use the `and` operator.  That is, the expression\n",
    "\n",
    "    x and y\n",
    "has value `True` if `x` is `True` *and* `y` is also `True`; otherwise, it has value `False`.  We wrote `x` and `y` because they're very short expressions, but we could have written any boolean-valued expression instead, as in the expression in this cell:"
   ]
  },
  {
   "cell_type": "code",
   "execution_count": null,
   "metadata": {
    "collapsed": false
   },
   "outputs": [],
   "source": [
    "# Just run this cell and see what its output is.\n",
    "3 > 2 and 2 + 2 == 4"
   ]
  },
  {
   "cell_type": "markdown",
   "metadata": {
    "collapsed": true
   },
   "source": [
    "### 2.1.0. A medical experiment\n",
    "Let's see a more concrete use for logical operators.\n",
    "\n",
    "Imagine you are evaluating a medical experiment in which cancer patients were given radiation therapy.  Consulting with oncologists, you decide to count a radiation treatment as successful if the patient's cancerous tumor shrinks below a certain size *and* the patient didn't receive a dangerously high dose of radiation.  Suppose we decide the threshold for post-therapy tumor size is 0.1 centimeters and the threshold for radiation levels is 8000 rads.  That is, if the patient's tumor is smaller than 0.1 cm after therapy and he/she received less than 8000 rads, the therapy was a success.\n",
    "\n",
    "**Question 2.1.0.0.** One patient's tumor size and radiation level data are given in the next cell.  Compute the boolean values `tumor_size_okay` and `radiation_level_okay` based on the thresholds mentioned above."
   ]
  },
  {
   "cell_type": "code",
   "execution_count": null,
   "metadata": {
    "collapsed": true
   },
   "outputs": [],
   "source": [
    "# Size of the patient's tumor, in cm:\n",
    "tumor_size = 0.05\n",
    "# The amount of radiation delivered to the patient by the treatment, in rads:\n",
    "radiation_level = 1000 + 2030 + 1500 + 1820 + 900 + 800 \n",
    "\n",
    "# Fill in the next two lines:\n",
    "tumor_size_okay = ...\n",
    "radiation_level_okay = ..."
   ]
  },
  {
   "cell_type": "code",
   "execution_count": null,
   "metadata": {
    "collapsed": false
   },
   "outputs": [],
   "source": [
    "_ = lab03.grade(\"q2100\")"
   ]
  },
  {
   "cell_type": "markdown",
   "metadata": {},
   "source": [
    "**Question 2.1.0.1.** Decide whether the treatment was successful for this patient according to the criteria described above.  Set `treatment_successful` to `True` if it was successful and `False` otherwise.  Use Python code to compute the answer; don't just write something like `treatment_successful = False`."
   ]
  },
  {
   "cell_type": "code",
   "execution_count": null,
   "metadata": {
    "collapsed": false
   },
   "outputs": [],
   "source": [
    "# Fill in the next line:\n",
    "treatment_successful = ...\n",
    "treatment_successful"
   ]
  },
  {
   "cell_type": "code",
   "execution_count": null,
   "metadata": {
    "collapsed": false
   },
   "outputs": [],
   "source": [
    "_ = lab03.grade(\"q2101\")"
   ]
  },
  {
   "cell_type": "markdown",
   "metadata": {},
   "source": [
    "### 2.1.1. Other logical operators\n",
    "Here are two other basic ways to operate on boolean values:\n",
    "* `x or y` is `True` if `x` is `True`, or if `y` is `True`, or if both are `True`.\n",
    "* `not x` is the opposite of `x` -- it's `True` if `x` is `False`, and vice-versa.\n",
    "\n",
    "Each is its own expression, so they can be combined together.  Parentheses are often helpful:\n",
    "\n",
    "    (not (x == 3 or x == 5)) and y > 1.2"
   ]
  },
  {
   "cell_type": "markdown",
   "metadata": {},
   "source": [
    "**Question 2.1.1.0.** Let's go back to the cancer treatment experiment.  The reason to avoid giving too much radiation to a patient is that it can cause negative side-effects, sometimes including cancer or even death.  Sometimes nothing bad happens, though.\n",
    "\n",
    "Suppose we follow up our experiment and find out how long each patient survived after the treatment and whether they experienced long-term side-effects of the radiation therapy.  It might be reasonable to declare the treatment successful for patients that survive at least 10 years and don't experience side-effects, even if they received a radiation dose above the 8000 rad threshold.\n",
    "\n",
    "In the next cell, we have data from the same (fictional) patient as in section 2.1.0.  Use Python code to compute whether the treatment was successful according to these revised criteria."
   ]
  },
  {
   "cell_type": "code",
   "execution_count": null,
   "metadata": {
    "collapsed": false
   },
   "outputs": [],
   "source": [
    "# The number of years the patient survived after the treatment.\n",
    "post_op_survival_time = 18\n",
    "# \"yes\" if the patient experienced substantial negative side-effects\n",
    "# from the radiation treatment in the long term, and \"no\" otherwise:\n",
    "long_term_side_effects = \"no\"\n",
    "\n",
    "revised_treatment_successful = ...\n",
    "revised_treatment_successful"
   ]
  },
  {
   "cell_type": "code",
   "execution_count": null,
   "metadata": {
    "collapsed": false
   },
   "outputs": [],
   "source": [
    "# We only automatically check the result of your expression on this one patient.\n",
    "# Find someone else from lab who has also completed this question and read\n",
    "# each other's expressions for revised_treatment_successful. Do you agree?\n",
    "\n",
    "_ = lab03.grade(\"q2110\")"
   ]
  },
  {
   "cell_type": "markdown",
   "metadata": {},
   "source": [
    "# 3. Arrays: advanced features\n",
    "## 3.0. Review: Array basics\n",
    "Lists are a type of sequence that Python functions sometimes expect you to use.  In particular, to create an array with a few things in it, we create a list of them, then convert it to an array.  We won't use lists much other than this; the important thing is to know how to create them.  To do that, put a comma-separated sequence of expressions inside `[`square brackets`]`. Comma-separated sequences are common in Python; we also use them for the sequence of arguments to a function.\n",
    "\n",
    "**Question 3.0.0.** Create an empty list, a list with one element, and a list with five elements.  Call them `empty_list`, `singleton_list`, and `list_of_five_things`, respectively.  The elements can be whatever you want."
   ]
  },
  {
   "cell_type": "code",
   "execution_count": null,
   "metadata": {
    "collapsed": false
   },
   "outputs": [],
   "source": [
    "empty_list = ...\n",
    "singleton_list = ...\n",
    "list_of_five_things = ...\n",
    "\n",
    "# For your convenience, this just makes sure the cell displays\n",
    "# all of your lists in one big list:\n",
    "[empty_list, singleton_list, list_of_five_things]"
   ]
  },
  {
   "cell_type": "code",
   "execution_count": null,
   "metadata": {
    "collapsed": false
   },
   "outputs": [],
   "source": [
    "_ = lab03.grade(\"q300\")"
   ]
  },
  {
   "cell_type": "markdown",
   "metadata": {},
   "source": [
    "There are two main ways to make an array.  `np.array` takes a single argument, which should be a list.  It returns an array with the same elements as that list.\n",
    "\n",
    "**Question 3.0.1.** Using `np.array`, create an array called `array_of_three_things` with 3 elements in it.  The elements can be whatever you want.  (Note, though, that all the elements of an array must always be the same *type*, or you'll see an error message.)"
   ]
  },
  {
   "cell_type": "code",
   "execution_count": null,
   "metadata": {
    "collapsed": false
   },
   "outputs": [],
   "source": [
    "array_of_three_things = ...\n",
    "array_of_three_things"
   ]
  },
  {
   "cell_type": "code",
   "execution_count": null,
   "metadata": {
    "collapsed": false
   },
   "outputs": [],
   "source": [
    "_ = lab03.grade(\"q301\")"
   ]
  },
  {
   "cell_type": "markdown",
   "metadata": {},
   "source": [
    "**Question 3.0.2.** How many arguments did you pass to `np.array` in your code for the previous question?  Set `number_of_arguments` to that number."
   ]
  },
  {
   "cell_type": "code",
   "execution_count": null,
   "metadata": {
    "collapsed": true
   },
   "outputs": [],
   "source": [
    "number_of_arguments = ..."
   ]
  },
  {
   "cell_type": "code",
   "execution_count": null,
   "metadata": {
    "collapsed": false
   },
   "outputs": [],
   "source": [
    "_ = lab03.grade(\"q302\")"
   ]
  },
  {
   "cell_type": "markdown",
   "metadata": {},
   "source": [
    "`np.arange` is the other way to make an array, and it takes 3 arguments: An initial value, a stop value, and an increment.  It returns an array that starts with the initial value and counts up by the increment, stopping before the stop value is reached.  You can also call `np.arange` with 2 arguments, in which case the increment is 1; or you can call it with 1 argument, in which case the increment is 1 and initial value is 0.  You can call `np.arange` with non-integer arguments if you want, for example, to count up by a fraction."
   ]
  },
  {
   "cell_type": "markdown",
   "metadata": {},
   "source": [
    "**Question 3.0.3.** Inspect the results of some call to `np.arange` to find the smallest number `funny` such that $\\frac{3}{\\mathit{funny}}$ contains the digits 789 consecutively within its first 8 digits."
   ]
  },
  {
   "cell_type": "code",
   "execution_count": null,
   "metadata": {
    "collapsed": true
   },
   "outputs": [],
   "source": [
    "# Complete this call to np.arange and inspect the result so that you can fill in the\n",
    "# value for joke in the next cell. You can just assign joke directly to an integer.\n",
    "\n",
    "np.arange(...)"
   ]
  },
  {
   "cell_type": "code",
   "execution_count": null,
   "metadata": {
    "collapsed": false
   },
   "outputs": [],
   "source": [
    "joke = ..."
   ]
  },
  {
   "cell_type": "code",
   "execution_count": null,
   "metadata": {
    "collapsed": false
   },
   "outputs": [],
   "source": [
    "_ = lab03.grade(\"q303\")"
   ]
  },
  {
   "cell_type": "markdown",
   "metadata": {},
   "source": [
    "Items in an array can be selected by their *index*, which counts up from 0 for the first element. The index is always one less than the position in common English. You can also think of an item's index as the number of elements before it.\n",
    "\n",
    "Here's an array:\n",
    "\n",
    "    np.array([5.2, 3.0, 42, -1.0, 7.5])\n",
    "\n",
    "Run the next cell to see a display of its items, their positions, and their indices:"
   ]
  },
  {
   "cell_type": "code",
   "execution_count": null,
   "metadata": {
    "collapsed": false
   },
   "outputs": [],
   "source": [
    "# Just run this cell and see what it prints.  This is a preview of Tables!\n",
    "Table().with_columns([\n",
    "    \"Item\",                  [5.2    , 3.0     , 42     , -1.0    , 7.5    ],\n",
    "    \"Position (in English)\", [\"first\", \"second\", \"third\", \"fourth\", \"fifth\"],\n",
    "    \"Index (in Python)\",     [0      , 1       , 2      , 3       , 4      ]\n",
    "    ])"
   ]
  },
  {
   "cell_type": "markdown",
   "metadata": {},
   "source": [
    "**Question 3.0.4.** What's the index of the last element in the array `six_hundred_to_1001`, which is defined below?"
   ]
  },
  {
   "cell_type": "code",
   "execution_count": null,
   "metadata": {
    "collapsed": true
   },
   "outputs": [],
   "source": [
    "# An array of the numbers 600, 601, ..., 1001:\n",
    "six_hundred_to_1001 = np.arange(600, 1001+1, 1)\n",
    "\n",
    "# Manually set index_of_last_element to the index of the last\n",
    "# element of the above array.\n",
    "index_of_last_element = ..."
   ]
  },
  {
   "cell_type": "code",
   "execution_count": null,
   "metadata": {
    "collapsed": false
   },
   "outputs": [],
   "source": [
    "_ = lab03.grade(\"q304\")"
   ]
  },
  {
   "cell_type": "markdown",
   "metadata": {},
   "source": [
    "## 3.1. Elementwise operations on arrays\n",
    "Last time, you saw an example of a function (`np.log10`) that performs the same operation on each element of an array (in this case, taking the logarithm, base 10) and produces a new array with the results of those operations.  Functions that handle arrays this way are called *elementwise* functions.  (NumPy actually calls them \"universal\" functions, but that terminology isn't widely used.  Some people call them \"entry-wise\" functions.)  Many other NumPy functions, including `np.sqrt`, work elementwise on arrays."
   ]
  },
  {
   "cell_type": "markdown",
   "metadata": {},
   "source": [
    "<img width=300px src=\"array_sqrt.jpg\">"
   ]
  },
  {
   "cell_type": "markdown",
   "metadata": {},
   "source": [
    "**Question 3.1.0.** Use `np.arange` and the function `np.sqrt` to find the square roots of all the integers from 0 to 20 (including 0 and 20) in one short line of code.  Name the result `small_square_roots`. (Before looking at the result, try figuring out how many will be integers themselves.)"
   ]
  },
  {
   "cell_type": "code",
   "execution_count": null,
   "metadata": {
    "collapsed": false
   },
   "outputs": [],
   "source": [
    "small_square_roots = ...\n",
    "small_square_roots"
   ]
  },
  {
   "cell_type": "code",
   "execution_count": null,
   "metadata": {
    "collapsed": false
   },
   "outputs": [],
   "source": [
    "_ = lab03.grade(\"q310\")"
   ]
  },
  {
   "cell_type": "markdown",
   "metadata": {},
   "source": [
    "[The textbook's section on arrays](http://www.inferentialthinking.com/chapter1/arrays.html) has a useful list of NumPy functions that are designed to work elementwise.\n",
    "\n",
    "Most of the arithmetic and logical operators you've seen work elementwise, too.  You can multiply each number in an array by .18 like this:"
   ]
  },
  {
   "cell_type": "code",
   "execution_count": null,
   "metadata": {
    "collapsed": true
   },
   "outputs": [],
   "source": [
    "restaurant_bills = np.array([20.12, 39.90, 31.01])\n",
    "tips = .18 * restaurant_bills"
   ]
  },
  {
   "cell_type": "markdown",
   "metadata": {},
   "source": [
    "`tips` is now an array of length 3.  Its first element is $.18 \\times 20.12$, its second element is $.18 \\times 39.90$, and its third element is $.18 \\times 31.01$.\n",
    "\n",
    "<img width=300px src=\"array_multiply.jpg\">\n",
    "\n",
    "`/`, `+`, `-`, and `**` all work the same way.  Note that, just like `8 / 9` and `9 / 8` mean different things,\n",
    "\n",
    "    np.array([2, 3]) / 5\n",
    "and \n",
    "\n",
    "    5 / np.array([2, 3])\n",
    "have different values.  Order also matters for `-` and `**`.  Here's a picture of `np.array([2, 3]) / 5`:\n",
    "\n",
    "<img width=300px src=\"array_divide_left.jpg\">\n",
    "\n",
    "...and here's a picture of `5 / np.array([2, 3])`:\n",
    "\n",
    "<img width=300px src=\"array_divide_right.jpg\">\n",
    "\n",
    "If it's still unclear, mess around with math operators in the next cell."
   ]
  },
  {
   "cell_type": "code",
   "execution_count": null,
   "metadata": {
    "collapsed": true
   },
   "outputs": [],
   "source": [
    "# Experiment with math operators here, if you want."
   ]
  },
  {
   "cell_type": "markdown",
   "metadata": {},
   "source": [
    "**Question 3.1.1.** Suppose we have an array containing tumor sizes *in centimeters* for many patients, and we want to display them *in inches* for American patients who don't understand centimeters.  There are 2.54 centimeters in an inch. Round each result to 2 decimal places."
   ]
  },
  {
   "cell_type": "code",
   "execution_count": null,
   "metadata": {
    "collapsed": false
   },
   "outputs": [],
   "source": [
    "# Tumor sizes of some cancer patients, in centimeters:\n",
    "tumor_sizes_cm = np.array([0.05, 0.00, 1.20, 0.42, 0.0])\n",
    "\n",
    "# Set this to an array of the same tumor sizes, but in inches:\n",
    "tumor_sizes_inches = ...\n",
    "tumor_sizes_inches"
   ]
  },
  {
   "cell_type": "code",
   "execution_count": null,
   "metadata": {
    "collapsed": false
   },
   "outputs": [],
   "source": [
    "_ = lab03.grade(\"q311\")"
   ]
  },
  {
   "cell_type": "markdown",
   "metadata": {},
   "source": [
    "**Question 3.1.2.** The `n`ths place of a number (such as the tenths or hundredths place) can be computed by multiplying by n, rounding down to the nearest integer using `np.floor`, and then finding the remainder of dividing the result by 10. As an example, the cell below already computes the hundredths place of `pi`, which is the **4** in **3.14159**. In the following cell, create an array of the first 12 digits of pi and call it `pi_digits`. \n",
    "\n",
    "Using elementwise operators, you can do it in one line. *Hint: First try to create the array `[1, 10, 100, ..., 1e11]` from `np.arange(12)`.*"
   ]
  },
  {
   "cell_type": "code",
   "execution_count": null,
   "metadata": {
    "collapsed": false
   },
   "outputs": [],
   "source": [
    "import math\n",
    "n = 100\n",
    "np.floor(n * math.pi) % 10"
   ]
  },
  {
   "cell_type": "code",
   "execution_count": null,
   "metadata": {
    "collapsed": false
   },
   "outputs": [],
   "source": [
    "pi_digits = ...\n",
    "pi_digits"
   ]
  },
  {
   "cell_type": "code",
   "execution_count": null,
   "metadata": {
    "collapsed": false
   },
   "outputs": [],
   "source": [
    "_ = lab03.grade(\"q312\")"
   ]
  },
  {
   "cell_type": "markdown",
   "metadata": {},
   "source": [
    "## 3.2. Elementwise comparisons on arrays\n",
    "We can also perform many comparisons at once using arrays.  Suppose we have an array of people's heights:\n",
    "\n",
    "    heights_in_meters = np.array([1.5, 1.4, 2.0])\n",
    "and we want to know whether each height is greater than 1.6.  We can do this with:\n",
    "\n",
    "    heights_in_meters > 1.6\n",
    "\n",
    "The result of this is a new array of *boolean* values with the same length as `heights_in_meters`.  Here is a picture of how it is computed:\n",
    "\n",
    "<img width=300px src=\"array_compare.jpg\">\n",
    "\n",
    "The same works for the other numerical comparison operators (`<`, `>=`, and `>`) and for equality comparison (`==` and `!=`).\n",
    "\n",
    "**Question 3.2.0.** Suppose we have data from a study on HSV2 infection (a common sexually-transmitted infection).  For each person surveyed, the surveyors wrote down \"positive\" if the person had HSV2 and \"negative\" otherwise.  Example results are in `hsv2_status_strings` in the cell below.  It's more useful for analysis to have an array of boolean values, `True` for HSV2-positive people and `False` for HSV2-negative people.  In the cell below, make that array and call it `hsv2_status`."
   ]
  },
  {
   "cell_type": "code",
   "execution_count": null,
   "metadata": {
    "collapsed": false
   },
   "outputs": [],
   "source": [
    "hsv2_status_strings = np.array(['negative', 'negative', 'positive', 'negative', 'negative', 'negative', 'positive', 'positive', 'positive', 'negative'])\n",
    "\n",
    "# Set hsv2_statuses to an array of boolean values of the same length as\n",
    "# hsv2_status_strings.  Each element should be True if that person is\n",
    "# HSV2-positive (according to hsv2_status_strings) and false otherwise.\n",
    "hsv2_statuses = ...\n",
    "hsv2_statuses"
   ]
  },
  {
   "cell_type": "code",
   "execution_count": null,
   "metadata": {
    "collapsed": false
   },
   "outputs": [],
   "source": [
    "_ = lab03.grade(\"q320\")"
   ]
  },
  {
   "cell_type": "markdown",
   "metadata": {},
   "source": [
    "## 3.3. Combining two arrays\n",
    "Sometimes we don't just want to do the same thing to each element of an array.  Instead, we might have two datasets, and we want to combine them in some way.\n",
    "\n",
    "For example, suppose we are studying the sleeping habits of couples in which a female partner has recently given birth, and we have data from 100 couples.   We have the data in two arrays:\n",
    "* `mother_sleep`: For each couple, the average number of hours slept by the mother.\n",
    "* `partner_sleep`: For each couple, the average number of hours slept by the mother's partner.\n",
    "\n",
    "To find out whether the mother in each couple sleeps more, we can say:\n",
    "\n",
    "    mother_sleep > partner_sleep\n",
    "\n",
    "The result is an array of 100 boolean values.  Each value is `True` if the mother in that couple sleeps more than her partner, and `False` otherwise.  Here's a picture of what happens with the first 3 elements:\n",
    "\n",
    "<img width=500px src=\"array_pair_compare.jpg\">\n",
    "\n",
    "We can do the same with many other operators:\n",
    "* `+`, `-`, `*`, `/`, and `**` perform mathematical operations on each corresponding pair of values in two arrays, producing an array of numbers.\n",
    "* `>`, `<`, `>=`, `<=`, `==`, and `!=` compare corresponding pairs of values in two arrays, producing an array of boolean values.\n",
    "* Unfortunately, `and` and `or` don't work on NumPy arrays, but NumPy provides special functions instead: `np.logical_and` and `np.logical_or`.  For example, `np.logical_and` takes two arrays of boolean values as arguments and returns an array where each element is the `and` of the corresponding elements.\n",
    "\n",
    "<img width=500px src=\"array_pair_and.jpg\">"
   ]
  },
  {
   "cell_type": "markdown",
   "metadata": {},
   "source": [
    "**Question 3.3.0.** Suppose you are studying personal finance, and you have data about the wealth of 6 people.  For each person in the dataset, you observed that person's wealth twice, separated by some number of years, and you recorded two numbers, putting them into two separate arrays:\n",
    "* The ratio $\\frac{\\text{wealth when observed again}}{\\text{wealth when first observed}}$, which goes in the array `wealth_ratios`.\n",
    "* The number of years in between the observations, which goes in the array `observation_intervals`.\n",
    "\n",
    "For example, Ananya was the first study participant, and you saw that she had \\$1000 when you first observed her and \\$1200 when you observed her two years later, so you recorded the ratio $1.2$ as the first element of `wealth_ratios` and the number of years 2 as the first element of `observation_intervals`.\n",
    "\n",
    "In the cell below, compute the *annual rate of wealth growth* for each person.  *Hint:* Recall the formula:\n",
    "$$\\text{rate of growth after }t\\text{ periods} = \\left(\\frac{\\text{after}}{\\text{before}}\\right)^{\\frac{1}{t}} - 1$$"
   ]
  },
  {
   "cell_type": "code",
   "execution_count": null,
   "metadata": {
    "collapsed": false
   },
   "outputs": [],
   "source": [
    "# The data you collected:\n",
    "wealth_ratios = np.array([1.2, 1.1, 0.9, 1.5, 3.9, 0.5])\n",
    "observation_intervals = np.array([2, 0.5, 1.5, 2, 2, 0.2])\n",
    "\n",
    "# Set this to an array of annual rates of wealth growth,\n",
    "# one for each of the 6 study participants.\n",
    "growth_rates = ...\n",
    "growth_rates"
   ]
  },
  {
   "cell_type": "code",
   "execution_count": null,
   "metadata": {
    "collapsed": false
   },
   "outputs": [],
   "source": [
    "_ = lab03.grade(\"q330\")"
   ]
  },
  {
   "cell_type": "markdown",
   "metadata": {},
   "source": [
    "**Question 3.3.1.** Consider the hypothetical radiation experiment again.  Suppose we know that a person's tolerance for radiation actually depends on his or her weight; larger bodies can absorb more radiation.  Say that the formula is:\n",
    "$$\\text{maximum radiation tolerance (rads)} = 8000 + 100 \\times (\\text{weight_in_kg} - 60)$$"
   ]
  },
  {
   "cell_type": "markdown",
   "metadata": {},
   "source": [
    "The cell below has the weights, radiation treatment levels, and post-therapy tumor sizes of 5 (hypothetical) patients.  Using the array operations you've learned, determine whether the therapy was successful for each.  (Remember, we have decided that the therapy was successful for a patient if the radiation level was below the tolerance for a person with that weight, *and* the patient's post-therapy tumor size was less than 0.1 cm.)\n",
    "\n",
    "*Hint:* You'll need to use several array operations for this question.  You can do it in one line.  If you're having trouble, though, you might want to build up to the answer by defining some intermediate arrays, like the array of maximum radiation tolerances for the 5 patients. *Ask questions if you're stuck! That's how you learn.*"
   ]
  },
  {
   "cell_type": "code",
   "execution_count": null,
   "metadata": {
    "collapsed": false
   },
   "outputs": [],
   "source": [
    "weights = np.array([81.03, 113.79, 103.53, 70.32, 89.24])\n",
    "radiation_levels = np.array([9791.0, 11449.0, 11157.0, 7166.0, 11300.0])\n",
    "# Tumor size data are the same as those in Question 3.1.1, but we've\n",
    "# redefined them here for convenience.\n",
    "tumor_sizes_cm = np.array([0.05, 0.00, 1.2, 0.42, 0.0])\n",
    "\n",
    "# Set treatments_successful to an array of boolean values, one for\n",
    "# each of the 5 patients.  The value for a patient should be True if\n",
    "# the treatment was successful for that patient and False otherwise.\n",
    "treatments_successful = ...\n",
    "treatments_successful"
   ]
  },
  {
   "cell_type": "code",
   "execution_count": null,
   "metadata": {
    "collapsed": false
   },
   "outputs": [],
   "source": [
    "_ = lab03.grade(\"q331\")"
   ]
  },
  {
   "cell_type": "markdown",
   "metadata": {},
   "source": [
    "## 3.4. How many successful treatments?\n",
    "Suppose we want to know how many treatments were successful. The function `np.count_nonzero` counts the number of `True` values in an array of boolean values.  (It would be better if the name were `count_true`, but sometimes we have to live with bad names.)\n",
    "\n",
    "**Question 3.4.0.** Use `np.count_nonzero` and the `len` function to compute the *proportion* of successful treatments (`True` values in `successful_treatments`)."
   ]
  },
  {
   "cell_type": "code",
   "execution_count": null,
   "metadata": {
    "collapsed": false
   },
   "outputs": [],
   "source": [
    "proportion_successful = ...\n",
    "proportion_successful"
   ]
  },
  {
   "cell_type": "code",
   "execution_count": null,
   "metadata": {
    "collapsed": false
   },
   "outputs": [],
   "source": [
    "_ = lab03.grade(\"q340\")"
   ]
  },
  {
   "cell_type": "markdown",
   "metadata": {},
   "source": [
    "# 4. Tables\n",
    "\n",
    "As you can see, arrays are conceptually simple but are a surprisingly powerful tool for working with data. \n",
    "\n",
    "For example, here's an array with the ratings of the top 10 rated movies on IMDb (datasets are available at http://www.imdb.com/interfaces)."
   ]
  },
  {
   "cell_type": "code",
   "execution_count": null,
   "metadata": {
    "collapsed": false
   },
   "outputs": [],
   "source": [
    "# Ratings are on a scale from 1-10\n",
    "top_ten_ratings = np.array([9.2, 9.2, 9.0, 8.9, 8.9, 8.9, 8.9, 8.9, 8.9, 8.8])\n",
    "\n",
    "min(top_ten_ratings) # Get the lowest rating of the top 10 movies"
   ]
  },
  {
   "cell_type": "code",
   "execution_count": null,
   "metadata": {
    "collapsed": false
   },
   "outputs": [],
   "source": [
    "max(top_ten_ratings) # Get the highest rating\n",
    "\n",
    "# Are these numbers not what you expected? Remember, floating point arithmetic is approximate"
   ]
  },
  {
   "cell_type": "markdown",
   "metadata": {},
   "source": [
    "But! What if we want to get the **name** of the highest and lowest rated movies?\n",
    "\n",
    "Now we need a way to associate a movie title with its rating. In fact, we might want to associate a title with other information as well, such as how many votes it got.\n",
    "\n",
    "As a puzzle, we invite you to think about how you would do this with arrays."
   ]
  },
  {
   "cell_type": "markdown",
   "metadata": {},
   "source": [
    "## 4.0 Creating Tables\n",
    "The solution that we use in this class is the **`Table`** object. You can think of a `Table` as a collection of arrays.  Each array contains a different attribute of the things described by the `Table`.  A `Table` of movies might include a title, rating, and other information about each one.  The titles constitute one column, and the ratings are another column.  Each movie is a *row* of the `Table`.\n",
    "\n",
    "Here's how to make a `Table` with the top three highest-rated movies:"
   ]
  },
  {
   "cell_type": "code",
   "execution_count": null,
   "metadata": {
    "collapsed": false
   },
   "outputs": [],
   "source": [
    "Table().with_columns([\n",
    "        'Votes',  [1498733, 1027398, 692753],\n",
    "        'Rating', [9.2, 9.2, 9.0],\n",
    "        'Title',  ['The Shawshank Redemption (1994)', 'The Godfather (1972)', 'The Godfather: Part II (1974)'],\n",
    "        'Year',   [1994, 1972, 1974],\n",
    "        'Decade', [1990, 1970, 1970]\n",
    "    ])"
   ]
  },
  {
   "cell_type": "markdown",
   "metadata": {},
   "source": [
    "Let's break that down.\n",
    "\n",
    "First, we create a new `Table` with the function call `Table()`. Then, we specify what data the `Table` contains by calling `with_columns`.\n",
    "\n",
    "We've done something like this before. For example, compare these two lines of code:\n",
    "    \n",
    "    'hElLo WOrld'.lower()\n",
    "          Table().with_column('x', [1, 2, 3])\n",
    "\n",
    "These two lines both follow the syntax of `<some object>.<method call>`.\n",
    "\n",
    "In the first case, the object is a string. In the second, the object is an empty `Table`.\n",
    "\n",
    "In the first case, the method call is `lower()`. In the second, the method call is `with_column('x', [1, 2, 3])`.\n",
    "\n",
    "The argument to `with_columns` is a list containing a column name (which is a *string*), then the values for that column (in a list), then possibly more column name and values. The names and values must alternate.\n",
    "\n",
    "For example, this works:"
   ]
  },
  {
   "cell_type": "code",
   "execution_count": null,
   "metadata": {
    "collapsed": false
   },
   "outputs": [],
   "source": [
    "# These two are the exact same code; the second example has line breaks, but to\n",
    "# Python they're exactly the same.\n",
    "\n",
    "Table().with_columns(['Age', [10, 11], 'Name', ['Sam', 'Henry']])\n",
    "\n",
    "Table().with_columns([\n",
    "        'Age', [10, 11],\n",
    "        'Name', ['Sam', 'Henry']\n",
    "    ])"
   ]
  },
  {
   "cell_type": "markdown",
   "metadata": {},
   "source": [
    "But this doesn't because the third item isn't a string:"
   ]
  },
  {
   "cell_type": "code",
   "execution_count": null,
   "metadata": {
    "collapsed": false
   },
   "outputs": [],
   "source": [
    "Table().with_columns(['Age', 10, 11, 12])"
   ]
  },
  {
   "cell_type": "markdown",
   "metadata": {},
   "source": [
    "**Question 4.0.0.** Create a `Table` with the variable name `xy_points` that looks like this:\n",
    "\n",
    "    x    | y\n",
    "    0    | 2\n",
    "    1    | 4\n",
    "    2    | 6\n",
    "    3    | 8\n",
    "    4    | 10\n",
    "    \n",
    "The name of the first column is the *string* `x`; the name of the second is the string `y`."
   ]
  },
  {
   "cell_type": "code",
   "execution_count": null,
   "metadata": {
    "collapsed": false
   },
   "outputs": [],
   "source": [
    "xy_points = ...\n",
    "print(xy_points)"
   ]
  },
  {
   "cell_type": "code",
   "execution_count": null,
   "metadata": {
    "collapsed": false
   },
   "outputs": [],
   "source": [
    "_ = lab03.grade(\"q400\")"
   ]
  },
  {
   "cell_type": "markdown",
   "metadata": {},
   "source": [
    "## 4.1. Loading a dataset into a `Table`\n",
    "\n",
    "Of course, we'd like to work with bigger datasets. We can read in data from files by using `Table.read_table`.\n",
    "\n",
    "The `imdb` table in the cell below contains the top 250 rated movies on IMDb in no particular order."
   ]
  },
  {
   "cell_type": "code",
   "execution_count": null,
   "metadata": {
    "collapsed": false
   },
   "outputs": [],
   "source": [
    "imdb = Table.read_table('imdb_ratings.csv')\n",
    "imdb"
   ]
  },
  {
   "cell_type": "markdown",
   "metadata": {},
   "source": [
    "Notice the part about \"... (240 rows omitted).\"  This table is big enough that only a few of its rows are displayed, but the others are still there.\n",
    "\n",
    "Where did the `imdb_ratings.csv` come from? Take a look at [your `lab03` folder](./). You should see a `imdb_ratings.csv` file.\n",
    "\n",
    "`Table.read_table` takes in the name of a file or URL as an argument.\n",
    "\n",
    "Open up the `imdb_ratings.csv` file and look at the format. What do you notice? The `.csv` filename ending says that this file is in the [CSV (comma-separated value) format](http://edoceo.com/utilitas/csv-file-format)."
   ]
  },
  {
   "cell_type": "markdown",
   "metadata": {},
   "source": [
    "**Question 4.1.0.** Create your own CSV file called `my_data.csv` inside your `lab03` folder, then load it into a `Table` called `my_data`.\n",
    "\n",
    "You can create the file by going to the lab03/ folder and clicking the \"New -> Text File\" button.\n",
    "\n",
    "The `my_data` `Table` must have **two columns** and **three rows**. It can have whatever values you want."
   ]
  },
  {
   "cell_type": "code",
   "execution_count": null,
   "metadata": {
    "collapsed": false,
    "scrolled": false
   },
   "outputs": [],
   "source": [
    "my_data = Table.read_table('my_data.csv') #SOlUTION\n",
    "my_data"
   ]
  },
  {
   "cell_type": "code",
   "execution_count": null,
   "metadata": {
    "collapsed": false
   },
   "outputs": [],
   "source": [
    "_ = lab03.grade(\"q410\")"
   ]
  },
  {
   "cell_type": "markdown",
   "metadata": {},
   "source": [
    "## 4.2. Accessing data in tables\n",
    "\n",
    "Use the `column` method to get values out of a `Table`.  It takes the name of a column and returns that column.  A column is just an array."
   ]
  },
  {
   "cell_type": "code",
   "execution_count": null,
   "metadata": {
    "collapsed": false,
    "scrolled": true
   },
   "outputs": [],
   "source": [
    "imdb.column('Year')"
   ]
  },
  {
   "cell_type": "markdown",
   "metadata": {},
   "source": [
    "**Question 4.2.0.** Set `third_movie_title` to the title of the third movie in the `imdb` table. Try doing it without adding lines of code if you can."
   ]
  },
  {
   "cell_type": "code",
   "execution_count": null,
   "metadata": {
    "collapsed": false
   },
   "outputs": [],
   "source": [
    "# Set third_movie_title to the title of the third movie in the imbd table.\n",
    "third_movie_title = ...\n",
    "third_movie_title"
   ]
  },
  {
   "cell_type": "code",
   "execution_count": null,
   "metadata": {
    "collapsed": false
   },
   "outputs": [],
   "source": [
    "_ = lab03.grade(\"q420\")"
   ]
  },
  {
   "cell_type": "markdown",
   "metadata": {},
   "source": [
    "**Question 4.2.1.** Set `oldest_year` to the release year of the oldest movie in the `imdb` table."
   ]
  },
  {
   "cell_type": "code",
   "execution_count": null,
   "metadata": {
    "collapsed": false
   },
   "outputs": [],
   "source": [
    "oldest_year = ...\n",
    "oldest_year"
   ]
  },
  {
   "cell_type": "code",
   "execution_count": null,
   "metadata": {
    "collapsed": false
   },
   "outputs": [],
   "source": [
    "_ = lab03.grade(\"q421\")"
   ]
  },
  {
   "cell_type": "markdown",
   "metadata": {},
   "source": [
    "# 5. Doing interesting things with tables\n",
    "\n",
    "These questions are more interesting but are a bit tougher! If you get stuck, ask for help from a classmate or your GSI.\n",
    "\n",
    "There are lots more things tables can do, but it's more fun to learn by doing rather than learning each method individually. We'll be introducing the methods needed to complete each question as they're needed."
   ]
  },
  {
   "cell_type": "code",
   "execution_count": null,
   "metadata": {
    "collapsed": false
   },
   "outputs": [],
   "source": [
    "# Here's what the imdb table looks like for reference\n",
    "imdb"
   ]
  },
  {
   "cell_type": "markdown",
   "metadata": {},
   "source": [
    "**Question 5.0.** Find the **title** of the movie that received the least number of votes. Store that value in `least_voted_movie`.\n",
    "\n",
    "The `sort` method takes in one argument: the name of a column as a string. Try `imdb.sort('Year')` and see what happens. (Optionally, you can add `descending=True` as a second argument to sort in the opposite order.)\n",
    "\n",
    "For this and the rest of the problems, feel free to use additional names if they help you with the problem.\n",
    "\n",
    "As an extra challenge, try solving each of the following problems in one line of code."
   ]
  },
  {
   "cell_type": "code",
   "execution_count": null,
   "metadata": {
    "collapsed": false
   },
   "outputs": [],
   "source": [
    "least_voted_movie = ...\n",
    "least_voted_movie"
   ]
  },
  {
   "cell_type": "code",
   "execution_count": null,
   "metadata": {
    "collapsed": false
   },
   "outputs": [],
   "source": [
    "_ = lab03.grade(\"q50\")"
   ]
  },
  {
   "cell_type": "markdown",
   "metadata": {},
   "source": [
    "**Question 5.1.** Find the rating of the oldest movie. Store the value in `oldest_rating`."
   ]
  },
  {
   "cell_type": "code",
   "execution_count": null,
   "metadata": {
    "collapsed": false
   },
   "outputs": [],
   "source": [
    "oldest_rating = ...\n",
    "oldest_rating"
   ]
  },
  {
   "cell_type": "code",
   "execution_count": null,
   "metadata": {
    "collapsed": false
   },
   "outputs": [],
   "source": [
    "_ = lab03.grade(\"q51\")"
   ]
  },
  {
   "cell_type": "markdown",
   "metadata": {},
   "source": [
    "Here's a table with data on five of the staff members:"
   ]
  },
  {
   "cell_type": "code",
   "execution_count": null,
   "metadata": {
    "collapsed": false
   },
   "outputs": [],
   "source": [
    "staff = Table.read_table('staff_small.csv')\n",
    "staff"
   ]
  },
  {
   "cell_type": "markdown",
   "metadata": {},
   "source": [
    "The `select` method takes in one input: a list of column names. Try running `staff.select(['Email', 'Gender'])`.\n",
    "\n",
    "**Question 5.2.** Set `names_only` to a `Table` containing the first and last names of the 5 staff members."
   ]
  },
  {
   "cell_type": "code",
   "execution_count": null,
   "metadata": {
    "collapsed": false
   },
   "outputs": [],
   "source": [
    "names_only = ...\n",
    "names_only"
   ]
  },
  {
   "cell_type": "code",
   "execution_count": null,
   "metadata": {
    "collapsed": false
   },
   "outputs": [],
   "source": [
    "_ = lab03.grade(\"q52\")"
   ]
  },
  {
   "cell_type": "markdown",
   "metadata": {},
   "source": [
    "**Question 5.3.** The `where` method takes in an list or array of booleans and returns a table containing only the rows where the array contained `True`. Try running `staff.where([True, False, True, False, True])`.\n",
    "\n",
    "Set `evens_only` to a table containing the second and fourth rows of the `staff` table."
   ]
  },
  {
   "cell_type": "code",
   "execution_count": null,
   "metadata": {
    "collapsed": false
   },
   "outputs": [],
   "source": [
    "evens_only = ...\n",
    "evens_only"
   ]
  },
  {
   "cell_type": "code",
   "execution_count": null,
   "metadata": {
    "collapsed": false
   },
   "outputs": [],
   "source": [
    "_ = lab03.grade(\"q53\")"
   ]
  },
  {
   "cell_type": "markdown",
   "metadata": {},
   "source": [
    "**Question 5.4.** Set `with_pets` to a Table containing only the staff members with at least one pet.\n",
    "\n",
    "Remember how arrays behave with math operators:\n",
    "\n",
    "    >>> np.array([2, 3, 4, 5, 6]) > 4\n",
    "    array([False, False, False, True, True])\n",
    "\n",
    "See if you can use this fact to solve this problem.\n",
    "\n",
    "*Hint:* Remember the `column` method?  It returns an array."
   ]
  },
  {
   "cell_type": "code",
   "execution_count": null,
   "metadata": {
    "collapsed": false
   },
   "outputs": [],
   "source": [
    "with_pets = ...\n",
    "with_pets"
   ]
  },
  {
   "cell_type": "code",
   "execution_count": null,
   "metadata": {
    "collapsed": false
   },
   "outputs": [],
   "source": [
    "_ = lab03.grade(\"q54\")"
   ]
  },
  {
   "cell_type": "markdown",
   "metadata": {},
   "source": [
    "**Question 5.5.** Set `great_movies` to a Table containing only the movies with rating greater than or equal to 9.0 in order of release from oldest to newest.\n",
    "\n",
    "If you didn't use the hint from the last question, you'll need it now."
   ]
  },
  {
   "cell_type": "code",
   "execution_count": null,
   "metadata": {
    "collapsed": false
   },
   "outputs": [],
   "source": [
    "great_movies = ...\n",
    "great_movies"
   ]
  },
  {
   "cell_type": "code",
   "execution_count": null,
   "metadata": {
    "collapsed": false
   },
   "outputs": [],
   "source": [
    "list(great_movies.column('Year'))"
   ]
  },
  {
   "cell_type": "code",
   "execution_count": null,
   "metadata": {
    "collapsed": false
   },
   "outputs": [],
   "source": [
    "_ = lab03.grade(\"q55\")"
   ]
  },
  {
   "cell_type": "markdown",
   "metadata": {},
   "source": [
    "**Question 5.6.** Set `odd_ones` to a Table containing the movies in the `imdb` table that were released on odd years. For example, you should not include movies from 1936 and should include movies from 1985.\n",
    "\n",
    "The `%` operator computes the remainder (it's also called the modulo operator).\n",
    "\n",
    "`a % b` is the remainder produced from `a / b`.\n",
    "\n",
    "Try these statements out:\n",
    "\n",
    "    5 % 3\n",
    "    6 % 3\n",
    "    7 % 3\n",
    "    8 % 3\n",
    "    np.array([2, 5, 8]) % 3\n",
    "\n",
    "Then, see if you can use this knowledge to construct the `odd_ones` table."
   ]
  },
  {
   "cell_type": "code",
   "execution_count": null,
   "metadata": {
    "collapsed": false
   },
   "outputs": [],
   "source": [
    "odd_ones = ...\n",
    "odd_ones"
   ]
  },
  {
   "cell_type": "code",
   "execution_count": null,
   "metadata": {
    "collapsed": false
   },
   "outputs": [],
   "source": [
    "_ = lab03.grade(\"q56\")"
   ]
  },
  {
   "cell_type": "markdown",
   "metadata": {},
   "source": [
    "**Question 5.7.** All the staff in the `staff` table have one sibling except Fahad, who has two siblings.\n",
    "\n",
    "Set `with_siblings` to the `staff` table with a column called `'# Siblings'` with the number of siblings for each staff member.\n",
    "\n",
    "*Hint:* Use the `with_columns` method?"
   ]
  },
  {
   "cell_type": "code",
   "execution_count": null,
   "metadata": {
    "collapsed": false
   },
   "outputs": [],
   "source": [
    "with_siblings = ...\n",
    "with_siblings"
   ]
  },
  {
   "cell_type": "code",
   "execution_count": null,
   "metadata": {
    "collapsed": false
   },
   "outputs": [],
   "source": [
    "_ = lab03.grade(\"q57\")"
   ]
  },
  {
   "cell_type": "markdown",
   "metadata": {},
   "source": [
    "**Question 5.8.** Oops! It looks like we undercounted the number of pets that each of the staff has by one. For example, Fahad looks like he has 0 pets in the `staff` table but he should have 1.\n",
    "\n",
    "Set `correct_pets` to the `staff` table with the `# Pets` column corrected.\n",
    "\n",
    "The `with_columns` method replaces an existing column if the label is already present."
   ]
  },
  {
   "cell_type": "code",
   "execution_count": null,
   "metadata": {
    "collapsed": false
   },
   "outputs": [],
   "source": [
    "correct_pets = ...\n",
    "correct_pets"
   ]
  },
  {
   "cell_type": "code",
   "execution_count": null,
   "metadata": {
    "collapsed": false
   },
   "outputs": [],
   "source": [
    "_ = lab03.grade(\"q58\")"
   ]
  },
  {
   "cell_type": "markdown",
   "metadata": {},
   "source": [
    "## Whew!\n",
    "\n",
    "Hope you're beginning to see why tables are useful. Think about solving the problems above with just arrays.\n",
    "\n",
    "Onward!"
   ]
  },
  {
   "cell_type": "code",
   "execution_count": null,
   "metadata": {
    "collapsed": false
   },
   "outputs": [],
   "source": [
    "# For your convenience, you can run this cell to run all the tests at once!\n",
    "import os\n",
    "_ = [lab03.grade(q[:-3]) for q in os.listdir(\"tests\") if q.startswith('q')]"
   ]
  },
  {
   "cell_type": "code",
   "execution_count": null,
   "metadata": {
    "collapsed": false
   },
   "outputs": [],
   "source": [
    "# Run this cell to submit your work *after* you have passed all of the test cells.\n",
    "# It's ok to run this cell multiple times. Only your final submission will be scored.\n",
    "\n",
    "!TZ=America/Los_Angeles ipython nbconvert --output=\".lab03_$(date +%m%d_%H%M)_submission.html\" lab03.ipynb && echo \"Submitted Successfully\""
   ]
  }
 ],
 "metadata": {
  "kernelspec": {
   "display_name": "Python 3",
   "language": "python",
   "name": "python3"
  },
  "language_info": {
   "codemirror_mode": {
    "name": "ipython",
    "version": 3
   },
   "file_extension": ".py",
   "mimetype": "text/x-python",
   "name": "python",
   "nbconvert_exporter": "python",
   "pygments_lexer": "ipython3",
   "version": "3.4.4"
  }
 },
 "nbformat": 4,
 "nbformat_minor": 0
}

