{
 "cells": [
  {
   "cell_type": "markdown",
   "metadata": {},
   "source": [
    "# Homework 3 Due Thursday, February 11\n",
    "\n",
    "Please complete this notebook by filling in the cells provided. When you’re done\n",
    "\n",
    "1. Select `Run All` from the `Cell` menu to ensure that you have executed all cells.\n",
    "2. Select `Download as PDF via LaTeX (.pdf)` from the `File` menu\n",
    "3. Read that file! If any of your lines are too long and get cut off, we won't be able to see them,\n",
    "   so break them up into multiple lines and download again.\n",
    "3. Submit that downloaded file called `hw03.pdf` to Gradescope.\n",
    "\n",
    "If you cannot submit online, come to office hours for assistance. The office hours\n",
    "schedule appears on [data8.org/weekly](http://data8.org/weekly).\n",
    "\n",
    "This assignment is due 5pm Thursday, February 11. You will receive an early submission bonus point if you turn it in by 5pm Wednesday, February 10. Directly sharing answers is not okay, but discussing problems with course staff or students is encouraged.\n",
    "\n",
    "Reading:\n",
    "- Textbook section [1.6](http://www.inferentialthinking.com/chapter1/tables.html)\n",
    "- Datascience module documentation at [data8.org/datascience](http://data8.org/datascience)"
   ]
  },
  {
   "cell_type": "markdown",
   "metadata": {},
   "source": [
    "# 0. Preliminaries\n",
    "\n",
    "Run the cell below to import `Table` and `numpy` and prepare the automatic tests. **Passing the automatic tests does not guarantee full credit on any question.** The tests are provided to help catch some common errors, but it is *your* responsibility to answer the questions correctly."
   ]
  },
  {
   "cell_type": "code",
   "execution_count": 1,
   "metadata": {
    "collapsed": false,
    "scrolled": false
   },
   "outputs": [
    {
     "name": "stdout",
     "output_type": "stream",
     "text": [
      "=====================================================================\n",
      "Assignment: HW 03\n",
      "OK, version v1.5.1\n",
      "=====================================================================\n",
      "\n"
     ]
    }
   ],
   "source": [
    "# Please do not change this cell!\n",
    "\n",
    "from datascience import *\n",
    "import numpy as np\n",
    "\n",
    "from client.api.assignment import load_assignment\n",
    "hw03 = load_assignment('hw03.ok')"
   ]
  },
  {
   "cell_type": "markdown",
   "metadata": {
    "collapsed": false
   },
   "source": [
    "The questions in this homework involve a table loaded from [presidentialElections.csv](). This table contains historical voting information, which will get us ready for November. It contains five columns:\n",
    "- A row number\n",
    "- A state name\n",
    "- The percentage of votes that supported the *Democratic Party* candidate for president in a particular state and year\n",
    "- An election year\n",
    "- Whether the state is in the South\n",
    "\n",
    "You can view the contents of this file in your browser by executing the cell below. A separate pane will pop up; you can close it by clicking the `X` in its upper-right corner."
   ]
  },
  {
   "cell_type": "code",
   "execution_count": 2,
   "metadata": {
    "collapsed": true
   },
   "outputs": [],
   "source": [
    "%less presidentialElections.csv"
   ]
  },
  {
   "cell_type": "markdown",
   "metadata": {},
   "source": [
    "# 1. Cleaning the Table"
   ]
  },
  {
   "cell_type": "markdown",
   "metadata": {},
   "source": [
    "**Question 1.0.** Assign the name `full` to the full table read from the `presidentialElections.csv` file. "
   ]
  },
  {
   "cell_type": "code",
   "execution_count": 3,
   "metadata": {
    "collapsed": false
   },
   "outputs": [
    {
     "data": {
      "text/html": [
       "<table border=\"1\" class=\"dataframe\">\n",
       "    <thead>\n",
       "        <tr>\n",
       "            <th>Unnamed: 0</th> <th>state</th> <th>demVote</th> <th>year</th> <th>south</th>\n",
       "        </tr>\n",
       "    </thead>\n",
       "    <tbody>\n",
       "        <tr>\n",
       "            <td>1         </td> <td>Alabama    </td> <td>84.76  </td> <td>1932</td> <td>True </td>\n",
       "        </tr>\n",
       "    </tbody>\n",
       "        <tr>\n",
       "            <td>2         </td> <td>Arizona    </td> <td>67.03  </td> <td>1932</td> <td>False</td>\n",
       "        </tr>\n",
       "    </tbody>\n",
       "        <tr>\n",
       "            <td>3         </td> <td>Arkansas   </td> <td>86.27  </td> <td>1932</td> <td>True </td>\n",
       "        </tr>\n",
       "    </tbody>\n",
       "        <tr>\n",
       "            <td>4         </td> <td>California </td> <td>58.41  </td> <td>1932</td> <td>False</td>\n",
       "        </tr>\n",
       "    </tbody>\n",
       "        <tr>\n",
       "            <td>5         </td> <td>Colorado   </td> <td>54.81  </td> <td>1932</td> <td>False</td>\n",
       "        </tr>\n",
       "    </tbody>\n",
       "        <tr>\n",
       "            <td>6         </td> <td>Connecticut</td> <td>47.4   </td> <td>1932</td> <td>False</td>\n",
       "        </tr>\n",
       "    </tbody>\n",
       "        <tr>\n",
       "            <td>7         </td> <td>Delaware   </td> <td>48.11  </td> <td>1932</td> <td>False</td>\n",
       "        </tr>\n",
       "    </tbody>\n",
       "        <tr>\n",
       "            <td>8         </td> <td>Florida    </td> <td>74.49  </td> <td>1932</td> <td>True </td>\n",
       "        </tr>\n",
       "    </tbody>\n",
       "        <tr>\n",
       "            <td>9         </td> <td>Georgia    </td> <td>91.6   </td> <td>1932</td> <td>True </td>\n",
       "        </tr>\n",
       "    </tbody>\n",
       "        <tr>\n",
       "            <td>10        </td> <td>Idaho      </td> <td>58.7   </td> <td>1932</td> <td>False</td>\n",
       "        </tr>\n",
       "    </tbody>\n",
       "</table>\n",
       "<p>... (1037 rows omitted)</p"
      ],
      "text/plain": [
       "Unnamed: 0 | state       | demVote | year | south\n",
       "1          | Alabama     | 84.76   | 1932 | True\n",
       "2          | Arizona     | 67.03   | 1932 | False\n",
       "3          | Arkansas    | 86.27   | 1932 | True\n",
       "4          | California  | 58.41   | 1932 | False\n",
       "5          | Colorado    | 54.81   | 1932 | False\n",
       "6          | Connecticut | 47.4    | 1932 | False\n",
       "7          | Delaware    | 48.11   | 1932 | False\n",
       "8          | Florida     | 74.49   | 1932 | True\n",
       "9          | Georgia     | 91.6    | 1932 | True\n",
       "10         | Idaho       | 58.7    | 1932 | False\n",
       "... (1037 rows omitted)"
      ]
     },
     "execution_count": 3,
     "metadata": {},
     "output_type": "execute_result"
    }
   ],
   "source": [
    "full = Table.read_table('presidentialElections.csv') # SOLUTION\n",
    "full"
   ]
  },
  {
   "cell_type": "markdown",
   "metadata": {},
   "source": [
    "After each programming question, there will be a test cell that will allow you to check your work. Don't change it; just execute it."
   ]
  },
  {
   "cell_type": "code",
   "execution_count": 4,
   "metadata": {
    "collapsed": false
   },
   "outputs": [
    {
     "name": "stdout",
     "output_type": "stream",
     "text": [
      "~~~~~~~~~~~~~~~~~~~~~~~~~~~~~~~~~~~~~~~~~~~~~~~~~~~~~~~~~~~~~~~~~~~~~\n",
      "Running tests\n",
      "\n",
      "---------------------------------------------------------------------\n",
      "Test summary\n",
      "    Passed: 3\n",
      "    Failed: 0\n",
      "[ooooooooook] 100.0% passed\n",
      "\n"
     ]
    }
   ],
   "source": [
    "_ = hw03.grade('q10')"
   ]
  },
  {
   "cell_type": "markdown",
   "metadata": {},
   "source": [
    "**Question 1.1.** Set `elections` to a table based on `full` that has five columns, labeled `year`, `state`, and `south`, and `democrat`. The first three columns appear in `full` already. The `democrat` column is based on `full`'s `demVote` column. It should contain the *proportion* of voters for the *Democratic Party* candidate in each state and year, a number between 0 and 1."
   ]
  },
  {
   "cell_type": "code",
   "execution_count": 5,
   "metadata": {
    "collapsed": false
   },
   "outputs": [
    {
     "data": {
      "text/html": [
       "<table border=\"1\" class=\"dataframe\">\n",
       "    <thead>\n",
       "        <tr>\n",
       "            <th>year</th> <th>state</th> <th>south</th> <th>democrat</th>\n",
       "        </tr>\n",
       "    </thead>\n",
       "    <tbody>\n",
       "        <tr>\n",
       "            <td>1932</td> <td>Alabama    </td> <td>True </td> <td>0.8476  </td>\n",
       "        </tr>\n",
       "    </tbody>\n",
       "        <tr>\n",
       "            <td>1932</td> <td>Arizona    </td> <td>False</td> <td>0.6703  </td>\n",
       "        </tr>\n",
       "    </tbody>\n",
       "        <tr>\n",
       "            <td>1932</td> <td>Arkansas   </td> <td>True </td> <td>0.8627  </td>\n",
       "        </tr>\n",
       "    </tbody>\n",
       "        <tr>\n",
       "            <td>1932</td> <td>California </td> <td>False</td> <td>0.5841  </td>\n",
       "        </tr>\n",
       "    </tbody>\n",
       "        <tr>\n",
       "            <td>1932</td> <td>Colorado   </td> <td>False</td> <td>0.5481  </td>\n",
       "        </tr>\n",
       "    </tbody>\n",
       "        <tr>\n",
       "            <td>1932</td> <td>Connecticut</td> <td>False</td> <td>0.474   </td>\n",
       "        </tr>\n",
       "    </tbody>\n",
       "        <tr>\n",
       "            <td>1932</td> <td>Delaware   </td> <td>False</td> <td>0.4811  </td>\n",
       "        </tr>\n",
       "    </tbody>\n",
       "        <tr>\n",
       "            <td>1932</td> <td>Florida    </td> <td>True </td> <td>0.7449  </td>\n",
       "        </tr>\n",
       "    </tbody>\n",
       "        <tr>\n",
       "            <td>1932</td> <td>Georgia    </td> <td>True </td> <td>0.916   </td>\n",
       "        </tr>\n",
       "    </tbody>\n",
       "        <tr>\n",
       "            <td>1932</td> <td>Idaho      </td> <td>False</td> <td>0.587   </td>\n",
       "        </tr>\n",
       "    </tbody>\n",
       "</table>\n",
       "<p>... (1037 rows omitted)</p"
      ],
      "text/plain": [
       "year | state       | south | democrat\n",
       "1932 | Alabama     | True  | 0.8476\n",
       "1932 | Arizona     | False | 0.6703\n",
       "1932 | Arkansas    | True  | 0.8627\n",
       "1932 | California  | False | 0.5841\n",
       "1932 | Colorado    | False | 0.5481\n",
       "1932 | Connecticut | False | 0.474\n",
       "1932 | Delaware    | False | 0.4811\n",
       "1932 | Florida     | True  | 0.7449\n",
       "1932 | Georgia     | True  | 0.916\n",
       "1932 | Idaho       | False | 0.587\n",
       "... (1037 rows omitted)"
      ]
     },
     "execution_count": 5,
     "metadata": {},
     "output_type": "execute_result"
    }
   ],
   "source": [
    "elections = full.select(['year', 'state', 'south']).with_column('democrat', full.column('demVote')/100) # SOLUTION\n",
    "elections"
   ]
  },
  {
   "cell_type": "code",
   "execution_count": 6,
   "metadata": {
    "collapsed": false
   },
   "outputs": [
    {
     "name": "stdout",
     "output_type": "stream",
     "text": [
      "~~~~~~~~~~~~~~~~~~~~~~~~~~~~~~~~~~~~~~~~~~~~~~~~~~~~~~~~~~~~~~~~~~~~~\n",
      "Running tests\n",
      "\n",
      "---------------------------------------------------------------------\n",
      "Test summary\n",
      "    Passed: 4\n",
      "    Failed: 0\n",
      "[ooooooooook] 100.0% passed\n",
      "\n"
     ]
    }
   ],
   "source": [
    "_ = hw03.grade('q11')"
   ]
  },
  {
   "cell_type": "markdown",
   "metadata": {},
   "source": [
    "**Question 1.2.** Set the *format* of the `democrat` column in the `elections` table to be percentages (such as `67.03%` instead of `0.6703`)."
   ]
  },
  {
   "cell_type": "code",
   "execution_count": 7,
   "metadata": {
    "collapsed": false
   },
   "outputs": [
    {
     "data": {
      "text/html": [
       "<table border=\"1\" class=\"dataframe\">\n",
       "    <thead>\n",
       "        <tr>\n",
       "            <th>year</th> <th>state</th> <th>south</th> <th>democrat</th>\n",
       "        </tr>\n",
       "    </thead>\n",
       "    <tbody>\n",
       "        <tr>\n",
       "            <td>1932</td> <td>Alabama    </td> <td>True </td> <td>84.76%  </td>\n",
       "        </tr>\n",
       "    </tbody>\n",
       "        <tr>\n",
       "            <td>1932</td> <td>Arizona    </td> <td>False</td> <td>67.03%  </td>\n",
       "        </tr>\n",
       "    </tbody>\n",
       "        <tr>\n",
       "            <td>1932</td> <td>Arkansas   </td> <td>True </td> <td>86.27%  </td>\n",
       "        </tr>\n",
       "    </tbody>\n",
       "        <tr>\n",
       "            <td>1932</td> <td>California </td> <td>False</td> <td>58.41%  </td>\n",
       "        </tr>\n",
       "    </tbody>\n",
       "        <tr>\n",
       "            <td>1932</td> <td>Colorado   </td> <td>False</td> <td>54.81%  </td>\n",
       "        </tr>\n",
       "    </tbody>\n",
       "        <tr>\n",
       "            <td>1932</td> <td>Connecticut</td> <td>False</td> <td>47.40%  </td>\n",
       "        </tr>\n",
       "    </tbody>\n",
       "        <tr>\n",
       "            <td>1932</td> <td>Delaware   </td> <td>False</td> <td>48.11%  </td>\n",
       "        </tr>\n",
       "    </tbody>\n",
       "        <tr>\n",
       "            <td>1932</td> <td>Florida    </td> <td>True </td> <td>74.49%  </td>\n",
       "        </tr>\n",
       "    </tbody>\n",
       "        <tr>\n",
       "            <td>1932</td> <td>Georgia    </td> <td>True </td> <td>91.60%  </td>\n",
       "        </tr>\n",
       "    </tbody>\n",
       "        <tr>\n",
       "            <td>1932</td> <td>Idaho      </td> <td>False</td> <td>58.70%  </td>\n",
       "        </tr>\n",
       "    </tbody>\n",
       "</table>\n",
       "<p>... (1037 rows omitted)</p"
      ],
      "text/plain": [
       "year | state       | south | democrat\n",
       "1932 | Alabama     | True  | 84.76%\n",
       "1932 | Arizona     | False | 67.03%\n",
       "1932 | Arkansas    | True  | 86.27%\n",
       "1932 | California  | False | 58.41%\n",
       "1932 | Colorado    | False | 54.81%\n",
       "1932 | Connecticut | False | 47.40%\n",
       "1932 | Delaware    | False | 48.11%\n",
       "1932 | Florida     | True  | 74.49%\n",
       "1932 | Georgia     | True  | 91.60%\n",
       "1932 | Idaho       | False | 58.70%\n",
       "... (1037 rows omitted)"
      ]
     },
     "execution_count": 7,
     "metadata": {},
     "output_type": "execute_result"
    }
   ],
   "source": [
    "elections.set_format(3, PercentFormatter) # SOLUTION"
   ]
  },
  {
   "cell_type": "code",
   "execution_count": 8,
   "metadata": {
    "collapsed": false
   },
   "outputs": [
    {
     "name": "stdout",
     "output_type": "stream",
     "text": [
      "~~~~~~~~~~~~~~~~~~~~~~~~~~~~~~~~~~~~~~~~~~~~~~~~~~~~~~~~~~~~~~~~~~~~~\n",
      "Running tests\n",
      "\n",
      "---------------------------------------------------------------------\n",
      "Test summary\n",
      "    Passed: 1\n",
      "    Failed: 0\n",
      "[ooooooooook] 100.0% passed\n",
      "\n"
     ]
    }
   ],
   "source": [
    "_ = hw03.grade('q12')"
   ]
  },
  {
   "cell_type": "markdown",
   "metadata": {},
   "source": [
    "# 2. California History\n",
    "\n",
    "Now that we have a clean table, it's time to answer some questions with it. "
   ]
  },
  {
   "cell_type": "markdown",
   "metadata": {},
   "source": [
    "**Question 2.0.** Assign `cali` to a table with all rows from `elections` that are about `California`. This table should have the same column labels as `elections` (but fewer rows)."
   ]
  },
  {
   "cell_type": "code",
   "execution_count": 9,
   "metadata": {
    "collapsed": false
   },
   "outputs": [
    {
     "data": {
      "text/html": [
       "<table border=\"1\" class=\"dataframe\">\n",
       "    <thead>\n",
       "        <tr>\n",
       "            <th>year</th> <th>state</th> <th>south</th> <th>democrat</th>\n",
       "        </tr>\n",
       "    </thead>\n",
       "    <tbody>\n",
       "        <tr>\n",
       "            <td>1932</td> <td>California</td> <td>False</td> <td>58.41%  </td>\n",
       "        </tr>\n",
       "    </tbody>\n",
       "        <tr>\n",
       "            <td>1936</td> <td>California</td> <td>False</td> <td>66.95%  </td>\n",
       "        </tr>\n",
       "    </tbody>\n",
       "        <tr>\n",
       "            <td>1940</td> <td>California</td> <td>False</td> <td>57.44%  </td>\n",
       "        </tr>\n",
       "    </tbody>\n",
       "        <tr>\n",
       "            <td>1944</td> <td>California</td> <td>False</td> <td>56.48%  </td>\n",
       "        </tr>\n",
       "    </tbody>\n",
       "        <tr>\n",
       "            <td>1948</td> <td>California</td> <td>False</td> <td>47.57%  </td>\n",
       "        </tr>\n",
       "    </tbody>\n",
       "        <tr>\n",
       "            <td>1952</td> <td>California</td> <td>False</td> <td>42.74%  </td>\n",
       "        </tr>\n",
       "    </tbody>\n",
       "        <tr>\n",
       "            <td>1956</td> <td>California</td> <td>False</td> <td>44.27%  </td>\n",
       "        </tr>\n",
       "    </tbody>\n",
       "        <tr>\n",
       "            <td>1960</td> <td>California</td> <td>False</td> <td>49.55%  </td>\n",
       "        </tr>\n",
       "    </tbody>\n",
       "        <tr>\n",
       "            <td>1964</td> <td>California</td> <td>False</td> <td>59.11%  </td>\n",
       "        </tr>\n",
       "    </tbody>\n",
       "        <tr>\n",
       "            <td>1968</td> <td>California</td> <td>False</td> <td>44.74%  </td>\n",
       "        </tr>\n",
       "    </tbody>\n",
       "</table>\n",
       "<p>... (11 rows omitted)</p"
      ],
      "text/plain": [
       "year | state      | south | democrat\n",
       "1932 | California | False | 58.41%\n",
       "1936 | California | False | 66.95%\n",
       "1940 | California | False | 57.44%\n",
       "1944 | California | False | 56.48%\n",
       "1948 | California | False | 47.57%\n",
       "1952 | California | False | 42.74%\n",
       "1956 | California | False | 44.27%\n",
       "1960 | California | False | 49.55%\n",
       "1964 | California | False | 59.11%\n",
       "1968 | California | False | 44.74%\n",
       "... (11 rows omitted)"
      ]
     },
     "execution_count": 9,
     "metadata": {},
     "output_type": "execute_result"
    }
   ],
   "source": [
    "cali = elections.where('state', 'California') # SOLUTION\n",
    "cali"
   ]
  },
  {
   "cell_type": "code",
   "execution_count": 10,
   "metadata": {
    "collapsed": false
   },
   "outputs": [
    {
     "name": "stdout",
     "output_type": "stream",
     "text": [
      "~~~~~~~~~~~~~~~~~~~~~~~~~~~~~~~~~~~~~~~~~~~~~~~~~~~~~~~~~~~~~~~~~~~~~\n",
      "Running tests\n",
      "\n",
      "---------------------------------------------------------------------\n",
      "Test summary\n",
      "    Passed: 2\n",
      "    Failed: 0\n",
      "[ooooooooook] 100.0% passed\n",
      "\n"
     ]
    }
   ],
   "source": [
    "_ = hw03.grade('q20')"
   ]
  },
  {
   "cell_type": "markdown",
   "metadata": {},
   "source": [
    "**Question 2.1** Assign `most_democratic_cali` to the year in which the highest proportion of Californians voted for the democratic presidential candidate. **Don't just type in the year.** Write an expression that computes it from the `cali` table."
   ]
  },
  {
   "cell_type": "code",
   "execution_count": 11,
   "metadata": {
    "collapsed": false
   },
   "outputs": [
    {
     "data": {
      "text/plain": [
       "1936"
      ]
     },
     "execution_count": 11,
     "metadata": {},
     "output_type": "execute_result"
    }
   ],
   "source": [
    "most_democratic_cali = cali.sort('democrat', descending=True).column(0).item(0) # SOLUTION\n",
    "most_democratic_cali"
   ]
  },
  {
   "cell_type": "code",
   "execution_count": 12,
   "metadata": {
    "collapsed": false
   },
   "outputs": [
    {
     "name": "stdout",
     "output_type": "stream",
     "text": [
      "~~~~~~~~~~~~~~~~~~~~~~~~~~~~~~~~~~~~~~~~~~~~~~~~~~~~~~~~~~~~~~~~~~~~~\n",
      "Running tests\n",
      "\n",
      "---------------------------------------------------------------------\n",
      "Test summary\n",
      "    Passed: 1\n",
      "    Failed: 0\n",
      "[ooooooooook] 100.0% passed\n",
      "\n"
     ]
    }
   ],
   "source": [
    "_ = hw03.grade('q21')"
   ]
  },
  {
   "cell_type": "markdown",
   "metadata": {},
   "source": [
    "**Question 2.2.** Assign `least_democratic_before_1980_ca` to the **year before 1980** in which the lowest proportion of Californians voted for the democratic presidential candidate. **Don't just type in the year.** Write an expression that computes it from the `cali` table. *Hint*: First make a table containing only the years before 1980."
   ]
  },
  {
   "cell_type": "code",
   "execution_count": 13,
   "metadata": {
    "collapsed": false
   },
   "outputs": [
    {
     "data": {
      "text/plain": [
       "1972"
      ]
     },
     "execution_count": 13,
     "metadata": {},
     "output_type": "execute_result"
    }
   ],
   "source": [
    "cali_before_1980 = cali.where(cali.column('year') < 1980) # SOLUTION\n",
    "least_democratic_before_1980_ca = cali_before_1980.sort('democrat').column(0).item(0) # SOLUTION\n",
    "least_democratic_before_1980_ca"
   ]
  },
  {
   "cell_type": "code",
   "execution_count": 14,
   "metadata": {
    "collapsed": false
   },
   "outputs": [
    {
     "name": "stdout",
     "output_type": "stream",
     "text": [
      "~~~~~~~~~~~~~~~~~~~~~~~~~~~~~~~~~~~~~~~~~~~~~~~~~~~~~~~~~~~~~~~~~~~~~\n",
      "Running tests\n",
      "\n",
      "---------------------------------------------------------------------\n",
      "Test summary\n",
      "    Passed: 1\n",
      "    Failed: 0\n",
      "[ooooooooook] 100.0% passed\n",
      "\n"
     ]
    }
   ],
   "source": [
    "_ = hw03.grade('q22')"
   ]
  },
  {
   "cell_type": "markdown",
   "metadata": {},
   "source": [
    "# 3. All States\n",
    "\n",
    "Here, we will transition back to looking at the `elections` table in order to observe how all of the states voted. "
   ]
  },
  {
   "cell_type": "markdown",
   "metadata": {},
   "source": [
    "**Question 3.0.** Assign `dem_years` to a two-column table with one row per year. In addition to the `year` column, the table should have a `dem states` column that has the *number of states for which at least 50% of votes were cast democrat* in each year. The table should be sorted in increasing order of `year`. \n",
    "\n",
    "    year | dem states\n",
    "    1932 | 40\n",
    "    1936 | 45\n",
    "    1940 | 38\n",
    "    ... (18 rows omitted)\n",
    "\n",
    "*Hints*:\n",
    "- First, create a `dems_won` array of True/False values for each state and year that indicates whether democrats won at least 50% of the vote.\n",
    "- Construct an appropriate table and `group` it by `'year'`.\n",
    "- Use `np.count_nonzero` to count how many `True` values appear in a sequence of True/False values.\n",
    "\n",
    "\n",
    "If the table doesn't come out quite right, fix it up using `select` and `relabeled`."
   ]
  },
  {
   "cell_type": "code",
   "execution_count": 15,
   "metadata": {
    "collapsed": false
   },
   "outputs": [
    {
     "data": {
      "text/html": [
       "<table border=\"1\" class=\"dataframe\">\n",
       "    <thead>\n",
       "        <tr>\n",
       "            <th>year</th> <th>dem states</th>\n",
       "        </tr>\n",
       "    </thead>\n",
       "    <tbody>\n",
       "        <tr>\n",
       "            <td>1932</td> <td>40        </td>\n",
       "        </tr>\n",
       "    </tbody>\n",
       "        <tr>\n",
       "            <td>1936</td> <td>45        </td>\n",
       "        </tr>\n",
       "    </tbody>\n",
       "        <tr>\n",
       "            <td>1940</td> <td>38        </td>\n",
       "        </tr>\n",
       "    </tbody>\n",
       "        <tr>\n",
       "            <td>1944</td> <td>36        </td>\n",
       "        </tr>\n",
       "    </tbody>\n",
       "        <tr>\n",
       "            <td>1948</td> <td>22        </td>\n",
       "        </tr>\n",
       "    </tbody>\n",
       "        <tr>\n",
       "            <td>1952</td> <td>8         </td>\n",
       "        </tr>\n",
       "    </tbody>\n",
       "        <tr>\n",
       "            <td>1956</td> <td>6         </td>\n",
       "        </tr>\n",
       "    </tbody>\n",
       "        <tr>\n",
       "            <td>1960</td> <td>21        </td>\n",
       "        </tr>\n",
       "    </tbody>\n",
       "        <tr>\n",
       "            <td>1964</td> <td>45        </td>\n",
       "        </tr>\n",
       "    </tbody>\n",
       "        <tr>\n",
       "            <td>1968</td> <td>6         </td>\n",
       "        </tr>\n",
       "    </tbody>\n",
       "</table>\n",
       "<p>... (11 rows omitted)</p"
      ],
      "text/plain": [
       "year | dem states\n",
       "1932 | 40\n",
       "1936 | 45\n",
       "1940 | 38\n",
       "1944 | 36\n",
       "1948 | 22\n",
       "1952 | 8\n",
       "1956 | 6\n",
       "1960 | 21\n",
       "1964 | 45\n",
       "1968 | 6\n",
       "... (11 rows omitted)"
      ]
     },
     "execution_count": 15,
     "metadata": {},
     "output_type": "execute_result"
    }
   ],
   "source": [
    "dems_won = elections.column('democrat') >= 0.5 # SOLUTION\n",
    "dem_years = elections.with_column('won', dems_won).select([0,4]).group(\"year\",np.count_nonzero).relabeled(1,\"dem states\")\n",
    "dem_years"
   ]
  },
  {
   "cell_type": "code",
   "execution_count": 16,
   "metadata": {
    "collapsed": false,
    "scrolled": false
   },
   "outputs": [
    {
     "name": "stdout",
     "output_type": "stream",
     "text": [
      "~~~~~~~~~~~~~~~~~~~~~~~~~~~~~~~~~~~~~~~~~~~~~~~~~~~~~~~~~~~~~~~~~~~~~\n",
      "Running tests\n",
      "\n",
      "---------------------------------------------------------------------\n",
      "Test summary\n",
      "    Passed: 1\n",
      "    Failed: 0\n",
      "[ooooooooook] 100.0% passed\n",
      "\n"
     ]
    }
   ],
   "source": [
    "_ = hw03.grade('q30')"
   ]
  },
  {
   "cell_type": "markdown",
   "metadata": {},
   "source": [
    "**Question 3.1.** Assign `state_spread` to a two-column table with one row per state. In addition to the `state` column, the table should have a `democrat spread` column that contains the difference between the maximal and minimal historic proportion of democratic votes. \n",
    "\n",
    "For example, the `California` row of the `democrat spread` column should have 0.3104, the difference between .6695 (California in 1936) and .3591 (California in 1980). \n",
    "\n",
    "The `spread` function from lecture is defined below. *Hint*: You can use `spread` in a call to `group`."
   ]
  },
  {
   "cell_type": "code",
   "execution_count": 17,
   "metadata": {
    "collapsed": false
   },
   "outputs": [
    {
     "data": {
      "text/html": [
       "<table border=\"1\" class=\"dataframe\">\n",
       "    <thead>\n",
       "        <tr>\n",
       "            <th>state</th> <th>democrat spread</th>\n",
       "        </tr>\n",
       "    </thead>\n",
       "    <tbody>\n",
       "        <tr>\n",
       "            <td>Alabama    </td> <td>0.6766         </td>\n",
       "        </tr>\n",
       "    </tbody>\n",
       "        <tr>\n",
       "            <td>Alaska     </td> <td>0.395          </td>\n",
       "        </tr>\n",
       "    </tbody>\n",
       "        <tr>\n",
       "            <td>Arizona    </td> <td>0.4161         </td>\n",
       "        </tr>\n",
       "    </tbody>\n",
       "        <tr>\n",
       "            <td>Arkansas   </td> <td>0.5591         </td>\n",
       "        </tr>\n",
       "    </tbody>\n",
       "        <tr>\n",
       "            <td>California </td> <td>0.3104         </td>\n",
       "        </tr>\n",
       "    </tbody>\n",
       "        <tr>\n",
       "            <td>Colorado   </td> <td>0.302          </td>\n",
       "        </tr>\n",
       "    </tbody>\n",
       "        <tr>\n",
       "            <td>Connecticut</td> <td>0.3155         </td>\n",
       "        </tr>\n",
       "    </tbody>\n",
       "        <tr>\n",
       "            <td>DC         </td> <td>0.1764         </td>\n",
       "        </tr>\n",
       "    </tbody>\n",
       "        <tr>\n",
       "            <td>Delaware   </td> <td>0.2273         </td>\n",
       "        </tr>\n",
       "    </tbody>\n",
       "        <tr>\n",
       "            <td>Florida    </td> <td>0.4828         </td>\n",
       "        </tr>\n",
       "    </tbody>\n",
       "</table>\n",
       "<p>... (42 rows omitted)</p"
      ],
      "text/plain": [
       "state       | democrat spread\n",
       "Alabama     | 0.6766\n",
       "Alaska      | 0.395\n",
       "Arizona     | 0.4161\n",
       "Arkansas    | 0.5591\n",
       "California  | 0.3104\n",
       "Colorado    | 0.302\n",
       "Connecticut | 0.3155\n",
       "DC          | 0.1764\n",
       "Delaware    | 0.2273\n",
       "Florida     | 0.4828\n",
       "... (42 rows omitted)"
      ]
     },
     "execution_count": 17,
     "metadata": {},
     "output_type": "execute_result"
    }
   ],
   "source": [
    "def spread(values):\n",
    "    return max(values) - min(values)\n",
    "\n",
    "state_spread = elections.select(['state', 'democrat']).group('state', spread) # SOLUTION\n",
    "state_spread"
   ]
  },
  {
   "cell_type": "code",
   "execution_count": 18,
   "metadata": {
    "collapsed": false
   },
   "outputs": [
    {
     "name": "stdout",
     "output_type": "stream",
     "text": [
      "~~~~~~~~~~~~~~~~~~~~~~~~~~~~~~~~~~~~~~~~~~~~~~~~~~~~~~~~~~~~~~~~~~~~~\n",
      "Running tests\n",
      "\n",
      "---------------------------------------------------------------------\n",
      "Test summary\n",
      "    Passed: 2\n",
      "    Failed: 0\n",
      "[ooooooooook] 100.0% passed\n",
      "\n"
     ]
    }
   ],
   "source": [
    "_ = hw03.grade('q31')"
   ]
  },
  {
   "cell_type": "markdown",
   "metadata": {},
   "source": [
    "**Question 3.2.** Do Southern states vote differently from the rest of the states? Is there a time period in which the difference is large? Explore the `elections` table until you discover an *association* and then describe that association.\n",
    "\n",
    "- `np.average` computes the average of a sequence of numbers\n",
    "- `np.median ` computes the median of a sequence of numbers"
   ]
  },
  {
   "cell_type": "code",
   "execution_count": 19,
   "metadata": {
    "collapsed": false
   },
   "outputs": [
    {
     "data": {
      "text/html": [
       "<table border=\"1\" class=\"dataframe\">\n",
       "    <thead>\n",
       "        <tr>\n",
       "            <th>year</th> <th>state</th> <th>south</th> <th>democrat</th>\n",
       "        </tr>\n",
       "    </thead>\n",
       "    <tbody>\n",
       "        <tr>\n",
       "            <td>1972</td> <td>Alabama    </td> <td>True </td> <td>25.54%  </td>\n",
       "        </tr>\n",
       "    </tbody>\n",
       "        <tr>\n",
       "            <td>1972</td> <td>Alaska     </td> <td>False</td> <td>34.62%  </td>\n",
       "        </tr>\n",
       "    </tbody>\n",
       "        <tr>\n",
       "            <td>1972</td> <td>Arizona    </td> <td>False</td> <td>31.87%  </td>\n",
       "        </tr>\n",
       "    </tbody>\n",
       "        <tr>\n",
       "            <td>1972</td> <td>Arkansas   </td> <td>True </td> <td>30.69%  </td>\n",
       "        </tr>\n",
       "    </tbody>\n",
       "        <tr>\n",
       "            <td>1972</td> <td>California </td> <td>False</td> <td>41.54%  </td>\n",
       "        </tr>\n",
       "    </tbody>\n",
       "        <tr>\n",
       "            <td>1972</td> <td>Colorado   </td> <td>False</td> <td>34.59%  </td>\n",
       "        </tr>\n",
       "    </tbody>\n",
       "        <tr>\n",
       "            <td>1972</td> <td>Connecticut</td> <td>False</td> <td>40.13%  </td>\n",
       "        </tr>\n",
       "    </tbody>\n",
       "        <tr>\n",
       "            <td>1972</td> <td>Delaware   </td> <td>False</td> <td>39.18%  </td>\n",
       "        </tr>\n",
       "    </tbody>\n",
       "        <tr>\n",
       "            <td>1972</td> <td>DC         </td> <td>False</td> <td>78.10%  </td>\n",
       "        </tr>\n",
       "    </tbody>\n",
       "        <tr>\n",
       "            <td>1972</td> <td>Florida    </td> <td>True </td> <td>27.80%  </td>\n",
       "        </tr>\n",
       "    </tbody>\n",
       "</table>\n",
       "<p>... (551 rows omitted)</p"
      ],
      "text/plain": [
       "year | state       | south | democrat\n",
       "1972 | Alabama     | True  | 25.54%\n",
       "1972 | Alaska      | False | 34.62%\n",
       "1972 | Arizona     | False | 31.87%\n",
       "1972 | Arkansas    | True  | 30.69%\n",
       "1972 | California  | False | 41.54%\n",
       "1972 | Colorado    | False | 34.59%\n",
       "1972 | Connecticut | False | 40.13%\n",
       "1972 | Delaware    | False | 39.18%\n",
       "1972 | DC          | False | 78.10%\n",
       "1972 | Florida     | True  | 27.80%\n",
       "... (551 rows omitted)"
      ]
     },
     "execution_count": 19,
     "metadata": {},
     "output_type": "execute_result"
    }
   ],
   "source": [
    "# Write code that demonstrates an association\n",
    "after_1970 = elections.where(elections.column('year') > 1970)\n",
    "after_1970 \n",
    "# print(np.average(after_1970.where('south', True).column('democrat')))\n",
    "# print(np.average(after_1970.where('south', False).column('democrat')))\n",
    "\n",
    "\n",
    "\n",
    "\n",
    "\n",
    "\n"
   ]
  },
  {
   "cell_type": "markdown",
   "metadata": {},
   "source": [
    "*Briefly describe the association you have illustrated:*"
   ]
  },
  {
   "cell_type": "markdown",
   "metadata": {},
   "source": [
    "..."
   ]
  },
  {
   "cell_type": "markdown",
   "metadata": {},
   "source": [
    "# 4. Functions"
   ]
  },
  {
   "cell_type": "markdown",
   "metadata": {},
   "source": [
    "**Question 4.0** Complete the `most_democratic_state` function below. It accepts an input `year` (an `int`). It returns the name of the state that had the highest proportion of democratic votes that year. Use the `elections` table to compute the result."
   ]
  },
  {
   "cell_type": "code",
   "execution_count": 25,
   "metadata": {
    "collapsed": false
   },
   "outputs": [
    {
     "data": {
      "text/plain": [
       "'DC'"
      ]
     },
     "execution_count": 25,
     "metadata": {},
     "output_type": "execute_result"
    }
   ],
   "source": [
    "def most_democratic_state(year):\n",
    "    return elections.where('year', year).sort('democrat', descending=True).column(1).item(0) # SOLUTION\n",
    "\n"
   ]
  },
  {
   "cell_type": "code",
   "execution_count": 21,
   "metadata": {
    "collapsed": false
   },
   "outputs": [
    {
     "name": "stdout",
     "output_type": "stream",
     "text": [
      "~~~~~~~~~~~~~~~~~~~~~~~~~~~~~~~~~~~~~~~~~~~~~~~~~~~~~~~~~~~~~~~~~~~~~\n",
      "Running tests\n",
      "\n",
      "---------------------------------------------------------------------\n",
      "Test summary\n",
      "    Passed: 6\n",
      "    Failed: 0\n",
      "[ooooooooook] 100.0% passed\n",
      "\n"
     ]
    }
   ],
   "source": [
    "_ = hw03.grade('q40')"
   ]
  },
  {
   "cell_type": "markdown",
   "metadata": {
    "collapsed": false
   },
   "source": [
    "**Question 4.1** Complete the `shape` function, which accepts a table `t` as input and returns a string describing the shape of `t`:\n",
    "* More rows than columns: `return 'tall'`\n",
    "* More columns than rows: `return 'wide'`\n",
    "* Equal number of rows and columns: `return 'square'`"
   ]
  },
  {
   "cell_type": "code",
   "execution_count": 22,
   "metadata": {
    "collapsed": true
   },
   "outputs": [],
   "source": [
    "def shape(t):\n",
    "    if t.num_rows > t.num_columns: #SOLUTION\n",
    "        return 'tall' #SOLUTION\n",
    "    elif t.num_rows < t.num_columns: #SOLUTION\n",
    "        return 'wide' #SOLUTION\n",
    "    else: #SOLUTION\n",
    "        return 'square' #SOLUTION"
   ]
  },
  {
   "cell_type": "code",
   "execution_count": 23,
   "metadata": {
    "collapsed": false
   },
   "outputs": [
    {
     "name": "stdout",
     "output_type": "stream",
     "text": [
      "~~~~~~~~~~~~~~~~~~~~~~~~~~~~~~~~~~~~~~~~~~~~~~~~~~~~~~~~~~~~~~~~~~~~~\n",
      "Running tests\n",
      "\n",
      "---------------------------------------------------------------------\n",
      "Test summary\n",
      "    Passed: 3\n",
      "    Failed: 0\n",
      "[ooooooooook] 100.0% passed\n",
      "\n"
     ]
    }
   ],
   "source": [
    "_ = hw03.grade('q41')"
   ]
  }
 ],
 "metadata": {
  "kernelspec": {
   "display_name": "Python 3",
   "language": "python",
   "name": "python3"
  },
  "language_info": {
   "codemirror_mode": {
    "name": "ipython",
    "version": 3
   },
   "file_extension": ".py",
   "mimetype": "text/x-python",
   "name": "python",
   "nbconvert_exporter": "python",
   "pygments_lexer": "ipython3",
   "version": "3.4.4"
  }
 },
 "nbformat": 4,
 "nbformat_minor": 0
}
