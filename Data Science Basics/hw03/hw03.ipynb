{
 "cells": [
  {
   "cell_type": "markdown",
   "metadata": {},
   "source": [
    "# Homework 3 Due Thursday, February 11\n",
    "\n",
    "Please complete this notebook by filling in the cells provided. When you’re done\n",
    "\n",
    "1. Select `Run All` from the `Cell` menu to ensure that you have executed all cells.\n",
    "2. Select `Download as PDF via LaTeX (.pdf)` from the `File` menu\n",
    "3. Read that file! If any of your lines are too long and get cut off, we won't be able to see them,\n",
    "   so break them up into multiple lines and download again.\n",
    "3. Submit that downloaded file called `hw03.pdf` to Gradescope.\n",
    "\n",
    "If you cannot submit online, come to office hours for assistance. The office hours\n",
    "schedule appears on [data8.org/weekly](http://data8.org/weekly).\n",
    "\n",
    "This assignment is due 5pm Thursday, February 11. You will receive an early submission bonus point if you turn it in by 5pm Wednesday, February 10. Directly sharing answers is not okay, but discussing problems with course staff or students is encouraged.\n",
    "\n",
    "Reading:\n",
    "- Textbook section [1.6](http://www.inferentialthinking.com/chapter1/tables.html)\n",
    "- Datascience module documentation at [data8.org/datascience](http://data8.org/datascience)"
   ]
  },
  {
   "cell_type": "markdown",
   "metadata": {},
   "source": [
    "# 0. Preliminaries\n",
    "\n",
    "Run the cell below to import `Table` and `numpy` and prepare the automatic tests. **Passing the automatic tests does not guarantee full credit on any question.** The tests are provided to help catch some common errors, but it is *your* responsibility to answer the questions correctly."
   ]
  },
  {
   "cell_type": "code",
   "execution_count": 1,
   "metadata": {
    "collapsed": false,
    "scrolled": false
   },
   "outputs": [],
   "source": [
    "# Please do not change this cell!\n",
    "\n",
    "from datascience import *\n",
    "import numpy as np\n",
    "\n",
    "from client.api.assignment import load_assignment\n",
    "hw03 = load_assignment('hw03.ok')"
   ]
  },
  {
   "cell_type": "markdown",
   "metadata": {
    "collapsed": false
   },
   "source": [
    "The questions in this homework involve a table loaded from [presidentialElections.csv](). This table contains historical voting information, which will get us ready for November. It contains five columns:\n",
    "- A row number\n",
    "- A state name\n",
    "- The percentage of votes that supported the *Democratic Party* candidate for president in a particular state and year\n",
    "- An election year\n",
    "- Whether the state is in the South\n",
    "\n",
    "You can view the contents of this file in your browser by executing the cell below. A separate pane will pop up; you can close it by clicking the `X` in its upper-right corner."
   ]
  },
  {
   "cell_type": "code",
   "execution_count": 2,
   "metadata": {
    "collapsed": true
   },
   "outputs": [],
   "source": [
    "%less presidentialElections.csv"
   ]
  },
  {
   "cell_type": "markdown",
   "metadata": {},
   "source": [
    "# 1. Cleaning the Table"
   ]
  },
  {
   "cell_type": "markdown",
   "metadata": {},
   "source": [
    "**Question 1.0.** Assign the name `full` to the full table read from the `presidentialElections.csv` file. "
   ]
  },
  {
   "cell_type": "code",
   "execution_count": 3,
   "metadata": {
    "collapsed": false
   },
   "outputs": [],
   "source": [
    "full = ...\n",
    "full"
   ]
  },
  {
   "cell_type": "markdown",
   "metadata": {},
   "source": [
    "After each programming question, there will be a test cell that will allow you to check your work. Don't change it; just execute it."
   ]
  },
  {
   "cell_type": "code",
   "execution_count": 4,
   "metadata": {
    "collapsed": false
   },
   "outputs": [],
   "source": [
    "_ = hw03.grade('q10')"
   ]
  },
  {
   "cell_type": "markdown",
   "metadata": {},
   "source": [
    "**Question 1.1.** Set `elections` to a table based on `full` that has five columns, labeled `year`, `state`, and `south`, and `democrat`. The first three columns appear in `full` already. The `democrat` column is based on `full`'s `demVote` column. It should contain the *proportion* of voters for the *Democratic Party* candidate in each state and year, a number between 0 and 1."
   ]
  },
  {
   "cell_type": "code",
   "execution_count": 5,
   "metadata": {
    "collapsed": false
   },
   "outputs": [],
   "source": [
    "elections = ...\n",
    "elections"
   ]
  },
  {
   "cell_type": "code",
   "execution_count": 6,
   "metadata": {
    "collapsed": false
   },
   "outputs": [],
   "source": [
    "_ = hw03.grade('q11')"
   ]
  },
  {
   "cell_type": "markdown",
   "metadata": {},
   "source": [
    "**Question 1.2.** Set the *format* of the `democrat` column in the `elections` table to be percentages (such as `67.03%` instead of `0.6703`)."
   ]
  },
  {
   "cell_type": "code",
   "execution_count": 7,
   "metadata": {
    "collapsed": false
   },
   "outputs": [],
   "source": [
    "..."
   ]
  },
  {
   "cell_type": "code",
   "execution_count": 8,
   "metadata": {
    "collapsed": false
   },
   "outputs": [],
   "source": [
    "_ = hw03.grade('q12')"
   ]
  },
  {
   "cell_type": "markdown",
   "metadata": {},
   "source": [
    "# 2. California History\n",
    "\n",
    "Now that we have a clean table, it's time to answer some questions with it. "
   ]
  },
  {
   "cell_type": "markdown",
   "metadata": {},
   "source": [
    "**Question 2.0.** Assign `cali` to a table with all rows from `elections` that are about `California`. This table should have the same column labels as `elections` (but fewer rows)."
   ]
  },
  {
   "cell_type": "code",
   "execution_count": 9,
   "metadata": {
    "collapsed": false
   },
   "outputs": [],
   "source": [
    "cali = ...\n",
    "cali"
   ]
  },
  {
   "cell_type": "code",
   "execution_count": 10,
   "metadata": {
    "collapsed": false
   },
   "outputs": [],
   "source": [
    "_ = hw03.grade('q20')"
   ]
  },
  {
   "cell_type": "markdown",
   "metadata": {},
   "source": [
    "**Question 2.1** Assign `most_democratic_cali` to the year in which the highest proportion of Californians voted for the democratic presidential candidate. **Don't just type in the year.** Write an expression that computes it from the `cali` table."
   ]
  },
  {
   "cell_type": "code",
   "execution_count": 11,
   "metadata": {
    "collapsed": false
   },
   "outputs": [],
   "source": [
    "most_democratic_cali = ...\n",
    "most_democratic_cali"
   ]
  },
  {
   "cell_type": "code",
   "execution_count": 12,
   "metadata": {
    "collapsed": false
   },
   "outputs": [],
   "source": [
    "_ = hw03.grade('q21')"
   ]
  },
  {
   "cell_type": "markdown",
   "metadata": {},
   "source": [
    "**Question 2.2.** Assign `least_democratic_before_1980_ca` to the **year before 1980** in which the lowest proportion of Californians voted for the democratic presidential candidate. **Don't just type in the year.** Write an expression that computes it from the `cali` table. *Hint*: First make a table containing only the years before 1980."
   ]
  },
  {
   "cell_type": "code",
   "execution_count": 13,
   "metadata": {
    "collapsed": false
   },
   "outputs": [],
   "source": [
    "cali_before_1980 = ...\n",
    "least_democratic_before_1980_ca = ...\n",
    "least_democratic_before_1980_ca"
   ]
  },
  {
   "cell_type": "code",
   "execution_count": 14,
   "metadata": {
    "collapsed": false
   },
   "outputs": [],
   "source": [
    "_ = hw03.grade('q22')"
   ]
  },
  {
   "cell_type": "markdown",
   "metadata": {},
   "source": [
    "# 3. All States\n",
    "\n",
    "Here, we will transition back to looking at the `elections` table in order to observe how all of the states voted. "
   ]
  },
  {
   "cell_type": "markdown",
   "metadata": {},
   "source": [
    "**Question 3.0.** Assign `dem_years` to a two-column table with one row per year. In addition to the `year` column, the table should have a `dem states` column that has the *number of states for which at least 50% of votes were cast democrat* in each year. The table should be sorted in increasing order of `year`. \n",
    "\n",
    "    year | dem states\n",
    "    1932 | 40\n",
    "    1936 | 45\n",
    "    1940 | 38\n",
    "    ... (18 rows omitted)\n",
    "\n",
    "*Hints*:\n",
    "- First, create a `dems_won` array of True/False values for each state and year that indicates whether democrats won at least 50% of the vote.\n",
    "- Construct an appropriate table and `group` it by `'year'`.\n",
    "- Use `np.count_nonzero` to count how many `True` values appear in a sequence of True/False values.\n",
    "\n",
    "\n",
    "If the table doesn't come out quite right, fix it up using `select` and `relabeled`."
   ]
  },
  {
   "cell_type": "code",
   "execution_count": 15,
   "metadata": {
    "collapsed": false
   },
   "outputs": [],
   "source": [
    "dems_won = ...\n",
    "dem_years = ...\n",
    "dem_years"
   ]
  },
  {
   "cell_type": "code",
   "execution_count": 16,
   "metadata": {
    "collapsed": false,
    "scrolled": false
   },
   "outputs": [],
   "source": [
    "_ = hw03.grade('q30')"
   ]
  },
  {
   "cell_type": "markdown",
   "metadata": {},
   "source": [
    "**Question 3.1.** Assign `state_spread` to a two-column table with one row per state. In addition to the `state` column, the table should have a `democrat spread` column that contains the difference between the maximal and minimal historic proportion of democratic votes. \n",
    "\n",
    "For example, the `California` row of the `democrat spread` column should have 0.3104, the difference between .6695 (California in 1936) and .3591 (California in 1980). \n",
    "\n",
    "The `spread` function from lecture is defined below. *Hint*: You can use `spread` in a call to `group`."
   ]
  },
  {
   "cell_type": "code",
   "execution_count": 17,
   "metadata": {
    "collapsed": false
   },
   "outputs": [],
   "source": [
    "def spread(values):\n",
    "    return max(values) - min(values)\n",
    "\n",
    "state_spread = ...\n",
    "state_spread"
   ]
  },
  {
   "cell_type": "code",
   "execution_count": 18,
   "metadata": {
    "collapsed": false
   },
   "outputs": [],
   "source": [
    "_ = hw03.grade('q31')"
   ]
  },
  {
   "cell_type": "markdown",
   "metadata": {},
   "source": [
    "**Question 3.2.** Do Southern states vote differently from the rest of the states? Is there a time period in which the difference is large? Explore the `elections` table until you discover an *association* and then describe that association.\n",
    "\n",
    "- `np.average` computes the average of a sequence of numbers\n",
    "- `np.median ` computes the median of a sequence of numbers"
   ]
  },
  {
   "cell_type": "code",
   "execution_count": 30,
   "metadata": {
    "collapsed": false
   },
   "outputs": [],
   "source": [
    "# Write code that demonstrates an association\n",
    "after_1970 = elections.where(elections.column('year') > 1970)\n",
    "print(np.average(after_1970.where('south', True).column('democrat')))\n",
    "print(np.average(after_1970.where('south', False).column('democrat')))\n",
    "\n",
    "\n",
    "\n",
    "\n",
    "\n",
    "\n"
   ]
  },
  {
   "cell_type": "markdown",
   "metadata": {},
   "source": [
    "*Briefly describe the association you have illustrated:*"
   ]
  },
  {
   "cell_type": "markdown",
   "metadata": {},
   "source": [
    "..."
   ]
  },
  {
   "cell_type": "markdown",
   "metadata": {},
   "source": [
    "# 4. Functions"
   ]
  },
  {
   "cell_type": "markdown",
   "metadata": {},
   "source": [
    "**Question 4.0** Complete the `most_democratic_state` function below. It accepts an input `year` (an `int`). It returns the name of the state that had the highest proportion of democratic votes that year. Use the `elections` table to compute the result."
   ]
  },
  {
   "cell_type": "code",
   "execution_count": 20,
   "metadata": {
    "collapsed": false
   },
   "outputs": [],
   "source": [
    "def most_democratic_state(year):\n",
    "    ..."
   ]
  },
  {
   "cell_type": "code",
   "execution_count": 21,
   "metadata": {
    "collapsed": false
   },
   "outputs": [],
   "source": [
    "_ = hw03.grade('q40')"
   ]
  },
  {
   "cell_type": "markdown",
   "metadata": {
    "collapsed": false
   },
   "source": [
    "**Question 4.1** Complete the `shape` function, which accepts a table `t` as input and returns a string describing the shape of `t`:\n",
    "* More rows than columns: `return 'tall'`\n",
    "* More columns than rows: `return 'wide'`\n",
    "* Equal number of rows and columns: `return 'square'`"
   ]
  },
  {
   "cell_type": "code",
   "execution_count": 22,
   "metadata": {
    "collapsed": true
   },
   "outputs": [],
   "source": [
    "def shape(t):\n",
    "    ...\n",
    "        ...\n",
    "    ...\n",
    "        ...\n",
    "    ...\n",
    "        ..."
   ]
  },
  {
   "cell_type": "code",
   "execution_count": 23,
   "metadata": {
    "collapsed": false
   },
   "outputs": [],
   "source": [
    "_ = hw03.grade('q41')"
   ]
  }
 ],
 "metadata": {
  "kernelspec": {
   "display_name": "Python 3",
   "language": "python",
   "name": "python3"
  },
  "language_info": {
   "codemirror_mode": {
    "name": "ipython",
    "version": 3
   },
   "file_extension": ".py",
   "mimetype": "text/x-python",
   "name": "python",
   "nbconvert_exporter": "python",
   "pygments_lexer": "ipython3",
   "version": "3.4.4"
  }
 },
 "nbformat": 4,
 "nbformat_minor": 0
}

