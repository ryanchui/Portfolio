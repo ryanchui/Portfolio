{
 "cells": [
  {
   "cell_type": "markdown",
   "metadata": {},
   "source": [
    "# Homework 4\n",
    "\n",
    "Welcome to homework 4!  This week's homework is about visualizations, tables, and functions.  As in homework 3, you'll do the assignment by completing this notebook, filling in the cells provided. When you’re done:\n",
    "\n",
    "1. Select `Run All` from the `Cell` menu to ensure that you have executed all cells, including the test cells.  Make sure that the visualizations you create are actually displayed.\n",
    "2. Select `Download as PDF via LaTeX (.pdf)` from the `File` menu\n",
    "3. Read that file! If any of your lines are too long and get cut off, we won't be able to see them,\n",
    "   so break them up into multiple lines and download again.\n",
    "4. Submit that downloaded file (called `hw04.pdf`) to Gradescope.\n",
    "\n",
    "If you cannot submit online, come to office hours for assistance. The office hours\n",
    "schedule appears on [data8.org/weekly](http://data8.org/weekly).\n",
    "\n",
    "This assignment is due 5pm Thursday, February 18. You will receive an early submission bonus point if you turn it in by 5pm Wednesday, February 17. Directly sharing answers is not okay, but discussing problems with course staff or students is encouraged."
   ]
  },
  {
   "cell_type": "markdown",
   "metadata": {},
   "source": [
    "# 0. Preliminaries\n",
    "\n",
    "As usual, **run the cell below** to prepare the lab and the automatic tests. **Passing the automatic tests does not guarantee full credit on any question.** The tests are provided to help catch some common errors, but it is *your* responsibility to answer the questions correctly."
   ]
  },
  {
   "cell_type": "code",
   "execution_count": 1,
   "metadata": {
    "collapsed": false
   },
   "outputs": [],
   "source": [
    "# Run this cell, but please don't change it.\n",
    "\n",
    "# These lines import the numpy and datascience modules.\n",
    "import numpy as np\n",
    "from datascience import *\n",
    "\n",
    "# These lines load the tests.\n",
    "from client.api.assignment import load_assignment \n",
    "hw04 = load_assignment('hw04.ok')\n",
    "\n",
    "# These lines set up visualizations.\n",
    "import matplotlib\n",
    "%matplotlib inline\n",
    "import matplotlib.pyplot as plots\n",
    "plots.style.use('fivethirtyeight')"
   ]
  },
  {
   "cell_type": "markdown",
   "metadata": {},
   "source": [
    "Some of the questions in this homework involve a table loaded from the file `ahs.zip`.  This is a data file from the American Housing Survey (AHS), which collects data about a sample of houses in America, including a survey of a variety of information about the people living in the sampled houses.  Data are collected every 2 years from the same set of houses.  For this assignment we'll use the 2013 dataset.  Each row corresponds to one American house whose owner or occupant was surveyed in 2013.\n",
    "\n",
    "The AHS dataset is very large, so we've zipped a sample of it to make it easier to download.  **Run the next cell to unzip it.**"
   ]
  },
  {
   "cell_type": "code",
   "execution_count": 2,
   "metadata": {
    "collapsed": false
   },
   "outputs": [],
   "source": [
    "# Just run this cell.\n",
    "!unzip -o bayarea_ahs && echo \"Done.\""
   ]
  },
  {
   "cell_type": "markdown",
   "metadata": {
    "collapsed": false
   },
   "source": [
    "Now you should have another file in your [hw04](./) directory called `bayarea_ahs.csv`. This file is a selected subset of the even larger file called `newhouse.csv` within the publicly-available [AHS dataset from 2013](http://www2.census.gov/programs-surveys/ahs/2013/AHS%202013%20National%20PUF%20v1.2%20CSV.zip).  "
   ]
  },
  {
   "cell_type": "markdown",
   "metadata": {},
   "source": [
    "First, we'll load the AHS data into a table named `ahs`.  It's a large table, so it may take some time to load.  There's a symbol in the top-right corner of your notebook that indicates what's going on:\n",
    "* If it's a dark circle, code is running right now.  If your code runs for a long time and you think there's a problem, you can stop it by clicking the Stop button.\n",
    "* If it's an empty circle, no code is running.\n",
    "* If it looks like a disconnected circuit, that means your browser can't connect to the lab servers for some reason.  Try clicking Kernel -> Reconnect; or click Save, wait for the top of the screen to say \"Last Checkpoint: a few seconds ago,\" and refresh the page."
   ]
  },
  {
   "cell_type": "code",
   "execution_count": 3,
   "metadata": {
    "collapsed": false
   },
   "outputs": [],
   "source": [
    "# Run this cell, but don't change it.\n",
    "ahs = Table.read_table(\"bayarea_ahs.csv\")\n",
    "ahs"
   ]
  },
  {
   "cell_type": "markdown",
   "metadata": {},
   "source": [
    "The AHS dataset has one row per housing unit. The columns are described in extensive [documentation](http://www.census.gov/content/dam/Census/programs-surveys/ahs/tech-documentation/AHS%20Codebook%202013.pdf), but we will focus only on a subset of the original columns. The columns in `bayarea_ahs.csv` are described in the `ahs_columns.csv` table."
   ]
  },
  {
   "cell_type": "code",
   "execution_count": 4,
   "metadata": {
    "collapsed": false
   },
   "outputs": [],
   "source": [
    "ahs_columns = Table.read_table('ahs_columns.csv')\n",
    "ahs_columns"
   ]
  },
  {
   "cell_type": "markdown",
   "metadata": {},
   "source": [
    "# 1. Data Cleaning\n",
    "\n",
    "Before cleaning up the `ahs` table, we'll clean up a simpler example: the `pop` table defined in the next cell."
   ]
  },
  {
   "cell_type": "code",
   "execution_count": 5,
   "metadata": {
    "collapsed": false
   },
   "outputs": [],
   "source": [
    "# Just run this cell.\n",
    "# pop.csv is a table of world population estimates from the US Census Bureau.\n",
    "pop = Table.read_table(\"pop.csv\")\n",
    "pop"
   ]
  },
  {
   "cell_type": "markdown",
   "metadata": {},
   "source": [
    "In this table, the `year` column is actually made of strings that include, for example, the text `'1981'` (the two single-quote characters are *actually part of the text in the strings*) instead of the number `1981`.  The population column has the same problem.  If you look at [pop.csv](pop.csv), you might see why this happens.\n",
    "\n",
    "**Question 1.1.** Before we fix it, very briefly **describe why it is a problem to represent quantitative data in this way**."
   ]
  },
  {
   "cell_type": "markdown",
   "metadata": {},
   "source": [
    "*Replace this text with your answer.*"
   ]
  },
  {
   "cell_type": "markdown",
   "metadata": {},
   "source": [
    "**Question 1.2.** In the next cell, define a function called `quoted_number_to_int`.  It should take a single argument, a string that is an integer surrounded by single quotes.  It should return an `int` value representing that integer.  For example, `quoted_number_to_int(\"'1981'\")` should return the number `1981`."
   ]
  },
  {
   "cell_type": "code",
   "execution_count": 6,
   "metadata": {
    "collapsed": false
   },
   "outputs": [],
   "source": [
    "# Define a function called quoted_number_to_int\n",
    "def quoted_number_to_int(num):\n",
    "    ..."
   ]
  },
  {
   "cell_type": "code",
   "execution_count": 7,
   "metadata": {
    "collapsed": false
   },
   "outputs": [],
   "source": [
    "_ = hw04.grade('q12')"
   ]
  },
  {
   "cell_type": "markdown",
   "metadata": {},
   "source": [
    "**Question 1.3.** Assign the name `pop_cleaned` to a table that is the same as `pop` *except* that both columns contain integer versions of their data instead of quoted strings.  Use the `apply` method and your `quoted_number_to_int` function."
   ]
  },
  {
   "cell_type": "code",
   "execution_count": 8,
   "metadata": {
    "collapsed": false
   },
   "outputs": [],
   "source": [
    "# Make pop_cleaned from pop.  We've written some of the code for you.\n",
    "pop_cleaned = Table().with_columns([\n",
    "        ...\n",
    "        ])\n",
    "# This line will make the numbers in pop_cleaned a little easier to read.\n",
    "pop_cleaned.set_format('population', NumberFormatter)"
   ]
  },
  {
   "cell_type": "code",
   "execution_count": 9,
   "metadata": {
    "collapsed": false
   },
   "outputs": [],
   "source": [
    "_ = hw04.grade('q13')"
   ]
  },
  {
   "cell_type": "markdown",
   "metadata": {},
   "source": [
    "**Question 1.4.** Now that we have numbers, we can use them to perform useful arithmetic.  Let's look at the distribution of population increases in the late 20th century.  Draw a histogram of the number of people, **in millions**, by which world population **increased** in each year in the dataset (other than the first).  Use bins that have width 10 (million) and cover all population values.\n",
    "\n",
    "*Hint 1*: Use the function `np.diff`, which is described in [the textbook](http://www.inferentialthinking.com/chapter1/arrays.html) and in more detail in [NumPy's documentation](http://docs.scipy.org/doc/numpy-1.10.0/reference/generated/numpy.diff.html).  (The examples in NumPy's documentation are often more useful than the descriptions.)\n",
    "\n",
    "*Hint 2*: To make a histogram of the increases, you'll need to put them into their own table."
   ]
  },
  {
   "cell_type": "code",
   "execution_count": 26,
   "metadata": {
    "collapsed": false
   },
   "outputs": [],
   "source": [
    "..."
   ]
  },
  {
   "cell_type": "code",
   "execution_count": 29,
   "metadata": {
    "collapsed": false
   },
   "outputs": [],
   "source": [
    "max(np.diff(pop_cleaned.column(\"population\"))/1e6)"
   ]
  },
  {
   "cell_type": "markdown",
   "metadata": {},
   "source": [
    "Returning to the `ahs` table, each household (row) is located in something called a \"Standard Metropolitan Statistical Area,\" or SMSA.  These don't correspond exactly to cities or counties; they generally include a city and some area surrounding it.  For example, all the households near San Jose are part of the San Jose SMSA.  Berkeley is in the Oakland SMSA.\n",
    "\n",
    "**Question 1.5.** Make a table called `ahs_cleaned` that is a copy of `ahs` but with a version of the `SMSA` column with the string values converted to integers using `quoted_number_to_int`. *Hint*: The `with_column` method will replace an existing column from the input table if the label passed to it already exists."
   ]
  },
  {
   "cell_type": "code",
   "execution_count": 11,
   "metadata": {
    "collapsed": false
   },
   "outputs": [],
   "source": [
    "ahs_cleaned = ...\n",
    "ahs_cleaned"
   ]
  },
  {
   "cell_type": "code",
   "execution_count": 12,
   "metadata": {
    "collapsed": false
   },
   "outputs": [],
   "source": [
    "_ = hw04.grade('q15')"
   ]
  },
  {
   "cell_type": "markdown",
   "metadata": {},
   "source": [
    "**Question 1.6.** In the next cell, we've loaded a table called [`ba_smsa_names`](ba_smsa_names.csv) that associates SMSA numbers (like 7400) with English names (like \"San Jose\").  Using that table and the `join` method, assign the name `ahs_named` to a table that extends `ahs_cleaned` and has an additional column called `\"SMSA names\"` containing the names that correspond to the `SMSA` column."
   ]
  },
  {
   "cell_type": "code",
   "execution_count": 13,
   "metadata": {
    "collapsed": false
   },
   "outputs": [],
   "source": [
    "ba_smsa_names = Table.read_table(\"ba_smsa_names.csv\")\n",
    "ahs_named = ...\n",
    "ahs_named"
   ]
  },
  {
   "cell_type": "code",
   "execution_count": 14,
   "metadata": {
    "collapsed": false
   },
   "outputs": [],
   "source": [
    "_ = hw04.grade('q16')"
   ]
  },
  {
   "cell_type": "markdown",
   "metadata": {},
   "source": [
    "**Question 1.7.** Create a bar chart to show how many households in `ahs_named` are in each SMSA. Use the SMSA names to label each bar, not the codes."
   ]
  },
  {
   "cell_type": "code",
   "execution_count": 15,
   "metadata": {
    "collapsed": false
   },
   "outputs": [],
   "source": [
    "..."
   ]
  },
  {
   "cell_type": "markdown",
   "metadata": {},
   "source": [
    "# 2. Investigating poverty\n",
    "We're going to investigate the rate of poverty among households in the Bay Area.  According to the [Federal Poverty Guidelines](https://aspe.hhs.gov/2013-poverty-guidelines), a household is in poverty if its combined annual income is below a certain threshold, which depends on the year and the number of people in the household.  The 2013 Federal Poverty Guideline threshold for poverty is an annual income of \\$7,470 plus \\$4,020 for each person in the household (so \\$11,490 for a one-person household, or \\$15,510 total for a two-person household).  \n",
    "\n",
    "For these questions, you will need to find particular columns by reading their descriptions. You can refer to the [documentation pdf](http://www.census.gov/content/dam/Census/programs-surveys/ahs/tech-documentation/AHS%20Codebook%202013.pdf) or search through the `ahs_columns` table (recommended). Narrowing down this table by category can speed up the process a lot!"
   ]
  },
  {
   "cell_type": "code",
   "execution_count": 16,
   "metadata": {
    "collapsed": false
   },
   "outputs": [],
   "source": [
    "ahs_columns.group('Category')"
   ]
  },
  {
   "cell_type": "markdown",
   "metadata": {},
   "source": [
    "**Question 2.1.** Find the column that records *Household income*. Use it to generate a histogram of incomes for households in the Bay Area. The `bins` to use have been provided for you.\n",
    "\n",
    "According to the documentation of this column, the value -6 is not an income, but instead a special code indicating that the notion of \"household income\" was not applicable. Do not include these values in your histogram!\n",
    "\n",
    "*Explanation of `bins`:* The `np.append` function creates a longer array out of two arrays. In this case, we create smaller bins for smaller incomes and large bins for large incomes."
   ]
  },
  {
   "cell_type": "code",
   "execution_count": 17,
   "metadata": {
    "collapsed": false
   },
   "outputs": [],
   "source": [
    "bins=np.append(np.arange(-10000, 100000, 10000), np.arange(100000, 400000, 50000))\n",
    "..."
   ]
  },
  {
   "cell_type": "markdown",
   "metadata": {},
   "source": [
    "**Question 2.2.** Next, draw a histogram of the number of people in a household. Choose `bins` of width 1 that together include all of the data, but exclude the value -6 (which again stands for \"not applicable\")."
   ]
  },
  {
   "cell_type": "code",
   "execution_count": 18,
   "metadata": {
    "collapsed": false
   },
   "outputs": [],
   "source": [
    "# Make a visualization to show the distribution of the numbers of people per household.\n",
    "..."
   ]
  },
  {
   "cell_type": "markdown",
   "metadata": {},
   "source": [
    "**Question 2.3.** Assign `ahs_poverty` to an extension of `ahs_named` that only includes rows with valid household income and people per household values (not -6). The `ahs_poverty` table should also include one additional column called `poverty`. The value of the `poverty` column should be `True` for all rows describing a household that is in poverty according to the 2013 Federal Poverty Guideline described above and `False` otherwise.  \n",
    "\n",
    "*Hint:* First assign `ahs_valid` to a filtered version of `ahs_named` that does not include the value -6 for either household income or people per household. After that, it is possible to add the `poverty` column in one (long) line of code, but it's better to break the problem down into steps and use variables to store the result of each step.  For example, what are the poverty thresholds for each household?"
   ]
  },
  {
   "cell_type": "code",
   "execution_count": 19,
   "metadata": {
    "collapsed": false
   },
   "outputs": [],
   "source": [
    "ahs_valid = ...\n",
    "ahs_poverty = ...\n",
    "ahs_poverty"
   ]
  },
  {
   "cell_type": "code",
   "execution_count": 20,
   "metadata": {
    "collapsed": false
   },
   "outputs": [],
   "source": [
    "_ = hw04.grade(\"q23\")"
   ]
  },
  {
   "cell_type": "markdown",
   "metadata": {},
   "source": [
    "**Question 2.4.** Assign `poverty_counts` to a table that has one row per `SMSA` and three columns, where\n",
    "- The first column labeled \"`SMSA name`\" has the name of the SMSA\n",
    "- The second column labeled \"`False`\" has the count of the number of households *not* in poverty in that SMSA\n",
    "- The third column labeled \"`True`\" has the count of the number of households in poverty in that SMSA\n",
    "\n",
    "Your counts should not include any households that have \"not applicable\" (-6) values for household income or people per household.\n",
    "\n",
    "*Hint*: Use `pivot` for the `ahs_poverty` table."
   ]
  },
  {
   "cell_type": "code",
   "execution_count": 21,
   "metadata": {
    "collapsed": false
   },
   "outputs": [],
   "source": [
    "poverty_counts = ...\n",
    "poverty_counts"
   ]
  },
  {
   "cell_type": "code",
   "execution_count": 22,
   "metadata": {
    "collapsed": false
   },
   "outputs": [],
   "source": [
    "_ = hw04.grade(\"q25\")"
   ]
  },
  {
   "cell_type": "markdown",
   "metadata": {},
   "source": [
    "**Question 2.5** Draw a bar chart with one bar for each SMSA, labeled by its name, where the length of each bar is the proportion of sampled households in poverty in that SMSA. *Hint*: First create a column of `poverty_proportions` and then add it as a column to `poverty_counts`."
   ]
  },
  {
   "cell_type": "code",
   "execution_count": 23,
   "metadata": {
    "collapsed": false
   },
   "outputs": [],
   "source": [
    "poverty_proportions = ...\n",
    "..."
   ]
  },
  {
   "cell_type": "markdown",
   "metadata": {
    "collapsed": true
   },
   "source": [
    "Keep in mind that we have estimated the rate of *household poverty*, not the proportion of *people* who are in poverty.  We have also removed households without income data, which may bias the results further. Using a related dataset called the American Community Survey that is more suited to examining individual people, some economists have [estimated](https://www.jointventure.org/images/stories/pdf/poverty-brief-2015-03.pdf) that the rate of individual poverty in the Bay Area was 11.3% in 2013."
   ]
  },
  {
   "cell_type": "markdown",
   "metadata": {},
   "source": [
    "**Question 2.6.** Suppose that the AHS is a simple random sample of households.  (In fact, it’s a complicated kind of random sample, made more complicated by the subsamping we did before we gave you the data, but ignore those details for now.)  Does your visualization above give evidence that poverty is related to location (that is, to the SMSA where a household is located) within the Bay Area?  Write your answer in text in the cell below."
   ]
  },
  {
   "cell_type": "markdown",
   "metadata": {},
   "source": [
    "*Write your answer here, replacing this text.*"
   ]
  },
  {
   "cell_type": "markdown",
   "metadata": {},
   "source": [
    "**Question 2.7.** Does it give evidence that being in certain locations *causes* some households to be in poverty (or not to be in poverty)? Why or why not?"
   ]
  },
  {
   "cell_type": "markdown",
   "metadata": {},
   "source": [
    "*Write your answer here, replacing this text.*"
   ]
  },
  {
   "cell_type": "markdown",
   "metadata": {},
   "source": [
    "# 3. Histograms\n",
    "Suppose we study 100 Berkeley students, recording in a table called `exercise.csv` the average number of hours per week they spend exercising.  The largest observation is 18 hours.  The only observations between 10 and 13 are 10.1, 10.2, 11.5, and 11.5 hours.  We decide to draw a histogram of the data *on the density scale*.  We use larger bins for the larger values.  "
   ]
  },
  {
   "cell_type": "code",
   "execution_count": 24,
   "metadata": {
    "collapsed": false
   },
   "outputs": [],
   "source": [
    "# Run this cell to see the bins.\n",
    "exercise_bins = np.append(np.arange(0, 11+1, 1), np.arange(13, 21, 2))\n",
    "exercise_bins"
   ]
  },
  {
   "cell_type": "markdown",
   "metadata": {},
   "source": [
    "This is our code for generating the histogram:\n",
    "    \n",
    "    exercise = Table.read_table(\"exercise.csv\")\n",
    "    # The name of the column with average exercise per week:\n",
    "    exercise_label = \"average exercise (hours per week)\"\n",
    "    # Draw the histogram:\n",
    "    hours.hist(exercise_label, bins=exercise_bins)\n",
    "\n",
    "For each quantity below, calculate it by hand, or if it’s impossible to calculate with only this information, say why.  You can write your answer as an expression (such as 2+2) or a number (such as 4). *Note*: There is no `exercise.csv` file distributed with this assignment."
   ]
  },
  {
   "cell_type": "markdown",
   "metadata": {},
   "source": [
    "**Question 3.1.** The area of the 10-11 bin"
   ]
  },
  {
   "cell_type": "markdown",
   "metadata": {},
   "source": [
    "*Write your answer here, replacing this text.*"
   ]
  },
  {
   "cell_type": "markdown",
   "metadata": {},
   "source": [
    "**Question 3.2.** The area of the 11-13 bin"
   ]
  },
  {
   "cell_type": "markdown",
   "metadata": {},
   "source": [
    "*Write your answer here, replacing this text.*"
   ]
  },
  {
   "cell_type": "markdown",
   "metadata": {},
   "source": [
    "**Question 3.3.** The height of the 10-11 bin"
   ]
  },
  {
   "cell_type": "markdown",
   "metadata": {},
   "source": [
    "*Write your answer here, replacing this text.*"
   ]
  },
  {
   "cell_type": "markdown",
   "metadata": {},
   "source": [
    "**Question 3.4.** The height of the 11-13 bin"
   ]
  },
  {
   "cell_type": "markdown",
   "metadata": {},
   "source": [
    "*Write your answer here, replacing this text.*"
   ]
  },
  {
   "cell_type": "code",
   "execution_count": 25,
   "metadata": {
    "collapsed": false
   },
   "outputs": [],
   "source": [
    "# For your convenience, you can run this cell to run all the tests at once!\n",
    "import os\n",
    "_ = [hw04.grade(q[:-3]) for q in os.listdir(\"tests\") if q.startswith('q')]"
   ]
  }
 ],
 "metadata": {
  "kernelspec": {
   "display_name": "Python 3",
   "language": "python",
   "name": "python3"
  },
  "language_info": {
   "codemirror_mode": {
    "name": "ipython",
    "version": 3
   },
   "file_extension": ".py",
   "mimetype": "text/x-python",
   "name": "python",
   "nbconvert_exporter": "python",
   "pygments_lexer": "ipython3",
   "version": "3.5.1"
  }
 },
 "nbformat": 4,
 "nbformat_minor": 0
}
