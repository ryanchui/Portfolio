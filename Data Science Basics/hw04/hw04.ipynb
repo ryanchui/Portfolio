{
 "cells": [
  {
   "cell_type": "markdown",
   "metadata": {},
   "source": [
    "# Homework 4\n",
    "\n",
    "Welcome to homework 4!  This week's homework is about visualizations, tables, and functions.  As in homework 3, you'll do the assignment by completing this notebook, filling in the cells provided. When you’re done:\n",
    "\n",
    "1. Select `Run All` from the `Cell` menu to ensure that you have executed all cells, including the test cells.  Make sure that the visualizations you create are actually displayed.\n",
    "2. Select `Download as PDF via LaTeX (.pdf)` from the `File` menu\n",
    "3. Read that file! If any of your lines are too long and get cut off, we won't be able to see them,\n",
    "   so break them up into multiple lines and download again.\n",
    "4. Submit that downloaded file (called `hw04.pdf`) to Gradescope.\n",
    "\n",
    "If you cannot submit online, come to office hours for assistance. The office hours\n",
    "schedule appears on [data8.org/weekly](http://data8.org/weekly).\n",
    "\n",
    "This assignment is due 5pm Thursday, February 18. You will receive an early submission bonus point if you turn it in by 5pm Wednesday, February 17. Directly sharing answers is not okay, but discussing problems with course staff or students is encouraged."
   ]
  },
  {
   "cell_type": "markdown",
   "metadata": {},
   "source": [
    "# 0. Preliminaries\n",
    "\n",
    "As usual, **run the cell below** to prepare the lab and the automatic tests. **Passing the automatic tests does not guarantee full credit on any question.** The tests are provided to help catch some common errors, but it is *your* responsibility to answer the questions correctly."
   ]
  },
  {
   "cell_type": "code",
   "execution_count": 1,
   "metadata": {
    "collapsed": false
   },
   "outputs": [
    {
     "name": "stdout",
     "output_type": "stream",
     "text": [
      "=====================================================================\n",
      "Assignment: HW 04\n",
      "OK, version v1.5.1\n",
      "=====================================================================\n",
      "\n"
     ]
    }
   ],
   "source": [
    "# Run this cell, but please don't change it.\n",
    "\n",
    "# These lines import the numpy and datascience modules.\n",
    "import numpy as np\n",
    "from datascience import *\n",
    "\n",
    "# These lines load the tests.\n",
    "from client.api.assignment import load_assignment \n",
    "hw04 = load_assignment('hw04.ok')\n",
    "\n",
    "# These lines set up visualizations.\n",
    "import matplotlib\n",
    "%matplotlib inline\n",
    "import matplotlib.pyplot as plots\n",
    "plots.style.use('fivethirtyeight')"
   ]
  },
  {
   "cell_type": "markdown",
   "metadata": {},
   "source": [
    "Some of the questions in this homework involve a table loaded from the file `ahs.zip`.  This is a data file from the American Housing Survey (AHS), which collects data about a sample of houses in America, including a survey of a variety of information about the people living in the sampled houses.  Data are collected every 2 years from the same set of houses.  For this assignment we'll use the 2013 dataset.  Each row corresponds to one American house whose owner or occupant was surveyed in 2013.\n",
    "\n",
    "The AHS dataset is very large, so we've zipped a sample of it to make it easier to download.  **Run the next cell to unzip it.**"
   ]
  },
  {
   "cell_type": "code",
   "execution_count": 2,
   "metadata": {
    "collapsed": false
   },
   "outputs": [
    {
     "name": "stdout",
     "output_type": "stream",
     "text": [
      "Archive:  bayarea_ahs.zip\n",
      "  inflating: bayarea_ahs.csv         \n",
      "Done.\n"
     ]
    }
   ],
   "source": [
    "# Just run this cell.\n",
    "!unzip -o bayarea_ahs && echo \"Done.\""
   ]
  },
  {
   "cell_type": "markdown",
   "metadata": {
    "collapsed": false
   },
   "source": [
    "Now you should have another file in your [hw04](./) directory called `bayarea_ahs.csv`. This file is a selected subset of the even larger file called `newhouse.csv` within the publicly-available [AHS dataset from 2013](http://www2.census.gov/programs-surveys/ahs/2013/AHS%202013%20National%20PUF%20v1.2%20CSV.zip).  "
   ]
  },
  {
   "cell_type": "markdown",
   "metadata": {},
   "source": [
    "First, we'll load the AHS data into a table named `ahs`.  It's a large table, so it may take some time to load.  There's a symbol in the top-right corner of your notebook that indicates what's going on:\n",
    "* If it's a dark circle, code is running right now.  If your code runs for a long time and you think there's a problem, you can stop it by clicking the Stop button.\n",
    "* If it's an empty circle, no code is running.\n",
    "* If it looks like a disconnected circuit, that means your browser can't connect to the lab servers for some reason.  Try clicking Kernel -> Reconnect; or click Save, wait for the top of the screen to say \"Last Checkpoint: a few seconds ago,\" and refresh the page."
   ]
  },
  {
   "cell_type": "code",
   "execution_count": 3,
   "metadata": {
    "collapsed": false
   },
   "outputs": [
    {
     "data": {
      "text/html": [
       "<table border=\"1\" class=\"dataframe\">\n",
       "    <thead>\n",
       "        <tr>\n",
       "            <th>CMSA</th> <th>DIVISION</th> <th>METRO3</th> <th>REGION</th> <th>SMSA</th> <th>ACCESS</th> <th>AIR</th> <th>AIRSYS</th> <th>BATHS</th> <th>BEDRMS</th> <th>BUILT</th> <th>BURNER</th> <th>BUSPER</th> <th>CELLAR</th> <th>CLIMB</th> <th>CONDO</th> <th>COOK</th> <th>DENS</th> <th>DINING</th> <th>DIRAC</th> <th>DISH</th> <th>DISPL</th> <th>DRSHOP</th> <th>DRY</th> <th>EBAR</th> <th>ELEV</th> <th>EXCLUS</th> <th>FAMRM</th> <th>FLOORS</th> <th>FLOT</th> <th>FPINS</th> <th>FPLWK</th> <th>FRPL</th> <th>FRPLI</th> <th>FRSTOC</th> <th>GARAGE</th> <th>HALFB</th> <th>HOTPIP</th> <th>INCP</th> <th>KEXCLU</th> <th>KITCH</th> <th>KITCHEN</th> <th>LAUNDY</th> <th>LIVING</th> <th>LOT</th> <th>MOBILTYP</th> <th>MOPERM</th> <th>MOSALL</th> <th>MOSAPR</th> <th>MOSAUG</th> <th>MOSDEC</th> <th>MOSFEB</th> <th>MOSJAN</th> <th>MOSJUL</th> <th>MOSJUN</th> <th>MOSMAR</th> <th>MOSMAY</th> <th>MOSNOV</th> <th>MOSOCT</th> <th>MOSSEP</th> <th>NEWC</th> <th>NUMAIR</th> <th>NUNIT2</th> <th>NUNITS</th> <th>OARSYS</th> <th>OTBUP</th> <th>OTHFN</th> <th>OTHRUN</th> <th>OVEN</th> <th>OWNLOT</th> <th>PHONE</th> <th>PLUGS</th> <th>PORCH</th> <th>PREOCC</th> <th>PUBSEW</th> <th>RECRM</th> <th>REFR</th> <th>ROOMS</th> <th>SEWDIS</th> <th>SEWDUS</th> <th>SHARAT</th> <th>SHARFR</th> <th>SINHV</th> <th>SINK</th> <th>SINVV</th> <th>SOTHV</th> <th>SRECV</th> <th>SRENTV</th> <th>SSELV</th> <th>STEAM</th> <th>TENURE</th> <th>TIMSHR</th> <th>TRASH</th> <th>TUB</th> <th>TYPE</th> <th>UNITSF</th> <th>VACANC2</th> <th>VACANC2B</th> <th>VACANCY</th> <th>WASH</th> <th>WATER</th> <th>WATERD</th> <th>WELDUS</th> <th>WELL</th> <th>WHNGET</th> <th>YRRND</th> <th>BLDMNT</th> <th>BLEAK</th> <th>BSINK</th> <th>CRACKS</th> <th>DISAS</th> <th>EBOARD</th> <th>EBROKE</th> <th>ECRUMB</th> <th>EGOOD</th> <th>EHOLER</th> <th>ELEVWK</th> <th>EMISSR</th> <th>EMISSW</th> <th>EROACH</th> <th>ESAGR</th> <th>ESLOPW</th> <th>EVROD</th> <th>EXPOSE</th> <th>FREEZE</th> <th>GRDMNT</th> <th>HOLES</th> <th>HOWH</th> <th>IFBLOW</th> <th>IFCOLD</th> <th>IFDRY</th> <th>IFSEW</th> <th>IFTLT</th> <th>ILEAK</th> <th>LEAK</th> <th>M12ROACH</th> <th>M12ROD</th> <th>MAJR1</th> <th>MAJR2</th> <th>MAJR3</th> <th>MICE</th> <th>MINR1</th> <th>MINR2</th> <th>MINR3</th> <th>NLEAK1</th> <th>NLEAK2</th> <th>NOTSUR</th> <th>NOWIRE</th> <th>NUMBLOW</th> <th>NUMCOLD</th> <th>NUMDRY</th> <th>NUMSEW</th> <th>NUMTLT</th> <th>OTHCLD</th> <th>OTLEAK</th> <th>PILEAK</th> <th>PLEAK</th> <th>PLUMB</th> <th>RATFREQ</th> <th>RATS</th> <th>RLEAK</th> <th>ROACHFRQ</th> <th>TOILET</th> <th>TREP</th> <th>WATERS</th> <th>WHYCD1</th> <th>WHYCD2</th> <th>WHYCD3</th> <th>WHYCD4</th> <th>WHYCD5</th> <th>WLEAK</th> <th>WTRHRL</th> <th>ZADEQ</th> <th>AMTI</th> <th>AMTT</th> <th>AMTW</th> <th>AMTX</th> <th>BUYI</th> <th>BUYT</th> <th>BUYT2</th> <th>BUYW</th> <th>BUYW2</th> <th>CLPEVA</th> <th>CONFEE</th> <th>CPRICE</th> <th>CSTMNT</th> <th>DOWNPCT</th> <th>DWNPAY</th> <th>FLRENT</th> <th>FMHOTF</th> <th>FRENT</th> <th>HELC</th> <th>HELCN</th> <th>HELUMN</th> <th>HELUMP</th> <th>HUDADMIN</th> <th>HUDSAMP</th> <th>IFFEE</th> <th>INCS</th> <th>LANPMT</th> <th>LOOKHS</th> <th>LOOKNS</th> <th>LPRICE</th> <th>LRENT</th> <th>LVALUE</th> <th>MCNT</th> <th>MG</th> <th>MHOTFE</th> <th>NUMMOR</th> <th>POOR</th> <th>PRENT</th> <th>PRIN01</th> <th>PROJ</th> <th>PVALUE</th> <th>RAM</th> <th>RCNTRL</th> <th>REGMOR</th> <th>RENT</th> <th>RNTADJ</th> <th>TADJ</th> <th>TXRE</th> <th>VALUE</th> <th>VCHRMOV</th> <th>ZSMHC</th> <th>APPLY</th> <th>CUSHOM</th> <th>DLINE1</th> <th>ELDER</th> <th>FRSTHO</th> <th>HCARE</th> <th>HDSB</th> <th>HERRND</th> <th>HHAGE</th> <th>HHCITSHP</th> <th>HHEAR</th> <th>HHGRAD</th> <th>HHINUSYR</th> <th>HHKIDU18</th> <th>HHLDKID</th> <th>HHMAR</th> <th>HHNATVTY</th> <th>HHPAR</th> <th>HHPCARE</th> <th>HHPERRND</th> <th>HHPHEAR</th> <th>HHPLINE</th> <th>HHPMEMRY</th> <th>HHPSEE</th> <th>HHPWALK</th> <th>HHRACE</th> <th>HHREL</th> <th>HHSEX</th> <th>HHSPAN</th> <th>HHSPOS</th> <th>HHTEN</th> <th>HMEMRY</th> <th>HSEE</th> <th>HWALK</th> <th>KIDU18</th> <th>LANG</th> <th>MOVEDLY</th> <th>NONREL</th> <th>NOSTEP</th> <th>NROWNR</th> <th>NRPAYM</th> <th>PER</th> <th>PERSINT</th> <th>RESPTYP</th> <th>SAMEHH</th> <th>SAMEHH2</th> <th>SNITEV</th> <th>STATUS</th> <th>ZADULT</th> <th>ZMVGRP</th> <th>CROPSL</th> <th>HHPQALIM</th> <th>HHPQDIV</th> <th>HHPQINT</th> <th>HHPQOTHER</th> <th>HHPQRENT</th> <th>HHPQRETIR</th> <th>HHPQSAL</th> <th>HHPQSELF</th> <th>HHPQSS</th> <th>HHPQSSI</th> <th>HHPQWELF</th> <th>HHPQWKCMP</th> <th>HHPVOTHER</th> <th>HHSAL</th> <th>LODG</th> <th>QALIM</th> <th>QDIV</th> <th>QFS1</th> <th>QINT</th> <th>QOTHER</th> <th>QRENT</th> <th>QRETIR</th> <th>QSELF</th> <th>QSS</th> <th>QSSI</th> <th>QWELF</th> <th>QWKCMP</th> <th>SUBRNT</th> <th>VCHER</th> <th>VOTHER</th> <th>VOTHER2</th> <th>ZINC</th> <th>ZINC2</th> <th>ZINCH</th> <th>ZINCN</th>\n",
       "        </tr>\n",
       "    </thead>\n",
       "    <tbody>\n",
       "        <tr>\n",
       "            <td>'99'</td> <td>'89'    </td> <td>'1'   </td> <td>'4'   </td> <td>'7500'</td> <td>'1'   </td> <td>2   </td> <td>'1'   </td> <td>3    </td> <td>3     </td> <td>1975 </td> <td>'-6'  </td> <td>0     </td> <td>3     </td> <td>-6   </td> <td>'3'  </td> <td>'1' </td> <td>0   </td> <td>1     </td> <td>-6   </td> <td>'1' </td> <td>'1'  </td> <td>'2'   </td> <td>'1' </td> <td>'2' </td> <td>'-6'</td> <td>0     </td> <td>0    </td> <td>1     </td> <td>'-6'</td> <td>'-6' </td> <td>1    </td> <td>'-9'</td> <td>'-9' </td> <td>'-6'  </td> <td>'1'   </td> <td>0    </td> <td>'1'   </td> <td>'-6'</td> <td>'-6'  </td> <td>1    </td> <td>'1'    </td> <td>1     </td> <td>1     </td> <td>44000</td> <td>'-6'    </td> <td>-6    </td> <td>'2'   </td> <td>'2'   </td> <td>'2'   </td> <td>'2'   </td> <td>'2'   </td> <td>'2'   </td> <td>'2'   </td> <td>'2'   </td> <td>'2'   </td> <td>'2'   </td> <td>'2'   </td> <td>'2'   </td> <td>'2'   </td> <td>'2' </td> <td>-6    </td> <td>'1'   </td> <td>1     </td> <td>'2'   </td> <td>'2'  </td> <td>0    </td> <td>0     </td> <td>'-6'</td> <td>'-6'  </td> <td>'1'  </td> <td>'1'  </td> <td>'1'  </td> <td>'2'   </td> <td>'2'   </td> <td>0    </td> <td>'1' </td> <td>6    </td> <td>'1'   </td> <td>'1'   </td> <td>'-6'  </td> <td>'-6'  </td> <td>'-6' </td> <td>'1' </td> <td>'-6' </td> <td>'-6' </td> <td>'-6' </td> <td>'-6'  </td> <td>'-6' </td> <td>'2'  </td> <td>'1'   </td> <td>'-6'  </td> <td>'2'  </td> <td>'1' </td> <td>1   </td> <td>2700  </td> <td>'-6'   </td> <td>'-6'    </td> <td>-6     </td> <td>'1' </td> <td>'1'  </td> <td>'-6'  </td> <td>'5'   </td> <td>'-6'</td> <td>1993  </td> <td>'-6' </td> <td>'-6'  </td> <td>'-6' </td> <td>'1'  </td> <td>'2'   </td> <td>'-6' </td> <td>'2'   </td> <td>'2'   </td> <td>'2'   </td> <td>'1'  </td> <td>'2'   </td> <td>'-6'  </td> <td>'2'   </td> <td>'2'   </td> <td>'2'   </td> <td>'2'  </td> <td>'2'   </td> <td>'2'  </td> <td>'-6'  </td> <td>'2'   </td> <td>'-6'  </td> <td>'2'  </td> <td>9   </td> <td>'2'   </td> <td>'-6'  </td> <td>'2'  </td> <td>'2'  </td> <td>'2'  </td> <td>'2'  </td> <td>'2' </td> <td>'-6'    </td> <td>'-6'  </td> <td>'-6' </td> <td>'-6' </td> <td>'-6' </td> <td>'-6'</td> <td>'-6' </td> <td>'-6' </td> <td>'-6' </td> <td>'-6'  </td> <td>'-6'  </td> <td>'-6'  </td> <td>'1'   </td> <td>'-6'   </td> <td>'-6'   </td> <td>'-6'  </td> <td>'-6'  </td> <td>'-6'  </td> <td>'-6'  </td> <td>'-6'  </td> <td>'-6'  </td> <td>'-6' </td> <td>'1'  </td> <td>'-6'   </td> <td>'-6'</td> <td>'-6' </td> <td>'-6'    </td> <td>'1'   </td> <td>'-6'</td> <td>'1'   </td> <td>'-6'  </td> <td>'-6'  </td> <td>'-6'  </td> <td>'-6'  </td> <td>'-6'  </td> <td>'-6' </td> <td>'-6'  </td> <td>'1'  </td> <td>2550</td> <td>420 </td> <td>3161</td> <td>6450</td> <td>'1' </td> <td>'-6'</td> <td>'-6' </td> <td>'-6'</td> <td>'-6' </td> <td>41    </td> <td>-6    </td> <td>-6    </td> <td>2000  </td> <td>'5'    </td> <td>'1'   </td> <td>-6    </td> <td>-6    </td> <td>-6   </td> <td>'2' </td> <td>-6   </td> <td>-6    </td> <td>'2'   </td> <td>'-6'    </td> <td>'2'    </td> <td>'2'  </td> <td>'2' </td> <td>'-6'  </td> <td>'-6'  </td> <td>'-6'  </td> <td>420000</td> <td>-6   </td> <td>-6    </td> <td>1   </td> <td>'1' </td> <td>-6    </td> <td>1     </td> <td>2710</td> <td>-6   </td> <td>2200  </td> <td>'-6'</td> <td>-6    </td> <td>'-6'</td> <td>'-6'  </td> <td>1     </td> <td>-6  </td> <td>'-6'  </td> <td>'-6'</td> <td>'2' </td> <td>850000</td> <td>'-6'   </td> <td>3699 </td> <td>'-6' </td> <td>'-6'  </td> <td>1     </td> <td>2    </td> <td>'1'   </td> <td>'2'  </td> <td>'2' </td> <td>'2'   </td> <td>68   </td> <td>'1'     </td> <td>'2'  </td> <td>40    </td> <td>-6      </td> <td>0       </td> <td>0      </td> <td>'1'  </td> <td>'057'   </td> <td>-9   </td> <td>'2'    </td> <td>'2'     </td> <td>'2'    </td> <td>1      </td> <td>'2'     </td> <td>'2'   </td> <td>'2'    </td> <td>'01'  </td> <td>1    </td> <td>'2'  </td> <td>'2'   </td> <td>2     </td> <td>'1'  </td> <td>'2'   </td> <td>'2' </td> <td>'2'  </td> <td>0     </td> <td>'1' </td> <td>'2'    </td> <td>0     </td> <td>'2'   </td> <td>'2'   </td> <td>'2'   </td> <td>2   </td> <td>'1'    </td> <td>'1'    </td> <td>'1'   </td> <td>'1'    </td> <td>'-6'  </td> <td>'1'   </td> <td>2     </td> <td>'0'   </td> <td>'-6'  </td> <td>'2'     </td> <td>'1'    </td> <td>'2'    </td> <td>'2'      </td> <td>'2'     </td> <td>'2'      </td> <td>'2'    </td> <td>'2'     </td> <td>'1'   </td> <td>'2'    </td> <td>'2'     </td> <td>'2'      </td> <td>11000    </td> <td>0     </td> <td>-6  </td> <td>'2'  </td> <td>'1' </td> <td>'-6'</td> <td>'1' </td> <td>'2'   </td> <td>'2'  </td> <td>'2'   </td> <td>'2'  </td> <td>'1' </td> <td>'2' </td> <td>'2'  </td> <td>'2'   </td> <td>'-6'  </td> <td>'-6' </td> <td>36000 </td> <td>36000  </td> <td>377943</td> <td>377943</td> <td>'2'  </td> <td>1121003</td>\n",
       "        </tr>\n",
       "    </tbody>\n",
       "        <tr>\n",
       "            <td>'99'</td> <td>'89'    </td> <td>'1'   </td> <td>'4'   </td> <td>'7360'</td> <td>'1'   </td> <td>2   </td> <td>'2'   </td> <td>1    </td> <td>3     </td> <td>1940 </td> <td>'-6'  </td> <td>1     </td> <td>4     </td> <td>-6   </td> <td>'3'  </td> <td>'1' </td> <td>0   </td> <td>1     </td> <td>-6   </td> <td>'1' </td> <td>'1'  </td> <td>'-6'  </td> <td>'1' </td> <td>'2' </td> <td>'-6'</td> <td>0     </td> <td>0    </td> <td>2     </td> <td>'-6'</td> <td>'-6' </td> <td>2    </td> <td>'-6'</td> <td>'-6' </td> <td>'-6'  </td> <td>'1'   </td> <td>0    </td> <td>'1'   </td> <td>'-6'</td> <td>'-6'  </td> <td>1    </td> <td>'1'    </td> <td>0     </td> <td>1     </td> <td>4500 </td> <td>'-6'    </td> <td>-6    </td> <td>'2'   </td> <td>'2'   </td> <td>'2'   </td> <td>'2'   </td> <td>'2'   </td> <td>'2'   </td> <td>'2'   </td> <td>'2'   </td> <td>'2'   </td> <td>'2'   </td> <td>'2'   </td> <td>'2'   </td> <td>'2'   </td> <td>'2' </td> <td>-6    </td> <td>'1'   </td> <td>1     </td> <td>'-6'  </td> <td>'2'  </td> <td>0    </td> <td>0     </td> <td>'-6'</td> <td>'-6'  </td> <td>'1'  </td> <td>'1'  </td> <td>'1'  </td> <td>'-6'  </td> <td>'1'   </td> <td>0    </td> <td>'1' </td> <td>6    </td> <td>'-6'  </td> <td>'-6'  </td> <td>'-6'  </td> <td>'-6'  </td> <td>'-6' </td> <td>'1' </td> <td>'-6' </td> <td>'-6' </td> <td>'-6' </td> <td>'-6'  </td> <td>'-6' </td> <td>'2'  </td> <td>'2'   </td> <td>'-6'  </td> <td>'2'  </td> <td>'1' </td> <td>1   </td> <td>1968  </td> <td>'-6'   </td> <td>'-6'    </td> <td>-6     </td> <td>'1' </td> <td>'1'  </td> <td>'-6'  </td> <td>'5'   </td> <td>'-6'</td> <td>-6    </td> <td>'-6' </td> <td>'1'   </td> <td>'-6' </td> <td>'1'  </td> <td>'2'   </td> <td>'-6' </td> <td>'2'   </td> <td>'2'   </td> <td>'-7'  </td> <td>'-9' </td> <td>'2'   </td> <td>'-6'  </td> <td>'2'   </td> <td>'2'   </td> <td>'2'   </td> <td>'2'  </td> <td>'2'   </td> <td>'2'  </td> <td>'-6'  </td> <td>'2'   </td> <td>'1'   </td> <td>'2'  </td> <td>8   </td> <td>'1'   </td> <td>'-6'  </td> <td>'2'  </td> <td>'2'  </td> <td>'2'  </td> <td>'2'  </td> <td>'2' </td> <td>'-6'    </td> <td>'-6'  </td> <td>'1'  </td> <td>'1'  </td> <td>'1'  </td> <td>'-6'</td> <td>'1'  </td> <td>'1'  </td> <td>'1'  </td> <td>'-6'  </td> <td>'-6'  </td> <td>'-6'  </td> <td>'1'   </td> <td>'1'    </td> <td>'-6'   </td> <td>'-6'  </td> <td>'-6'  </td> <td>'-6'  </td> <td>'-6'  </td> <td>'-6'  </td> <td>'-6'  </td> <td>'-6' </td> <td>'1'  </td> <td>'-6'   </td> <td>'-6'</td> <td>'-6' </td> <td>'-6'    </td> <td>'1'   </td> <td>'-6'</td> <td>'1'   </td> <td>'-6'  </td> <td>'-6'  </td> <td>'-6'  </td> <td>'-6'  </td> <td>'-6'  </td> <td>'-6' </td> <td>'-6'  </td> <td>'1'  </td> <td>344 </td> <td>-6  </td> <td>-6  </td> <td>-6  </td> <td>'1' </td> <td>'2' </td> <td>'-6' </td> <td>'2' </td> <td>'-6' </td> <td>-6    </td> <td>-6    </td> <td>-6    </td> <td>-6    </td> <td>'-6'   </td> <td>'-6'  </td> <td>-6    </td> <td>-6    </td> <td>4    </td> <td>'-6'</td> <td>-6   </td> <td>-6    </td> <td>'-6'  </td> <td>'4'     </td> <td>'2'    </td> <td>'-6' </td> <td>'-6'</td> <td>'-6'  </td> <td>'1'   </td> <td>'1'   </td> <td>-6    </td> <td>-6   </td> <td>-6    </td> <td>-6  </td> <td>'-6'</td> <td>-6    </td> <td>-6    </td> <td>835 </td> <td>-6   </td> <td>-6    </td> <td>'-6'</td> <td>-6    </td> <td>'-6'</td> <td>'2'   </td> <td>-6    </td> <td>1825</td> <td>'2'   </td> <td>'-6'</td> <td>'-6'</td> <td>-6    </td> <td>'-6'   </td> <td>715  </td> <td>'-6' </td> <td>'-6'  </td> <td>2     </td> <td>0    </td> <td>'-6'  </td> <td>'2'  </td> <td>'2' </td> <td>'2'   </td> <td>37   </td> <td>'1'     </td> <td>'2'  </td> <td>44    </td> <td>-6      </td> <td>1       </td> <td>1      </td> <td>'1'  </td> <td>'057'   </td> <td>-9   </td> <td>'2'    </td> <td>'2'     </td> <td>'2'    </td> <td>1      </td> <td>'2'     </td> <td>'2'   </td> <td>'2'    </td> <td>'01'  </td> <td>1    </td> <td>'2'  </td> <td>'2'   </td> <td>2     </td> <td>'1'  </td> <td>'2'   </td> <td>'2' </td> <td>'2'  </td> <td>1     </td> <td>'1' </td> <td>'2'    </td> <td>0     </td> <td>'1'   </td> <td>'-6'  </td> <td>'-6'  </td> <td>3   </td> <td>'1'    </td> <td>'6'    </td> <td>'1'   </td> <td>'1'    </td> <td>'-6'  </td> <td>'1'   </td> <td>2     </td> <td>'1'   </td> <td>'-6'  </td> <td>'2'     </td> <td>'1'    </td> <td>'1'    </td> <td>'2'      </td> <td>'2'     </td> <td>'2'      </td> <td>'2'    </td> <td>'1'     </td> <td>'2'   </td> <td>'2'    </td> <td>'2'     </td> <td>'2'      </td> <td>80125    </td> <td>0     </td> <td>-6  </td> <td>'2'  </td> <td>'1' </td> <td>'-6'</td> <td>'1' </td> <td>'2'   </td> <td>'2'  </td> <td>'2'   </td> <td>'1'  </td> <td>'2' </td> <td>'2' </td> <td>'2'  </td> <td>'2'   </td> <td>'2'   </td> <td>'-6' </td> <td>80325 </td> <td>80325  </td> <td>155325</td> <td>155325</td> <td>'2'  </td> <td>-8     </td>\n",
       "        </tr>\n",
       "    </tbody>\n",
       "        <tr>\n",
       "            <td>'99'</td> <td>'89'    </td> <td>'1'   </td> <td>'4'   </td> <td>'7400'</td> <td>'1'   </td> <td>2   </td> <td>'2'   </td> <td>2    </td> <td>4     </td> <td>1960 </td> <td>'-6'  </td> <td>0     </td> <td>3     </td> <td>-6   </td> <td>'3'  </td> <td>'1' </td> <td>0   </td> <td>1     </td> <td>-6   </td> <td>'1' </td> <td>'1'  </td> <td>'-6'  </td> <td>'1' </td> <td>'2' </td> <td>'-6'</td> <td>0     </td> <td>0    </td> <td>2     </td> <td>'-6'</td> <td>'-6' </td> <td>1    </td> <td>'-6'</td> <td>'-6' </td> <td>'-6'  </td> <td>'1'   </td> <td>1    </td> <td>'1'   </td> <td>'-6'</td> <td>'-6'  </td> <td>1    </td> <td>'1'    </td> <td>0     </td> <td>1     </td> <td>6000 </td> <td>'-6'    </td> <td>-6    </td> <td>'2'   </td> <td>'2'   </td> <td>'2'   </td> <td>'2'   </td> <td>'2'   </td> <td>'2'   </td> <td>'2'   </td> <td>'2'   </td> <td>'2'   </td> <td>'2'   </td> <td>'2'   </td> <td>'2'   </td> <td>'2'   </td> <td>'2' </td> <td>-6    </td> <td>'1'   </td> <td>1     </td> <td>'-6'  </td> <td>'2'  </td> <td>0    </td> <td>0     </td> <td>'-6'</td> <td>'-6'  </td> <td>'1'  </td> <td>'1'  </td> <td>'1'  </td> <td>'-6'  </td> <td>'1'   </td> <td>0    </td> <td>'1' </td> <td>7    </td> <td>'-6'  </td> <td>'-6'  </td> <td>'-6'  </td> <td>'-6'  </td> <td>'-6' </td> <td>'1' </td> <td>'-6' </td> <td>'-6' </td> <td>'-6' </td> <td>'-6'  </td> <td>'-6' </td> <td>'-6' </td> <td>'2'   </td> <td>'-6'  </td> <td>'2'  </td> <td>'1' </td> <td>1   </td> <td>1500  </td> <td>'-6'   </td> <td>'-6'    </td> <td>-6     </td> <td>'1' </td> <td>'1'  </td> <td>'6'   </td> <td>'5'   </td> <td>'-6'</td> <td>-6    </td> <td>'-6' </td> <td>'1'   </td> <td>'-6' </td> <td>'1'  </td> <td>'2'   </td> <td>'-6' </td> <td>'2'   </td> <td>'2'   </td> <td>'2'   </td> <td>'1'  </td> <td>'2'   </td> <td>'-6'  </td> <td>'2'   </td> <td>'2'   </td> <td>'2'   </td> <td>'2'  </td> <td>'2'   </td> <td>'2'  </td> <td>'-6'  </td> <td>'2'   </td> <td>'1'   </td> <td>'2'  </td> <td>10  </td> <td>'2'   </td> <td>'-6'  </td> <td>'2'  </td> <td>'2'  </td> <td>'2'  </td> <td>'2'  </td> <td>'2' </td> <td>'-6'    </td> <td>'-6'  </td> <td>'5'  </td> <td>'-6' </td> <td>'-6' </td> <td>'-6'</td> <td>'-6' </td> <td>'-6' </td> <td>'-6' </td> <td>'-6'  </td> <td>'-6'  </td> <td>'-6'  </td> <td>'1'   </td> <td>'-6'   </td> <td>'-6'   </td> <td>'-6'  </td> <td>'-6'  </td> <td>'-6'  </td> <td>'-6'  </td> <td>'-6'  </td> <td>'-6'  </td> <td>'-6' </td> <td>'1'  </td> <td>'-6'   </td> <td>'-6'</td> <td>'-6' </td> <td>'-6'    </td> <td>'1'   </td> <td>'-6'</td> <td>'2'   </td> <td>'-6'  </td> <td>'-6'  </td> <td>'-6'  </td> <td>'-6'  </td> <td>'-6'  </td> <td>'-6' </td> <td>'-6'  </td> <td>'1'  </td> <td>-6  </td> <td>-6  </td> <td>780 </td> <td>-6  </td> <td>'2' </td> <td>'2' </td> <td>'-6' </td> <td>'-6'</td> <td>'-6' </td> <td>-6    </td> <td>-6    </td> <td>-6    </td> <td>-6    </td> <td>'-6'   </td> <td>'-6'  </td> <td>-6    </td> <td>-6    </td> <td>12   </td> <td>'-6'</td> <td>-6   </td> <td>-6    </td> <td>'-6'  </td> <td>'4'     </td> <td>'2'    </td> <td>'-6' </td> <td>'-6'</td> <td>'-6'  </td> <td>'3'   </td> <td>'2'   </td> <td>-6    </td> <td>-6   </td> <td>-6    </td> <td>-6  </td> <td>'-6'</td> <td>-6    </td> <td>-6    </td> <td>256 </td> <td>-6   </td> <td>-6    </td> <td>'-6'</td> <td>-6    </td> <td>'-6'</td> <td>'2'   </td> <td>-6    </td> <td>2500</td> <td>'1'   </td> <td>'-6'</td> <td>'-6'</td> <td>-6    </td> <td>'-6'   </td> <td>2734 </td> <td>'-6' </td> <td>'-6'  </td> <td>1     </td> <td>0    </td> <td>'-6'  </td> <td>'2'  </td> <td>'2' </td> <td>'2'   </td> <td>35   </td> <td>'5'     </td> <td>'2'  </td> <td>39    </td> <td>1989    </td> <td>2       </td> <td>2      </td> <td>'1'  </td> <td>'312'   </td> <td>-9   </td> <td>'2'    </td> <td>'2'     </td> <td>'2'    </td> <td>1      </td> <td>'2'     </td> <td>'2'   </td> <td>'2'    </td> <td>'01'  </td> <td>1    </td> <td>'1'  </td> <td>'1'   </td> <td>2     </td> <td>'1'  </td> <td>'2'   </td> <td>'2' </td> <td>'2'  </td> <td>2     </td> <td>'1' </td> <td>'2'    </td> <td>0     </td> <td>'1'   </td> <td>'-6'  </td> <td>'-6'  </td> <td>4   </td> <td>'1'    </td> <td>'1'    </td> <td>'1'   </td> <td>'1'    </td> <td>'-6'  </td> <td>'1'   </td> <td>2     </td> <td>'1'   </td> <td>'-6'  </td> <td>'2'     </td> <td>'2'    </td> <td>'2'    </td> <td>'2'      </td> <td>'2'     </td> <td>'2'      </td> <td>'1'    </td> <td>'2'     </td> <td>'2'   </td> <td>'2'    </td> <td>'2'     </td> <td>'2'      </td> <td>-13      </td> <td>60000 </td> <td>-6  </td> <td>'2'  </td> <td>'2' </td> <td>'-6'</td> <td>'2' </td> <td>'2'   </td> <td>'2'  </td> <td>'2'   </td> <td>'2'  </td> <td>'2' </td> <td>'2' </td> <td>'2'  </td> <td>'2'   </td> <td>'2'   </td> <td>'-6' </td> <td>-26   </td> <td>-26    </td> <td>59974 </td> <td>59974 </td> <td>'1'  </td> <td>-6     </td>\n",
       "        </tr>\n",
       "    </tbody>\n",
       "        <tr>\n",
       "            <td>'99'</td> <td>'89'    </td> <td>'2'   </td> <td>'4'   </td> <td>'7360'</td> <td>'1'   </td> <td>2   </td> <td>'2'   </td> <td>2    </td> <td>4     </td> <td>1970 </td> <td>'-6'  </td> <td>0     </td> <td>-6    </td> <td>3    </td> <td>'1'  </td> <td>'1' </td> <td>0   </td> <td>1     </td> <td>-6   </td> <td>'1' </td> <td>'1'  </td> <td>'2'   </td> <td>'1' </td> <td>'-6'</td> <td>'2' </td> <td>0     </td> <td>0    </td> <td>3     </td> <td>'-6'</td> <td>'-6' </td> <td>1    </td> <td>'-9'</td> <td>'-9' </td> <td>'-6'  </td> <td>'1'   </td> <td>0    </td> <td>'1'   </td> <td>'-6'</td> <td>'2'   </td> <td>1    </td> <td>'2'    </td> <td>0     </td> <td>1     </td> <td>-6   </td> <td>'-6'    </td> <td>-6    </td> <td>'2'   </td> <td>'2'   </td> <td>'2'   </td> <td>'2'   </td> <td>'2'   </td> <td>'2'   </td> <td>'2'   </td> <td>'2'   </td> <td>'2'   </td> <td>'2'   </td> <td>'2'   </td> <td>'2'   </td> <td>'2'   </td> <td>'2' </td> <td>-6    </td> <td>'3'   </td> <td>24    </td> <td>'-6'  </td> <td>'-6' </td> <td>0    </td> <td>0     </td> <td>'-6'</td> <td>'-6'  </td> <td>'1'  </td> <td>'1'  </td> <td>'1'  </td> <td>'2'   </td> <td>'1'   </td> <td>0    </td> <td>'1' </td> <td>7    </td> <td>'-6'  </td> <td>'-6'  </td> <td>'-6'  </td> <td>'-6'  </td> <td>'-6' </td> <td>'1' </td> <td>'-6' </td> <td>'-6' </td> <td>'-6' </td> <td>'-6'  </td> <td>'-6' </td> <td>'2'  </td> <td>'1'   </td> <td>'-6'  </td> <td>'2'  </td> <td>'1' </td> <td>1   </td> <td>1474  </td> <td>'-6'   </td> <td>'-6'    </td> <td>-6     </td> <td>'1' </td> <td>'1'  </td> <td>'-6'  </td> <td>'5'   </td> <td>'-6'</td> <td>1979  </td> <td>'-6' </td> <td>'-6'  </td> <td>'2'  </td> <td>'1'  </td> <td>'2'   </td> <td>'-6' </td> <td>'-6'  </td> <td>'-6'  </td> <td>'-6'  </td> <td>'-6' </td> <td>'-6'  </td> <td>'1'   </td> <td>'-6'  </td> <td>'-6'  </td> <td>'2'   </td> <td>'-6' </td> <td>'-6'  </td> <td>'2'  </td> <td>'-6'  </td> <td>'2'   </td> <td>'-6'  </td> <td>'2'  </td> <td>8   </td> <td>'2'   </td> <td>'-6'  </td> <td>'2'  </td> <td>'2'  </td> <td>'2'  </td> <td>'2'  </td> <td>'1' </td> <td>'-6'    </td> <td>'-6'  </td> <td>'-6' </td> <td>'-6' </td> <td>'-6' </td> <td>'-6'</td> <td>'-6' </td> <td>'-6' </td> <td>'-6' </td> <td>'-6'  </td> <td>'-6'  </td> <td>'-6'  </td> <td>'1'   </td> <td>'-6'   </td> <td>'-6'   </td> <td>'-6'  </td> <td>'-6'  </td> <td>'-6'  </td> <td>'-6'  </td> <td>'2'   </td> <td>'-6'  </td> <td>'-6' </td> <td>'1'  </td> <td>'-6'   </td> <td>'-6'</td> <td>'1'  </td> <td>'-6'    </td> <td>'1'   </td> <td>'-6'</td> <td>'1'   </td> <td>'-6'  </td> <td>'-6'  </td> <td>'-6'  </td> <td>'-6'  </td> <td>'-6'  </td> <td>'2'  </td> <td>'-6'  </td> <td>'2'  </td> <td>300 </td> <td>-6  </td> <td>-6  </td> <td>1750</td> <td>'1' </td> <td>'2' </td> <td>'-6' </td> <td>'2' </td> <td>'-6' </td> <td>-6    </td> <td>485   </td> <td>-6    </td> <td>0     </td> <td>'5'    </td> <td>'1'   </td> <td>-6    </td> <td>-6    </td> <td>-6   </td> <td>'1' </td> <td>1    </td> <td>-6    </td> <td>'2'   </td> <td>'-6'    </td> <td>'2'    </td> <td>'1'  </td> <td>'-6'</td> <td>'-6'  </td> <td>'-6'  </td> <td>'-6'  </td> <td>60000 </td> <td>-6   </td> <td>-6    </td> <td>-6  </td> <td>'2' </td> <td>-6    </td> <td>1     </td> <td>261 </td> <td>-6   </td> <td>-6    </td> <td>'-6'</td> <td>-6    </td> <td>'-6'</td> <td>'-6'  </td> <td>-6    </td> <td>-6  </td> <td>'-6'  </td> <td>'-6'</td> <td>'2' </td> <td>300000</td> <td>'-6'   </td> <td>851  </td> <td>'-6' </td> <td>'-6'  </td> <td>2     </td> <td>1    </td> <td>'1'   </td> <td>'2'  </td> <td>'1' </td> <td>'2'   </td> <td>88   </td> <td>'1'     </td> <td>'2'  </td> <td>44    </td> <td>-6      </td> <td>0       </td> <td>2      </td> <td>'3'  </td> <td>'057'   </td> <td>-9   </td> <td>'2'    </td> <td>'2'     </td> <td>'2'    </td> <td>2      </td> <td>'2'     </td> <td>'2'   </td> <td>'1'    </td> <td>'01'  </td> <td>1    </td> <td>'2'  </td> <td>'2'   </td> <td>-9    </td> <td>'1'  </td> <td>'2'   </td> <td>'2' </td> <td>'1'  </td> <td>0     </td> <td>'1' </td> <td>'2'    </td> <td>0     </td> <td>'1'   </td> <td>'2'   </td> <td>'2'   </td> <td>4   </td> <td>'2'    </td> <td>'1'    </td> <td>'1'   </td> <td>'1'    </td> <td>'-6'  </td> <td>'1'   </td> <td>4     </td> <td>'0'   </td> <td>'-6'  </td> <td>'2'     </td> <td>'2'    </td> <td>'2'    </td> <td>'2'      </td> <td>'2'     </td> <td>'1'      </td> <td>'2'    </td> <td>'2'     </td> <td>'1'   </td> <td>'2'    </td> <td>'2'     </td> <td>'2'      </td> <td>62000    </td> <td>0     </td> <td>-6  </td> <td>'2'  </td> <td>'2' </td> <td>'-6'</td> <td>'2' </td> <td>'2'   </td> <td>'2'  </td> <td>'1'   </td> <td>'2'  </td> <td>'1' </td> <td>'2' </td> <td>'2'  </td> <td>'2'   </td> <td>'-6'  </td> <td>'-6' </td> <td>61961 </td> <td>61961  </td> <td>61961 </td> <td>61961 </td> <td>'1'  </td> <td>-6     </td>\n",
       "        </tr>\n",
       "    </tbody>\n",
       "        <tr>\n",
       "            <td>'99'</td> <td>'89'    </td> <td>'1'   </td> <td>'4'   </td> <td>'7400'</td> <td>'1'   </td> <td>1   </td> <td>'1'   </td> <td>2    </td> <td>2     </td> <td>1960 </td> <td>'-6'  </td> <td>0     </td> <td>3     </td> <td>-6   </td> <td>'3'  </td> <td>'1' </td> <td>0   </td> <td>0     </td> <td>-6   </td> <td>'1' </td> <td>'1'  </td> <td>'2'   </td> <td>'1' </td> <td>'2' </td> <td>'-6'</td> <td>0     </td> <td>0    </td> <td>1     </td> <td>'-6'</td> <td>'-6' </td> <td>1    </td> <td>'-6'</td> <td>'-6' </td> <td>'-6'  </td> <td>'1'   </td> <td>0    </td> <td>'1'   </td> <td>'-6'</td> <td>'-6'  </td> <td>1    </td> <td>'1'    </td> <td>0     </td> <td>1     </td> <td>6000 </td> <td>'-6'    </td> <td>-6    </td> <td>'2'   </td> <td>'2'   </td> <td>'2'   </td> <td>'2'   </td> <td>'2'   </td> <td>'2'   </td> <td>'2'   </td> <td>'2'   </td> <td>'2'   </td> <td>'2'   </td> <td>'2'   </td> <td>'2'   </td> <td>'2'   </td> <td>'2' </td> <td>2     </td> <td>'1'   </td> <td>1     </td> <td>'1'   </td> <td>'2'  </td> <td>0    </td> <td>0     </td> <td>'-6'</td> <td>'-6'  </td> <td>'1'  </td> <td>'1'  </td> <td>'1'  </td> <td>'2'   </td> <td>'1'   </td> <td>0    </td> <td>'1' </td> <td>4    </td> <td>'-6'  </td> <td>'-6'  </td> <td>'-6'  </td> <td>'-6'  </td> <td>'-6' </td> <td>'1' </td> <td>'-6' </td> <td>'-6' </td> <td>'-6' </td> <td>'-6'  </td> <td>'-6' </td> <td>'-6' </td> <td>'1'   </td> <td>'-6'  </td> <td>'2'  </td> <td>'1' </td> <td>1   </td> <td>1100  </td> <td>'-6'   </td> <td>'-6'    </td> <td>-6     </td> <td>'1' </td> <td>'1'  </td> <td>'-6'  </td> <td>'5'   </td> <td>'-6'</td> <td>2010  </td> <td>'-6' </td> <td>'-6'  </td> <td>'-6' </td> <td>'1'  </td> <td>'2'   </td> <td>'-6' </td> <td>'2'   </td> <td>'2'   </td> <td>'2'   </td> <td>'1'  </td> <td>'2'   </td> <td>'-6'  </td> <td>'2'   </td> <td>'2'   </td> <td>'2'   </td> <td>'2'  </td> <td>'2'   </td> <td>'2'  </td> <td>'-6'  </td> <td>'2'   </td> <td>'-6'  </td> <td>'2'  </td> <td>7   </td> <td>'2'   </td> <td>'-6'  </td> <td>'2'  </td> <td>'2'  </td> <td>'2'  </td> <td>'2'  </td> <td>'2' </td> <td>'-6'    </td> <td>'-6'  </td> <td>'-6' </td> <td>'-6' </td> <td>'-6' </td> <td>'-6'</td> <td>'-6' </td> <td>'-6' </td> <td>'-6' </td> <td>'-6'  </td> <td>'-6'  </td> <td>'-6'  </td> <td>'1'   </td> <td>'-6'   </td> <td>'-6'   </td> <td>'-6'  </td> <td>'-6'  </td> <td>'-6'  </td> <td>'-6'  </td> <td>'-6'  </td> <td>'-6'  </td> <td>'-6' </td> <td>'1'  </td> <td>'-6'   </td> <td>'-6'</td> <td>'-6' </td> <td>'-6'    </td> <td>'1'   </td> <td>'-6'</td> <td>'1'   </td> <td>'-6'  </td> <td>'-6'  </td> <td>'-6'  </td> <td>'-6'  </td> <td>'-6'  </td> <td>'-6' </td> <td>'-6'  </td> <td>'1'  </td> <td>-6  </td> <td>300 </td> <td>300 </td> <td>5950</td> <td>'2' </td> <td>'-6'</td> <td>'-6' </td> <td>'-6'</td> <td>'-6' </td> <td>49    </td> <td>-6    </td> <td>-6    </td> <td>200   </td> <td>'6'    </td> <td>'3'   </td> <td>-6    </td> <td>-6    </td> <td>-6   </td> <td>'2' </td> <td>-6   </td> <td>-6    </td> <td>'2'   </td> <td>'-6'    </td> <td>'2'    </td> <td>'2'  </td> <td>'2' </td> <td>'-6'  </td> <td>'-6'  </td> <td>'-6'  </td> <td>350000</td> <td>-6   </td> <td>-6    </td> <td>1   </td> <td>'1' </td> <td>-6    </td> <td>1     </td> <td>1334</td> <td>-6   </td> <td>1100  </td> <td>'-6'</td> <td>-6    </td> <td>'-6'</td> <td>'-6'  </td> <td>1     </td> <td>-6  </td> <td>'-6'  </td> <td>'-6'</td> <td>'2' </td> <td>450000</td> <td>'-6'   </td> <td>1779 </td> <td>'-6' </td> <td>'-6'  </td> <td>1     </td> <td>0    </td> <td>'1'   </td> <td>'2'  </td> <td>'2' </td> <td>'2'   </td> <td>54   </td> <td>'4'     </td> <td>'2'  </td> <td>39    </td> <td>1984    </td> <td>0       </td> <td>1      </td> <td>'1'  </td> <td>'207'   </td> <td>-9   </td> <td>'2'    </td> <td>'2'     </td> <td>'2'    </td> <td>1      </td> <td>'2'     </td> <td>'2'   </td> <td>'2'    </td> <td>'04'  </td> <td>1    </td> <td>'1'  </td> <td>'2'   </td> <td>2     </td> <td>'1'  </td> <td>'2'   </td> <td>'2' </td> <td>'2'  </td> <td>0     </td> <td>'1' </td> <td>'2'    </td> <td>0     </td> <td>'2'   </td> <td>'2'   </td> <td>'2'   </td> <td>3   </td> <td>'1'    </td> <td>'1'    </td> <td>'1'   </td> <td>'1'    </td> <td>'-6'  </td> <td>'1'   </td> <td>3     </td> <td>'0'   </td> <td>'-6'  </td> <td>'2'     </td> <td>'2'    </td> <td>'2'    </td> <td>'2'      </td> <td>'2'     </td> <td>'2'      </td> <td>'1'    </td> <td>'1'     </td> <td>'2'   </td> <td>'2'    </td> <td>'2'     </td> <td>'2'      </td> <td>50000    </td> <td>180000</td> <td>-6  </td> <td>'2'  </td> <td>'2' </td> <td>'-6'</td> <td>'2' </td> <td>'2'   </td> <td>'2'  </td> <td>'2'   </td> <td>'1'  </td> <td>'2' </td> <td>'2' </td> <td>'2'  </td> <td>'2'   </td> <td>'-6'  </td> <td>'-6' </td> <td>49974 </td> <td>49974  </td> <td>240974</td> <td>240974</td> <td>'1'  </td> <td>-6     </td>\n",
       "        </tr>\n",
       "    </tbody>\n",
       "        <tr>\n",
       "            <td>'99'</td> <td>'89'    </td> <td>'2'   </td> <td>'4'   </td> <td>'5775'</td> <td>'-6'  </td> <td>-6  </td> <td>'-6'  </td> <td>-6   </td> <td>-6    </td> <td>-6   </td> <td>'-6'  </td> <td>-6    </td> <td>-6    </td> <td>-6   </td> <td>'-6' </td> <td>'-6'</td> <td>-6  </td> <td>-6    </td> <td>-6   </td> <td>'-6'</td> <td>'-6' </td> <td>'-6'  </td> <td>'-6'</td> <td>'-6'</td> <td>'-6'</td> <td>-6    </td> <td>-6   </td> <td>-6    </td> <td>'-6'</td> <td>'-6' </td> <td>-6   </td> <td>'-6'</td> <td>'-6' </td> <td>'-6'  </td> <td>'-6'  </td> <td>-6   </td> <td>'-6'  </td> <td>'-6'</td> <td>'-6'  </td> <td>-6   </td> <td>'-6'   </td> <td>-6    </td> <td>-6    </td> <td>-6   </td> <td>'-6'    </td> <td>-6    </td> <td>'-6'  </td> <td>'-6'  </td> <td>'-6'  </td> <td>'-6'  </td> <td>'-6'  </td> <td>'-6'  </td> <td>'-6'  </td> <td>'-6'  </td> <td>'-6'  </td> <td>'-6'  </td> <td>'-6'  </td> <td>'-6'  </td> <td>'-6'  </td> <td>'2' </td> <td>-6    </td> <td>'-6'  </td> <td>-6    </td> <td>'-6'  </td> <td>'-6' </td> <td>-6   </td> <td>-6    </td> <td>'-6'</td> <td>'-6'  </td> <td>'-6' </td> <td>'-6' </td> <td>'-6' </td> <td>'-6'  </td> <td>'-6'  </td> <td>-6   </td> <td>'-6'</td> <td>-6   </td> <td>'-6'  </td> <td>'-6'  </td> <td>'-6'  </td> <td>'-6'  </td> <td>'-6' </td> <td>'-6'</td> <td>'-6' </td> <td>'-6' </td> <td>'-6' </td> <td>'-6'  </td> <td>'-6' </td> <td>'-6' </td> <td>'1'   </td> <td>'-6'  </td> <td>'-6' </td> <td>'-6'</td> <td>1   </td> <td>-6    </td> <td>'-6'   </td> <td>'-6'    </td> <td>-6     </td> <td>'-6'</td> <td>'-6' </td> <td>'-6'  </td> <td>'-6'  </td> <td>'-6'</td> <td>-6    </td> <td>'-6' </td> <td>'-6'  </td> <td>'-6' </td> <td>'-6' </td> <td>'-6'  </td> <td>'-6' </td> <td>'-6'  </td> <td>'-6'  </td> <td>'-6'  </td> <td>'-6' </td> <td>'-6'  </td> <td>'-6'  </td> <td>'-6'  </td> <td>'-6'  </td> <td>'-6'  </td> <td>'-6' </td> <td>'-6'  </td> <td>'-6' </td> <td>'-6'  </td> <td>'-6'  </td> <td>'-6'  </td> <td>'-6' </td> <td>-6  </td> <td>'-6'  </td> <td>'-6'  </td> <td>'-6' </td> <td>'-6' </td> <td>'-6' </td> <td>'-6' </td> <td>'-6'</td> <td>'-6'    </td> <td>'-6'  </td> <td>'-6' </td> <td>'-6' </td> <td>'-6' </td> <td>'-6'</td> <td>'-6' </td> <td>'-6' </td> <td>'-6' </td> <td>'-6'  </td> <td>'-6'  </td> <td>'-6'  </td> <td>'-6'  </td> <td>'-6'   </td> <td>'-6'   </td> <td>'-6'  </td> <td>'-6'  </td> <td>'-6'  </td> <td>'-6'  </td> <td>'-6'  </td> <td>'-6'  </td> <td>'-6' </td> <td>'-6' </td> <td>'-6'   </td> <td>'-6'</td> <td>'-6' </td> <td>'-6'    </td> <td>'-6'  </td> <td>'-6'</td> <td>'-6'  </td> <td>'-6'  </td> <td>'-6'  </td> <td>'-6'  </td> <td>'-6'  </td> <td>'-6'  </td> <td>'-6' </td> <td>'-6'  </td> <td>'-6' </td> <td>-6  </td> <td>-6  </td> <td>-6  </td> <td>-6  </td> <td>'-6'</td> <td>'-6'</td> <td>'-6' </td> <td>'-6'</td> <td>'-6' </td> <td>-6    </td> <td>-6    </td> <td>-6    </td> <td>-6    </td> <td>'-6'   </td> <td>'-6'  </td> <td>-6    </td> <td>-6    </td> <td>-6   </td> <td>'-6'</td> <td>-6   </td> <td>-6    </td> <td>'-6'  </td> <td>'-6'    </td> <td>'2'    </td> <td>'-6' </td> <td>'-6'</td> <td>'-6'  </td> <td>'-6'  </td> <td>'-6'  </td> <td>-6    </td> <td>-6   </td> <td>-6    </td> <td>-6  </td> <td>'-6'</td> <td>-6    </td> <td>-6    </td> <td>-6  </td> <td>-6   </td> <td>-6    </td> <td>'-6'</td> <td>-6    </td> <td>'-6'</td> <td>'-6'  </td> <td>-6    </td> <td>-6  </td> <td>'-6'  </td> <td>'-6'</td> <td>'-6'</td> <td>-6    </td> <td>'-6'   </td> <td>-6   </td> <td>'-6' </td> <td>'-6'  </td> <td>-6    </td> <td>-6   </td> <td>'-6'  </td> <td>'-6' </td> <td>'-6'</td> <td>'-6'  </td> <td>-6   </td> <td>'-6'    </td> <td>'-6' </td> <td>-6    </td> <td>-6      </td> <td>-6      </td> <td>-6     </td> <td>'-6' </td> <td>'-6'    </td> <td>-6   </td> <td>'-6'   </td> <td>'-6'    </td> <td>'-6'   </td> <td>-6     </td> <td>'-6'    </td> <td>'-6'  </td> <td>'-6'   </td> <td>'-6'  </td> <td>-6   </td> <td>'-6' </td> <td>'-6'  </td> <td>-6    </td> <td>'-6' </td> <td>'-6'  </td> <td>'-6'</td> <td>'-6' </td> <td>-6    </td> <td>'-6'</td> <td>'-6'   </td> <td>-6    </td> <td>'-6'  </td> <td>'-6'  </td> <td>'-6'  </td> <td>-6  </td> <td>'2'    </td> <td>'-9'   </td> <td>'1'   </td> <td>'-6'   </td> <td>'-6'  </td> <td>'4'   </td> <td>-6    </td> <td>'-6'  </td> <td>'-6'  </td> <td>'-6'    </td> <td>'-6'   </td> <td>'-6'   </td> <td>'-6'     </td> <td>'-6'    </td> <td>'-6'     </td> <td>'-6'   </td> <td>'-6'    </td> <td>'-6'  </td> <td>'-6'   </td> <td>'-6'    </td> <td>'-6'     </td> <td>-6       </td> <td>-6    </td> <td>-6  </td> <td>'-9' </td> <td>'-9'</td> <td>'-6'</td> <td>'-9'</td> <td>'-9'  </td> <td>'-9' </td> <td>'-9'  </td> <td>'-9' </td> <td>'-9'</td> <td>'-9'</td> <td>'-9' </td> <td>'-9'  </td> <td>'-6'  </td> <td>'-6' </td> <td>-6    </td> <td>-6     </td> <td>-6    </td> <td>-6    </td> <td>'-6' </td> <td>-6     </td>\n",
       "        </tr>\n",
       "    </tbody>\n",
       "        <tr>\n",
       "            <td>'99'</td> <td>'89'    </td> <td>'1'   </td> <td>'4'   </td> <td>'5775'</td> <td>'1'   </td> <td>2   </td> <td>'2'   </td> <td>1    </td> <td>1     </td> <td>1940 </td> <td>'-6'  </td> <td>0     </td> <td>-6    </td> <td>0    </td> <td>'3'  </td> <td>'1' </td> <td>0   </td> <td>1     </td> <td>-6   </td> <td>'2' </td> <td>'2'  </td> <td>'-6'  </td> <td>'2' </td> <td>'-6'</td> <td>'1' </td> <td>0     </td> <td>0    </td> <td>2     </td> <td>'-6'</td> <td>'-6' </td> <td>2    </td> <td>'-6'</td> <td>'-6' </td> <td>'-6'  </td> <td>'1'   </td> <td>0    </td> <td>'1'   </td> <td>'-6'</td> <td>'1'   </td> <td>1    </td> <td>'1'    </td> <td>0     </td> <td>1     </td> <td>-6   </td> <td>'-6'    </td> <td>-6    </td> <td>'2'   </td> <td>'2'   </td> <td>'2'   </td> <td>'2'   </td> <td>'2'   </td> <td>'2'   </td> <td>'2'   </td> <td>'2'   </td> <td>'2'   </td> <td>'2'   </td> <td>'2'   </td> <td>'2'   </td> <td>'2'   </td> <td>'2' </td> <td>-6    </td> <td>'3'   </td> <td>4     </td> <td>'-6'  </td> <td>'-6' </td> <td>0    </td> <td>0     </td> <td>'-6'</td> <td>'-6'  </td> <td>'1'  </td> <td>'1'  </td> <td>'1'  </td> <td>'-6'  </td> <td>'1'   </td> <td>0    </td> <td>'1' </td> <td>4    </td> <td>'-6'  </td> <td>'-6'  </td> <td>'-6'  </td> <td>'-6'  </td> <td>'-6' </td> <td>'1' </td> <td>'-6' </td> <td>'-6' </td> <td>'-6' </td> <td>'-6'  </td> <td>'-6' </td> <td>'-6' </td> <td>'2'   </td> <td>'-6'  </td> <td>'2'  </td> <td>'1' </td> <td>1   </td> <td>5000  </td> <td>'-6'   </td> <td>'-6'    </td> <td>-6     </td> <td>'2' </td> <td>'1'  </td> <td>'-6'  </td> <td>'5'   </td> <td>'-6'</td> <td>-6    </td> <td>'-6' </td> <td>'3'   </td> <td>'-6' </td> <td>'1'  </td> <td>'2'   </td> <td>'-6' </td> <td>'-6'  </td> <td>'-6'  </td> <td>'-6'  </td> <td>'-6' </td> <td>'-6'  </td> <td>'-6'  </td> <td>'-6'  </td> <td>'-6'  </td> <td>'2'   </td> <td>'-6' </td> <td>'-6'  </td> <td>'1'  </td> <td>'-6'  </td> <td>'1'   </td> <td>'2'   </td> <td>'2'  </td> <td>8   </td> <td>'2'   </td> <td>'1'   </td> <td>'2'  </td> <td>'2'  </td> <td>'2'  </td> <td>'2'  </td> <td>'2' </td> <td>'-6'    </td> <td>'2'   </td> <td>'2'  </td> <td>'2'  </td> <td>'1'  </td> <td>'-6'</td> <td>'2'  </td> <td>'2'  </td> <td>'1'  </td> <td>'-6'  </td> <td>'-6'  </td> <td>'-6'  </td> <td>'1'   </td> <td>'-6'   </td> <td>'1'    </td> <td>'-6'  </td> <td>'-6'  </td> <td>'-6'  </td> <td>'2'   </td> <td>'-6'  </td> <td>'-6'  </td> <td>'-6' </td> <td>'1'  </td> <td>'-6'   </td> <td>'-6'</td> <td>'-6' </td> <td>'-6'    </td> <td>'1'   </td> <td>'-6'</td> <td>'1'   </td> <td>'-6'  </td> <td>'-6'  </td> <td>'-6'  </td> <td>'-6'  </td> <td>'-6'  </td> <td>'-6' </td> <td>'-6'  </td> <td>'2'  </td> <td>-6  </td> <td>-6  </td> <td>-6  </td> <td>-6  </td> <td>'2' </td> <td>'2' </td> <td>'-6' </td> <td>'2' </td> <td>'-6' </td> <td>-6    </td> <td>-6    </td> <td>-6    </td> <td>-6    </td> <td>'-6'   </td> <td>'-6'  </td> <td>-6    </td> <td>-6    </td> <td>12   </td> <td>'-6'</td> <td>-6   </td> <td>-6    </td> <td>'-6'  </td> <td>'3'     </td> <td>'2'    </td> <td>'-6' </td> <td>'-6'</td> <td>'-6'  </td> <td>'-6'  </td> <td>'-6'  </td> <td>-6    </td> <td>-6   </td> <td>-6    </td> <td>-6  </td> <td>'-6'</td> <td>-6    </td> <td>-6    </td> <td>442 </td> <td>-6   </td> <td>-6    </td> <td>'-6'</td> <td>-6    </td> <td>'-6'</td> <td>'2'   </td> <td>-6    </td> <td>757 </td> <td>'2'   </td> <td>'-6'</td> <td>'-6'</td> <td>-6    </td> <td>'-6'   </td> <td>811  </td> <td>'-6' </td> <td>'-6'  </td> <td>1     </td> <td>0    </td> <td>'-6'  </td> <td>'2'  </td> <td>'2' </td> <td>'2'   </td> <td>60   </td> <td>'1'     </td> <td>'2'  </td> <td>44    </td> <td>-6      </td> <td>0       </td> <td>0      </td> <td>'6'  </td> <td>'057'   </td> <td>-6   </td> <td>'2'    </td> <td>'2'     </td> <td>'2'    </td> <td>1      </td> <td>'2'     </td> <td>'2'   </td> <td>'2'    </td> <td>'01'  </td> <td>2    </td> <td>'2'  </td> <td>'2'   </td> <td>-6    </td> <td>'1'  </td> <td>'2'   </td> <td>'2' </td> <td>'2'  </td> <td>0     </td> <td>'1' </td> <td>'2'    </td> <td>0     </td> <td>'2'   </td> <td>'-6'  </td> <td>'-6'  </td> <td>1   </td> <td>'1'    </td> <td>'6'    </td> <td>'1'   </td> <td>'1'    </td> <td>'-6'  </td> <td>'1'   </td> <td>1     </td> <td>'0'   </td> <td>'-6'  </td> <td>'2'     </td> <td>'2'    </td> <td>'2'    </td> <td>'2'      </td> <td>'2'     </td> <td>'2'      </td> <td>'1'    </td> <td>'2'     </td> <td>'2'   </td> <td>'2'    </td> <td>'2'     </td> <td>'2'      </td> <td>-13      </td> <td>53000 </td> <td>-6  </td> <td>'2'  </td> <td>'2' </td> <td>'-6'</td> <td>'2' </td> <td>'2'   </td> <td>'2'  </td> <td>'2'   </td> <td>'2'  </td> <td>'2' </td> <td>'2' </td> <td>'2'  </td> <td>'2'   </td> <td>'2'   </td> <td>'-6' </td> <td>-13   </td> <td>-13    </td> <td>52987 </td> <td>52987 </td> <td>'2'  </td> <td>43000  </td>\n",
       "        </tr>\n",
       "    </tbody>\n",
       "        <tr>\n",
       "            <td>'99'</td> <td>'89'    </td> <td>'2'   </td> <td>'4'   </td> <td>'5775'</td> <td>'1'   </td> <td>2   </td> <td>'1'   </td> <td>2    </td> <td>3     </td> <td>1970 </td> <td>'-6'  </td> <td>1     </td> <td>3     </td> <td>-6   </td> <td>'3'  </td> <td>'1' </td> <td>0   </td> <td>1     </td> <td>-6   </td> <td>'1' </td> <td>'1'  </td> <td>'2'   </td> <td>'1' </td> <td>'2' </td> <td>'-6'</td> <td>0     </td> <td>0    </td> <td>1     </td> <td>'-6'</td> <td>'1'  </td> <td>1    </td> <td>'-9'</td> <td>'1'  </td> <td>'-6'  </td> <td>'1'   </td> <td>0    </td> <td>'1'   </td> <td>'-6'</td> <td>'-6'  </td> <td>1    </td> <td>'1'    </td> <td>0     </td> <td>1     </td> <td>58520</td> <td>'-6'    </td> <td>-6    </td> <td>'2'   </td> <td>'2'   </td> <td>'2'   </td> <td>'2'   </td> <td>'2'   </td> <td>'2'   </td> <td>'2'   </td> <td>'2'   </td> <td>'2'   </td> <td>'2'   </td> <td>'2'   </td> <td>'2'   </td> <td>'2'   </td> <td>'2' </td> <td>-6    </td> <td>'1'   </td> <td>1     </td> <td>'2'   </td> <td>'2'  </td> <td>0    </td> <td>0     </td> <td>'-6'</td> <td>'-6'  </td> <td>'1'  </td> <td>'1'  </td> <td>'1'  </td> <td>'2'   </td> <td>'1'   </td> <td>1    </td> <td>'1' </td> <td>7    </td> <td>'-6'  </td> <td>'-6'  </td> <td>'-6'  </td> <td>'-6'  </td> <td>'-6' </td> <td>'1' </td> <td>'-6' </td> <td>'-6' </td> <td>'-6' </td> <td>'-6'  </td> <td>'-6' </td> <td>'2'  </td> <td>'1'   </td> <td>'-6'  </td> <td>'1'  </td> <td>'1' </td> <td>1   </td> <td>1825  </td> <td>'-6'   </td> <td>'-6'    </td> <td>-6     </td> <td>'1' </td> <td>'1'  </td> <td>'-6'  </td> <td>'5'   </td> <td>'-6'</td> <td>1986  </td> <td>'-6' </td> <td>'-6'  </td> <td>'-6' </td> <td>'1'  </td> <td>'2'   </td> <td>'-6' </td> <td>'2'   </td> <td>'2'   </td> <td>'2'   </td> <td>'1'  </td> <td>'2'   </td> <td>'-6'  </td> <td>'2'   </td> <td>'2'   </td> <td>'2'   </td> <td>'2'  </td> <td>'2'   </td> <td>'2'  </td> <td>'-6'  </td> <td>'2'   </td> <td>'-6'  </td> <td>'2'  </td> <td>10  </td> <td>'2'   </td> <td>'-6'  </td> <td>'2'  </td> <td>'2'  </td> <td>'2'  </td> <td>'2'  </td> <td>'2' </td> <td>'-6'    </td> <td>'-6'  </td> <td>'-6' </td> <td>'-6' </td> <td>'-6' </td> <td>'-6'</td> <td>'-6' </td> <td>'-6' </td> <td>'-6' </td> <td>'-6'  </td> <td>'-6'  </td> <td>'-6'  </td> <td>'1'   </td> <td>'-6'   </td> <td>'-6'   </td> <td>'-6'  </td> <td>'-6'  </td> <td>'-6'  </td> <td>'-6'  </td> <td>'-6'  </td> <td>'-6'  </td> <td>'-6' </td> <td>'1'  </td> <td>'-6'   </td> <td>'-6'</td> <td>'-6' </td> <td>'-6'    </td> <td>'1'   </td> <td>'-6'</td> <td>'1'   </td> <td>'-6'  </td> <td>'-6'  </td> <td>'-6'  </td> <td>'-6'  </td> <td>'-6'  </td> <td>'-6' </td> <td>'-6'  </td> <td>'1'  </td> <td>2700</td> <td>400 </td> <td>924 </td> <td>4850</td> <td>'1' </td> <td>'-6'</td> <td>'-6' </td> <td>'-6'</td> <td>'-6' </td> <td>28    </td> <td>-6    </td> <td>-6    </td> <td>0     </td> <td>'8'    </td> <td>'1'   </td> <td>-6    </td> <td>-6    </td> <td>-6   </td> <td>'2' </td> <td>-6   </td> <td>-6    </td> <td>'2'   </td> <td>'-6'    </td> <td>'2'    </td> <td>'2'  </td> <td>'2' </td> <td>'-6'  </td> <td>'-6'  </td> <td>'-6'  </td> <td>280000</td> <td>-6   </td> <td>-6    </td> <td>1   </td> <td>'1' </td> <td>-6    </td> <td>1     </td> <td>873 </td> <td>-6   </td> <td>575   </td> <td>'-6'</td> <td>-6    </td> <td>'-6'</td> <td>'-6'  </td> <td>1     </td> <td>-6  </td> <td>'-6'  </td> <td>'-6'</td> <td>'1' </td> <td>900000</td> <td>'-6'   </td> <td>1560 </td> <td>'-6' </td> <td>'-6'  </td> <td>1     </td> <td>2    </td> <td>'1'   </td> <td>'2'  </td> <td>'2' </td> <td>'2'   </td> <td>82   </td> <td>'1'     </td> <td>'2'  </td> <td>44    </td> <td>-6      </td> <td>0       </td> <td>0      </td> <td>'1'  </td> <td>'057'   </td> <td>-9   </td> <td>'2'    </td> <td>'2'     </td> <td>'2'    </td> <td>1      </td> <td>'2'     </td> <td>'2'   </td> <td>'2'    </td> <td>'01'  </td> <td>1    </td> <td>'1'  </td> <td>'2'   </td> <td>2     </td> <td>'1'  </td> <td>'2'   </td> <td>'2' </td> <td>'2'  </td> <td>0     </td> <td>'1' </td> <td>'2'    </td> <td>0     </td> <td>'2'   </td> <td>'2'   </td> <td>'2'   </td> <td>2   </td> <td>'2'    </td> <td>'1'    </td> <td>'1'   </td> <td>'1'    </td> <td>'-6'  </td> <td>'1'   </td> <td>2     </td> <td>'0'   </td> <td>'-6'  </td> <td>'2'     </td> <td>'2'    </td> <td>'1'    </td> <td>'2'      </td> <td>'2'     </td> <td>'1'      </td> <td>'2'    </td> <td>'1'     </td> <td>'1'   </td> <td>'2'    </td> <td>'2'     </td> <td>'1'      </td> <td>117117   </td> <td>0     </td> <td>-6  </td> <td>'2'  </td> <td>'2' </td> <td>'-6'</td> <td>'1' </td> <td>'2'   </td> <td>'2'  </td> <td>'1'   </td> <td>'1'  </td> <td>'1' </td> <td>'2' </td> <td>'2'  </td> <td>'1'   </td> <td>'-6'  </td> <td>'-6' </td> <td>121917</td> <td>121917 </td> <td>121917</td> <td>121917</td> <td>'2'  </td> <td>130000 </td>\n",
       "        </tr>\n",
       "    </tbody>\n",
       "        <tr>\n",
       "            <td>'99'</td> <td>'89'    </td> <td>'2'   </td> <td>'4'   </td> <td>'5775'</td> <td>'1'   </td> <td>2   </td> <td>'2'   </td> <td>1    </td> <td>2     </td> <td>1950 </td> <td>'-6'  </td> <td>0     </td> <td>-6    </td> <td>1    </td> <td>'3'  </td> <td>'1' </td> <td>0   </td> <td>0     </td> <td>-6   </td> <td>'2' </td> <td>'2'  </td> <td>'-6'  </td> <td>'1' </td> <td>'-6'</td> <td>'1' </td> <td>0     </td> <td>0    </td> <td>1     </td> <td>'-6'</td> <td>'-6' </td> <td>2    </td> <td>'-6'</td> <td>'-6' </td> <td>'-6'  </td> <td>'2'   </td> <td>0    </td> <td>'1'   </td> <td>'2' </td> <td>'1'   </td> <td>1    </td> <td>'1'    </td> <td>0     </td> <td>1     </td> <td>-6   </td> <td>'-6'    </td> <td>-6    </td> <td>'2'   </td> <td>'2'   </td> <td>'2'   </td> <td>'2'   </td> <td>'2'   </td> <td>'2'   </td> <td>'2'   </td> <td>'2'   </td> <td>'2'   </td> <td>'2'   </td> <td>'2'   </td> <td>'2'   </td> <td>'2'   </td> <td>'2' </td> <td>-6    </td> <td>'3'   </td> <td>15    </td> <td>'-6'  </td> <td>'-6' </td> <td>0    </td> <td>0     </td> <td>'-6'</td> <td>'-6'  </td> <td>'1'  </td> <td>'1'  </td> <td>'1'  </td> <td>'-6'  </td> <td>'1'   </td> <td>0    </td> <td>'1' </td> <td>4    </td> <td>'-6'  </td> <td>'-6'  </td> <td>'-6'  </td> <td>'-6'  </td> <td>'-6' </td> <td>'1' </td> <td>'-6' </td> <td>'-6' </td> <td>'-6' </td> <td>'-6'  </td> <td>'-6' </td> <td>'-6' </td> <td>'2'   </td> <td>'-6'  </td> <td>'2'  </td> <td>'1' </td> <td>1   </td> <td>900   </td> <td>'-6'   </td> <td>'-6'    </td> <td>-6     </td> <td>'1' </td> <td>'1'  </td> <td>'6'   </td> <td>'5'   </td> <td>'-6'</td> <td>-6    </td> <td>'-6' </td> <td>'1'   </td> <td>'-6' </td> <td>'1'  </td> <td>'2'   </td> <td>'-6' </td> <td>'-6'  </td> <td>'-6'  </td> <td>'-6'  </td> <td>'-6' </td> <td>'-6'  </td> <td>'-6'  </td> <td>'-6'  </td> <td>'-6'  </td> <td>'1'   </td> <td>'-6' </td> <td>'-6'  </td> <td>'1'  </td> <td>'-6'  </td> <td>'1'   </td> <td>'4'   </td> <td>'2'  </td> <td>10  </td> <td>'2'   </td> <td>'1'   </td> <td>'2'  </td> <td>'2'  </td> <td>'2'  </td> <td>'2'  </td> <td>'2' </td> <td>'1'     </td> <td>'2'   </td> <td>'1'  </td> <td>'1'  </td> <td>'1'  </td> <td>'-6'</td> <td>'1'  </td> <td>'1'  </td> <td>'1'  </td> <td>'-6'  </td> <td>'-6'  </td> <td>'-6'  </td> <td>'1'   </td> <td>'-6'   </td> <td>'8'    </td> <td>'-6'  </td> <td>'-6'  </td> <td>'-6'  </td> <td>'2'   </td> <td>'-6'  </td> <td>'-6'  </td> <td>'-6' </td> <td>'1'  </td> <td>'-6'   </td> <td>'-6'</td> <td>'-6' </td> <td>'4'     </td> <td>'1'   </td> <td>'-6'</td> <td>'2'   </td> <td>'-6'  </td> <td>'-6'  </td> <td>'-6'  </td> <td>'-6'  </td> <td>'-6'  </td> <td>'-6' </td> <td>'-6'  </td> <td>'3'  </td> <td>-6  </td> <td>-6  </td> <td>-6  </td> <td>-6  </td> <td>'2' </td> <td>'2' </td> <td>'-6' </td> <td>'2' </td> <td>'-6' </td> <td>-6    </td> <td>-6    </td> <td>-6    </td> <td>-6    </td> <td>'-6'   </td> <td>'-6'  </td> <td>-6    </td> <td>-6    </td> <td>12   </td> <td>'-6'</td> <td>-6   </td> <td>-6    </td> <td>'-6'  </td> <td>'1'     </td> <td>'2'    </td> <td>'-6' </td> <td>'-6'</td> <td>'-6'  </td> <td>'-6'  </td> <td>'-6'  </td> <td>-6    </td> <td>-6   </td> <td>-6    </td> <td>-6  </td> <td>'-6'</td> <td>-6    </td> <td>-6    </td> <td>1   </td> <td>178  </td> <td>-6    </td> <td>'1' </td> <td>-6    </td> <td>'-6'</td> <td>'-6'  </td> <td>-6    </td> <td>178 </td> <td>'2'   </td> <td>'-6'</td> <td>'-6'</td> <td>-6    </td> <td>'-6'   </td> <td>217  </td> <td>'1'  </td> <td>'-6'  </td> <td>1     </td> <td>0    </td> <td>'-6'  </td> <td>'2'  </td> <td>'2' </td> <td>'2'   </td> <td>40   </td> <td>'5'     </td> <td>'2'  </td> <td>34    </td> <td>1998    </td> <td>3       </td> <td>3      </td> <td>'1'  </td> <td>'315'   </td> <td>-9   </td> <td>'2'    </td> <td>'2'     </td> <td>'2'    </td> <td>1      </td> <td>'2'     </td> <td>'2'   </td> <td>'2'    </td> <td>'01'  </td> <td>1    </td> <td>'2'  </td> <td>'1'   </td> <td>2     </td> <td>'1'  </td> <td>'2'   </td> <td>'2' </td> <td>'2'  </td> <td>3     </td> <td>'2' </td> <td>'2'    </td> <td>0     </td> <td>'1'   </td> <td>'-6'  </td> <td>'-6'  </td> <td>5   </td> <td>'1'    </td> <td>'6'    </td> <td>'1'   </td> <td>'1'    </td> <td>'-6'  </td> <td>'1'   </td> <td>2     </td> <td>'0'   </td> <td>'-6'  </td> <td>'2'     </td> <td>'2'    </td> <td>'2'    </td> <td>'2'      </td> <td>'2'     </td> <td>'2'      </td> <td>'2'    </td> <td>'2'     </td> <td>'2'   </td> <td>'2'    </td> <td>'2'     </td> <td>'2'      </td> <td>-13      </td> <td>0     </td> <td>-6  </td> <td>'2'  </td> <td>'2' </td> <td>'1' </td> <td>'2' </td> <td>'2'   </td> <td>'2'  </td> <td>'2'   </td> <td>'2'  </td> <td>'2' </td> <td>'2' </td> <td>'2'  </td> <td>'2'   </td> <td>'1'   </td> <td>'2'  </td> <td>-26   </td> <td>-26    </td> <td>-26   </td> <td>-26   </td> <td>'1'  </td> <td>-6     </td>\n",
       "        </tr>\n",
       "    </tbody>\n",
       "        <tr>\n",
       "            <td>'99'</td> <td>'89'    </td> <td>'2'   </td> <td>'4'   </td> <td>'7400'</td> <td>'1'   </td> <td>2   </td> <td>'2'   </td> <td>1    </td> <td>2     </td> <td>1960 </td> <td>'-6'  </td> <td>0     </td> <td>-6    </td> <td>1    </td> <td>'1'  </td> <td>'1' </td> <td>0   </td> <td>1     </td> <td>-6   </td> <td>'1' </td> <td>'1'  </td> <td>'2'   </td> <td>'2' </td> <td>'-6'</td> <td>'1' </td> <td>0     </td> <td>0    </td> <td>2     </td> <td>'-6'</td> <td>'-6' </td> <td>2    </td> <td>'-6'</td> <td>'-6' </td> <td>'-6'  </td> <td>'1'   </td> <td>0    </td> <td>'1'   </td> <td>'-6'</td> <td>'1'   </td> <td>1    </td> <td>'1'    </td> <td>0     </td> <td>1     </td> <td>-6   </td> <td>'-6'    </td> <td>-6    </td> <td>'2'   </td> <td>'2'   </td> <td>'2'   </td> <td>'2'   </td> <td>'2'   </td> <td>'2'   </td> <td>'2'   </td> <td>'2'   </td> <td>'2'   </td> <td>'2'   </td> <td>'2'   </td> <td>'2'   </td> <td>'2'   </td> <td>'2' </td> <td>-6    </td> <td>'3'   </td> <td>10    </td> <td>'-6'  </td> <td>'-6' </td> <td>0    </td> <td>0     </td> <td>'-6'</td> <td>'-6'  </td> <td>'1'  </td> <td>'1'  </td> <td>'1'  </td> <td>'2'   </td> <td>'1'   </td> <td>0    </td> <td>'1' </td> <td>5    </td> <td>'-6'  </td> <td>'-6'  </td> <td>'-6'  </td> <td>'-6'  </td> <td>'-6' </td> <td>'1' </td> <td>'-6' </td> <td>'-6' </td> <td>'-6' </td> <td>'-6'  </td> <td>'-6' </td> <td>'-6' </td> <td>'1'   </td> <td>'-6'  </td> <td>'2'  </td> <td>'1' </td> <td>1   </td> <td>892   </td> <td>'-6'   </td> <td>'-6'    </td> <td>-6     </td> <td>'2' </td> <td>'1'  </td> <td>'-6'  </td> <td>'5'   </td> <td>'-6'</td> <td>2006  </td> <td>'-6' </td> <td>'-6'  </td> <td>'2'  </td> <td>'1'  </td> <td>'2'   </td> <td>'-6' </td> <td>'-6'  </td> <td>'-6'  </td> <td>'-6'  </td> <td>'-6' </td> <td>'-6'  </td> <td>'-6'  </td> <td>'-6'  </td> <td>'-6'  </td> <td>'2'   </td> <td>'-6' </td> <td>'-6'  </td> <td>'2'  </td> <td>'-6'  </td> <td>'2'   </td> <td>'-6'  </td> <td>'2'  </td> <td>7   </td> <td>'2'   </td> <td>'-6'  </td> <td>'2'  </td> <td>'2'  </td> <td>'2'  </td> <td>'2'  </td> <td>'1' </td> <td>'-6'    </td> <td>'-6'  </td> <td>'-6' </td> <td>'-6' </td> <td>'-6' </td> <td>'-6'</td> <td>'-6' </td> <td>'-6' </td> <td>'-6' </td> <td>'-6'  </td> <td>'-6'  </td> <td>'-6'  </td> <td>'1'   </td> <td>'-6'   </td> <td>'-6'   </td> <td>'-6'  </td> <td>'-6'  </td> <td>'-6'  </td> <td>'-6'  </td> <td>'2'   </td> <td>'-6'  </td> <td>'-6' </td> <td>'1'  </td> <td>'-6'   </td> <td>'-6'</td> <td>'1'  </td> <td>'-6'    </td> <td>'1'   </td> <td>'-6'</td> <td>'1'   </td> <td>'-6'  </td> <td>'-6'  </td> <td>'-6'  </td> <td>'-6'  </td> <td>'-6'  </td> <td>'2'  </td> <td>'-6'  </td> <td>'1'  </td> <td>-6  </td> <td>-6  </td> <td>-6  </td> <td>4050</td> <td>'2' </td> <td>'2' </td> <td>'-6' </td> <td>'2' </td> <td>'-6' </td> <td>80    </td> <td>355   </td> <td>-6    </td> <td>1000  </td> <td>'5'    </td> <td>'2'   </td> <td>-6    </td> <td>-6    </td> <td>-6   </td> <td>'2' </td> <td>-6   </td> <td>-6    </td> <td>'2'   </td> <td>'-6'    </td> <td>'2'    </td> <td>'1'  </td> <td>'-6'</td> <td>'-6'  </td> <td>'-6'  </td> <td>'-6'  </td> <td>440000</td> <td>-6   </td> <td>-6    </td> <td>1   </td> <td>'1' </td> <td>-6    </td> <td>1     </td> <td>545 </td> <td>-6   </td> <td>2500  </td> <td>'-6'</td> <td>-6    </td> <td>'-6'</td> <td>'-6'  </td> <td>1     </td> <td>-6  </td> <td>'-6'  </td> <td>'-6'</td> <td>'2' </td> <td>400000</td> <td>'-6'   </td> <td>3310 </td> <td>'-6' </td> <td>'-6'  </td> <td>1     </td> <td>0    </td> <td>'1'   </td> <td>'2'  </td> <td>'2' </td> <td>'2'   </td> <td>50   </td> <td>'5'     </td> <td>'2'  </td> <td>43    </td> <td>1998    </td> <td>3       </td> <td>3      </td> <td>'1'  </td> <td>'231'   </td> <td>-9   </td> <td>'2'    </td> <td>'2'     </td> <td>'2'    </td> <td>1      </td> <td>'2'     </td> <td>'2'   </td> <td>'2'    </td> <td>'04'  </td> <td>1    </td> <td>'1'  </td> <td>'2'   </td> <td>2     </td> <td>'1'  </td> <td>'2'   </td> <td>'2' </td> <td>'2'  </td> <td>3     </td> <td>'1' </td> <td>'2'    </td> <td>0     </td> <td>'1'   </td> <td>'2'   </td> <td>'2'   </td> <td>5   </td> <td>'1'    </td> <td>'1'    </td> <td>'1'   </td> <td>'1'    </td> <td>'-6'  </td> <td>'1'   </td> <td>2     </td> <td>'0'   </td> <td>'-6'  </td> <td>'2'     </td> <td>'2'    </td> <td>'2'    </td> <td>'2'      </td> <td>'2'     </td> <td>'2'      </td> <td>'1'    </td> <td>'2'     </td> <td>'2'   </td> <td>'2'    </td> <td>'2'     </td> <td>'2'      </td> <td>-13      </td> <td>50000 </td> <td>-6  </td> <td>'2'  </td> <td>'1' </td> <td>'-6'</td> <td>'1' </td> <td>'2'   </td> <td>'2'  </td> <td>'2'   </td> <td>'2'  </td> <td>'2' </td> <td>'2' </td> <td>'2'  </td> <td>'2'   </td> <td>'-6'  </td> <td>'-6' </td> <td>9987  </td> <td>9987   </td> <td>149987</td> <td>149987</td> <td>'1'  </td> <td>-6     </td>\n",
       "        </tr>\n",
       "    </tbody>\n",
       "</table>\n",
       "<p>... (1271 rows omitted)</p"
      ],
      "text/plain": [
       "CMSA | DIVISION | METRO3 | REGION | SMSA   | ACCESS | AIR  | AIRSYS | BATHS | BEDRMS | BUILT | BURNER | BUSPER | CELLAR | CLIMB | CONDO | COOK | DENS | DINING | DIRAC | DISH | DISPL | DRSHOP | DRY  | EBAR | ELEV | EXCLUS | FAMRM | FLOORS | FLOT | FPINS | FPLWK | FRPL | FRPLI | FRSTOC | GARAGE | HALFB | HOTPIP | INCP | KEXCLU | KITCH | KITCHEN | LAUNDY | LIVING | LOT   | MOBILTYP | MOPERM | MOSALL | MOSAPR | MOSAUG | MOSDEC | MOSFEB | MOSJAN | MOSJUL | MOSJUN | MOSMAR | MOSMAY | MOSNOV | MOSOCT | MOSSEP | NEWC | NUMAIR | NUNIT2 | NUNITS | OARSYS | OTBUP | OTHFN | OTHRUN | OVEN | OWNLOT | PHONE | PLUGS | PORCH | PREOCC | PUBSEW | RECRM | REFR | ROOMS | SEWDIS | SEWDUS | SHARAT | SHARFR | SINHV | SINK | SINVV | SOTHV | SRECV | SRENTV | SSELV | STEAM | TENURE | TIMSHR | TRASH | TUB  | TYPE | UNITSF | VACANC2 | VACANC2B | VACANCY | WASH | WATER | WATERD | WELDUS | WELL | WHNGET | YRRND | BLDMNT | BLEAK | BSINK | CRACKS | DISAS | EBOARD | EBROKE | ECRUMB | EGOOD | EHOLER | ELEVWK | EMISSR | EMISSW | EROACH | ESAGR | ESLOPW | EVROD | EXPOSE | FREEZE | GRDMNT | HOLES | HOWH | IFBLOW | IFCOLD | IFDRY | IFSEW | IFTLT | ILEAK | LEAK | M12ROACH | M12ROD | MAJR1 | MAJR2 | MAJR3 | MICE | MINR1 | MINR2 | MINR3 | NLEAK1 | NLEAK2 | NOTSUR | NOWIRE | NUMBLOW | NUMCOLD | NUMDRY | NUMSEW | NUMTLT | OTHCLD | OTLEAK | PILEAK | PLEAK | PLUMB | RATFREQ | RATS | RLEAK | ROACHFRQ | TOILET | TREP | WATERS | WHYCD1 | WHYCD2 | WHYCD3 | WHYCD4 | WHYCD5 | WLEAK | WTRHRL | ZADEQ | AMTI | AMTT | AMTW | AMTX | BUYI | BUYT | BUYT2 | BUYW | BUYW2 | CLPEVA | CONFEE | CPRICE | CSTMNT | DOWNPCT | DWNPAY | FLRENT | FMHOTF | FRENT | HELC | HELCN | HELUMN | HELUMP | HUDADMIN | HUDSAMP | IFFEE | INCS | LANPMT | LOOKHS | LOOKNS | LPRICE | LRENT | LVALUE | MCNT | MG   | MHOTFE | NUMMOR | POOR | PRENT | PRIN01 | PROJ | PVALUE | RAM  | RCNTRL | REGMOR | RENT | RNTADJ | TADJ | TXRE | VALUE  | VCHRMOV | ZSMHC | APPLY | CUSHOM | DLINE1 | ELDER | FRSTHO | HCARE | HDSB | HERRND | HHAGE | HHCITSHP | HHEAR | HHGRAD | HHINUSYR | HHKIDU18 | HHLDKID | HHMAR | HHNATVTY | HHPAR | HHPCARE | HHPERRND | HHPHEAR | HHPLINE | HHPMEMRY | HHPSEE | HHPWALK | HHRACE | HHREL | HHSEX | HHSPAN | HHSPOS | HHTEN | HMEMRY | HSEE | HWALK | KIDU18 | LANG | MOVEDLY | NONREL | NOSTEP | NROWNR | NRPAYM | PER  | PERSINT | RESPTYP | SAMEHH | SAMEHH2 | SNITEV | STATUS | ZADULT | ZMVGRP | CROPSL | HHPQALIM | HHPQDIV | HHPQINT | HHPQOTHER | HHPQRENT | HHPQRETIR | HHPQSAL | HHPQSELF | HHPQSS | HHPQSSI | HHPQWELF | HHPQWKCMP | HHPVOTHER | HHSAL  | LODG | QALIM | QDIV | QFS1 | QINT | QOTHER | QRENT | QRETIR | QSELF | QSS  | QSSI | QWELF | QWKCMP | SUBRNT | VCHER | VOTHER | VOTHER2 | ZINC   | ZINC2  | ZINCH | ZINCN\n",
       "'99' | '89'     | '1'    | '4'    | '7500' | '1'    | 2    | '1'    | 3     | 3      | 1975  | '-6'   | 0      | 3      | -6    | '3'   | '1'  | 0    | 1      | -6    | '1'  | '1'   | '2'    | '1'  | '2'  | '-6' | 0      | 0     | 1      | '-6' | '-6'  | 1     | '-9' | '-9'  | '-6'   | '1'    | 0     | '1'    | '-6' | '-6'   | 1     | '1'     | 1      | 1      | 44000 | '-6'     | -6     | '2'    | '2'    | '2'    | '2'    | '2'    | '2'    | '2'    | '2'    | '2'    | '2'    | '2'    | '2'    | '2'    | '2'  | -6     | '1'    | 1      | '2'    | '2'   | 0     | 0      | '-6' | '-6'   | '1'   | '1'   | '1'   | '2'    | '2'    | 0     | '1'  | 6     | '1'    | '1'    | '-6'   | '-6'   | '-6'  | '1'  | '-6'  | '-6'  | '-6'  | '-6'   | '-6'  | '2'   | '1'    | '-6'   | '2'   | '1'  | 1    | 2700   | '-6'    | '-6'     | -6      | '1'  | '1'   | '-6'   | '5'    | '-6' | 1993   | '-6'  | '-6'   | '-6'  | '1'   | '2'    | '-6'  | '2'    | '2'    | '2'    | '1'   | '2'    | '-6'   | '2'    | '2'    | '2'    | '2'   | '2'    | '2'   | '-6'   | '2'    | '-6'   | '2'   | 9    | '2'    | '-6'   | '2'   | '2'   | '2'   | '2'   | '2'  | '-6'     | '-6'   | '-6'  | '-6'  | '-6'  | '-6' | '-6'  | '-6'  | '-6'  | '-6'   | '-6'   | '-6'   | '1'    | '-6'    | '-6'    | '-6'   | '-6'   | '-6'   | '-6'   | '-6'   | '-6'   | '-6'  | '1'   | '-6'    | '-6' | '-6'  | '-6'     | '1'    | '-6' | '1'    | '-6'   | '-6'   | '-6'   | '-6'   | '-6'   | '-6'  | '-6'   | '1'   | 2550 | 420  | 3161 | 6450 | '1'  | '-6' | '-6'  | '-6' | '-6'  | 41     | -6     | -6     | 2000   | '5'     | '1'    | -6     | -6     | -6    | '2'  | -6    | -6     | '2'    | '-6'     | '2'     | '2'   | '2'  | '-6'   | '-6'   | '-6'   | 420000 | -6    | -6     | 1    | '1'  | -6     | 1      | 2710 | -6    | 2200   | '-6' | -6     | '-6' | '-6'   | 1      | -6   | '-6'   | '-6' | '2'  | 850000 | '-6'    | 3699  | '-6'  | '-6'   | 1      | 2     | '1'    | '2'   | '2'  | '2'    | 68    | '1'      | '2'   | 40     | -6       | 0        | 0       | '1'   | '057'    | -9    | '2'     | '2'      | '2'     | 1       | '2'      | '2'    | '2'     | '01'   | 1     | '2'   | '2'    | 2      | '1'   | '2'    | '2'  | '2'   | 0      | '1'  | '2'     | 0      | '2'    | '2'    | '2'    | 2    | '1'     | '1'     | '1'    | '1'     | '-6'   | '1'    | 2      | '0'    | '-6'   | '2'      | '1'     | '2'     | '2'       | '2'      | '2'       | '2'     | '2'      | '1'    | '2'     | '2'      | '2'       | 11000     | 0      | -6   | '2'   | '1'  | '-6' | '1'  | '2'    | '2'   | '2'    | '2'   | '1'  | '2'  | '2'   | '2'    | '-6'   | '-6'  | 36000  | 36000   | 377943 | 377943 | '2'   | 1121003\n",
       "'99' | '89'     | '1'    | '4'    | '7360' | '1'    | 2    | '2'    | 1     | 3      | 1940  | '-6'   | 1      | 4      | -6    | '3'   | '1'  | 0    | 1      | -6    | '1'  | '1'   | '-6'   | '1'  | '2'  | '-6' | 0      | 0     | 2      | '-6' | '-6'  | 2     | '-6' | '-6'  | '-6'   | '1'    | 0     | '1'    | '-6' | '-6'   | 1     | '1'     | 0      | 1      | 4500  | '-6'     | -6     | '2'    | '2'    | '2'    | '2'    | '2'    | '2'    | '2'    | '2'    | '2'    | '2'    | '2'    | '2'    | '2'    | '2'  | -6     | '1'    | 1      | '-6'   | '2'   | 0     | 0      | '-6' | '-6'   | '1'   | '1'   | '1'   | '-6'   | '1'    | 0     | '1'  | 6     | '-6'   | '-6'   | '-6'   | '-6'   | '-6'  | '1'  | '-6'  | '-6'  | '-6'  | '-6'   | '-6'  | '2'   | '2'    | '-6'   | '2'   | '1'  | 1    | 1968   | '-6'    | '-6'     | -6      | '1'  | '1'   | '-6'   | '5'    | '-6' | -6     | '-6'  | '1'    | '-6'  | '1'   | '2'    | '-6'  | '2'    | '2'    | '-7'   | '-9'  | '2'    | '-6'   | '2'    | '2'    | '2'    | '2'   | '2'    | '2'   | '-6'   | '2'    | '1'    | '2'   | 8    | '1'    | '-6'   | '2'   | '2'   | '2'   | '2'   | '2'  | '-6'     | '-6'   | '1'   | '1'   | '1'   | '-6' | '1'   | '1'   | '1'   | '-6'   | '-6'   | '-6'   | '1'    | '1'     | '-6'    | '-6'   | '-6'   | '-6'   | '-6'   | '-6'   | '-6'   | '-6'  | '1'   | '-6'    | '-6' | '-6'  | '-6'     | '1'    | '-6' | '1'    | '-6'   | '-6'   | '-6'   | '-6'   | '-6'   | '-6'  | '-6'   | '1'   | 344  | -6   | -6   | -6   | '1'  | '2'  | '-6'  | '2'  | '-6'  | -6     | -6     | -6     | -6     | '-6'    | '-6'   | -6     | -6     | 4     | '-6' | -6    | -6     | '-6'   | '4'      | '2'     | '-6'  | '-6' | '-6'   | '1'    | '1'    | -6     | -6    | -6     | -6   | '-6' | -6     | -6     | 835  | -6    | -6     | '-6' | -6     | '-6' | '2'    | -6     | 1825 | '2'    | '-6' | '-6' | -6     | '-6'    | 715   | '-6'  | '-6'   | 2      | 0     | '-6'   | '2'   | '2'  | '2'    | 37    | '1'      | '2'   | 44     | -6       | 1        | 1       | '1'   | '057'    | -9    | '2'     | '2'      | '2'     | 1       | '2'      | '2'    | '2'     | '01'   | 1     | '2'   | '2'    | 2      | '1'   | '2'    | '2'  | '2'   | 1      | '1'  | '2'     | 0      | '1'    | '-6'   | '-6'   | 3    | '1'     | '6'     | '1'    | '1'     | '-6'   | '1'    | 2      | '1'    | '-6'   | '2'      | '1'     | '1'     | '2'       | '2'      | '2'       | '2'     | '1'      | '2'    | '2'     | '2'      | '2'       | 80125     | 0      | -6   | '2'   | '1'  | '-6' | '1'  | '2'    | '2'   | '2'    | '1'   | '2'  | '2'  | '2'   | '2'    | '2'    | '-6'  | 80325  | 80325   | 155325 | 155325 | '2'   | -8\n",
       "'99' | '89'     | '1'    | '4'    | '7400' | '1'    | 2    | '2'    | 2     | 4      | 1960  | '-6'   | 0      | 3      | -6    | '3'   | '1'  | 0    | 1      | -6    | '1'  | '1'   | '-6'   | '1'  | '2'  | '-6' | 0      | 0     | 2      | '-6' | '-6'  | 1     | '-6' | '-6'  | '-6'   | '1'    | 1     | '1'    | '-6' | '-6'   | 1     | '1'     | 0      | 1      | 6000  | '-6'     | -6     | '2'    | '2'    | '2'    | '2'    | '2'    | '2'    | '2'    | '2'    | '2'    | '2'    | '2'    | '2'    | '2'    | '2'  | -6     | '1'    | 1      | '-6'   | '2'   | 0     | 0      | '-6' | '-6'   | '1'   | '1'   | '1'   | '-6'   | '1'    | 0     | '1'  | 7     | '-6'   | '-6'   | '-6'   | '-6'   | '-6'  | '1'  | '-6'  | '-6'  | '-6'  | '-6'   | '-6'  | '-6'  | '2'    | '-6'   | '2'   | '1'  | 1    | 1500   | '-6'    | '-6'     | -6      | '1'  | '1'   | '6'    | '5'    | '-6' | -6     | '-6'  | '1'    | '-6'  | '1'   | '2'    | '-6'  | '2'    | '2'    | '2'    | '1'   | '2'    | '-6'   | '2'    | '2'    | '2'    | '2'   | '2'    | '2'   | '-6'   | '2'    | '1'    | '2'   | 10   | '2'    | '-6'   | '2'   | '2'   | '2'   | '2'   | '2'  | '-6'     | '-6'   | '5'   | '-6'  | '-6'  | '-6' | '-6'  | '-6'  | '-6'  | '-6'   | '-6'   | '-6'   | '1'    | '-6'    | '-6'    | '-6'   | '-6'   | '-6'   | '-6'   | '-6'   | '-6'   | '-6'  | '1'   | '-6'    | '-6' | '-6'  | '-6'     | '1'    | '-6' | '2'    | '-6'   | '-6'   | '-6'   | '-6'   | '-6'   | '-6'  | '-6'   | '1'   | -6   | -6   | 780  | -6   | '2'  | '2'  | '-6'  | '-6' | '-6'  | -6     | -6     | -6     | -6     | '-6'    | '-6'   | -6     | -6     | 12    | '-6' | -6    | -6     | '-6'   | '4'      | '2'     | '-6'  | '-6' | '-6'   | '3'    | '2'    | -6     | -6    | -6     | -6   | '-6' | -6     | -6     | 256  | -6    | -6     | '-6' | -6     | '-6' | '2'    | -6     | 2500 | '1'    | '-6' | '-6' | -6     | '-6'    | 2734  | '-6'  | '-6'   | 1      | 0     | '-6'   | '2'   | '2'  | '2'    | 35    | '5'      | '2'   | 39     | 1989     | 2        | 2       | '1'   | '312'    | -9    | '2'     | '2'      | '2'     | 1       | '2'      | '2'    | '2'     | '01'   | 1     | '1'   | '1'    | 2      | '1'   | '2'    | '2'  | '2'   | 2      | '1'  | '2'     | 0      | '1'    | '-6'   | '-6'   | 4    | '1'     | '1'     | '1'    | '1'     | '-6'   | '1'    | 2      | '1'    | '-6'   | '2'      | '2'     | '2'     | '2'       | '2'      | '2'       | '1'     | '2'      | '2'    | '2'     | '2'      | '2'       | -13       | 60000  | -6   | '2'   | '2'  | '-6' | '2'  | '2'    | '2'   | '2'    | '2'   | '2'  | '2'  | '2'   | '2'    | '2'    | '-6'  | -26    | -26     | 59974  | 59974  | '1'   | -6\n",
       "'99' | '89'     | '2'    | '4'    | '7360' | '1'    | 2    | '2'    | 2     | 4      | 1970  | '-6'   | 0      | -6     | 3     | '1'   | '1'  | 0    | 1      | -6    | '1'  | '1'   | '2'    | '1'  | '-6' | '2'  | 0      | 0     | 3      | '-6' | '-6'  | 1     | '-9' | '-9'  | '-6'   | '1'    | 0     | '1'    | '-6' | '2'    | 1     | '2'     | 0      | 1      | -6    | '-6'     | -6     | '2'    | '2'    | '2'    | '2'    | '2'    | '2'    | '2'    | '2'    | '2'    | '2'    | '2'    | '2'    | '2'    | '2'  | -6     | '3'    | 24     | '-6'   | '-6'  | 0     | 0      | '-6' | '-6'   | '1'   | '1'   | '1'   | '2'    | '1'    | 0     | '1'  | 7     | '-6'   | '-6'   | '-6'   | '-6'   | '-6'  | '1'  | '-6'  | '-6'  | '-6'  | '-6'   | '-6'  | '2'   | '1'    | '-6'   | '2'   | '1'  | 1    | 1474   | '-6'    | '-6'     | -6      | '1'  | '1'   | '-6'   | '5'    | '-6' | 1979   | '-6'  | '-6'   | '2'   | '1'   | '2'    | '-6'  | '-6'   | '-6'   | '-6'   | '-6'  | '-6'   | '1'    | '-6'   | '-6'   | '2'    | '-6'  | '-6'   | '2'   | '-6'   | '2'    | '-6'   | '2'   | 8    | '2'    | '-6'   | '2'   | '2'   | '2'   | '2'   | '1'  | '-6'     | '-6'   | '-6'  | '-6'  | '-6'  | '-6' | '-6'  | '-6'  | '-6'  | '-6'   | '-6'   | '-6'   | '1'    | '-6'    | '-6'    | '-6'   | '-6'   | '-6'   | '-6'   | '2'    | '-6'   | '-6'  | '1'   | '-6'    | '-6' | '1'   | '-6'     | '1'    | '-6' | '1'    | '-6'   | '-6'   | '-6'   | '-6'   | '-6'   | '2'   | '-6'   | '2'   | 300  | -6   | -6   | 1750 | '1'  | '2'  | '-6'  | '2'  | '-6'  | -6     | 485    | -6     | 0      | '5'     | '1'    | -6     | -6     | -6    | '1'  | 1     | -6     | '2'    | '-6'     | '2'     | '1'   | '-6' | '-6'   | '-6'   | '-6'   | 60000  | -6    | -6     | -6   | '2'  | -6     | 1      | 261  | -6    | -6     | '-6' | -6     | '-6' | '-6'   | -6     | -6   | '-6'   | '-6' | '2'  | 300000 | '-6'    | 851   | '-6'  | '-6'   | 2      | 1     | '1'    | '2'   | '1'  | '2'    | 88    | '1'      | '2'   | 44     | -6       | 0        | 2       | '3'   | '057'    | -9    | '2'     | '2'      | '2'     | 2       | '2'      | '2'    | '1'     | '01'   | 1     | '2'   | '2'    | -9     | '1'   | '2'    | '2'  | '1'   | 0      | '1'  | '2'     | 0      | '1'    | '2'    | '2'    | 4    | '2'     | '1'     | '1'    | '1'     | '-6'   | '1'    | 4      | '0'    | '-6'   | '2'      | '2'     | '2'     | '2'       | '2'      | '1'       | '2'     | '2'      | '1'    | '2'     | '2'      | '2'       | 62000     | 0      | -6   | '2'   | '2'  | '-6' | '2'  | '2'    | '2'   | '1'    | '2'   | '1'  | '2'  | '2'   | '2'    | '-6'   | '-6'  | 61961  | 61961   | 61961  | 61961  | '1'   | -6\n",
       "'99' | '89'     | '1'    | '4'    | '7400' | '1'    | 1    | '1'    | 2     | 2      | 1960  | '-6'   | 0      | 3      | -6    | '3'   | '1'  | 0    | 0      | -6    | '1'  | '1'   | '2'    | '1'  | '2'  | '-6' | 0      | 0     | 1      | '-6' | '-6'  | 1     | '-6' | '-6'  | '-6'   | '1'    | 0     | '1'    | '-6' | '-6'   | 1     | '1'     | 0      | 1      | 6000  | '-6'     | -6     | '2'    | '2'    | '2'    | '2'    | '2'    | '2'    | '2'    | '2'    | '2'    | '2'    | '2'    | '2'    | '2'    | '2'  | 2      | '1'    | 1      | '1'    | '2'   | 0     | 0      | '-6' | '-6'   | '1'   | '1'   | '1'   | '2'    | '1'    | 0     | '1'  | 4     | '-6'   | '-6'   | '-6'   | '-6'   | '-6'  | '1'  | '-6'  | '-6'  | '-6'  | '-6'   | '-6'  | '-6'  | '1'    | '-6'   | '2'   | '1'  | 1    | 1100   | '-6'    | '-6'     | -6      | '1'  | '1'   | '-6'   | '5'    | '-6' | 2010   | '-6'  | '-6'   | '-6'  | '1'   | '2'    | '-6'  | '2'    | '2'    | '2'    | '1'   | '2'    | '-6'   | '2'    | '2'    | '2'    | '2'   | '2'    | '2'   | '-6'   | '2'    | '-6'   | '2'   | 7    | '2'    | '-6'   | '2'   | '2'   | '2'   | '2'   | '2'  | '-6'     | '-6'   | '-6'  | '-6'  | '-6'  | '-6' | '-6'  | '-6'  | '-6'  | '-6'   | '-6'   | '-6'   | '1'    | '-6'    | '-6'    | '-6'   | '-6'   | '-6'   | '-6'   | '-6'   | '-6'   | '-6'  | '1'   | '-6'    | '-6' | '-6'  | '-6'     | '1'    | '-6' | '1'    | '-6'   | '-6'   | '-6'   | '-6'   | '-6'   | '-6'  | '-6'   | '1'   | -6   | 300  | 300  | 5950 | '2'  | '-6' | '-6'  | '-6' | '-6'  | 49     | -6     | -6     | 200    | '6'     | '3'    | -6     | -6     | -6    | '2'  | -6    | -6     | '2'    | '-6'     | '2'     | '2'   | '2'  | '-6'   | '-6'   | '-6'   | 350000 | -6    | -6     | 1    | '1'  | -6     | 1      | 1334 | -6    | 1100   | '-6' | -6     | '-6' | '-6'   | 1      | -6   | '-6'   | '-6' | '2'  | 450000 | '-6'    | 1779  | '-6'  | '-6'   | 1      | 0     | '1'    | '2'   | '2'  | '2'    | 54    | '4'      | '2'   | 39     | 1984     | 0        | 1       | '1'   | '207'    | -9    | '2'     | '2'      | '2'     | 1       | '2'      | '2'    | '2'     | '04'   | 1     | '1'   | '2'    | 2      | '1'   | '2'    | '2'  | '2'   | 0      | '1'  | '2'     | 0      | '2'    | '2'    | '2'    | 3    | '1'     | '1'     | '1'    | '1'     | '-6'   | '1'    | 3      | '0'    | '-6'   | '2'      | '2'     | '2'     | '2'       | '2'      | '2'       | '1'     | '1'      | '2'    | '2'     | '2'      | '2'       | 50000     | 180000 | -6   | '2'   | '2'  | '-6' | '2'  | '2'    | '2'   | '2'    | '1'   | '2'  | '2'  | '2'   | '2'    | '-6'   | '-6'  | 49974  | 49974   | 240974 | 240974 | '1'   | -6\n",
       "'99' | '89'     | '2'    | '4'    | '5775' | '-6'   | -6   | '-6'   | -6    | -6     | -6    | '-6'   | -6     | -6     | -6    | '-6'  | '-6' | -6   | -6     | -6    | '-6' | '-6'  | '-6'   | '-6' | '-6' | '-6' | -6     | -6    | -6     | '-6' | '-6'  | -6    | '-6' | '-6'  | '-6'   | '-6'   | -6    | '-6'   | '-6' | '-6'   | -6    | '-6'    | -6     | -6     | -6    | '-6'     | -6     | '-6'   | '-6'   | '-6'   | '-6'   | '-6'   | '-6'   | '-6'   | '-6'   | '-6'   | '-6'   | '-6'   | '-6'   | '-6'   | '2'  | -6     | '-6'   | -6     | '-6'   | '-6'  | -6    | -6     | '-6' | '-6'   | '-6'  | '-6'  | '-6'  | '-6'   | '-6'   | -6    | '-6' | -6    | '-6'   | '-6'   | '-6'   | '-6'   | '-6'  | '-6' | '-6'  | '-6'  | '-6'  | '-6'   | '-6'  | '-6'  | '1'    | '-6'   | '-6'  | '-6' | 1    | -6     | '-6'    | '-6'     | -6      | '-6' | '-6'  | '-6'   | '-6'   | '-6' | -6     | '-6'  | '-6'   | '-6'  | '-6'  | '-6'   | '-6'  | '-6'   | '-6'   | '-6'   | '-6'  | '-6'   | '-6'   | '-6'   | '-6'   | '-6'   | '-6'  | '-6'   | '-6'  | '-6'   | '-6'   | '-6'   | '-6'  | -6   | '-6'   | '-6'   | '-6'  | '-6'  | '-6'  | '-6'  | '-6' | '-6'     | '-6'   | '-6'  | '-6'  | '-6'  | '-6' | '-6'  | '-6'  | '-6'  | '-6'   | '-6'   | '-6'   | '-6'   | '-6'    | '-6'    | '-6'   | '-6'   | '-6'   | '-6'   | '-6'   | '-6'   | '-6'  | '-6'  | '-6'    | '-6' | '-6'  | '-6'     | '-6'   | '-6' | '-6'   | '-6'   | '-6'   | '-6'   | '-6'   | '-6'   | '-6'  | '-6'   | '-6'  | -6   | -6   | -6   | -6   | '-6' | '-6' | '-6'  | '-6' | '-6'  | -6     | -6     | -6     | -6     | '-6'    | '-6'   | -6     | -6     | -6    | '-6' | -6    | -6     | '-6'   | '-6'     | '2'     | '-6'  | '-6' | '-6'   | '-6'   | '-6'   | -6     | -6    | -6     | -6   | '-6' | -6     | -6     | -6   | -6    | -6     | '-6' | -6     | '-6' | '-6'   | -6     | -6   | '-6'   | '-6' | '-6' | -6     | '-6'    | -6    | '-6'  | '-6'   | -6     | -6    | '-6'   | '-6'  | '-6' | '-6'   | -6    | '-6'     | '-6'  | -6     | -6       | -6       | -6      | '-6'  | '-6'     | -6    | '-6'    | '-6'     | '-6'    | -6      | '-6'     | '-6'   | '-6'    | '-6'   | -6    | '-6'  | '-6'   | -6     | '-6'  | '-6'   | '-6' | '-6'  | -6     | '-6' | '-6'    | -6     | '-6'   | '-6'   | '-6'   | -6   | '2'     | '-9'    | '1'    | '-6'    | '-6'   | '4'    | -6     | '-6'   | '-6'   | '-6'     | '-6'    | '-6'    | '-6'      | '-6'     | '-6'      | '-6'    | '-6'     | '-6'   | '-6'    | '-6'     | '-6'      | -6        | -6     | -6   | '-9'  | '-9' | '-6' | '-9' | '-9'   | '-9'  | '-9'   | '-9'  | '-9' | '-9' | '-9'  | '-9'   | '-6'   | '-6'  | -6     | -6      | -6     | -6     | '-6'  | -6\n",
       "'99' | '89'     | '1'    | '4'    | '5775' | '1'    | 2    | '2'    | 1     | 1      | 1940  | '-6'   | 0      | -6     | 0     | '3'   | '1'  | 0    | 1      | -6    | '2'  | '2'   | '-6'   | '2'  | '-6' | '1'  | 0      | 0     | 2      | '-6' | '-6'  | 2     | '-6' | '-6'  | '-6'   | '1'    | 0     | '1'    | '-6' | '1'    | 1     | '1'     | 0      | 1      | -6    | '-6'     | -6     | '2'    | '2'    | '2'    | '2'    | '2'    | '2'    | '2'    | '2'    | '2'    | '2'    | '2'    | '2'    | '2'    | '2'  | -6     | '3'    | 4      | '-6'   | '-6'  | 0     | 0      | '-6' | '-6'   | '1'   | '1'   | '1'   | '-6'   | '1'    | 0     | '1'  | 4     | '-6'   | '-6'   | '-6'   | '-6'   | '-6'  | '1'  | '-6'  | '-6'  | '-6'  | '-6'   | '-6'  | '-6'  | '2'    | '-6'   | '2'   | '1'  | 1    | 5000   | '-6'    | '-6'     | -6      | '2'  | '1'   | '-6'   | '5'    | '-6' | -6     | '-6'  | '3'    | '-6'  | '1'   | '2'    | '-6'  | '-6'   | '-6'   | '-6'   | '-6'  | '-6'   | '-6'   | '-6'   | '-6'   | '2'    | '-6'  | '-6'   | '1'   | '-6'   | '1'    | '2'    | '2'   | 8    | '2'    | '1'    | '2'   | '2'   | '2'   | '2'   | '2'  | '-6'     | '2'    | '2'   | '2'   | '1'   | '-6' | '2'   | '2'   | '1'   | '-6'   | '-6'   | '-6'   | '1'    | '-6'    | '1'     | '-6'   | '-6'   | '-6'   | '2'    | '-6'   | '-6'   | '-6'  | '1'   | '-6'    | '-6' | '-6'  | '-6'     | '1'    | '-6' | '1'    | '-6'   | '-6'   | '-6'   | '-6'   | '-6'   | '-6'  | '-6'   | '2'   | -6   | -6   | -6   | -6   | '2'  | '2'  | '-6'  | '2'  | '-6'  | -6     | -6     | -6     | -6     | '-6'    | '-6'   | -6     | -6     | 12    | '-6' | -6    | -6     | '-6'   | '3'      | '2'     | '-6'  | '-6' | '-6'   | '-6'   | '-6'   | -6     | -6    | -6     | -6   | '-6' | -6     | -6     | 442  | -6    | -6     | '-6' | -6     | '-6' | '2'    | -6     | 757  | '2'    | '-6' | '-6' | -6     | '-6'    | 811   | '-6'  | '-6'   | 1      | 0     | '-6'   | '2'   | '2'  | '2'    | 60    | '1'      | '2'   | 44     | -6       | 0        | 0       | '6'   | '057'    | -6    | '2'     | '2'      | '2'     | 1       | '2'      | '2'    | '2'     | '01'   | 2     | '2'   | '2'    | -6     | '1'   | '2'    | '2'  | '2'   | 0      | '1'  | '2'     | 0      | '2'    | '-6'   | '-6'   | 1    | '1'     | '6'     | '1'    | '1'     | '-6'   | '1'    | 1      | '0'    | '-6'   | '2'      | '2'     | '2'     | '2'       | '2'      | '2'       | '1'     | '2'      | '2'    | '2'     | '2'      | '2'       | -13       | 53000  | -6   | '2'   | '2'  | '-6' | '2'  | '2'    | '2'   | '2'    | '2'   | '2'  | '2'  | '2'   | '2'    | '2'    | '-6'  | -13    | -13     | 52987  | 52987  | '2'   | 43000\n",
       "'99' | '89'     | '2'    | '4'    | '5775' | '1'    | 2    | '1'    | 2     | 3      | 1970  | '-6'   | 1      | 3      | -6    | '3'   | '1'  | 0    | 1      | -6    | '1'  | '1'   | '2'    | '1'  | '2'  | '-6' | 0      | 0     | 1      | '-6' | '1'   | 1     | '-9' | '1'   | '-6'   | '1'    | 0     | '1'    | '-6' | '-6'   | 1     | '1'     | 0      | 1      | 58520 | '-6'     | -6     | '2'    | '2'    | '2'    | '2'    | '2'    | '2'    | '2'    | '2'    | '2'    | '2'    | '2'    | '2'    | '2'    | '2'  | -6     | '1'    | 1      | '2'    | '2'   | 0     | 0      | '-6' | '-6'   | '1'   | '1'   | '1'   | '2'    | '1'    | 1     | '1'  | 7     | '-6'   | '-6'   | '-6'   | '-6'   | '-6'  | '1'  | '-6'  | '-6'  | '-6'  | '-6'   | '-6'  | '2'   | '1'    | '-6'   | '1'   | '1'  | 1    | 1825   | '-6'    | '-6'     | -6      | '1'  | '1'   | '-6'   | '5'    | '-6' | 1986   | '-6'  | '-6'   | '-6'  | '1'   | '2'    | '-6'  | '2'    | '2'    | '2'    | '1'   | '2'    | '-6'   | '2'    | '2'    | '2'    | '2'   | '2'    | '2'   | '-6'   | '2'    | '-6'   | '2'   | 10   | '2'    | '-6'   | '2'   | '2'   | '2'   | '2'   | '2'  | '-6'     | '-6'   | '-6'  | '-6'  | '-6'  | '-6' | '-6'  | '-6'  | '-6'  | '-6'   | '-6'   | '-6'   | '1'    | '-6'    | '-6'    | '-6'   | '-6'   | '-6'   | '-6'   | '-6'   | '-6'   | '-6'  | '1'   | '-6'    | '-6' | '-6'  | '-6'     | '1'    | '-6' | '1'    | '-6'   | '-6'   | '-6'   | '-6'   | '-6'   | '-6'  | '-6'   | '1'   | 2700 | 400  | 924  | 4850 | '1'  | '-6' | '-6'  | '-6' | '-6'  | 28     | -6     | -6     | 0      | '8'     | '1'    | -6     | -6     | -6    | '2'  | -6    | -6     | '2'    | '-6'     | '2'     | '2'   | '2'  | '-6'   | '-6'   | '-6'   | 280000 | -6    | -6     | 1    | '1'  | -6     | 1      | 873  | -6    | 575    | '-6' | -6     | '-6' | '-6'   | 1      | -6   | '-6'   | '-6' | '1'  | 900000 | '-6'    | 1560  | '-6'  | '-6'   | 1      | 2     | '1'    | '2'   | '2'  | '2'    | 82    | '1'      | '2'   | 44     | -6       | 0        | 0       | '1'   | '057'    | -9    | '2'     | '2'      | '2'     | 1       | '2'      | '2'    | '2'     | '01'   | 1     | '1'   | '2'    | 2      | '1'   | '2'    | '2'  | '2'   | 0      | '1'  | '2'     | 0      | '2'    | '2'    | '2'    | 2    | '2'     | '1'     | '1'    | '1'     | '-6'   | '1'    | 2      | '0'    | '-6'   | '2'      | '2'     | '1'     | '2'       | '2'      | '1'       | '2'     | '1'      | '1'    | '2'     | '2'      | '1'       | 117117    | 0      | -6   | '2'   | '2'  | '-6' | '1'  | '2'    | '2'   | '1'    | '1'   | '1'  | '2'  | '2'   | '1'    | '-6'   | '-6'  | 121917 | 121917  | 121917 | 121917 | '2'   | 130000\n",
       "'99' | '89'     | '2'    | '4'    | '5775' | '1'    | 2    | '2'    | 1     | 2      | 1950  | '-6'   | 0      | -6     | 1     | '3'   | '1'  | 0    | 0      | -6    | '2'  | '2'   | '-6'   | '1'  | '-6' | '1'  | 0      | 0     | 1      | '-6' | '-6'  | 2     | '-6' | '-6'  | '-6'   | '2'    | 0     | '1'    | '2'  | '1'    | 1     | '1'     | 0      | 1      | -6    | '-6'     | -6     | '2'    | '2'    | '2'    | '2'    | '2'    | '2'    | '2'    | '2'    | '2'    | '2'    | '2'    | '2'    | '2'    | '2'  | -6     | '3'    | 15     | '-6'   | '-6'  | 0     | 0      | '-6' | '-6'   | '1'   | '1'   | '1'   | '-6'   | '1'    | 0     | '1'  | 4     | '-6'   | '-6'   | '-6'   | '-6'   | '-6'  | '1'  | '-6'  | '-6'  | '-6'  | '-6'   | '-6'  | '-6'  | '2'    | '-6'   | '2'   | '1'  | 1    | 900    | '-6'    | '-6'     | -6      | '1'  | '1'   | '6'    | '5'    | '-6' | -6     | '-6'  | '1'    | '-6'  | '1'   | '2'    | '-6'  | '-6'   | '-6'   | '-6'   | '-6'  | '-6'   | '-6'   | '-6'   | '-6'   | '1'    | '-6'  | '-6'   | '1'   | '-6'   | '1'    | '4'    | '2'   | 10   | '2'    | '1'    | '2'   | '2'   | '2'   | '2'   | '2'  | '1'      | '2'    | '1'   | '1'   | '1'   | '-6' | '1'   | '1'   | '1'   | '-6'   | '-6'   | '-6'   | '1'    | '-6'    | '8'     | '-6'   | '-6'   | '-6'   | '2'    | '-6'   | '-6'   | '-6'  | '1'   | '-6'    | '-6' | '-6'  | '4'      | '1'    | '-6' | '2'    | '-6'   | '-6'   | '-6'   | '-6'   | '-6'   | '-6'  | '-6'   | '3'   | -6   | -6   | -6   | -6   | '2'  | '2'  | '-6'  | '2'  | '-6'  | -6     | -6     | -6     | -6     | '-6'    | '-6'   | -6     | -6     | 12    | '-6' | -6    | -6     | '-6'   | '1'      | '2'     | '-6'  | '-6' | '-6'   | '-6'   | '-6'   | -6     | -6    | -6     | -6   | '-6' | -6     | -6     | 1    | 178   | -6     | '1'  | -6     | '-6' | '-6'   | -6     | 178  | '2'    | '-6' | '-6' | -6     | '-6'    | 217   | '1'   | '-6'   | 1      | 0     | '-6'   | '2'   | '2'  | '2'    | 40    | '5'      | '2'   | 34     | 1998     | 3        | 3       | '1'   | '315'    | -9    | '2'     | '2'      | '2'     | 1       | '2'      | '2'    | '2'     | '01'   | 1     | '2'   | '1'    | 2      | '1'   | '2'    | '2'  | '2'   | 3      | '2'  | '2'     | 0      | '1'    | '-6'   | '-6'   | 5    | '1'     | '6'     | '1'    | '1'     | '-6'   | '1'    | 2      | '0'    | '-6'   | '2'      | '2'     | '2'     | '2'       | '2'      | '2'       | '2'     | '2'      | '2'    | '2'     | '2'      | '2'       | -13       | 0      | -6   | '2'   | '2'  | '1'  | '2'  | '2'    | '2'   | '2'    | '2'   | '2'  | '2'  | '2'   | '2'    | '1'    | '2'   | -26    | -26     | -26    | -26    | '1'   | -6\n",
       "'99' | '89'     | '2'    | '4'    | '7400' | '1'    | 2    | '2'    | 1     | 2      | 1960  | '-6'   | 0      | -6     | 1     | '1'   | '1'  | 0    | 1      | -6    | '1'  | '1'   | '2'    | '2'  | '-6' | '1'  | 0      | 0     | 2      | '-6' | '-6'  | 2     | '-6' | '-6'  | '-6'   | '1'    | 0     | '1'    | '-6' | '1'    | 1     | '1'     | 0      | 1      | -6    | '-6'     | -6     | '2'    | '2'    | '2'    | '2'    | '2'    | '2'    | '2'    | '2'    | '2'    | '2'    | '2'    | '2'    | '2'    | '2'  | -6     | '3'    | 10     | '-6'   | '-6'  | 0     | 0      | '-6' | '-6'   | '1'   | '1'   | '1'   | '2'    | '1'    | 0     | '1'  | 5     | '-6'   | '-6'   | '-6'   | '-6'   | '-6'  | '1'  | '-6'  | '-6'  | '-6'  | '-6'   | '-6'  | '-6'  | '1'    | '-6'   | '2'   | '1'  | 1    | 892    | '-6'    | '-6'     | -6      | '2'  | '1'   | '-6'   | '5'    | '-6' | 2006   | '-6'  | '-6'   | '2'   | '1'   | '2'    | '-6'  | '-6'   | '-6'   | '-6'   | '-6'  | '-6'   | '-6'   | '-6'   | '-6'   | '2'    | '-6'  | '-6'   | '2'   | '-6'   | '2'    | '-6'   | '2'   | 7    | '2'    | '-6'   | '2'   | '2'   | '2'   | '2'   | '1'  | '-6'     | '-6'   | '-6'  | '-6'  | '-6'  | '-6' | '-6'  | '-6'  | '-6'  | '-6'   | '-6'   | '-6'   | '1'    | '-6'    | '-6'    | '-6'   | '-6'   | '-6'   | '-6'   | '2'    | '-6'   | '-6'  | '1'   | '-6'    | '-6' | '1'   | '-6'     | '1'    | '-6' | '1'    | '-6'   | '-6'   | '-6'   | '-6'   | '-6'   | '2'   | '-6'   | '1'   | -6   | -6   | -6   | 4050 | '2'  | '2'  | '-6'  | '2'  | '-6'  | 80     | 355    | -6     | 1000   | '5'     | '2'    | -6     | -6     | -6    | '2'  | -6    | -6     | '2'    | '-6'     | '2'     | '1'   | '-6' | '-6'   | '-6'   | '-6'   | 440000 | -6    | -6     | 1    | '1'  | -6     | 1      | 545  | -6    | 2500   | '-6' | -6     | '-6' | '-6'   | 1      | -6   | '-6'   | '-6' | '2'  | 400000 | '-6'    | 3310  | '-6'  | '-6'   | 1      | 0     | '1'    | '2'   | '2'  | '2'    | 50    | '5'      | '2'   | 43     | 1998     | 3        | 3       | '1'   | '231'    | -9    | '2'     | '2'      | '2'     | 1       | '2'      | '2'    | '2'     | '04'   | 1     | '1'   | '2'    | 2      | '1'   | '2'    | '2'  | '2'   | 3      | '1'  | '2'     | 0      | '1'    | '2'    | '2'    | 5    | '1'     | '1'     | '1'    | '1'     | '-6'   | '1'    | 2      | '0'    | '-6'   | '2'      | '2'     | '2'     | '2'       | '2'      | '2'       | '1'     | '2'      | '2'    | '2'     | '2'      | '2'       | -13       | 50000  | -6   | '2'   | '1'  | '-6' | '1'  | '2'    | '2'   | '2'    | '2'   | '2'  | '2'  | '2'   | '2'    | '-6'   | '-6'  | 9987   | 9987    | 149987 | 149987 | '1'   | -6\n",
       "... (1271 rows omitted)"
      ]
     },
     "execution_count": 3,
     "metadata": {},
     "output_type": "execute_result"
    }
   ],
   "source": [
    "# Run this cell, but don't change it.\n",
    "ahs = Table.read_table(\"bayarea_ahs.csv\")\n",
    "ahs"
   ]
  },
  {
   "cell_type": "markdown",
   "metadata": {},
   "source": [
    "The AHS dataset has one row per housing unit. The columns are described in extensive [documentation](http://www.census.gov/content/dam/Census/programs-surveys/ahs/tech-documentation/AHS%20Codebook%202013.pdf), but we will focus only on a subset of the original columns. The columns in `bayarea_ahs.csv` are described in the `ahs_columns.csv` table."
   ]
  },
  {
   "cell_type": "code",
   "execution_count": 4,
   "metadata": {
    "collapsed": false
   },
   "outputs": [
    {
     "data": {
      "text/html": [
       "<table border=\"1\" class=\"dataframe\">\n",
       "    <thead>\n",
       "        <tr>\n",
       "            <th>Column</th> <th>Description</th> <th>Category</th>\n",
       "        </tr>\n",
       "    </thead>\n",
       "    <tbody>\n",
       "        <tr>\n",
       "            <td>CMSA    </td> <td>1980 design CMSA code                                     </td> <td>Geography</td>\n",
       "        </tr>\n",
       "    </tbody>\n",
       "        <tr>\n",
       "            <td>COUNTY  </td> <td>County code                                               </td> <td>Geography</td>\n",
       "        </tr>\n",
       "    </tbody>\n",
       "        <tr>\n",
       "            <td>DIVISION</td> <td>Census division                                           </td> <td>Geography</td>\n",
       "        </tr>\n",
       "    </tbody>\n",
       "        <tr>\n",
       "            <td>METRO   </td> <td>Multiple central cities/suburban status within metro areas</td> <td>Geography</td>\n",
       "        </tr>\n",
       "    </tbody>\n",
       "        <tr>\n",
       "            <td>METRO3  </td> <td>Central city / suburban status                            </td> <td>Geography</td>\n",
       "        </tr>\n",
       "    </tbody>\n",
       "        <tr>\n",
       "            <td>PMSA    </td> <td>1990 design PMSA code                                     </td> <td>Geography</td>\n",
       "        </tr>\n",
       "    </tbody>\n",
       "        <tr>\n",
       "            <td>PSUDOTCT</td> <td>Census tract for 1970, 1980 or 1990 containing case       </td> <td>Geography</td>\n",
       "        </tr>\n",
       "    </tbody>\n",
       "        <tr>\n",
       "            <td>REGION  </td> <td>Census region                                             </td> <td>Geography</td>\n",
       "        </tr>\n",
       "    </tbody>\n",
       "        <tr>\n",
       "            <td>SMSA    </td> <td>1980 design PMSA code                                     </td> <td>Geography</td>\n",
       "        </tr>\n",
       "    </tbody>\n",
       "        <tr>\n",
       "            <td>STATE   </td> <td>FIPS state code                                           </td> <td>Geography</td>\n",
       "        </tr>\n",
       "    </tbody>\n",
       "</table>\n",
       "<p>... (772 rows omitted)</p"
      ],
      "text/plain": [
       "Column   | Description                                                | Category\n",
       "CMSA     | 1980 design CMSA code                                      | Geography\n",
       "COUNTY   | County code                                                | Geography\n",
       "DIVISION | Census division                                            | Geography\n",
       "METRO    | Multiple central cities/suburban status within metro areas | Geography\n",
       "METRO3   | Central city / suburban status                             | Geography\n",
       "PMSA     | 1990 design PMSA code                                      | Geography\n",
       "PSUDOTCT | Census tract for 1970, 1980 or 1990 containing case        | Geography\n",
       "REGION   | Census region                                              | Geography\n",
       "SMSA     | 1980 design PMSA code                                      | Geography\n",
       "STATE    | FIPS state code                                            | Geography\n",
       "... (772 rows omitted)"
      ]
     },
     "execution_count": 4,
     "metadata": {},
     "output_type": "execute_result"
    }
   ],
   "source": [
    "ahs_columns = Table.read_table('ahs_columns.csv')\n",
    "ahs_columns"
   ]
  },
  {
   "cell_type": "markdown",
   "metadata": {},
   "source": [
    "# 1. Data Cleaning\n",
    "\n",
    "Before cleaning up the `ahs` table, we'll clean up a simpler example: the `pop` table defined in the next cell."
   ]
  },
  {
   "cell_type": "code",
   "execution_count": 5,
   "metadata": {
    "collapsed": false
   },
   "outputs": [
    {
     "data": {
      "text/html": [
       "<table border=\"1\" class=\"dataframe\">\n",
       "    <thead>\n",
       "        <tr>\n",
       "            <th>year</th> <th>population</th>\n",
       "        </tr>\n",
       "    </thead>\n",
       "    <tbody>\n",
       "        <tr>\n",
       "            <td>'1950'</td> <td>'2557628654'</td>\n",
       "        </tr>\n",
       "    </tbody>\n",
       "        <tr>\n",
       "            <td>'1951'</td> <td>'2594939877'</td>\n",
       "        </tr>\n",
       "    </tbody>\n",
       "        <tr>\n",
       "            <td>'1952'</td> <td>'2636772306'</td>\n",
       "        </tr>\n",
       "    </tbody>\n",
       "        <tr>\n",
       "            <td>'1953'</td> <td>'2682053389'</td>\n",
       "        </tr>\n",
       "    </tbody>\n",
       "        <tr>\n",
       "            <td>'1954'</td> <td>'2730228104'</td>\n",
       "        </tr>\n",
       "    </tbody>\n",
       "        <tr>\n",
       "            <td>'1955'</td> <td>'2782098943'</td>\n",
       "        </tr>\n",
       "    </tbody>\n",
       "        <tr>\n",
       "            <td>'1956'</td> <td>'2835299673'</td>\n",
       "        </tr>\n",
       "    </tbody>\n",
       "        <tr>\n",
       "            <td>'1957'</td> <td>'2891349717'</td>\n",
       "        </tr>\n",
       "    </tbody>\n",
       "        <tr>\n",
       "            <td>'1958'</td> <td>'2948137248'</td>\n",
       "        </tr>\n",
       "    </tbody>\n",
       "        <tr>\n",
       "            <td>'1959'</td> <td>'3000716593'</td>\n",
       "        </tr>\n",
       "    </tbody>\n",
       "</table>\n",
       "<p>... (56 rows omitted)</p"
      ],
      "text/plain": [
       "year   | population\n",
       "'1950' | '2557628654'\n",
       "'1951' | '2594939877'\n",
       "'1952' | '2636772306'\n",
       "'1953' | '2682053389'\n",
       "'1954' | '2730228104'\n",
       "'1955' | '2782098943'\n",
       "'1956' | '2835299673'\n",
       "'1957' | '2891349717'\n",
       "'1958' | '2948137248'\n",
       "'1959' | '3000716593'\n",
       "... (56 rows omitted)"
      ]
     },
     "execution_count": 5,
     "metadata": {},
     "output_type": "execute_result"
    }
   ],
   "source": [
    "# Just run this cell.\n",
    "# pop.csv is a table of world population estimates from the US Census Bureau.\n",
    "pop = Table.read_table(\"pop.csv\")\n",
    "pop"
   ]
  },
  {
   "cell_type": "markdown",
   "metadata": {},
   "source": [
    "In this table, the `year` column is actually made of strings that include, for example, the text `'1981'` (the two single-quote characters are *actually part of the text in the strings*) instead of the number `1981`.  The population column has the same problem.  If you look at [pop.csv](pop.csv), you might see why this happens.\n",
    "\n",
    "**Question 1.1.** Before we fix it, very briefly **describe why it is a problem to represent quantitative data in this way**."
   ]
  },
  {
   "cell_type": "markdown",
   "metadata": {},
   "source": [
    "*Replace this text with your answer.*"
   ]
  },
  {
   "cell_type": "markdown",
   "metadata": {},
   "source": [
    "**Question 1.2.** In the next cell, define a function called `quoted_number_to_int`.  It should take a single argument, a string that is an integer surrounded by single quotes.  It should return an `int` value representing that integer.  For example, `quoted_number_to_int(\"'1981'\")` should return the number `1981`."
   ]
  },
  {
   "cell_type": "code",
   "execution_count": 6,
   "metadata": {
    "collapsed": false
   },
   "outputs": [],
   "source": [
    "# Define a function called quoted_number_to_int\n",
    "def quoted_number_to_int(num):\n",
    "    ..."
   ]
  },
  {
   "cell_type": "code",
   "execution_count": 7,
   "metadata": {
    "collapsed": false
   },
   "outputs": [
    {
     "name": "stdout",
     "output_type": "stream",
     "text": [
      "~~~~~~~~~~~~~~~~~~~~~~~~~~~~~~~~~~~~~~~~~~~~~~~~~~~~~~~~~~~~~~~~~~~~~\n",
      "Running tests\n",
      "\n",
      "---------------------------------------------------------------------\n",
      "Question > Suite 1 > Case 1\n",
      "\n",
      ">>> quoted_number_to_int(\"'5'\")\n",
      "\n",
      "# Error: expected\n",
      "#     5\n",
      "# but got\n",
      "#     \n",
      "\n",
      "---------------------------------------------------------------------\n",
      "Test summary\n",
      "    Passed: 0\n",
      "    Failed: 1\n",
      "[k..........] 0.0% passed\n",
      "\n"
     ]
    }
   ],
   "source": [
    "_ = hw04.grade('q12')"
   ]
  },
  {
   "cell_type": "markdown",
   "metadata": {},
   "source": [
    "**Question 1.3.** Assign the name `pop_cleaned` to a table that is the same as `pop` *except* that both columns contain integer versions of their data instead of quoted strings.  Use the `apply` method and your `quoted_number_to_int` function."
   ]
  },
  {
   "cell_type": "code",
   "execution_count": 8,
   "metadata": {
    "collapsed": false
   },
   "outputs": [
    {
     "ename": "AssertionError",
     "evalue": "Even length sequence required",
     "output_type": "error",
     "traceback": [
      "\u001b[1;31m---------------------------------------------------------------------------\u001b[0m",
      "\u001b[1;31mAssertionError\u001b[0m                            Traceback (most recent call last)",
      "\u001b[1;32m<ipython-input-8-bfa3983963ac>\u001b[0m in \u001b[0;36m<module>\u001b[1;34m()\u001b[0m\n\u001b[0;32m      1\u001b[0m \u001b[1;31m# Make pop_cleaned from pop.  We've written some of the code for you.\u001b[0m\u001b[1;33m\u001b[0m\u001b[1;33m\u001b[0m\u001b[0m\n\u001b[0;32m      2\u001b[0m pop_cleaned = Table().with_columns([\n\u001b[1;32m----> 3\u001b[1;33m         \u001b[1;33m...\u001b[0m\u001b[1;33m\u001b[0m\u001b[0m\n\u001b[0m\u001b[0;32m      4\u001b[0m         ])\n\u001b[0;32m      5\u001b[0m \u001b[1;31m# This line will make the numbers in pop_cleaned a little easier to read.\u001b[0m\u001b[1;33m\u001b[0m\u001b[1;33m\u001b[0m\u001b[0m\n",
      "\u001b[1;32m/opt/conda/lib/python3.5/site-packages/datascience/tables.py\u001b[0m in \u001b[0;36mwith_columns\u001b[1;34m(self, labels_and_values)\u001b[0m\n\u001b[0;32m   1295\u001b[0m                 \u001b[1;32massert\u001b[0m \u001b[0mlen\u001b[0m\u001b[1;33m(\u001b[0m\u001b[0mpair\u001b[0m\u001b[1;33m)\u001b[0m \u001b[1;33m==\u001b[0m \u001b[1;36m2\u001b[0m\u001b[1;33m,\u001b[0m \u001b[1;34m'incorrect columns format'\u001b[0m\u001b[1;33m\u001b[0m\u001b[0m\n\u001b[0;32m   1296\u001b[0m             \u001b[0mlabels_and_values\u001b[0m \u001b[1;33m=\u001b[0m \u001b[1;33m[\u001b[0m\u001b[0mx\u001b[0m \u001b[1;32mfor\u001b[0m \u001b[0mpair\u001b[0m \u001b[1;32min\u001b[0m \u001b[0mlabels_and_values\u001b[0m \u001b[1;32mfor\u001b[0m \u001b[0mx\u001b[0m \u001b[1;32min\u001b[0m \u001b[0mpair\u001b[0m\u001b[1;33m]\u001b[0m\u001b[1;33m\u001b[0m\u001b[0m\n\u001b[1;32m-> 1297\u001b[1;33m         \u001b[1;32massert\u001b[0m \u001b[0mlen\u001b[0m\u001b[1;33m(\u001b[0m\u001b[0mlabels_and_values\u001b[0m\u001b[1;33m)\u001b[0m \u001b[1;33m%\u001b[0m \u001b[1;36m2\u001b[0m \u001b[1;33m==\u001b[0m \u001b[1;36m0\u001b[0m\u001b[1;33m,\u001b[0m \u001b[1;34m'Even length sequence required'\u001b[0m\u001b[1;33m\u001b[0m\u001b[0m\n\u001b[0m\u001b[0;32m   1298\u001b[0m         \u001b[1;32mfor\u001b[0m \u001b[0mi\u001b[0m \u001b[1;32min\u001b[0m \u001b[0mrange\u001b[0m\u001b[1;33m(\u001b[0m\u001b[1;36m0\u001b[0m\u001b[1;33m,\u001b[0m \u001b[0mlen\u001b[0m\u001b[1;33m(\u001b[0m\u001b[0mlabels_and_values\u001b[0m\u001b[1;33m)\u001b[0m\u001b[1;33m,\u001b[0m \u001b[1;36m2\u001b[0m\u001b[1;33m)\u001b[0m\u001b[1;33m:\u001b[0m\u001b[1;33m\u001b[0m\u001b[0m\n\u001b[0;32m   1299\u001b[0m             \u001b[0mlabel\u001b[0m\u001b[1;33m,\u001b[0m \u001b[0mvalues\u001b[0m \u001b[1;33m=\u001b[0m \u001b[0mlabels_and_values\u001b[0m\u001b[1;33m[\u001b[0m\u001b[0mi\u001b[0m\u001b[1;33m]\u001b[0m\u001b[1;33m,\u001b[0m \u001b[0mlabels_and_values\u001b[0m\u001b[1;33m[\u001b[0m\u001b[0mi\u001b[0m\u001b[1;33m+\u001b[0m\u001b[1;36m1\u001b[0m\u001b[1;33m]\u001b[0m\u001b[1;33m\u001b[0m\u001b[0m\n",
      "\u001b[1;31mAssertionError\u001b[0m: Even length sequence required"
     ]
    }
   ],
   "source": [
    "# Make pop_cleaned from pop.  We've written some of the code for you.\n",
    "pop_cleaned = Table().with_columns([\n",
    "        ...\n",
    "        ])\n",
    "# This line will make the numbers in pop_cleaned a little easier to read.\n",
    "pop_cleaned.set_format('population', NumberFormatter)"
   ]
  },
  {
   "cell_type": "code",
   "execution_count": null,
   "metadata": {
    "collapsed": false
   },
   "outputs": [],
   "source": [
    "_ = hw04.grade('q13')"
   ]
  },
  {
   "cell_type": "markdown",
   "metadata": {},
   "source": [
    "**Question 1.4.** Now that we have numbers, we can use them to perform useful arithmetic.  Let's look at the distribution of population increases in the late 20th century.  Draw a histogram of the number of people, **in millions**, by which world population **increased** in each year in the dataset (other than the first).  Use bins that have width 10 (million) and cover all population values.\n",
    "\n",
    "*Hint 1*: Use the function `np.diff`, which is described in [the textbook](http://www.inferentialthinking.com/chapter1/arrays.html) and in more detail in [NumPy's documentation](http://docs.scipy.org/doc/numpy-1.10.0/reference/generated/numpy.diff.html).  (The examples in NumPy's documentation are often more useful than the descriptions.)\n",
    "\n",
    "*Hint 2*: To make a histogram of the increases, you'll need to put them into their own table."
   ]
  },
  {
   "cell_type": "code",
   "execution_count": null,
   "metadata": {
    "collapsed": false
   },
   "outputs": [],
   "source": [
    "..."
   ]
  },
  {
   "cell_type": "code",
   "execution_count": null,
   "metadata": {
    "collapsed": false
   },
   "outputs": [],
   "source": [
    "max(np.diff(pop_cleaned.column(\"population\"))/1e6)"
   ]
  },
  {
   "cell_type": "markdown",
   "metadata": {},
   "source": [
    "Returning to the `ahs` table, each household (row) is located in something called a \"Standard Metropolitan Statistical Area,\" or SMSA.  These don't correspond exactly to cities or counties; they generally include a city and some area surrounding it.  For example, all the households near San Jose are part of the San Jose SMSA.  Berkeley is in the Oakland SMSA.\n",
    "\n",
    "**Question 1.5.** Make a table called `ahs_cleaned` that is a copy of `ahs` but with a version of the `SMSA` column with the string values converted to integers using `quoted_number_to_int`. *Hint*: The `with_column` method will replace an existing column from the input table if the label passed to it already exists."
   ]
  },
  {
   "cell_type": "code",
   "execution_count": null,
   "metadata": {
    "collapsed": false
   },
   "outputs": [],
   "source": [
    "ahs_cleaned = ...\n",
    "ahs_cleaned"
   ]
  },
  {
   "cell_type": "code",
   "execution_count": null,
   "metadata": {
    "collapsed": false
   },
   "outputs": [],
   "source": [
    "_ = hw04.grade('q15')"
   ]
  },
  {
   "cell_type": "markdown",
   "metadata": {},
   "source": [
    "**Question 1.6.** In the next cell, we've loaded a table called [`ba_smsa_names`](ba_smsa_names.csv) that associates SMSA numbers (like 7400) with English names (like \"San Jose\").  Using that table and the `join` method, assign the name `ahs_named` to a table that extends `ahs_cleaned` and has an additional column called `\"SMSA names\"` containing the names that correspond to the `SMSA` column."
   ]
  },
  {
   "cell_type": "code",
   "execution_count": null,
   "metadata": {
    "collapsed": false
   },
   "outputs": [],
   "source": [
    "ba_smsa_names = Table.read_table(\"ba_smsa_names.csv\")\n",
    "ahs_named = ...\n",
    "ahs_named"
   ]
  },
  {
   "cell_type": "code",
   "execution_count": null,
   "metadata": {
    "collapsed": false
   },
   "outputs": [],
   "source": [
    "_ = hw04.grade('q16')"
   ]
  },
  {
   "cell_type": "markdown",
   "metadata": {},
   "source": [
    "**Question 1.7.** Create a bar chart to show how many households in `ahs_named` are in each SMSA. Use the SMSA names to label each bar, not the codes."
   ]
  },
  {
   "cell_type": "code",
   "execution_count": null,
   "metadata": {
    "collapsed": false
   },
   "outputs": [],
   "source": [
    "..."
   ]
  },
  {
   "cell_type": "markdown",
   "metadata": {},
   "source": [
    "# 2. Investigating poverty\n",
    "We're going to investigate the rate of poverty among households in the Bay Area.  According to the [Federal Poverty Guidelines](https://aspe.hhs.gov/2013-poverty-guidelines), a household is in poverty if its combined annual income is below a certain threshold, which depends on the year and the number of people in the household.  The 2013 Federal Poverty Guideline threshold for poverty is an annual income of \\$7,470 plus \\$4,020 for each person in the household (so \\$11,490 for a one-person household, or \\$15,510 total for a two-person household).  \n",
    "\n",
    "For these questions, you will need to find particular columns by reading their descriptions. You can refer to the [documentation pdf](http://www.census.gov/content/dam/Census/programs-surveys/ahs/tech-documentation/AHS%20Codebook%202013.pdf) or search through the `ahs_columns` table (recommended). Narrowing down this table by category can speed up the process a lot!"
   ]
  },
  {
   "cell_type": "code",
   "execution_count": null,
   "metadata": {
    "collapsed": false
   },
   "outputs": [],
   "source": [
    "ahs_columns.group('Category')"
   ]
  },
  {
   "cell_type": "markdown",
   "metadata": {},
   "source": [
    "**Question 2.1.** Find the column that records *Household income*. Use it to generate a histogram of incomes for households in the Bay Area. The `bins` to use have been provided for you.\n",
    "\n",
    "According to the documentation of this column, the value -6 is not an income, but instead a special code indicating that the notion of \"household income\" was not applicable. Do not include these values in your histogram!\n",
    "\n",
    "*Explanation of `bins`:* The `np.append` function creates a longer array out of two arrays. In this case, we create smaller bins for smaller incomes and large bins for large incomes."
   ]
  },
  {
   "cell_type": "code",
   "execution_count": null,
   "metadata": {
    "collapsed": false
   },
   "outputs": [],
   "source": [
    "bins=np.append(np.arange(-10000, 100000, 10000), np.arange(100000, 400000, 50000))\n",
    "..."
   ]
  },
  {
   "cell_type": "markdown",
   "metadata": {},
   "source": [
    "**Question 2.2.** Next, draw a histogram of the number of people in a household. Choose `bins` of width 1 that together include all of the data, but exclude the value -6 (which again stands for \"not applicable\")."
   ]
  },
  {
   "cell_type": "code",
   "execution_count": null,
   "metadata": {
    "collapsed": false
   },
   "outputs": [],
   "source": [
    "# Make a visualization to show the distribution of the numbers of people per household.\n",
    "..."
   ]
  },
  {
   "cell_type": "markdown",
   "metadata": {},
   "source": [
    "**Question 2.3.** Assign `ahs_poverty` to an extension of `ahs_named` that only includes rows with valid household income and people per household values (not -6). The `ahs_poverty` table should also include one additional column called `poverty`. The value of the `poverty` column should be `True` for all rows describing a household that is in poverty according to the 2013 Federal Poverty Guideline described above and `False` otherwise.  \n",
    "\n",
    "*Hint:* First assign `ahs_valid` to a filtered version of `ahs_named` that does not include the value -6 for either household income or people per household. After that, it is possible to add the `poverty` column in one (long) line of code, but it's better to break the problem down into steps and use variables to store the result of each step.  For example, what are the poverty thresholds for each household?"
   ]
  },
  {
   "cell_type": "code",
   "execution_count": null,
   "metadata": {
    "collapsed": false
   },
   "outputs": [],
   "source": [
    "ahs_valid = ...\n",
    "ahs_poverty = ...\n",
    "ahs_poverty"
   ]
  },
  {
   "cell_type": "code",
   "execution_count": null,
   "metadata": {
    "collapsed": false
   },
   "outputs": [],
   "source": [
    "_ = hw04.grade(\"q23\")"
   ]
  },
  {
   "cell_type": "markdown",
   "metadata": {},
   "source": [
    "**Question 2.4.** Assign `poverty_counts` to a table that has one row per `SMSA` and three columns, where\n",
    "- The first column labeled \"`SMSA name`\" has the name of the SMSA\n",
    "- The second column labeled \"`False`\" has the count of the number of households *not* in poverty in that SMSA\n",
    "- The third column labeled \"`True`\" has the count of the number of households in poverty in that SMSA\n",
    "\n",
    "Your counts should not include any households that have \"not applicable\" (-6) values for household income or people per household.\n",
    "\n",
    "*Hint*: Use `pivot` for the `ahs_poverty` table."
   ]
  },
  {
   "cell_type": "code",
   "execution_count": null,
   "metadata": {
    "collapsed": false
   },
   "outputs": [],
   "source": [
    "poverty_counts = ...\n",
    "poverty_counts"
   ]
  },
  {
   "cell_type": "code",
   "execution_count": null,
   "metadata": {
    "collapsed": false
   },
   "outputs": [],
   "source": [
    "_ = hw04.grade(\"q25\")"
   ]
  },
  {
   "cell_type": "markdown",
   "metadata": {},
   "source": [
    "**Question 2.5** Draw a bar chart with one bar for each SMSA, labeled by its name, where the length of each bar is the proportion of sampled households in poverty in that SMSA. *Hint*: First create a column of `poverty_proportions` and then add it as a column to `poverty_counts`."
   ]
  },
  {
   "cell_type": "code",
   "execution_count": null,
   "metadata": {
    "collapsed": false
   },
   "outputs": [],
   "source": [
    "poverty_proportions = ...\n",
    "..."
   ]
  },
  {
   "cell_type": "markdown",
   "metadata": {
    "collapsed": true
   },
   "source": [
    "Keep in mind that we have estimated the rate of *household poverty*, not the proportion of *people* who are in poverty.  We have also removed households without income data, which may bias the results further. Using a related dataset called the American Community Survey that is more suited to examining individual people, some economists have [estimated](https://www.jointventure.org/images/stories/pdf/poverty-brief-2015-03.pdf) that the rate of individual poverty in the Bay Area was 11.3% in 2013."
   ]
  },
  {
   "cell_type": "markdown",
   "metadata": {},
   "source": [
    "**Question 2.6.** Suppose that the AHS is a simple random sample of households.  (In fact, it’s a complicated kind of random sample, made more complicated by the subsamping we did before we gave you the data, but ignore those details for now.)  Does your visualization above give evidence that poverty is related to location (that is, to the SMSA where a household is located) within the Bay Area?  Write your answer in text in the cell below."
   ]
  },
  {
   "cell_type": "markdown",
   "metadata": {},
   "source": [
    "*Write your answer here, replacing this text.*"
   ]
  },
  {
   "cell_type": "markdown",
   "metadata": {},
   "source": [
    "**Question 2.7.** Does it give evidence that being in certain locations *causes* some households to be in poverty (or not to be in poverty)? Why or why not?"
   ]
  },
  {
   "cell_type": "markdown",
   "metadata": {},
   "source": [
    "*Write your answer here, replacing this text.*"
   ]
  },
  {
   "cell_type": "markdown",
   "metadata": {},
   "source": [
    "# 3. Histograms\n",
    "Suppose we study 100 Berkeley students, recording in a table called `exercise.csv` the average number of hours per week they spend exercising.  The largest observation is 18 hours.  The only observations between 10 and 13 are 10.1, 10.2, 11.5, and 11.5 hours.  We decide to draw a histogram of the data *on the density scale*.  We use larger bins for the larger values.  "
   ]
  },
  {
   "cell_type": "code",
   "execution_count": null,
   "metadata": {
    "collapsed": false
   },
   "outputs": [],
   "source": [
    "# Run this cell to see the bins.\n",
    "exercise_bins = np.append(np.arange(0, 11+1, 1), np.arange(13, 21, 2))\n",
    "exercise_bins"
   ]
  },
  {
   "cell_type": "markdown",
   "metadata": {},
   "source": [
    "This is our code for generating the histogram:\n",
    "    \n",
    "    exercise = Table.read_table(\"exercise.csv\")\n",
    "    # The name of the column with average exercise per week:\n",
    "    exercise_label = \"average exercise (hours per week)\"\n",
    "    # Draw the histogram:\n",
    "    hours.hist(exercise_label, bins=exercise_bins)\n",
    "\n",
    "For each quantity below, calculate it by hand, or if it’s impossible to calculate with only this information, say why.  You can write your answer as an expression (such as 2+2) or a number (such as 4). *Note*: There is no `exercise.csv` file distributed with this assignment."
   ]
  },
  {
   "cell_type": "markdown",
   "metadata": {},
   "source": [
    "**Question 3.1.** The area of the 10-11 bin"
   ]
  },
  {
   "cell_type": "markdown",
   "metadata": {},
   "source": [
    "*Write your answer here, replacing this text.*"
   ]
  },
  {
   "cell_type": "markdown",
   "metadata": {},
   "source": [
    "**Question 3.2.** The area of the 11-13 bin"
   ]
  },
  {
   "cell_type": "markdown",
   "metadata": {},
   "source": [
    "*Write your answer here, replacing this text.*"
   ]
  },
  {
   "cell_type": "markdown",
   "metadata": {},
   "source": [
    "**Question 3.3.** The height of the 10-11 bin"
   ]
  },
  {
   "cell_type": "markdown",
   "metadata": {},
   "source": [
    "*Write your answer here, replacing this text.*"
   ]
  },
  {
   "cell_type": "markdown",
   "metadata": {},
   "source": [
    "**Question 3.4.** The height of the 11-13 bin"
   ]
  },
  {
   "cell_type": "markdown",
   "metadata": {},
   "source": [
    "*Write your answer here, replacing this text.*"
   ]
  },
  {
   "cell_type": "code",
   "execution_count": null,
   "metadata": {
    "collapsed": false
   },
   "outputs": [],
   "source": [
    "# For your convenience, you can run this cell to run all the tests at once!\n",
    "import os\n",
    "_ = [hw04.grade(q[:-3]) for q in os.listdir(\"tests\") if q.startswith('q')]"
   ]
  }
 ],
 "metadata": {
  "kernelspec": {
   "display_name": "Python 3",
   "language": "python",
   "name": "python3"
  },
  "language_info": {
   "codemirror_mode": {
    "name": "ipython",
    "version": 3
   },
   "file_extension": ".py",
   "mimetype": "text/x-python",
   "name": "python",
   "nbconvert_exporter": "python",
   "pygments_lexer": "ipython3",
   "version": "3.5.1"
  }
 },
 "nbformat": 4,
 "nbformat_minor": 0
}
