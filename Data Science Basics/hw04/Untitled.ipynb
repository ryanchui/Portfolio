{
 "cells": [
  {
   "cell_type": "code",
   "execution_count": 1,
   "metadata": {
    "collapsed": false
   },
   "outputs": [
    {
     "name": "stdout",
     "output_type": "stream",
     "text": [
      "=====================================================================\n",
      "Assignment: HW 04\n",
      "OK, version v1.5.1\n",
      "=====================================================================\n",
      "\n"
     ]
    }
   ],
   "source": [
    "# Run this cell, but please don't change it.\n",
    "\n",
    "# These lines import the numpy and datascience modules.\n",
    "import numpy as np\n",
    "from datascience import *\n",
    "\n",
    "# These lines load the tests.\n",
    "from client.api.assignment import load_assignment \n",
    "hw04 = load_assignment('hw04.ok')\n",
    "\n",
    "# These lines set up visualizations.\n",
    "import matplotlib\n",
    "%matplotlib inline\n",
    "import matplotlib.pyplot as plots\n",
    "plots.style.use('fivethirtyeight')"
   ]
  },
  {
   "cell_type": "code",
   "execution_count": 2,
   "metadata": {
    "collapsed": false
   },
   "outputs": [
    {
     "data": {
      "text/html": [
       "<table border=\"1\" class=\"dataframe\">\n",
       "    <thead>\n",
       "        <tr>\n",
       "            <th>Column</th> <th>Description</th> <th>Category</th>\n",
       "        </tr>\n",
       "    </thead>\n",
       "    <tbody>\n",
       "        <tr>\n",
       "            <td>CMSA    </td> <td>1980 design CMSA code                                     </td> <td>Geography</td>\n",
       "        </tr>\n",
       "    </tbody>\n",
       "        <tr>\n",
       "            <td>COUNTY  </td> <td>County code                                               </td> <td>Geography</td>\n",
       "        </tr>\n",
       "    </tbody>\n",
       "        <tr>\n",
       "            <td>DIVISION</td> <td>Census division                                           </td> <td>Geography</td>\n",
       "        </tr>\n",
       "    </tbody>\n",
       "        <tr>\n",
       "            <td>METRO   </td> <td>Multiple central cities/suburban status within metro areas</td> <td>Geography</td>\n",
       "        </tr>\n",
       "    </tbody>\n",
       "        <tr>\n",
       "            <td>METRO3  </td> <td>Central city / suburban status                            </td> <td>Geography</td>\n",
       "        </tr>\n",
       "    </tbody>\n",
       "        <tr>\n",
       "            <td>PMSA    </td> <td>1990 design PMSA code                                     </td> <td>Geography</td>\n",
       "        </tr>\n",
       "    </tbody>\n",
       "        <tr>\n",
       "            <td>PSUDOTCT</td> <td>Census tract for 1970, 1980 or 1990 containing case       </td> <td>Geography</td>\n",
       "        </tr>\n",
       "    </tbody>\n",
       "        <tr>\n",
       "            <td>REGION  </td> <td>Census region                                             </td> <td>Geography</td>\n",
       "        </tr>\n",
       "    </tbody>\n",
       "        <tr>\n",
       "            <td>SMSA    </td> <td>1980 design PMSA code                                     </td> <td>Geography</td>\n",
       "        </tr>\n",
       "    </tbody>\n",
       "        <tr>\n",
       "            <td>STATE   </td> <td>FIPS state code                                           </td> <td>Geography</td>\n",
       "        </tr>\n",
       "    </tbody>\n",
       "</table>\n",
       "<p>... (772 rows omitted)</p"
      ],
      "text/plain": [
       "Column   | Description                                                | Category\n",
       "CMSA     | 1980 design CMSA code                                      | Geography\n",
       "COUNTY   | County code                                                | Geography\n",
       "DIVISION | Census division                                            | Geography\n",
       "METRO    | Multiple central cities/suburban status within metro areas | Geography\n",
       "METRO3   | Central city / suburban status                             | Geography\n",
       "PMSA     | 1990 design PMSA code                                      | Geography\n",
       "PSUDOTCT | Census tract for 1970, 1980 or 1990 containing case        | Geography\n",
       "REGION   | Census region                                              | Geography\n",
       "SMSA     | 1980 design PMSA code                                      | Geography\n",
       "STATE    | FIPS state code                                            | Geography\n",
       "... (772 rows omitted)"
      ]
     },
     "execution_count": 2,
     "metadata": {},
     "output_type": "execute_result"
    }
   ],
   "source": [
    "ahs_columns = Table.read_table('ahs_columns.csv')\n",
    "ahs_columns"
   ]
  },
  {
   "cell_type": "code",
   "execution_count": 5,
   "metadata": {
    "collapsed": false
   },
   "outputs": [
    {
     "data": {
      "text/html": [
       "<table border=\"1\" class=\"dataframe\">\n",
       "    <thead>\n",
       "        <tr>\n",
       "            <th>Description</th> <th>Category</th>\n",
       "        </tr>\n",
       "    </thead>\n",
       "    <tbody>\n",
       "        <tr>\n",
       "            <td>1980 design CMSA code                                     </td> <td>Geography</td>\n",
       "        </tr>\n",
       "    </tbody>\n",
       "        <tr>\n",
       "            <td>County code                                               </td> <td>Geography</td>\n",
       "        </tr>\n",
       "    </tbody>\n",
       "        <tr>\n",
       "            <td>Census division                                           </td> <td>Geography</td>\n",
       "        </tr>\n",
       "    </tbody>\n",
       "        <tr>\n",
       "            <td>Multiple central cities/suburban status within metro areas</td> <td>Geography</td>\n",
       "        </tr>\n",
       "    </tbody>\n",
       "        <tr>\n",
       "            <td>Central city / suburban status                            </td> <td>Geography</td>\n",
       "        </tr>\n",
       "    </tbody>\n",
       "        <tr>\n",
       "            <td>1990 design PMSA code                                     </td> <td>Geography</td>\n",
       "        </tr>\n",
       "    </tbody>\n",
       "        <tr>\n",
       "            <td>Census tract for 1970, 1980 or 1990 containing case       </td> <td>Geography</td>\n",
       "        </tr>\n",
       "    </tbody>\n",
       "        <tr>\n",
       "            <td>Census region                                             </td> <td>Geography</td>\n",
       "        </tr>\n",
       "    </tbody>\n",
       "        <tr>\n",
       "            <td>1980 design PMSA code                                     </td> <td>Geography</td>\n",
       "        </tr>\n",
       "    </tbody>\n",
       "        <tr>\n",
       "            <td>FIPS state code                                           </td> <td>Geography</td>\n",
       "        </tr>\n",
       "    </tbody>\n",
       "</table>\n",
       "<p>... (772 rows omitted)</p"
      ],
      "text/plain": [
       "Description                                                | Category\n",
       "1980 design CMSA code                                      | Geography\n",
       "County code                                                | Geography\n",
       "Census division                                            | Geography\n",
       "Multiple central cities/suburban status within metro areas | Geography\n",
       "Central city / suburban status                             | Geography\n",
       "1990 design PMSA code                                      | Geography\n",
       "Census tract for 1970, 1980 or 1990 containing case        | Geography\n",
       "Census region                                              | Geography\n",
       "1980 design PMSA code                                      | Geography\n",
       "FIPS state code                                            | Geography\n",
       "... (772 rows omitted)"
      ]
     },
     "execution_count": 5,
     "metadata": {},
     "output_type": "execute_result"
    }
   ],
   "source": []
  },
  {
   "cell_type": "code",
   "execution_count": 6,
   "metadata": {
    "collapsed": false
   },
   "outputs": [
    {
     "data": {
      "text/plain": [
       "'Geography'"
      ]
     },
     "execution_count": 6,
     "metadata": {},
     "output_type": "execute_result"
    }
   ],
   "source": [
    "ahs_columns.row(0).item(2) "
   ]
  },
  {
   "cell_type": "code",
   "execution_count": 7,
   "metadata": {
    "collapsed": false
   },
   "outputs": [
    {
     "data": {
      "text/plain": [
       "'1980 design CMSA code'"
      ]
     },
     "execution_count": 7,
     "metadata": {},
     "output_type": "execute_result"
    }
   ],
   "source": [
    "ahs_columns.row(0).item(1) "
   ]
  },
  {
   "cell_type": "code",
   "execution_count": null,
   "metadata": {
    "collapsed": true
   },
   "outputs": [],
   "source": []
  }
 ],
 "metadata": {
  "kernelspec": {
   "display_name": "Python 3",
   "language": "python",
   "name": "python3"
  },
  "language_info": {
   "codemirror_mode": {
    "name": "ipython",
    "version": 3
   },
   "file_extension": ".py",
   "mimetype": "text/x-python",
   "name": "python",
   "nbconvert_exporter": "python",
   "pygments_lexer": "ipython3",
   "version": "3.5.1"
  }
 },
 "nbformat": 4,
 "nbformat_minor": 0
}
