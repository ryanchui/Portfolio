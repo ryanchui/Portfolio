{
 "cells": [
  {
   "cell_type": "markdown",
   "metadata": {},
   "source": [
    "# Lab 14: Conditional Probability\n",
    "\n",
    "# 0. Intro\n",
    "Welcome to Lab 14!\n",
    "\n",
    "Today's lab will review [conditional probability from the textbook](http://www.inferentialthinking.com/chapter6/conditional.html) (which is explored in more depth in these [example](http://nbviewer.jupyter.org/url/norvig.com/ipython/Probability.ipynb) [notebooks](http://nbviewer.jupyter.org/url/norvig.com/ipython/ProbabilityParadox.ipynb) for those who are interested). Probability is a different way of thinking about prediction, and an important topic in its own right.\n",
    "\n",
    "#### Administrative details\n",
    "Lab submissions are due by **Friday, April 29 at 7:00 PM**.\n",
    "\n",
    "As usual, if you attend lab section and make a good effort but don't finish during the 2 hours, let your TA know, and you'll get full credit for the lab."
   ]
  },
  {
   "cell_type": "code",
   "execution_count": 1,
   "metadata": {
    "collapsed": false
   },
   "outputs": [
    {
     "name": "stdout",
     "output_type": "stream",
     "text": [
      "=====================================================================\n",
      "Assignment: Lab 14\n",
      "OK, version v1.5.1\n",
      "=====================================================================\n",
      "\n"
     ]
    }
   ],
   "source": [
    "# Run this cell, but please don't change it.\n",
    "\n",
    "# These lines import the Numpy and Datascience modules.\n",
    "import numpy as np\n",
    "from datascience import *\n",
    "\n",
    "# These lines do some fancy plotting magic.\n",
    "import matplotlib\n",
    "%matplotlib inline\n",
    "import matplotlib.pyplot as plt\n",
    "plt.style.use('fivethirtyeight')\n",
    "import warnings\n",
    "warnings.simplefilter('ignore', FutureWarning)\n",
    "\n",
    "# This line loads the visualization code for this lab.\n",
    "import visualizations\n",
    "\n",
    "# These lines load the tests.\n",
    "from client.api.assignment import load_assignment \n",
    "lab14 = load_assignment('lab14.ok')"
   ]
  },
  {
   "cell_type": "markdown",
   "metadata": {},
   "source": [
    "# 1. What is conditional probability good for?\n",
    "\n",
    "Suppose we have a known population, like all dogs in California.  So far, we've seen 3 ways of *predicting* something about an individual in that population, given incomplete knowledge about the identity of the individual:\n",
    "\n",
    "* If we know nothing about the individual dog, we could predict that its speed is the *average* or *median* of all the speeds in the population.\n",
    "* If we know the dog's height but not its speed, we could use *linear regression* to predict its speed from its height.  The resulting prediction is still imperfect, but it might be more accurate than the population average.\n",
    "* If we know the dog's breed, height, and age, we could use *nearest-neighbor classification* to predict its speed by comparing to a collection of dogs with known speed.\n",
    "\n",
    "Computing conditional probabilities is a different way of making predictions.  It differs in at least two important ways from the methods we've seen:\n",
    "1. Rather than producing definite answers that might be wrong, we \"hedge our bets\" and figure out how likely each possible answer is. That is, we predict a distribution over outcomes.\n",
    "2. In the simple (but important) cases we'll look at today, conditional probabilities can be calculated exactly from assumptions rather than estimated from data.  There are many techniques for classification, and even once we choose `k`-Nearest Neighbors, we get different results for different values of `k`.  But there is only one correct way to compute a conditional probability."
   ]
  },
  {
   "cell_type": "markdown",
   "metadata": {},
   "source": [
    "# 2. Icon arrays\n",
    "We're going to talk about cancer, but first let's start with a simple, somewhat contrived example.\n",
    "\n",
    "Suppose you are a marble.  You don't know what you look like (since you obviously have no eyes), but you know that Samantha drew you **uniformly at random** from a bag that contained the following marbles:\n",
    "* 4 large green marbles,\n",
    "* 1 large red marble,\n",
    "* 6 small green marbles, and\n",
    "* 2 small red marbles."
   ]
  },
  {
   "cell_type": "markdown",
   "metadata": {},
   "source": [
    "**Question 2.1.** Knowing only what we've told you so far, what's the probability that you're a large green marble?"
   ]
  },
  {
   "cell_type": "code",
   "execution_count": 4,
   "metadata": {
    "collapsed": true
   },
   "outputs": [],
   "source": [
    "probability_large_green = 4/(4+1+6+2)"
   ]
  },
  {
   "cell_type": "code",
   "execution_count": 5,
   "metadata": {
    "collapsed": false
   },
   "outputs": [
    {
     "name": "stdout",
     "output_type": "stream",
     "text": [
      "~~~~~~~~~~~~~~~~~~~~~~~~~~~~~~~~~~~~~~~~~~~~~~~~~~~~~~~~~~~~~~~~~~~~~\n",
      "Running tests\n",
      "\n",
      "---------------------------------------------------------------------\n",
      "Test summary\n",
      "    Passed: 1\n",
      "    Failed: 0\n",
      "[ooooooooook] 100.0% passed\n",
      "\n"
     ]
    }
   ],
   "source": [
    "_ = lab14.grade(\"q21\")"
   ]
  },
  {
   "cell_type": "markdown",
   "metadata": {},
   "source": [
    "Here's a table with those marbles:"
   ]
  },
  {
   "cell_type": "code",
   "execution_count": 6,
   "metadata": {
    "collapsed": false
   },
   "outputs": [
    {
     "data": {
      "text/html": [
       "<table border=\"1\" class=\"dataframe\">\n",
       "    <thead>\n",
       "        <tr>\n",
       "            <th>color</th> <th>size</th>\n",
       "        </tr>\n",
       "    </thead>\n",
       "    <tbody>\n",
       "        <tr>\n",
       "            <td>green</td> <td>large</td>\n",
       "        </tr>\n",
       "    </tbody>\n",
       "        <tr>\n",
       "            <td>green</td> <td>large</td>\n",
       "        </tr>\n",
       "    </tbody>\n",
       "        <tr>\n",
       "            <td>green</td> <td>large</td>\n",
       "        </tr>\n",
       "    </tbody>\n",
       "        <tr>\n",
       "            <td>green</td> <td>large</td>\n",
       "        </tr>\n",
       "    </tbody>\n",
       "        <tr>\n",
       "            <td>red  </td> <td>large</td>\n",
       "        </tr>\n",
       "    </tbody>\n",
       "        <tr>\n",
       "            <td>green</td> <td>small</td>\n",
       "        </tr>\n",
       "    </tbody>\n",
       "        <tr>\n",
       "            <td>green</td> <td>small</td>\n",
       "        </tr>\n",
       "    </tbody>\n",
       "        <tr>\n",
       "            <td>green</td> <td>small</td>\n",
       "        </tr>\n",
       "    </tbody>\n",
       "        <tr>\n",
       "            <td>green</td> <td>small</td>\n",
       "        </tr>\n",
       "    </tbody>\n",
       "        <tr>\n",
       "            <td>green</td> <td>small</td>\n",
       "        </tr>\n",
       "    </tbody>\n",
       "</table>\n",
       "<p>... (3 rows omitted)</p"
      ],
      "text/plain": [
       "color | size\n",
       "green | large\n",
       "green | large\n",
       "green | large\n",
       "green | large\n",
       "red   | large\n",
       "green | small\n",
       "green | small\n",
       "green | small\n",
       "green | small\n",
       "green | small\n",
       "... (3 rows omitted)"
      ]
     },
     "execution_count": 6,
     "metadata": {},
     "output_type": "execute_result"
    }
   ],
   "source": [
    "# Just run this cell.\n",
    "marbles = Table().with_columns([\"color\", [], \"size\", []]).with_rows([\n",
    "    [\"green\", \"large\"],\n",
    "    [\"green\", \"large\"],\n",
    "    [\"green\", \"large\"],\n",
    "    [\"green\", \"large\"],\n",
    "    [\"red\",   \"large\"],\n",
    "    [\"green\", \"small\"],\n",
    "    [\"green\", \"small\"],\n",
    "    [\"green\", \"small\"],\n",
    "    [\"green\", \"small\"],\n",
    "    [\"green\", \"small\"],\n",
    "    [\"green\", \"small\"],\n",
    "    [\"red\",   \"small\"],\n",
    "    [\"red\",   \"small\"]\n",
    "])\n",
    "marbles"
   ]
  },
  {
   "cell_type": "markdown",
   "metadata": {},
   "source": [
    "Statisticians traditionally explain conditional probabilities using particular technical vocabulary, such as \"the probability you are a green marble given that Samantha drew a large marble is .8.\" An equivalent statement, perhaps easier to understand, is that \"4 out of the 5 large marbles are green\".  A *visualization* can be even easier to understand, so we're going to explore probabilities with visualizations.\n",
    "\n",
    "We've included some code to display something called an *icon array*.  Read about how to call the functions in the cell below to create icon arrays."
   ]
  },
  {
   "cell_type": "code",
   "execution_count": 7,
   "metadata": {
    "collapsed": true
   },
   "outputs": [],
   "source": [
    "# Run this cell.\n",
    "\n",
    "#######################################################################\n",
    "# The functions you'll need to actually use are in here.  Each is a\n",
    "# way of making an icon array from a differently-formatted table.\n",
    "#######################################################################\n",
    "\n",
    "def display_icon_array(table, groups, individuals_name):\n",
    "    \"\"\"\n",
    "    Given a table and some columns to group it on, displays an icon array\n",
    "    of the groups.\n",
    "    \n",
    "    groups should be a list of labels of columns in table.\n",
    "    \n",
    "    individuals_name is your name for the individual rows of table.\n",
    "    For example, if we're talking about a population of people,\n",
    "    individuals_name should be \"people\".\n",
    "    \n",
    "    For example:\n",
    "    \n",
    "    display_icon_array(marbles, [\"color\", \"size\"], \"marbles\")\n",
    "    \"\"\"\n",
    "    display_grouped_icon_array(table.groups(groups), individuals_name)\n",
    "\n",
    "def display_grouped_icon_array(grouped_data, individuals_name):\n",
    "    \"\"\"\n",
    "    Given a table with counts for data grouped by 1 or more categories,\n",
    "    displays an icon array of the groups represented in the table.\n",
    "    \n",
    "    grouped_data should be a table of frequencies or counts, such as\n",
    "    a table created by calling the groups method on some table.\n",
    "    \n",
    "    individuals_name is your name for the individual members of the\n",
    "    dataset.  For example, if we're talking about a population of\n",
    "    people, individuals_name should be \"people\".\n",
    "    \n",
    "    For example:\n",
    "    \n",
    "    display_grouped_icon_array(marbles.groups([\"color\", \"size\"]), \"marbles\")\n",
    "    \"\"\"\n",
    "    visualizations.display_combinations(grouped_data, individuals_name=individuals_name)\n",
    "\n",
    "def display_crosstab_icon_array(crosstabulation, x_label, individuals_name):\n",
    "    \"\"\"\n",
    "    Given a crosstabulation table, displays an icon array of the groups\n",
    "    represented in the table.\n",
    "    \n",
    "    crosstabulation should be a table of frequencies or counts created by\n",
    "    calling pivot on some table.\n",
    "    \n",
    "    x_label should be the label of the categories listed as columns (on\n",
    "    the \"x axis\" when the crosstabulation table is printed).\n",
    "    \n",
    "    individuals_name is your name for the individual members of the\n",
    "    dataset.  For example, if we're talking about a population of\n",
    "    people, individuals_name should be \"people\".\n",
    "    \n",
    "    For example:\n",
    "    \n",
    "    display_crosstab_icon_array(marbles.pivot(\"color\", \"size\"), \"color\", \"marbles\")\n",
    "    \"\"\"\n",
    "    display_grouped_icon_array(visualizations.pivot_table_to_groups(crosstabulation, x_label), individuals_name)"
   ]
  },
  {
   "cell_type": "markdown",
   "metadata": {},
   "source": [
    "Here's an icon array of all the marbles, grouped by color and size:"
   ]
  },
  {
   "cell_type": "code",
   "execution_count": 8,
   "metadata": {
    "collapsed": false
   },
   "outputs": [
    {
     "data": {
      "image/png": "[encoded data removed]",
      "text/plain": [
       "<matplotlib.figure.Figure at 0x7fc03dde49e8>"
      ]
     },
     "metadata": {},
     "output_type": "display_data"
    }
   ],
   "source": [
    "# Run this cell.\n",
    "display_grouped_icon_array(marbles.groups([\"color\", \"size\"]), \"marbles\")"
   ]
  },
  {
   "cell_type": "markdown",
   "metadata": {},
   "source": [
    "Note that the icon colors don't correspond to the colors of the marbles they represent.\n",
    "\n",
    "You (the marble) should imagine that you are a random draw from these 13 icons.\n",
    "\n",
    "**Question 2.2.** Make an icon array of the marbles, grouped **only by color**."
   ]
  },
  {
   "cell_type": "code",
   "execution_count": 10,
   "metadata": {
    "collapsed": false
   },
   "outputs": [
    {
     "data": {
      "text/html": [
       "<table border=\"1\" class=\"dataframe\">\n",
       "    <thead>\n",
       "        <tr>\n",
       "            <th>color</th> <th>count</th>\n",
       "        </tr>\n",
       "    </thead>\n",
       "    <tbody>\n",
       "        <tr>\n",
       "            <td>green</td> <td>10   </td>\n",
       "        </tr>\n",
       "    </tbody>\n",
       "        <tr>\n",
       "            <td>red  </td> <td>3    </td>\n",
       "        </tr>\n",
       "    </tbody>\n",
       "</table>"
      ],
      "text/plain": [
       "color | count\n",
       "green | 10\n",
       "red   | 3"
      ]
     },
     "execution_count": 10,
     "metadata": {},
     "output_type": "execute_result"
    }
   ],
   "source": [
    "marbles.group(\"color\")"
   ]
  },
  {
   "cell_type": "markdown",
   "metadata": {},
   "source": [
    "This shows you how likely you are to be a green marble, *knowing nothing else about yourself*.  Remember, you're equally likely to be any of the marbles pictured.  So to compute the probability that you're a green marble, just divide the number of green marbles by the total number of marbles shown.\n",
    "\n",
    "**Question 2.3.** What's the probability that you're a green marble?  Calculate this by hand by looking at your icon array."
   ]
  },
  {
   "cell_type": "code",
   "execution_count": 51,
   "metadata": {
    "collapsed": true
   },
   "outputs": [],
   "source": [
    "probability_green = ..."
   ]
  },
  {
   "cell_type": "code",
   "execution_count": 52,
   "metadata": {
    "collapsed": false
   },
   "outputs": [],
   "source": [
    "_ = lab14.grade(\"q23\")"
   ]
  },
  {
   "cell_type": "markdown",
   "metadata": {},
   "source": [
    "## 2.1. Conditional probability\n",
    "\n",
    "Suppose you overhear Samantha saying that you're a large marble.  (Though marbles lack eyes, they possess rudimentary ears.)  Should this change the likelihood that you're green?  Let's find out.\n",
    "\n",
    "Go back to the full icon array, displayed below for convenience."
   ]
  },
  {
   "cell_type": "code",
   "execution_count": 53,
   "metadata": {
    "collapsed": false
   },
   "outputs": [],
   "source": [
    "display_grouped_icon_array(marbles.groups([\"color\", \"size\"]), \"marbles\")"
   ]
  },
  {
   "cell_type": "markdown",
   "metadata": {},
   "source": [
    "In question 2.3, we assumed you were equally likely to be any of the marbles, because we didn't know any better.  That's why we looked at all the marbles to compute the probability you were green.\n",
    "\n",
    "But assuming (the statistician would say \"conditioning on the fact that\") you're a large marble, we can eliminate some of these possibilities.  In particular, you can't be a small green marble or a small red marble.\n",
    "\n",
    "You're still equally likely to be any of the remaining marbles, because you don't know anything that says otherwise.  So here's an icon array of those remaining possibilities:"
   ]
  },
  {
   "cell_type": "code",
   "execution_count": 11,
   "metadata": {
    "collapsed": false
   },
   "outputs": [],
   "source": [
    "# Just run this cell.\n",
    "display_grouped_icon_array(marbles.where(\"size\", \"large\").group(\"color\"), \"large marbles\")"
   ]
  },
  {
   "cell_type": "markdown",
   "metadata": {},
   "source": [
    "**Question 2.1.1.** What's the probability you're a green marble, knowing that you're a large marble?  Calculate it by hand, using the icon array."
   ]
  },
  {
   "cell_type": "code",
   "execution_count": 55,
   "metadata": {
    "collapsed": true
   },
   "outputs": [],
   "source": [
    "probability_green_given_large = ..."
   ]
  },
  {
   "cell_type": "code",
   "execution_count": 56,
   "metadata": {
    "collapsed": false
   },
   "outputs": [],
   "source": [
    "_ = lab14.grade(\"q211\")"
   ]
  },
  {
   "cell_type": "markdown",
   "metadata": {},
   "source": [
    "You should have found that this is different from the probability that you're a green marble, which you computed earlier.  The distribution of colors among the large marbles is a little different from the distribution of colors among all the marbles."
   ]
  },
  {
   "cell_type": "markdown",
   "metadata": {},
   "source": [
    "**Question 2.1.2.** Suppose instead Samantha had said you're a green marble.  What's the probability you're large?  Make an icon array to help you compute this probability, then compute it.\n",
    "\n",
    "*Hint:* Look at the code we wrote to generate an icon array for question 2.1.1.\n",
    "\n",
    "*Hint 2:* Remember, this time you're equally likely to be any of the **green** marbles."
   ]
  },
  {
   "cell_type": "code",
   "execution_count": 57,
   "metadata": {
    "collapsed": false
   },
   "outputs": [],
   "source": [
    "# Make an icon array to help you compute the answer.\n",
    "...\n",
    "\n",
    "# Now compute the answer.\n",
    "probability_large_given_green = ..."
   ]
  },
  {
   "cell_type": "code",
   "execution_count": null,
   "metadata": {
    "collapsed": true
   },
   "outputs": [],
   "source": [
    "_ = lab14.grade(\"q212\")"
   ]
  },
  {
   "cell_type": "markdown",
   "metadata": {},
   "source": [
    "**Question 2.1.3.** How could you answer the last two questions just by looking at the full icon array?  (You can run the cell below to see it again.)"
   ]
  },
  {
   "cell_type": "code",
   "execution_count": 14,
   "metadata": {
    "collapsed": false
   },
   "outputs": [],
   "source": [
    "# Just run this cell.  The next cell is where you should write your answer.\n",
    "display_grouped_icon_array(marbles.groups([\"color\", \"size\"]), \"marbles\")"
   ]
  },
  {
   "cell_type": "markdown",
   "metadata": {},
   "source": [
    "*Write your answer here, replacing this text.*"
   ]
  },
  {
   "cell_type": "markdown",
   "metadata": {},
   "source": [
    "# 3. Cancer screening\n",
    "Now let's look at a much more realistic application.\n",
    "\n",
    "### Background\n",
    "Medical tests are an important but surprisingly controversial topic.  For years, women have been advised to get regular mammograms (tests for breast cancer).  Today, there is controversy over whether the tests are useful at all!\n",
    "\n",
    "Part of the problem with such tests is that they are not perfectly reliable.  Someone without cancer can see a positive result on a test for cancer, and someone with cancer can receive a negative result.  (\"Positive\" means \"pointing toward cancer,\" so in this context it's bad!)  Doctors and patients often deal poorly with the first case, called *false positives*.  For example, a patient may receive dangerous treatment like chemotherapy or radiation despite having no cancer or, as happens more frequently, having a cancer that would not have impacted her health.\n",
    "\n",
    "Conditional probability is a good way to think about such situations.  For example, you can compute the chance that you have cancer, given the result of a test, by combining information from different probability distributions.  You'll see that the chance you have cancer can be far from 100% even if you have a positive test result from a test that is usually accurate."
   ]
  },
  {
   "cell_type": "markdown",
   "metadata": {},
   "source": [
    "## 3.1. Basic cancer statistics\n",
    "Suppose that, in a representative group of 10,000 people who are tested for cancer (\"representative\" meaning that the frequencies of different things are the same as the frequencies in the whole population):\n",
    "1. 100 have cancer.\n",
    "2. Among those 100, 90 have positive results on a cancer test and 10 have negative results.  (\"Negative\" means \"not pointing toward cancer.\")\n",
    "3. The other 9,900 don't have cancer.\n",
    "4. Among these, 198 have positive results on a cancer test and the other 9,702 have negative results.  (So 198 see \"false positive\" results.)\n",
    "\n",
    "Below we've generated a table with data from these 10,000 hypothetical people."
   ]
  },
  {
   "cell_type": "code",
   "execution_count": 59,
   "metadata": {
    "collapsed": false
   },
   "outputs": [],
   "source": [
    "# Just run this cell.\n",
    "people = Table([\"cancer status\", \"test status\", \"count\"]).with_rows([\n",
    "        [\"sick\", \"positive\", 90],\n",
    "        [\"sick\", \"negative\", 10],\n",
    "        [\"healthy\", \"positive\", 198],\n",
    "        [\"healthy\", \"negative\", 9702]\n",
    "    ])\n",
    "people"
   ]
  },
  {
   "cell_type": "markdown",
   "metadata": {},
   "source": [
    "One way to visualize this dataset is with a contingency table, which you've seen before.\n",
    "\n",
    "**Question 3.1.1.** Create a contingency table that looks like this:\n",
    "\n",
    "|cancer status|positive|negative|\n",
    "|-|-|-|\n",
    "|sick|||\n",
    "|healthy||||\n",
    "\n",
    "...with the **count** of each group filled in, according to what we've told you above.  The counts in the 4 boxes should sum to 10,000.\n",
    "\n",
    "*Hint:* Use `pivot` with the `sum` function."
   ]
  },
  {
   "cell_type": "code",
   "execution_count": 60,
   "metadata": {
    "collapsed": false
   },
   "outputs": [],
   "source": [
    "cancer = ...\n",
    "cancer"
   ]
  },
  {
   "cell_type": "code",
   "execution_count": 62,
   "metadata": {
    "collapsed": false
   },
   "outputs": [],
   "source": [
    "_ = lab14.grade(\"q311\")"
   ]
  },
  {
   "cell_type": "markdown",
   "metadata": {},
   "source": [
    "**Question 3.1.2.** Display the `people` data in an icon array.  The name of the population members should be \"people who've taken a cancer test\"."
   ]
  },
  {
   "cell_type": "code",
   "execution_count": 46,
   "metadata": {
    "collapsed": false
   },
   "outputs": [],
   "source": [
    "..."
   ]
  },
  {
   "cell_type": "markdown",
   "metadata": {},
   "source": [
    "Now let's think about how you can use this kind of information when you're tested for cancer.\n",
    "\n",
    "Before you know any information about yourself, you could imagine yourself as a **uniform random sample** of one of the 10,000 people in this imaginary population of people who have been tested.\n",
    "\n",
    "What's the chance that you have cancer, knowing nothing else about yourself?  It's $\\frac{100}{10000}$, or 1%.  We can see that more directly with this icon array:"
   ]
  },
  {
   "cell_type": "code",
   "execution_count": 47,
   "metadata": {
    "collapsed": false
   },
   "outputs": [],
   "source": [
    "by_health = people.select([0, 2]).group(0, sum).relabeled(1, 'count')\n",
    "display_grouped_icon_array(by_health, \"people who've taken a cancer test\")"
   ]
  },
  {
   "cell_type": "markdown",
   "metadata": {},
   "source": [
    "**Question 3.1.3.** What's the chance that you have a positive test result, knowing nothing else about yourself?\n",
    "\n",
    "*Hint:* Make an icon array."
   ]
  },
  {
   "cell_type": "code",
   "execution_count": 74,
   "metadata": {
    "collapsed": false
   },
   "outputs": [],
   "source": [
    "# We first made an icon array in the 2 lines below.\n",
    "by_test = ...\n",
    "display_grouped_icon_array(by_test, \"people who've taken a cancer test\")\n",
    "\n",
    "# Fill in the probabiliy of having a positive test result.\n",
    "probability_positive_test = ..."
   ]
  },
  {
   "cell_type": "code",
   "execution_count": 75,
   "metadata": {
    "collapsed": false
   },
   "outputs": [],
   "source": [
    "_ = lab14.grade(\"q313\")"
   ]
  },
  {
   "cell_type": "markdown",
   "metadata": {},
   "source": [
    "## 3.2. Interpreting test results\n",
    "Suppose you have a positive test result.  This means you can now narrow yourself down to being part of one of two groups:\n",
    "1. The people with cancer who have a positive test result.\n",
    "2. The people without cancer who have a positive test result.\n",
    "\n",
    "Here's an icon array for those two groups:"
   ]
  },
  {
   "cell_type": "code",
   "execution_count": 76,
   "metadata": {
    "collapsed": false
   },
   "outputs": [],
   "source": [
    "# Just run this cell.\n",
    "display_grouped_icon_array(people.where(\"test status\", \"positive\").drop(1), \"people who have a positive test result\")"
   ]
  },
  {
   "cell_type": "markdown",
   "metadata": {},
   "source": [
    "The *conditional probability* that you have cancer *given* your positive test result is the chance that you're in the first group, assuming you're in one of these two groups.\n",
    "\n",
    "**Question 3.2.1.** Eyeballing it, is the conditional probability that you have cancer given your positive test result closest to:\n",
    "1. 9/10\n",
    "2. 2/3\n",
    "3. 1/2\n",
    "4. 1/3\n",
    "5. 1/100"
   ]
  },
  {
   "cell_type": "code",
   "execution_count": 77,
   "metadata": {
    "collapsed": true
   },
   "outputs": [],
   "source": [
    "# Set this to one of the numbers above.\n",
    "rough_prob_sick_given_positive = ..."
   ]
  },
  {
   "cell_type": "code",
   "execution_count": 78,
   "metadata": {
    "collapsed": false
   },
   "outputs": [],
   "source": [
    "_ = lab14.grade(\"q321\")"
   ]
  },
  {
   "cell_type": "markdown",
   "metadata": {},
   "source": [
    "**Question 3.2.2.** Now write code to calculate that probability exactly, using the original contingency table you wrote."
   ]
  },
  {
   "cell_type": "code",
   "execution_count": 79,
   "metadata": {
    "collapsed": false
   },
   "outputs": [],
   "source": [
    "prob_sick_given_positive = ...\n",
    "prob_sick_given_positive"
   ]
  },
  {
   "cell_type": "code",
   "execution_count": 80,
   "metadata": {
    "collapsed": false
   },
   "outputs": [],
   "source": [
    "_ = lab14.grade(\"q322\")"
   ]
  },
  {
   "cell_type": "markdown",
   "metadata": {},
   "source": [
    "**Question 3.2.3.** Look at the full icon array again.  Using that, how would you compute (roughly) the conditional probability of cancer given a positive test?"
   ]
  },
  {
   "cell_type": "code",
   "execution_count": 61,
   "metadata": {
    "collapsed": false
   },
   "outputs": [],
   "source": [
    "# The full icon array is given here for your convenience.\n",
    "# Write your answer in the next cell.\n",
    "display_grouped_icon_array(people, \"people who've taken a cancer test\")"
   ]
  },
  {
   "cell_type": "markdown",
   "metadata": {},
   "source": [
    "*Write your answer here, replacing this text.*"
   ]
  },
  {
   "cell_type": "markdown",
   "metadata": {},
   "source": [
    "**Question 3.2.4.** Is your answer to question 3.2.2 bigger than the overall proportion of people in the population who have cancer?  Does that make sense?"
   ]
  },
  {
   "cell_type": "markdown",
   "metadata": {},
   "source": [
    "*Write your answer here, replacing this text.*"
   ]
  },
  {
   "cell_type": "markdown",
   "metadata": {},
   "source": [
    "# 4. [Optional] The traditional, more confusing way to look at this\n",
    "This section is **optional** but highly recommended.  It's good practice for working with probabilities.\n",
    "\n",
    "Often, information about disease and test probabilities is given in a different format.  For example, people often summarize the information in your `cancer` using 3 numbers:\n",
    "\n",
    "1. The overall probability of having cancer is **`X`**.  (This is called the *base rate* or *marginal probability* of the disease.)\n",
    "2. Given that you have cancer, the probability of a positive test result is **`Y`**.  (This is called the *sensitivity* of the test.  Higher values of `Y` mean the test is more useful.)\n",
    "3. Given that you don't have cancer, the probability of a positive test result is **`Z`**.  (This is called the *false positive rate* of the test.  Higher values of `Z` mean the test is less useful.)\n",
    "\n",
    "Why is this format common?  Well, in reality somebody has to compute all these probabilities.  And these are the most natural to *compute*, especially from samples:\n",
    "\n",
    "|Information|How to compute it|\n",
    "|-|-|\n",
    "|base rate `X`|Check how many people have cancer.|\n",
    "|sensitivity `Y`|Give the test to a bunch of people with cancer and see how many are positive.|\n",
    "|false positive rate `Z`|Give the test to a bunch of people without cancer and see how many are positive.||\n",
    "\n",
    "But they're less convenient for the people using them to make decisions.  Let's see how to work with them.  First let's compute them.\n",
    "\n",
    "You already saw that the base rate of cancer (which we'll call `X` for short) was .01 in the previous section.  `Y` and `Z` can be computed using the same method you used to compute the conditional probability of cancer given a positive test result.\n",
    "\n",
    "**Question 4.1.** Compute `Y` and `Z` for the data in section 3.  You can use an icon array or compute them only with code.  You can run the tests to see the right answers."
   ]
  },
  {
   "cell_type": "code",
   "execution_count": 81,
   "metadata": {
    "collapsed": false
   },
   "outputs": [],
   "source": [
    "# Hint: You may find these two tables useful:\n",
    "has_cancer = cancer.where(\"cancer status\", \"sick\")\n",
    "no_cancer = cancer.where(\"cancer status\", \"healthy\")\n",
    "\n",
    "X = .01\n",
    "Y = ...\n",
    "Z = ...\n",
    "\n",
    "print('X:', X, ' Y:', Y, ' Z:', Z)"
   ]
  },
  {
   "cell_type": "code",
   "execution_count": 82,
   "metadata": {
    "collapsed": false
   },
   "outputs": [],
   "source": [
    "_ = lab14.grade(\"q41\")"
   ]
  },
  {
   "cell_type": "markdown",
   "metadata": {},
   "source": [
    "You can see why this might be confusing.  From these numbers, it looks like the test is really accurate, so you'd expect to be very sure you have cancer if you have a positive test result!\n",
    "\n",
    "Instead of answering questions directly from these numbers, it's easier (when you're first starting out) to use visual tools like contingency tables and icon arrays.  So let's see how to build a table like `cancer` from these 3 pieces of information.  We'll make them a little different so that the table ends up different.  So suppose that instead we're thinking about a rare genetic disease with the following characteristics:\n",
    "\n",
    "* The base rate of the disease among people who take the test is .001.  (That is, 10 out of 10,000 people who take the test actually have the disease.)\n",
    "* The probability of testing positive for the disease, given that you have the disease, is .5.\n",
    "* The probability of testing positive for the disease, given that you **don't** have the disease, is .1.\n",
    "\n",
    "**Question 4.2.** Make a table by hand called `disease_marginal`.  It should look like this:\n",
    "\n",
    "|disease status|all|\n",
    "|-|-|\n",
    "|disease||\n",
    "|no disease|||\n",
    "\n",
    "Fill it in so that the proportion of people with the disease is .001 and so that the counts add up to 10,000."
   ]
  },
  {
   "cell_type": "code",
   "execution_count": 84,
   "metadata": {
    "collapsed": false
   },
   "outputs": [],
   "source": [
    "total_people = 10000\n",
    "base_rate = .001\n",
    "sensitivity = .5\n",
    "false_positive_rate = .1\n",
    "\n",
    "disease_marginal = Table().with_columns([\n",
    "        \"disease status\", [\"disease\", \"no disease\"],\n",
    "        ...\n",
    "])\n",
    "disease_marginal"
   ]
  },
  {
   "cell_type": "code",
   "execution_count": 87,
   "metadata": {
    "collapsed": false
   },
   "outputs": [],
   "source": [
    "_ = lab14.grade(\"q42\")"
   ]
  },
  {
   "cell_type": "markdown",
   "metadata": {},
   "source": [
    "Now split up each category.  Among the people with the disease, how many test positive?  That's based on the sensitivity, so the answer is half of the 10 people with the disease, or 5.\n",
    "\n",
    "**Question 4.3.** Splitting people up into the 4 categories in the same way, generate a contingency table called `disease` that looks like this:\n",
    "\n",
    "|disease status|negative|positive|\n",
    "|-|-|-|\n",
    "|disease|||\n",
    "|no disease||||\n",
    "\n",
    "Again, the numbers in the 4 cells should sum to 10,000."
   ]
  },
  {
   "cell_type": "code",
   "execution_count": 88,
   "metadata": {
    "collapsed": false
   },
   "outputs": [],
   "source": [
    "disease = Table().with_columns([\n",
    "        \"disease status\", [\"disease\", \"no disease\"],\n",
    "        ...\n",
    "        ...\n",
    "])\n",
    "disease"
   ]
  },
  {
   "cell_type": "code",
   "execution_count": 91,
   "metadata": {
    "collapsed": false
   },
   "outputs": [],
   "source": [
    "_ = lab14.grade(\"q43\")"
   ]
  },
  {
   "cell_type": "markdown",
   "metadata": {},
   "source": [
    "Now we can use `display_crosstab_icon_array` to look at the information."
   ]
  },
  {
   "cell_type": "code",
   "execution_count": 89,
   "metadata": {
    "collapsed": false
   },
   "outputs": [],
   "source": [
    "# Just run this cell.\n",
    "display_crosstab_icon_array(disease, \"test status\", \"people who've taken a test for the disease\")"
   ]
  },
  {
   "cell_type": "markdown",
   "metadata": {},
   "source": [
    "Notice you can barely see the people who are positive for the disease, because there are so few of them!  This is a problem with this kind of visualization.\n",
    "\n",
    "Still, it does show you an important fact: **most people who test positive don't actually have the disease**.\n",
    "\n",
    "Let's make that more precise.\n",
    "\n",
    "**Question 4.4.** Compute the probability of having the disease, given that you have a positive test result."
   ]
  },
  {
   "cell_type": "code",
   "execution_count": 68,
   "metadata": {
    "collapsed": false
   },
   "outputs": [],
   "source": [
    "prob_disease_given_positive = disease.column(\"positive\").item(0) / sum(disease.column(\"positive\"))\n",
    "prob_disease_given_positive"
   ]
  },
  {
   "cell_type": "code",
   "execution_count": 92,
   "metadata": {
    "collapsed": false
   },
   "outputs": [],
   "source": [
    "_ = lab14.grade(\"q44\")"
   ]
  },
  {
   "cell_type": "markdown",
   "metadata": {},
   "source": [
    "**Question 4.5.** Is this bigger than the base rate of the disease?  (The test would be pretty pointless if this weren't true!)"
   ]
  },
  {
   "cell_type": "markdown",
   "metadata": {},
   "source": [
    "*Write your answer here, replacing this text.*"
   ]
  },
  {
   "cell_type": "markdown",
   "metadata": {},
   "source": [
    "**Question 4.6.** Is it close to the sensitivity of the test, which is .5?"
   ]
  },
  {
   "cell_type": "markdown",
   "metadata": {},
   "source": [
    "*Write your answer here, replacing this text.*"
   ]
  },
  {
   "cell_type": "markdown",
   "metadata": {},
   "source": [
    "**Question 4.7.** Is it big enough that you should worry a lot?"
   ]
  },
  {
   "cell_type": "markdown",
   "metadata": {},
   "source": [
    "*Write your answer here, replacing this text.*"
   ]
  },
  {
   "cell_type": "code",
   "execution_count": null,
   "metadata": {
    "collapsed": true
   },
   "outputs": [],
   "source": [
    "# For your convenience, you can run this cell to run all the tests at once!\n",
    "import os\n",
    "print(\"Running all tests...\")\n",
    "_ = [lab14.grade(q[:-3]) for q in os.listdir(\"tests\") if q.startswith('q')]\n",
    "print(\"Finished running all tests.\")"
   ]
  },
  {
   "cell_type": "code",
   "execution_count": null,
   "metadata": {
    "collapsed": false
   },
   "outputs": [],
   "source": [
    "# Run this cell to submit your work *after* you have passed all of the test cells.\n",
    "# It's ok to run this cell multiple times. Only your final submission will be scored.\n",
    "\n",
    "!TZ=America/Los_Angeles ipython nbconvert --output=\".lab14_$(date +%m%d_%H%M)_submission.html\" lab14.ipynb && echo \"Submitted successfully.\""
   ]
  }
 ],
 "metadata": {
  "kernelspec": {
   "display_name": "Python 3",
   "language": "python",
   "name": "python3"
  },
  "language_info": {
   "codemirror_mode": {
    "name": "ipython",
    "version": 3
   },
   "file_extension": ".py",
   "mimetype": "text/x-python",
   "name": "python",
   "nbconvert_exporter": "python",
   "pygments_lexer": "ipython3",
   "version": "3.4.4"
  }
 },
 "nbformat": 4,
 "nbformat_minor": 0
}
