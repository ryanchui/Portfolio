{
 "cells": [
  {
   "cell_type": "markdown",
   "metadata": {},
   "source": [
    "## StudentLife\n",
    "\n",
    "This notebook loads the StudentLife data described in the Lab 12 handout."
   ]
  },
  {
   "cell_type": "code",
   "execution_count": 17,
   "metadata": {
    "collapsed": true
   },
   "outputs": [],
   "source": [
    "# Run this cell, but please don't change it.\n",
    "\n",
    "# These lines import the Numpy and Datascience modules.\n",
    "import numpy as np\n",
    "from datascience import *\n",
    "\n",
    "# These lines do some fancy plotting magic.\n",
    "import matplotlib\n",
    "%matplotlib inline\n",
    "import matplotlib.pyplot as plt\n",
    "plt.style.use('fivethirtyeight')\n",
    "import warnings\n",
    "warnings.simplefilter('ignore', FutureWarning)"
   ]
  },
  {
   "cell_type": "markdown",
   "metadata": {},
   "source": [
    "### Data\n",
    "\n",
    "Over the course of a semester, the Piazza usage of a 30-student class at Dartmouth College was recorded and released as part of the Student Life research project, which is [described online](http://studentlife.cs.dartmouth.edu/). \n",
    "\n",
    "Each row of the `students` table represents a student. In addition to the student's GPA, the row tallies \n",
    "\n",
    "* `days online`: The number of days on which the student viewed the online forum\n",
    "* `views`: The number of posts viewed\n",
    "* `contributions`: The number of contributions, including posts and follow-up discussions\n",
    "* `questions`: The number of questions posted\n",
    "* `notes`: The number of notes posted\n",
    "* `answers`: The number of answers posted"
   ]
  },
  {
   "cell_type": "code",
   "execution_count": 4,
   "metadata": {
    "collapsed": false
   },
   "outputs": [
    {
     "data": {
      "text/html": [
       "<table border=\"1\" class=\"dataframe\">\n",
       "    <thead>\n",
       "        <tr>\n",
       "            <th>GPA</th> <th>days online</th> <th>views</th> <th>contributions</th> <th>questions</th> <th>notes</th> <th>answers</th>\n",
       "        </tr>\n",
       "    </thead>\n",
       "    <tbody>\n",
       "        <tr>\n",
       "            <td>2.863</td> <td>29         </td> <td>299  </td> <td>5            </td> <td>1        </td> <td>1    </td> <td>0      </td>\n",
       "        </tr>\n",
       "    </tbody>\n",
       "        <tr>\n",
       "            <td>3.505</td> <td>57         </td> <td>299  </td> <td>0            </td> <td>0        </td> <td>0    </td> <td>0      </td>\n",
       "        </tr>\n",
       "    </tbody>\n",
       "        <tr>\n",
       "            <td>3.029</td> <td>27         </td> <td>101  </td> <td>1            </td> <td>1        </td> <td>0    </td> <td>0      </td>\n",
       "        </tr>\n",
       "    </tbody>\n",
       "        <tr>\n",
       "            <td>3.679</td> <td>67         </td> <td>301  </td> <td>1            </td> <td>0        </td> <td>0    </td> <td>0      </td>\n",
       "        </tr>\n",
       "    </tbody>\n",
       "        <tr>\n",
       "            <td>3.474</td> <td>43         </td> <td>201  </td> <td>12           </td> <td>1        </td> <td>0    </td> <td>0      </td>\n",
       "        </tr>\n",
       "    </tbody>\n",
       "        <tr>\n",
       "            <td>3.705</td> <td>67         </td> <td>308  </td> <td>45           </td> <td>22       </td> <td>0    </td> <td>5      </td>\n",
       "        </tr>\n",
       "    </tbody>\n",
       "        <tr>\n",
       "            <td>3.806</td> <td>36         </td> <td>171  </td> <td>20           </td> <td>4        </td> <td>3    </td> <td>4      </td>\n",
       "        </tr>\n",
       "    </tbody>\n",
       "        <tr>\n",
       "            <td>3.667</td> <td>82         </td> <td>300  </td> <td>26           </td> <td>11       </td> <td>0    </td> <td>3      </td>\n",
       "        </tr>\n",
       "    </tbody>\n",
       "        <tr>\n",
       "            <td>3.245</td> <td>44         </td> <td>127  </td> <td>6            </td> <td>1        </td> <td>1    </td> <td>0      </td>\n",
       "        </tr>\n",
       "    </tbody>\n",
       "        <tr>\n",
       "            <td>3.293</td> <td>35         </td> <td>259  </td> <td>16           </td> <td>13       </td> <td>1    </td> <td>0      </td>\n",
       "        </tr>\n",
       "    </tbody>\n",
       "</table>\n",
       "<p>... (20 rows omitted)</p"
      ],
      "text/plain": [
       "GPA   | days online | views | contributions | questions | notes | answers\n",
       "2.863 | 29          | 299   | 5             | 1         | 1     | 0\n",
       "3.505 | 57          | 299   | 0             | 0         | 0     | 0\n",
       "3.029 | 27          | 101   | 1             | 1         | 0     | 0\n",
       "3.679 | 67          | 301   | 1             | 0         | 0     | 0\n",
       "3.474 | 43          | 201   | 12            | 1         | 0     | 0\n",
       "3.705 | 67          | 308   | 45            | 22        | 0     | 5\n",
       "3.806 | 36          | 171   | 20            | 4         | 3     | 4\n",
       "3.667 | 82          | 300   | 26            | 11        | 0     | 3\n",
       "3.245 | 44          | 127   | 6             | 1         | 1     | 0\n",
       "3.293 | 35          | 259   | 16            | 13        | 1     | 0\n",
       "... (20 rows omitted)"
      ]
     },
     "execution_count": 4,
     "metadata": {},
     "output_type": "execute_result"
    }
   ],
   "source": [
    "students = Table.read_table('grades_and_piazza.csv')\n",
    "students"
   ]
  },
  {
   "cell_type": "code",
   "execution_count": 15,
   "metadata": {
    "collapsed": false
   },
   "outputs": [
    {
     "data": {
      "image/png": "[encoded data removed]",
      "text/plain": [
       "<matplotlib.figure.Figure at 0x109e179e8>"
      ]
     },
     "metadata": {},
     "output_type": "display_data"
    }
   ],
   "source": [
    "students.where('GPA', are.above(3.1)).where('contributions', are.below(30)).scatter('GPA', 'contributions', fit_line=True)"
   ]
  },
  {
   "cell_type": "code",
   "execution_count": 16,
   "metadata": {
    "collapsed": false
   },
   "outputs": [
    {
     "data": {
      "text/plain": [
       "14"
      ]
     },
     "execution_count": 16,
     "metadata": {},
     "output_type": "execute_result"
    }
   ],
   "source": [
    "np.count_nonzero(students.column('answers'))"
   ]
  }
 ],
 "metadata": {
  "kernelspec": {
   "display_name": "Python 3",
   "language": "python",
   "name": "python3"
  },
  "language_info": {
   "codemirror_mode": {
    "name": "ipython",
    "version": 3
   },
   "file_extension": ".py",
   "mimetype": "text/x-python",
   "name": "python",
   "nbconvert_exporter": "python",
   "pygments_lexer": "ipython3",
   "version": "3.4.4"
  }
 },
 "nbformat": 4,
 "nbformat_minor": 0
}
