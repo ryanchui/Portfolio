{
 "cells": [
  {
   "cell_type": "markdown",
   "metadata": {},
   "source": [
    "# Lab 4\n",
    "\n",
    "# 0. Intro\n",
    "\n",
    "Welcome to Lab 4! Today you'll be learning how to:\n",
    "\n",
    "* Perform complex computations with Tables\n",
    "* Define your own functions\n",
    "* Plot data on a bar plot\n",
    "\n",
    "**Run the next cell first** to set up the lab:"
   ]
  },
  {
   "cell_type": "code",
   "execution_count": 1,
   "metadata": {
    "collapsed": false
   },
   "outputs": [
    {
     "name": "stdout",
     "output_type": "stream",
     "text": [
      "=====================================================================\n",
      "Assignment: Lab 4\n",
      "OK, version v1.5.1\n",
      "=====================================================================\n",
      "\n"
     ]
    }
   ],
   "source": [
    "# Run this cell, but please don't change it.\n",
    "\n",
    "# These lines import the Numpy and Datascience modules.\n",
    "import numpy as np\n",
    "from datascience import *\n",
    "\n",
    "# These lines do some fancy plotting magic\n",
    "import matplotlib\n",
    "%matplotlib inline\n",
    "import matplotlib.pyplot as plots\n",
    "plots.style.use('fivethirtyeight')\n",
    "\n",
    "# These lines load the tests.\n",
    "from client.api.assignment import load_assignment \n",
    "lab04 = load_assignment('lab04.ok')"
   ]
  },
  {
   "cell_type": "markdown",
   "metadata": {},
   "source": [
    "# 1. More fun with Tables"
   ]
  },
  {
   "cell_type": "markdown",
   "metadata": {},
   "source": [
    "We'll begin today's lab by reviewing a few table functions we learned before. We'll be using [twitter_follows.csv](twitter_follows.csv), which contains data about a few Twitter accounts. If you get stuck, try referring to Lab 3, or the Tables [documentation](http://data8.org/datascience/tables.html)."
   ]
  },
  {
   "cell_type": "markdown",
   "metadata": {},
   "source": [
    "**Question 1.0.** Start by importing the data in `twitter_follows.csv` into a variable named `follows`."
   ]
  },
  {
   "cell_type": "code",
   "execution_count": 2,
   "metadata": {
    "collapsed": false
   },
   "outputs": [
    {
     "data": {
      "text/html": [
       "<table border=\"1\" class=\"dataframe\">\n",
       "    <thead>\n",
       "        <tr>\n",
       "            <th>Screen name</th> <th>Followers</th> <th>Friends</th>\n",
       "        </tr>\n",
       "    </thead>\n",
       "    <tbody>\n",
       "        <tr>\n",
       "            <td>LeoDiCaprio    </td> <td>1.40822e+07</td> <td>142    </td>\n",
       "        </tr>\n",
       "    </tbody>\n",
       "        <tr>\n",
       "            <td>SteveCarell    </td> <td>4.60758e+06</td> <td>48     </td>\n",
       "        </tr>\n",
       "    </tbody>\n",
       "        <tr>\n",
       "            <td>MarkRuffalo    </td> <td>2.16511e+06</td> <td>1178   </td>\n",
       "        </tr>\n",
       "    </tbody>\n",
       "        <tr>\n",
       "            <td>amyschumer     </td> <td>3.45233e+06</td> <td>1931   </td>\n",
       "        </tr>\n",
       "    </tbody>\n",
       "        <tr>\n",
       "            <td>TherealTaraji  </td> <td>3.96039e+06</td> <td>702    </td>\n",
       "        </tr>\n",
       "    </tbody>\n",
       "        <tr>\n",
       "            <td>azizansari     </td> <td>9.37407e+06</td> <td>0      </td>\n",
       "        </tr>\n",
       "    </tbody>\n",
       "        <tr>\n",
       "            <td>Racheldoesstuff</td> <td>31996      </td> <td>3341   </td>\n",
       "        </tr>\n",
       "    </tbody>\n",
       "        <tr>\n",
       "            <td>IAMQUEENLATIFAH</td> <td>6.89094e+06</td> <td>458    </td>\n",
       "        </tr>\n",
       "    </tbody>\n",
       "</table>"
      ],
      "text/plain": [
       "Screen name     | Followers   | Friends\n",
       "LeoDiCaprio     | 1.40822e+07 | 142\n",
       "SteveCarell     | 4.60758e+06 | 48\n",
       "MarkRuffalo     | 2.16511e+06 | 1178\n",
       "amyschumer      | 3.45233e+06 | 1931\n",
       "TherealTaraji   | 3.96039e+06 | 702\n",
       "azizansari      | 9.37407e+06 | 0\n",
       "Racheldoesstuff | 31996       | 3341\n",
       "IAMQUEENLATIFAH | 6.89094e+06 | 458"
      ]
     },
     "execution_count": 2,
     "metadata": {},
     "output_type": "execute_result"
    }
   ],
   "source": [
    "# Fill in the following line\n",
    "follows = Table.read_table(\"twitter_follows.csv\") #SOLUTION\n",
    "follows"
   ]
  },
  {
   "cell_type": "code",
   "execution_count": 3,
   "metadata": {
    "collapsed": false
   },
   "outputs": [
    {
     "name": "stdout",
     "output_type": "stream",
     "text": [
      "~~~~~~~~~~~~~~~~~~~~~~~~~~~~~~~~~~~~~~~~~~~~~~~~~~~~~~~~~~~~~~~~~~~~~\n",
      "Running tests\n",
      "\n",
      "---------------------------------------------------------------------\n",
      "Test summary\n",
      "    Passed: 2\n",
      "    Failed: 0\n",
      "[ooooooooook] 100.0% passed\n",
      "\n"
     ]
    }
   ],
   "source": [
    "_ = lab04.grade('q10')"
   ]
  },
  {
   "cell_type": "markdown",
   "metadata": {},
   "source": [
    "In the table, `Followers` refers to the number of people who follow the user, and `Friends` refers to the number of people they follow.\n",
    "Let's explore this data a bit to review a few table functions."
   ]
  },
  {
   "cell_type": "markdown",
   "metadata": {},
   "source": [
    "**Question 1.1.0** Calculate the smallest value in the `Friends` column and assign it to the variable `least_friends`. Try doing it without using `np.min`. This problem (and the ones after it) should be done **programmatically** (i.e. with one or more lines of code), not just by visual inspection or manual computation."
   ]
  },
  {
   "cell_type": "code",
   "execution_count": 4,
   "metadata": {
    "collapsed": false
   },
   "outputs": [
    {
     "data": {
      "text/plain": [
       "0"
      ]
     },
     "execution_count": 4,
     "metadata": {},
     "output_type": "execute_result"
    }
   ],
   "source": [
    "# Fill in the following line.\n",
    "least_friends = follows.sort(\"Friends\").column(\"Friends\").item(0) #SOLUTION\n",
    "least_friends"
   ]
  },
  {
   "cell_type": "code",
   "execution_count": 5,
   "metadata": {
    "collapsed": false
   },
   "outputs": [
    {
     "name": "stdout",
     "output_type": "stream",
     "text": [
      "~~~~~~~~~~~~~~~~~~~~~~~~~~~~~~~~~~~~~~~~~~~~~~~~~~~~~~~~~~~~~~~~~~~~~\n",
      "Running tests\n",
      "\n",
      "---------------------------------------------------------------------\n",
      "Test summary\n",
      "    Passed: 1\n",
      "    Failed: 0\n",
      "[ooooooooook] 100.0% passed\n",
      "\n"
     ]
    }
   ],
   "source": [
    "_ = lab04.grade('q110')"
   ]
  },
  {
   "cell_type": "markdown",
   "metadata": {},
   "source": [
    "**Question 1.1.1.** Now, calculate the **user** with the fewest friends and place it into the variable `why_cant_we_be_friends`."
   ]
  },
  {
   "cell_type": "code",
   "execution_count": 6,
   "metadata": {
    "collapsed": false
   },
   "outputs": [
    {
     "data": {
      "text/plain": [
       "'azizansari'"
      ]
     },
     "execution_count": 6,
     "metadata": {},
     "output_type": "execute_result"
    }
   ],
   "source": [
    "# Fill in the following line.\n",
    "why_cant_we_be_friends = follows.sort(\"Friends\").column(\"Screen name\").item(0) #SOLUTION\n",
    "why_cant_we_be_friends"
   ]
  },
  {
   "cell_type": "code",
   "execution_count": 7,
   "metadata": {
    "collapsed": false
   },
   "outputs": [
    {
     "name": "stdout",
     "output_type": "stream",
     "text": [
      "~~~~~~~~~~~~~~~~~~~~~~~~~~~~~~~~~~~~~~~~~~~~~~~~~~~~~~~~~~~~~~~~~~~~~\n",
      "Running tests\n",
      "\n",
      "---------------------------------------------------------------------\n",
      "Test summary\n",
      "    Passed: 1\n",
      "    Failed: 0\n",
      "[ooooooooook] 100.0% passed\n",
      "\n"
     ]
    }
   ],
   "source": [
    "_ = lab04.grade('q111')"
   ]
  },
  {
   "cell_type": "markdown",
   "metadata": {},
   "source": [
    "**Question 1.2.** We want to know which users are true superstars. Get a table with only the users who have more than 5 million followers."
   ]
  },
  {
   "cell_type": "code",
   "execution_count": 8,
   "metadata": {
    "collapsed": false
   },
   "outputs": [
    {
     "data": {
      "text/html": [
       "<table border=\"1\" class=\"dataframe\">\n",
       "    <thead>\n",
       "        <tr>\n",
       "            <th>Screen name</th> <th>Followers</th> <th>Friends</th>\n",
       "        </tr>\n",
       "    </thead>\n",
       "    <tbody>\n",
       "        <tr>\n",
       "            <td>LeoDiCaprio    </td> <td>1.40822e+07</td> <td>142    </td>\n",
       "        </tr>\n",
       "    </tbody>\n",
       "        <tr>\n",
       "            <td>azizansari     </td> <td>9.37407e+06</td> <td>0      </td>\n",
       "        </tr>\n",
       "    </tbody>\n",
       "        <tr>\n",
       "            <td>IAMQUEENLATIFAH</td> <td>6.89094e+06</td> <td>458    </td>\n",
       "        </tr>\n",
       "    </tbody>\n",
       "</table>"
      ],
      "text/plain": [
       "Screen name     | Followers   | Friends\n",
       "LeoDiCaprio     | 1.40822e+07 | 142\n",
       "azizansari      | 9.37407e+06 | 0\n",
       "IAMQUEENLATIFAH | 6.89094e+06 | 458"
      ]
     },
     "execution_count": 8,
     "metadata": {},
     "output_type": "execute_result"
    }
   ],
   "source": [
    "# Fill in the following line.\n",
    "superstars = follows.where(follows.column(\"Followers\") > 5000000) #SOLUTION\n",
    "superstars"
   ]
  },
  {
   "cell_type": "code",
   "execution_count": 9,
   "metadata": {
    "collapsed": false
   },
   "outputs": [
    {
     "name": "stdout",
     "output_type": "stream",
     "text": [
      "~~~~~~~~~~~~~~~~~~~~~~~~~~~~~~~~~~~~~~~~~~~~~~~~~~~~~~~~~~~~~~~~~~~~~\n",
      "Running tests\n",
      "\n",
      "---------------------------------------------------------------------\n",
      "Test summary\n",
      "    Passed: 1\n",
      "    Failed: 0\n",
      "[ooooooooook] 100.0% passed\n",
      "\n"
     ]
    }
   ],
   "source": [
    "_ = lab04.grade('q12')"
   ]
  },
  {
   "cell_type": "markdown",
   "metadata": {},
   "source": [
    "When working with data, we sometimes can't get all the information we're interested in from one place.\n",
    "For example, with our Twitter data, we might like some other information about the users in our table, such as their gender or age."
   ]
  },
  {
   "cell_type": "markdown",
   "metadata": {},
   "source": [
    "**Question 1.3.** Import the file `twitter_info.csv` into the variable `info`."
   ]
  },
  {
   "cell_type": "code",
   "execution_count": 10,
   "metadata": {
    "collapsed": false,
    "scrolled": false
   },
   "outputs": [
    {
     "data": {
      "text/html": [
       "<table border=\"1\" class=\"dataframe\">\n",
       "    <thead>\n",
       "        <tr>\n",
       "            <th>Name</th> <th>Screen name</th> <th>Gender</th> <th>Medium</th>\n",
       "        </tr>\n",
       "    </thead>\n",
       "    <tbody>\n",
       "        <tr>\n",
       "            <td>Leonardo DiCaprio</td> <td>LeoDiCaprio    </td> <td>M     </td> <td>Film  </td>\n",
       "        </tr>\n",
       "    </tbody>\n",
       "        <tr>\n",
       "            <td>Steve Carell     </td> <td>SteveCarell    </td> <td>M     </td> <td>Both  </td>\n",
       "        </tr>\n",
       "    </tbody>\n",
       "        <tr>\n",
       "            <td>Mark Ruffalo     </td> <td>MarkRuffalo    </td> <td>M     </td> <td>Film  </td>\n",
       "        </tr>\n",
       "    </tbody>\n",
       "        <tr>\n",
       "            <td>Amy Schumer      </td> <td>amyschumer     </td> <td>F     </td> <td>Both  </td>\n",
       "        </tr>\n",
       "    </tbody>\n",
       "        <tr>\n",
       "            <td>Taraji P. Henson </td> <td>TherealTaraji  </td> <td>F     </td> <td>Both  </td>\n",
       "        </tr>\n",
       "    </tbody>\n",
       "        <tr>\n",
       "            <td>Aziz Ansari      </td> <td>azizansari     </td> <td>M     </td> <td>TV    </td>\n",
       "        </tr>\n",
       "    </tbody>\n",
       "        <tr>\n",
       "            <td>Rachel Bloom     </td> <td>Racheldoesstuff</td> <td>F     </td> <td>TV    </td>\n",
       "        </tr>\n",
       "    </tbody>\n",
       "        <tr>\n",
       "            <td>Queen Latifah    </td> <td>IAMQUEENLATIFAH</td> <td>F     </td> <td>Both  </td>\n",
       "        </tr>\n",
       "    </tbody>\n",
       "</table>"
      ],
      "text/plain": [
       "Name              | Screen name     | Gender | Medium\n",
       "Leonardo DiCaprio | LeoDiCaprio     | M      | Film\n",
       "Steve Carell      | SteveCarell     | M      | Both\n",
       "Mark Ruffalo      | MarkRuffalo     | M      | Film\n",
       "Amy Schumer       | amyschumer      | F      | Both\n",
       "Taraji P. Henson  | TherealTaraji   | F      | Both\n",
       "Aziz Ansari       | azizansari      | M      | TV\n",
       "Rachel Bloom      | Racheldoesstuff | F      | TV\n",
       "Queen Latifah     | IAMQUEENLATIFAH | F      | Both"
      ]
     },
     "execution_count": 10,
     "metadata": {},
     "output_type": "execute_result"
    }
   ],
   "source": [
    "# Fill in the following line.\n",
    "info = Table().read_table(\"twitter_info.csv\") #SOLUTION\n",
    "info"
   ]
  },
  {
   "cell_type": "code",
   "execution_count": 11,
   "metadata": {
    "collapsed": false
   },
   "outputs": [
    {
     "name": "stdout",
     "output_type": "stream",
     "text": [
      "~~~~~~~~~~~~~~~~~~~~~~~~~~~~~~~~~~~~~~~~~~~~~~~~~~~~~~~~~~~~~~~~~~~~~\n",
      "Running tests\n",
      "\n",
      "---------------------------------------------------------------------\n",
      "Test summary\n",
      "    Passed: 2\n",
      "    Failed: 0\n",
      "[ooooooooook] 100.0% passed\n",
      "\n"
     ]
    }
   ],
   "source": [
    "_ = lab04.grade('q13')"
   ]
  },
  {
   "cell_type": "markdown",
   "metadata": {},
   "source": [
    "Looks like we've got a more complete set of data now, but unfortunately it's split between two tables (`follows` and `info`). We'd like to join these two tables together, and for that we will use the (appropriately named) `join` function! The syntax of `join` looks like this: `t.join(\"Column name\", r)`, where `t` and `r` are tables. The result is a new table, with the rows constructed from `t` and `r` based on common values in the column `Column name`."
   ]
  },
  {
   "cell_type": "markdown",
   "metadata": {},
   "source": [
    "**Question 1.4.** Use the `join` function to combine the tables `info` and `follows` into one table called `twitter`. Hint: think about which column is shared between the two tables."
   ]
  },
  {
   "cell_type": "code",
   "execution_count": 12,
   "metadata": {
    "collapsed": false
   },
   "outputs": [
    {
     "data": {
      "text/html": [
       "<table border=\"1\" class=\"dataframe\">\n",
       "    <thead>\n",
       "        <tr>\n",
       "            <th>Screen name</th> <th>Name</th> <th>Gender</th> <th>Medium</th> <th>Followers</th> <th>Friends</th>\n",
       "        </tr>\n",
       "    </thead>\n",
       "    <tbody>\n",
       "        <tr>\n",
       "            <td>IAMQUEENLATIFAH</td> <td>Queen Latifah    </td> <td>F     </td> <td>Both  </td> <td>6.89094e+06</td> <td>458    </td>\n",
       "        </tr>\n",
       "    </tbody>\n",
       "        <tr>\n",
       "            <td>LeoDiCaprio    </td> <td>Leonardo DiCaprio</td> <td>M     </td> <td>Film  </td> <td>1.40822e+07</td> <td>142    </td>\n",
       "        </tr>\n",
       "    </tbody>\n",
       "        <tr>\n",
       "            <td>MarkRuffalo    </td> <td>Mark Ruffalo     </td> <td>M     </td> <td>Film  </td> <td>2.16511e+06</td> <td>1178   </td>\n",
       "        </tr>\n",
       "    </tbody>\n",
       "        <tr>\n",
       "            <td>Racheldoesstuff</td> <td>Rachel Bloom     </td> <td>F     </td> <td>TV    </td> <td>31996      </td> <td>3341   </td>\n",
       "        </tr>\n",
       "    </tbody>\n",
       "        <tr>\n",
       "            <td>SteveCarell    </td> <td>Steve Carell     </td> <td>M     </td> <td>Both  </td> <td>4.60758e+06</td> <td>48     </td>\n",
       "        </tr>\n",
       "    </tbody>\n",
       "        <tr>\n",
       "            <td>TherealTaraji  </td> <td>Taraji P. Henson </td> <td>F     </td> <td>Both  </td> <td>3.96039e+06</td> <td>702    </td>\n",
       "        </tr>\n",
       "    </tbody>\n",
       "        <tr>\n",
       "            <td>amyschumer     </td> <td>Amy Schumer      </td> <td>F     </td> <td>Both  </td> <td>3.45233e+06</td> <td>1931   </td>\n",
       "        </tr>\n",
       "    </tbody>\n",
       "        <tr>\n",
       "            <td>azizansari     </td> <td>Aziz Ansari      </td> <td>M     </td> <td>TV    </td> <td>9.37407e+06</td> <td>0      </td>\n",
       "        </tr>\n",
       "    </tbody>\n",
       "</table>"
      ],
      "text/plain": [
       "Screen name     | Name              | Gender | Medium | Followers   | Friends\n",
       "IAMQUEENLATIFAH | Queen Latifah     | F      | Both   | 6.89094e+06 | 458\n",
       "LeoDiCaprio     | Leonardo DiCaprio | M      | Film   | 1.40822e+07 | 142\n",
       "MarkRuffalo     | Mark Ruffalo      | M      | Film   | 2.16511e+06 | 1178\n",
       "Racheldoesstuff | Rachel Bloom      | F      | TV     | 31996       | 3341\n",
       "SteveCarell     | Steve Carell      | M      | Both   | 4.60758e+06 | 48\n",
       "TherealTaraji   | Taraji P. Henson  | F      | Both   | 3.96039e+06 | 702\n",
       "amyschumer      | Amy Schumer       | F      | Both   | 3.45233e+06 | 1931\n",
       "azizansari      | Aziz Ansari       | M      | TV     | 9.37407e+06 | 0"
      ]
     },
     "execution_count": 12,
     "metadata": {},
     "output_type": "execute_result"
    }
   ],
   "source": [
    "# Fill in the following line.\n",
    "twitter = info.join(\"Screen name\", follows) #SOLUTION\n",
    "twitter"
   ]
  },
  {
   "cell_type": "markdown",
   "metadata": {},
   "source": [
    "If you're having difficulty picturing what's going on in the previous problem, here's a diagram:\n",
    "<img  width=800px src=\"join_example.png\">"
   ]
  },
  {
   "cell_type": "code",
   "execution_count": 13,
   "metadata": {
    "collapsed": false
   },
   "outputs": [
    {
     "name": "stdout",
     "output_type": "stream",
     "text": [
      "~~~~~~~~~~~~~~~~~~~~~~~~~~~~~~~~~~~~~~~~~~~~~~~~~~~~~~~~~~~~~~~~~~~~~\n",
      "Running tests\n",
      "\n",
      "---------------------------------------------------------------------\n",
      "Test summary\n",
      "    Passed: 2\n",
      "    Failed: 0\n",
      "[ooooooooook] 100.0% passed\n",
      "\n"
     ]
    }
   ],
   "source": [
    "_ = lab04.grade('q14')"
   ]
  },
  {
   "cell_type": "markdown",
   "metadata": {},
   "source": [
    "Now that we have our nice combined data, we can ask some interesting questions. For example, we might be interested in the gender breakdown of our table. For this we can use the `group` function, which looks like this:"
   ]
  },
  {
   "cell_type": "code",
   "execution_count": 14,
   "metadata": {
    "collapsed": false
   },
   "outputs": [
    {
     "data": {
      "text/html": [
       "<table border=\"1\" class=\"dataframe\">\n",
       "    <thead>\n",
       "        <tr>\n",
       "            <th>Gender</th> <th>count</th>\n",
       "        </tr>\n",
       "    </thead>\n",
       "    <tbody>\n",
       "        <tr>\n",
       "            <td>F     </td> <td>4    </td>\n",
       "        </tr>\n",
       "    </tbody>\n",
       "        <tr>\n",
       "            <td>M     </td> <td>4    </td>\n",
       "        </tr>\n",
       "    </tbody>\n",
       "</table>"
      ],
      "text/plain": [
       "Gender | count\n",
       "F      | 4\n",
       "M      | 4"
      ]
     },
     "execution_count": 14,
     "metadata": {},
     "output_type": "execute_result"
    }
   ],
   "source": [
    "# Just run this cell.\n",
    "twitter.group(\"Gender\")"
   ]
  },
  {
   "cell_type": "markdown",
   "metadata": {},
   "source": [
    "When given a column name, `group` merges together the rows with repeated values in that column, with one row in the result per unique value in that column.\n",
    "For example, `group`-ing on \"Gender\" above gave us back two rows (one for \"F\" and one for \"M\"). When used that way, `group` simply counts the number of rows per group."
   ]
  },
  {
   "cell_type": "markdown",
   "metadata": {},
   "source": [
    "**Question 1.5.** Use `group` to find out how many of these Twitter users work on films, how many work on TV, and how many work on both. Place your result in the variable `medium_counts`."
   ]
  },
  {
   "cell_type": "code",
   "execution_count": 15,
   "metadata": {
    "collapsed": false
   },
   "outputs": [
    {
     "data": {
      "text/html": [
       "<table border=\"1\" class=\"dataframe\">\n",
       "    <thead>\n",
       "        <tr>\n",
       "            <th>Medium</th> <th>count</th>\n",
       "        </tr>\n",
       "    </thead>\n",
       "    <tbody>\n",
       "        <tr>\n",
       "            <td>Both  </td> <td>4    </td>\n",
       "        </tr>\n",
       "    </tbody>\n",
       "        <tr>\n",
       "            <td>Film  </td> <td>2    </td>\n",
       "        </tr>\n",
       "    </tbody>\n",
       "        <tr>\n",
       "            <td>TV    </td> <td>2    </td>\n",
       "        </tr>\n",
       "    </tbody>\n",
       "</table>"
      ],
      "text/plain": [
       "Medium | count\n",
       "Both   | 4\n",
       "Film   | 2\n",
       "TV     | 2"
      ]
     },
     "execution_count": 15,
     "metadata": {},
     "output_type": "execute_result"
    }
   ],
   "source": [
    "# Fill in the following line.\n",
    "medium_counts = twitter.group(\"Medium\") #SOLUTION\n",
    "medium_counts"
   ]
  },
  {
   "cell_type": "code",
   "execution_count": 16,
   "metadata": {
    "collapsed": false
   },
   "outputs": [
    {
     "name": "stdout",
     "output_type": "stream",
     "text": [
      "~~~~~~~~~~~~~~~~~~~~~~~~~~~~~~~~~~~~~~~~~~~~~~~~~~~~~~~~~~~~~~~~~~~~~\n",
      "Running tests\n",
      "\n",
      "---------------------------------------------------------------------\n",
      "Test summary\n",
      "    Passed: 1\n",
      "    Failed: 0\n",
      "[ooooooooook] 100.0% passed\n",
      "\n"
     ]
    }
   ],
   "source": [
    "_ = lab04.grade(\"q15\")"
   ]
  },
  {
   "cell_type": "markdown",
   "metadata": {},
   "source": [
    "`group` is quite useful for counting, but it can actually do more powerful computations. If you pass a function name (like `np.mean`) as a second argument to `group`, it uses that function to aggregate together the values in each column other than the grouping column. People often call the function an *aggregation function* or *aggregator*. The syntax looks like: `t.group(\"Column name\", aggregation_function)`.\n",
    "\n",
    "Suppose that for each medium (film, TV, or both) we'd like to know the largest number of followers and friends among all the users who work in that medium.  Here's a diagram of how it works when we use `group` to do that:\n",
    "<img src=\"group_example.png\">\n",
    "\n",
    "You might think that the `np.max` part looks weird without parentheses. In Python, functions themselves can be treated as values and passed around. For example, we can copy a function into a variable, and then call it, as shown below (this is basically what's happening when we pass `np.max` as an argument to `group`):"
   ]
  },
  {
   "cell_type": "code",
   "execution_count": 17,
   "metadata": {
    "collapsed": false
   },
   "outputs": [
    {
     "data": {
      "text/plain": [
       "1"
      ]
     },
     "execution_count": 17,
     "metadata": {},
     "output_type": "execute_result"
    }
   ],
   "source": [
    "# Just run this cell.\n",
    "my_max = np.max\n",
    "my_max(np.array([-1, 0, 1]))"
   ]
  },
  {
   "cell_type": "markdown",
   "metadata": {},
   "source": [
    "Also, notice how the columns are named in the result table. `group` takes the original column names and appends the name of the function passed in. A bit unintuitively, the \"name\" of `np.max` is `amax`."
   ]
  },
  {
   "cell_type": "markdown",
   "metadata": {},
   "source": [
    "**Question 1.6.0** Use `group` and `np.max` to find the largest Followers and Friends values for each value of \"Medium\"."
   ]
  },
  {
   "cell_type": "code",
   "execution_count": 18,
   "metadata": {
    "collapsed": false
   },
   "outputs": [
    {
     "data": {
      "text/html": [
       "<table border=\"1\" class=\"dataframe\">\n",
       "    <thead>\n",
       "        <tr>\n",
       "            <th>Medium</th> <th>Screen name amax</th> <th>Name amax</th> <th>Gender amax</th> <th>Followers amax</th> <th>Friends amax</th>\n",
       "        </tr>\n",
       "    </thead>\n",
       "    <tbody>\n",
       "        <tr>\n",
       "            <td>Both  </td> <td>                </td> <td>         </td> <td>           </td> <td>6.89094e+06   </td> <td>1931        </td>\n",
       "        </tr>\n",
       "    </tbody>\n",
       "        <tr>\n",
       "            <td>Film  </td> <td>                </td> <td>         </td> <td>           </td> <td>1.40822e+07   </td> <td>1178        </td>\n",
       "        </tr>\n",
       "    </tbody>\n",
       "        <tr>\n",
       "            <td>TV    </td> <td>                </td> <td>         </td> <td>           </td> <td>9.37407e+06   </td> <td>3341        </td>\n",
       "        </tr>\n",
       "    </tbody>\n",
       "</table>"
      ],
      "text/plain": [
       "Medium | Screen name amax | Name amax | Gender amax | Followers amax | Friends amax\n",
       "Both   |                  |           |             | 6.89094e+06    | 1931\n",
       "Film   |                  |           |             | 1.40822e+07    | 1178\n",
       "TV     |                  |           |             | 9.37407e+06    | 3341"
      ]
     },
     "execution_count": 18,
     "metadata": {},
     "output_type": "execute_result"
    }
   ],
   "source": [
    "# Fill in the following line.\n",
    "medium_max = twitter.group(\"Medium\", np.max) #SOLUTION\n",
    "medium_max"
   ]
  },
  {
   "cell_type": "markdown",
   "metadata": {},
   "source": [
    "You might have noticed that some of the columns are left blank. This is because taking the `max` of a text column doesn't really make sense. Nonetheless, it still looks pretty ugly."
   ]
  },
  {
   "cell_type": "markdown",
   "metadata": {},
   "source": [
    "**Question 1.6.1** Create a new table from `medium_max` with the blank columns removed. Hint: you don't need to do anything fancy - you can just specify the desired columns by name or index. Note: in practice, it's often cleaner to remove the unnecessary columns *before* you call `group`."
   ]
  },
  {
   "cell_type": "code",
   "execution_count": 19,
   "metadata": {
    "collapsed": false
   },
   "outputs": [
    {
     "data": {
      "text/html": [
       "<table border=\"1\" class=\"dataframe\">\n",
       "    <thead>\n",
       "        <tr>\n",
       "            <th>Medium</th> <th>Followers amax</th> <th>Friends amax</th>\n",
       "        </tr>\n",
       "    </thead>\n",
       "    <tbody>\n",
       "        <tr>\n",
       "            <td>Both  </td> <td>6.89094e+06   </td> <td>1931        </td>\n",
       "        </tr>\n",
       "    </tbody>\n",
       "        <tr>\n",
       "            <td>Film  </td> <td>1.40822e+07   </td> <td>1178        </td>\n",
       "        </tr>\n",
       "    </tbody>\n",
       "        <tr>\n",
       "            <td>TV    </td> <td>9.37407e+06   </td> <td>3341        </td>\n",
       "        </tr>\n",
       "    </tbody>\n",
       "</table>"
      ],
      "text/plain": [
       "Medium | Followers amax | Friends amax\n",
       "Both   | 6.89094e+06    | 1931\n",
       "Film   | 1.40822e+07    | 1178\n",
       "TV     | 9.37407e+06    | 3341"
      ]
     },
     "execution_count": 19,
     "metadata": {},
     "output_type": "execute_result"
    }
   ],
   "source": [
    "# Fill in the following line.\n",
    "clean_medium_max = medium_max.select([0, 4, 5]) #SOLUTION\n",
    "clean_medium_max"
   ]
  },
  {
   "cell_type": "code",
   "execution_count": 20,
   "metadata": {
    "collapsed": false
   },
   "outputs": [
    {
     "name": "stdout",
     "output_type": "stream",
     "text": [
      "~~~~~~~~~~~~~~~~~~~~~~~~~~~~~~~~~~~~~~~~~~~~~~~~~~~~~~~~~~~~~~~~~~~~~\n",
      "Running tests\n",
      "\n",
      "---------------------------------------------------------------------\n",
      "Test summary\n",
      "    Passed: 1\n",
      "    Failed: 0\n",
      "[ooooooooook] 100.0% passed\n",
      "\n"
     ]
    }
   ],
   "source": [
    "_ = lab04.grade('q16')"
   ]
  },
  {
   "cell_type": "markdown",
   "metadata": {},
   "source": [
    "That looks better, doesn't it?"
   ]
  },
  {
   "cell_type": "markdown",
   "metadata": {},
   "source": [
    "Sometimes we're interested in examining groups that are defined by multiple variables (like all possible combinations of `Medium` and `Gender`). We can do this using the `groups` function, which works exactly like `group`, but takes a list of column names instead of a single column name. The syntax looks like this: `t.groups([\"Colname 1\", \"Colname 2\", ...], aggregation_function)`."
   ]
  },
  {
   "cell_type": "markdown",
   "metadata": {},
   "source": [
    "**Question 1.7.** Try using the `groups` and `np.mean` functions to examine the mean followers/friends of each `Gender/Medium` combination."
   ]
  },
  {
   "cell_type": "code",
   "execution_count": 21,
   "metadata": {
    "collapsed": false
   },
   "outputs": [
    {
     "data": {
      "text/html": [
       "<table border=\"1\" class=\"dataframe\">\n",
       "    <thead>\n",
       "        <tr>\n",
       "            <th>Gender</th> <th>Medium</th> <th>Screen name mean</th> <th>Name mean</th> <th>Followers mean</th> <th>Friends mean</th>\n",
       "        </tr>\n",
       "    </thead>\n",
       "    <tbody>\n",
       "        <tr>\n",
       "            <td>F     </td> <td>Both  </td> <td>                </td> <td>         </td> <td>4.76789e+06   </td> <td>1030.33     </td>\n",
       "        </tr>\n",
       "    </tbody>\n",
       "        <tr>\n",
       "            <td>F     </td> <td>TV    </td> <td>                </td> <td>         </td> <td>31996         </td> <td>3341        </td>\n",
       "        </tr>\n",
       "    </tbody>\n",
       "        <tr>\n",
       "            <td>M     </td> <td>Both  </td> <td>                </td> <td>         </td> <td>4.60758e+06   </td> <td>48          </td>\n",
       "        </tr>\n",
       "    </tbody>\n",
       "        <tr>\n",
       "            <td>M     </td> <td>Film  </td> <td>                </td> <td>         </td> <td>8.12366e+06   </td> <td>660         </td>\n",
       "        </tr>\n",
       "    </tbody>\n",
       "        <tr>\n",
       "            <td>M     </td> <td>TV    </td> <td>                </td> <td>         </td> <td>9.37407e+06   </td> <td>0           </td>\n",
       "        </tr>\n",
       "    </tbody>\n",
       "</table>"
      ],
      "text/plain": [
       "Gender | Medium | Screen name mean | Name mean | Followers mean | Friends mean\n",
       "F      | Both   |                  |           | 4.76789e+06    | 1030.33\n",
       "F      | TV     |                  |           | 31996          | 3341\n",
       "M      | Both   |                  |           | 4.60758e+06    | 48\n",
       "M      | Film   |                  |           | 8.12366e+06    | 660\n",
       "M      | TV     |                  |           | 9.37407e+06    | 0"
      ]
     },
     "execution_count": 21,
     "metadata": {},
     "output_type": "execute_result"
    }
   ],
   "source": [
    "# Fill in the following line.\n",
    "group_means = twitter.groups([\"Gender\", \"Medium\"], np.mean) #SOLUTION\n",
    "group_means"
   ]
  },
  {
   "cell_type": "code",
   "execution_count": 22,
   "metadata": {
    "collapsed": false
   },
   "outputs": [
    {
     "name": "stdout",
     "output_type": "stream",
     "text": [
      "~~~~~~~~~~~~~~~~~~~~~~~~~~~~~~~~~~~~~~~~~~~~~~~~~~~~~~~~~~~~~~~~~~~~~\n",
      "Running tests\n",
      "\n",
      "---------------------------------------------------------------------\n",
      "Test summary\n",
      "    Passed: 1\n",
      "    Failed: 0\n",
      "[ooooooooook] 100.0% passed\n",
      "\n"
     ]
    }
   ],
   "source": [
    "_ = lab04.grade('q17')"
   ]
  },
  {
   "cell_type": "markdown",
   "metadata": {},
   "source": [
    "This gives us some interesting information, but the format isn't as nice as it could be. If we're interested in\n",
    "the summary values for only a single column (like Followers or Friends), we can use the `pivot` function to give a more readable output. It looks like this:"
   ]
  },
  {
   "cell_type": "code",
   "execution_count": 23,
   "metadata": {
    "collapsed": false
   },
   "outputs": [
    {
     "data": {
      "text/html": [
       "<table border=\"1\" class=\"dataframe\">\n",
       "    <thead>\n",
       "        <tr>\n",
       "            <th>Medium</th> <th>F</th> <th>M</th>\n",
       "        </tr>\n",
       "    </thead>\n",
       "    <tbody>\n",
       "        <tr>\n",
       "            <td>Both  </td> <td>4.76789e+06</td> <td>4.60758e+06</td>\n",
       "        </tr>\n",
       "    </tbody>\n",
       "        <tr>\n",
       "            <td>Film  </td> <td>0          </td> <td>8.12366e+06</td>\n",
       "        </tr>\n",
       "    </tbody>\n",
       "        <tr>\n",
       "            <td>TV    </td> <td>31996      </td> <td>9.37407e+06</td>\n",
       "        </tr>\n",
       "    </tbody>\n",
       "</table>"
      ],
      "text/plain": [
       "Medium | F           | M\n",
       "Both   | 4.76789e+06 | 4.60758e+06\n",
       "Film   | 0           | 8.12366e+06\n",
       "TV     | 31996       | 9.37407e+06"
      ]
     },
     "execution_count": 23,
     "metadata": {},
     "output_type": "execute_result"
    }
   ],
   "source": [
    "# Just run this cell.\n",
    "twitter.pivot(\"Gender\", \"Medium\", \"Followers\", np.mean)"
   ]
  },
  {
   "cell_type": "markdown",
   "metadata": {
    "collapsed": false
   },
   "source": [
    "Here, the first two arguments are columns that we want to group by, the third is the column whose values we're interested in, and the fourth is the function which aggregates those values together for each group. Notice that the values are the same as those in the \"Followers mean\" column in the previous table. We sometimes call the output of this function a \"pivot table\" or \"contingency table.\""
   ]
  },
  {
   "cell_type": "markdown",
   "metadata": {},
   "source": [
    "# 3. Functions\n",
    "\n",
    "We've been using functions and methods all the time in this course, even if we didn't know it. For example, simple operations like `np.array` and `max` are examples of functions in Python. One of the most powerful tools in programming languages is the ability to define your own functions to do something custom for you.\n",
    "\n",
    "Here's how to define a function called `DoSomething` in Python:"
   ]
  },
  {
   "cell_type": "markdown",
   "metadata": {},
   "source": [
    "<img  width=500px src=\"func.png\">"
   ]
  },
  {
   "cell_type": "markdown",
   "metadata": {},
   "source": [
    "Notice, above, some key things about how to define our own functions:\n",
    "* We have to start with the keyword `def`, which is short for \"define.\"\n",
    "* Next, we give the function a name.\n",
    "* After this, we have a pair of parentheses. In this example they are empty, but we will see examples of the parentheses having something inside of them.\n",
    "* This is followed by a colon (\"`:`\"), which is an important convention in Python. You will see it in more places than just when we define functions.\n",
    "* Now, we notice that for the body of our function, we need to indent everything.\n",
    "* We can do anything we want inside of the function body, including simple assignment statements like `value = 1`.\n",
    "* Lastly, the function ends with the keyword `return`, which is the value of the function call. If no `return` is explicitly stated, then the function doesn't return anything at all. We'll see an example of this in a moment.\n",
    "\n",
    "See an example below. "
   ]
  },
  {
   "cell_type": "code",
   "execution_count": 24,
   "metadata": {
    "collapsed": false
   },
   "outputs": [
    {
     "data": {
      "text/plain": [
       "4"
      ]
     },
     "execution_count": 24,
     "metadata": {},
     "output_type": "execute_result"
    }
   ],
   "source": [
    "# Run this cell.\n",
    "def nothing():\n",
    "    x = 4\n",
    "    return x\n",
    "nothing()"
   ]
  },
  {
   "cell_type": "markdown",
   "metadata": {},
   "source": [
    "Notice, above, how we call the function. Just as we have seen before with built-in or imported functions, we have a set of open and closed parenthesis to signify a function call. Compare this with the next expression, where we don't call the function. Notice what Python displays."
   ]
  },
  {
   "cell_type": "code",
   "execution_count": 25,
   "metadata": {
    "collapsed": false
   },
   "outputs": [
    {
     "data": {
      "text/plain": [
       "<function __main__.nothing>"
      ]
     },
     "execution_count": 25,
     "metadata": {},
     "output_type": "execute_result"
    }
   ],
   "source": [
    "# Run this cell.\n",
    "nothing"
   ]
  },
  {
   "cell_type": "markdown",
   "metadata": {},
   "source": [
    "All it does is tell us that `nothing` is a function, which makes sense, as we never really asked it to do anything for us.  The expression in that cell isn't a function *call* expression, it's just a name expression whose value is the function we defined above.\n",
    "\n",
    "Here is an example of a function without a return statement. Try running the cell and see what happens."
   ]
  },
  {
   "cell_type": "code",
   "execution_count": 26,
   "metadata": {
    "collapsed": false
   },
   "outputs": [
    {
     "name": "stdout",
     "output_type": "stream",
     "text": [
      "2\n"
     ]
    },
    {
     "ename": "TypeError",
     "evalue": "bad operand type for abs(): 'NoneType'",
     "output_type": "error",
     "traceback": [
      "\u001b[1;31m---------------------------------------------------------------------------\u001b[0m",
      "\u001b[1;31mTypeError\u001b[0m                                 Traceback (most recent call last)",
      "\u001b[1;32m<ipython-input-26-f06949fcb7b5>\u001b[0m in \u001b[0;36m<module>\u001b[1;34m()\u001b[0m\n\u001b[0;32m      4\u001b[0m     \u001b[0mprint\u001b[0m\u001b[1;33m(\u001b[0m\u001b[0mx\u001b[0m\u001b[1;33m)\u001b[0m\u001b[1;33m\u001b[0m\u001b[0m\n\u001b[0;32m      5\u001b[0m \u001b[1;33m\u001b[0m\u001b[0m\n\u001b[1;32m----> 6\u001b[1;33m \u001b[0mabs\u001b[0m\u001b[1;33m(\u001b[0m\u001b[0mreturns_nothing\u001b[0m\u001b[1;33m(\u001b[0m\u001b[1;33m)\u001b[0m\u001b[1;33m)\u001b[0m\u001b[1;33m\u001b[0m\u001b[0m\n\u001b[0m",
      "\u001b[1;31mTypeError\u001b[0m: bad operand type for abs(): 'NoneType'"
     ]
    }
   ],
   "source": [
    "# Run this cell.\n",
    "def returns_nothing():\n",
    "    x = 2\n",
    "    print(x)\n",
    "\n",
    "abs(returns_nothing())"
   ]
  },
  {
   "cell_type": "markdown",
   "metadata": {},
   "source": [
    "Notice that an error occurred, because `abs` is not receiving any value from `returns_nothing()`, and doesn't know what to do."
   ]
  },
  {
   "cell_type": "markdown",
   "metadata": {},
   "source": [
    "**Question 3.0.** Run the cell below, and notice it doesn't do anything. Fix it such that the function `eight` returns `8`."
   ]
  },
  {
   "cell_type": "code",
   "execution_count": 27,
   "metadata": {
    "collapsed": false
   },
   "outputs": [
    {
     "data": {
      "text/plain": [
       "8"
      ]
     },
     "execution_count": 27,
     "metadata": {},
     "output_type": "execute_result"
    }
   ],
   "source": [
    "# Fill in the return line in the function.\n",
    "def eight():\n",
    "    x = 8\n",
    "    return x #SOLUTION\n",
    "eight()"
   ]
  },
  {
   "cell_type": "code",
   "execution_count": null,
   "metadata": {
    "collapsed": false
   },
   "outputs": [],
   "source": [
    "_ = lab04.grade('q30')"
   ]
  },
  {
   "cell_type": "markdown",
   "metadata": {},
   "source": [
    "## 3.0. Arguments to functions\n",
    "It's great that we have defined a few simple functions, but you've probably noticed that these functions don't take any arguments, unlike most of the built-in or imported functions we've seen.  As a result, our functions have always done exactly the same thing every time we've called them, because we couldn't pass them any information. (Every time we write `eight()`, that expression has the value `8`. That's cute but pretty useless.) Let's see how to write more useful functions.\n",
    "\n",
    "To give a function arguments, put a list of names inside the parentheses in its definition, mimicking the way you'd pass arguments when calling the function. Check out the example below."
   ]
  },
  {
   "cell_type": "code",
   "execution_count": 28,
   "metadata": {
    "collapsed": false
   },
   "outputs": [
    {
     "data": {
      "text/plain": [
       "9"
      ]
     },
     "execution_count": 28,
     "metadata": {},
     "output_type": "execute_result"
    }
   ],
   "source": [
    "# Run this cell.\n",
    "def addition(x,y):\n",
    "    return x + y\n",
    "addition(4,5)"
   ]
  },
  {
   "cell_type": "markdown",
   "metadata": {},
   "source": [
    "When you say `def addition(x,y)`, you're saying: \"every time you call `addition`, the first argument will get the name `x` while the code inside this function is running, and the second argument will get the name `y` while the code inside this function is running.\" So the names `x` and `y` in the line `def addition(x,y)` didn't already have values, and they don't have values outside the function definition. (You can test that by writing `x` or `y` after the last line in the previous cell.) \n",
    "\n",
    "We passed in `4` for `x`, and `5` for `y`. Hence, when we ask for the value of `addition(4,5)`, the function returns `9`.\n",
    "\n",
    "An important thing to know, however, is that Python doesn't check to make sure our arguments make sense."
   ]
  },
  {
   "cell_type": "code",
   "execution_count": 29,
   "metadata": {
    "collapsed": false
   },
   "outputs": [
    {
     "ename": "TypeError",
     "evalue": "unsupported operand type(s) for +: 'int' and 'str'",
     "output_type": "error",
     "traceback": [
      "\u001b[1;31m---------------------------------------------------------------------------\u001b[0m",
      "\u001b[1;31mTypeError\u001b[0m                                 Traceback (most recent call last)",
      "\u001b[1;32m<ipython-input-29-0c1de09503ba>\u001b[0m in \u001b[0;36m<module>\u001b[1;34m()\u001b[0m\n\u001b[0;32m      1\u001b[0m \u001b[1;31m# Run this cell.\u001b[0m\u001b[1;33m\u001b[0m\u001b[1;33m\u001b[0m\u001b[0m\n\u001b[1;32m----> 2\u001b[1;33m \u001b[0maddition\u001b[0m\u001b[1;33m(\u001b[0m\u001b[1;36m4\u001b[0m\u001b[1;33m,\u001b[0m \u001b[1;34m'a string'\u001b[0m\u001b[1;33m)\u001b[0m\u001b[1;33m\u001b[0m\u001b[0m\n\u001b[0m",
      "\u001b[1;32m<ipython-input-28-7bd4ee05a4c9>\u001b[0m in \u001b[0;36maddition\u001b[1;34m(x, y)\u001b[0m\n\u001b[0;32m      1\u001b[0m \u001b[1;31m# Run this cell.\u001b[0m\u001b[1;33m\u001b[0m\u001b[1;33m\u001b[0m\u001b[0m\n\u001b[0;32m      2\u001b[0m \u001b[1;32mdef\u001b[0m \u001b[0maddition\u001b[0m\u001b[1;33m(\u001b[0m\u001b[0mx\u001b[0m\u001b[1;33m,\u001b[0m\u001b[0my\u001b[0m\u001b[1;33m)\u001b[0m\u001b[1;33m:\u001b[0m\u001b[1;33m\u001b[0m\u001b[0m\n\u001b[1;32m----> 3\u001b[1;33m     \u001b[1;32mreturn\u001b[0m \u001b[0mx\u001b[0m \u001b[1;33m+\u001b[0m \u001b[0my\u001b[0m\u001b[1;33m\u001b[0m\u001b[0m\n\u001b[0m\u001b[0;32m      4\u001b[0m \u001b[0maddition\u001b[0m\u001b[1;33m(\u001b[0m\u001b[1;36m4\u001b[0m\u001b[1;33m,\u001b[0m\u001b[1;36m5\u001b[0m\u001b[1;33m)\u001b[0m\u001b[1;33m\u001b[0m\u001b[0m\n",
      "\u001b[1;31mTypeError\u001b[0m: unsupported operand type(s) for +: 'int' and 'str'"
     ]
    }
   ],
   "source": [
    "# Run this cell.\n",
    "addition(4, 'a string')"
   ]
  },
  {
   "cell_type": "markdown",
   "metadata": {},
   "source": [
    "If someone passes in arguments a function isn't designed to deal with, then errors often occur, in exactly the same way that errors occur when values are misused in other kinds of code.  (Just writing `4 + 'a string'` causes the same error you get when you run the cell above.)"
   ]
  },
  {
   "cell_type": "markdown",
   "metadata": {},
   "source": [
    "**Question 3.0.0.** Fill in the implementation of `five_times`, which takes in three arguments and returns 5 times the sum of the arguments. "
   ]
  },
  {
   "cell_type": "code",
   "execution_count": 30,
   "metadata": {
    "collapsed": false
   },
   "outputs": [
    {
     "data": {
      "text/plain": [
       "50"
      ]
     },
     "execution_count": 30,
     "metadata": {},
     "output_type": "execute_result"
    }
   ],
   "source": [
    "# Fill in the function's body.\n",
    "def five_times(x, y, z):\n",
    "    return 5 * (x + y + z) #SOLUTION\n",
    "five_times(2,3,5)"
   ]
  },
  {
   "cell_type": "code",
   "execution_count": null,
   "metadata": {
    "collapsed": false,
    "scrolled": true
   },
   "outputs": [],
   "source": [
    "_ = lab04.grade('q300')"
   ]
  },
  {
   "cell_type": "markdown",
   "metadata": {},
   "source": [
    "**Question 3.0.1.** Define a function below from scratch, which takes two numerical arguments and returns a boolean value indicating whether or not the first argument is greater than the second argument. Call the function `is_greater`."
   ]
  },
  {
   "cell_type": "code",
   "execution_count": 31,
   "metadata": {
    "collapsed": false
   },
   "outputs": [],
   "source": [
    "# Define the is_greater function.\n",
    "def is_greater(x, y): #SOLUTION\n",
    "    return x > y"
   ]
  },
  {
   "cell_type": "code",
   "execution_count": null,
   "metadata": {
    "collapsed": false
   },
   "outputs": [],
   "source": [
    "_ = lab04.grade('q301')"
   ]
  },
  {
   "cell_type": "markdown",
   "metadata": {},
   "source": [
    "## 3.1 Print\n",
    "Sometimes, however, we just want our functions to carry out some operations and give us feedback, without computing a specific value. For this, Python has the `print` function. See it in action below."
   ]
  },
  {
   "cell_type": "code",
   "execution_count": 32,
   "metadata": {
    "collapsed": false
   },
   "outputs": [
    {
     "name": "stdout",
     "output_type": "stream",
     "text": [
      "Hello Word\n"
     ]
    }
   ],
   "source": [
    "# Run this cell.\n",
    "def just_print(x):\n",
    "    print(x)\n",
    "    return 5\n",
    "value = just_print(\"Hello Word\")"
   ]
  },
  {
   "cell_type": "markdown",
   "metadata": {},
   "source": [
    "Notice some things here. First of all, the print statement ran and printed a value even though all we did was an assignment statement. (Recall that the value of the last line of a cell is normally printed, but an assignment statement has no value, so normally nothing would be printed.) What, however, is the value of the variable `value`?"
   ]
  },
  {
   "cell_type": "code",
   "execution_count": null,
   "metadata": {
    "collapsed": false
   },
   "outputs": [],
   "source": [
    "# Run this cell.\n",
    "value"
   ]
  },
  {
   "cell_type": "markdown",
   "metadata": {},
   "source": [
    "This illustrates that `return` and `print` are completely different things. Return defines what the value of a function call is, and print just shows us stuff. So, what would be the value of `x` if we wrote `x = print('Hello')`?"
   ]
  },
  {
   "cell_type": "code",
   "execution_count": null,
   "metadata": {
    "collapsed": false
   },
   "outputs": [],
   "source": [
    "# Run this cell.\n",
    "x = print('Hello')\n",
    "x"
   ]
  },
  {
   "cell_type": "markdown",
   "metadata": {},
   "source": [
    "We see that `Hello` is printed, but nothing shows up when we ask for the value of `x`. In a sense, `x` doesn't have any value at all (since the `print` function doesn't return anything)."
   ]
  },
  {
   "cell_type": "markdown",
   "metadata": {},
   "source": [
    "**Question 3.1.0** Fill in the implementation of the function `print_and_return` which prints out the sentence given to it *and* returns the number of letters in the sentence."
   ]
  },
  {
   "cell_type": "code",
   "execution_count": null,
   "metadata": {
    "collapsed": false
   },
   "outputs": [],
   "source": [
    "# Fill in the function's body.\n",
    "def print_and_return(sentence):\n",
    "    print(sentence) #SOLUTION\n",
    "    return len(sentence) #SOLUTION\n",
    "print_and_return(\"The GSIs of Data 8 are the best!\")"
   ]
  },
  {
   "cell_type": "code",
   "execution_count": null,
   "metadata": {
    "collapsed": false
   },
   "outputs": [],
   "source": [
    "_ = lab04.grade('q310')"
   ]
  },
  {
   "cell_type": "markdown",
   "metadata": {},
   "source": [
    "## 3.2. If Statements"
   ]
  },
  {
   "cell_type": "markdown",
   "metadata": {},
   "source": [
    "`if` statements, or *conditional* statements, are another important tool.  They let us execute different code depending on whether different things are true.  Here's an example:"
   ]
  },
  {
   "cell_type": "markdown",
   "metadata": {},
   "source": [
    "<img src=\"rsz_1if-statement.jpg\" width=500px>"
   ]
  },
  {
   "cell_type": "markdown",
   "metadata": {},
   "source": [
    "The 9 lines of code in this example constitute a single `if` statement with 3 blocks.  In an `if` statement, Python checks each block in the order written.\n",
    "\n",
    "* If it sees `if <some expression>:` (for the first block in an `if` statement) or `elif <some expression>:` (for subsequent blocks), it computes the value of the expression after it, like `a > b` and `a < b` in this example.  That expression should have a boolean value, and it's usually called a *test* expression or *condition* expression.  If it's `True`, the code between that case and the next (called the `body`, which needs to all be indented by the same number of spaces) is executed, and then Python finishes the statement.  Otherwise, it moves to the next block.\n",
    "\n",
    "* `else:` works just like `elif True:` -- if Python gets to an `else` block, it always executes its body and finishes the statement.  You don't always have to include an `else` block, but if you do, it should be the last block, because blocks after it couldn't ever be executed.  (In fact, Python will complain to you if you try to add `elif` blocks after an `else` block.)\n",
    "\n",
    "Now that we have gotten through the syntax, let's see an example below. "
   ]
  },
  {
   "cell_type": "code",
   "execution_count": null,
   "metadata": {
    "collapsed": false
   },
   "outputs": [],
   "source": [
    "# Run this cell.\n",
    "def only_if_five(x):\n",
    "    if x == 5:\n",
    "        return True\n",
    "    else:\n",
    "        return False\n",
    "only_if_five(6)"
   ]
  },
  {
   "cell_type": "markdown",
   "metadata": {},
   "source": [
    "Since `x` was 6 in this case, which isn't equal to 5, Python moved on to the next block, which ran and caused the function to return `False`. Python goes from top to bottom and runs all the test expressions until the first test expression is true. For example: "
   ]
  },
  {
   "cell_type": "code",
   "execution_count": null,
   "metadata": {
    "collapsed": false
   },
   "outputs": [],
   "source": [
    "# Run this cell.\n",
    "def many_true(num):\n",
    "    if num == 5:\n",
    "        x = 5\n",
    "    elif num - 5 == 0:\n",
    "        x = 7\n",
    "    else:\n",
    "        x = 8\n",
    "    return x\n",
    "many_true(5)"
   ]
  },
  {
   "cell_type": "markdown",
   "metadata": {},
   "source": [
    "So, we see that both the `if`'s and the `elif`'s test expressions are true, but only the first one's body was executed. Again, Python keeps checking until the first test is true, executes that block's body, then leaves the whole `if` statement and does whatever's next (in this case, `return x`)."
   ]
  },
  {
   "cell_type": "markdown",
   "metadata": {},
   "source": [
    "## 3.3. Define your own. \n",
    "Now follows a list of a few questions, all asking you to combine your knowledge from above in order to define your own functions. "
   ]
  },
  {
   "cell_type": "markdown",
   "metadata": {},
   "source": [
    "**Question 3.3.0.**  Implement the function `is_strictly_increasing` which takes in an array of three elements and returns whether the array is strictly increasing, that is, the first element is smaller than the second element, which is smaller than the third element. \n"
   ]
  },
  {
   "cell_type": "code",
   "execution_count": null,
   "metadata": {
    "collapsed": false,
    "scrolled": false
   },
   "outputs": [],
   "source": [
    "# Fill in the function's body.\n",
    "def is_strictly_increasing(arr):\n",
    "    if arr.item(0) < arr.item(1) and arr.item(1) < arr.item(2): #SOLUTION\n",
    "        return True #SOLUTION\n",
    "    else: #SOLUTION\n",
    "        return False #SOLUTION\n",
    "is_strictly_increasing(np.array([1,2,3]))"
   ]
  },
  {
   "cell_type": "code",
   "execution_count": null,
   "metadata": {
    "collapsed": false,
    "scrolled": false
   },
   "outputs": [],
   "source": [
    "_ = lab04.grade('q330')"
   ]
  },
  {
   "cell_type": "markdown",
   "metadata": {},
   "source": [
    "**Question 3.3.1.** Implement the following function, `fizzbuzz`, which takes in a number and returns 'fizz' if it divisible by 3, 'buzz' if it is divisible by 5, or 'fizzbuzz' if it is divisible by both. If it is not divisible by any of these, simply return the string representation of the number.\n",
    "\n",
    "You'll want to use the `%` operator (called the *remainder* operator, or sometimes the *modulus* operator).  `a % b` is an expression whose value is the remainder when dividing `a` by `b`. For example, `5 % 2` is 1, as there is a remainder of 1 when dividing `5 by 2`.\n",
    "\n",
    "*Hint:* To check if `x` is evenly divisible by `y`, you can write `x % y == 0`.  (This is a common idiom in programming.)"
   ]
  },
  {
   "cell_type": "code",
   "execution_count": null,
   "metadata": {
    "collapsed": false
   },
   "outputs": [],
   "source": [
    "# Fill in the function's body.\n",
    "def fizzbuzz(num):\n",
    "    if num % 15 == 0: #SOLUTION\n",
    "        return 'fizzbuzz' #SOLUTION\n",
    "    elif num % 3 == 0: #SOLUTION\n",
    "        return 'fizz' #SOLUTION\n",
    "    elif num % 5 == 0: #SOLUTION\n",
    "        return 'buzz' #SOLUTION\n",
    "    else: #SOLUTION\n",
    "        return str(num) #SOLUTION\n",
    "\n",
    "# The following code tries out every number up to 15 for you.  You'll learn how to write code like this soon.\n",
    "for x in range(1, 16):\n",
    "    print(fizzbuzz(x))"
   ]
  },
  {
   "cell_type": "code",
   "execution_count": null,
   "metadata": {
    "collapsed": false
   },
   "outputs": [],
   "source": [
    "_ = lab04.grade('q331')"
   ]
  },
  {
   "cell_type": "markdown",
   "metadata": {},
   "source": [
    "**Question 3.3.2.** Implement the function `most_followers`, which takes as a single argument a table formatted like `follows` (from your Twitter dataset investigations), and returns the screen name of the person with the most followers."
   ]
  },
  {
   "cell_type": "code",
   "execution_count": null,
   "metadata": {
    "collapsed": false
   },
   "outputs": [],
   "source": [
    "# Fill in the function's body.\n",
    "def most_followers(tbl):\n",
    "    return tbl.sort(\"Followers\").column(\"Screen name\").item(-1) #SOLUTION\n",
    "most_followers(follows)"
   ]
  },
  {
   "cell_type": "code",
   "execution_count": null,
   "metadata": {
    "collapsed": false
   },
   "outputs": [],
   "source": [
    "_ = lab04.grade('q332')"
   ]
  },
  {
   "cell_type": "markdown",
   "metadata": {},
   "source": [
    "## 3.4. `apply`"
   ]
  },
  {
   "cell_type": "markdown",
   "metadata": {},
   "source": [
    "Now that we have the ability to write functions, we can perform powerful computations with Tables. Returning to our Twitter data, we might be interested in computing a user's total \"connections\" as the sum of their followers and friends. We'll use the `apply` function, which works like this: `t.apply(fn, [\"Column1\", \"Column2\", ...])`. Given a function `fn`, `apply` calls that function on every row of the table, passing in values from each specified column. Here's an example:\n",
    "<img src=\"apply_example.png\">\n"
   ]
  },
  {
   "cell_type": "markdown",
   "metadata": {},
   "source": [
    "In the above diagram, notice how `addition` gets called once for every row of the table. It takes two arguments, which is why we needed to specify two column names."
   ]
  },
  {
   "cell_type": "markdown",
   "metadata": {},
   "source": [
    "**Question 3.4.0.** Let's code it up! Using `apply` and your `addition` function from earlier, compute each user's total connections. The result should be an array of length eight.\n",
    "\n",
    "**Important:** The results should be sorted by screen name according to the order Python sorts strings.  Upper-case letters all come before lower-case letters, so IAMQUEENLATIFAH's total connections should be first, and azizansari's should be last.  You can do this with a short call to the `sort` method."
   ]
  },
  {
   "cell_type": "code",
   "execution_count": null,
   "metadata": {
    "collapsed": false
   },
   "outputs": [],
   "source": [
    "# Fill in the following line.\n",
    "connections = twitter.sort(\"Screen name\").apply(addition, [\"Followers\", \"Friends\"]) #SOLUTION\n",
    "connections"
   ]
  },
  {
   "cell_type": "code",
   "execution_count": null,
   "metadata": {
    "collapsed": false
   },
   "outputs": [],
   "source": [
    "_ = lab04.grade('q340')"
   ]
  },
  {
   "cell_type": "markdown",
   "metadata": {},
   "source": [
    "# 4. Plotting \n",
    "To finish off this lab, we will begin our introduction to plotting. You've probably seen various kinds of plots before, in school or elsewhere. Some very common ones are bar plots and histograms. Plots are very useful for data science, because they're a very clear and informative way to investigate data.\n",
    "\n",
    "Today, we'll see how to use bar plots to plot categorical data."
   ]
  },
  {
   "cell_type": "markdown",
   "metadata": {},
   "source": [
    "# 4.0 Bar Charts\n",
    "Bar charts have two axes, with the `y` axis showing several categories, and the `x` axis showing the amount of \"stuff\" associated with each category. Often, the `x` axis variable represents some kind of count, like the number of things in the category, but it can be any numerical value. To see this in action, let's convert the `follows` table into a two column table with columns `Screen name` and `Friends`."
   ]
  },
  {
   "cell_type": "code",
   "execution_count": 33,
   "metadata": {
    "collapsed": false
   },
   "outputs": [
    {
     "data": {
      "text/html": [
       "<table border=\"1\" class=\"dataframe\">\n",
       "    <thead>\n",
       "        <tr>\n",
       "            <th>Screen name</th> <th>Friends</th>\n",
       "        </tr>\n",
       "    </thead>\n",
       "    <tbody>\n",
       "        <tr>\n",
       "            <td>LeoDiCaprio    </td> <td>142    </td>\n",
       "        </tr>\n",
       "    </tbody>\n",
       "        <tr>\n",
       "            <td>SteveCarell    </td> <td>48     </td>\n",
       "        </tr>\n",
       "    </tbody>\n",
       "        <tr>\n",
       "            <td>MarkRuffalo    </td> <td>1178   </td>\n",
       "        </tr>\n",
       "    </tbody>\n",
       "        <tr>\n",
       "            <td>amyschumer     </td> <td>1931   </td>\n",
       "        </tr>\n",
       "    </tbody>\n",
       "        <tr>\n",
       "            <td>TherealTaraji  </td> <td>702    </td>\n",
       "        </tr>\n",
       "    </tbody>\n",
       "        <tr>\n",
       "            <td>azizansari     </td> <td>0      </td>\n",
       "        </tr>\n",
       "    </tbody>\n",
       "        <tr>\n",
       "            <td>Racheldoesstuff</td> <td>3341   </td>\n",
       "        </tr>\n",
       "    </tbody>\n",
       "        <tr>\n",
       "            <td>IAMQUEENLATIFAH</td> <td>458    </td>\n",
       "        </tr>\n",
       "    </tbody>\n",
       "</table>"
      ],
      "text/plain": [
       "Screen name     | Friends\n",
       "LeoDiCaprio     | 142\n",
       "SteveCarell     | 48\n",
       "MarkRuffalo     | 1178\n",
       "amyschumer      | 1931\n",
       "TherealTaraji   | 702\n",
       "azizansari      | 0\n",
       "Racheldoesstuff | 3341\n",
       "IAMQUEENLATIFAH | 458"
      ]
     },
     "execution_count": 33,
     "metadata": {},
     "output_type": "execute_result"
    }
   ],
   "source": [
    "# Fill in the following line\n",
    "follows1 = follows.select([0, 2]) #SOLUTION\n",
    "follows1"
   ]
  },
  {
   "cell_type": "markdown",
   "metadata": {},
   "source": [
    "Now, let's make a bar plot about the number of friends each Twitter user has. We use the Table method `.barh`, and its argument is the category which we would like on the `y` axis. For example:"
   ]
  },
  {
   "cell_type": "code",
   "execution_count": 34,
   "metadata": {
    "collapsed": false
   },
   "outputs": [
    {
     "data": {
      "image/png": "[encoded data removed]",
      "text/plain": [
       "<matplotlib.figure.Figure at 0x7fbb145b42b0>"
      ]
     },
     "metadata": {},
     "output_type": "display_data"
    }
   ],
   "source": [
    "tableA = follows1.barh('Screen name')\n",
    "tableA"
   ]
  },
  {
   "cell_type": "markdown",
   "metadata": {},
   "source": [
    "Pretty cool, huh? But, we have to be careful. Let's sort the data and see how the bar graph looks now. "
   ]
  },
  {
   "cell_type": "code",
   "execution_count": null,
   "metadata": {
    "collapsed": false
   },
   "outputs": [],
   "source": [
    "follows2 = follows1.sort('Friends')\n",
    "tableB = follows2.barh('Screen name')\n",
    "tableB"
   ]
  },
  {
   "cell_type": "markdown",
   "metadata": {},
   "source": [
    "At first glance, these plots look quite different. But, if we look more closely, we see that the data being plotted is the same, but is just displayed in a different order.\n",
    "\n",
    "What's great about both of these plots, but the second in particular, is that they make it very easy to learn a lot about our data. It's very easy to pick out who has the most and least friends on Twitter, and to see how spread out the data is. This would be much harder to figure out if we were looking at a table of data (especially if the data was much larger than ours). Many useful insights in data science can be had without performing a single \"statistical\" procedure, simply by looking at a graph of the data. Your brain is really good at getting information from pictures."
   ]
  },
  {
   "cell_type": "markdown",
   "metadata": {},
   "source": [
    "**Question 4.0.0.** Create a function called `plotter` that takes in a two column list and a column label and creates a bar plot with the column `label` as the categorical (`y`-axis) variable.  It shouldn't return anything."
   ]
  },
  {
   "cell_type": "code",
   "execution_count": 35,
   "metadata": {
    "collapsed": false
   },
   "outputs": [
    {
     "data": {
      "image/png": "[encoded data removed]",
      "text/plain": [
       "<matplotlib.figure.Figure at 0x7fbb14568518>"
      ]
     },
     "metadata": {},
     "output_type": "display_data"
    }
   ],
   "source": [
    "# Fill in the function's body.\n",
    "def plotter(tbl, label):\n",
    "    tbl.barh(label) #SOLUTION\n",
    "plotter(follows1, 'Screen name')"
   ]
  },
  {
   "cell_type": "markdown",
   "metadata": {},
   "source": [
    "Make sure your plot looks the same as the first one we created."
   ]
  },
  {
   "cell_type": "code",
   "execution_count": null,
   "metadata": {
    "collapsed": false
   },
   "outputs": [],
   "source": [
    "# For your convenience, you can run this cell to run all the tests at once!\n",
    "import os\n",
    "_ = [lab04.grade(q[:-3]) for q in os.listdir(\"tests\") if q.startswith('q')]"
   ]
  },
  {
   "cell_type": "code",
   "execution_count": null,
   "metadata": {
    "collapsed": false,
    "scrolled": true
   },
   "outputs": [],
   "source": [
    "# Run this cell to submit your work *after* you have passed all of the test cells.\n",
    "# It's ok to run this cell multiple times. Only your final submission will be scored.\n",
    "\n",
    "!TZ=America/Los_Angeles ipython nbconvert --output=\".lab04_$(date +%m%d_%H%M)_submission.html\" lab04.ipynb && echo \"Submitted Successfully\""
   ]
  }
 ],
 "metadata": {
  "kernelspec": {
   "display_name": "Python 3",
   "language": "python",
   "name": "python3"
  },
  "language_info": {
   "codemirror_mode": {
    "name": "ipython",
    "version": 3
   },
   "file_extension": ".py",
   "mimetype": "text/x-python",
   "name": "python",
   "nbconvert_exporter": "python",
   "pygments_lexer": "ipython3",
   "version": "3.4.4"
  }
 },
 "nbformat": 4,
 "nbformat_minor": 0
}
