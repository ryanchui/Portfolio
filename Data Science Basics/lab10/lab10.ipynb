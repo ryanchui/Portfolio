{
 "cells": [
  {
   "cell_type": "markdown",
   "metadata": {},
   "source": [
    "# Lab 10: Project 2 Intro\n",
    "\n",
    "# 0. Intro\n",
    "Welcome to Lab 10!\n",
    "\n",
    "Today's lab is designed to be started in a group guided by a TA.  It's a review of some tricky concepts in classification.  Learning these ideas will help you when you work on Project 2.\n",
    "\n",
    "This lab **won't be collected**.  As usual, tests are provided to give you quick feedback on your answers."
   ]
  },
  {
   "cell_type": "code",
   "execution_count": 1,
   "metadata": {
    "collapsed": false
   },
   "outputs": [
    {
     "name": "stdout",
     "output_type": "stream",
     "text": [
      "=====================================================================\n",
      "Assignment: Lab 10\n",
      "OK, version v1.5.1\n",
      "=====================================================================\n",
      "\n"
     ]
    }
   ],
   "source": [
    "# Run this cell, but please don't change it.\n",
    "\n",
    "# These lines import the Numpy and Datascience modules.\n",
    "import numpy as np\n",
    "from datascience import *\n",
    "\n",
    "# These lines do some fancy plotting magic.\n",
    "import matplotlib\n",
    "%matplotlib inline\n",
    "import matplotlib.pyplot as plt\n",
    "plt.style.use('fivethirtyeight')\n",
    "import warnings\n",
    "warnings.simplefilter('ignore', FutureWarning)\n",
    "\n",
    "from lab10_knn import *\n",
    "\n",
    "# These lines load the tests.\n",
    "from client.api.assignment import load_assignment \n",
    "lab10 = load_assignment('lab10.ok')"
   ]
  },
  {
   "cell_type": "markdown",
   "metadata": {},
   "source": [
    "# 1. What is classification?\n",
    "### Classification\n",
    "Classification is a special kind of prediction.  We see some information about an entity and we want to predict other information about that entity.  The predicted information is *categorical*, like \"Yes\" or \"No\", not *numeric*, like 5 or 5.1.\n",
    "\n",
    "Unfortunately, practitioners use different terms for these things.  Entities might also be called *examples*.  The information we see about each entity is called its *attributes* or *features*.  The thing we’re trying to predict about each entity is called its *outcome*, *class*, *label*, or *true value*.  Our prediction itself is called a *predicted outcome*, *predicted class*, *predicted label*, or *predicted value*.\n",
    "\n",
    "In Project 2, the entities are songs, the features are data on the song’s lyrics (the words in the song), and the class will be the song’s genre (country or hip-hop).  Below is a table called `lyrics` with a small example of song data.  Each row represents a song.  The first column is the true label of each song.  The other columns record how frequently the words \"the\", \"a\", \"style\", \"girl\", \"boy\", \"yo\", and \"truck\" appeared in the song.  In the actual project, the data are much richer than this."
   ]
  },
  {
   "cell_type": "code",
   "execution_count": 2,
   "metadata": {
    "collapsed": false
   },
   "outputs": [
    {
     "data": {
      "text/html": [
       "<table border=\"1\" class=\"dataframe\">\n",
       "    <thead>\n",
       "        <tr>\n",
       "            <th>Genre</th> <th>the</th> <th>a</th> <th>style</th> <th>girl</th> <th>boy</th> <th>yo</th> <th>truck</th>\n",
       "        </tr>\n",
       "    </thead>\n",
       "    <tbody>\n",
       "        <tr>\n",
       "            <td>Hip-hop</td> <td>0.767442 </td> <td>0.162791 </td> <td>0.0232558</td> <td>0        </td> <td>0        </td> <td>0.0465116</td> <td>0    </td>\n",
       "        </tr>\n",
       "    </tbody>\n",
       "        <tr>\n",
       "            <td>Country</td> <td>0.529412 </td> <td>0.294118 </td> <td>0        </td> <td>0.176471 </td> <td>0        </td> <td>0        </td> <td>0    </td>\n",
       "        </tr>\n",
       "    </tbody>\n",
       "        <tr>\n",
       "            <td>Country</td> <td>0.5      </td> <td>0.5      </td> <td>0        </td> <td>0        </td> <td>0        </td> <td>0        </td> <td>0    </td>\n",
       "        </tr>\n",
       "    </tbody>\n",
       "        <tr>\n",
       "            <td>Country</td> <td>0.5      </td> <td>0.375    </td> <td>0        </td> <td>0.125    </td> <td>0        </td> <td>0        </td> <td>0    </td>\n",
       "        </tr>\n",
       "    </tbody>\n",
       "        <tr>\n",
       "            <td>Hip-hop</td> <td>0.0588235</td> <td>0.882353 </td> <td>0        </td> <td>0.0588235</td> <td>0        </td> <td>0        </td> <td>0    </td>\n",
       "        </tr>\n",
       "    </tbody>\n",
       "        <tr>\n",
       "            <td>Hip-hop</td> <td>0.583333 </td> <td>0.416667 </td> <td>0        </td> <td>0        </td> <td>0        </td> <td>0        </td> <td>0    </td>\n",
       "        </tr>\n",
       "    </tbody>\n",
       "        <tr>\n",
       "            <td>Hip-hop</td> <td>0.617647 </td> <td>0.264706 </td> <td>0.0294118</td> <td>0        </td> <td>0        </td> <td>0.0882353</td> <td>0    </td>\n",
       "        </tr>\n",
       "    </tbody>\n",
       "        <tr>\n",
       "            <td>Hip-hop</td> <td>0.516129 </td> <td>0.354839 </td> <td>0        </td> <td>0.0967742</td> <td>0.0322581</td> <td>0        </td> <td>0    </td>\n",
       "        </tr>\n",
       "    </tbody>\n",
       "        <tr>\n",
       "            <td>Country</td> <td>0.333333 </td> <td>0.333333 </td> <td>0        </td> <td>0.333333 </td> <td>0        </td> <td>0        </td> <td>0    </td>\n",
       "        </tr>\n",
       "    </tbody>\n",
       "        <tr>\n",
       "            <td>Country</td> <td>0.692308 </td> <td>0.0769231</td> <td>0        </td> <td>0.230769 </td> <td>0        </td> <td>0        </td> <td>0    </td>\n",
       "        </tr>\n",
       "    </tbody>\n",
       "</table>\n",
       "<p>... (90 rows omitted)</p"
      ],
      "text/plain": [
       "Genre   | the       | a         | style     | girl      | boy       | yo        | truck\n",
       "Hip-hop | 0.767442  | 0.162791  | 0.0232558 | 0         | 0         | 0.0465116 | 0\n",
       "Country | 0.529412  | 0.294118  | 0         | 0.176471  | 0         | 0         | 0\n",
       "Country | 0.5       | 0.5       | 0         | 0         | 0         | 0         | 0\n",
       "Country | 0.5       | 0.375     | 0         | 0.125     | 0         | 0         | 0\n",
       "Hip-hop | 0.0588235 | 0.882353  | 0         | 0.0588235 | 0         | 0         | 0\n",
       "Hip-hop | 0.583333  | 0.416667  | 0         | 0         | 0         | 0         | 0\n",
       "Hip-hop | 0.617647  | 0.264706  | 0.0294118 | 0         | 0         | 0.0882353 | 0\n",
       "Hip-hop | 0.516129  | 0.354839  | 0         | 0.0967742 | 0.0322581 | 0         | 0\n",
       "Country | 0.333333  | 0.333333  | 0         | 0.333333  | 0         | 0         | 0\n",
       "Country | 0.692308  | 0.0769231 | 0         | 0.230769  | 0         | 0         | 0\n",
       "... (90 rows omitted)"
      ]
     },
     "execution_count": 2,
     "metadata": {},
     "output_type": "execute_result"
    }
   ],
   "source": [
    "lyrics = Table.read_table(\"lyrics_example.csv\")\n",
    "lyrics"
   ]
  },
  {
   "cell_type": "markdown",
   "metadata": {},
   "source": [
    "### Classifiers\n",
    "A *classifier* is a piece of software that takes in information about something and produces a predicted value.\n",
    "\n",
    "In the project your classifier will be a Python function that takes data on a song’s lyrics as an argument and returns a string like “Hip-hop” or “Country”.\n",
    "\n",
    "<img src=\"1_classifier.jpg\">\n",
    "\n",
    "For concreteness, here's an example of a simple and very inaccurate song-genre classifier.  It's fully documented so you can figure out how to call it."
   ]
  },
  {
   "cell_type": "code",
   "execution_count": 3,
   "metadata": {
    "collapsed": true
   },
   "outputs": [],
   "source": [
    "def really_bad_classifier(song_features):\n",
    "    \"\"\"\n",
    "    Produces a predicted label for a song with the given features.\n",
    "    \n",
    "    song_features should be a row of a table like lyrics, except that\n",
    "    it shouldn't include the column with the true label.  For example,\n",
    "    you could call this function like this to classify the first\n",
    "    example in the lyrics table:\n",
    "    \n",
    "      really_bad_classifier(lyrics.drop(\"Genre\").row(0))\n",
    "    \n",
    "    Returns a string that's the predicted label for the given song.\n",
    "    In this case, labels are the string \"Country\" or \"Hip-hop\".\n",
    "    \n",
    "    This function actually doesn't do anything intelligent, as you\n",
    "    can see below.\n",
    "    \"\"\"\n",
    "    # We just check whether the thousandths digit of the first\n",
    "    # feature is odd or even.\n",
    "    if (1000 * song_features.item(0)) % 2 == 0:\n",
    "        return \"Country\"\n",
    "    else:\n",
    "        return \"Hip-hop\""
   ]
  },
  {
   "cell_type": "markdown",
   "metadata": {},
   "source": [
    "**Question 1.1.** Compute `really_bad_classifier`'s predictions for the songs in `lyrics` with indices 90 through 94 (inclusive).\n",
    "\n",
    "*Hint:* Two Table methods will be useful:\n",
    "* If `t` is a table, then `t.take(range(3, 6))` is a smaller version of `t` with only rows 3, 4, and 5.\n",
    "* `t.apply(f)` calls the function `f` on each *row* in the table `t`, producing an array of the values returned by `f` for each row.  It's the same as saying `np.array([f(t.row(0)), f(t.row(1)), f(t.row(2), ...])`.  `t.row(i)` is basically a list of the things in row `i` of table `t`."
   ]
  },
  {
   "cell_type": "code",
   "execution_count": 4,
   "metadata": {
    "collapsed": false
   },
   "outputs": [
    {
     "data": {
      "text/plain": [
       "array(['Hip-hop', 'Hip-hop', 'Country', 'Hip-hop', 'Country'], \n",
       "      dtype='<U7')"
      ]
     },
     "execution_count": 4,
     "metadata": {},
     "output_type": "execute_result"
    }
   ],
   "source": [
    "bad_predictions = lyrics.drop(\"Genre\").take(range(90, 95)).apply(really_bad_classifier)\n",
    "bad_predictions\n",
    "# lyrics.apply(really_bad_classifier(a.row(90)), really_bad_classifier(a.row(91)), really_bad_classifier(a.row(92)), \n",
    "#              really_bad_classifier(a.row(93)),really_bad_classifier(a.row(94)))\n",
    "# bad_pr edictions = lyrics.take(range(90,95))\n",
    "# bad_predictions\n",
    "#Row(Genre='Hip-hop', the=0.49999996852941281, a=0.35294121904844145, style=0.0, girl=0.0, boy=0.0, yo=0.14705881242214569, truck=0.0)"
   ]
  },
  {
   "cell_type": "code",
   "execution_count": 39,
   "metadata": {
    "collapsed": false
   },
   "outputs": [
    {
     "name": "stdout",
     "output_type": "stream",
     "text": [
      "~~~~~~~~~~~~~~~~~~~~~~~~~~~~~~~~~~~~~~~~~~~~~~~~~~~~~~~~~~~~~~~~~~~~~\n",
      "Running tests\n",
      "\n",
      "---------------------------------------------------------------------\n",
      "Test summary\n",
      "    Passed: 2\n",
      "    Failed: 0\n",
      "[ooooooooook] 100.0% passed\n",
      "\n"
     ]
    }
   ],
   "source": [
    "_ = lab10.grade(\"q11\")"
   ]
  },
  {
   "cell_type": "markdown",
   "metadata": {},
   "source": [
    "**Question 1.2.** Compute the proportion of right answers `really_bad_classifier` got on that 5-song dataset."
   ]
  },
  {
   "cell_type": "code",
   "execution_count": 5,
   "metadata": {
    "collapsed": false
   },
   "outputs": [
    {
     "data": {
      "text/plain": [
       "0.4"
      ]
     },
     "execution_count": 5,
     "metadata": {},
     "output_type": "execute_result"
    }
   ],
   "source": [
    "proportion_right_answers = np.count_nonzero(bad_predictions == lyrics.column(\"Genre\").take(range(90, 95)))/5\n",
    "proportion_right_answers\n"
   ]
  },
  {
   "cell_type": "code",
   "execution_count": 48,
   "metadata": {
    "collapsed": false
   },
   "outputs": [
    {
     "name": "stdout",
     "output_type": "stream",
     "text": [
      "~~~~~~~~~~~~~~~~~~~~~~~~~~~~~~~~~~~~~~~~~~~~~~~~~~~~~~~~~~~~~~~~~~~~~\n",
      "Running tests\n",
      "\n",
      "---------------------------------------------------------------------\n",
      "Test summary\n",
      "    Passed: 2\n",
      "    Failed: 0\n",
      "[ooooooooook] 100.0% passed\n",
      "\n"
     ]
    }
   ],
   "source": [
    "_ = lab10.grade(\"q12\")"
   ]
  },
  {
   "cell_type": "markdown",
   "metadata": {},
   "source": [
    "### Making a classifier\n",
    "The classification methods we’re looking at in this class require examples of labeled data.  That is, we need some data where we know both the features and the true label.  We use that data to *train* a classifier to make predictions that match many of the true labels for the training data.  Hopefully it will make good predictions for other data it hasn't seen, too.\n",
    "\n",
    "<img src=\"1_training.jpg\">\n",
    "\n",
    "The box that takes training data and makes a classifier is *itself* a Python function, which we might call a training function.  Since a classifier is a function, a training function that produces a classifier is a *higher-order function* -- a function that returns another function.\n",
    "\n",
    "`make_classifier` in the next cell is an example of a training function.  To avoid spoilers, it makes classifiers that aren't quite the same as the k-Nearest Neighbors classifiers you'll work with in the project."
   ]
  },
  {
   "cell_type": "code",
   "execution_count": 6,
   "metadata": {
    "collapsed": false
   },
   "outputs": [],
   "source": [
    "def make_classifier(training_data):\n",
    "    \"\"\"\n",
    "    Takes a table of labeled examples and returns a classifier function\n",
    "    trained on that data.\n",
    "    \n",
    "    The resulting classifier function behaves like really_bad_classifier\n",
    "    in exercise 1.1, in the sense that it takes the same arguments and\n",
    "    produces the same kind of output.  It produces slightly more sensible\n",
    "    results than really_bad_classifier.\n",
    "    \n",
    "    training_data should be a table of data like the lyrics table.  Each\n",
    "    row should represent one song.  Its first column should be the true\n",
    "    genre of each song.  All other columns should be features.\n",
    "    \"\"\"\n",
    "    averages_by_genre = training_data.group(\"Genre\", np.mean)\n",
    "    country_averages = np.array(averages_by_genre.where(\"Genre\", \"Country\").drop(\"Genre\").row(0))\n",
    "    hiphop_averages = np.array(averages_by_genre.where(\"Genre\", \"Hip-hop\").drop(\"Genre\").row(0))\n",
    "    \n",
    "    def classifier(features):\n",
    "        features_array = np.array(features)\n",
    "        if sum(abs(features_array - country_averages)) <= sum(abs(features_array - hiphop_averages)):\n",
    "            return \"Country\"\n",
    "        else:\n",
    "            return \"Hip-hop\"\n",
    "    \n",
    "    return classifier"
   ]
  },
  {
   "cell_type": "markdown",
   "metadata": {},
   "source": [
    "**Question 1.3.** Read the documentation of the function `make_classifier`.  Use it to make a classifier function called `my_classifier`."
   ]
  },
  {
   "cell_type": "code",
   "execution_count": 7,
   "metadata": {
    "collapsed": false
   },
   "outputs": [
    {
     "data": {
      "text/plain": [
       "<function __main__.make_classifier.<locals>.classifier>"
      ]
     },
     "execution_count": 7,
     "metadata": {},
     "output_type": "execute_result"
    }
   ],
   "source": [
    "my_classifier = make_classifier(lyrics)\n",
    "my_classifier\n"
   ]
  },
  {
   "cell_type": "code",
   "execution_count": 8,
   "metadata": {
    "collapsed": false
   },
   "outputs": [
    {
     "name": "stdout",
     "output_type": "stream",
     "text": [
      "~~~~~~~~~~~~~~~~~~~~~~~~~~~~~~~~~~~~~~~~~~~~~~~~~~~~~~~~~~~~~~~~~~~~~\n",
      "Running tests\n",
      "\n",
      "---------------------------------------------------------------------\n",
      "Test summary\n",
      "    Passed: 2\n",
      "    Failed: 0\n",
      "[ooooooooook] 100.0% passed\n",
      "\n"
     ]
    }
   ],
   "source": [
    "_ = lab10.grade(\"q13\")"
   ]
  },
  {
   "cell_type": "markdown",
   "metadata": {},
   "source": [
    "**Question 1.4.** Use `my_classifier` to make a prediction for the song with index 90 in `lyrics`.\n",
    "\n",
    "*Hint:* If you get an error like \"`TypeError: ufunc 'subtract' did not contain...`\", make sure you're calling `my_classifier` with only the *features* in the `lyrics` table.  It will be confused if your row includes the actual genre of the song.\n",
    "\n",
    "*Hint 2:* If you get an error like \"`ValueError: invalid __array_struct__`\", make sure you're calling `my_classifier` with a *row* of the `lyrics` table (using `.row(...)`), not a table containing only one row."
   ]
  },
  {
   "cell_type": "code",
   "execution_count": 8,
   "metadata": {
    "collapsed": false
   },
   "outputs": [
    {
     "data": {
      "text/plain": [
       "'Hip-hop'"
      ]
     },
     "execution_count": 8,
     "metadata": {},
     "output_type": "execute_result"
    }
   ],
   "source": [
    "prediction = my_classifier(lyrics.drop(\"Genre\").row(90))\n",
    "prediction\n",
    "\n"
   ]
  },
  {
   "cell_type": "code",
   "execution_count": 10,
   "metadata": {
    "collapsed": false
   },
   "outputs": [
    {
     "name": "stdout",
     "output_type": "stream",
     "text": [
      "~~~~~~~~~~~~~~~~~~~~~~~~~~~~~~~~~~~~~~~~~~~~~~~~~~~~~~~~~~~~~~~~~~~~~\n",
      "Running tests\n",
      "\n",
      "---------------------------------------------------------------------\n",
      "Test summary\n",
      "    Passed: 1\n",
      "    Failed: 0\n",
      "[ooooooooook] 100.0% passed\n",
      "\n"
     ]
    }
   ],
   "source": [
    "_ = lab10.grade(\"q14\")"
   ]
  },
  {
   "cell_type": "markdown",
   "metadata": {},
   "source": [
    "# 2. Goals of classification\n",
    "### What is our goal when we classify?\n",
    "\n",
    "We have some *population* of songs in mind, and we're eventually going to use our classifier to make predictions about songs from that population.  That means we care about the proportion of correct predictions our classifier makes *for that entire population*.  An ideal song classifier would work well on all the hip-hop and country songs that have ever been written or will ever be written.  We might have to settle for something that works well on the songs we have available to us.\n",
    "\n",
    "<img src=\"2_population_accuracy.jpg\">"
   ]
  },
  {
   "cell_type": "markdown",
   "metadata": {},
   "source": [
    "### How do we try to make a classifier that meets that goal?\n",
    "We usually don’t have access to the outcomes of everything in the population.  If we did, we wouldn't be interested in predicting them!\n",
    "\n",
    "The fact that we don't know about the whole population raises difficulties both in *training a good classifier* and in *measuring how well our classifier works*.  First let's talk about training.\n",
    "\n",
    "A typical case is that we have data from a sample of the population.  It might not be a simple random sample.  For example, we can't know about songs that will be written in the future, even if we want our classifier to work well on them.  In the project, we have a dataset of about 1800 songs whose lyrics and genres were recorded in an online database.\n",
    "\n",
    "To train a classifier, we use our available sample -- our *training set* -- to make a classifier that we hope works well on the population.  To classify a song whose label we don't know, the idea is generally to find songs in the training set that are similar to the song, and to use those songs' labels to predict the song's label.\n",
    "\n",
    "<img src=\"2_sample_training.jpg\">\n",
    "\n",
    "Here's a lightning review of what a k-Nearest-Neighbors classifier does.  To classify a song, it finds `k` songs in the training set whose lyrics are most similar to the song (as measured by Euclidean distance between the word frequencies).  It predicts that the song's genre is the genre most common among those similar songs.  For details about k-Nearest-Neighbors classification, you might want to review the [lecture webcast](https://data-8.appspot.com/sp16/unit?unit=5&lesson=24) or the [textbook chapter](http://www.inferentialthinking.com/chapter4/classification.html) on classification.\n",
    "\n",
    "Below is a picture of a small made-up training set with only 2 features (which is the most we can easily visualize).  Each point represents a song.  On the horizontal axis is the frequency of the word \"style\", and on the vertical axis is the frequency of the word \"truck\".  Blue triangles are hip-hop songs and red circles are country songs.  We've placed the axes a bit below 0% for visual clarity.\n",
    "\n",
    "<img src=\"2_training_graph.jpg\">"
   ]
  },
  {
   "cell_type": "markdown",
   "metadata": {},
   "source": [
    "**Question 2.1.** Why are so many of the points at 0% for one or both features?"
   ]
  },
  {
   "cell_type": "markdown",
   "metadata": {},
   "source": [
    "*Write your answer here, replacing this text.*"
   ]
  },
  {
   "cell_type": "markdown",
   "metadata": {},
   "source": [
    "**Question 2.2.** How would a 3-Nearest Neighbor classifier trained on this data classify a song located at the center of the big star?\n",
    "\n",
    "<img src=\"2_2_song.jpg\">"
   ]
  },
  {
   "cell_type": "code",
   "execution_count": 9,
   "metadata": {
    "collapsed": true
   },
   "outputs": [],
   "source": [
    "# Set this to either the string \"Country\" or the string \"Hip-hop\",\n",
    "# depending on how you think a 3-NN classifier will classify the\n",
    "# star.\n",
    "q22_classification = \"Country\""
   ]
  },
  {
   "cell_type": "code",
   "execution_count": 10,
   "metadata": {
    "collapsed": false
   },
   "outputs": [
    {
     "name": "stdout",
     "output_type": "stream",
     "text": [
      "~~~~~~~~~~~~~~~~~~~~~~~~~~~~~~~~~~~~~~~~~~~~~~~~~~~~~~~~~~~~~~~~~~~~~\n",
      "Running tests\n",
      "\n",
      "---------------------------------------------------------------------\n",
      "Test summary\n",
      "    Passed: 1\n",
      "    Failed: 0\n",
      "[ooooooooook] 100.0% passed\n",
      "\n"
     ]
    }
   ],
   "source": [
    "_ = lab10.grade(\"q22\")"
   ]
  },
  {
   "cell_type": "markdown",
   "metadata": {},
   "source": [
    "**Question 2.3.** How would a 1-Nearest Neighbor classifier trained on the same data classify that song?"
   ]
  },
  {
   "cell_type": "code",
   "execution_count": 13,
   "metadata": {
    "collapsed": true
   },
   "outputs": [],
   "source": [
    "# Set this to either the string \"Country\" or the string \"Hip-hop\",\n",
    "# depending on how you think a 1-NN classifier will classify the\n",
    "# star.\n",
    "q23_classification = \"Country\""
   ]
  },
  {
   "cell_type": "code",
   "execution_count": 14,
   "metadata": {
    "collapsed": false
   },
   "outputs": [
    {
     "name": "stdout",
     "output_type": "stream",
     "text": [
      "~~~~~~~~~~~~~~~~~~~~~~~~~~~~~~~~~~~~~~~~~~~~~~~~~~~~~~~~~~~~~~~~~~~~~\n",
      "Running tests\n",
      "\n",
      "---------------------------------------------------------------------\n",
      "Test summary\n",
      "    Passed: 1\n",
      "    Failed: 0\n",
      "[ooooooooook] 100.0% passed\n",
      "\n"
     ]
    }
   ],
   "source": [
    "_ = lab10.grade(\"q23\")"
   ]
  },
  {
   "cell_type": "markdown",
   "metadata": {},
   "source": [
    "**Question 2.4.** How would a 3-Nearest Neighbor classifier classify a song located at the center of the big star?\n",
    "\n",
    "<img src=\"2_4_song.jpg\">"
   ]
  },
  {
   "cell_type": "code",
   "execution_count": 17,
   "metadata": {
    "collapsed": true
   },
   "outputs": [],
   "source": [
    "# Set this to either the string \"Country\" or the string \"Hip-hop\",\n",
    "# depending on how you think a 3-NN classifier will classify the\n",
    "# star.\n",
    "q24_classification = \"Country\" "
   ]
  },
  {
   "cell_type": "code",
   "execution_count": 18,
   "metadata": {
    "collapsed": false
   },
   "outputs": [
    {
     "name": "stdout",
     "output_type": "stream",
     "text": [
      "~~~~~~~~~~~~~~~~~~~~~~~~~~~~~~~~~~~~~~~~~~~~~~~~~~~~~~~~~~~~~~~~~~~~~\n",
      "Running tests\n",
      "\n",
      "---------------------------------------------------------------------\n",
      "Test summary\n",
      "    Passed: 1\n",
      "    Failed: 0\n",
      "[ooooooooook] 100.0% passed\n",
      "\n"
     ]
    }
   ],
   "source": [
    "_ = lab10.grade(\"q24\")"
   ]
  },
  {
   "cell_type": "markdown",
   "metadata": {},
   "source": [
    "**Question 2.5.** How would a 1-Nearest Neighbor classifier classify that song?"
   ]
  },
  {
   "cell_type": "code",
   "execution_count": 21,
   "metadata": {
    "collapsed": true
   },
   "outputs": [],
   "source": [
    "# Set this to either the string \"Country\" or the string \"Hip-hop\",\n",
    "# depending on how you think a 1-NN classifier will classify the\n",
    "# star.\n",
    "q25_classification = \"Hip-hop\""
   ]
  },
  {
   "cell_type": "code",
   "execution_count": 22,
   "metadata": {
    "collapsed": false
   },
   "outputs": [
    {
     "name": "stdout",
     "output_type": "stream",
     "text": [
      "~~~~~~~~~~~~~~~~~~~~~~~~~~~~~~~~~~~~~~~~~~~~~~~~~~~~~~~~~~~~~~~~~~~~~\n",
      "Running tests\n",
      "\n",
      "---------------------------------------------------------------------\n",
      "Test summary\n",
      "    Passed: 1\n",
      "    Failed: 0\n",
      "[ooooooooook] 100.0% passed\n",
      "\n"
     ]
    }
   ],
   "source": [
    "_ = lab10.grade(\"q25\")"
   ]
  },
  {
   "cell_type": "markdown",
   "metadata": {},
   "source": [
    "**Question 2.6.** Describe two regions of \"style\"-\"truck\" space (that is, two regions of the graph) where a 1-Nearest Neighbor classifier makes decisions that seem wrong."
   ]
  },
  {
   "cell_type": "markdown",
   "metadata": {},
   "source": [
    "*Write your answer here, replacing this text.*"
   ]
  },
  {
   "cell_type": "markdown",
   "metadata": {},
   "source": [
    "### How do we measure whether we’ve met our goals?\n",
    "k-Nearest Neighbors sounds reasonable, but as you saw above, it's not always going to work well.  Depending on the application, the consequences of bad classication could range from losing a company money to endangering patients' lives.  So before we use a classifier, it's important to verify that it works well enough for the application.\n",
    "\n",
    "Ideally, we'd make a prediction for everyone in the population and check how many we get right, in the same way you checked a classifier's accuracy for a few songs in question 1.2.\n",
    "\n",
    "<img src=\"2_population_accuracy_redux.jpg\">\n",
    "\n",
    "But again, we don’t have access to the outcomes of everyone in the population.\n",
    "This is a problem we’ve seen and solved before.  When pollsters want to find out what proportion of people in a population will vote for a candidate, they take a random sample and estimate the population proportion by the sample proportion.\n",
    "\n",
    "<img src=\"2_polling_example.jpg\">\n",
    "\n",
    "Similarly, we can compute the accuracy of our classifier on a sample that we do have access to.\n",
    "\n",
    "<img src=\"2_sample_accuracy.jpg\">\n",
    "\n",
    "In practice we usually have access to just 1 dataset, so we use part of it to train and the rest to test, simulating two separate samples from the population.  Often the first step in a data analysis is to split all the available data into a training set and a test set."
   ]
  },
  {
   "cell_type": "markdown",
   "metadata": {},
   "source": [
    "Why do we use separate data for training and test?  Because a classifier will often work better on its training data than on the rest of the population.  If we train and test on the same data, the picture looks like this:\n",
    "\n",
    "<img src=\"2_test_on_training.jpg\">\n",
    "\n",
    "...but if we use separate data, then it looks like this:\n",
    "\n",
    "<img src=\"2_test_on_test.jpg\">\n",
    "\n",
    "**Question 2.7.** Explain this phenomenon in your own words.  Concretely, say that we have one random sample from the population and we use that whole sample to train **and** the same sample to test.  Why isn’t that like testing on a separate random sample from the population?"
   ]
  },
  {
   "cell_type": "markdown",
   "metadata": {},
   "source": [
    "*Write your answer here, replacing this text.*"
   ]
  },
  {
   "cell_type": "markdown",
   "metadata": {},
   "source": [
    "### An example\n",
    "Suppose we train a 1-Nearest Neighbor classifier on the training data in this picture:\n",
    "\n",
    "<img src=\"2_training_graph.jpg\">\n",
    "\n",
    "We'll use the classifier trained on this data for questions 2.8 through 2.9.\n",
    "\n",
    "**Question 2.8.** What is the accuracy of the classifier on *the same training set*?  That is, what proportion of songs in the training set are correctly classified?"
   ]
  },
  {
   "cell_type": "code",
   "execution_count": 21,
   "metadata": {
    "collapsed": true
   },
   "outputs": [],
   "source": [
    "q28_accuracy = ]"
   ]
  },
  {
   "cell_type": "code",
   "execution_count": 22,
   "metadata": {
    "collapsed": false
   },
   "outputs": [],
   "source": [
    "_ = lab10.grade(\"q28\")"
   ]
  },
  {
   "cell_type": "markdown",
   "metadata": {},
   "source": [
    "Now suppose our population actually looks like this:\n",
    "\n",
    "<img src=\"2_population_graph.jpg\">\n",
    "\n",
    "**Question 2.9.** Is the true accuracy (the accuracy on the whole population) of the classifier roughly the same as its accuracy on the training set, which we computed above?"
   ]
  },
  {
   "cell_type": "markdown",
   "metadata": {},
   "source": [
    "*Write your answer here, replacing this text.*"
   ]
  },
  {
   "cell_type": "markdown",
   "metadata": {},
   "source": [
    "Now we take a new sample from the population (disjoint from the training set) and use that as our test set.  The training set (the same one we've been using for this whole section) is overlaid for convenience.\n",
    "\n",
    "<img src=\"2_test_graph.jpg\">\n",
    "\n",
    "**Question 2.10.** What is the exact accuracy of the 1-Nearest Neighbor classifier on this test set?  You'll have to manually examine each point."
   ]
  },
  {
   "cell_type": "code",
   "execution_count": 23,
   "metadata": {
    "collapsed": true
   },
   "outputs": [],
   "source": [
    "q210_accuracy = ..."
   ]
  },
  {
   "cell_type": "code",
   "execution_count": 24,
   "metadata": {
    "collapsed": false
   },
   "outputs": [],
   "source": [
    "_ = lab10.grade(\"q210\")"
   ]
  },
  {
   "cell_type": "markdown",
   "metadata": {},
   "source": [
    "# 3. Beyond train/test: Model selection\n",
    "The ideas in this section are used in part 4 of Project 2, in which you'll try to find good features and a good value of `k`.  You might want to revisit this section if you get stuck or confused when you're working on that part of the project.\n",
    "\n",
    "### What if we want to try out several classifiers and pick the best one?\n",
    "Here's a scenario a student brought up in class: Suppose we'd like to do k-Nearest Neighbors, but we don't know how to pick `k`.\n",
    "\n",
    "Here's a simple solution: Take your training data and train a 1-NN classifier, a 3-NN classifier, a 5-NN classifier, and so on.  Then check each one's accuracy on another sample from the population and pick the one with the best accuracy on that sample.  We call this new sample the \"validation set\" for reasons we'll discuss soon.\n",
    "\n",
    "<img src=\"3_model_selection.jpg\">\n",
    "\n",
    "That simple solution is a pretty good idea!  This procedure -- trying lots of classifiers and picking the best -- is called *model selection*."
   ]
  },
  {
   "cell_type": "markdown",
   "metadata": {},
   "source": [
    "**Question 3.1.** Complete the function below called `make_best_knn_classifier`.  It takes two arguments: a training set and a validation set.  Both are tables with the same columns as `lyrics`, whose first column is the song's genre.  `make_best_knn_classifier` should return a k-Nearest Neighbors classifier trained on the training set.  (That's a function, so `make_best_knn_classifier` is a higher-order function.)  It should choose the value of `k` from among the numbers 1, 3, 5, 7, and 9 using the procedure from the picture above:\n",
    "1. Train one k-Nearest Neighbors classifier for each value of `k`.\n",
    "2. Compute each classifier's accuracy on the validation set.\n",
    "3. Choose the classifier with the best validation-set accuracy.  (For example, in the picture, that turned out to be the 5-Nearest Neighbors classifier.)  Return that classifier.\n",
    "\n",
    "We've filled in most of the function for you, including the part that trains k-Nearest Neighbors classifiers.  You'll do that part in Project 2."
   ]
  },
  {
   "cell_type": "code",
   "execution_count": 25,
   "metadata": {
    "collapsed": true
   },
   "outputs": [],
   "source": [
    "def make_best_knn_classifier(training_set, validation_set):\n",
    "    ks = np.arange(1, 11, 2)\n",
    "    classifiers = Table().with_column(\"k\", ks)\n",
    "    \n",
    "    def make_classifier_for_k(k):\n",
    "        # make_knn_classifier behaves like make_classifier, except that\n",
    "        # it produces a k-Nearest Neighbor classifier.  It therefore\n",
    "        # takes two arguments: A training set (like make_classifier did)\n",
    "        # and an odd integer to use as k.  It returns a classifier.\n",
    "        return make_knn_classifier(training_set, k)\n",
    "    \n",
    "    classifiers.append_column(\"classifier\", classifiers.apply(make_classifier_for_k, \"k\"))\n",
    "    \n",
    "    def validation_accuracy(classifier):\n",
    "        predicted_labels = validation_set.drop(0).apply(classifier)\n",
    "        true_labels = validation_set.column(0)\n",
    "        validation_set_size = validation_set.num_rows\n",
    "        num_correct_classifications = np.count_nonzero(predicted_labels == true_labels)\n",
    "        return num_correct_classifications / validation_set_size\n",
    "    \n",
    "    # START FILLING IN CODE BELOW HERE.\n",
    "    # So far we've generated a table with one row for each each value\n",
    "    # of k, and two columns:\n",
    "    #   \"k\":           The value of k.\n",
    "    #   \"classifier\":  A k-Nearest Neighbor classifier trained on\n",
    "    #                  training_set.  (Yes, we're storing *functions*\n",
    "    #                  in a table.)\n",
    "    # Add a column to this table called \"accuracy\" that is the accuracy\n",
    "    # of each classifier on the validation set.\n",
    "    # Hint: Use validation_accuracy, which we've written above.\n",
    "    classifiers.append_column(\n",
    "            \"accuracy\",\n",
    "            ...\n",
    "        )\n",
    "    \n",
    "    # Now we've computed the accuracy of each classifier.  Return the\n",
    "    # classifier with the best accuracy.  Again, the classifier\n",
    "    # functions are stored in the \"classifier\" column of the classifiers\n",
    "    # table.\n",
    "    ..."
   ]
  },
  {
   "cell_type": "code",
   "execution_count": 26,
   "metadata": {
    "collapsed": false
   },
   "outputs": [],
   "source": [
    "_ = lab10.grade(\"q31\")"
   ]
  },
  {
   "cell_type": "markdown",
   "metadata": {},
   "source": [
    "### How do we test this?\n",
    "Suppose you use `make_best_knn_classifier` to make a classifier.  You consider using the accuracy of that classifier on the validation set, which you computed in `classifiers.column(\"accuracy\")` inside `make_best_knn_classifier`, as an estimate of its accuracy in the population.  Is that a good idea?\n",
    "\n",
    "No!\n",
    "\n",
    "You should think of `make_best_knn_classifier` as a big compound training procedure that produced one classifier.  It’s like when you found the best line in linear regression by trying lots of lines, except that now we’re finding the best k.  Inside that training procedure, you peeked at the validation set to pick the classifier you used.  You used it for a different purpose than the training set, but you still used it.  So you’re going to do better on that data than on the rest of the population.  We have to make yet another test set to test out this one.\n",
    "\n",
    "That's why we call the second argument to `make_best_knn_classifier` the \"validation set.\"  We reserve the name \"test set\" for the dataset you test on at the very end, once you’ve built the model you’re finally going to use.\n",
    "\n",
    "Here's a picture of the right procedure for training and testing a classifier with `make_best_knn_classifier`:\n",
    "\n",
    "<img src=\"3_validation.jpg\">"
   ]
  },
  {
   "cell_type": "markdown",
   "metadata": {},
   "source": [
    "**Question 3.2.** Call `make_best_knn_classifier` to make a classifier, using the first 80 examples in `lyrics` as a training set and the next 10 examples as a validation set.  Call the classifier `best_knn_classifier`."
   ]
  },
  {
   "cell_type": "code",
   "execution_count": 27,
   "metadata": {
    "collapsed": true
   },
   "outputs": [],
   "source": [
    "# Set best_knn_classifier to the classifier produced by make_best_knn_classifier\n",
    "# on the datasets described above.\n",
    "best_knn_classifier = ..."
   ]
  },
  {
   "cell_type": "code",
   "execution_count": 28,
   "metadata": {
    "collapsed": false
   },
   "outputs": [],
   "source": [
    "_ = lab10.grade(\"q32\")"
   ]
  },
  {
   "cell_type": "markdown",
   "metadata": {},
   "source": [
    "**Question 3.3.** Test the performance of `best_knn_classifier` on the last 10 examples in `lyrics`.  That is, compute the proportion of correct classifications it makes for that dataset."
   ]
  },
  {
   "cell_type": "code",
   "execution_count": 29,
   "metadata": {
    "collapsed": false
   },
   "outputs": [],
   "source": [
    "# We recommend computing the test set table first and calling it q33_test_set.\n",
    "q33_test_set = ...\n",
    "# Now compute the proportion of correct answers best_knn_classifier gives on\n",
    "# q33_test_set.\n",
    "q33_accuracy = ...\n",
    "q33_accuracy"
   ]
  },
  {
   "cell_type": "code",
   "execution_count": 30,
   "metadata": {
    "collapsed": false
   },
   "outputs": [],
   "source": [
    "_ = lab10.grade(\"q33\")"
   ]
  },
  {
   "cell_type": "markdown",
   "metadata": {},
   "source": [
    "Since you only used 10 songs to test your classifier, you should be skeptical about `q33_accuracy`, just like you'd be skeptical about a poll of only 10 voters.  In the project you'll use larger datasets to get better classifiers and more plausible accuracy numbers."
   ]
  },
  {
   "cell_type": "code",
   "execution_count": 72,
   "metadata": {
    "collapsed": false
   },
   "outputs": [
    {
     "name": "stdout",
     "output_type": "stream",
     "text": [
      "Running all tests...\n",
      "~~~~~~~~~~~~~~~~~~~~~~~~~~~~~~~~~~~~~~~~~~~~~~~~~~~~~~~~~~~~~~~~~~~~~\n",
      "Running tests\n",
      "\n",
      "---------------------------------------------------------------------\n",
      "Test summary\n",
      "    Passed: 2\n",
      "    Failed: 0\n",
      "[ooooooooook] 100.0% passed\n",
      "\n",
      "~~~~~~~~~~~~~~~~~~~~~~~~~~~~~~~~~~~~~~~~~~~~~~~~~~~~~~~~~~~~~~~~~~~~~\n",
      "Running tests\n",
      "\n",
      "---------------------------------------------------------------------\n",
      "Test summary\n",
      "    Passed: 2\n",
      "    Failed: 0\n",
      "[ooooooooook] 100.0% passed\n",
      "\n",
      "~~~~~~~~~~~~~~~~~~~~~~~~~~~~~~~~~~~~~~~~~~~~~~~~~~~~~~~~~~~~~~~~~~~~~\n",
      "Running tests\n",
      "\n",
      "---------------------------------------------------------------------\n",
      "Test summary\n",
      "    Passed: 2\n",
      "    Failed: 0\n",
      "[ooooooooook] 100.0% passed\n",
      "\n",
      "~~~~~~~~~~~~~~~~~~~~~~~~~~~~~~~~~~~~~~~~~~~~~~~~~~~~~~~~~~~~~~~~~~~~~\n",
      "Running tests\n",
      "\n",
      "---------------------------------------------------------------------\n",
      "Test summary\n",
      "    Passed: 1\n",
      "    Failed: 0\n",
      "[ooooooooook] 100.0% passed\n",
      "\n",
      "~~~~~~~~~~~~~~~~~~~~~~~~~~~~~~~~~~~~~~~~~~~~~~~~~~~~~~~~~~~~~~~~~~~~~\n",
      "Running tests\n",
      "\n",
      "---------------------------------------------------------------------\n",
      "Question > Suite 1 > Case 1\n",
      "\n",
      ">>> q210_accuracy == 6/10\n",
      "NameError: name 'q210_accuracy' is not defined\n",
      "\n",
      "# Error: expected\n",
      "#     True\n",
      "# but got\n",
      "#     NameError\n",
      "\n",
      "---------------------------------------------------------------------\n",
      "Test summary\n",
      "    Passed: 0\n",
      "    Failed: 1\n",
      "[k..........] 0.0% passed\n",
      "\n",
      "~~~~~~~~~~~~~~~~~~~~~~~~~~~~~~~~~~~~~~~~~~~~~~~~~~~~~~~~~~~~~~~~~~~~~\n",
      "Running tests\n",
      "\n",
      "---------------------------------------------------------------------\n",
      "Question > Suite 1 > Case 1\n",
      "\n",
      ">>> # All 3 nearest neighbors to the green star are red dots, which\n",
      ">>> # are country songs.\n",
      ">>> q22_classification == \"Country\"\n",
      "NameError: name 'q22_classification' is not defined\n",
      "\n",
      "# Error: expected\n",
      "#     True\n",
      "# but got\n",
      "#     NameError\n",
      "\n",
      "---------------------------------------------------------------------\n",
      "Test summary\n",
      "    Passed: 0\n",
      "    Failed: 1\n",
      "[k..........] 0.0% passed\n",
      "\n",
      "~~~~~~~~~~~~~~~~~~~~~~~~~~~~~~~~~~~~~~~~~~~~~~~~~~~~~~~~~~~~~~~~~~~~~\n",
      "Running tests\n",
      "\n",
      "---------------------------------------------------------------------\n",
      "Question > Suite 1 > Case 1\n",
      "\n",
      ">>> # The nearest neighbor to the green star is a red dot, which\n",
      ">>> # is a country song.\n",
      ">>> q23_classification == \"Country\"\n",
      "NameError: name 'q23_classification' is not defined\n",
      "\n",
      "# Error: expected\n",
      "#     True\n",
      "# but got\n",
      "#     NameError\n",
      "\n",
      "---------------------------------------------------------------------\n",
      "Test summary\n",
      "    Passed: 0\n",
      "    Failed: 1\n",
      "[k..........] 0.0% passed\n",
      "\n",
      "~~~~~~~~~~~~~~~~~~~~~~~~~~~~~~~~~~~~~~~~~~~~~~~~~~~~~~~~~~~~~~~~~~~~~\n",
      "Running tests\n",
      "\n",
      "---------------------------------------------------------------------\n",
      "Question > Suite 1 > Case 1\n",
      "\n",
      ">>> # The nearest neighbor to the green star is a hip-hop song, but\n",
      ">>> # the next two nearest neighbors are country songs.  The majority\n",
      ">>> # among those three is Country.\n",
      ">>> q24_classification == \"Country\"\n",
      "NameError: name 'q24_classification' is not defined\n",
      "\n",
      "# Error: expected\n",
      "#     True\n",
      "# but got\n",
      "#     NameError\n",
      "\n",
      "---------------------------------------------------------------------\n",
      "Test summary\n",
      "    Passed: 0\n",
      "    Failed: 1\n",
      "[k..........] 0.0% passed\n",
      "\n",
      "~~~~~~~~~~~~~~~~~~~~~~~~~~~~~~~~~~~~~~~~~~~~~~~~~~~~~~~~~~~~~~~~~~~~~\n",
      "Running tests\n",
      "\n",
      "---------------------------------------------------------------------\n",
      "Question > Suite 1 > Case 1\n",
      "\n",
      ">>> # The nearest neighbor to the green star is a hip-hop song, so\n",
      ">>> # this song will be classified as Hip-hop, even though to our\n",
      ">>> # eyes it looks deep in Country territory.\n",
      ">>> q25_classification == \"Hip-hop\"\n",
      "NameError: name 'q25_classification' is not defined\n",
      "\n",
      "# Error: expected\n",
      "#     True\n",
      "# but got\n",
      "#     NameError\n",
      "\n",
      "---------------------------------------------------------------------\n",
      "Test summary\n",
      "    Passed: 0\n",
      "    Failed: 1\n",
      "[k..........] 0.0% passed\n",
      "\n",
      "~~~~~~~~~~~~~~~~~~~~~~~~~~~~~~~~~~~~~~~~~~~~~~~~~~~~~~~~~~~~~~~~~~~~~\n",
      "Running tests\n",
      "\n",
      "---------------------------------------------------------------------\n",
      "Question > Suite 1 > Case 1\n",
      "\n",
      ">>> # Think about classifying a song in the training set.  Since it's\n",
      ">>> # in the training set, when the 1-NN classifier looks for its\n",
      ">>> # single nearest neighbor in the training set, the song is its\n",
      ">>> # own nearest neighbor!  So it gets classified with its own\n",
      ">>> # genre, which is of course correct.\n",
      ">>> q28_accuracy == 1.0\n",
      "NameError: name 'q28_accuracy' is not defined\n",
      "\n",
      "# Error: expected\n",
      "#     True\n",
      "# but got\n",
      "#     NameError\n",
      "\n",
      "---------------------------------------------------------------------\n",
      "Test summary\n",
      "    Passed: 0\n",
      "    Failed: 1\n",
      "[k..........] 0.0% passed\n",
      "\n",
      "~~~~~~~~~~~~~~~~~~~~~~~~~~~~~~~~~~~~~~~~~~~~~~~~~~~~~~~~~~~~~~~~~~~~~\n",
      "Running tests\n",
      "\n",
      "---------------------------------------------------------------------\n",
      "Question > Suite 1 > Case 1\n",
      "\n",
      ">>> your_classifier = make_best_knn_classifier(lyrics.take(range(20)), lyrics.take(range(20, 25)))\n",
      "NameError: name 'make_best_knn_classifier' is not defined\n",
      "\n",
      "# Error: expected\n",
      "#     \n",
      "# but got\n",
      "#     NameError\n",
      "\n",
      "---------------------------------------------------------------------\n",
      "Test summary\n",
      "    Passed: 0\n",
      "    Failed: 1\n",
      "[k..........] 0.0% passed\n",
      "\n",
      "~~~~~~~~~~~~~~~~~~~~~~~~~~~~~~~~~~~~~~~~~~~~~~~~~~~~~~~~~~~~~~~~~~~~~\n",
      "Running tests\n",
      "\n",
      "---------------------------------------------------------------------\n",
      "Question > Suite 1 > Case 1\n",
      "\n",
      ">>> import collections\n",
      ">>> # Your classifier should be a function.\n",
      ">>> isinstance(best_knn_classifier, collections.Callable)\n",
      "NameError: name 'best_knn_classifier' is not defined\n",
      "\n",
      "# Error: expected\n",
      "#     True\n",
      "# but got\n",
      "#     NameError\n",
      "\n",
      "---------------------------------------------------------------------\n",
      "Test summary\n",
      "    Passed: 0\n",
      "    Failed: 1\n",
      "[k..........] 0.0% passed\n",
      "\n",
      "~~~~~~~~~~~~~~~~~~~~~~~~~~~~~~~~~~~~~~~~~~~~~~~~~~~~~~~~~~~~~~~~~~~~~\n",
      "Running tests\n",
      "\n",
      "---------------------------------------------------------------------\n",
      "Question > Suite 1 > Case 1\n",
      "\n",
      ">>> q33_accuracy == 0.7\n",
      "NameError: name 'q33_accuracy' is not defined\n",
      "\n",
      "# Error: expected\n",
      "#     True\n",
      "# but got\n",
      "#     NameError\n",
      "\n",
      "---------------------------------------------------------------------\n",
      "Test summary\n",
      "    Passed: 0\n",
      "    Failed: 1\n",
      "[k..........] 0.0% passed\n",
      "\n",
      "Finished running all tests.\n"
     ]
    }
   ],
   "source": [
    "# For your convenience, you can run this cell to run all the tests at once!\n",
    "import os\n",
    "print(\"Running all tests...\")\n",
    "_ = [lab10.grade(q[:-3]) for q in os.listdir(\"tests\") if q.startswith('q')]\n",
    "print(\"Finished running all tests.\")"
   ]
  },
  {
   "cell_type": "code",
   "execution_count": null,
   "metadata": {
    "collapsed": true
   },
   "outputs": [],
   "source": []
  }
 ],
 "metadata": {
  "kernelspec": {
   "display_name": "Python 3",
   "language": "python",
   "name": "python3"
  },
  "language_info": {
   "codemirror_mode": {
    "name": "ipython",
    "version": 3
   },
   "file_extension": ".py",
   "mimetype": "text/x-python",
   "name": "python",
   "nbconvert_exporter": "python",
   "pygments_lexer": "ipython3",
   "version": "3.4.4"
  }
 },
 "nbformat": 4,
 "nbformat_minor": 0
}
