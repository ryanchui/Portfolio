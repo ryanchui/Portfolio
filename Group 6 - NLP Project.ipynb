{
 "cells": [
  {
   "cell_type": "markdown",
   "metadata": {
    "scrolled": true
   },
   "source": [
    "### Arthor : Ryan Chui, Prasad Chavan, Mayuresh Nene\n",
    "### Term Project: DSCI 644: Software Engineering for Data Science "
   ]
  },
  {
   "cell_type": "code",
   "execution_count": 1,
   "metadata": {},
   "outputs": [
    {
     "name": "stderr",
     "output_type": "stream",
     "text": [
      "[nltk_data] Downloading package stopwords to\n",
      "[nltk_data]     /Users/ryanchui/nltk_data...\n",
      "[nltk_data]   Package stopwords is already up-to-date!\n"
     ]
    },
    {
     "name": "stdout",
     "output_type": "stream",
     "text": [
      "['Issue_id', 'Duplicated_issue', 'Title1', 'Description1', 'Title2', 'Description2', 'Label']\n"
     ]
    }
   ],
   "source": [
    "import nltk\n",
    "nltk.download('stopwords')\n",
    "import nltk.corpus\n",
    "import pandas as pd\n",
    "import string\n",
    "import re\n",
    "\n",
    "import multiprocessing\n",
    "import gensim\n",
    "\n",
    "from nltk.tokenize import word_tokenize\n",
    "from nltk.corpus import stopwords, wordnet\n",
    "from nltk.stem import WordNetLemmatizer\n",
    "import matplotlib.pyplot as plt\n",
    "\n",
    "data_df = pd.read_csv('Duplicate Bug Report/Eclipse/EP_dup.csv')\n",
    "data_df.head()\n",
    "print (list(data_df))\n",
    "\n",
    "data_df['Description1']=data_df['Description1'].fillna('').apply(str)\n",
    "data_df['Description2']=data_df['Description2'].fillna('').apply(str)\n",
    "data_df['Title1']=data_df['Title1'].fillna('').apply(str)\n",
    "data_df['Title2']=data_df['Title2'].fillna('').apply(str)"
   ]
  },
  {
   "cell_type": "code",
   "execution_count": 2,
   "metadata": {},
   "outputs": [
    {
     "name": "stdout",
     "output_type": "stream",
     "text": [
      "['Issue_id', 'Duplicated_issue', 'Title1', 'Description1', 'Title2', 'Description2', 'Label']\n"
     ]
    },
    {
     "data": {
      "text/plain": [
       "0    setup a project that contains a .gif resource ...\n",
       "1    opening repository resource  open the default ...\n",
       "2    kmpm \\tthis pr about the deletion indicator in...\n",
       "3    become synchronized with some project in a rep...\n",
       "4    for gettingsetting the managed state of a reso...\n",
       "5    iresource.setlocal has problems. this method w...\n",
       "6    the platform is able to notify people that a r...\n",
       "7    with the current vcm api a repository adapter ...\n",
       "8    the implementation has to be changed because a...\n",
       "9    repository creationdeletion  team stream creat...\n",
       "Name: Description1, dtype: object"
      ]
     },
     "execution_count": 2,
     "metadata": {},
     "output_type": "execute_result"
    }
   ],
   "source": [
    "nodup_df = pd.read_csv('Duplicate Bug Report/Eclipse/EP_nondup.csv',encoding='cp1252')\n",
    "nodup_df.head()\n",
    "print (list(nodup_df))\n",
    "\n",
    "nodup_df['Description1']=nodup_df['Description1'].fillna('').apply(str)\n",
    "nodup_df['Description2']=nodup_df['Description2'].fillna('').apply(str)\n",
    "nodup_df['Title1']=nodup_df['Title1'].fillna('').apply(str)\n",
    "nodup_df['Title2']=nodup_df['Title2'].fillna('').apply(str)\n",
    "\n",
    "nodup_df['Description1'].head(10)"
   ]
  },
  {
   "cell_type": "code",
   "execution_count": 3,
   "metadata": {},
   "outputs": [],
   "source": [
    "from nltk.corpus import stopwords\n",
    "from nltk.stem import WordNetLemmatizer\n",
    "import re\n",
    "# stop_words = stopwords.words('english')\n",
    "# print(stop_words)"
   ]
  },
  {
   "cell_type": "markdown",
   "metadata": {},
   "source": [
    "### Applying cleaning, tokenization, and Lemmatization method"
   ]
  },
  {
   "cell_type": "code",
   "execution_count": 4,
   "metadata": {},
   "outputs": [],
   "source": [
    "def identify_tokens(row):\n",
    "    review = row['Description1']\n",
    "    tokens = nltk.word_tokenize(review)\n",
    "    token_words = [w for w in tokens if w.isalpha()]\n",
    "    return token_words\n",
    "\n",
    "data_df['Description1_clean'] = data_df.apply(identify_tokens, axis=1)\n",
    "nodup_df['Description1_clean'] = nodup_df.apply(identify_tokens, axis=1)\n",
    "\n",
    "def identify_tokens(row):\n",
    "    review = row['Description2']\n",
    "    tokens = nltk.word_tokenize(review)\n",
    "    token_words = [w for w in tokens if w.isalpha()]\n",
    "    return token_words\n",
    "\n",
    "data_df['Description2_clean'] = data_df.apply(identify_tokens, axis=1)\n",
    "nodup_df['Description2_clean'] = nodup_df.apply(identify_tokens, axis=1)"
   ]
  },
  {
   "cell_type": "code",
   "execution_count": 5,
   "metadata": {},
   "outputs": [],
   "source": [
    "from nltk.corpus import stopwords\n",
    "stops = set(stopwords.words(\"english\"))                  \n",
    "\n",
    "def remove_stops(row):\n",
    "    my_list = row['Description1_clean']\n",
    "    meaningful_words = [w for w in my_list if not w in stops]\n",
    "    return (meaningful_words)\n",
    "\n",
    "data_df['Description1_clean'] = data_df.apply(remove_stops, axis=1)\n",
    "nodup_df['Description1_clean'] = nodup_df.apply(remove_stops, axis=1)\n",
    "\n",
    "def remove_stops(row):\n",
    "    my_list = row['Description2_clean']\n",
    "    meaningful_words = [w for w in my_list if not w in stops]\n",
    "    return (meaningful_words)\n",
    "\n",
    "data_df['Description2_clean'] = data_df.apply(remove_stops, axis=1)\n",
    "nodup_df['Description2_clean'] = nodup_df.apply(remove_stops, axis=1)"
   ]
  },
  {
   "cell_type": "markdown",
   "metadata": {},
   "source": [
    "### Instantiate Stemmer to join the words back together"
   ]
  },
  {
   "cell_type": "code",
   "execution_count": 6,
   "metadata": {},
   "outputs": [],
   "source": [
    "def rejoin_words(row):\n",
    "    my_list = row['Description1_clean']\n",
    "    \n",
    "    # \" \".join() to the function to join the lists of words back together.\n",
    "    joined_words = ( \" \".join(my_list))\n",
    "    \n",
    "    return joined_words\n",
    "\n",
    "data_df['Description1_processed'] = data_df.apply(rejoin_words, axis=1)\n",
    "nodup_df['Description1_processed'] = nodup_df.apply(rejoin_words, axis=1)\n",
    "\n",
    "def rejoin_words(row):\n",
    "    my_list = row['Description2_clean']\n",
    "    \n",
    "    # \" \".join() to the function to join the lists of words back together.\n",
    "    joined_words = ( \" \".join(my_list))\n",
    "    \n",
    "    return joined_words\n",
    "\n",
    "data_df['Description2_processed'] = data_df.apply(rejoin_words, axis=1)\n",
    "nodup_df['Description2_processed'] = nodup_df.apply(rejoin_words, axis=1)\n",
    "\n",
    "# data_df.to_csv('EU_DUP_Processed.csv')\n",
    "# nodup_df.to_csv('EU_Nondup_Processed.csv')"
   ]
  },
  {
   "cell_type": "code",
   "execution_count": 7,
   "metadata": {},
   "outputs": [],
   "source": [
    "x = data_df.loc[data_df['Label'] == 1, ['Description1_clean', 'Description1_processed', 'Label']]\n",
    "y = data_df.loc[data_df['Label'] == 1, ['Description2_clean','Description2_processed', 'Label']]\n",
    "\n",
    "## Relabeling for appending correctly..\n",
    "x.columns = x.columns.str.replace('Description1_processed', 'Processed')\n",
    "y.columns = y.columns.str.replace('Description2_processed', 'Processed')\n",
    "\n",
    "dup_out = x.append(y, ignore_index=True)\n",
    "\n",
    "\n",
    "m = nodup_df.loc[nodup_df['Label'] == 0, ['Description1_clean', 'Description1_processed', 'Label']]\n",
    "n = nodup_df.loc[nodup_df['Label'] == 0, ['Description2_clean', 'Description2_processed', 'Label']]\n",
    "\n",
    "## Relabeling for appending correctly..\n",
    "m.columns = x.columns.str.replace('Description1_processed', 'Processed')\n",
    "n.columns = y.columns.str.replace('Description2_processed', 'Processed')\n",
    "\n",
    "no_dup_out = m.append(n, ignore_index=True)\n",
    "no_dup_out\n",
    "\n",
    "final_out = dup_out.append(no_dup_out, ignore_index=True)\n",
    "# final_out.head(15)\n",
    "# final_out.to_csv('Final_df.csv')"
   ]
  },
  {
   "cell_type": "code",
   "execution_count": 14,
   "metadata": {},
   "outputs": [],
   "source": [
    "final_des1 = x.append(m , ignore_index=True)\n",
    "final_des2 = y.append(n , ignore_index=True)\n",
    "# final_des1.to_csv('duplicate.csv')"
   ]
  },
  {
   "cell_type": "code",
   "execution_count": 15,
   "metadata": {},
   "outputs": [
    {
     "data": {
      "text/plain": [
       "<matplotlib.axes._subplots.AxesSubplot at 0x1a633649d0>"
      ]
     },
     "execution_count": 15,
     "metadata": {},
     "output_type": "execute_result"
    },
    {
     "data": {
      "image/png": "[encoded data removed]",
      "text/plain": [
       "<Figure size 432x288 with 1 Axes>"
      ]
     },
     "metadata": {
      "needs_background": "light"
     },
     "output_type": "display_data"
    }
   ],
   "source": [
    "all_data = pd.concat([data_df, nodup_df])\n",
    "## Simple EDA..\n",
    "all_data['Label'].value_counts().plot(kind = 'bar', title = 'Duplicate vs Non-Duplicate')"
   ]
  },
  {
   "cell_type": "markdown",
   "metadata": {},
   "source": [
    "#### Above suggests that there are 12688 comments are classified as duplicates, and 34222 comments are classified as non-duplicates, and this is generally true when our group verified from 'EU_dup' and 'EU_Nondup' files. Class seem to be inbalance between two classes given by the data. Now,  Consider to drop na values and fix null values before taining. Otherwise, this will give an error.."
   ]
  },
  {
   "cell_type": "code",
   "execution_count": 8,
   "metadata": {},
   "outputs": [
    {
     "name": "stdout",
     "output_type": "stream",
     "text": [
      "              precision    recall  f1-score   support\n",
      "\n",
      "         0.0       0.76      0.90      0.83     13768\n",
      "         1.0       0.46      0.23      0.31      4995\n",
      "\n",
      "    accuracy                           0.72     18763\n",
      "   macro avg       0.61      0.57      0.57     18763\n",
      "weighted avg       0.68      0.72      0.69     18763\n",
      "\n"
     ]
    },
    {
     "name": "stderr",
     "output_type": "stream",
     "text": [
      "/Users/ryanchui/opt/anaconda3/lib/python3.7/site-packages/sklearn/linear_model/_logistic.py:940: ConvergenceWarning: lbfgs failed to converge (status=1):\n",
      "STOP: TOTAL NO. of ITERATIONS REACHED LIMIT.\n",
      "\n",
      "Increase the number of iterations (max_iter) or scale the data as shown in:\n",
      "    https://scikit-learn.org/stable/modules/preprocessing.html\n",
      "Please also refer to the documentation for alternative solver options:\n",
      "    https://scikit-learn.org/stable/modules/linear_model.html#logistic-regression\n",
      "  extra_warning_msg=_LOGISTIC_SOLVER_CONVERGENCE_MSG)\n"
     ]
    }
   ],
   "source": [
    "from sklearn.feature_extraction.text import CountVectorizer\n",
    "from sklearn.feature_extraction.text import TfidfTransformer\n",
    "from sklearn.feature_extraction.text import TfidfVectorizer\n",
    "from sklearn.feature_extraction.text import TfidfTransformer\n",
    "from sklearn.linear_model import LogisticRegression\n",
    "from sklearn.pipeline import Pipeline\n",
    "from sklearn.model_selection import train_test_split\n",
    "from sklearn import naive_bayes \n",
    "from sklearn.naive_bayes import MultinomialNB\n",
    "\n",
    "from sklearn.metrics import accuracy_score, confusion_matrix\n",
    "from sklearn.metrics import classification_report\n",
    "from sklearn.neural_network import MLPClassifier\n",
    "\n",
    "y = final_out['Label'].values\n",
    "\n",
    "X = final_out['Processed'].values\n",
    "\n",
    "sentence_train, sentence_test, y_train, y_test = train_test_split(X, y, test_size=0.2, random_state = 42)\n",
    "\n",
    "## TF-IDF Vectorizer\n",
    "count_vec = CountVectorizer(binary = False, stop_words = 'english')\n",
    "count_vec.fit(sentence_train)\n",
    "\n",
    "X_train = count_vec.transform(sentence_train)\n",
    "X_test  = count_vec.transform(sentence_test)\n",
    "\n",
    "classifier = LogisticRegression()\n",
    "classifier.fit(X_train, y_train)\n",
    "\n",
    "y_pred = classifier.predict(X_test)\n",
    "print(classification_report(y_test, y_pred))"
   ]
  },
  {
   "cell_type": "markdown",
   "metadata": {},
   "source": [
    "We achieved 74% accuracy in logistic regression."
   ]
  },
  {
   "cell_type": "code",
   "execution_count": 9,
   "metadata": {},
   "outputs": [
    {
     "name": "stdout",
     "output_type": "stream",
     "text": [
      "mean length of sentence: 44.79221208374195\n",
      "max length of sentence: 783\n",
      "std dev length of sentence: 46.91913529974156\n"
     ]
    }
   ],
   "source": [
    "final_out['l'] = final_out['Processed'].apply(lambda x: len(str(x).split(' ')))\n",
    "print(\"mean length of sentence: \" + str(final_out.l.mean()))\n",
    "print(\"max length of sentence: \" + str(final_out.l.max()))\n",
    "print(\"std dev length of sentence: \" + str(final_out.l.std()))"
   ]
  },
  {
   "cell_type": "code",
   "execution_count": 10,
   "metadata": {},
   "outputs": [
    {
     "name": "stdout",
     "output_type": "stream",
     "text": [
      "Number of words in the first sentense:  34\n",
      "Display the first sentence:  would helpful notion default repository connection connected project wouldnt walk list everytime sure goes prefs never created maybe create mark one default minimum default repository type cvscc would helpful pulldown repo connection wizard default\n"
     ]
    }
   ],
   "source": [
    "print('Number of words in the first sentense: ', final_out.l[0])\n",
    "print('Display the first sentence: ', final_out['Processed'][0])"
   ]
  },
  {
   "cell_type": "code",
   "execution_count": 11,
   "metadata": {},
   "outputs": [
    {
     "name": "stderr",
     "output_type": "stream",
     "text": [
      "Using TensorFlow backend.\n",
      "/Users/ryanchui/opt/anaconda3/lib/python3.7/site-packages/tensorflow/python/framework/dtypes.py:516: FutureWarning: Passing (type, 1) or '1type' as a synonym of type is deprecated; in a future version of numpy, it will be understood as (type, (1,)) / '(1,)type'.\n",
      "  _np_qint8 = np.dtype([(\"qint8\", np.int8, 1)])\n",
      "/Users/ryanchui/opt/anaconda3/lib/python3.7/site-packages/tensorflow/python/framework/dtypes.py:517: FutureWarning: Passing (type, 1) or '1type' as a synonym of type is deprecated; in a future version of numpy, it will be understood as (type, (1,)) / '(1,)type'.\n",
      "  _np_quint8 = np.dtype([(\"quint8\", np.uint8, 1)])\n",
      "/Users/ryanchui/opt/anaconda3/lib/python3.7/site-packages/tensorflow/python/framework/dtypes.py:518: FutureWarning: Passing (type, 1) or '1type' as a synonym of type is deprecated; in a future version of numpy, it will be understood as (type, (1,)) / '(1,)type'.\n",
      "  _np_qint16 = np.dtype([(\"qint16\", np.int16, 1)])\n",
      "/Users/ryanchui/opt/anaconda3/lib/python3.7/site-packages/tensorflow/python/framework/dtypes.py:519: FutureWarning: Passing (type, 1) or '1type' as a synonym of type is deprecated; in a future version of numpy, it will be understood as (type, (1,)) / '(1,)type'.\n",
      "  _np_quint16 = np.dtype([(\"quint16\", np.uint16, 1)])\n",
      "/Users/ryanchui/opt/anaconda3/lib/python3.7/site-packages/tensorflow/python/framework/dtypes.py:520: FutureWarning: Passing (type, 1) or '1type' as a synonym of type is deprecated; in a future version of numpy, it will be understood as (type, (1,)) / '(1,)type'.\n",
      "  _np_qint32 = np.dtype([(\"qint32\", np.int32, 1)])\n",
      "/Users/ryanchui/opt/anaconda3/lib/python3.7/site-packages/tensorflow/python/framework/dtypes.py:525: FutureWarning: Passing (type, 1) or '1type' as a synonym of type is deprecated; in a future version of numpy, it will be understood as (type, (1,)) / '(1,)type'.\n",
      "  np_resource = np.dtype([(\"resource\", np.ubyte, 1)])\n",
      "/Users/ryanchui/opt/anaconda3/lib/python3.7/site-packages/tensorboard/compat/tensorflow_stub/dtypes.py:541: FutureWarning: Passing (type, 1) or '1type' as a synonym of type is deprecated; in a future version of numpy, it will be understood as (type, (1,)) / '(1,)type'.\n",
      "  _np_qint8 = np.dtype([(\"qint8\", np.int8, 1)])\n",
      "/Users/ryanchui/opt/anaconda3/lib/python3.7/site-packages/tensorboard/compat/tensorflow_stub/dtypes.py:542: FutureWarning: Passing (type, 1) or '1type' as a synonym of type is deprecated; in a future version of numpy, it will be understood as (type, (1,)) / '(1,)type'.\n",
      "  _np_quint8 = np.dtype([(\"quint8\", np.uint8, 1)])\n",
      "/Users/ryanchui/opt/anaconda3/lib/python3.7/site-packages/tensorboard/compat/tensorflow_stub/dtypes.py:543: FutureWarning: Passing (type, 1) or '1type' as a synonym of type is deprecated; in a future version of numpy, it will be understood as (type, (1,)) / '(1,)type'.\n",
      "  _np_qint16 = np.dtype([(\"qint16\", np.int16, 1)])\n",
      "/Users/ryanchui/opt/anaconda3/lib/python3.7/site-packages/tensorboard/compat/tensorflow_stub/dtypes.py:544: FutureWarning: Passing (type, 1) or '1type' as a synonym of type is deprecated; in a future version of numpy, it will be understood as (type, (1,)) / '(1,)type'.\n",
      "  _np_quint16 = np.dtype([(\"quint16\", np.uint16, 1)])\n",
      "/Users/ryanchui/opt/anaconda3/lib/python3.7/site-packages/tensorboard/compat/tensorflow_stub/dtypes.py:545: FutureWarning: Passing (type, 1) or '1type' as a synonym of type is deprecated; in a future version of numpy, it will be understood as (type, (1,)) / '(1,)type'.\n",
      "  _np_qint32 = np.dtype([(\"qint32\", np.int32, 1)])\n",
      "/Users/ryanchui/opt/anaconda3/lib/python3.7/site-packages/tensorboard/compat/tensorflow_stub/dtypes.py:550: FutureWarning: Passing (type, 1) or '1type' as a synonym of type is deprecated; in a future version of numpy, it will be understood as (type, (1,)) / '(1,)type'.\n",
      "  np_resource = np.dtype([(\"resource\", np.ubyte, 1)])\n"
     ]
    }
   ],
   "source": [
    "from pickle import load\n",
    "from numpy import array\n",
    "from keras.preprocessing.text import Tokenizer\n",
    "from keras.preprocessing.sequence import pad_sequences\n",
    "from keras.utils.vis_utils import plot_model\n",
    "from keras.models import Model\n",
    "from keras.layers import Input\n",
    "from keras.layers import Dense\n",
    "from keras.layers import Flatten\n",
    "from keras.layers import Dropout\n",
    "from keras.layers import Embedding\n",
    "from keras.layers.convolutional import Conv1D\n",
    "from keras.layers.convolutional import MaxPooling1D\n",
    "from keras.layers.merge import concatenate\n",
    "import pydotplus\n",
    "import keras.utils\n",
    "keras.utils.vis_utils.pydot = pydotplus\n",
    "\n",
    "from sklearn.preprocessing import LabelBinarizer, LabelEncoder\n",
    "from sklearn.metrics import confusion_matrix\n",
    "import tensorflow as tf\n",
    "import numpy as np\n",
    "\n",
    "from tensorflow import keras\n",
    "from keras.models import Sequential\n",
    "from keras.layers import Dense, Activation, Dropout\n",
    "from keras.preprocessing import text, sequence\n",
    "from keras import utils\n",
    "\n",
    "# fit a tokenizer\n",
    "def create_tokenizer(lines):\n",
    "    tokenizer = Tokenizer()\n",
    "    tokenizer.fit_on_texts(lines)\n",
    "    return tokenizer\n",
    " \n",
    "# calculate the maximum document length\n",
    "def max_length(lines):\n",
    "    return max([len(s.split()) for s in lines])\n",
    " \n",
    "# encode a list of lines\n",
    "def encode_text(tokenizer, lines, length):\n",
    "    # integer encode\n",
    "    encoded = tokenizer.texts_to_sequences(lines)\n",
    "    # pad encoded sequences\n",
    "    padded = pad_sequences(encoded, maxlen=length, padding='post')\n",
    "    return padded\n",
    "\n",
    "def define_model(length, vocab_size):\n",
    "    inputs = Input(shape=(length,))\n",
    "    embedding = Embedding(vocab_size, 100)(inputs)\n",
    "    # channel 1\n",
    "    conv1 = Conv1D(filters=32, kernel_size=4, activation='relu')(embedding)\n",
    "    drop1 = Dropout(0.5)(conv1)\n",
    "    pool1 = MaxPooling1D(pool_size=2)(drop1)\n",
    "    flat1 = Flatten()(pool1)\n",
    "    # channel 2\n",
    "    conv2 = Conv1D(filters=32, kernel_size=6, activation='relu')(embedding)\n",
    "    drop2 = Dropout(0.5)(conv2)\n",
    "    pool2 = MaxPooling1D(pool_size=2)(drop2)\n",
    "    flat2 = Flatten()(pool2)\n",
    "    # channel 3\n",
    "    conv3 = Conv1D(filters=32, kernel_size=8, activation='relu')(embedding)\n",
    "    drop3 = Dropout(0.5)(conv3)\n",
    "    pool3 = MaxPooling1D(pool_size=2)(drop3)\n",
    "    flat3 = Flatten()(pool3)\n",
    "    # merge\n",
    "    merged = concatenate([flat1, flat2, flat3])\n",
    "    # interpretation\n",
    "    dense1 = Dense(10, activation='relu')(merged)\n",
    "    outputs = Dense(1, activation='sigmoid')(dense1)\n",
    "    model = Model(inputs=[inputs], outputs=outputs)\n",
    "    \n",
    "    # compile\n",
    "    model.compile(loss='binary_crossentropy', optimizer='adam', metrics=['accuracy'])\n",
    "    # summarize\n",
    "    print(model.summary())\n",
    "    \n",
    "    #Save the plot of the defined model\n",
    "    tf.keras.utils.plot_model(model, show_shapes = True, to_file='Model1.png')\n",
    "    return model"
   ]
  },
  {
   "cell_type": "code",
   "execution_count": 12,
   "metadata": {},
   "outputs": [
    {
     "name": "stdout",
     "output_type": "stream",
     "text": [
      "Max document length: 783\n",
      "Vocabulary size: 119252\n",
      "(75049, 783) (18763, 783)\n",
      "WARNING:tensorflow:From /Users/ryanchui/opt/anaconda3/lib/python3.7/site-packages/keras/backend/tensorflow_backend.py:4070: The name tf.nn.max_pool is deprecated. Please use tf.nn.max_pool2d instead.\n",
      "\n",
      "WARNING:tensorflow:From /Users/ryanchui/opt/anaconda3/lib/python3.7/site-packages/tensorflow/python/ops/nn_impl.py:180: add_dispatch_support.<locals>.wrapper (from tensorflow.python.ops.array_ops) is deprecated and will be removed in a future version.\n",
      "Instructions for updating:\n",
      "Use tf.where in 2.0, which has the same broadcast rule as np.where\n",
      "Model: \"model_1\"\n",
      "__________________________________________________________________________________________________\n",
      "Layer (type)                    Output Shape         Param #     Connected to                     \n",
      "==================================================================================================\n",
      "input_1 (InputLayer)            (None, 783)          0                                            \n",
      "__________________________________________________________________________________________________\n",
      "embedding_1 (Embedding)         (None, 783, 100)     11925200    input_1[0][0]                    \n",
      "__________________________________________________________________________________________________\n",
      "conv1d_1 (Conv1D)               (None, 780, 32)      12832       embedding_1[0][0]                \n",
      "__________________________________________________________________________________________________\n",
      "conv1d_2 (Conv1D)               (None, 778, 32)      19232       embedding_1[0][0]                \n",
      "__________________________________________________________________________________________________\n",
      "conv1d_3 (Conv1D)               (None, 776, 32)      25632       embedding_1[0][0]                \n",
      "__________________________________________________________________________________________________\n",
      "dropout_1 (Dropout)             (None, 780, 32)      0           conv1d_1[0][0]                   \n",
      "__________________________________________________________________________________________________\n",
      "dropout_2 (Dropout)             (None, 778, 32)      0           conv1d_2[0][0]                   \n",
      "__________________________________________________________________________________________________\n",
      "dropout_3 (Dropout)             (None, 776, 32)      0           conv1d_3[0][0]                   \n",
      "__________________________________________________________________________________________________\n",
      "max_pooling1d_1 (MaxPooling1D)  (None, 390, 32)      0           dropout_1[0][0]                  \n",
      "__________________________________________________________________________________________________\n",
      "max_pooling1d_2 (MaxPooling1D)  (None, 389, 32)      0           dropout_2[0][0]                  \n",
      "__________________________________________________________________________________________________\n",
      "max_pooling1d_3 (MaxPooling1D)  (None, 388, 32)      0           dropout_3[0][0]                  \n",
      "__________________________________________________________________________________________________\n",
      "flatten_1 (Flatten)             (None, 12480)        0           max_pooling1d_1[0][0]            \n",
      "__________________________________________________________________________________________________\n",
      "flatten_2 (Flatten)             (None, 12448)        0           max_pooling1d_2[0][0]            \n",
      "__________________________________________________________________________________________________\n",
      "flatten_3 (Flatten)             (None, 12416)        0           max_pooling1d_3[0][0]            \n",
      "__________________________________________________________________________________________________\n",
      "concatenate_1 (Concatenate)     (None, 37344)        0           flatten_1[0][0]                  \n",
      "                                                                 flatten_2[0][0]                  \n",
      "                                                                 flatten_3[0][0]                  \n",
      "__________________________________________________________________________________________________\n",
      "dense_1 (Dense)                 (None, 10)           373450      concatenate_1[0][0]              \n",
      "__________________________________________________________________________________________________\n",
      "dense_2 (Dense)                 (None, 1)            11          dense_1[0][0]                    \n",
      "==================================================================================================\n",
      "Total params: 12,356,357\n",
      "Trainable params: 12,356,357\n",
      "Non-trainable params: 0\n",
      "__________________________________________________________________________________________________\n",
      "None\n",
      "WARNING:tensorflow:From /Users/ryanchui/opt/anaconda3/lib/python3.7/site-packages/keras/backend/tensorflow_backend.py:422: The name tf.global_variables is deprecated. Please use tf.compat.v1.global_variables instead.\n",
      "\n",
      "Train on 75049 samples, validate on 18763 samples\n",
      "Epoch 1/3\n",
      "75049/75049 [==============================] - 3135s 42ms/step - loss: 0.5665 - accuracy: 0.7285 - val_loss: 0.5524 - val_accuracy: 0.7338\n",
      "Epoch 2/3\n",
      "75049/75049 [==============================] - 5158s 69ms/step - loss: 0.4971 - accuracy: 0.7571 - val_loss: 0.5611 - val_accuracy: 0.7362\n",
      "Epoch 3/3\n",
      "75049/75049 [==============================] - 3782s 50ms/step - loss: 0.3958 - accuracy: 0.8171 - val_loss: 0.6306 - val_accuracy: 0.7084\n"
     ]
    }
   ],
   "source": [
    "from keras.utils.vis_utils import plot_model\n",
    "from keras.layers import Dense, Dropout, Input, GlobalMaxPooling1D, Convolution1D, Embedding,SpatialDropout1D\n",
    "from keras import regularizers\n",
    "from keras.layers.merge import Concatenate\n",
    "\n",
    "length = final_out.l.max()\n",
    "\n",
    "tokenizer = create_tokenizer(final_out['Processed'].values)\n",
    "vocab_size = len(tokenizer.word_index) + 1\n",
    "\n",
    "tokenizer = create_tokenizer(final_out['Processed'].values)\n",
    "\n",
    "length = max_length(final_out['Processed'].values)\n",
    "\n",
    "# calculate vocabulary size\n",
    "vocab_size = len(tokenizer.word_index) + 1\n",
    "print('Max document length: %d' % length)\n",
    "print('Vocabulary size: %d' % vocab_size) \n",
    "\n",
    "y = final_out['Label'].values\n",
    "\n",
    "X = final_out['Processed'].values\n",
    "\n",
    "X_train, X_test, y_train, y_test = train_test_split(X, y, test_size=0.2, random_state = 42)\n",
    "\n",
    "# # encode data\n",
    "trainX = encode_text(tokenizer, X_train, length)\n",
    "testX = encode_text(tokenizer, X_test, length)\n",
    "\n",
    "## Understand the shape before going into training..\n",
    "print(trainX.shape, testX.shape)\n",
    "\n",
    "\n",
    "# define model\n",
    "model = define_model(length, vocab_size)\n",
    "\n",
    "# fit model\n",
    "history = model.fit(trainX, y_train, epochs=3, batch_size=16, validation_data=(testX, y_test))\n"
   ]
  },
  {
   "cell_type": "code",
   "execution_count": 13,
   "metadata": {},
   "outputs": [
    {
     "name": "stdout",
     "output_type": "stream",
     "text": [
      "Training Accuracy: 0.8849\n",
      "Testing Accuracy:  0.7084\n"
     ]
    }
   ],
   "source": [
    "## Evaluate the model\n",
    "loss, accuracy = model.evaluate(trainX, y_train, verbose=False)\n",
    "print(\"Training Accuracy: {:.4f}\".format(accuracy))\n",
    "loss, accuracy = model.evaluate(testX, y_test, verbose=False)\n",
    "print(\"Testing Accuracy:  {:.4f}\".format(accuracy))"
   ]
  },
  {
   "cell_type": "code",
   "execution_count": 14,
   "metadata": {},
   "outputs": [
    {
     "data": {
      "image/png": "[encoded data removed]",
      "text/plain": [
       "<Figure size 432x288 with 1 Axes>"
      ]
     },
     "metadata": {
      "needs_background": "light"
     },
     "output_type": "display_data"
    }
   ],
   "source": [
    "import matplotlib.pyplot as plt\n",
    "\n",
    "# history = model.fit(trainX, y_train, epochs=3, batch_size=32)\n",
    "\n",
    "history_dict = history.history\n",
    "\n",
    "acc = history_dict['accuracy']\n",
    "val_acc = history_dict['val_accuracy']\n",
    "\n",
    "epochs = range(1, len(acc) + 1)\n",
    "\n",
    "# \"bo\" is for \"blue dot\"\n",
    "plt.plot(epochs, acc, 'r', label='Training Accuracy')\n",
    "# b is for \"solid blue line\"\n",
    "plt.plot(epochs, val_acc, 'b', label='Validation Accuracy')\n",
    "plt.title('Training and validation Accuracy')\n",
    "plt.xlabel('Epochs')\n",
    "plt.ylabel('Accuracy')\n",
    "plt.legend()\n",
    "\n",
    "plt.show()"
   ]
  },
  {
   "cell_type": "code",
   "execution_count": 15,
   "metadata": {},
   "outputs": [
    {
     "data": {
      "image/png": "[encoded data removed]",
      "text/plain": [
       "<Figure size 432x288 with 1 Axes>"
      ]
     },
     "metadata": {
      "needs_background": "light"
     },
     "output_type": "display_data"
    },
    {
     "data": {
      "image/png": "[encoded data removed]",
      "text/plain": [
       "<Figure size 432x288 with 1 Axes>"
      ]
     },
     "metadata": {
      "needs_background": "light"
     },
     "output_type": "display_data"
    }
   ],
   "source": [
    "import matplotlib.pyplot as plt\n",
    "\n",
    "plt.plot(history.history['accuracy'])\n",
    "plt.plot(history.history['val_accuracy'])\n",
    "\n",
    "plt.title('Model accuracy')\n",
    "plt.ylabel('accuracy')\n",
    "plt.xlabel('epoch')\n",
    "plt.legend(['Training Accuracy','Validation Accuracy'], loc = 'upper left')\n",
    "plt.show()\n",
    "\n",
    "plt.plot(history.history['loss'])\n",
    "plt.plot(history.history['val_loss'])\n",
    "\n",
    "plt.title('Model loss')\n",
    "plt.ylabel('loss')\n",
    "plt.xlabel('epoch')\n",
    "plt.legend(['Training Accuracy','Validation Accuracy'], loc = 'upper left')\n",
    "plt.show()"
   ]
  },
  {
   "cell_type": "code",
   "execution_count": 18,
   "metadata": {},
   "outputs": [
    {
     "data": {
      "image/png": "[encoded data removed]",
      "text/plain": [
       "<Figure size 432x288 with 2 Axes>"
      ]
     },
     "metadata": {
      "needs_background": "light"
     },
     "output_type": "display_data"
    }
   ],
   "source": [
    "## Same as above for your reference\n",
    "import sys\n",
    "\n",
    "# plot diagnostic learning curves\n",
    "def summarize_diagnostics(history):\n",
    "    plt.subplot(2, 1, 1)\n",
    "    plt.plot(history.history['loss'], color='blue', label='train')\n",
    "    plt.plot(history.history['val_loss'], color='orange', label='test')\n",
    "\n",
    "    plt.xlabel('Epoch')\n",
    "    plt.ylabel('Accuracy')\n",
    "    plt.title('Cross Entropy Loss')\n",
    "    plt.grid(True)\n",
    "    \n",
    "    # plot accuracy\n",
    "    plt.subplot(2, 1, 2)\n",
    "    plt.plot(history.history['accuracy'], color='blue', label='train')\n",
    "    plt.plot(history.history['val_accuracy'], color='orange', label='test')\n",
    "    plt.xlabel('Epoch')\n",
    "    plt.ylabel('Accuracy')\n",
    "    plt.title('Classification Accuracy')\n",
    "    \n",
    "    plt.grid(True)\n",
    "    \n",
    "    plt.tight_layout()\n",
    "    plt.show()\n",
    "    # save plot to file\n",
    "    filename = sys.argv[0].split('/')[-1]\n",
    "    plt.savefig(filename + '_plot.png')\n",
    "    plt.close()\n",
    "    \n",
    "summarize_diagnostics(history)"
   ]
  },
  {
   "cell_type": "code",
   "execution_count": 19,
   "metadata": {},
   "outputs": [],
   "source": [
    "# predict probabilities for test set\n",
    "yhat_probs = model.predict(testX, verbose=0)\n",
    "# predict crisp classes for test set\n",
    "yhat_classes = model.predict(testX, verbose=0)\n",
    "# reduce to 1d array\n",
    "yhat_probs = yhat_probs[:, 0]\n",
    "yhat_classes = yhat_classes[:, 0]\n"
   ]
  },
  {
   "cell_type": "code",
   "execution_count": 20,
   "metadata": {},
   "outputs": [
    {
     "name": "stdout",
     "output_type": "stream",
     "text": [
      "0.3668922880136439\n",
      "0.5\n",
      "0.4232270757123974\n"
     ]
    },
    {
     "name": "stderr",
     "output_type": "stream",
     "text": [
      "/Users/ryanchui/opt/anaconda3/lib/python3.7/site-packages/sklearn/metrics/_classification.py:1272: UndefinedMetricWarning: Precision is ill-defined and being set to 0.0 in labels with no predicted samples. Use `zero_division` parameter to control this behavior.\n",
      "  _warn_prf(average, modifier, msg_start, len(result))\n"
     ]
    }
   ],
   "source": [
    "from sklearn.metrics import f1_score, precision_score, recall_score, confusion_matrix\n",
    "\n",
    "y_pred1 = model.predict(testX)\n",
    "y_pred = np.argmax(y_pred1, axis=1)\n",
    "\n",
    "# Print f1, precision, and recall scores\n",
    "print(precision_score(y_test, y_pred , average=\"macro\"))\n",
    "print(recall_score(y_test, y_pred , average=\"macro\"))\n",
    "print(f1_score(y_test, y_pred , average=\"macro\"))"
   ]
  },
  {
   "cell_type": "code",
   "execution_count": 21,
   "metadata": {},
   "outputs": [
    {
     "name": "stdout",
     "output_type": "stream",
     "text": [
      "              precision    recall  f1-score   support\n",
      "\n",
      "         0.0       0.73      1.00      0.85     13768\n",
      "         1.0       0.00      0.00      0.00      4995\n",
      "\n",
      "    accuracy                           0.73     18763\n",
      "   macro avg       0.37      0.50      0.42     18763\n",
      "weighted avg       0.54      0.73      0.62     18763\n",
      "\n"
     ]
    },
    {
     "name": "stderr",
     "output_type": "stream",
     "text": [
      "/Users/ryanchui/opt/anaconda3/lib/python3.7/site-packages/sklearn/metrics/_classification.py:1272: UndefinedMetricWarning: Precision and F-score are ill-defined and being set to 0.0 in labels with no predicted samples. Use `zero_division` parameter to control this behavior.\n",
      "  _warn_prf(average, modifier, msg_start, len(result))\n"
     ]
    }
   ],
   "source": [
    "## Double Check using classification report\n",
    "\n",
    "from sklearn.metrics import classification_report\n",
    "\n",
    "y_pred1 = model.predict(testX)\n",
    "y_pred_bool = np.argmax(y_pred1, axis=1)\n",
    "\n",
    "print(classification_report(y_test, y_pred_bool))"
   ]
  },
  {
   "cell_type": "code",
   "execution_count": null,
   "metadata": {},
   "outputs": [],
   "source": [
    "#### Done ####\n",
    "### Try second example of CNN ###\n",
    "### First CNN model outperform second model in below ###"
   ]
  },
  {
   "cell_type": "code",
   "execution_count": 67,
   "metadata": {},
   "outputs": [
    {
     "name": "stdout",
     "output_type": "stream",
     "text": [
      "x_train shape: (75049, 783)\n",
      "x_test shape: (18763, 783)\n",
      "y_train shape: (75049, 2)\n",
      "Testy shape: (18763, 2)\n",
      "Train on 67544 samples, validate on 7505 samples\n",
      "Epoch 1/10\n",
      "67544/67544 [==============================] - 44s 644us/step - loss: 0.6285 - accuracy: 0.6558 - val_loss: 0.4917 - val_accuracy: 0.8520\n",
      "Epoch 2/10\n",
      "67544/67544 [==============================] - 51s 761us/step - loss: 0.5897 - accuracy: 0.6881 - val_loss: 0.5781 - val_accuracy: 0.7655\n",
      "Epoch 3/10\n",
      "67544/67544 [==============================] - 43s 642us/step - loss: 0.5491 - accuracy: 0.7228 - val_loss: 0.5521 - val_accuracy: 0.7792\n",
      "Epoch 4/10\n",
      "67544/67544 [==============================] - 50s 747us/step - loss: 0.5044 - accuracy: 0.7568 - val_loss: 0.5821 - val_accuracy: 0.7624\n",
      "Epoch 5/10\n",
      "67544/67544 [==============================] - 46s 687us/step - loss: 0.4643 - accuracy: 0.7827 - val_loss: 0.6258 - val_accuracy: 0.7403\n",
      "Epoch 6/10\n",
      "67544/67544 [==============================] - 37s 547us/step - loss: 0.4350 - accuracy: 0.8023 - val_loss: 0.7897 - val_accuracy: 0.6672\n",
      "Epoch 7/10\n",
      "67544/67544 [==============================] - 43s 639us/step - loss: 0.4101 - accuracy: 0.8172 - val_loss: 0.7434 - val_accuracy: 0.7018\n",
      "Epoch 8/10\n",
      "67544/67544 [==============================] - 3634s 54ms/step - loss: 0.3942 - accuracy: 0.8283 - val_loss: 0.7178 - val_accuracy: 0.7207\n",
      "Epoch 9/10\n",
      "67544/67544 [==============================] - 65s 956us/step - loss: 0.3762 - accuracy: 0.8360 - val_loss: 0.7091 - val_accuracy: 0.7190\n",
      "Epoch 10/10\n",
      "67544/67544 [==============================] - 70s 1ms/step - loss: 0.3654 - accuracy: 0.8439 - val_loss: 0.7866 - val_accuracy: 0.6927\n"
     ]
    }
   ],
   "source": [
    "from sklearn.preprocessing import LabelBinarizer, LabelEncoder\n",
    "from sklearn.metrics import confusion_matrix\n",
    "import tensorflow as tf\n",
    "import numpy as np\n",
    "\n",
    "from tensorflow import keras\n",
    "from keras.models import Sequential\n",
    "from keras.layers import Dense, Activation, Dropout\n",
    "from keras.preprocessing import text, sequence\n",
    "from keras import utils\n",
    "\n",
    "train_size = int(len(final_out) * .8)\n",
    "train_posts = final_out['Processed'][:train_size]\n",
    "train_tags = final_out['Label'][:train_size]\n",
    "\n",
    "test_posts = final_out['Processed'][train_size:]\n",
    "test_tags = final_out['Label'][train_size:]\n",
    "\n",
    "max_words = 783\n",
    "tokenize = text.Tokenizer(num_words=max_words, char_level=False)\n",
    "tokenize.fit_on_texts(train_posts) # only fit on train\n",
    "\n",
    "x_train = tokenize.texts_to_matrix(train_posts)\n",
    "x_test = tokenize.texts_to_matrix(test_posts)\n",
    "\n",
    "encoder = LabelEncoder()\n",
    "encoder.fit(train_tags)\n",
    "y_train = encoder.transform(train_tags)\n",
    "Testy = encoder.transform(test_tags)\n",
    "\n",
    "num_classes = np.max(y_train) + 1\n",
    "y_train = utils.to_categorical(y_train, num_classes)\n",
    "y_test = utils.to_categorical(Testy, num_classes)\n",
    "\n",
    "# Inspect the dimenstions of our training and test data (this is helpful to debug)\n",
    "print('x_train shape:', x_train.shape)\n",
    "print('x_test shape:', x_test.shape)\n",
    "print('y_train shape:', y_train.shape)\n",
    "print('Testy shape:', y_test.shape)\n",
    "\n",
    "batch_size = 32\n",
    "epochs = 10\n",
    "\n",
    "# Build the model\n",
    "model = Sequential()\n",
    "model.add(Dense(512, input_shape=(max_words,)))\n",
    "model.add(Activation('relu'))\n",
    "model.add(Dropout(0.5))\n",
    "model.add(Dense(num_classes))\n",
    "model.add(Activation('softmax'))\n",
    "\n",
    "model.compile(loss='categorical_crossentropy',\n",
    "              optimizer='adam',\n",
    "              metrics=['accuracy'])\n",
    "              \n",
    "history = model.fit(x_train, y_train,\n",
    "                    batch_size=batch_size,\n",
    "                    epochs=epochs,\n",
    "                    verbose=1,\n",
    "                    validation_split=0.1)"
   ]
  },
  {
   "cell_type": "code",
   "execution_count": 68,
   "metadata": {},
   "outputs": [
    {
     "name": "stdout",
     "output_type": "stream",
     "text": [
      "Training Accuracy: 0.8865\n",
      "Testing Accuracy:  0.5763\n"
     ]
    }
   ],
   "source": [
    "## Evaluate the model\n",
    "loss, accuracy = model.evaluate(x_train, y_train, verbose=False)\n",
    "print(\"Training Accuracy: {:.4f}\".format(accuracy))\n",
    "loss, accuracy = model.evaluate(x_test, y_test, verbose=False)\n",
    "print(\"Testing Accuracy:  {:.4f}\".format(accuracy))"
   ]
  },
  {
   "cell_type": "code",
   "execution_count": 69,
   "metadata": {},
   "outputs": [
    {
     "data": {
      "image/png": "[encoded data removed]",
      "text/plain": [
       "<Figure size 432x288 with 1 Axes>"
      ]
     },
     "metadata": {
      "needs_background": "light"
     },
     "output_type": "display_data"
    }
   ],
   "source": [
    "import matplotlib.pyplot as plt\n",
    "\n",
    "history_dict = history.history\n",
    "\n",
    "acc = history_dict['accuracy']\n",
    "val_acc = history_dict['val_accuracy']\n",
    "\n",
    "epochs = range(1, len(acc) + 1)\n",
    "\n",
    "# \"bo\" is for \"blue dot\"\n",
    "plt.plot(epochs, acc, 'r', label='Training Accuracy')\n",
    "# b is for \"solid blue line\"\n",
    "plt.plot(epochs, val_acc, 'b', label='Validation Accuracy')\n",
    "plt.title('Training and validation Accuracy')\n",
    "plt.xlabel('Epochs')\n",
    "plt.ylabel('Accuracy')\n",
    "plt.legend()\n",
    "\n",
    "plt.show()"
   ]
  },
  {
   "cell_type": "code",
   "execution_count": 70,
   "metadata": {},
   "outputs": [
    {
     "name": "stdout",
     "output_type": "stream",
     "text": [
      "              precision    recall  f1-score   support\n",
      "\n",
      "           0       1.00      0.58      0.73     18763\n",
      "           1       0.00      0.00      0.00         0\n",
      "\n",
      "    accuracy                           0.58     18763\n",
      "   macro avg       0.50      0.29      0.37     18763\n",
      "weighted avg       1.00      0.58      0.73     18763\n",
      "\n"
     ]
    },
    {
     "name": "stderr",
     "output_type": "stream",
     "text": [
      "/Users/ryanchui/opt/anaconda3/lib/python3.7/site-packages/sklearn/metrics/_classification.py:1272: UndefinedMetricWarning: Recall and F-score are ill-defined and being set to 0.0 in labels with no true samples. Use `zero_division` parameter to control this behavior.\n",
      "  _warn_prf(average, modifier, msg_start, len(result))\n"
     ]
    }
   ],
   "source": [
    "## Double Check using classification report\n",
    "\n",
    "from sklearn.metrics import classification_report\n",
    "\n",
    "y_pred1 = model.predict(x_test)\n",
    "y_pred_bool = np.argmax(y_pred1, axis=1)\n",
    "\n",
    "print(classification_report(Testy, y_pred_bool))"
   ]
  },
  {
   "cell_type": "code",
   "execution_count": 71,
   "metadata": {},
   "outputs": [
    {
     "data": {
      "image/png": "[encoded data removed]",
      "text/plain": [
       "<Figure size 432x288 with 2 Axes>"
      ]
     },
     "metadata": {
      "needs_background": "light"
     },
     "output_type": "display_data"
    }
   ],
   "source": [
    "import sys\n",
    "# plot diagnostic learning curves\n",
    "def summarize_diagnostics(history):\n",
    "    plt.subplot(2, 1, 1)\n",
    "    plt.plot(history.history['loss'], color='blue', label='train')\n",
    "    plt.plot(history.history['val_loss'], color='orange', label='test')\n",
    "\n",
    "    plt.xlabel('Epoch')\n",
    "    plt.ylabel('Accuracy')\n",
    "    plt.title('Cross Entropy Loss')\n",
    "    plt.grid(True)\n",
    "    \n",
    "    # plot accuracy\n",
    "    plt.subplot(2, 1, 2)\n",
    "    plt.plot(history.history['accuracy'], color='blue', label='train')\n",
    "    plt.plot(history.history['val_accuracy'], color='orange', label='test')\n",
    "    plt.xlabel('Epoch')\n",
    "    plt.ylabel('Accuracy')\n",
    "    plt.title('Classification Accuracy')\n",
    "    \n",
    "    plt.grid(True)\n",
    "    \n",
    "    plt.tight_layout()\n",
    "    plt.show()\n",
    "    # save plot to file\n",
    "    filename = sys.argv[0].split('/')[-1]\n",
    "    plt.savefig(filename + '_plot.png')\n",
    "    plt.close()\n",
    "    \n",
    "summarize_diagnostics(history)"
   ]
  }
 ],
 "metadata": {
  "kernelspec": {
   "display_name": "Python 3",
   "language": "python",
   "name": "python3"
  },
  "language_info": {
   "codemirror_mode": {
    "name": "ipython",
    "version": 3
   },
   "file_extension": ".py",
   "mimetype": "text/x-python",
   "name": "python",
   "nbconvert_exporter": "python",
   "pygments_lexer": "ipython3",
   "version": "3.7.6"
  }
 },
 "nbformat": 4,
 "nbformat_minor": 4
}
