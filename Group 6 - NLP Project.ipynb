{
 "cells": [
  {
   "cell_type": "code",
   "execution_count": 165,
   "metadata": {
    "scrolled": true
   },
   "outputs": [
    {
     "name": "stderr",
     "output_type": "stream",
     "text": [
      "[nltk_data] Downloading package stopwords to\n",
      "[nltk_data]     /Users/ryanchui/nltk_data...\n",
      "[nltk_data]   Package stopwords is already up-to-date!\n"
     ]
    },
    {
     "name": "stdout",
     "output_type": "stream",
     "text": [
      "['Issue_id', 'Duplicated_issue', 'Title1', 'Description1', 'Title2', 'Description2', 'Label']\n"
     ]
    }
   ],
   "source": [
    "###################################################\n",
    "## Arthor : Ryan Chui, Nene, Mayuresh\n",
    "## Term Project: DSCI 644: Software Engineering for Data Science \n",
    "\n",
    "import nltk\n",
    "nltk.download('stopwords')\n",
    "import nltk.corpus\n",
    "import pandas as pd\n",
    "import string\n",
    "import re\n",
    "\n",
    "from nltk.tokenize import word_tokenize\n",
    "from nltk.corpus import stopwords, wordnet\n",
    "from nltk.stem import WordNetLemmatizer\n",
    "import matplotlib.pyplot as plt\n",
    "\n",
    "data_df = pd.read_csv('Duplicate Bug Report/Eclipse/EP_dup.csv')\n",
    "data_df.head()\n",
    "print (list(data_df))\n",
    "\n",
    "data_df['Description1']=data_df['Description1'].fillna('').apply(str)\n",
    "data_df['Description2']=data_df['Description2'].fillna('').apply(str)\n",
    "data_df['Title1']=data_df['Title1'].fillna('').apply(str)\n",
    "data_df['Title2']=data_df['Title2'].fillna('').apply(str)"
   ]
  },
  {
   "cell_type": "code",
   "execution_count": 166,
   "metadata": {},
   "outputs": [
    {
     "name": "stdout",
     "output_type": "stream",
     "text": [
      "['Issue_id', 'Duplicated_issue', 'Title1', 'Description1', 'Title2', 'Description2', 'Label']\n"
     ]
    },
    {
     "data": {
      "text/plain": [
       "0    setup a project that contains a .gif resource ...\n",
       "1    opening repository resource  open the default ...\n",
       "2    kmpm \\tthis pr about the deletion indicator in...\n",
       "3    become synchronized with some project in a rep...\n",
       "4    for gettingsetting the managed state of a reso...\n",
       "5    iresource.setlocal has problems. this method w...\n",
       "6    the platform is able to notify people that a r...\n",
       "7    with the current vcm api a repository adapter ...\n",
       "8    the implementation has to be changed because a...\n",
       "9    repository creationdeletion  team stream creat...\n",
       "Name: Description1, dtype: object"
      ]
     },
     "execution_count": 166,
     "metadata": {},
     "output_type": "execute_result"
    }
   ],
   "source": [
    "nodup_df = pd.read_csv('Duplicate Bug Report/Eclipse/EP_nondup.csv',encoding='cp1252')\n",
    "nodup_df.head()\n",
    "print (list(nodup_df))\n",
    "\n",
    "nodup_df['Description1']=nodup_df['Description1'].fillna('').apply(str)\n",
    "nodup_df['Description2']=nodup_df['Description2'].fillna('').apply(str)\n",
    "nodup_df['Title1']=nodup_df['Title1'].fillna('').apply(str)\n",
    "nodup_df['Title2']=nodup_df['Title2'].fillna('').apply(str)\n",
    "\n",
    "nodup_df['Description1'].head(10)"
   ]
  },
  {
   "cell_type": "code",
   "execution_count": 167,
   "metadata": {},
   "outputs": [],
   "source": [
    "from nltk.corpus import stopwords\n",
    "from nltk.stem import WordNetLemmatizer\n",
    "import re\n",
    "# stop_words = stopwords.words('english')\n",
    "# print(stop_words)"
   ]
  },
  {
   "cell_type": "markdown",
   "metadata": {},
   "source": [
    "### Applying cleaning, tokenization, and Lemmatization method"
   ]
  },
  {
   "cell_type": "code",
   "execution_count": 168,
   "metadata": {},
   "outputs": [],
   "source": [
    "def identify_tokens(row):\n",
    "    review = row['Description1']\n",
    "    tokens = nltk.word_tokenize(review)\n",
    "    token_words = [w for w in tokens if w.isalpha()]\n",
    "    return token_words\n",
    "\n",
    "data_df['Description1_clean'] = data_df.apply(identify_tokens, axis=1)\n",
    "nodup_df['Description1_clean'] = nodup_df.apply(identify_tokens, axis=1)\n",
    "\n",
    "def identify_tokens(row):\n",
    "    review = row['Description2']\n",
    "    tokens = nltk.word_tokenize(review)\n",
    "    token_words = [w for w in tokens if w.isalpha()]\n",
    "    return token_words\n",
    "\n",
    "data_df['Description2_clean'] = data_df.apply(identify_tokens, axis=1)\n",
    "nodup_df['Description2_clean'] = nodup_df.apply(identify_tokens, axis=1)"
   ]
  },
  {
   "cell_type": "code",
   "execution_count": 169,
   "metadata": {},
   "outputs": [],
   "source": [
    "from nltk.corpus import stopwords\n",
    "stops = set(stopwords.words(\"english\"))                  \n",
    "\n",
    "def remove_stops(row):\n",
    "    my_list = row['Description1_clean']\n",
    "    meaningful_words = [w for w in my_list if not w in stops]\n",
    "    return (meaningful_words)\n",
    "\n",
    "data_df['Description1_clean'] = data_df.apply(remove_stops, axis=1)\n",
    "nodup_df['Description1_clean'] = nodup_df.apply(remove_stops, axis=1)\n",
    "\n",
    "def remove_stops(row):\n",
    "    my_list = row['Description2_clean']\n",
    "    meaningful_words = [w for w in my_list if not w in stops]\n",
    "    return (meaningful_words)\n",
    "\n",
    "data_df['Description2_clean'] = data_df.apply(remove_stops, axis=1)\n",
    "nodup_df['Description2_clean'] = nodup_df.apply(remove_stops, axis=1)"
   ]
  },
  {
   "cell_type": "markdown",
   "metadata": {},
   "source": [
    "### Instantiate Stemmer to join the words back together"
   ]
  },
  {
   "cell_type": "code",
   "execution_count": 170,
   "metadata": {},
   "outputs": [],
   "source": [
    "def rejoin_words(row):\n",
    "    my_list = row['Description1_clean']\n",
    "    \n",
    "    # \" \".join() to the function to join the lists of words back together.\n",
    "    joined_words = ( \" \".join(my_list))\n",
    "    \n",
    "    return joined_words\n",
    "\n",
    "data_df['Description1_processed'] = data_df.apply(rejoin_words, axis=1)\n",
    "nodup_df['Description1_processed'] = nodup_df.apply(rejoin_words, axis=1)\n",
    "\n",
    "def rejoin_words(row):\n",
    "    my_list = row['Description2_clean']\n",
    "    \n",
    "    # \" \".join() to the function to join the lists of words back together.\n",
    "    joined_words = ( \" \".join(my_list))\n",
    "    \n",
    "    return joined_words\n",
    "\n",
    "data_df['Description2_processed'] = data_df.apply(rejoin_words, axis=1)\n",
    "nodup_df['Description2_processed'] = nodup_df.apply(rejoin_words, axis=1)\n",
    "\n",
    "data_df.to_csv('EU_DUP_Processed.csv')\n",
    "nodup_df.to_csv('EU_Nondup_Processed.csv')"
   ]
  },
  {
   "cell_type": "code",
   "execution_count": 183,
   "metadata": {},
   "outputs": [
    {
     "data": {
      "text/html": [
       "<div>\n",
       "<style scoped>\n",
       "    .dataframe tbody tr th:only-of-type {\n",
       "        vertical-align: middle;\n",
       "    }\n",
       "\n",
       "    .dataframe tbody tr th {\n",
       "        vertical-align: top;\n",
       "    }\n",
       "\n",
       "    .dataframe thead th {\n",
       "        text-align: right;\n",
       "    }\n",
       "</style>\n",
       "<table border=\"1\" class=\"dataframe\">\n",
       "  <thead>\n",
       "    <tr style=\"text-align: right;\">\n",
       "      <th></th>\n",
       "      <th>Processed</th>\n",
       "      <th>Label</th>\n",
       "    </tr>\n",
       "  </thead>\n",
       "  <tbody>\n",
       "    <tr>\n",
       "      <th>0</th>\n",
       "      <td>would helpful notion default repository connec...</td>\n",
       "      <td>1.0</td>\n",
       "    </tr>\n",
       "    <tr>\n",
       "      <th>1</th>\n",
       "      <td>would like able connect team stream directly a...</td>\n",
       "      <td>1.0</td>\n",
       "    </tr>\n",
       "    <tr>\n",
       "      <th>2</th>\n",
       "      <td>project references come three flavours project...</td>\n",
       "      <td>1.0</td>\n",
       "    </tr>\n",
       "    <tr>\n",
       "      <th>3</th>\n",
       "      <td>useruser install drop declipse user java persp...</td>\n",
       "      <td>1.0</td>\n",
       "    </tr>\n",
       "    <tr>\n",
       "      <th>4</th>\n",
       "      <td>browsing files repositories view try open file...</td>\n",
       "      <td>1.0</td>\n",
       "    </tr>\n",
       "    <tr>\n",
       "      <th>5</th>\n",
       "      <td>need new button repo connection dialog otherwi...</td>\n",
       "      <td>1.0</td>\n",
       "    </tr>\n",
       "    <tr>\n",
       "      <th>6</th>\n",
       "      <td>synchronized released successfully teamstream ...</td>\n",
       "      <td>1.0</td>\n",
       "    </tr>\n",
       "    <tr>\n",
       "      <th>7</th>\n",
       "      <td>unknownhostexception caught host name invalid ...</td>\n",
       "      <td>1.0</td>\n",
       "    </tr>\n",
       "    <tr>\n",
       "      <th>8</th>\n",
       "      <td>inspired mornings server problems add projects...</td>\n",
       "      <td>1.0</td>\n",
       "    </tr>\n",
       "    <tr>\n",
       "      <th>9</th>\n",
       "      <td>comparereplace base version file dirty tell th...</td>\n",
       "      <td>1.0</td>\n",
       "    </tr>\n",
       "    <tr>\n",
       "      <th>10</th>\n",
       "      <td>would nice things got filtered expansion would...</td>\n",
       "      <td>1.0</td>\n",
       "    </tr>\n",
       "    <tr>\n",
       "      <th>11</th>\n",
       "      <td>need tell people must refresh local using exte...</td>\n",
       "      <td>1.0</td>\n",
       "    </tr>\n",
       "    <tr>\n",
       "      <th>12</th>\n",
       "      <td>add large project workspace st time error clos...</td>\n",
       "      <td>1.0</td>\n",
       "    </tr>\n",
       "    <tr>\n",
       "      <th>13</th>\n",
       "      <td>find painfull deal differently local history r...</td>\n",
       "      <td>1.0</td>\n",
       "    </tr>\n",
       "    <tr>\n",
       "      <th>14</th>\n",
       "      <td>circumstances performed local change want rele...</td>\n",
       "      <td>1.0</td>\n",
       "    </tr>\n",
       "  </tbody>\n",
       "</table>\n",
       "</div>"
      ],
      "text/plain": [
       "                                            Processed  Label\n",
       "0   would helpful notion default repository connec...    1.0\n",
       "1   would like able connect team stream directly a...    1.0\n",
       "2   project references come three flavours project...    1.0\n",
       "3   useruser install drop declipse user java persp...    1.0\n",
       "4   browsing files repositories view try open file...    1.0\n",
       "5   need new button repo connection dialog otherwi...    1.0\n",
       "6   synchronized released successfully teamstream ...    1.0\n",
       "7   unknownhostexception caught host name invalid ...    1.0\n",
       "8   inspired mornings server problems add projects...    1.0\n",
       "9   comparereplace base version file dirty tell th...    1.0\n",
       "10  would nice things got filtered expansion would...    1.0\n",
       "11  need tell people must refresh local using exte...    1.0\n",
       "12  add large project workspace st time error clos...    1.0\n",
       "13  find painfull deal differently local history r...    1.0\n",
       "14  circumstances performed local change want rele...    1.0"
      ]
     },
     "execution_count": 183,
     "metadata": {},
     "output_type": "execute_result"
    }
   ],
   "source": [
    "x = data_df.loc[data_df['Label'] == 1, ['Description1_processed', 'Label']]\n",
    "y = data_df.loc[data_df['Label'] == 1, ['Description2_processed', 'Label']]\n",
    "\n",
    "## Relabeling for appending correctly..\n",
    "x.columns = x.columns.str.replace('Description1_processed', 'Processed')\n",
    "y.columns = y.columns.str.replace('Description2_processed', 'Processed')\n",
    "\n",
    "dup_out = x.append(y, ignore_index=True)\n",
    "dup_out\n",
    "\n",
    "# out = x['Description1_processed'].append(y['Description2_processed'], ignore_index=True)\n",
    "# out_2 = x['Label'].append(y['Label'], ignore_index=True)\n",
    "# dup = pd.DataFrame({\n",
    "#     'Processed' : out,\n",
    "#     'Label' : out_2\n",
    "# })\n",
    "\n",
    "m = nodup_df.loc[nodup_df['Label'] == 0, ['Description1_processed', 'Label']]\n",
    "n = nodup_df.loc[nodup_df['Label'] == 0, ['Description2_processed', 'Label']]\n",
    "\n",
    "## Relabeling for appending correctly..\n",
    "m.columns = x.columns.str.replace('Description1_processed', 'Processed')\n",
    "n.columns = y.columns.str.replace('Description2_processed', 'Processed')\n",
    "\n",
    "no_dup_out = m.append(n, ignore_index=True)\n",
    "no_dup_out\n",
    "\n",
    "# out = x['Description1_processed'].append(y['Description2_processed'], ignore_index=True)\n",
    "# out_2 = x['Label'].append(y['Label'], ignore_index=True)\n",
    "# non_dup = pd.DataFrame({\n",
    "#     'Processed' : out,\n",
    "#     'Label' : out_2\n",
    "# })\n",
    "\n",
    "final_out = dup_out.append(no_dup_out, ignore_index=True)\n",
    "final_out.head(15)\n",
    "# final_out.to_csv('Final_df.csv')"
   ]
  },
  {
   "cell_type": "code",
   "execution_count": 172,
   "metadata": {},
   "outputs": [
    {
     "data": {
      "text/plain": [
       "<matplotlib.axes._subplots.AxesSubplot at 0x1a234bb950>"
      ]
     },
     "execution_count": 172,
     "metadata": {},
     "output_type": "execute_result"
    },
    {
     "data": {
      "image/png": "[encoded data removed]",
      "text/plain": [
       "<Figure size 432x288 with 1 Axes>"
      ]
     },
     "metadata": {
      "needs_background": "light"
     },
     "output_type": "display_data"
    }
   ],
   "source": [
    "all_data = pd.concat([data_df, nodup_df])\n",
    "## Simple EDA..\n",
    "all_data['Label'].value_counts().plot(kind = 'bar', title = 'Duplicate vs Non-Duplicate')"
   ]
  },
  {
   "cell_type": "code",
   "execution_count": 173,
   "metadata": {},
   "outputs": [
    {
     "data": {
      "text/plain": [
       "(46910, 11)"
      ]
     },
     "execution_count": 173,
     "metadata": {},
     "output_type": "execute_result"
    }
   ],
   "source": [
    "all_data.shape"
   ]
  },
  {
   "cell_type": "markdown",
   "metadata": {},
   "source": [
    "#### Above suggests that there are 12688 comments are classified as duplicates, and 34222 comments are classified as non-duplicates, and this is generally true when our group verified from 'EU_dup' and 'EU_Nondup' files. Class seem to be inbalance between two classes given by the data. Now,  Consider to drop na values and fix null values before taining. Otherwise, this will give an error.."
   ]
  },
  {
   "cell_type": "code",
   "execution_count": 174,
   "metadata": {},
   "outputs": [],
   "source": [
    "final_out = final_out.dropna(axis=0)\n",
    "final_out.shape\n",
    "final_out.to_csv('final_out.csv')"
   ]
  },
  {
   "cell_type": "code",
   "execution_count": 175,
   "metadata": {},
   "outputs": [],
   "source": [
    "from sklearn.feature_extraction.text import CountVectorizer\n",
    "from sklearn.feature_extraction.text import TfidfTransformer\n",
    "from sklearn.feature_extraction.text import TfidfVectorizer\n",
    "from sklearn.feature_extraction.text import TfidfTransformer\n",
    "from sklearn.linear_model import LogisticRegression\n",
    "from sklearn.pipeline import Pipeline\n",
    "from sklearn.model_selection import train_test_split\n",
    "from sklearn import naive_bayes \n",
    "from sklearn.naive_bayes import MultinomialNB\n",
    "\n",
    "## TF-IDF Vectorizer\n",
    "count_vec = CountVectorizer(binary = False, stop_words = 'english')\n",
    "count_vec.fit(final_out['Processed'])\n",
    "transformed = count_vec.transform(final_out['Processed'])"
   ]
  },
  {
   "cell_type": "code",
   "execution_count": 192,
   "metadata": {},
   "outputs": [
    {
     "name": "stdout",
     "output_type": "stream",
     "text": [
      "Accuracy %s0.7364269471290505\n",
      "              precision    recall  f1-score   support\n",
      "\n",
      "         0.0       0.74      1.00      0.85     20649\n",
      "         1.0       0.64      0.02      0.05      7495\n",
      "\n",
      "    accuracy                           0.74     28144\n",
      "   macro avg       0.69      0.51      0.45     28144\n",
      "weighted avg       0.71      0.74      0.63     28144\n",
      "\n"
     ]
    }
   ],
   "source": [
    "from sklearn.metrics import accuracy_score, confusion_matrix\n",
    "\n",
    "y = final_out['Label']\n",
    "\n",
    "X = final_out['Processed']\n",
    "\n",
    "X_train, X_test, y_train, y_test = train_test_split(X, y, test_size=0.3, random_state = 42)\n",
    "\n",
    "nb = Pipeline([('vect', CountVectorizer()),\n",
    "               ('tfidf', TfidfTransformer()),\n",
    "               ('clf', MultinomialNB()),\n",
    "              ])\n",
    "nb.fit(X_train, y_train)\n",
    "\n",
    "from sklearn.metrics import classification_report\n",
    "y_pred = nb.predict(X_test)\n",
    "\n",
    "print('Accuracy: ' + str(accuracy_score(y_pred, y_test)))\n",
    "print(classification_report(y_test, y_pred))"
   ]
  },
  {
   "cell_type": "markdown",
   "metadata": {},
   "source": [
    "We achieved 74% accuracy."
   ]
  },
  {
   "cell_type": "code",
   "execution_count": 193,
   "metadata": {},
   "outputs": [
    {
     "name": "stdout",
     "output_type": "stream",
     "text": [
      "x_train shape: (75049, 1000)\n",
      "x_test shape: (18763, 1000)\n",
      "y_train shape: (75049, 2)\n",
      "y_test shape: (18763, 2)\n",
      "Train on 67544 samples, validate on 7505 samples\n",
      "Epoch 1/2\n",
      "67544/67544 [==============================] - 45s 661us/step - loss: 0.6254 - accuracy: 0.6593 - val_loss: 0.6073 - val_accuracy: 0.7515\n",
      "Epoch 2/2\n",
      "67544/67544 [==============================] - 46s 682us/step - loss: 0.5824 - accuracy: 0.6956 - val_loss: 0.5562 - val_accuracy: 0.7880\n"
     ]
    }
   ],
   "source": [
    "from sklearn.preprocessing import LabelBinarizer, LabelEncoder\n",
    "from sklearn.metrics import confusion_matrix\n",
    "import tensorflow as tf\n",
    "import numpy as np\n",
    "\n",
    "from tensorflow import keras\n",
    "from keras.models import Sequential\n",
    "from keras.layers import Dense, Activation, Dropout\n",
    "from keras.preprocessing import text, sequence\n",
    "from keras import utils\n",
    "\n",
    "train_size = int(len(final_out) * .8)\n",
    "train_posts = final_out['Processed'][:train_size]\n",
    "train_tags = final_out['Label'][:train_size]\n",
    "\n",
    "test_posts = final_out['Processed'][train_size:]\n",
    "test_tags = final_out['Label'][train_size:]\n",
    "\n",
    "max_words = 1000\n",
    "tokenize = text.Tokenizer(num_words=max_words, char_level=False)\n",
    "tokenize.fit_on_texts(train_posts) # only fit on train\n",
    "\n",
    "x_train = tokenize.texts_to_matrix(train_posts)\n",
    "x_test = tokenize.texts_to_matrix(test_posts)\n",
    "\n",
    "encoder = LabelEncoder()\n",
    "encoder.fit(train_tags)\n",
    "y_train = encoder.transform(train_tags)\n",
    "y_test = encoder.transform(test_tags)\n",
    "\n",
    "num_classes = np.max(y_train) + 1\n",
    "y_train = utils.to_categorical(y_train, num_classes)\n",
    "y_test = utils.to_categorical(y_test, num_classes)\n",
    "\n",
    "# Inspect the dimenstions of our training and test data (this is helpful to debug)\n",
    "print('x_train shape:', x_train.shape)\n",
    "print('x_test shape:', x_test.shape)\n",
    "print('y_train shape:', y_train.shape)\n",
    "print('y_test shape:', y_test.shape)\n",
    "\n",
    "batch_size = 32\n",
    "epochs = 2\n",
    "\n",
    "# Build the model\n",
    "model = Sequential()\n",
    "model.add(Dense(512, input_shape=(max_words,)))\n",
    "model.add(Activation('relu'))\n",
    "model.add(Dropout(0.5))\n",
    "model.add(Dense(num_classes))\n",
    "model.add(Activation('softmax'))\n",
    "\n",
    "model.compile(loss='categorical_crossentropy',\n",
    "              optimizer='adam',\n",
    "              metrics=['accuracy'])\n",
    "              \n",
    "history = model.fit(x_train, y_train,\n",
    "                    batch_size=batch_size,\n",
    "                    epochs=epochs,\n",
    "                    verbose=1,\n",
    "                    validation_split=0.1)"
   ]
  },
  {
   "cell_type": "code",
   "execution_count": 194,
   "metadata": {},
   "outputs": [
    {
     "name": "stdout",
     "output_type": "stream",
     "text": [
      "18763/18763 [==============================] - 2s 91us/step\n",
      "Test score: 0.9677049510388628\n",
      "Test accuracy: 0.6371049284934998\n"
     ]
    }
   ],
   "source": [
    "score = model.evaluate(x_test, y_test,\n",
    "                       batch_size=batch_size, verbose=1)\n",
    "\n",
    "print('Test score:', score[0])\n",
    "print('Test accuracy:', score[1])"
   ]
  },
  {
   "cell_type": "code",
   "execution_count": 198,
   "metadata": {},
   "outputs": [
    {
     "name": "stdout",
     "output_type": "stream",
     "text": [
      "resize name column variables view make smaller vie ...\n",
      "Actual label:0.0\n",
      "Predicted label: 1.0\n",
      "\n",
      "using swt head got crash reproducible playing arou ...\n",
      "Actual label:0.0\n",
      "Predicted label: 1.0\n",
      "\n",
      "appears rght left mode beng gnored n wpf text stll ...\n",
      "Actual label:0.0\n",
      "Predicted label: 0.0\n",
      "\n",
      "launcher toolbar cutoff vsta wpf ...\n",
      "Actual label:0.0\n",
      "Predicted label: 0.0\n",
      "\n",
      "id launch application window click button drop dro ...\n",
      "Actual label:0.0\n",
      "Predicted label: 1.0\n",
      "\n",
      "breakpoint set external source file double click b ...\n",
      "Actual label:0.0\n",
      "Predicted label: 0.0\n",
      "\n",
      "rename type contains anonmyous inner type breakpoi ...\n",
      "Actual label:0.0\n",
      "Predicted label: 0.0\n",
      "\n",
      "usng utf example bug get cheese n console macos ru ...\n",
      "Actual label:0.0\n",
      "Predicted label: 0.0\n",
      "\n",
      "start fresh workbench close intro switch resource  ...\n",
      "Actual label:0.0\n",
      "Predicted label: 0.0\n",
      "\n",
      "run mixedmode launching example worksspace default ...\n",
      "Actual label:0.0\n",
      "Predicted label: 1.0\n",
      "\n"
     ]
    }
   ],
   "source": [
    "# Here's how to generate a prediction on individual examples\n",
    "text_labels = encoder.classes_ \n",
    "\n",
    "for i in range(10):\n",
    "    prediction = model.predict(np.array([x_test[i]]))\n",
    "    predicted_label = text_labels[np.argmax(prediction)]\n",
    "    print(test_posts.iloc[i][:50], \"...\")\n",
    "    print('Actual label:' + str(test_tags.iloc[i]))\n",
    "    print(\"Predicted label: \" + str(predicted_label) + \"\\n\")"
   ]
  },
  {
   "cell_type": "code",
   "execution_count": 185,
   "metadata": {},
   "outputs": [],
   "source": [
    "y_softmax = model.predict(x_test)\n",
    "\n",
    "y_test_1d = []\n",
    "y_pred_1d = []\n",
    "\n",
    "for i in range(len(y_test)):\n",
    "    probs = y_test[i]\n",
    "    index_arr = np.nonzero(probs)\n",
    "    one_hot_index = index_arr[0].item(0)\n",
    "    y_test_1d.append(one_hot_index)\n",
    "\n",
    "for i in range(0, len(y_softmax)):\n",
    "    probs = y_softmax[i]\n",
    "    predicted_index = np.argmax(probs)\n",
    "    y_pred_1d.append(predicted_index)"
   ]
  },
  {
   "cell_type": "code",
   "execution_count": 189,
   "metadata": {},
   "outputs": [],
   "source": [
    "def plot_confusion_matrix(cm, classes,\n",
    "                          title='Confusion matrix',\n",
    "                          cmap=plt.cm.Blues):\n",
    "    \"\"\"\n",
    "    This function prints and plots the confusion matrix.\n",
    "    Normalization can be applied by setting `normalize=True`.\n",
    "    \"\"\"\n",
    "\n",
    "    cm = cm.astype('float') / cm.sum(axis=1)[:, np.newaxis]\n",
    "\n",
    "    plt.imshow(cm, interpolation='nearest', cmap=cmap)\n",
    "    plt.title(title, fontsize=30)\n",
    "    plt.colorbar()\n",
    "    tick_marks = np.arange(len(classes))\n",
    "    plt.xticks(tick_marks, classes, rotation=45, fontsize=22)\n",
    "    plt.yticks(tick_marks, classes, fontsize=22)\n",
    "\n",
    "    fmt = '.2f'\n",
    "    thresh = cm.max() / 2.\n",
    "    for i, j in itertools.product(range(cm.shape[0]), range(cm.shape[1])):\n",
    "        plt.text(j, i, format(cm[i, j], fmt),\n",
    "                 horizontalalignment=\"center\",\n",
    "                 color=\"white\" if cm[i, j] > thresh else \"black\")\n",
    "\n",
    "    plt.ylabel('True label', fontsize=25)\n",
    "    plt.xlabel('Predicted label', fontsize=25)"
   ]
  },
  {
   "cell_type": "code",
   "execution_count": 190,
   "metadata": {},
   "outputs": [
    {
     "name": "stderr",
     "output_type": "stream",
     "text": [
      "/Users/ryanchui/opt/anaconda3/lib/python3.7/site-packages/ipykernel_launcher.py:9: RuntimeWarning: invalid value encountered in true_divide\n",
      "  if __name__ == '__main__':\n"
     ]
    },
    {
     "data": {
      "image/png": "[encoded data removed]",
      "text/plain": [
       "<Figure size 1728x1440 with 2 Axes>"
      ]
     },
     "metadata": {
      "needs_background": "light"
     },
     "output_type": "display_data"
    }
   ],
   "source": [
    "import itertools\n",
    "\n",
    "cnf_matrix = confusion_matrix(y_test_1d, y_pred_1d)\n",
    "plt.figure(figsize=(24,20))\n",
    "plot_confusion_matrix(cnf_matrix, classes=text_labels, title=\"Confusion matrix\")\n",
    "plt.show()"
   ]
  },
  {
   "cell_type": "code",
   "execution_count": null,
   "metadata": {},
   "outputs": [],
   "source": []
  }
 ],
 "metadata": {
  "kernelspec": {
   "display_name": "Python 3",
   "language": "python",
   "name": "python3"
  },
  "language_info": {
   "codemirror_mode": {
    "name": "ipython",
    "version": 3
   },
   "file_extension": ".py",
   "mimetype": "text/x-python",
   "name": "python",
   "nbconvert_exporter": "python",
   "pygments_lexer": "ipython3",
   "version": "3.7.6"
  }
 },
 "nbformat": 4,
 "nbformat_minor": 4
}
